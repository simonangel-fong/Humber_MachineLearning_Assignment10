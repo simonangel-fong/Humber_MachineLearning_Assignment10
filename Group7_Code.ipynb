{
 "cells": [
  {
   "cell_type": "markdown",
   "id": "1000a721-7aa4-4493-82fa-ee4efc6ef876",
   "metadata": {},
   "source": [
    "# Vehicle License Plate Detection usingYOLOv8\n",
    "\n",
    "- ID: N01555914\n",
    "- Name: Wenhao Fang\n",
    "- Group: 07\n",
    "\n",
    "---\n"
   ]
  },
  {
   "cell_type": "markdown",
   "metadata": {},
   "source": [
    "## Data Collection\n",
    "\n",
    "- `simple_image_download` :\n",
    "\n",
    "  - a Python library that allows to search URLs of images from “Google images” using tags, and downloads them to local computer.\n",
    "  - In this Assignment, Version 0.4 will be used for better compatiable.\n",
    "\n",
    "- Command to install `simple_image_download`:\n",
    "\n",
    "```sh\n",
    "pip install simple-image-download==0.4\n",
    "```\n"
   ]
  },
  {
   "cell_type": "code",
   "execution_count": 2,
   "id": "abc1be12",
   "metadata": {},
   "outputs": [],
   "source": [
    "# pip install simple-image-download==0.4\n",
    "# Define downloady_images function\n",
    "from simple_image_download import simple_image_download as simp\n",
    "\n",
    "def download_images(keyword, num_pic):\n",
    "    response = simp.simple_image_download()\n",
    "\n",
    "    for kw in keyword:\n",
    "        response.download(keywords=kw, limit=num_pic)"
   ]
  },
  {
   "cell_type": "code",
   "execution_count": null,
   "metadata": {},
   "outputs": [
    {
     "name": "stderr",
     "output_type": "stream",
     "text": [
      "[========================================================================] 100%\n",
      "[========================================================================] 100%\n",
      "[========================================================================] 100%\n",
      "[========================================================================] 100%\n",
      "[========================================================================] 100%\n",
      "[========================================================================] 100%\n",
      "[========================================================================] 100%\n",
      "[========================================================================] 100%\n",
      "[========================================================================] 100%\n",
      "[========================================================================] 100%\n",
      "[========================================================================] 100%\n",
      "[========================================================================] 100%\n",
      "[========================================================================] 100%\n",
      "[========================================================================] 100%\n",
      "[========================================================================] 100%\n",
      "[========================================================================] 100%\n",
      "[========================================================================] 100%\n",
      "[========================================================================] 100%\n",
      "[========================================================================] 100%\n",
      "[========================================================================] 100%\n",
      "[========================================================================] 100%\n",
      "[========================================================================] 100%\n",
      "[========================================================================] 100%\n",
      "[========================================================================] 100%\n",
      "[========================================================================] 100%\n",
      "[========================================================================] 100%\n",
      "[========================================================================] 100%\n",
      "[========================================================================] 100%\n",
      "[========================================================================] 100%\n",
      "[========================================================================] 100%\n",
      "[========================================================================] 100%\n",
      "[========================================================================] 100%\n",
      "[========================================================================] 100%\n",
      "[========================================================================] 100%\n",
      "[========================================================================] 100%\n",
      "[========================================================================] 100%\n",
      "[========================================================================] 100%\n",
      "[========================================================================] 100%\n",
      "[========================================================================] 100%\n",
      "[========================================================================] 100%\n",
      "[========================================================================] 100%\n",
      "[========================================================================] 100%\n",
      "[========================================================================] 100%\n",
      "[========================================================================] 100%\n",
      "[========================================================================] 100%\n",
      "[========================================================================] 100%\n",
      "[========================================================================] 100%\n",
      "[========================================================================] 100%\n",
      "[========================================================================] 100%\n"
     ]
    }
   ],
   "source": [
    "# Define a list of keywords to download images\n",
    "keywords = [\n",
    "    \"Corvette with license plate\",\n",
    "    \"Volkswagen Beetle with license plate\",\n",
    "    \"Volkswagen Golf with license plate\",\n",
    "    \"Volkswagen Passat with license plate\",\n",
    "    \"Volkswagen Tiguan with license plate\",\n",
    "    \"Toyota Tacoma with license plate\",\n",
    "    \"Toyota Corolla with license plate\",\n",
    "    \"Toyota Highlander with license plate\",\n",
    "    \"Toyota Camry with license plate\",\n",
    "    \"Toyota RAV4 with license plate\",\n",
    "    \"Honda Accord with license plate\",\n",
    "    \"Honda Pilot with license plate\",\n",
    "    \"Honda CR-V with license plate\",\n",
    "    \"Honda Odyssey with license plate\",\n",
    "    \"Honda Passport with license plate\",\n",
    "    \"Honda Civic with license plate\",\n",
    "    \"Honda HR-V with license plate\",\n",
    "    \"BMW with license plate\",\n",
    "    \"Audi Q8 with license plate\",\n",
    "    \"Audi A3 Convertible with license plate\",\n",
    "    \"Audi A5 with license plate\",\n",
    "    \"Audi A4 with license plate\",\n",
    "    \"Audi Q7 with license plate\",\n",
    "    \"Audi A8 with license plate\",\n",
    "    \"Hyundai Kona with license plate\",\n",
    "    \"Hyundai Sonata with license plate\",\n",
    "    \"Hyundai Elantra with license plate\",\n",
    "    \"Hyundai Santa Cruz with license plate\",\n",
    "    \"Hyundai Accent with license plate\",\n",
    "    \"Jeep Gladiator with license plate\",\n",
    "    \"Jeep Grand Cherokee with license plate\",\n",
    "    \"Jeep Avenger with license plate\",\n",
    "    \"Chevrolet Camaro with license plate\",\n",
    "    \"Chevrolet Corvette with license plate\",\n",
    "    \"Chevrolet Malibu with license plate\",\n",
    "    \"Ford F-Series with license plate\",\n",
    "    \"Ford Escort with license plate\",\n",
    "    \"Ford Fiesta with license plate\",\n",
    "    \"Ford Focus with license plate\",\n",
    "    \"Ford Mustang with license plate\",\n",
    "    \"Ford Transit with license plate\",\n",
    "    \"Ford Taurus with license plate\",\n",
    "    \"Ford Explorer with license plate\",\n",
    "    \"Tesla Model Y with license plate\",\n",
    "    \"tesla model 3 with license plate\",\n",
    "    \"tesla model s with license plate\",\n",
    "    \"car with license plate\",\n",
    "    \"vehicle with license plate\",\n",
    "    \"sports car with plate\",\n",
    "]\n",
    "# Define max number of pic to download\n",
    "num_pic = 200\n",
    "\n",
    "# Call function to dowload\n",
    "# download_images(keywords, num_pic)"
   ]
  },
  {
   "cell_type": "markdown",
   "id": "22a166b4",
   "metadata": {},
   "source": [
    "---\n"
   ]
  },
  {
   "cell_type": "markdown",
   "id": "bd0cddb9",
   "metadata": {},
   "source": [
    "## Data Processing\n",
    "\n",
    "### Image Annotation\n",
    "\n",
    "- `LabelImg`\n",
    "\n",
    "  - a **graphical image annotation tool**.\n",
    "  - It is written in Python and uses Qt for its **graphical interface**.\n",
    "  - Annotations are saved as `XML` files in `PASCAL VOC` format, the format used by `ImageNet`. Besides, it also supports `YOLO` and `CreateML` formats.\n",
    "\n",
    "  - Github: https://github.com/HumanSignal/labelImg\n",
    "\n",
    "- Command to install and call programme\n",
    "\n",
    "```sh\n",
    "# Install labelImg library\n",
    "pip install labelImg\n",
    "\n",
    "# call programme\n",
    "labelImg\n",
    "```\n"
   ]
  },
  {
   "cell_type": "markdown",
   "id": "cc061887",
   "metadata": {},
   "source": [
    "---"
   ]
  },
  {
   "cell_type": "markdown",
   "id": "4080395f",
   "metadata": {},
   "source": [
    "## Configure YOLOv8 Environment and Model\n",
    "\n",
    "### Dataset Architecture\n",
    "\n",
    "- Create directory for train and test datasets.\n",
    "- Split images into train and test datasets.\n",
    "- Copy images and annotation files to train and test directories.\n"
   ]
  },
  {
   "cell_type": "code",
   "execution_count": 6,
   "id": "3afd9200",
   "metadata": {},
   "outputs": [],
   "source": [
    "# Define functions for data processing\n",
    "import os\n",
    "import shutil\n",
    "from pathlib import Path\n",
    "from sklearn.model_selection import train_test_split\n",
    "\n",
    "# region Supporting Functions\n",
    "\n",
    "\n",
    "def create_datasets_dir(dir):\n",
    "    '''Create train and test directories'''\n",
    "\n",
    "    if os.path.isdir(dir):\n",
    "        shutil.rmtree(dir)\n",
    "\n",
    "    Path(dir).mkdir(parents=True, exist_ok=True)\n",
    "\n",
    "    train_path = Path(dir, \"train\")\n",
    "    train_image_path = Path(train_path, \"images\")\n",
    "    train_labels_path = Path(train_path, \"labels\")\n",
    "\n",
    "    Path(train_path).mkdir(parents=True, exist_ok=True)\n",
    "    Path(train_image_path).mkdir(parents=True, exist_ok=True)\n",
    "    Path(train_labels_path).mkdir(parents=True, exist_ok=True)\n",
    "\n",
    "    test_path = Path(dir, \"pred\")\n",
    "    test_image_path = Path(test_path, \"images\")\n",
    "    test_labels_path = Path(test_path, \"labels\")\n",
    "\n",
    "    Path(test_path).mkdir(parents=True, exist_ok=True)\n",
    "    Path(test_image_path).mkdir(parents=True, exist_ok=True)\n",
    "    Path(test_labels_path).mkdir(parents=True, exist_ok=True)\n",
    "\n",
    "    test_path = Path(dir, \"val\")\n",
    "    test_image_path = Path(test_path, \"images\")\n",
    "    test_labels_path = Path(test_path, \"labels\")\n",
    "\n",
    "    Path(test_path).mkdir(parents=True, exist_ok=True)\n",
    "    Path(test_image_path).mkdir(parents=True, exist_ok=True)\n",
    "    Path(test_labels_path).mkdir(parents=True, exist_ok=True)\n",
    "\n",
    "\n",
    "def copy_files(source_fn_list, source_path,  target_path):\n",
    "    '''Copy selected file list to destination'''\n",
    "\n",
    "    image_path = Path(target_path, \"images\")\n",
    "    labels_path = Path(target_path, \"labels\")\n",
    "    for fn in source_fn_list:\n",
    "        # if the csv file exists\n",
    "        if Path(source_path, fn+\".txt\").is_file() and Path(source_path, fn+\".jpeg\").is_file():\n",
    "            shutil.copy(Path(source_path, fn+\".jpeg\"), image_path)\n",
    "            shutil.copy(Path(source_path, fn+\".txt\"), labels_path)\n",
    "\n",
    "\n",
    "def report_info(target_path):\n",
    "    '''report files in path'''\n",
    "    report = {\n",
    "        \"images\": {\"path\": Path(target_path, \"images\"), \"count\": 0},\n",
    "        \"labels\": {\"path\": Path(target_path, \"labels\"), \"count\": 0},\n",
    "    }\n",
    "\n",
    "    for file in os.listdir(Path(target_path, \"labels\")):\n",
    "        if file.endswith(\".txt\"):\n",
    "            report['labels'][\"count\"] += 1\n",
    "\n",
    "    for file in os.listdir(Path(target_path, \"images\")):\n",
    "        if file.endswith(\".jpeg\"):\n",
    "            report[\"images\"][\"count\"] += 1\n",
    "\n",
    "    return report\n",
    "\n",
    "\n",
    "def clear_runr_dir(dir):\n",
    "    # Clean left over runs dir\n",
    "    if os.path.isdir(dir):\n",
    "        shutil.rmtree(\"./runs\")\n",
    "\n",
    "# endregion"
   ]
  },
  {
   "cell_type": "code",
   "execution_count": 7,
   "id": "8c80b6f4",
   "metadata": {},
   "outputs": [
    {
     "name": "stdout",
     "output_type": "stream",
     "text": [
      "\n",
      "Report: Train Dataset\n",
      "Images Path: /Users/simon/Documents/Github/ITE-5310-Machine-Learning-Assignment10/datasets/train/images\n",
      "Images Count: 377\n",
      "Label Path: /Users/simon/Documents/Github/ITE-5310-Machine-Learning-Assignment10/datasets/train/labels\n",
      "Labels Count: 377\n",
      "\n",
      "Report: Val Dataset\n",
      "Images Path: /Users/simon/Documents/Github/ITE-5310-Machine-Learning-Assignment10/datasets/val/images\n",
      "Images Count: 84\n",
      "Label Path: /Users/simon/Documents/Github/ITE-5310-Machine-Learning-Assignment10/datasets/val/labels\n",
      "Labels Count: 84\n",
      "\n",
      "Report: Pred Dataset\n",
      "Images Path: /Users/simon/Documents/Github/ITE-5310-Machine-Learning-Assignment10/datasets/pred/images\n",
      "Images Count: 82\n",
      "Label Path: /Users/simon/Documents/Github/ITE-5310-Machine-Learning-Assignment10/datasets/pred/labels\n",
      "Labels Count: 82\n"
     ]
    }
   ],
   "source": [
    "# Define paths\n",
    "from pathlib import Path\n",
    "\n",
    "ROOT_DIR = Path().resolve() # Root path\n",
    "\n",
    "LABEL_IMAGE_PATH = Path(ROOT_DIR, \"data_label_image\")\n",
    "DATASET_PATH = Path(ROOT_DIR, \"datasets\")\n",
    "TRAIN_DS_PATH = Path(DATASET_PATH, \"train\")\n",
    "TEST_DS_PATH = Path(DATASET_PATH, \"pred\")\n",
    "VAL_DS_PATH = Path(DATASET_PATH, \"val\")\n",
    "\n",
    "TEST_SIZE = 0.15 # % of test size\n",
    "VAL_SIZE = 0.15 # % of test size\n",
    "\n",
    "# establish datasets directory\n",
    "create_datasets_dir(DATASET_PATH)\n",
    "\n",
    "# get unique list of file\n",
    "fn_list = os.listdir(LABEL_IMAGE_PATH)\n",
    "fn_unique_list = list(set([\"\".join(fn.split(\".\")[:-1]) for fn in fn_list]))\n",
    "\n",
    "# split train and test dataset\n",
    "fn_train, fn_test = train_test_split(\n",
    "    fn_unique_list, test_size=TEST_SIZE, random_state=42)\n",
    "\n",
    "\n",
    "train_val, fn_test = train_test_split(fn_unique_list, test_size=TEST_SIZE, random_state=42) # test % = 15%\n",
    "\n",
    "fn_train, fn_val = train_test_split(train_val, test_size=TEST_SIZE/(1-TEST_SIZE), random_state=42) # (1-15%) x size = 15%\n",
    "\n",
    "# # clone files to destination\n",
    "copy_files(fn_train, LABEL_IMAGE_PATH,  TRAIN_DS_PATH)\n",
    "copy_files(fn_test, LABEL_IMAGE_PATH,  TEST_DS_PATH)\n",
    "copy_files(fn_val, LABEL_IMAGE_PATH,  VAL_DS_PATH)\n",
    "\n",
    "# train_report\n",
    "train_report = report_info(TRAIN_DS_PATH)\n",
    "print(\n",
    "    f\"\\nReport: Train Dataset\\nImages Path: {train_report['images']['path']}\\nImages Count: {train_report['images']['count']}\\nLabel Path: {train_report['labels']['path']}\\nLabels Count: {train_report['labels']['count']}\")\n",
    "\n",
    "# val_report\n",
    "val_report = report_info(VAL_DS_PATH)\n",
    "print(\n",
    "    f\"\\nReport: Val Dataset\\nImages Path: {val_report['images']['path']}\\nImages Count: {val_report['images']['count']}\\nLabel Path: {val_report['labels']['path']}\\nLabels Count: {val_report['labels']['count']}\")\n",
    "\n",
    "# test_report\n",
    "test_report = report_info(TEST_DS_PATH)\n",
    "print(\n",
    "    f\"\\nReport: Pred Dataset\\nImages Path: {test_report['images']['path']}\\nImages Count: {test_report['images']['count']}\\nLabel Path: {test_report['labels']['path']}\\nLabels Count: {test_report['labels']['count']}\")\n",
    "\n",
    "clear_runr_dir(\"./runs\")\n"
   ]
  },
  {
   "cell_type": "markdown",
   "id": "56c4aa42",
   "metadata": {},
   "source": [
    "---"
   ]
  },
  {
   "cell_type": "markdown",
   "id": "ba4c82de",
   "metadata": {},
   "source": [
    "### YOLO Model Configuration\n",
    "\n",
    "- YAML file in `datasets` directory\n",
    "\n",
    "```yaml\n",
    "names:\n",
    "  0: <label_name>\n",
    "train: <absolute path of train dataset's images>\n",
    "val: <absolute path of val dataset's images>\n",
    "```\n"
   ]
  },
  {
   "cell_type": "code",
   "execution_count": 8,
   "id": "2f3a57b6",
   "metadata": {},
   "outputs": [],
   "source": [
    "import yaml\n",
    "\n",
    "YAML_PATH = \"datasets/config.yaml\"  # path to data file\n",
    "\n",
    "data = dict(\n",
    "    train=Path(TRAIN_DS_PATH, \"images\").absolute().as_posix(),\n",
    "    val=Path(VAL_DS_PATH, \"images\").absolute().as_posix(),\n",
    "    names={0: \"car_plate\"}\n",
    ")\n",
    "\n",
    "with open(YAML_PATH, 'w') as outfile:\n",
    "    yaml.dump(data, outfile, default_flow_style=False)"
   ]
  },
  {
   "cell_type": "markdown",
   "id": "d45449e6",
   "metadata": {},
   "source": [
    "## Train a custom YOLOv8 Detector\n",
    "\n",
    "- Train custom model from scratch.\n"
   ]
  },
  {
   "cell_type": "code",
   "execution_count": 9,
   "id": "92e7553b",
   "metadata": {},
   "outputs": [
    {
     "name": "stdout",
     "output_type": "stream",
     "text": [
      "New https://pypi.org/project/ultralytics/8.0.218 available 😃 Update with 'pip install -U ultralytics'\n",
      "Ultralytics YOLOv8.0.212 🚀 Python-3.11.5 torch-2.1.1 CPU (Apple M2)\n",
      "\u001b[34m\u001b[1mengine/trainer: \u001b[0mtask=detect, mode=train, model=./model/base/yolov8n.pt, data=datasets/config.yaml, epochs=100, patience=50, batch=16, imgsz=640, save=True, save_period=-1, cache=False, device=None, workers=8, project=None, name=train, exist_ok=False, pretrained=True, optimizer=auto, verbose=True, seed=0, deterministic=True, single_cls=False, rect=False, cos_lr=False, close_mosaic=10, resume=False, amp=True, fraction=1.0, profile=False, freeze=None, overlap_mask=True, mask_ratio=4, dropout=0.0, val=True, split=val, save_json=False, save_hybrid=False, conf=None, iou=0.7, max_det=300, half=False, dnn=False, plots=True, source=None, show=False, save_txt=False, save_conf=False, save_crop=False, show_labels=True, show_conf=True, vid_stride=1, stream_buffer=False, line_width=None, visualize=False, augment=False, agnostic_nms=False, classes=None, retina_masks=False, boxes=True, format=torchscript, keras=False, optimize=False, int8=False, dynamic=False, simplify=False, opset=None, workspace=4, nms=False, lr0=0.01, lrf=0.01, momentum=0.937, weight_decay=0.0005, warmup_epochs=3.0, warmup_momentum=0.8, warmup_bias_lr=0.1, box=7.5, cls=0.5, dfl=1.5, pose=12.0, kobj=1.0, label_smoothing=0.0, nbs=64, hsv_h=0.015, hsv_s=0.7, hsv_v=0.4, degrees=0.0, translate=0.1, scale=0.5, shear=0.0, perspective=0.0, flipud=0.0, fliplr=0.5, mosaic=1.0, mixup=0.0, copy_paste=0.0, cfg=None, tracker=botsort.yaml, save_dir=/Users/simon/Documents/Github/ITE-5310-Machine-Learning-Assignment10/runs/detect/train\n",
      "Overriding model.yaml nc=80 with nc=1\n",
      "\n",
      "                   from  n    params  module                                       arguments                     \n",
      "  0                  -1  1       464  ultralytics.nn.modules.conv.Conv             [3, 16, 3, 2]                 \n",
      "  1                  -1  1      4672  ultralytics.nn.modules.conv.Conv             [16, 32, 3, 2]                \n",
      "  2                  -1  1      7360  ultralytics.nn.modules.block.C2f             [32, 32, 1, True]             \n",
      "  3                  -1  1     18560  ultralytics.nn.modules.conv.Conv             [32, 64, 3, 2]                \n",
      "  4                  -1  2     49664  ultralytics.nn.modules.block.C2f             [64, 64, 2, True]             \n",
      "  5                  -1  1     73984  ultralytics.nn.modules.conv.Conv             [64, 128, 3, 2]               \n",
      "  6                  -1  2    197632  ultralytics.nn.modules.block.C2f             [128, 128, 2, True]           \n",
      "  7                  -1  1    295424  ultralytics.nn.modules.conv.Conv             [128, 256, 3, 2]              \n",
      "  8                  -1  1    460288  ultralytics.nn.modules.block.C2f             [256, 256, 1, True]           \n",
      "  9                  -1  1    164608  ultralytics.nn.modules.block.SPPF            [256, 256, 5]                 \n",
      " 10                  -1  1         0  torch.nn.modules.upsampling.Upsample         [None, 2, 'nearest']          \n",
      " 11             [-1, 6]  1         0  ultralytics.nn.modules.conv.Concat           [1]                           \n",
      " 12                  -1  1    148224  ultralytics.nn.modules.block.C2f             [384, 128, 1]                 \n",
      " 13                  -1  1         0  torch.nn.modules.upsampling.Upsample         [None, 2, 'nearest']          \n",
      " 14             [-1, 4]  1         0  ultralytics.nn.modules.conv.Concat           [1]                           \n",
      " 15                  -1  1     37248  ultralytics.nn.modules.block.C2f             [192, 64, 1]                  \n",
      " 16                  -1  1     36992  ultralytics.nn.modules.conv.Conv             [64, 64, 3, 2]                \n",
      " 17            [-1, 12]  1         0  ultralytics.nn.modules.conv.Concat           [1]                           \n",
      " 18                  -1  1    123648  ultralytics.nn.modules.block.C2f             [192, 128, 1]                 \n",
      " 19                  -1  1    147712  ultralytics.nn.modules.conv.Conv             [128, 128, 3, 2]              \n",
      " 20             [-1, 9]  1         0  ultralytics.nn.modules.conv.Concat           [1]                           \n",
      " 21                  -1  1    493056  ultralytics.nn.modules.block.C2f             [384, 256, 1]                 \n",
      " 22        [15, 18, 21]  1    751507  ultralytics.nn.modules.head.Detect           [1, [64, 128, 256]]           \n",
      "Model summary: 225 layers, 3011043 parameters, 3011027 gradients, 8.2 GFLOPs\n",
      "\n",
      "Transferred 319/355 items from pretrained weights\n",
      "Freezing layer 'model.22.dfl.conv.weight'\n"
     ]
    },
    {
     "name": "stderr",
     "output_type": "stream",
     "text": [
      "\u001b[34m\u001b[1mtrain: \u001b[0mScanning /Users/simon/Documents/Github/ITE-5310-Machine-Learning-Assignment10/datasets/train/labels... 377 images, 0 backgrounds, 0 corrupt: 100%|██████████| 377/377 [00:00<00:00, 1570.95it/s]"
     ]
    },
    {
     "name": "stdout",
     "output_type": "stream",
     "text": [
      "\u001b[34m\u001b[1mtrain: \u001b[0mWARNING ⚠️ /Users/simon/Documents/Github/ITE-5310-Machine-Learning-Assignment10/datasets/train/images/Audi A3 Convertible with license plate_18.jpeg: corrupt JPEG restored and saved\n",
      "\u001b[34m\u001b[1mtrain: \u001b[0mWARNING ⚠️ /Users/simon/Documents/Github/ITE-5310-Machine-Learning-Assignment10/datasets/train/images/Audi A3 Convertible with license plate_30.jpeg: corrupt JPEG restored and saved\n",
      "\u001b[34m\u001b[1mtrain: \u001b[0mWARNING ⚠️ /Users/simon/Documents/Github/ITE-5310-Machine-Learning-Assignment10/datasets/train/images/Ford Focus with license plate_15.jpeg: corrupt JPEG restored and saved\n",
      "\u001b[34m\u001b[1mtrain: \u001b[0mNew cache created: /Users/simon/Documents/Github/ITE-5310-Machine-Learning-Assignment10/datasets/train/labels.cache\n"
     ]
    },
    {
     "name": "stderr",
     "output_type": "stream",
     "text": [
      "\n",
      "\u001b[34m\u001b[1mval: \u001b[0mScanning /Users/simon/Documents/Github/ITE-5310-Machine-Learning-Assignment10/datasets/val/labels... 84 images, 0 backgrounds, 0 corrupt: 100%|██████████| 84/84 [00:00<00:00, 5007.98it/s]"
     ]
    },
    {
     "name": "stdout",
     "output_type": "stream",
     "text": [
      "\u001b[34m\u001b[1mval: \u001b[0mNew cache created: /Users/simon/Documents/Github/ITE-5310-Machine-Learning-Assignment10/datasets/val/labels.cache\n"
     ]
    },
    {
     "name": "stderr",
     "output_type": "stream",
     "text": [
      "\n"
     ]
    },
    {
     "name": "stdout",
     "output_type": "stream",
     "text": [
      "Plotting labels to /Users/simon/Documents/Github/ITE-5310-Machine-Learning-Assignment10/runs/detect/train/labels.jpg... \n",
      "\u001b[34m\u001b[1moptimizer:\u001b[0m 'optimizer=auto' found, ignoring 'lr0=0.01' and 'momentum=0.937' and determining best 'optimizer', 'lr0' and 'momentum' automatically... \n",
      "\u001b[34m\u001b[1moptimizer:\u001b[0m AdamW(lr=0.002, momentum=0.9) with parameter groups 57 weight(decay=0.0), 64 weight(decay=0.0005), 63 bias(decay=0.0)\n",
      "Image sizes 640 train, 640 val\n",
      "Using 0 dataloader workers\n",
      "Logging results to \u001b[1m/Users/simon/Documents/Github/ITE-5310-Machine-Learning-Assignment10/runs/detect/train\u001b[0m\n",
      "Starting training for 100 epochs...\n",
      "\n",
      "      Epoch    GPU_mem   box_loss   cls_loss   dfl_loss  Instances       Size\n"
     ]
    },
    {
     "name": "stderr",
     "output_type": "stream",
     "text": [
      "      1/100         0G      1.157      4.209      1.255         24        640:   4%|▍         | 1/24 [00:06<02:29,  6.48s/it]Corrupt JPEG data: premature end of data segment\n",
      "      1/100         0G      1.053      4.013      1.161         27        640:  29%|██▉       | 7/24 [00:42<01:41,  5.97s/it]Corrupt JPEG data: 1 extraneous bytes before marker 0xd9\n",
      "      1/100         0G     0.9194      2.775      1.001         19        640: 100%|██████████| 24/24 [02:23<00:00,  5.99s/it]\n",
      "                 Class     Images  Instances      Box(P          R      mAP50  mAP50-95): 100%|██████████| 3/3 [00:14<00:00,  4.73s/it]"
     ]
    },
    {
     "name": "stdout",
     "output_type": "stream",
     "text": [
      "                   all         84         87    0.00337      0.977      0.308      0.189\n"
     ]
    },
    {
     "name": "stderr",
     "output_type": "stream",
     "text": [
      "\n"
     ]
    },
    {
     "name": "stdout",
     "output_type": "stream",
     "text": [
      "\n",
      "      Epoch    GPU_mem   box_loss   cls_loss   dfl_loss  Instances       Size\n"
     ]
    },
    {
     "name": "stderr",
     "output_type": "stream",
     "text": [
      "      2/100         0G      0.951      1.705     0.9487         23        640:  67%|██████▋   | 16/24 [01:59<00:53,  6.67s/it]Corrupt JPEG data: 1 extraneous bytes before marker 0xd9\n",
      "      2/100         0G     0.9429      1.692     0.9462         27        640:  71%|███████   | 17/24 [02:06<00:46,  6.67s/it]Corrupt JPEG data: premature end of data segment\n",
      "      2/100         0G     0.9538      1.625     0.9597         24        640: 100%|██████████| 24/24 [02:48<00:00,  7.03s/it]\n",
      "                 Class     Images  Instances      Box(P          R      mAP50  mAP50-95): 100%|██████████| 3/3 [00:12<00:00,  4.02s/it]"
     ]
    },
    {
     "name": "stdout",
     "output_type": "stream",
     "text": [
      "                   all         84         87     0.0838      0.471      0.232      0.154\n",
      "\n",
      "      Epoch    GPU_mem   box_loss   cls_loss   dfl_loss  Instances       Size\n"
     ]
    },
    {
     "name": "stderr",
     "output_type": "stream",
     "text": [
      "\n",
      "      3/100         0G     0.9854      1.466      1.003         44        640:  17%|█▋        | 4/24 [00:30<02:35,  7.79s/it]Corrupt JPEG data: 1 extraneous bytes before marker 0xd9\n",
      "Corrupt JPEG data: premature end of data segment\n",
      "      3/100         0G     0.9842      1.437     0.9937         22        640: 100%|██████████| 24/24 [02:38<00:00,  6.61s/it]\n",
      "                 Class     Images  Instances      Box(P          R      mAP50  mAP50-95): 100%|██████████| 3/3 [00:12<00:00,  4.06s/it]"
     ]
    },
    {
     "name": "stdout",
     "output_type": "stream",
     "text": [
      "                   all         84         87      0.958      0.792      0.939      0.677\n"
     ]
    },
    {
     "name": "stderr",
     "output_type": "stream",
     "text": [
      "\n"
     ]
    },
    {
     "name": "stdout",
     "output_type": "stream",
     "text": [
      "\n",
      "      Epoch    GPU_mem   box_loss   cls_loss   dfl_loss  Instances       Size\n"
     ]
    },
    {
     "name": "stderr",
     "output_type": "stream",
     "text": [
      "      4/100         0G     0.9788      1.242     0.9617         22        640:  46%|████▌     | 11/24 [01:16<01:27,  6.73s/it]Corrupt JPEG data: premature end of data segment\n",
      "      4/100         0G     0.9943      1.252     0.9745         23        640:  54%|█████▍    | 13/24 [01:29<01:13,  6.68s/it]Corrupt JPEG data: 1 extraneous bytes before marker 0xd9\n",
      "      4/100         0G      1.029      1.269          1         20        640: 100%|██████████| 24/24 [02:37<00:00,  6.58s/it]\n",
      "                 Class     Images  Instances      Box(P          R      mAP50  mAP50-95): 100%|██████████| 3/3 [00:12<00:00,  4.09s/it]"
     ]
    },
    {
     "name": "stdout",
     "output_type": "stream",
     "text": [
      "                   all         84         87      0.823      0.589      0.702      0.449\n",
      "\n",
      "      Epoch    GPU_mem   box_loss   cls_loss   dfl_loss  Instances       Size\n"
     ]
    },
    {
     "name": "stderr",
     "output_type": "stream",
     "text": [
      "\n",
      "  0%|          | 0/24 [00:00<?, ?it/s]Corrupt JPEG data: 1 extraneous bytes before marker 0xd9\n",
      "      5/100         0G     0.9307       1.17      1.008         31        640:  21%|██        | 5/24 [00:37<02:22,  7.50s/it]Corrupt JPEG data: premature end of data segment\n",
      "      5/100         0G     0.9407      1.177      1.006         13        640: 100%|██████████| 24/24 [02:39<00:00,  6.63s/it]\n",
      "                 Class     Images  Instances      Box(P          R      mAP50  mAP50-95): 100%|██████████| 3/3 [00:12<00:00,  4.09s/it]"
     ]
    },
    {
     "name": "stdout",
     "output_type": "stream",
     "text": [
      "                   all         84         87      0.862      0.649      0.783      0.504\n",
      "\n",
      "      Epoch    GPU_mem   box_loss   cls_loss   dfl_loss  Instances       Size\n"
     ]
    },
    {
     "name": "stderr",
     "output_type": "stream",
     "text": [
      "\n",
      "      6/100         0G      0.952      1.128     0.9836         38        640:  38%|███▊      | 9/24 [01:05<01:46,  7.07s/it]Corrupt JPEG data: 1 extraneous bytes before marker 0xd9\n",
      "Corrupt JPEG data: premature end of data segment\n",
      "      6/100         0G     0.9492      1.082      0.974         11        640: 100%|██████████| 24/24 [02:42<00:00,  6.79s/it]\n",
      "                 Class     Images  Instances      Box(P          R      mAP50  mAP50-95): 100%|██████████| 3/3 [00:12<00:00,  4.13s/it]"
     ]
    },
    {
     "name": "stdout",
     "output_type": "stream",
     "text": [
      "                   all         84         87      0.928      0.816      0.928      0.622\n",
      "\n",
      "      Epoch    GPU_mem   box_loss   cls_loss   dfl_loss  Instances       Size\n"
     ]
    },
    {
     "name": "stderr",
     "output_type": "stream",
     "text": [
      "\n",
      "      7/100         0G     0.9358      1.049     0.9423         27        640:  12%|█▎        | 3/24 [00:23<02:48,  8.04s/it]Corrupt JPEG data: premature end of data segment\n",
      "      7/100         0G     0.9288     0.9982     0.9513         29        640:  58%|█████▊    | 14/24 [01:43<01:09,  6.93s/it]Corrupt JPEG data: 1 extraneous bytes before marker 0xd9\n",
      "      7/100         0G     0.9284     0.9762     0.9656         15        640: 100%|██████████| 24/24 [02:46<00:00,  6.94s/it]\n",
      "                 Class     Images  Instances      Box(P          R      mAP50  mAP50-95): 100%|██████████| 3/3 [00:12<00:00,  4.11s/it]"
     ]
    },
    {
     "name": "stdout",
     "output_type": "stream",
     "text": [
      "                   all         84         87      0.952      0.918      0.968      0.673\n",
      "\n",
      "      Epoch    GPU_mem   box_loss   cls_loss   dfl_loss  Instances       Size\n"
     ]
    },
    {
     "name": "stderr",
     "output_type": "stream",
     "text": [
      "\n",
      "      8/100         0G     0.9071      0.908     0.9538         26        640:  46%|████▌     | 11/24 [01:16<01:25,  6.61s/it]Corrupt JPEG data: 1 extraneous bytes before marker 0xd9\n",
      "      8/100         0G     0.9058     0.9172      0.948         33        640:  62%|██████▎   | 15/24 [01:42<00:58,  6.53s/it]Corrupt JPEG data: premature end of data segment\n",
      "      8/100         0G     0.9028     0.9052     0.9503         17        640: 100%|██████████| 24/24 [02:37<00:00,  6.56s/it]\n",
      "                 Class     Images  Instances      Box(P          R      mAP50  mAP50-95): 100%|██████████| 3/3 [00:12<00:00,  4.09s/it]"
     ]
    },
    {
     "name": "stdout",
     "output_type": "stream",
     "text": [
      "                   all         84         87       0.93      0.897      0.959       0.72\n"
     ]
    },
    {
     "name": "stderr",
     "output_type": "stream",
     "text": [
      "\n"
     ]
    },
    {
     "name": "stdout",
     "output_type": "stream",
     "text": [
      "\n",
      "      Epoch    GPU_mem   box_loss   cls_loss   dfl_loss  Instances       Size\n"
     ]
    },
    {
     "name": "stderr",
     "output_type": "stream",
     "text": [
      "      9/100         0G     0.9334     0.8882     0.9871         29        640:  17%|█▋        | 4/24 [00:29<02:31,  7.56s/it]Corrupt JPEG data: premature end of data segment\n",
      "      9/100         0G     0.8922     0.8381     0.9493         38        640:  75%|███████▌  | 18/24 [02:04<00:39,  6.59s/it]Corrupt JPEG data: 1 extraneous bytes before marker 0xd9\n",
      "      9/100         0G     0.8875     0.8392     0.9602         20        640: 100%|██████████| 24/24 [02:38<00:00,  6.61s/it]\n",
      "                 Class     Images  Instances      Box(P          R      mAP50  mAP50-95): 100%|██████████| 3/3 [00:12<00:00,  4.08s/it]"
     ]
    },
    {
     "name": "stdout",
     "output_type": "stream",
     "text": [
      "                   all         84         87      0.946      0.943       0.98      0.713\n",
      "\n",
      "      Epoch    GPU_mem   box_loss   cls_loss   dfl_loss  Instances       Size\n"
     ]
    },
    {
     "name": "stderr",
     "output_type": "stream",
     "text": [
      "\n",
      "     10/100         0G     0.7467     0.7881     0.9025         38        640:  12%|█▎        | 3/24 [00:23<02:44,  7.81s/it]Corrupt JPEG data: 1 extraneous bytes before marker 0xd9\n",
      "     10/100         0G     0.8342     0.7767     0.9323         27        640:  88%|████████▊ | 21/24 [02:27<00:19,  6.61s/it]Corrupt JPEG data: premature end of data segment\n",
      "     10/100         0G     0.8432     0.7845     0.9372         20        640: 100%|██████████| 24/24 [02:42<00:00,  6.78s/it]\n",
      "                 Class     Images  Instances      Box(P          R      mAP50  mAP50-95): 100%|██████████| 3/3 [00:12<00:00,  4.17s/it]"
     ]
    },
    {
     "name": "stdout",
     "output_type": "stream",
     "text": [
      "                   all         84         87      0.949      0.849      0.955       0.66\n",
      "\n",
      "      Epoch    GPU_mem   box_loss   cls_loss   dfl_loss  Instances       Size\n"
     ]
    },
    {
     "name": "stderr",
     "output_type": "stream",
     "text": [
      "\n",
      "     11/100         0G     0.8877      0.795     0.9472         25        640:  38%|███▊      | 9/24 [01:04<01:43,  6.91s/it]Corrupt JPEG data: premature end of data segment\n",
      "Corrupt JPEG data: 1 extraneous bytes before marker 0xd9\n",
      "     11/100         0G     0.8846     0.7632     0.9595         12        640: 100%|██████████| 24/24 [02:38<00:00,  6.59s/it]\n",
      "                 Class     Images  Instances      Box(P          R      mAP50  mAP50-95): 100%|██████████| 3/3 [00:12<00:00,  4.08s/it]"
     ]
    },
    {
     "name": "stdout",
     "output_type": "stream",
     "text": [
      "                   all         84         87      0.945      0.966      0.984       0.75\n"
     ]
    },
    {
     "name": "stderr",
     "output_type": "stream",
     "text": [
      "\n"
     ]
    },
    {
     "name": "stdout",
     "output_type": "stream",
     "text": [
      "\n",
      "      Epoch    GPU_mem   box_loss   cls_loss   dfl_loss  Instances       Size\n"
     ]
    },
    {
     "name": "stderr",
     "output_type": "stream",
     "text": [
      "     12/100         0G     0.8574     0.7232     0.9428         20        640:  33%|███▎      | 8/24 [00:57<01:51,  6.96s/it]Corrupt JPEG data: premature end of data segment\n",
      "     12/100         0G     0.8825     0.7124     0.9483         30        640:  88%|████████▊ | 21/24 [02:24<00:19,  6.59s/it]Corrupt JPEG data: 1 extraneous bytes before marker 0xd9\n",
      "     12/100         0G     0.8818     0.7115     0.9483         10        640: 100%|██████████| 24/24 [02:39<00:00,  6.63s/it]\n",
      "                 Class     Images  Instances      Box(P          R      mAP50  mAP50-95): 100%|██████████| 3/3 [00:12<00:00,  4.07s/it]"
     ]
    },
    {
     "name": "stdout",
     "output_type": "stream",
     "text": [
      "                   all         84         87      0.952      0.905      0.973      0.734\n",
      "\n",
      "      Epoch    GPU_mem   box_loss   cls_loss   dfl_loss  Instances       Size\n"
     ]
    },
    {
     "name": "stderr",
     "output_type": "stream",
     "text": [
      "\n",
      "     13/100         0G     0.8345       0.67     0.9318         27        640:  88%|████████▊ | 21/24 [02:23<00:20,  6.83s/it]Corrupt JPEG data: premature end of data segment\n",
      "     13/100         0G     0.8296     0.6681     0.9293         29        640:  92%|█████████▏| 22/24 [02:30<00:13,  6.78s/it]Corrupt JPEG data: 1 extraneous bytes before marker 0xd9\n",
      "     13/100         0G      0.829     0.6714     0.9335         17        640: 100%|██████████| 24/24 [02:38<00:00,  6.62s/it]\n",
      "                 Class     Images  Instances      Box(P          R      mAP50  mAP50-95): 100%|██████████| 3/3 [00:12<00:00,  4.15s/it]"
     ]
    },
    {
     "name": "stdout",
     "output_type": "stream",
     "text": [
      "                   all         84         87      0.902      0.955      0.975      0.751\n",
      "\n",
      "      Epoch    GPU_mem   box_loss   cls_loss   dfl_loss  Instances       Size\n"
     ]
    },
    {
     "name": "stderr",
     "output_type": "stream",
     "text": [
      "\n",
      "     14/100         0G     0.7864     0.6322     0.9201         17        640: 100%|██████████| 24/24 [02:54<00:00,  7.26s/it]\n",
      "                 Class     Images  Instances      Box(P          R      mAP50  mAP50-95): 100%|██████████| 3/3 [00:12<00:00,  4.24s/it]"
     ]
    },
    {
     "name": "stdout",
     "output_type": "stream",
     "text": [
      "                   all         84         87      0.941      0.977      0.991      0.764\n"
     ]
    },
    {
     "name": "stderr",
     "output_type": "stream",
     "text": [
      "\n"
     ]
    },
    {
     "name": "stdout",
     "output_type": "stream",
     "text": [
      "\n",
      "      Epoch    GPU_mem   box_loss   cls_loss   dfl_loss  Instances       Size\n"
     ]
    },
    {
     "name": "stderr",
     "output_type": "stream",
     "text": [
      "     15/100         0G     0.7819     0.6559     0.9321         23        640:   8%|▊         | 2/24 [00:13<02:33,  6.96s/it]Corrupt JPEG data: premature end of data segment\n",
      "     15/100         0G     0.8066     0.6493      0.923         35        640:  83%|████████▎ | 20/24 [02:26<00:28,  7.06s/it]Corrupt JPEG data: 1 extraneous bytes before marker 0xd9\n",
      "     15/100         0G     0.8074     0.6575     0.9233         18        640: 100%|██████████| 24/24 [02:48<00:00,  7.04s/it]\n",
      "                 Class     Images  Instances      Box(P          R      mAP50  mAP50-95): 100%|██████████| 3/3 [00:12<00:00,  4.28s/it]"
     ]
    },
    {
     "name": "stdout",
     "output_type": "stream",
     "text": [
      "                   all         84         87      0.976      0.938      0.963      0.701\n",
      "\n",
      "      Epoch    GPU_mem   box_loss   cls_loss   dfl_loss  Instances       Size\n"
     ]
    },
    {
     "name": "stderr",
     "output_type": "stream",
     "text": [
      "\n",
      "     16/100         0G     0.8114     0.6568     0.9103         42        640:  21%|██        | 5/24 [00:40<02:37,  8.30s/it]Corrupt JPEG data: premature end of data segment\n",
      "     16/100         0G     0.8227     0.6495     0.9394         32        640:  67%|██████▋   | 16/24 [02:01<00:58,  7.31s/it]Corrupt JPEG data: 1 extraneous bytes before marker 0xd9\n",
      "     16/100         0G     0.8003     0.6372     0.9289         16        640: 100%|██████████| 24/24 [02:57<00:00,  7.39s/it]\n",
      "                 Class     Images  Instances      Box(P          R      mAP50  mAP50-95): 100%|██████████| 3/3 [00:13<00:00,  4.48s/it]"
     ]
    },
    {
     "name": "stdout",
     "output_type": "stream",
     "text": [
      "                   all         84         87      0.957      0.943      0.987      0.745\n",
      "\n",
      "      Epoch    GPU_mem   box_loss   cls_loss   dfl_loss  Instances       Size\n"
     ]
    },
    {
     "name": "stderr",
     "output_type": "stream",
     "text": [
      "\n",
      "     17/100         0G      0.748     0.5796     0.8942         33        640:  12%|█▎        | 3/24 [00:24<03:00,  8.58s/it]Corrupt JPEG data: 1 extraneous bytes before marker 0xd9\n",
      "     17/100         0G     0.7373     0.5833     0.8886         25        640:  21%|██        | 5/24 [00:45<03:02,  9.63s/it]Corrupt JPEG data: premature end of data segment\n",
      "     17/100         0G     0.7665     0.5892     0.9042         18        640: 100%|██████████| 24/24 [02:59<00:00,  7.48s/it]\n",
      "                 Class     Images  Instances      Box(P          R      mAP50  mAP50-95): 100%|██████████| 3/3 [00:12<00:00,  4.32s/it]"
     ]
    },
    {
     "name": "stdout",
     "output_type": "stream",
     "text": [
      "                   all         84         87      0.939      0.966      0.982      0.735\n"
     ]
    },
    {
     "name": "stderr",
     "output_type": "stream",
     "text": [
      "\n"
     ]
    },
    {
     "name": "stdout",
     "output_type": "stream",
     "text": [
      "\n",
      "      Epoch    GPU_mem   box_loss   cls_loss   dfl_loss  Instances       Size\n"
     ]
    },
    {
     "name": "stderr",
     "output_type": "stream",
     "text": [
      "     18/100         0G     0.7532     0.5734     0.9063         30        640:  75%|███████▌  | 18/24 [02:02<00:40,  6.71s/it]Corrupt JPEG data: premature end of data segment\n",
      "     18/100         0G     0.7519      0.573      0.909         26        640:  83%|████████▎ | 20/24 [02:16<00:26,  6.70s/it]Corrupt JPEG data: 1 extraneous bytes before marker 0xd9\n",
      "     18/100         0G     0.7638     0.5727     0.9099         21        640: 100%|██████████| 24/24 [02:38<00:00,  6.62s/it]\n",
      "                 Class     Images  Instances      Box(P          R      mAP50  mAP50-95): 100%|██████████| 3/3 [00:12<00:00,  4.28s/it]"
     ]
    },
    {
     "name": "stdout",
     "output_type": "stream",
     "text": [
      "                   all         84         87      0.966      0.931      0.988      0.737\n",
      "\n",
      "      Epoch    GPU_mem   box_loss   cls_loss   dfl_loss  Instances       Size\n"
     ]
    },
    {
     "name": "stderr",
     "output_type": "stream",
     "text": [
      "\n",
      "     19/100         0G      0.799      0.595     0.9156         26        640:  54%|█████▍    | 13/24 [01:33<01:14,  6.74s/it]Corrupt JPEG data: 1 extraneous bytes before marker 0xd9\n",
      "     19/100         0G     0.7804     0.5866     0.9212         21        640: 100%|██████████| 24/24 [02:47<00:00,  6.97s/it]\n",
      "                 Class     Images  Instances      Box(P          R      mAP50  mAP50-95): 100%|██████████| 3/3 [00:13<00:00,  4.39s/it]"
     ]
    },
    {
     "name": "stdout",
     "output_type": "stream",
     "text": [
      "                   all         84         87      0.943      0.989       0.99      0.754\n"
     ]
    },
    {
     "name": "stderr",
     "output_type": "stream",
     "text": [
      "\n"
     ]
    },
    {
     "name": "stdout",
     "output_type": "stream",
     "text": [
      "\n",
      "      Epoch    GPU_mem   box_loss   cls_loss   dfl_loss  Instances       Size\n"
     ]
    },
    {
     "name": "stderr",
     "output_type": "stream",
     "text": [
      "     20/100         0G     0.8546     0.5872       1.01         30        640:   8%|▊         | 2/24 [00:14<02:38,  7.21s/it]Corrupt JPEG data: premature end of data segment\n",
      "     20/100         0G      0.793      0.602     0.9463         27        640:  50%|█████     | 12/24 [01:27<01:24,  7.07s/it]Corrupt JPEG data: 1 extraneous bytes before marker 0xd9\n",
      "     20/100         0G     0.7766     0.5955       0.92         20        640: 100%|██████████| 24/24 [02:49<00:00,  7.06s/it]\n",
      "                 Class     Images  Instances      Box(P          R      mAP50  mAP50-95): 100%|██████████| 3/3 [00:12<00:00,  4.27s/it]"
     ]
    },
    {
     "name": "stdout",
     "output_type": "stream",
     "text": [
      "                   all         84         87      0.977      0.975      0.989       0.73\n"
     ]
    },
    {
     "name": "stderr",
     "output_type": "stream",
     "text": [
      "\n"
     ]
    },
    {
     "name": "stdout",
     "output_type": "stream",
     "text": [
      "\n",
      "      Epoch    GPU_mem   box_loss   cls_loss   dfl_loss  Instances       Size\n"
     ]
    },
    {
     "name": "stderr",
     "output_type": "stream",
     "text": [
      "     21/100         0G     0.7428     0.5806     0.9098         18        640:  21%|██        | 5/24 [00:37<02:21,  7.43s/it]Corrupt JPEG data: 1 extraneous bytes before marker 0xd9\n",
      "     21/100         0G     0.7684     0.5699     0.9126         21        640:  62%|██████▎   | 15/24 [01:48<01:04,  7.14s/it]Corrupt JPEG data: premature end of data segment\n",
      "     21/100         0G     0.7869     0.5855     0.9218          9        640: 100%|██████████| 24/24 [02:47<00:00,  6.96s/it]\n",
      "                 Class     Images  Instances      Box(P          R      mAP50  mAP50-95): 100%|██████████| 3/3 [00:12<00:00,  4.12s/it]"
     ]
    },
    {
     "name": "stdout",
     "output_type": "stream",
     "text": [
      "                   all         84         87      0.977      0.874      0.954      0.689\n"
     ]
    },
    {
     "name": "stderr",
     "output_type": "stream",
     "text": [
      "\n"
     ]
    },
    {
     "name": "stdout",
     "output_type": "stream",
     "text": [
      "\n",
      "      Epoch    GPU_mem   box_loss   cls_loss   dfl_loss  Instances       Size\n"
     ]
    },
    {
     "name": "stderr",
     "output_type": "stream",
     "text": [
      "     22/100         0G     0.8042     0.5916      0.927         25        640:  46%|████▌     | 11/24 [01:19<01:31,  7.05s/it]Corrupt JPEG data: 1 extraneous bytes before marker 0xd9\n",
      "     22/100         0G      0.803     0.5885     0.9223         32        640:  54%|█████▍    | 13/24 [01:33<01:15,  6.89s/it]Corrupt JPEG data: premature end of data segment\n",
      "     22/100         0G     0.7904     0.5823     0.9114         15        640: 100%|██████████| 24/24 [02:43<00:00,  6.81s/it]\n",
      "                 Class     Images  Instances      Box(P          R      mAP50  mAP50-95): 100%|██████████| 3/3 [00:12<00:00,  4.26s/it]"
     ]
    },
    {
     "name": "stdout",
     "output_type": "stream",
     "text": [
      "                   all         84         87      0.932      0.952      0.983      0.749\n"
     ]
    },
    {
     "name": "stderr",
     "output_type": "stream",
     "text": [
      "\n"
     ]
    },
    {
     "name": "stdout",
     "output_type": "stream",
     "text": [
      "\n",
      "      Epoch    GPU_mem   box_loss   cls_loss   dfl_loss  Instances       Size\n"
     ]
    },
    {
     "name": "stderr",
     "output_type": "stream",
     "text": [
      "  0%|          | 0/24 [00:00<?, ?it/s]Corrupt JPEG data: 1 extraneous bytes before marker 0xd9\n",
      "     23/100         0G     0.7323      0.544     0.9048         29        640:  42%|████▏     | 10/24 [01:13<01:38,  7.06s/it]Corrupt JPEG data: premature end of data segment\n",
      "     23/100         0G     0.7366     0.5399      0.901         16        640: 100%|██████████| 24/24 [02:45<00:00,  6.88s/it]\n",
      "                 Class     Images  Instances      Box(P          R      mAP50  mAP50-95): 100%|██████████| 3/3 [00:12<00:00,  4.09s/it]"
     ]
    },
    {
     "name": "stdout",
     "output_type": "stream",
     "text": [
      "                   all         84         87      0.988      0.946      0.988      0.803\n"
     ]
    },
    {
     "name": "stderr",
     "output_type": "stream",
     "text": [
      "\n"
     ]
    },
    {
     "name": "stdout",
     "output_type": "stream",
     "text": [
      "\n",
      "      Epoch    GPU_mem   box_loss   cls_loss   dfl_loss  Instances       Size\n"
     ]
    },
    {
     "name": "stderr",
     "output_type": "stream",
     "text": [
      "     24/100         0G     0.7274     0.5668        0.9         27        640:  54%|█████▍    | 13/24 [01:32<01:14,  6.79s/it]Corrupt JPEG data: 1 extraneous bytes before marker 0xd9\n",
      "     24/100         0G     0.7233     0.5608     0.8989         27        640:  58%|█████▊    | 14/24 [01:39<01:08,  6.83s/it]Corrupt JPEG data: premature end of data segment\n",
      "     24/100         0G     0.7218     0.5462     0.8985         18        640: 100%|██████████| 24/24 [02:42<00:00,  6.76s/it]\n",
      "                 Class     Images  Instances      Box(P          R      mAP50  mAP50-95): 100%|██████████| 3/3 [00:12<00:00,  4.05s/it]"
     ]
    },
    {
     "name": "stdout",
     "output_type": "stream",
     "text": [
      "                   all         84         87      0.988      0.974      0.989      0.787\n"
     ]
    },
    {
     "name": "stderr",
     "output_type": "stream",
     "text": [
      "\n"
     ]
    },
    {
     "name": "stdout",
     "output_type": "stream",
     "text": [
      "\n",
      "      Epoch    GPU_mem   box_loss   cls_loss   dfl_loss  Instances       Size\n"
     ]
    },
    {
     "name": "stderr",
     "output_type": "stream",
     "text": [
      "     25/100         0G     0.7142      0.517     0.8661         25        640:  46%|████▌     | 11/24 [01:17<01:27,  6.77s/it]Corrupt JPEG data: 1 extraneous bytes before marker 0xd9\n",
      "     25/100         0G     0.7278     0.5183     0.8792         33        640:  62%|██████▎   | 15/24 [01:43<00:59,  6.66s/it]Corrupt JPEG data: premature end of data segment\n",
      "     25/100         0G     0.7348     0.5152      0.887         13        640: 100%|██████████| 24/24 [02:38<00:00,  6.62s/it]\n",
      "                 Class     Images  Instances      Box(P          R      mAP50  mAP50-95): 100%|██████████| 3/3 [00:12<00:00,  4.06s/it]"
     ]
    },
    {
     "name": "stdout",
     "output_type": "stream",
     "text": [
      "                   all         84         87      0.966      0.974      0.982      0.767\n",
      "\n",
      "      Epoch    GPU_mem   box_loss   cls_loss   dfl_loss  Instances       Size\n"
     ]
    },
    {
     "name": "stderr",
     "output_type": "stream",
     "text": [
      "\n",
      "  0%|          | 0/24 [00:00<?, ?it/s]Corrupt JPEG data: premature end of data segment\n",
      "     26/100         0G     0.7486     0.5522     0.9267         27        640:  29%|██▉       | 7/24 [00:53<02:05,  7.36s/it]Corrupt JPEG data: 1 extraneous bytes before marker 0xd9\n",
      "     26/100         0G     0.7257     0.5338     0.9051         17        640: 100%|██████████| 24/24 [02:47<00:00,  6.97s/it]\n",
      "                 Class     Images  Instances      Box(P          R      mAP50  mAP50-95): 100%|██████████| 3/3 [00:13<00:00,  4.40s/it]"
     ]
    },
    {
     "name": "stdout",
     "output_type": "stream",
     "text": [
      "                   all         84         87      0.975      0.989      0.991      0.753\n",
      "\n",
      "      Epoch    GPU_mem   box_loss   cls_loss   dfl_loss  Instances       Size\n"
     ]
    },
    {
     "name": "stderr",
     "output_type": "stream",
     "text": [
      "\n",
      "     27/100         0G     0.7411     0.5249     0.9367         22        640:   8%|▊         | 2/24 [00:14<02:38,  7.21s/it]Corrupt JPEG data: premature end of data segment\n",
      "     27/100         0G     0.7335     0.5279     0.9193         33        640:  79%|███████▉  | 19/24 [02:14<00:33,  6.68s/it]Corrupt JPEG data: 1 extraneous bytes before marker 0xd9\n",
      "     27/100         0G     0.7407     0.5279      0.916         19        640: 100%|██████████| 24/24 [02:42<00:00,  6.76s/it]\n",
      "                 Class     Images  Instances      Box(P          R      mAP50  mAP50-95): 100%|██████████| 3/3 [00:12<00:00,  4.08s/it]"
     ]
    },
    {
     "name": "stdout",
     "output_type": "stream",
     "text": [
      "                   all         84         87      0.965      0.954      0.975       0.76\n",
      "\n",
      "      Epoch    GPU_mem   box_loss   cls_loss   dfl_loss  Instances       Size\n"
     ]
    },
    {
     "name": "stderr",
     "output_type": "stream",
     "text": [
      "\n",
      "     28/100         0G     0.6951     0.5329     0.8831         30        640:  33%|███▎      | 8/24 [00:56<01:50,  6.89s/it]Corrupt JPEG data: 1 extraneous bytes before marker 0xd9\n",
      "     28/100         0G     0.7105     0.5264     0.8944         32        640:  83%|████████▎ | 20/24 [02:14<00:26,  6.51s/it]Corrupt JPEG data: premature end of data segment\n",
      "     28/100         0G     0.7206     0.5326     0.8993         13        640: 100%|██████████| 24/24 [02:35<00:00,  6.50s/it]\n",
      "                 Class     Images  Instances      Box(P          R      mAP50  mAP50-95): 100%|██████████| 3/3 [00:12<00:00,  4.04s/it]"
     ]
    },
    {
     "name": "stdout",
     "output_type": "stream",
     "text": [
      "                   all         84         87      0.942      0.966      0.954      0.737\n"
     ]
    },
    {
     "name": "stderr",
     "output_type": "stream",
     "text": [
      "\n"
     ]
    },
    {
     "name": "stdout",
     "output_type": "stream",
     "text": [
      "\n",
      "      Epoch    GPU_mem   box_loss   cls_loss   dfl_loss  Instances       Size\n"
     ]
    },
    {
     "name": "stderr",
     "output_type": "stream",
     "text": [
      "     29/100         0G     0.7493     0.5128     0.9137         35        640:  83%|████████▎ | 20/24 [02:06<00:24,  6.13s/it]Corrupt JPEG data: premature end of data segment\n",
      "     29/100         0G     0.7502     0.5087     0.9102         31        640:  96%|█████████▌| 23/24 [02:25<00:06,  6.14s/it]Corrupt JPEG data: 1 extraneous bytes before marker 0xd9\n",
      "     29/100         0G      0.746     0.5073     0.9104         13        640: 100%|██████████| 24/24 [02:27<00:00,  6.14s/it]\n",
      "                 Class     Images  Instances      Box(P          R      mAP50  mAP50-95): 100%|██████████| 3/3 [00:11<00:00,  3.78s/it]"
     ]
    },
    {
     "name": "stdout",
     "output_type": "stream",
     "text": [
      "                   all         84         87      0.943      0.966      0.976      0.773\n",
      "\n",
      "      Epoch    GPU_mem   box_loss   cls_loss   dfl_loss  Instances       Size\n"
     ]
    },
    {
     "name": "stderr",
     "output_type": "stream",
     "text": [
      "\n",
      "     30/100         0G     0.7257     0.4968     0.9054         30        640:  54%|█████▍    | 13/24 [01:23<01:10,  6.37s/it]Corrupt JPEG data: 1 extraneous bytes before marker 0xd9\n",
      "     30/100         0G     0.7269     0.5014     0.9046         14        640: 100%|██████████| 24/24 [02:29<00:00,  6.22s/it]\n",
      "                 Class     Images  Instances      Box(P          R      mAP50  mAP50-95): 100%|██████████| 3/3 [00:11<00:00,  3.93s/it]"
     ]
    },
    {
     "name": "stdout",
     "output_type": "stream",
     "text": [
      "                   all         84         87      0.953      0.977      0.981      0.741\n",
      "\n",
      "      Epoch    GPU_mem   box_loss   cls_loss   dfl_loss  Instances       Size\n"
     ]
    },
    {
     "name": "stderr",
     "output_type": "stream",
     "text": [
      "\n",
      "     31/100         0G     0.7159     0.4869     0.8844         25        640:  17%|█▋        | 4/24 [00:26<02:17,  6.87s/it]Corrupt JPEG data: premature end of data segment\n",
      "     31/100         0G     0.7066     0.4807     0.8836         28        640:  88%|████████▊ | 21/24 [02:13<00:18,  6.24s/it]Corrupt JPEG data: 1 extraneous bytes before marker 0xd9\n",
      "     31/100         0G     0.7054     0.4821     0.8859         14        640: 100%|██████████| 24/24 [02:27<00:00,  6.16s/it]\n",
      "                 Class     Images  Instances      Box(P          R      mAP50  mAP50-95): 100%|██████████| 3/3 [00:11<00:00,  3.80s/it]"
     ]
    },
    {
     "name": "stdout",
     "output_type": "stream",
     "text": [
      "                   all         84         87      0.961      0.966      0.986      0.771\n",
      "\n",
      "      Epoch    GPU_mem   box_loss   cls_loss   dfl_loss  Instances       Size\n"
     ]
    },
    {
     "name": "stderr",
     "output_type": "stream",
     "text": [
      "\n",
      "     32/100         0G     0.7673     0.5107     0.9165         31        640:  12%|█▎        | 3/24 [00:19<02:17,  6.57s/it]Corrupt JPEG data: premature end of data segment\n",
      "     32/100         0G     0.7056     0.4912     0.8909         19        640: 100%|██████████| 24/24 [02:28<00:00,  6.17s/it]\n",
      "                 Class     Images  Instances      Box(P          R      mAP50  mAP50-95): 100%|██████████| 3/3 [00:11<00:00,  3.80s/it]"
     ]
    },
    {
     "name": "stdout",
     "output_type": "stream",
     "text": [
      "                   all         84         87      0.953      0.989      0.983      0.775\n",
      "\n",
      "      Epoch    GPU_mem   box_loss   cls_loss   dfl_loss  Instances       Size\n"
     ]
    },
    {
     "name": "stderr",
     "output_type": "stream",
     "text": [
      "\n",
      "     33/100         0G     0.7238     0.4923     0.9087         22        640:  67%|██████▋   | 16/24 [01:43<00:50,  6.31s/it]Corrupt JPEG data: premature end of data segment\n",
      "     33/100         0G     0.7211     0.4877     0.9025         39        640:  75%|███████▌  | 18/24 [01:55<00:37,  6.28s/it]Corrupt JPEG data: 1 extraneous bytes before marker 0xd9\n",
      "     33/100         0G     0.7085     0.4826     0.9034         13        640: 100%|██████████| 24/24 [02:28<00:00,  6.20s/it]\n",
      "                 Class     Images  Instances      Box(P          R      mAP50  mAP50-95): 100%|██████████| 3/3 [00:11<00:00,  3.80s/it]"
     ]
    },
    {
     "name": "stdout",
     "output_type": "stream",
     "text": [
      "                   all         84         87      0.965      0.959      0.987      0.781\n",
      "\n",
      "      Epoch    GPU_mem   box_loss   cls_loss   dfl_loss  Instances       Size\n"
     ]
    },
    {
     "name": "stderr",
     "output_type": "stream",
     "text": [
      "\n",
      "     34/100         0G      0.642     0.4434      0.868         31        640:  12%|█▎        | 3/24 [00:19<02:17,  6.56s/it]Corrupt JPEG data: 1 extraneous bytes before marker 0xd9\n",
      "     34/100         0G     0.6656     0.4518     0.8559         34        640:  33%|███▎      | 8/24 [00:52<01:45,  6.59s/it]Corrupt JPEG data: premature end of data segment\n",
      "     34/100         0G     0.6718     0.4505      0.873         16        640: 100%|██████████| 24/24 [02:28<00:00,  6.19s/it]\n",
      "                 Class     Images  Instances      Box(P          R      mAP50  mAP50-95): 100%|██████████| 3/3 [00:11<00:00,  3.92s/it]"
     ]
    },
    {
     "name": "stdout",
     "output_type": "stream",
     "text": [
      "                   all         84         87      0.949      0.943      0.984      0.782\n"
     ]
    },
    {
     "name": "stderr",
     "output_type": "stream",
     "text": [
      "\n"
     ]
    },
    {
     "name": "stdout",
     "output_type": "stream",
     "text": [
      "\n",
      "      Epoch    GPU_mem   box_loss   cls_loss   dfl_loss  Instances       Size\n"
     ]
    },
    {
     "name": "stderr",
     "output_type": "stream",
     "text": [
      "     35/100         0G     0.6923       0.48     0.8771         29        640:  33%|███▎      | 8/24 [00:54<01:47,  6.75s/it]Corrupt JPEG data: premature end of data segment\n",
      "     35/100         0G     0.6631     0.4717     0.8797         33        640:  54%|█████▍    | 13/24 [01:25<01:08,  6.25s/it]Corrupt JPEG data: 1 extraneous bytes before marker 0xd9\n",
      "     35/100         0G     0.6785     0.4726     0.8791         20        640: 100%|██████████| 24/24 [02:29<00:00,  6.22s/it]\n",
      "                 Class     Images  Instances      Box(P          R      mAP50  mAP50-95): 100%|██████████| 3/3 [00:11<00:00,  3.82s/it]"
     ]
    },
    {
     "name": "stdout",
     "output_type": "stream",
     "text": [
      "                   all         84         87      0.985      0.977      0.993      0.786\n",
      "\n",
      "      Epoch    GPU_mem   box_loss   cls_loss   dfl_loss  Instances       Size\n"
     ]
    },
    {
     "name": "stderr",
     "output_type": "stream",
     "text": [
      "\n",
      "     36/100         0G     0.7946     0.4814     0.9492         31        640:   4%|▍         | 1/24 [00:06<02:23,  6.24s/it]Corrupt JPEG data: premature end of data segment\n",
      "     36/100         0G     0.7377     0.4946       0.91         33        640:  50%|█████     | 12/24 [01:18<01:15,  6.32s/it]Corrupt JPEG data: 1 extraneous bytes before marker 0xd9\n",
      "     36/100         0G     0.7073     0.4762     0.8925         12        640: 100%|██████████| 24/24 [02:29<00:00,  6.21s/it]\n",
      "                 Class     Images  Instances      Box(P          R      mAP50  mAP50-95): 100%|██████████| 3/3 [00:11<00:00,  3.77s/it]"
     ]
    },
    {
     "name": "stdout",
     "output_type": "stream",
     "text": [
      "                   all         84         87      0.935      0.998      0.988      0.788\n"
     ]
    },
    {
     "name": "stderr",
     "output_type": "stream",
     "text": [
      "\n"
     ]
    },
    {
     "name": "stdout",
     "output_type": "stream",
     "text": [
      "\n",
      "      Epoch    GPU_mem   box_loss   cls_loss   dfl_loss  Instances       Size\n"
     ]
    },
    {
     "name": "stderr",
     "output_type": "stream",
     "text": [
      "     37/100         0G     0.7447     0.4941     0.9002         33        640:  29%|██▉       | 7/24 [00:45<01:50,  6.50s/it]Corrupt JPEG data: 1 extraneous bytes before marker 0xd9\n",
      "     37/100         0G     0.7186     0.4877     0.8975         39        640:  96%|█████████▌| 23/24 [02:25<00:06,  6.13s/it]Corrupt JPEG data: premature end of data segment\n",
      "     37/100         0G     0.7166     0.4854     0.8974         21        640: 100%|██████████| 24/24 [02:27<00:00,  6.16s/it]\n",
      "                 Class     Images  Instances      Box(P          R      mAP50  mAP50-95): 100%|██████████| 3/3 [00:11<00:00,  3.71s/it]"
     ]
    },
    {
     "name": "stdout",
     "output_type": "stream",
     "text": [
      "                   all         84         87      0.968          1      0.994      0.797\n",
      "\n",
      "      Epoch    GPU_mem   box_loss   cls_loss   dfl_loss  Instances       Size\n"
     ]
    },
    {
     "name": "stderr",
     "output_type": "stream",
     "text": [
      "\n",
      "     38/100         0G     0.6341      0.454     0.9031         25        640:   4%|▍         | 1/24 [00:06<02:19,  6.07s/it]Corrupt JPEG data: 1 extraneous bytes before marker 0xd9\n",
      "     38/100         0G      0.685      0.464     0.8795         31        640:  67%|██████▋   | 16/24 [01:39<00:48,  6.03s/it]Corrupt JPEG data: premature end of data segment\n",
      "     38/100         0G     0.6791     0.4591     0.8856         18        640: 100%|██████████| 24/24 [02:23<00:00,  5.98s/it]\n",
      "                 Class     Images  Instances      Box(P          R      mAP50  mAP50-95): 100%|██████████| 3/3 [00:11<00:00,  3.72s/it]"
     ]
    },
    {
     "name": "stdout",
     "output_type": "stream",
     "text": [
      "                   all         84         87      0.956          1      0.992      0.778\n",
      "\n",
      "      Epoch    GPU_mem   box_loss   cls_loss   dfl_loss  Instances       Size\n"
     ]
    },
    {
     "name": "stderr",
     "output_type": "stream",
     "text": [
      "\n",
      "     39/100         0G     0.6434     0.4389     0.8624         29        640:  42%|████▏     | 10/24 [01:04<01:27,  6.24s/it]Corrupt JPEG data: premature end of data segment\n",
      "     39/100         0G     0.6354     0.4393     0.8617         36        640:  62%|██████▎   | 15/24 [01:34<00:55,  6.13s/it]Corrupt JPEG data: 1 extraneous bytes before marker 0xd9\n",
      "     39/100         0G     0.6384     0.4415     0.8606         16        640: 100%|██████████| 24/24 [02:25<00:00,  6.06s/it]\n",
      "                 Class     Images  Instances      Box(P          R      mAP50  mAP50-95): 100%|██████████| 3/3 [00:11<00:00,  3.81s/it]"
     ]
    },
    {
     "name": "stdout",
     "output_type": "stream",
     "text": [
      "                   all         84         87      0.963      0.954      0.989      0.786\n",
      "\n",
      "      Epoch    GPU_mem   box_loss   cls_loss   dfl_loss  Instances       Size\n"
     ]
    },
    {
     "name": "stderr",
     "output_type": "stream",
     "text": [
      "\n",
      "     40/100         0G     0.6923     0.4421     0.8663         42        640:   8%|▊         | 2/24 [00:12<02:16,  6.23s/it]Corrupt JPEG data: premature end of data segment\n",
      "     40/100         0G     0.6506     0.4465     0.8798         30        640:  46%|████▌     | 11/24 [01:09<01:19,  6.15s/it]Corrupt JPEG data: 1 extraneous bytes before marker 0xd9\n",
      "     40/100         0G     0.6599     0.4542     0.8911         17        640: 100%|██████████| 24/24 [02:23<00:00,  5.98s/it]\n",
      "                 Class     Images  Instances      Box(P          R      mAP50  mAP50-95): 100%|██████████| 3/3 [00:11<00:00,  3.68s/it]"
     ]
    },
    {
     "name": "stdout",
     "output_type": "stream",
     "text": [
      "                   all         84         87      0.974      0.977      0.992      0.788\n",
      "\n",
      "      Epoch    GPU_mem   box_loss   cls_loss   dfl_loss  Instances       Size\n"
     ]
    },
    {
     "name": "stderr",
     "output_type": "stream",
     "text": [
      "\n",
      "     41/100         0G      0.654     0.4541     0.8922         32        640:  33%|███▎      | 8/24 [00:50<01:38,  6.15s/it]Corrupt JPEG data: 1 extraneous bytes before marker 0xd9\n",
      "     41/100         0G     0.6414     0.4488     0.8855         31        640:  42%|████▏     | 10/24 [01:02<01:26,  6.16s/it]Corrupt JPEG data: premature end of data segment\n",
      "     41/100         0G     0.6531     0.4597     0.8852         19        640: 100%|██████████| 24/24 [02:22<00:00,  5.94s/it]\n",
      "                 Class     Images  Instances      Box(P          R      mAP50  mAP50-95): 100%|██████████| 3/3 [00:11<00:00,  3.72s/it]"
     ]
    },
    {
     "name": "stdout",
     "output_type": "stream",
     "text": [
      "                   all         84         87      0.977      0.987      0.989      0.788\n",
      "\n",
      "      Epoch    GPU_mem   box_loss   cls_loss   dfl_loss  Instances       Size\n"
     ]
    },
    {
     "name": "stderr",
     "output_type": "stream",
     "text": [
      "\n",
      "     42/100         0G     0.7354     0.4673     0.8556         32        640:   4%|▍         | 1/24 [00:05<02:17,  5.96s/it]Corrupt JPEG data: 1 extraneous bytes before marker 0xd9\n",
      "     42/100         0G     0.6706     0.4515     0.8771         24        640:  71%|███████   | 17/24 [01:44<00:42,  6.03s/it]Corrupt JPEG data: premature end of data segment\n",
      "     42/100         0G      0.666     0.4522     0.8832         19        640: 100%|██████████| 24/24 [02:22<00:00,  5.93s/it]\n",
      "                 Class     Images  Instances      Box(P          R      mAP50  mAP50-95): 100%|██████████| 3/3 [00:11<00:00,  3.69s/it]"
     ]
    },
    {
     "name": "stdout",
     "output_type": "stream",
     "text": [
      "                   all         84         87      0.945      0.986       0.98      0.768\n",
      "\n",
      "      Epoch    GPU_mem   box_loss   cls_loss   dfl_loss  Instances       Size\n"
     ]
    },
    {
     "name": "stderr",
     "output_type": "stream",
     "text": [
      "\n",
      "  0%|          | 0/24 [00:00<?, ?it/s]Corrupt JPEG data: 1 extraneous bytes before marker 0xd9\n",
      "     43/100         0G     0.6384     0.4482     0.8658         39        640:  25%|██▌       | 6/24 [00:38<01:54,  6.37s/it]Corrupt JPEG data: premature end of data segment\n",
      "     43/100         0G     0.6594     0.4543     0.8771         14        640: 100%|██████████| 24/24 [02:22<00:00,  5.94s/it]\n",
      "                 Class     Images  Instances      Box(P          R      mAP50  mAP50-95): 100%|██████████| 3/3 [00:11<00:00,  3.68s/it]"
     ]
    },
    {
     "name": "stdout",
     "output_type": "stream",
     "text": [
      "                   all         84         87      0.945      0.986      0.982      0.796\n",
      "\n",
      "      Epoch    GPU_mem   box_loss   cls_loss   dfl_loss  Instances       Size\n"
     ]
    },
    {
     "name": "stderr",
     "output_type": "stream",
     "text": [
      "\n",
      "     44/100         0G     0.6086     0.4462      0.896         25        640:  17%|█▋        | 4/24 [00:24<02:05,  6.29s/it]Corrupt JPEG data: premature end of data segment\n",
      "     44/100         0G     0.6044     0.4292     0.8785         36        640:  25%|██▌       | 6/24 [00:37<01:53,  6.32s/it]Corrupt JPEG data: 1 extraneous bytes before marker 0xd9\n",
      "     44/100         0G     0.6176     0.4198     0.8646         14        640: 100%|██████████| 24/24 [02:25<00:00,  6.06s/it]\n",
      "                 Class     Images  Instances      Box(P          R      mAP50  mAP50-95): 100%|██████████| 3/3 [00:11<00:00,  3.70s/it]"
     ]
    },
    {
     "name": "stdout",
     "output_type": "stream",
     "text": [
      "                   all         84         87      0.966      0.985      0.989      0.794\n",
      "\n",
      "      Epoch    GPU_mem   box_loss   cls_loss   dfl_loss  Instances       Size\n"
     ]
    },
    {
     "name": "stderr",
     "output_type": "stream",
     "text": [
      "\n",
      "     45/100         0G     0.6074     0.4442     0.8094         29        640:   4%|▍         | 1/24 [00:06<02:19,  6.05s/it]Corrupt JPEG data: 1 extraneous bytes before marker 0xd9\n",
      "     45/100         0G     0.5935     0.4209     0.8481         24        640:  12%|█▎        | 3/24 [00:18<02:11,  6.26s/it]Corrupt JPEG data: premature end of data segment\n",
      "     45/100         0G     0.6425     0.4263      0.871         17        640: 100%|██████████| 24/24 [02:20<00:00,  5.86s/it]\n",
      "                 Class     Images  Instances      Box(P          R      mAP50  mAP50-95): 100%|██████████| 3/3 [00:10<00:00,  3.64s/it]"
     ]
    },
    {
     "name": "stdout",
     "output_type": "stream",
     "text": [
      "                   all         84         87      0.966      0.986      0.992      0.794\n",
      "\n",
      "      Epoch    GPU_mem   box_loss   cls_loss   dfl_loss  Instances       Size\n"
     ]
    },
    {
     "name": "stderr",
     "output_type": "stream",
     "text": [
      "\n",
      "     46/100         0G      0.599     0.4226     0.8599         28        640:  42%|████▏     | 10/24 [01:01<01:25,  6.08s/it]Corrupt JPEG data: 1 extraneous bytes before marker 0xd9\n",
      "     46/100         0G     0.6047     0.4249     0.8613         36        640:  46%|████▌     | 11/24 [01:07<01:18,  6.04s/it]Corrupt JPEG data: premature end of data segment\n",
      "     46/100         0G      0.618     0.4263     0.8802         16        640: 100%|██████████| 24/24 [02:20<00:00,  5.86s/it]\n",
      "                 Class     Images  Instances      Box(P          R      mAP50  mAP50-95): 100%|██████████| 3/3 [00:11<00:00,  3.68s/it]"
     ]
    },
    {
     "name": "stdout",
     "output_type": "stream",
     "text": [
      "                   all         84         87      0.957      0.966      0.991      0.784\n",
      "\n",
      "      Epoch    GPU_mem   box_loss   cls_loss   dfl_loss  Instances       Size\n"
     ]
    },
    {
     "name": "stderr",
     "output_type": "stream",
     "text": [
      "\n",
      "     47/100         0G     0.6648     0.4479     0.9056         35        640:   4%|▍         | 1/24 [00:06<02:21,  6.14s/it]Corrupt JPEG data: 1 extraneous bytes before marker 0xd9\n",
      "     47/100         0G     0.6233     0.4216     0.8711         27        640:  25%|██▌       | 6/24 [00:38<01:54,  6.34s/it]Corrupt JPEG data: premature end of data segment\n",
      "     47/100         0G     0.6347     0.4425     0.8674         18        640: 100%|██████████| 24/24 [02:23<00:00,  5.98s/it]\n",
      "                 Class     Images  Instances      Box(P          R      mAP50  mAP50-95): 100%|██████████| 3/3 [00:11<00:00,  3.71s/it]"
     ]
    },
    {
     "name": "stdout",
     "output_type": "stream",
     "text": [
      "                   all         84         87      0.947      0.966      0.985      0.781\n",
      "\n",
      "      Epoch    GPU_mem   box_loss   cls_loss   dfl_loss  Instances       Size\n"
     ]
    },
    {
     "name": "stderr",
     "output_type": "stream",
     "text": [
      "\n",
      "     48/100         0G     0.6402     0.4282     0.8756         29        640:  71%|███████   | 17/24 [01:42<00:41,  5.92s/it]Corrupt JPEG data: 1 extraneous bytes before marker 0xd9\n",
      "     48/100         0G     0.6423     0.4287      0.878         24        640:  79%|███████▉  | 19/24 [01:54<00:29,  5.93s/it]Corrupt JPEG data: premature end of data segment\n",
      "     48/100         0G      0.637     0.4211     0.8743         21        640: 100%|██████████| 24/24 [02:20<00:00,  5.86s/it]\n",
      "                 Class     Images  Instances      Box(P          R      mAP50  mAP50-95): 100%|██████████| 3/3 [00:11<00:00,  3.70s/it]"
     ]
    },
    {
     "name": "stdout",
     "output_type": "stream",
     "text": [
      "                   all         84         87      0.954      0.952      0.988      0.788\n",
      "\n",
      "      Epoch    GPU_mem   box_loss   cls_loss   dfl_loss  Instances       Size\n"
     ]
    },
    {
     "name": "stderr",
     "output_type": "stream",
     "text": [
      "\n",
      "     49/100         0G     0.6285      0.434     0.8837         36        640:  25%|██▌       | 6/24 [00:38<01:55,  6.40s/it]Corrupt JPEG data: 1 extraneous bytes before marker 0xd9\n",
      "     49/100         0G     0.6285     0.4339     0.8749         26        640:  29%|██▉       | 7/24 [00:44<01:48,  6.39s/it]Corrupt JPEG data: premature end of data segment\n",
      "     49/100         0G      0.634     0.4288     0.8704         10        640: 100%|██████████| 24/24 [02:23<00:00,  5.99s/it]\n",
      "                 Class     Images  Instances      Box(P          R      mAP50  mAP50-95): 100%|██████████| 3/3 [00:11<00:00,  3.73s/it]"
     ]
    },
    {
     "name": "stdout",
     "output_type": "stream",
     "text": [
      "                   all         84         87       0.95      0.977      0.976      0.755\n",
      "\n",
      "      Epoch    GPU_mem   box_loss   cls_loss   dfl_loss  Instances       Size\n"
     ]
    },
    {
     "name": "stderr",
     "output_type": "stream",
     "text": [
      "\n",
      "     50/100         0G     0.6414     0.4688     0.8518         30        640:  21%|██        | 5/24 [00:32<02:04,  6.54s/it]Corrupt JPEG data: 1 extraneous bytes before marker 0xd9\n",
      "     50/100         0G     0.6539     0.4602     0.8646         31        640:  38%|███▊      | 9/24 [00:57<01:35,  6.36s/it]Corrupt JPEG data: premature end of data segment\n",
      "     50/100         0G     0.6148     0.4304     0.8645         18        640: 100%|██████████| 24/24 [02:24<00:00,  6.01s/it]\n",
      "                 Class     Images  Instances      Box(P          R      mAP50  mAP50-95): 100%|██████████| 3/3 [00:10<00:00,  3.66s/it]"
     ]
    },
    {
     "name": "stdout",
     "output_type": "stream",
     "text": [
      "                   all         84         87      0.977      0.976       0.99       0.81\n"
     ]
    },
    {
     "name": "stderr",
     "output_type": "stream",
     "text": [
      "\n"
     ]
    },
    {
     "name": "stdout",
     "output_type": "stream",
     "text": [
      "\n",
      "      Epoch    GPU_mem   box_loss   cls_loss   dfl_loss  Instances       Size\n"
     ]
    },
    {
     "name": "stderr",
     "output_type": "stream",
     "text": [
      "     51/100         0G     0.6464     0.4315     0.8794         34        640:  71%|███████   | 17/24 [01:44<00:42,  6.05s/it]Corrupt JPEG data: 1 extraneous bytes before marker 0xd9\n",
      "     51/100         0G     0.6422     0.4264     0.8816         30        640:  88%|████████▊ | 21/24 [02:08<00:18,  6.13s/it]Corrupt JPEG data: premature end of data segment\n",
      "     51/100         0G     0.6323      0.422     0.8795         18        640: 100%|██████████| 24/24 [02:22<00:00,  5.95s/it]\n",
      "                 Class     Images  Instances      Box(P          R      mAP50  mAP50-95): 100%|██████████| 3/3 [00:11<00:00,  3.68s/it]"
     ]
    },
    {
     "name": "stdout",
     "output_type": "stream",
     "text": [
      "                   all         84         87      0.966      0.989       0.99      0.802\n",
      "\n",
      "      Epoch    GPU_mem   box_loss   cls_loss   dfl_loss  Instances       Size\n"
     ]
    },
    {
     "name": "stderr",
     "output_type": "stream",
     "text": [
      "\n",
      "     52/100         0G      0.597     0.4196     0.8714         23        640:  54%|█████▍    | 13/24 [01:20<01:07,  6.13s/it]Corrupt JPEG data: 1 extraneous bytes before marker 0xd9\n",
      "     52/100         0G      0.597     0.4107     0.8709         18        640: 100%|██████████| 24/24 [02:22<00:00,  5.96s/it]\n",
      "                 Class     Images  Instances      Box(P          R      mAP50  mAP50-95): 100%|██████████| 3/3 [00:10<00:00,  3.66s/it]"
     ]
    },
    {
     "name": "stdout",
     "output_type": "stream",
     "text": [
      "                   all         84         87      0.955      0.987      0.991      0.815\n"
     ]
    },
    {
     "name": "stderr",
     "output_type": "stream",
     "text": [
      "\n"
     ]
    },
    {
     "name": "stdout",
     "output_type": "stream",
     "text": [
      "\n",
      "      Epoch    GPU_mem   box_loss   cls_loss   dfl_loss  Instances       Size\n"
     ]
    },
    {
     "name": "stderr",
     "output_type": "stream",
     "text": [
      "     53/100         0G     0.6238     0.4082      0.875         27        640:  58%|█████▊    | 14/24 [01:26<00:59,  5.99s/it]Corrupt JPEG data: 1 extraneous bytes before marker 0xd9\n",
      "     53/100         0G     0.6122     0.4066       0.87         37        640:  75%|███████▌  | 18/24 [01:50<00:35,  6.00s/it]Corrupt JPEG data: premature end of data segment\n",
      "     53/100         0G      0.597     0.4018     0.8663         24        640: 100%|██████████| 24/24 [02:22<00:00,  5.95s/it]\n",
      "                 Class     Images  Instances      Box(P          R      mAP50  mAP50-95): 100%|██████████| 3/3 [00:11<00:00,  3.76s/it]"
     ]
    },
    {
     "name": "stdout",
     "output_type": "stream",
     "text": [
      "                   all         84         87      0.965      0.977      0.991      0.814\n",
      "\n",
      "      Epoch    GPU_mem   box_loss   cls_loss   dfl_loss  Instances       Size\n"
     ]
    },
    {
     "name": "stderr",
     "output_type": "stream",
     "text": [
      "\n",
      "     54/100         0G     0.5914     0.4013     0.8603         28        640:  54%|█████▍    | 13/24 [01:19<01:06,  6.05s/it]Corrupt JPEG data: 1 extraneous bytes before marker 0xd9\n",
      "     54/100         0G     0.5718     0.3944      0.848         35        640:  92%|█████████▏| 22/24 [02:13<00:11,  5.98s/it]Corrupt JPEG data: premature end of data segment\n",
      "     54/100         0G     0.5696     0.3923     0.8461         19        640: 100%|██████████| 24/24 [02:21<00:00,  5.89s/it]\n",
      "                 Class     Images  Instances      Box(P          R      mAP50  mAP50-95): 100%|██████████| 3/3 [00:11<00:00,  3.68s/it]"
     ]
    },
    {
     "name": "stdout",
     "output_type": "stream",
     "text": [
      "                   all         84         87      0.977      0.984      0.992      0.821\n"
     ]
    },
    {
     "name": "stderr",
     "output_type": "stream",
     "text": [
      "\n"
     ]
    },
    {
     "name": "stdout",
     "output_type": "stream",
     "text": [
      "\n",
      "      Epoch    GPU_mem   box_loss   cls_loss   dfl_loss  Instances       Size\n"
     ]
    },
    {
     "name": "stderr",
     "output_type": "stream",
     "text": [
      "     55/100         0G     0.6723     0.4254     0.8718         27        640:  21%|██        | 5/24 [00:31<02:03,  6.49s/it]Corrupt JPEG data: 1 extraneous bytes before marker 0xd9\n",
      "     55/100         0G     0.6222     0.4053     0.8607         28        640:  42%|████▏     | 10/24 [01:02<01:26,  6.15s/it]Corrupt JPEG data: premature end of data segment\n",
      "     55/100         0G      0.587     0.3923     0.8536         17        640: 100%|██████████| 24/24 [02:22<00:00,  5.96s/it]\n",
      "                 Class     Images  Instances      Box(P          R      mAP50  mAP50-95): 100%|██████████| 3/3 [00:11<00:00,  3.68s/it]"
     ]
    },
    {
     "name": "stdout",
     "output_type": "stream",
     "text": [
      "                   all         84         87      0.975      0.977      0.991      0.817\n",
      "\n",
      "      Epoch    GPU_mem   box_loss   cls_loss   dfl_loss  Instances       Size\n"
     ]
    },
    {
     "name": "stderr",
     "output_type": "stream",
     "text": [
      "\n",
      "     56/100         0G     0.6093     0.4136     0.8483         30        640:  50%|█████     | 12/24 [01:13<01:11,  5.94s/it]Corrupt JPEG data: premature end of data segment\n",
      "     56/100         0G     0.6065     0.4075     0.8514         21        640:  83%|████████▎ | 20/24 [02:00<00:23,  5.97s/it]Corrupt JPEG data: 1 extraneous bytes before marker 0xd9\n",
      "     56/100         0G     0.6166     0.4041     0.8513         21        640: 100%|██████████| 24/24 [02:20<00:00,  5.86s/it]\n",
      "                 Class     Images  Instances      Box(P          R      mAP50  mAP50-95): 100%|██████████| 3/3 [00:10<00:00,  3.65s/it]"
     ]
    },
    {
     "name": "stdout",
     "output_type": "stream",
     "text": [
      "                   all         84         87      0.977      0.988      0.994      0.803\n",
      "\n",
      "      Epoch    GPU_mem   box_loss   cls_loss   dfl_loss  Instances       Size\n"
     ]
    },
    {
     "name": "stderr",
     "output_type": "stream",
     "text": [
      "\n",
      "     57/100         0G     0.5919     0.3939     0.8665         37        640:  54%|█████▍    | 13/24 [01:21<01:07,  6.14s/it]Corrupt JPEG data: 1 extraneous bytes before marker 0xd9\n",
      "     57/100         0G     0.5837     0.3909     0.8585         32        640:  62%|██████▎   | 15/24 [01:33<00:55,  6.12s/it]Corrupt JPEG data: premature end of data segment\n",
      "     57/100         0G     0.5912     0.3969     0.8671         11        640: 100%|██████████| 24/24 [02:23<00:00,  5.96s/it]\n",
      "                 Class     Images  Instances      Box(P          R      mAP50  mAP50-95): 100%|██████████| 3/3 [00:10<00:00,  3.65s/it]"
     ]
    },
    {
     "name": "stdout",
     "output_type": "stream",
     "text": [
      "                   all         84         87      0.967      0.997      0.994       0.83\n"
     ]
    },
    {
     "name": "stderr",
     "output_type": "stream",
     "text": [
      "\n"
     ]
    },
    {
     "name": "stdout",
     "output_type": "stream",
     "text": [
      "\n",
      "      Epoch    GPU_mem   box_loss   cls_loss   dfl_loss  Instances       Size\n"
     ]
    },
    {
     "name": "stderr",
     "output_type": "stream",
     "text": [
      "     58/100         0G     0.5031     0.3482     0.8647         26        640:   4%|▍         | 1/24 [00:06<02:18,  6.01s/it]Corrupt JPEG data: 1 extraneous bytes before marker 0xd9\n",
      "     58/100         0G     0.5583     0.3684     0.8462         33        640:  50%|█████     | 12/24 [01:14<01:14,  6.21s/it]Corrupt JPEG data: premature end of data segment\n",
      "     58/100         0G     0.5629      0.376     0.8497         22        640: 100%|██████████| 24/24 [02:22<00:00,  5.92s/it]\n",
      "                 Class     Images  Instances      Box(P          R      mAP50  mAP50-95): 100%|██████████| 3/3 [00:10<00:00,  3.66s/it]"
     ]
    },
    {
     "name": "stdout",
     "output_type": "stream",
     "text": [
      "                   all         84         87      0.977      0.985      0.994      0.798\n",
      "\n",
      "      Epoch    GPU_mem   box_loss   cls_loss   dfl_loss  Instances       Size\n"
     ]
    },
    {
     "name": "stderr",
     "output_type": "stream",
     "text": [
      "\n",
      "     59/100         0G     0.5555     0.3789     0.8367         25        640:  33%|███▎      | 8/24 [00:50<01:39,  6.23s/it]Corrupt JPEG data: 1 extraneous bytes before marker 0xd9\n",
      "     59/100         0G      0.565     0.3823     0.8459         18        640:  46%|████▌     | 11/24 [01:08<01:18,  6.07s/it]Corrupt JPEG data: premature end of data segment\n",
      "     59/100         0G     0.5623     0.3841     0.8546         17        640: 100%|██████████| 24/24 [02:21<00:00,  5.90s/it]\n",
      "                 Class     Images  Instances      Box(P          R      mAP50  mAP50-95): 100%|██████████| 3/3 [00:11<00:00,  3.69s/it]"
     ]
    },
    {
     "name": "stdout",
     "output_type": "stream",
     "text": [
      "                   all         84         87      0.966          1      0.994      0.792\n",
      "\n",
      "      Epoch    GPU_mem   box_loss   cls_loss   dfl_loss  Instances       Size\n"
     ]
    },
    {
     "name": "stderr",
     "output_type": "stream",
     "text": [
      "\n",
      "     60/100         0G      0.551     0.3777     0.8546         29        640:  58%|█████▊    | 14/24 [01:25<00:59,  6.00s/it]Corrupt JPEG data: premature end of data segment\n",
      "     60/100         0G     0.5493     0.3752     0.8536         29        640:  71%|███████   | 17/24 [01:43<00:42,  6.00s/it]Corrupt JPEG data: 1 extraneous bytes before marker 0xd9\n",
      "     60/100         0G     0.5608     0.3766     0.8586         14        640: 100%|██████████| 24/24 [02:21<00:00,  5.88s/it]\n",
      "                 Class     Images  Instances      Box(P          R      mAP50  mAP50-95): 100%|██████████| 3/3 [00:11<00:00,  3.67s/it]"
     ]
    },
    {
     "name": "stdout",
     "output_type": "stream",
     "text": [
      "                   all         84         87      0.978      0.999      0.994      0.803\n",
      "\n",
      "      Epoch    GPU_mem   box_loss   cls_loss   dfl_loss  Instances       Size\n"
     ]
    },
    {
     "name": "stderr",
     "output_type": "stream",
     "text": [
      "\n",
      "     61/100         0G     0.5449     0.3558     0.8595         35        640:  33%|███▎      | 8/24 [00:50<01:39,  6.21s/it]Corrupt JPEG data: premature end of data segment\n",
      "     61/100         0G     0.5306     0.3628     0.8587         20        640: 100%|██████████| 24/24 [02:21<00:00,  5.92s/it]\n",
      "                 Class     Images  Instances      Box(P          R      mAP50  mAP50-95): 100%|██████████| 3/3 [00:11<00:00,  3.68s/it]"
     ]
    },
    {
     "name": "stdout",
     "output_type": "stream",
     "text": [
      "                   all         84         87      0.975          1      0.992       0.81\n",
      "\n",
      "      Epoch    GPU_mem   box_loss   cls_loss   dfl_loss  Instances       Size\n"
     ]
    },
    {
     "name": "stderr",
     "output_type": "stream",
     "text": [
      "\n",
      "     62/100         0G     0.5464     0.3695     0.8391         30        640:  33%|███▎      | 8/24 [00:50<01:39,  6.24s/it]Corrupt JPEG data: premature end of data segment\n",
      "     62/100         0G     0.5644     0.3702     0.8512         28        640:  58%|█████▊    | 14/24 [01:26<00:59,  5.97s/it]Corrupt JPEG data: 1 extraneous bytes before marker 0xd9\n",
      "     62/100         0G     0.5655     0.3766     0.8512         17        640: 100%|██████████| 24/24 [02:21<00:00,  5.90s/it]\n",
      "                 Class     Images  Instances      Box(P          R      mAP50  mAP50-95): 100%|██████████| 3/3 [00:10<00:00,  3.65s/it]"
     ]
    },
    {
     "name": "stdout",
     "output_type": "stream",
     "text": [
      "                   all         84         87      0.963          1      0.991      0.808\n",
      "\n",
      "      Epoch    GPU_mem   box_loss   cls_loss   dfl_loss  Instances       Size\n"
     ]
    },
    {
     "name": "stderr",
     "output_type": "stream",
     "text": [
      "\n",
      "     63/100         0G     0.5495     0.3659     0.8465         24        640:  42%|████▏     | 10/24 [01:02<01:26,  6.15s/it]Corrupt JPEG data: 1 extraneous bytes before marker 0xd9\n",
      "     63/100         0G     0.5529     0.3644      0.845         30        640:  46%|████▌     | 11/24 [01:08<01:20,  6.18s/it]Corrupt JPEG data: premature end of data segment\n",
      "     63/100         0G     0.5583      0.364     0.8459         14        640: 100%|██████████| 24/24 [02:21<00:00,  5.91s/it]\n",
      "                 Class     Images  Instances      Box(P          R      mAP50  mAP50-95): 100%|██████████| 3/3 [00:10<00:00,  3.67s/it]"
     ]
    },
    {
     "name": "stdout",
     "output_type": "stream",
     "text": [
      "                   all         84         87      0.965          1      0.992      0.815\n",
      "\n",
      "      Epoch    GPU_mem   box_loss   cls_loss   dfl_loss  Instances       Size\n"
     ]
    },
    {
     "name": "stderr",
     "output_type": "stream",
     "text": [
      "\n",
      "     64/100         0G     0.5302     0.3531     0.8471         30        640:  54%|█████▍    | 13/24 [01:21<01:07,  6.11s/it]Corrupt JPEG data: premature end of data segment\n",
      "     64/100         0G     0.5436      0.357     0.8515         23        640:  83%|████████▎ | 20/24 [02:02<00:23,  5.97s/it]Corrupt JPEG data: 1 extraneous bytes before marker 0xd9\n",
      "     64/100         0G     0.5476     0.3601     0.8516         17        640: 100%|██████████| 24/24 [02:22<00:00,  5.95s/it]\n",
      "                 Class     Images  Instances      Box(P          R      mAP50  mAP50-95): 100%|██████████| 3/3 [00:10<00:00,  3.66s/it]"
     ]
    },
    {
     "name": "stdout",
     "output_type": "stream",
     "text": [
      "                   all         84         87      0.967      0.999      0.994      0.827\n",
      "\n",
      "      Epoch    GPU_mem   box_loss   cls_loss   dfl_loss  Instances       Size\n"
     ]
    },
    {
     "name": "stderr",
     "output_type": "stream",
     "text": [
      "\n",
      "     65/100         0G     0.5458     0.3561     0.8424         27        640:  25%|██▌       | 6/24 [00:38<01:56,  6.49s/it]Corrupt JPEG data: 1 extraneous bytes before marker 0xd9\n",
      "     65/100         0G     0.5543      0.358     0.8421         34        640:  29%|██▉       | 7/24 [00:44<01:48,  6.39s/it]Corrupt JPEG data: premature end of data segment\n",
      "     65/100         0G     0.5643     0.3683     0.8497         21        640: 100%|██████████| 24/24 [02:22<00:00,  5.95s/it]\n",
      "                 Class     Images  Instances      Box(P          R      mAP50  mAP50-95): 100%|██████████| 3/3 [00:10<00:00,  3.67s/it]"
     ]
    },
    {
     "name": "stdout",
     "output_type": "stream",
     "text": [
      "                   all         84         87      0.972      0.977      0.993      0.821\n",
      "\n",
      "      Epoch    GPU_mem   box_loss   cls_loss   dfl_loss  Instances       Size\n"
     ]
    },
    {
     "name": "stderr",
     "output_type": "stream",
     "text": [
      "\n",
      "     66/100         0G     0.5317       0.36     0.8444         25        640:  62%|██████▎   | 15/24 [01:31<00:53,  5.96s/it]Corrupt JPEG data: premature end of data segment\n",
      "     66/100         0G      0.534     0.3593     0.8427         37        640:  71%|███████   | 17/24 [01:43<00:41,  5.92s/it]Corrupt JPEG data: 1 extraneous bytes before marker 0xd9\n",
      "     66/100         0G     0.5272     0.3544     0.8449         23        640: 100%|██████████| 24/24 [02:21<00:00,  5.90s/it]\n",
      "                 Class     Images  Instances      Box(P          R      mAP50  mAP50-95): 100%|██████████| 3/3 [00:11<00:00,  3.72s/it]"
     ]
    },
    {
     "name": "stdout",
     "output_type": "stream",
     "text": [
      "                   all         84         87      0.966      0.968       0.99      0.814\n",
      "\n",
      "      Epoch    GPU_mem   box_loss   cls_loss   dfl_loss  Instances       Size\n"
     ]
    },
    {
     "name": "stderr",
     "output_type": "stream",
     "text": [
      "\n",
      "     67/100         0G      0.553     0.3753     0.8621         28        640:  50%|█████     | 12/24 [01:14<01:13,  6.14s/it]Corrupt JPEG data: 1 extraneous bytes before marker 0xd9\n",
      "Corrupt JPEG data: premature end of data segment\n",
      "     67/100         0G     0.5481     0.3678     0.8577         20        640: 100%|██████████| 24/24 [02:23<00:00,  5.99s/it]\n",
      "                 Class     Images  Instances      Box(P          R      mAP50  mAP50-95): 100%|██████████| 3/3 [00:11<00:00,  3.73s/it]"
     ]
    },
    {
     "name": "stdout",
     "output_type": "stream",
     "text": [
      "                   all         84         87      0.952      0.977       0.99      0.827\n",
      "\n",
      "      Epoch    GPU_mem   box_loss   cls_loss   dfl_loss  Instances       Size\n"
     ]
    },
    {
     "name": "stderr",
     "output_type": "stream",
     "text": [
      "\n",
      "     68/100         0G     0.5507     0.3649     0.8581         26        640:  25%|██▌       | 6/24 [00:38<01:54,  6.37s/it]Corrupt JPEG data: 1 extraneous bytes before marker 0xd9\n",
      "     68/100         0G      0.553     0.3645     0.8522         33        640:  71%|███████   | 17/24 [01:51<00:47,  6.79s/it]Corrupt JPEG data: premature end of data segment\n",
      "     68/100         0G     0.5582     0.3655     0.8468         25        640: 100%|██████████| 24/24 [02:35<00:00,  6.48s/it]\n",
      "                 Class     Images  Instances      Box(P          R      mAP50  mAP50-95): 100%|██████████| 3/3 [00:13<00:00,  4.37s/it]"
     ]
    },
    {
     "name": "stdout",
     "output_type": "stream",
     "text": [
      "                   all         84         87      0.935      0.996      0.992      0.812\n",
      "\n",
      "      Epoch    GPU_mem   box_loss   cls_loss   dfl_loss  Instances       Size\n"
     ]
    },
    {
     "name": "stderr",
     "output_type": "stream",
     "text": [
      "\n",
      "     69/100         0G     0.5086     0.3496     0.8496         33        640:  12%|█▎        | 3/24 [00:23<02:44,  7.85s/it]Corrupt JPEG data: 1 extraneous bytes before marker 0xd9\n",
      "     69/100         0G     0.5111     0.3422     0.8501         27        640:  38%|███▊      | 9/24 [01:05<01:45,  7.05s/it]Corrupt JPEG data: premature end of data segment\n",
      "     69/100         0G     0.5208      0.344     0.8494         18        640: 100%|██████████| 24/24 [02:43<00:00,  6.81s/it]\n",
      "                 Class     Images  Instances      Box(P          R      mAP50  mAP50-95): 100%|██████████| 3/3 [00:12<00:00,  4.20s/it]"
     ]
    },
    {
     "name": "stdout",
     "output_type": "stream",
     "text": [
      "                   all         84         87      0.944          1      0.992      0.833\n"
     ]
    },
    {
     "name": "stderr",
     "output_type": "stream",
     "text": [
      "\n"
     ]
    },
    {
     "name": "stdout",
     "output_type": "stream",
     "text": [
      "\n",
      "      Epoch    GPU_mem   box_loss   cls_loss   dfl_loss  Instances       Size\n"
     ]
    },
    {
     "name": "stderr",
     "output_type": "stream",
     "text": [
      "     70/100         0G     0.5099     0.3503     0.8363         32        640:  58%|█████▊    | 14/24 [01:40<01:06,  6.69s/it]Corrupt JPEG data: premature end of data segment\n",
      "     70/100         0G     0.5253     0.3541     0.8357         27        640:  88%|████████▊ | 21/24 [02:26<00:19,  6.65s/it]Corrupt JPEG data: 1 extraneous bytes before marker 0xd9\n",
      "     70/100         0G     0.5246     0.3505     0.8367         19        640: 100%|██████████| 24/24 [02:42<00:00,  6.78s/it]\n",
      "                 Class     Images  Instances      Box(P          R      mAP50  mAP50-95): 100%|██████████| 3/3 [00:13<00:00,  4.35s/it]"
     ]
    },
    {
     "name": "stdout",
     "output_type": "stream",
     "text": [
      "                   all         84         87      0.955          1      0.993      0.828\n",
      "\n",
      "      Epoch    GPU_mem   box_loss   cls_loss   dfl_loss  Instances       Size\n"
     ]
    },
    {
     "name": "stderr",
     "output_type": "stream",
     "text": [
      "\n",
      "     71/100         0G     0.5473     0.3628     0.8543         24        640:  83%|████████▎ | 20/24 [02:16<00:26,  6.60s/it]Corrupt JPEG data: premature end of data segment\n",
      "     71/100         0G     0.5362     0.3569     0.8493         19        640: 100%|██████████| 24/24 [02:38<00:00,  6.62s/it]\n",
      "                 Class     Images  Instances      Box(P          R      mAP50  mAP50-95): 100%|██████████| 3/3 [00:12<00:00,  4.19s/it]"
     ]
    },
    {
     "name": "stdout",
     "output_type": "stream",
     "text": [
      "                   all         84         87      0.945          1      0.993      0.837\n"
     ]
    },
    {
     "name": "stderr",
     "output_type": "stream",
     "text": [
      "\n"
     ]
    },
    {
     "name": "stdout",
     "output_type": "stream",
     "text": [
      "\n",
      "      Epoch    GPU_mem   box_loss   cls_loss   dfl_loss  Instances       Size\n"
     ]
    },
    {
     "name": "stderr",
     "output_type": "stream",
     "text": [
      "     72/100         0G     0.5368     0.3504     0.8552         33        640:  46%|████▌     | 11/24 [01:19<01:29,  6.90s/it]Corrupt JPEG data: 1 extraneous bytes before marker 0xd9\n",
      "     72/100         0G     0.5395     0.3555     0.8574         32        640:  58%|█████▊    | 14/24 [01:39<01:08,  6.84s/it]Corrupt JPEG data: premature end of data segment\n",
      "     72/100         0G     0.5404     0.3493     0.8464         17        640: 100%|██████████| 24/24 [02:44<00:00,  6.85s/it]\n",
      "                 Class     Images  Instances      Box(P          R      mAP50  mAP50-95): 100%|██████████| 3/3 [00:13<00:00,  4.37s/it]"
     ]
    },
    {
     "name": "stdout",
     "output_type": "stream",
     "text": [
      "                   all         84         87      0.946      0.999      0.993      0.821\n",
      "\n",
      "      Epoch    GPU_mem   box_loss   cls_loss   dfl_loss  Instances       Size\n"
     ]
    },
    {
     "name": "stderr",
     "output_type": "stream",
     "text": [
      "\n",
      "     73/100         0G     0.5324     0.3567     0.8572         26        640:   8%|▊         | 2/24 [00:14<02:37,  7.16s/it]Corrupt JPEG data: premature end of data segment\n",
      "     73/100         0G     0.5087      0.346      0.834         27        640:  75%|███████▌  | 18/24 [02:04<00:40,  6.69s/it]Corrupt JPEG data: 1 extraneous bytes before marker 0xd9\n",
      "     73/100         0G      0.501     0.3458     0.8368         17        640: 100%|██████████| 24/24 [02:39<00:00,  6.66s/it]\n",
      "                 Class     Images  Instances      Box(P          R      mAP50  mAP50-95): 100%|██████████| 3/3 [00:12<00:00,  4.13s/it]"
     ]
    },
    {
     "name": "stdout",
     "output_type": "stream",
     "text": [
      "                   all         84         87      0.967      0.997      0.994      0.828\n",
      "\n",
      "      Epoch    GPU_mem   box_loss   cls_loss   dfl_loss  Instances       Size\n"
     ]
    },
    {
     "name": "stderr",
     "output_type": "stream",
     "text": [
      "\n",
      "     74/100         0G     0.4614     0.3178     0.8328         30        640:  42%|████▏     | 10/24 [01:10<01:37,  6.95s/it]Corrupt JPEG data: premature end of data segment\n",
      "     74/100         0G     0.4858     0.3305     0.8369         22        640:  83%|████████▎ | 20/24 [02:17<00:26,  6.66s/it]Corrupt JPEG data: 1 extraneous bytes before marker 0xd9\n",
      "     74/100         0G     0.4787     0.3258      0.837         13        640: 100%|██████████| 24/24 [02:40<00:00,  6.68s/it]\n",
      "                 Class     Images  Instances      Box(P          R      mAP50  mAP50-95): 100%|██████████| 3/3 [00:12<00:00,  4.28s/it]"
     ]
    },
    {
     "name": "stdout",
     "output_type": "stream",
     "text": [
      "                   all         84         87      0.975      0.989      0.994      0.835\n",
      "\n",
      "      Epoch    GPU_mem   box_loss   cls_loss   dfl_loss  Instances       Size\n"
     ]
    },
    {
     "name": "stderr",
     "output_type": "stream",
     "text": [
      "\n",
      "     75/100         0G     0.4662     0.3238     0.8282         32        640:  50%|█████     | 12/24 [01:23<01:20,  6.72s/it]Corrupt JPEG data: premature end of data segment\n",
      "     75/100         0G     0.4891     0.3365     0.8304         21        640:  71%|███████   | 17/24 [01:57<00:47,  6.73s/it]Corrupt JPEG data: 1 extraneous bytes before marker 0xd9\n",
      "     75/100         0G     0.5214     0.3497      0.837         12        640: 100%|██████████| 24/24 [02:41<00:00,  6.72s/it]\n",
      "                 Class     Images  Instances      Box(P          R      mAP50  mAP50-95): 100%|██████████| 3/3 [00:14<00:00,  4.80s/it]"
     ]
    },
    {
     "name": "stdout",
     "output_type": "stream",
     "text": [
      "                   all         84         87      0.964      0.977      0.992      0.801\n",
      "\n",
      "      Epoch    GPU_mem   box_loss   cls_loss   dfl_loss  Instances       Size\n"
     ]
    },
    {
     "name": "stderr",
     "output_type": "stream",
     "text": [
      "\n",
      "     76/100         0G     0.5636     0.3437     0.8316         30        640:  25%|██▌       | 6/24 [00:47<02:19,  7.73s/it]Corrupt JPEG data: premature end of data segment\n",
      "     76/100         0G     0.5437     0.3469      0.844         37        640:  46%|████▌     | 11/24 [01:21<01:28,  6.84s/it]Corrupt JPEG data: 1 extraneous bytes before marker 0xd9\n",
      "     76/100         0G     0.5514     0.3545     0.8514         17        640: 100%|██████████| 24/24 [02:43<00:00,  6.81s/it]\n",
      "                 Class     Images  Instances      Box(P          R      mAP50  mAP50-95): 100%|██████████| 3/3 [00:12<00:00,  4.14s/it]"
     ]
    },
    {
     "name": "stdout",
     "output_type": "stream",
     "text": [
      "                   all         84         87      0.966      0.975      0.992      0.839\n"
     ]
    },
    {
     "name": "stderr",
     "output_type": "stream",
     "text": [
      "\n"
     ]
    },
    {
     "name": "stdout",
     "output_type": "stream",
     "text": [
      "\n",
      "      Epoch    GPU_mem   box_loss   cls_loss   dfl_loss  Instances       Size\n"
     ]
    },
    {
     "name": "stderr",
     "output_type": "stream",
     "text": [
      "     77/100         0G     0.5082     0.3347     0.8402         32        640:  42%|████▏     | 10/24 [01:10<01:36,  6.88s/it]Corrupt JPEG data: premature end of data segment\n",
      "     77/100         0G     0.5145     0.3333     0.8429         35        640:  71%|███████   | 17/24 [01:56<00:46,  6.63s/it]Corrupt JPEG data: 1 extraneous bytes before marker 0xd9\n",
      "     77/100         0G     0.5134       0.33     0.8389         19        640: 100%|██████████| 24/24 [02:38<00:00,  6.62s/it]\n",
      "                 Class     Images  Instances      Box(P          R      mAP50  mAP50-95): 100%|██████████| 3/3 [00:12<00:00,  4.11s/it]"
     ]
    },
    {
     "name": "stdout",
     "output_type": "stream",
     "text": [
      "                   all         84         87      0.965      0.977      0.992      0.835\n",
      "\n",
      "      Epoch    GPU_mem   box_loss   cls_loss   dfl_loss  Instances       Size\n"
     ]
    },
    {
     "name": "stderr",
     "output_type": "stream",
     "text": [
      "\n",
      "     78/100         0G     0.5018     0.3225     0.8176         31        640:  71%|███████   | 17/24 [01:54<00:45,  6.54s/it]Corrupt JPEG data: premature end of data segment\n",
      "     78/100         0G     0.4973     0.3208       0.82         41        640:  79%|███████▉  | 19/24 [02:08<00:32,  6.57s/it]Corrupt JPEG data: 1 extraneous bytes before marker 0xd9\n",
      "     78/100         0G     0.5042     0.3231     0.8283         10        640: 100%|██████████| 24/24 [02:36<00:00,  6.52s/it]\n",
      "                 Class     Images  Instances      Box(P          R      mAP50  mAP50-95): 100%|██████████| 3/3 [00:12<00:00,  4.29s/it]"
     ]
    },
    {
     "name": "stdout",
     "output_type": "stream",
     "text": [
      "                   all         84         87      0.977      0.967      0.993      0.811\n",
      "\n",
      "      Epoch    GPU_mem   box_loss   cls_loss   dfl_loss  Instances       Size\n"
     ]
    },
    {
     "name": "stderr",
     "output_type": "stream",
     "text": [
      "\n",
      "     79/100         0G     0.5788     0.3407     0.8472         33        640:  12%|█▎        | 3/24 [00:21<02:30,  7.17s/it]Corrupt JPEG data: premature end of data segment\n",
      "     79/100         0G     0.5318     0.3375     0.8391         31        640:  29%|██▉       | 7/24 [00:49<01:57,  6.94s/it]Corrupt JPEG data: 1 extraneous bytes before marker 0xd9\n",
      "     79/100         0G     0.5166     0.3424     0.8414          8        640: 100%|██████████| 24/24 [02:37<00:00,  6.58s/it]\n",
      "                 Class     Images  Instances      Box(P          R      mAP50  mAP50-95): 100%|██████████| 3/3 [00:12<00:00,  4.16s/it]"
     ]
    },
    {
     "name": "stdout",
     "output_type": "stream",
     "text": [
      "                   all         84         87      0.984      0.966      0.993       0.84\n"
     ]
    },
    {
     "name": "stderr",
     "output_type": "stream",
     "text": [
      "\n"
     ]
    },
    {
     "name": "stdout",
     "output_type": "stream",
     "text": [
      "\n",
      "      Epoch    GPU_mem   box_loss   cls_loss   dfl_loss  Instances       Size\n"
     ]
    },
    {
     "name": "stderr",
     "output_type": "stream",
     "text": [
      "     80/100         0G     0.5378     0.3261      0.836         33        640:  21%|██        | 5/24 [00:36<02:23,  7.53s/it]Corrupt JPEG data: 1 extraneous bytes before marker 0xd9\n",
      "     80/100         0G     0.4838     0.3237     0.8331         32        640:  62%|██████▎   | 15/24 [01:43<00:59,  6.62s/it]Corrupt JPEG data: premature end of data segment\n",
      "     80/100         0G     0.4868     0.3265     0.8379         17        640: 100%|██████████| 24/24 [02:37<00:00,  6.57s/it]\n",
      "                 Class     Images  Instances      Box(P          R      mAP50  mAP50-95): 100%|██████████| 3/3 [00:12<00:00,  4.13s/it]"
     ]
    },
    {
     "name": "stdout",
     "output_type": "stream",
     "text": [
      "                   all         84         87      0.988      0.974      0.994      0.842\n"
     ]
    },
    {
     "name": "stderr",
     "output_type": "stream",
     "text": [
      "\n"
     ]
    },
    {
     "name": "stdout",
     "output_type": "stream",
     "text": [
      "\n",
      "      Epoch    GPU_mem   box_loss   cls_loss   dfl_loss  Instances       Size\n"
     ]
    },
    {
     "name": "stderr",
     "output_type": "stream",
     "text": [
      "     81/100         0G     0.4911     0.3236     0.8355         27        640:  29%|██▉       | 7/24 [00:50<02:01,  7.17s/it]Corrupt JPEG data: premature end of data segment\n",
      "     81/100         0G     0.4759      0.319     0.8294         26        640:  58%|█████▊    | 14/24 [01:37<01:07,  6.70s/it]Corrupt JPEG data: 1 extraneous bytes before marker 0xd9\n",
      "     81/100         0G     0.4728     0.3196     0.8375         18        640: 100%|██████████| 24/24 [02:38<00:00,  6.60s/it]\n",
      "                 Class     Images  Instances      Box(P          R      mAP50  mAP50-95): 100%|██████████| 3/3 [00:12<00:00,  4.11s/it]"
     ]
    },
    {
     "name": "stdout",
     "output_type": "stream",
     "text": [
      "                   all         84         87      0.955          1      0.993      0.831\n",
      "\n",
      "      Epoch    GPU_mem   box_loss   cls_loss   dfl_loss  Instances       Size\n"
     ]
    },
    {
     "name": "stderr",
     "output_type": "stream",
     "text": [
      "\n",
      "     82/100         0G     0.4689     0.3233     0.8338         28        640:  71%|███████   | 17/24 [01:56<00:45,  6.56s/it]Corrupt JPEG data: premature end of data segment\n",
      "     82/100         0G     0.4663     0.3216      0.834         31        640:  96%|█████████▌| 23/24 [02:35<00:06,  6.53s/it]Corrupt JPEG data: 1 extraneous bytes before marker 0xd9\n",
      "     82/100         0G     0.4653      0.322     0.8362         11        640: 100%|██████████| 24/24 [02:37<00:00,  6.55s/it]\n",
      "                 Class     Images  Instances      Box(P          R      mAP50  mAP50-95): 100%|██████████| 3/3 [00:12<00:00,  4.21s/it]"
     ]
    },
    {
     "name": "stdout",
     "output_type": "stream",
     "text": [
      "                   all         84         87      0.967      0.997      0.994      0.848\n"
     ]
    },
    {
     "name": "stderr",
     "output_type": "stream",
     "text": [
      "\n"
     ]
    },
    {
     "name": "stdout",
     "output_type": "stream",
     "text": [
      "\n",
      "      Epoch    GPU_mem   box_loss   cls_loss   dfl_loss  Instances       Size\n"
     ]
    },
    {
     "name": "stderr",
     "output_type": "stream",
     "text": [
      "     83/100         0G     0.4545     0.3104     0.8301         23        640:  42%|████▏     | 10/24 [01:11<01:36,  6.91s/it]Corrupt JPEG data: premature end of data segment\n",
      "     83/100         0G     0.4477     0.3072     0.8261         29        640:  54%|█████▍    | 13/24 [01:30<01:11,  6.54s/it]Corrupt JPEG data: 1 extraneous bytes before marker 0xd9\n",
      "     83/100         0G     0.4616     0.3142     0.8341         14        640: 100%|██████████| 24/24 [02:37<00:00,  6.56s/it]\n",
      "                 Class     Images  Instances      Box(P          R      mAP50  mAP50-95): 100%|██████████| 3/3 [00:12<00:00,  4.15s/it]"
     ]
    },
    {
     "name": "stdout",
     "output_type": "stream",
     "text": [
      "                   all         84         87      0.967      0.999      0.994      0.849\n"
     ]
    },
    {
     "name": "stderr",
     "output_type": "stream",
     "text": [
      "\n"
     ]
    },
    {
     "name": "stdout",
     "output_type": "stream",
     "text": [
      "\n",
      "      Epoch    GPU_mem   box_loss   cls_loss   dfl_loss  Instances       Size\n"
     ]
    },
    {
     "name": "stderr",
     "output_type": "stream",
     "text": [
      "     84/100         0G     0.4732      0.308     0.8373         21        640:  25%|██▌       | 6/24 [00:43<02:11,  7.31s/it]Corrupt JPEG data: premature end of data segment\n",
      "     84/100         0G     0.4744      0.314     0.8254         24        640:  67%|██████▋   | 16/24 [01:48<00:52,  6.60s/it]Corrupt JPEG data: 1 extraneous bytes before marker 0xd9\n",
      "     84/100         0G      0.465     0.3089      0.821         10        640: 100%|██████████| 24/24 [02:36<00:00,  6.53s/it]\n",
      "                 Class     Images  Instances      Box(P          R      mAP50  mAP50-95): 100%|██████████| 3/3 [00:12<00:00,  4.12s/it]"
     ]
    },
    {
     "name": "stdout",
     "output_type": "stream",
     "text": [
      "                   all         84         87      0.999      0.966      0.994      0.845\n",
      "\n",
      "      Epoch    GPU_mem   box_loss   cls_loss   dfl_loss  Instances       Size\n"
     ]
    },
    {
     "name": "stderr",
     "output_type": "stream",
     "text": [
      "\n",
      "     85/100         0G      0.458     0.3093     0.8303         32        640:  25%|██▌       | 6/24 [00:41<02:04,  6.93s/it]Corrupt JPEG data: premature end of data segment\n",
      "     85/100         0G     0.4623     0.3084      0.827         27        640:  50%|█████     | 12/24 [01:22<01:20,  6.72s/it]Corrupt JPEG data: 1 extraneous bytes before marker 0xd9\n",
      "     85/100         0G     0.4645     0.3138     0.8285         21        640: 100%|██████████| 24/24 [02:35<00:00,  6.49s/it]\n",
      "                 Class     Images  Instances      Box(P          R      mAP50  mAP50-95): 100%|██████████| 3/3 [00:12<00:00,  4.12s/it]"
     ]
    },
    {
     "name": "stdout",
     "output_type": "stream",
     "text": [
      "                   all         84         87      0.994      0.966      0.994      0.841\n",
      "\n",
      "      Epoch    GPU_mem   box_loss   cls_loss   dfl_loss  Instances       Size\n"
     ]
    },
    {
     "name": "stderr",
     "output_type": "stream",
     "text": [
      "\n",
      "     86/100         0G     0.4508     0.2952     0.8089         28        640:   8%|▊         | 2/24 [00:14<02:39,  7.27s/it]Corrupt JPEG data: premature end of data segment\n",
      "     86/100         0G     0.4731     0.3109     0.8242         31        640:  33%|███▎      | 8/24 [00:56<01:50,  6.89s/it]Corrupt JPEG data: 1 extraneous bytes before marker 0xd9\n",
      "     86/100         0G     0.4509     0.3024     0.8251         16        640: 100%|██████████| 24/24 [02:42<00:00,  6.76s/it]\n",
      "                 Class     Images  Instances      Box(P          R      mAP50  mAP50-95): 100%|██████████| 3/3 [00:12<00:00,  4.25s/it]"
     ]
    },
    {
     "name": "stdout",
     "output_type": "stream",
     "text": [
      "                   all         84         87      0.975      0.989      0.994       0.85\n"
     ]
    },
    {
     "name": "stderr",
     "output_type": "stream",
     "text": [
      "\n"
     ]
    },
    {
     "name": "stdout",
     "output_type": "stream",
     "text": [
      "\n",
      "      Epoch    GPU_mem   box_loss   cls_loss   dfl_loss  Instances       Size\n"
     ]
    },
    {
     "name": "stderr",
     "output_type": "stream",
     "text": [
      "     87/100         0G     0.4947     0.3231     0.8367         31        640:  33%|███▎      | 8/24 [00:55<01:47,  6.73s/it]Corrupt JPEG data: 1 extraneous bytes before marker 0xd9\n",
      "     87/100         0G     0.4866      0.322     0.8368         26        640:  58%|█████▊    | 14/24 [01:34<01:04,  6.49s/it]Corrupt JPEG data: premature end of data segment\n",
      "     87/100         0G     0.4783     0.3194     0.8403         17        640: 100%|██████████| 24/24 [02:33<00:00,  6.42s/it]\n",
      "                 Class     Images  Instances      Box(P          R      mAP50  mAP50-95): 100%|██████████| 3/3 [00:12<00:00,  4.14s/it]"
     ]
    },
    {
     "name": "stdout",
     "output_type": "stream",
     "text": [
      "                   all         84         87          1      0.975      0.994      0.851\n"
     ]
    },
    {
     "name": "stderr",
     "output_type": "stream",
     "text": [
      "\n"
     ]
    },
    {
     "name": "stdout",
     "output_type": "stream",
     "text": [
      "\n",
      "      Epoch    GPU_mem   box_loss   cls_loss   dfl_loss  Instances       Size\n"
     ]
    },
    {
     "name": "stderr",
     "output_type": "stream",
     "text": [
      "  0%|          | 0/24 [00:00<?, ?it/s]Corrupt JPEG data: 1 extraneous bytes before marker 0xd9\n",
      "     88/100         0G     0.4478     0.3028     0.8332         27        640:  96%|█████████▌| 23/24 [02:35<00:06,  6.62s/it]Corrupt JPEG data: premature end of data segment\n",
      "     88/100         0G     0.4464     0.3028      0.831         18        640: 100%|██████████| 24/24 [02:37<00:00,  6.54s/it]\n",
      "                 Class     Images  Instances      Box(P          R      mAP50  mAP50-95): 100%|██████████| 3/3 [00:12<00:00,  4.15s/it]"
     ]
    },
    {
     "name": "stdout",
     "output_type": "stream",
     "text": [
      "                   all         84         87      0.967      0.998      0.994      0.844\n",
      "\n",
      "      Epoch    GPU_mem   box_loss   cls_loss   dfl_loss  Instances       Size\n"
     ]
    },
    {
     "name": "stderr",
     "output_type": "stream",
     "text": [
      "\n",
      "     89/100         0G     0.4367     0.3057     0.8224         36        640:  58%|█████▊    | 14/24 [01:35<01:07,  6.72s/it]Corrupt JPEG data: 1 extraneous bytes before marker 0xd9\n",
      "     89/100         0G     0.4478     0.3046      0.828         15        640: 100%|██████████| 24/24 [02:37<00:00,  6.55s/it]\n",
      "                 Class     Images  Instances      Box(P          R      mAP50  mAP50-95): 100%|██████████| 3/3 [00:12<00:00,  4.11s/it]"
     ]
    },
    {
     "name": "stdout",
     "output_type": "stream",
     "text": [
      "                   all         84         87      0.988      0.985      0.994      0.845\n",
      "\n",
      "      Epoch    GPU_mem   box_loss   cls_loss   dfl_loss  Instances       Size\n"
     ]
    },
    {
     "name": "stderr",
     "output_type": "stream",
     "text": [
      "\n",
      "  0%|          | 0/24 [00:00<?, ?it/s]Corrupt JPEG data: 1 extraneous bytes before marker 0xd9\n",
      "     90/100         0G     0.4384     0.2994     0.8241         32        640:  75%|███████▌  | 18/24 [02:01<00:38,  6.48s/it]Corrupt JPEG data: premature end of data segment\n",
      "     90/100         0G     0.4483     0.3019     0.8222         18        640: 100%|██████████| 24/24 [02:36<00:00,  6.51s/it]\n",
      "                 Class     Images  Instances      Box(P          R      mAP50  mAP50-95): 100%|██████████| 3/3 [00:12<00:00,  4.11s/it]"
     ]
    },
    {
     "name": "stdout",
     "output_type": "stream",
     "text": [
      "                   all         84         87      0.988      0.989      0.995      0.842\n",
      "Closing dataloader mosaic\n",
      "\n",
      "      Epoch    GPU_mem   box_loss   cls_loss   dfl_loss  Instances       Size\n"
     ]
    },
    {
     "name": "stderr",
     "output_type": "stream",
     "text": [
      "\n",
      "     91/100         0G     0.4224     0.2804     0.8236         17        640:  46%|████▌     | 11/24 [01:15<01:26,  6.65s/it]Corrupt JPEG data: premature end of data segment\n",
      "     91/100         0G     0.4255     0.2815     0.8274         15        640:  54%|█████▍    | 13/24 [01:28<01:12,  6.61s/it]Corrupt JPEG data: 1 extraneous bytes before marker 0xd9\n",
      "     91/100         0G       0.42     0.2793     0.8126          9        640: 100%|██████████| 24/24 [02:36<00:00,  6.52s/it]\n",
      "                 Class     Images  Instances      Box(P          R      mAP50  mAP50-95): 100%|██████████| 3/3 [00:12<00:00,  4.25s/it]"
     ]
    },
    {
     "name": "stdout",
     "output_type": "stream",
     "text": [
      "                   all         84         87       0.98      0.989      0.994       0.84\n",
      "\n",
      "      Epoch    GPU_mem   box_loss   cls_loss   dfl_loss  Instances       Size\n"
     ]
    },
    {
     "name": "stderr",
     "output_type": "stream",
     "text": [
      "\n",
      "     92/100         0G     0.3969     0.2688     0.8038         17        640:  71%|███████   | 17/24 [01:53<00:45,  6.49s/it]Corrupt JPEG data: premature end of data segment\n",
      "Corrupt JPEG data: 1 extraneous bytes before marker 0xd9\n",
      "     92/100         0G     0.4105     0.2689     0.7989          9        640: 100%|██████████| 24/24 [02:33<00:00,  6.42s/it]\n",
      "                 Class     Images  Instances      Box(P          R      mAP50  mAP50-95): 100%|██████████| 3/3 [00:12<00:00,  4.09s/it]"
     ]
    },
    {
     "name": "stdout",
     "output_type": "stream",
     "text": [
      "                   all         84         87      0.983      0.989      0.994      0.843\n",
      "\n",
      "      Epoch    GPU_mem   box_loss   cls_loss   dfl_loss  Instances       Size\n"
     ]
    },
    {
     "name": "stderr",
     "output_type": "stream",
     "text": [
      "\n",
      "     93/100         0G     0.4222      0.278     0.8203         18        640:  79%|███████▉  | 19/24 [02:06<00:32,  6.56s/it]Corrupt JPEG data: premature end of data segment\n",
      "     93/100         0G     0.4171     0.2731     0.8211          9        640: 100%|██████████| 24/24 [02:35<00:00,  6.47s/it]\n",
      "                 Class     Images  Instances      Box(P          R      mAP50  mAP50-95): 100%|██████████| 3/3 [00:12<00:00,  4.19s/it]"
     ]
    },
    {
     "name": "stdout",
     "output_type": "stream",
     "text": [
      "                   all         84         87      0.992      0.977      0.994      0.844\n",
      "\n",
      "      Epoch    GPU_mem   box_loss   cls_loss   dfl_loss  Instances       Size\n"
     ]
    },
    {
     "name": "stderr",
     "output_type": "stream",
     "text": [
      "\n",
      "     94/100         0G     0.3992     0.2586     0.8001         16        640:  58%|█████▊    | 14/24 [01:34<01:06,  6.63s/it]Corrupt JPEG data: premature end of data segment\n",
      "     94/100         0G     0.4071     0.2624     0.8125         16        640:  92%|█████████▏| 22/24 [02:26<00:12,  6.48s/it]Corrupt JPEG data: 1 extraneous bytes before marker 0xd9\n",
      "     94/100         0G     0.4038     0.2611       0.81          9        640: 100%|██████████| 24/24 [02:35<00:00,  6.47s/it]\n",
      "                 Class     Images  Instances      Box(P          R      mAP50  mAP50-95): 100%|██████████| 3/3 [00:12<00:00,  4.10s/it]"
     ]
    },
    {
     "name": "stdout",
     "output_type": "stream",
     "text": [
      "                   all         84         87      0.964      0.989      0.994      0.833\n",
      "\n",
      "      Epoch    GPU_mem   box_loss   cls_loss   dfl_loss  Instances       Size\n"
     ]
    },
    {
     "name": "stderr",
     "output_type": "stream",
     "text": [
      "\n",
      "     95/100         0G     0.3844     0.2436     0.8059         16        640:  38%|███▊      | 9/24 [01:03<01:42,  6.85s/it]Corrupt JPEG data: premature end of data segment\n",
      "     95/100         0G     0.4167     0.2642     0.8008          9        640: 100%|██████████| 24/24 [02:36<00:00,  6.50s/it]\n",
      "                 Class     Images  Instances      Box(P          R      mAP50  mAP50-95): 100%|██████████| 3/3 [00:12<00:00,  4.24s/it]"
     ]
    },
    {
     "name": "stdout",
     "output_type": "stream",
     "text": [
      "                   all         84         87      0.944          1      0.993       0.83\n",
      "\n",
      "      Epoch    GPU_mem   box_loss   cls_loss   dfl_loss  Instances       Size\n"
     ]
    },
    {
     "name": "stderr",
     "output_type": "stream",
     "text": [
      "\n",
      "     96/100         0G     0.3792     0.2526     0.8012         16        640:  50%|█████     | 12/24 [01:21<01:18,  6.54s/it]Corrupt JPEG data: premature end of data segment\n",
      "     96/100         0G     0.3888     0.2563     0.8055         16        640:  62%|██████▎   | 15/24 [01:40<00:58,  6.50s/it]Corrupt JPEG data: 1 extraneous bytes before marker 0xd9\n",
      "     96/100         0G     0.3975     0.2614     0.8096          9        640: 100%|██████████| 24/24 [02:34<00:00,  6.42s/it]\n",
      "                 Class     Images  Instances      Box(P          R      mAP50  mAP50-95): 100%|██████████| 3/3 [00:12<00:00,  4.09s/it]"
     ]
    },
    {
     "name": "stdout",
     "output_type": "stream",
     "text": [
      "                   all         84         87      0.977      0.986      0.994      0.837\n",
      "\n",
      "      Epoch    GPU_mem   box_loss   cls_loss   dfl_loss  Instances       Size\n"
     ]
    },
    {
     "name": "stderr",
     "output_type": "stream",
     "text": [
      "\n",
      "     97/100         0G     0.3745     0.2593     0.8052         16        640:  21%|██        | 5/24 [00:36<02:17,  7.22s/it]Corrupt JPEG data: premature end of data segment\n",
      "     97/100         0G     0.3995     0.2604     0.8098         15        640:  83%|████████▎ | 20/24 [02:15<00:26,  6.57s/it]Corrupt JPEG data: 1 extraneous bytes before marker 0xd9\n",
      "     97/100         0G     0.4013     0.2604     0.8112          9        640: 100%|██████████| 24/24 [02:36<00:00,  6.54s/it]\n",
      "                 Class     Images  Instances      Box(P          R      mAP50  mAP50-95): 100%|██████████| 3/3 [00:12<00:00,  4.11s/it]"
     ]
    },
    {
     "name": "stdout",
     "output_type": "stream",
     "text": [
      "                   all         84         87      0.994      0.966      0.994      0.845\n",
      "\n",
      "      Epoch    GPU_mem   box_loss   cls_loss   dfl_loss  Instances       Size\n"
     ]
    },
    {
     "name": "stderr",
     "output_type": "stream",
     "text": [
      "\n",
      "     98/100         0G     0.3881     0.2519     0.7912         16        640:  71%|███████   | 17/24 [01:52<00:45,  6.48s/it]Corrupt JPEG data: premature end of data segment\n",
      "Corrupt JPEG data: 1 extraneous bytes before marker 0xd9\n",
      "     98/100         0G     0.3924     0.2571     0.8026          9        640: 100%|██████████| 24/24 [02:33<00:00,  6.38s/it]\n",
      "                 Class     Images  Instances      Box(P          R      mAP50  mAP50-95): 100%|██████████| 3/3 [00:12<00:00,  4.08s/it]"
     ]
    },
    {
     "name": "stdout",
     "output_type": "stream",
     "text": [
      "                   all         84         87      0.975      0.989      0.994      0.846\n",
      "\n",
      "      Epoch    GPU_mem   box_loss   cls_loss   dfl_loss  Instances       Size\n"
     ]
    },
    {
     "name": "stderr",
     "output_type": "stream",
     "text": [
      "\n",
      "     99/100         0G     0.4006     0.2558     0.8053         17        640:  50%|█████     | 12/24 [01:20<01:18,  6.55s/it]Corrupt JPEG data: 1 extraneous bytes before marker 0xd9\n",
      "     99/100         0G     0.3901     0.2514     0.7979         16        640:  71%|███████   | 17/24 [01:52<00:45,  6.50s/it]Corrupt JPEG data: premature end of data segment\n",
      "     99/100         0G     0.3878     0.2504     0.7974          9        640: 100%|██████████| 24/24 [02:33<00:00,  6.41s/it]\n",
      "                 Class     Images  Instances      Box(P          R      mAP50  mAP50-95): 100%|██████████| 3/3 [00:12<00:00,  4.05s/it]"
     ]
    },
    {
     "name": "stdout",
     "output_type": "stream",
     "text": [
      "                   all         84         87      0.971      0.989      0.994      0.842\n",
      "\n",
      "      Epoch    GPU_mem   box_loss   cls_loss   dfl_loss  Instances       Size\n"
     ]
    },
    {
     "name": "stderr",
     "output_type": "stream",
     "text": [
      "\n",
      "    100/100         0G     0.3825     0.2613     0.7801         16        640:   8%|▊         | 2/24 [00:13<02:27,  6.70s/it]Corrupt JPEG data: 1 extraneous bytes before marker 0xd9\n",
      "    100/100         0G     0.4006     0.2636     0.8071         16        640:  38%|███▊      | 9/24 [01:01<01:41,  6.73s/it]Corrupt JPEG data: premature end of data segment\n",
      "    100/100         0G     0.3911     0.2538     0.8084          9        640: 100%|██████████| 24/24 [02:34<00:00,  6.42s/it]\n",
      "                 Class     Images  Instances      Box(P          R      mAP50  mAP50-95): 100%|██████████| 3/3 [00:12<00:00,  4.24s/it]"
     ]
    },
    {
     "name": "stdout",
     "output_type": "stream",
     "text": [
      "                   all         84         87      0.988      0.973      0.994      0.843\n",
      "\n",
      "100 epochs completed in 4.613 hours.\n"
     ]
    },
    {
     "name": "stderr",
     "output_type": "stream",
     "text": [
      "\n"
     ]
    },
    {
     "name": "stdout",
     "output_type": "stream",
     "text": [
      "Optimizer stripped from /Users/simon/Documents/Github/ITE-5310-Machine-Learning-Assignment10/runs/detect/train/weights/last.pt, 6.3MB\n",
      "Optimizer stripped from /Users/simon/Documents/Github/ITE-5310-Machine-Learning-Assignment10/runs/detect/train/weights/best.pt, 6.3MB\n",
      "\n",
      "Validating /Users/simon/Documents/Github/ITE-5310-Machine-Learning-Assignment10/runs/detect/train/weights/best.pt...\n",
      "Ultralytics YOLOv8.0.212 🚀 Python-3.11.5 torch-2.1.1 CPU (Apple M2)\n",
      "Model summary (fused): 168 layers, 3005843 parameters, 0 gradients, 8.1 GFLOPs\n"
     ]
    },
    {
     "name": "stderr",
     "output_type": "stream",
     "text": [
      "                 Class     Images  Instances      Box(P          R      mAP50  mAP50-95): 100%|██████████| 3/3 [00:12<00:00,  4.19s/it]\n"
     ]
    },
    {
     "name": "stdout",
     "output_type": "stream",
     "text": [
      "                   all         84         87          1      0.975      0.994      0.851\n",
      "Speed: 0.9ms preprocess, 133.6ms inference, 0.0ms loss, 0.3ms postprocess per image\n",
      "Results saved to \u001b[1m/Users/simon/Documents/Github/ITE-5310-Machine-Learning-Assignment10/runs/detect/train\u001b[0m\n"
     ]
    },
    {
     "data": {
      "text/plain": [
       "ultralytics.utils.metrics.DetMetrics object with attributes:\n",
       "\n",
       "ap_class_index: array([0])\n",
       "box: ultralytics.utils.metrics.Metric object\n",
       "confusion_matrix: <ultralytics.utils.metrics.ConfusionMatrix object at 0x29f015a50>\n",
       "curves: ['Precision-Recall(B)', 'F1-Confidence(B)', 'Precision-Confidence(B)', 'Recall-Confidence(B)']\n",
       "curves_results: [[array([          0,    0.001001,    0.002002,    0.003003,    0.004004,    0.005005,    0.006006,    0.007007,    0.008008,    0.009009,     0.01001,    0.011011,    0.012012,    0.013013,    0.014014,    0.015015,    0.016016,    0.017017,    0.018018,    0.019019,     0.02002,    0.021021,    0.022022,    0.023023,\n",
       "          0.024024,    0.025025,    0.026026,    0.027027,    0.028028,    0.029029,     0.03003,    0.031031,    0.032032,    0.033033,    0.034034,    0.035035,    0.036036,    0.037037,    0.038038,    0.039039,     0.04004,    0.041041,    0.042042,    0.043043,    0.044044,    0.045045,    0.046046,    0.047047,\n",
       "          0.048048,    0.049049,     0.05005,    0.051051,    0.052052,    0.053053,    0.054054,    0.055055,    0.056056,    0.057057,    0.058058,    0.059059,     0.06006,    0.061061,    0.062062,    0.063063,    0.064064,    0.065065,    0.066066,    0.067067,    0.068068,    0.069069,     0.07007,    0.071071,\n",
       "          0.072072,    0.073073,    0.074074,    0.075075,    0.076076,    0.077077,    0.078078,    0.079079,     0.08008,    0.081081,    0.082082,    0.083083,    0.084084,    0.085085,    0.086086,    0.087087,    0.088088,    0.089089,     0.09009,    0.091091,    0.092092,    0.093093,    0.094094,    0.095095,\n",
       "          0.096096,    0.097097,    0.098098,    0.099099,      0.1001,      0.1011,      0.1021,      0.1031,      0.1041,     0.10511,     0.10611,     0.10711,     0.10811,     0.10911,     0.11011,     0.11111,     0.11211,     0.11311,     0.11411,     0.11512,     0.11612,     0.11712,     0.11812,     0.11912,\n",
       "           0.12012,     0.12112,     0.12212,     0.12312,     0.12412,     0.12513,     0.12613,     0.12713,     0.12813,     0.12913,     0.13013,     0.13113,     0.13213,     0.13313,     0.13413,     0.13514,     0.13614,     0.13714,     0.13814,     0.13914,     0.14014,     0.14114,     0.14214,     0.14314,\n",
       "           0.14414,     0.14515,     0.14615,     0.14715,     0.14815,     0.14915,     0.15015,     0.15115,     0.15215,     0.15315,     0.15415,     0.15516,     0.15616,     0.15716,     0.15816,     0.15916,     0.16016,     0.16116,     0.16216,     0.16316,     0.16416,     0.16517,     0.16617,     0.16717,\n",
       "           0.16817,     0.16917,     0.17017,     0.17117,     0.17217,     0.17317,     0.17417,     0.17518,     0.17618,     0.17718,     0.17818,     0.17918,     0.18018,     0.18118,     0.18218,     0.18318,     0.18418,     0.18519,     0.18619,     0.18719,     0.18819,     0.18919,     0.19019,     0.19119,\n",
       "           0.19219,     0.19319,     0.19419,      0.1952,      0.1962,      0.1972,      0.1982,      0.1992,      0.2002,      0.2012,      0.2022,      0.2032,      0.2042,     0.20521,     0.20621,     0.20721,     0.20821,     0.20921,     0.21021,     0.21121,     0.21221,     0.21321,     0.21421,     0.21522,\n",
       "           0.21622,     0.21722,     0.21822,     0.21922,     0.22022,     0.22122,     0.22222,     0.22322,     0.22422,     0.22523,     0.22623,     0.22723,     0.22823,     0.22923,     0.23023,     0.23123,     0.23223,     0.23323,     0.23423,     0.23524,     0.23624,     0.23724,     0.23824,     0.23924,\n",
       "           0.24024,     0.24124,     0.24224,     0.24324,     0.24424,     0.24525,     0.24625,     0.24725,     0.24825,     0.24925,     0.25025,     0.25125,     0.25225,     0.25325,     0.25425,     0.25526,     0.25626,     0.25726,     0.25826,     0.25926,     0.26026,     0.26126,     0.26226,     0.26326,\n",
       "           0.26426,     0.26527,     0.26627,     0.26727,     0.26827,     0.26927,     0.27027,     0.27127,     0.27227,     0.27327,     0.27427,     0.27528,     0.27628,     0.27728,     0.27828,     0.27928,     0.28028,     0.28128,     0.28228,     0.28328,     0.28428,     0.28529,     0.28629,     0.28729,\n",
       "           0.28829,     0.28929,     0.29029,     0.29129,     0.29229,     0.29329,     0.29429,      0.2953,      0.2963,      0.2973,      0.2983,      0.2993,      0.3003,      0.3013,      0.3023,      0.3033,      0.3043,     0.30531,     0.30631,     0.30731,     0.30831,     0.30931,     0.31031,     0.31131,\n",
       "           0.31231,     0.31331,     0.31431,     0.31532,     0.31632,     0.31732,     0.31832,     0.31932,     0.32032,     0.32132,     0.32232,     0.32332,     0.32432,     0.32533,     0.32633,     0.32733,     0.32833,     0.32933,     0.33033,     0.33133,     0.33233,     0.33333,     0.33433,     0.33534,\n",
       "           0.33634,     0.33734,     0.33834,     0.33934,     0.34034,     0.34134,     0.34234,     0.34334,     0.34434,     0.34535,     0.34635,     0.34735,     0.34835,     0.34935,     0.35035,     0.35135,     0.35235,     0.35335,     0.35435,     0.35536,     0.35636,     0.35736,     0.35836,     0.35936,\n",
       "           0.36036,     0.36136,     0.36236,     0.36336,     0.36436,     0.36537,     0.36637,     0.36737,     0.36837,     0.36937,     0.37037,     0.37137,     0.37237,     0.37337,     0.37437,     0.37538,     0.37638,     0.37738,     0.37838,     0.37938,     0.38038,     0.38138,     0.38238,     0.38338,\n",
       "           0.38438,     0.38539,     0.38639,     0.38739,     0.38839,     0.38939,     0.39039,     0.39139,     0.39239,     0.39339,     0.39439,      0.3954,      0.3964,      0.3974,      0.3984,      0.3994,      0.4004,      0.4014,      0.4024,      0.4034,      0.4044,     0.40541,     0.40641,     0.40741,\n",
       "           0.40841,     0.40941,     0.41041,     0.41141,     0.41241,     0.41341,     0.41441,     0.41542,     0.41642,     0.41742,     0.41842,     0.41942,     0.42042,     0.42142,     0.42242,     0.42342,     0.42442,     0.42543,     0.42643,     0.42743,     0.42843,     0.42943,     0.43043,     0.43143,\n",
       "           0.43243,     0.43343,     0.43443,     0.43544,     0.43644,     0.43744,     0.43844,     0.43944,     0.44044,     0.44144,     0.44244,     0.44344,     0.44444,     0.44545,     0.44645,     0.44745,     0.44845,     0.44945,     0.45045,     0.45145,     0.45245,     0.45345,     0.45445,     0.45546,\n",
       "           0.45646,     0.45746,     0.45846,     0.45946,     0.46046,     0.46146,     0.46246,     0.46346,     0.46446,     0.46547,     0.46647,     0.46747,     0.46847,     0.46947,     0.47047,     0.47147,     0.47247,     0.47347,     0.47447,     0.47548,     0.47648,     0.47748,     0.47848,     0.47948,\n",
       "           0.48048,     0.48148,     0.48248,     0.48348,     0.48448,     0.48549,     0.48649,     0.48749,     0.48849,     0.48949,     0.49049,     0.49149,     0.49249,     0.49349,     0.49449,      0.4955,      0.4965,      0.4975,      0.4985,      0.4995,      0.5005,      0.5015,      0.5025,      0.5035,\n",
       "            0.5045,     0.50551,     0.50651,     0.50751,     0.50851,     0.50951,     0.51051,     0.51151,     0.51251,     0.51351,     0.51451,     0.51552,     0.51652,     0.51752,     0.51852,     0.51952,     0.52052,     0.52152,     0.52252,     0.52352,     0.52452,     0.52553,     0.52653,     0.52753,\n",
       "           0.52853,     0.52953,     0.53053,     0.53153,     0.53253,     0.53353,     0.53453,     0.53554,     0.53654,     0.53754,     0.53854,     0.53954,     0.54054,     0.54154,     0.54254,     0.54354,     0.54454,     0.54555,     0.54655,     0.54755,     0.54855,     0.54955,     0.55055,     0.55155,\n",
       "           0.55255,     0.55355,     0.55455,     0.55556,     0.55656,     0.55756,     0.55856,     0.55956,     0.56056,     0.56156,     0.56256,     0.56356,     0.56456,     0.56557,     0.56657,     0.56757,     0.56857,     0.56957,     0.57057,     0.57157,     0.57257,     0.57357,     0.57457,     0.57558,\n",
       "           0.57658,     0.57758,     0.57858,     0.57958,     0.58058,     0.58158,     0.58258,     0.58358,     0.58458,     0.58559,     0.58659,     0.58759,     0.58859,     0.58959,     0.59059,     0.59159,     0.59259,     0.59359,     0.59459,      0.5956,      0.5966,      0.5976,      0.5986,      0.5996,\n",
       "            0.6006,      0.6016,      0.6026,      0.6036,      0.6046,     0.60561,     0.60661,     0.60761,     0.60861,     0.60961,     0.61061,     0.61161,     0.61261,     0.61361,     0.61461,     0.61562,     0.61662,     0.61762,     0.61862,     0.61962,     0.62062,     0.62162,     0.62262,     0.62362,\n",
       "           0.62462,     0.62563,     0.62663,     0.62763,     0.62863,     0.62963,     0.63063,     0.63163,     0.63263,     0.63363,     0.63463,     0.63564,     0.63664,     0.63764,     0.63864,     0.63964,     0.64064,     0.64164,     0.64264,     0.64364,     0.64464,     0.64565,     0.64665,     0.64765,\n",
       "           0.64865,     0.64965,     0.65065,     0.65165,     0.65265,     0.65365,     0.65465,     0.65566,     0.65666,     0.65766,     0.65866,     0.65966,     0.66066,     0.66166,     0.66266,     0.66366,     0.66466,     0.66567,     0.66667,     0.66767,     0.66867,     0.66967,     0.67067,     0.67167,\n",
       "           0.67267,     0.67367,     0.67467,     0.67568,     0.67668,     0.67768,     0.67868,     0.67968,     0.68068,     0.68168,     0.68268,     0.68368,     0.68468,     0.68569,     0.68669,     0.68769,     0.68869,     0.68969,     0.69069,     0.69169,     0.69269,     0.69369,     0.69469,      0.6957,\n",
       "            0.6967,      0.6977,      0.6987,      0.6997,      0.7007,      0.7017,      0.7027,      0.7037,      0.7047,     0.70571,     0.70671,     0.70771,     0.70871,     0.70971,     0.71071,     0.71171,     0.71271,     0.71371,     0.71471,     0.71572,     0.71672,     0.71772,     0.71872,     0.71972,\n",
       "           0.72072,     0.72172,     0.72272,     0.72372,     0.72472,     0.72573,     0.72673,     0.72773,     0.72873,     0.72973,     0.73073,     0.73173,     0.73273,     0.73373,     0.73473,     0.73574,     0.73674,     0.73774,     0.73874,     0.73974,     0.74074,     0.74174,     0.74274,     0.74374,\n",
       "           0.74474,     0.74575,     0.74675,     0.74775,     0.74875,     0.74975,     0.75075,     0.75175,     0.75275,     0.75375,     0.75475,     0.75576,     0.75676,     0.75776,     0.75876,     0.75976,     0.76076,     0.76176,     0.76276,     0.76376,     0.76476,     0.76577,     0.76677,     0.76777,\n",
       "           0.76877,     0.76977,     0.77077,     0.77177,     0.77277,     0.77377,     0.77477,     0.77578,     0.77678,     0.77778,     0.77878,     0.77978,     0.78078,     0.78178,     0.78278,     0.78378,     0.78478,     0.78579,     0.78679,     0.78779,     0.78879,     0.78979,     0.79079,     0.79179,\n",
       "           0.79279,     0.79379,     0.79479,      0.7958,      0.7968,      0.7978,      0.7988,      0.7998,      0.8008,      0.8018,      0.8028,      0.8038,      0.8048,     0.80581,     0.80681,     0.80781,     0.80881,     0.80981,     0.81081,     0.81181,     0.81281,     0.81381,     0.81481,     0.81582,\n",
       "           0.81682,     0.81782,     0.81882,     0.81982,     0.82082,     0.82182,     0.82282,     0.82382,     0.82482,     0.82583,     0.82683,     0.82783,     0.82883,     0.82983,     0.83083,     0.83183,     0.83283,     0.83383,     0.83483,     0.83584,     0.83684,     0.83784,     0.83884,     0.83984,\n",
       "           0.84084,     0.84184,     0.84284,     0.84384,     0.84484,     0.84585,     0.84685,     0.84785,     0.84885,     0.84985,     0.85085,     0.85185,     0.85285,     0.85385,     0.85485,     0.85586,     0.85686,     0.85786,     0.85886,     0.85986,     0.86086,     0.86186,     0.86286,     0.86386,\n",
       "           0.86486,     0.86587,     0.86687,     0.86787,     0.86887,     0.86987,     0.87087,     0.87187,     0.87287,     0.87387,     0.87487,     0.87588,     0.87688,     0.87788,     0.87888,     0.87988,     0.88088,     0.88188,     0.88288,     0.88388,     0.88488,     0.88589,     0.88689,     0.88789,\n",
       "           0.88889,     0.88989,     0.89089,     0.89189,     0.89289,     0.89389,     0.89489,      0.8959,      0.8969,      0.8979,      0.8989,      0.8999,      0.9009,      0.9019,      0.9029,      0.9039,      0.9049,     0.90591,     0.90691,     0.90791,     0.90891,     0.90991,     0.91091,     0.91191,\n",
       "           0.91291,     0.91391,     0.91491,     0.91592,     0.91692,     0.91792,     0.91892,     0.91992,     0.92092,     0.92192,     0.92292,     0.92392,     0.92492,     0.92593,     0.92693,     0.92793,     0.92893,     0.92993,     0.93093,     0.93193,     0.93293,     0.93393,     0.93493,     0.93594,\n",
       "           0.93694,     0.93794,     0.93894,     0.93994,     0.94094,     0.94194,     0.94294,     0.94394,     0.94494,     0.94595,     0.94695,     0.94795,     0.94895,     0.94995,     0.95095,     0.95195,     0.95295,     0.95395,     0.95495,     0.95596,     0.95696,     0.95796,     0.95896,     0.95996,\n",
       "           0.96096,     0.96196,     0.96296,     0.96396,     0.96496,     0.96597,     0.96697,     0.96797,     0.96897,     0.96997,     0.97097,     0.97197,     0.97297,     0.97397,     0.97497,     0.97598,     0.97698,     0.97798,     0.97898,     0.97998,     0.98098,     0.98198,     0.98298,     0.98398,\n",
       "           0.98498,     0.98599,     0.98699,     0.98799,     0.98899,     0.98999,     0.99099,     0.99199,     0.99299,     0.99399,     0.99499,       0.996,       0.997,       0.998,       0.999,           1]), array([[          1,           1,           1,           1,           1,           1,           1,           1,           1,           1,           1,           1,           1,           1,           1,           1,           1,           1,           1,           1,           1,           1,           1,\n",
       "                  1,           1,           1,           1,           1,           1,           1,           1,           1,           1,           1,           1,           1,           1,           1,           1,           1,           1,           1,           1,           1,           1,           1,\n",
       "                  1,           1,           1,           1,           1,           1,           1,           1,           1,           1,           1,           1,           1,           1,           1,           1,           1,           1,           1,           1,           1,           1,           1,\n",
       "                  1,           1,           1,           1,           1,           1,           1,           1,           1,           1,           1,           1,           1,           1,           1,           1,           1,           1,           1,           1,           1,           1,           1,\n",
       "                  1,           1,           1,           1,           1,           1,           1,           1,           1,           1,           1,           1,           1,           1,           1,           1,           1,           1,           1,           1,           1,           1,           1,\n",
       "                  1,           1,           1,           1,           1,           1,           1,           1,           1,           1,           1,           1,           1,           1,           1,           1,           1,           1,           1,           1,           1,           1,           1,\n",
       "                  1,           1,           1,           1,           1,           1,           1,           1,           1,           1,           1,           1,           1,           1,           1,           1,           1,           1,           1,           1,           1,           1,           1,\n",
       "                  1,           1,           1,           1,           1,           1,           1,           1,           1,           1,           1,           1,           1,           1,           1,           1,           1,           1,           1,           1,           1,           1,           1,\n",
       "                  1,           1,           1,           1,           1,           1,           1,           1,           1,           1,           1,           1,           1,           1,           1,           1,           1,           1,           1,           1,           1,           1,           1,\n",
       "                  1,           1,           1,           1,           1,           1,           1,           1,           1,           1,           1,           1,           1,           1,           1,           1,           1,           1,           1,           1,           1,           1,           1,\n",
       "                  1,           1,           1,           1,           1,           1,           1,           1,           1,           1,           1,           1,           1,           1,           1,           1,           1,           1,           1,           1,           1,           1,           1,\n",
       "                  1,           1,           1,           1,           1,           1,           1,           1,           1,           1,           1,           1,           1,           1,           1,           1,           1,           1,           1,           1,           1,           1,           1,\n",
       "                  1,           1,           1,           1,           1,           1,           1,           1,           1,           1,           1,           1,           1,           1,           1,           1,           1,           1,           1,           1,           1,           1,           1,\n",
       "                  1,           1,           1,           1,           1,           1,           1,           1,           1,           1,           1,           1,           1,           1,           1,           1,           1,           1,           1,           1,           1,           1,           1,\n",
       "                  1,           1,           1,           1,           1,           1,           1,           1,           1,           1,           1,           1,           1,           1,           1,           1,           1,           1,           1,           1,           1,           1,           1,\n",
       "                  1,           1,           1,           1,           1,           1,           1,           1,           1,           1,           1,           1,           1,           1,           1,           1,           1,           1,           1,           1,           1,           1,           1,\n",
       "                  1,           1,           1,           1,           1,           1,           1,           1,           1,           1,           1,           1,           1,           1,           1,           1,           1,           1,           1,           1,           1,           1,           1,\n",
       "                  1,           1,           1,           1,           1,           1,           1,           1,           1,           1,           1,           1,           1,           1,           1,           1,           1,           1,           1,           1,           1,           1,           1,\n",
       "                  1,           1,           1,           1,           1,           1,           1,           1,           1,           1,           1,           1,           1,           1,           1,           1,           1,           1,           1,           1,           1,           1,           1,\n",
       "                  1,           1,           1,           1,           1,           1,           1,           1,           1,           1,           1,           1,           1,           1,           1,           1,           1,           1,           1,           1,           1,           1,           1,\n",
       "                  1,           1,           1,           1,           1,           1,           1,           1,           1,           1,           1,           1,           1,           1,           1,           1,           1,           1,           1,           1,           1,           1,           1,\n",
       "                  1,           1,           1,           1,           1,           1,           1,           1,           1,           1,           1,           1,           1,           1,           1,           1,           1,           1,           1,           1,           1,           1,           1,\n",
       "                  1,           1,           1,           1,           1,           1,           1,           1,           1,           1,           1,           1,           1,           1,           1,           1,           1,           1,           1,           1,           1,           1,           1,\n",
       "                  1,           1,           1,           1,           1,           1,           1,           1,           1,           1,           1,           1,           1,           1,           1,           1,           1,           1,           1,           1,           1,           1,           1,\n",
       "                  1,           1,           1,           1,           1,           1,           1,           1,           1,           1,           1,           1,           1,           1,           1,           1,           1,           1,           1,           1,           1,           1,           1,\n",
       "                  1,           1,           1,           1,           1,           1,           1,           1,           1,           1,           1,           1,           1,           1,           1,           1,           1,           1,           1,           1,           1,           1,           1,\n",
       "                  1,           1,           1,           1,           1,           1,           1,           1,           1,           1,           1,           1,           1,           1,           1,           1,           1,           1,           1,           1,           1,           1,           1,\n",
       "                  1,           1,           1,           1,           1,           1,           1,           1,           1,           1,           1,           1,           1,           1,           1,           1,           1,           1,           1,           1,           1,           1,           1,\n",
       "                  1,           1,           1,           1,           1,           1,           1,           1,           1,           1,           1,           1,           1,           1,           1,           1,           1,           1,           1,           1,           1,           1,           1,\n",
       "                  1,           1,           1,           1,           1,           1,           1,           1,           1,           1,           1,           1,           1,           1,           1,           1,           1,           1,           1,           1,           1,           1,           1,\n",
       "                  1,           1,           1,           1,           1,           1,           1,           1,           1,           1,           1,           1,           1,           1,           1,           1,           1,           1,           1,           1,           1,           1,           1,\n",
       "                  1,           1,           1,           1,           1,           1,           1,           1,           1,           1,           1,           1,           1,           1,           1,           1,           1,           1,           1,           1,           1,           1,           1,\n",
       "                  1,           1,           1,           1,           1,           1,           1,           1,           1,           1,           1,           1,           1,           1,           1,           1,           1,           1,           1,           1,           1,           1,           1,\n",
       "                  1,           1,           1,           1,           1,           1,           1,           1,           1,           1,           1,           1,           1,           1,           1,           1,           1,           1,           1,           1,           1,           1,           1,\n",
       "                  1,           1,           1,           1,           1,           1,           1,           1,           1,           1,           1,           1,           1,           1,           1,           1,           1,           1,           1,           1,           1,           1,           1,\n",
       "                  1,           1,           1,           1,           1,           1,           1,           1,           1,           1,           1,           1,           1,           1,           1,           1,           1,           1,           1,           1,           1,           1,           1,\n",
       "                  1,           1,           1,           1,           1,           1,           1,           1,           1,           1,           1,           1,           1,           1,           1,           1,           1,           1,           1,           1,           1,           1,           1,\n",
       "                  1,           1,           1,           1,           1,           1,           1,           1,           1,           1,           1,           1,           1,           1,           1,           1,           1,           1,           1,           1,           1,           1,           1,\n",
       "                  1,           1,           1,           1,           1,           1,           1,           1,           1,           1,           1,           1,           1,           1,           1,           1,           1,           1,           1,           1,           1,           1,           1,\n",
       "                  1,           1,           1,           1,           1,           1,           1,           1,           1,           1,           1,           1,           1,           1,           1,           1,           1,           1,           1,           1,           1,           1,           1,\n",
       "                  1,           1,           1,           1,           1,           1,           1,           1,           1,           1,           1,           1,           1,           1,           1,           1,           1,           1,           1,           1,           1,           1,           1,\n",
       "                  1,           1,           1,           1,           1,           1,           1,           1,           1,           1,           1,           1,           1,           1,           1,           1,           1,           1,           1,           1,           1,           1,           1,\n",
       "                  1,           1,           1,           1,           1,           1,           1,           1,           1,           1,           1,     0.96629,     0.96629,     0.96629,     0.96629,     0.96629,     0.96629,     0.96629,     0.96629,     0.96629,     0.96629,     0.96629,     0.95604,\n",
       "            0.95604,     0.95604,     0.95604,     0.95604,     0.95604,     0.95604,     0.95604,     0.95604,     0.95604,     0.95604,           0]]), 'Recall', 'Precision'], [array([          0,    0.001001,    0.002002,    0.003003,    0.004004,    0.005005,    0.006006,    0.007007,    0.008008,    0.009009,     0.01001,    0.011011,    0.012012,    0.013013,    0.014014,    0.015015,    0.016016,    0.017017,    0.018018,    0.019019,     0.02002,    0.021021,    0.022022,    0.023023,\n",
       "          0.024024,    0.025025,    0.026026,    0.027027,    0.028028,    0.029029,     0.03003,    0.031031,    0.032032,    0.033033,    0.034034,    0.035035,    0.036036,    0.037037,    0.038038,    0.039039,     0.04004,    0.041041,    0.042042,    0.043043,    0.044044,    0.045045,    0.046046,    0.047047,\n",
       "          0.048048,    0.049049,     0.05005,    0.051051,    0.052052,    0.053053,    0.054054,    0.055055,    0.056056,    0.057057,    0.058058,    0.059059,     0.06006,    0.061061,    0.062062,    0.063063,    0.064064,    0.065065,    0.066066,    0.067067,    0.068068,    0.069069,     0.07007,    0.071071,\n",
       "          0.072072,    0.073073,    0.074074,    0.075075,    0.076076,    0.077077,    0.078078,    0.079079,     0.08008,    0.081081,    0.082082,    0.083083,    0.084084,    0.085085,    0.086086,    0.087087,    0.088088,    0.089089,     0.09009,    0.091091,    0.092092,    0.093093,    0.094094,    0.095095,\n",
       "          0.096096,    0.097097,    0.098098,    0.099099,      0.1001,      0.1011,      0.1021,      0.1031,      0.1041,     0.10511,     0.10611,     0.10711,     0.10811,     0.10911,     0.11011,     0.11111,     0.11211,     0.11311,     0.11411,     0.11512,     0.11612,     0.11712,     0.11812,     0.11912,\n",
       "           0.12012,     0.12112,     0.12212,     0.12312,     0.12412,     0.12513,     0.12613,     0.12713,     0.12813,     0.12913,     0.13013,     0.13113,     0.13213,     0.13313,     0.13413,     0.13514,     0.13614,     0.13714,     0.13814,     0.13914,     0.14014,     0.14114,     0.14214,     0.14314,\n",
       "           0.14414,     0.14515,     0.14615,     0.14715,     0.14815,     0.14915,     0.15015,     0.15115,     0.15215,     0.15315,     0.15415,     0.15516,     0.15616,     0.15716,     0.15816,     0.15916,     0.16016,     0.16116,     0.16216,     0.16316,     0.16416,     0.16517,     0.16617,     0.16717,\n",
       "           0.16817,     0.16917,     0.17017,     0.17117,     0.17217,     0.17317,     0.17417,     0.17518,     0.17618,     0.17718,     0.17818,     0.17918,     0.18018,     0.18118,     0.18218,     0.18318,     0.18418,     0.18519,     0.18619,     0.18719,     0.18819,     0.18919,     0.19019,     0.19119,\n",
       "           0.19219,     0.19319,     0.19419,      0.1952,      0.1962,      0.1972,      0.1982,      0.1992,      0.2002,      0.2012,      0.2022,      0.2032,      0.2042,     0.20521,     0.20621,     0.20721,     0.20821,     0.20921,     0.21021,     0.21121,     0.21221,     0.21321,     0.21421,     0.21522,\n",
       "           0.21622,     0.21722,     0.21822,     0.21922,     0.22022,     0.22122,     0.22222,     0.22322,     0.22422,     0.22523,     0.22623,     0.22723,     0.22823,     0.22923,     0.23023,     0.23123,     0.23223,     0.23323,     0.23423,     0.23524,     0.23624,     0.23724,     0.23824,     0.23924,\n",
       "           0.24024,     0.24124,     0.24224,     0.24324,     0.24424,     0.24525,     0.24625,     0.24725,     0.24825,     0.24925,     0.25025,     0.25125,     0.25225,     0.25325,     0.25425,     0.25526,     0.25626,     0.25726,     0.25826,     0.25926,     0.26026,     0.26126,     0.26226,     0.26326,\n",
       "           0.26426,     0.26527,     0.26627,     0.26727,     0.26827,     0.26927,     0.27027,     0.27127,     0.27227,     0.27327,     0.27427,     0.27528,     0.27628,     0.27728,     0.27828,     0.27928,     0.28028,     0.28128,     0.28228,     0.28328,     0.28428,     0.28529,     0.28629,     0.28729,\n",
       "           0.28829,     0.28929,     0.29029,     0.29129,     0.29229,     0.29329,     0.29429,      0.2953,      0.2963,      0.2973,      0.2983,      0.2993,      0.3003,      0.3013,      0.3023,      0.3033,      0.3043,     0.30531,     0.30631,     0.30731,     0.30831,     0.30931,     0.31031,     0.31131,\n",
       "           0.31231,     0.31331,     0.31431,     0.31532,     0.31632,     0.31732,     0.31832,     0.31932,     0.32032,     0.32132,     0.32232,     0.32332,     0.32432,     0.32533,     0.32633,     0.32733,     0.32833,     0.32933,     0.33033,     0.33133,     0.33233,     0.33333,     0.33433,     0.33534,\n",
       "           0.33634,     0.33734,     0.33834,     0.33934,     0.34034,     0.34134,     0.34234,     0.34334,     0.34434,     0.34535,     0.34635,     0.34735,     0.34835,     0.34935,     0.35035,     0.35135,     0.35235,     0.35335,     0.35435,     0.35536,     0.35636,     0.35736,     0.35836,     0.35936,\n",
       "           0.36036,     0.36136,     0.36236,     0.36336,     0.36436,     0.36537,     0.36637,     0.36737,     0.36837,     0.36937,     0.37037,     0.37137,     0.37237,     0.37337,     0.37437,     0.37538,     0.37638,     0.37738,     0.37838,     0.37938,     0.38038,     0.38138,     0.38238,     0.38338,\n",
       "           0.38438,     0.38539,     0.38639,     0.38739,     0.38839,     0.38939,     0.39039,     0.39139,     0.39239,     0.39339,     0.39439,      0.3954,      0.3964,      0.3974,      0.3984,      0.3994,      0.4004,      0.4014,      0.4024,      0.4034,      0.4044,     0.40541,     0.40641,     0.40741,\n",
       "           0.40841,     0.40941,     0.41041,     0.41141,     0.41241,     0.41341,     0.41441,     0.41542,     0.41642,     0.41742,     0.41842,     0.41942,     0.42042,     0.42142,     0.42242,     0.42342,     0.42442,     0.42543,     0.42643,     0.42743,     0.42843,     0.42943,     0.43043,     0.43143,\n",
       "           0.43243,     0.43343,     0.43443,     0.43544,     0.43644,     0.43744,     0.43844,     0.43944,     0.44044,     0.44144,     0.44244,     0.44344,     0.44444,     0.44545,     0.44645,     0.44745,     0.44845,     0.44945,     0.45045,     0.45145,     0.45245,     0.45345,     0.45445,     0.45546,\n",
       "           0.45646,     0.45746,     0.45846,     0.45946,     0.46046,     0.46146,     0.46246,     0.46346,     0.46446,     0.46547,     0.46647,     0.46747,     0.46847,     0.46947,     0.47047,     0.47147,     0.47247,     0.47347,     0.47447,     0.47548,     0.47648,     0.47748,     0.47848,     0.47948,\n",
       "           0.48048,     0.48148,     0.48248,     0.48348,     0.48448,     0.48549,     0.48649,     0.48749,     0.48849,     0.48949,     0.49049,     0.49149,     0.49249,     0.49349,     0.49449,      0.4955,      0.4965,      0.4975,      0.4985,      0.4995,      0.5005,      0.5015,      0.5025,      0.5035,\n",
       "            0.5045,     0.50551,     0.50651,     0.50751,     0.50851,     0.50951,     0.51051,     0.51151,     0.51251,     0.51351,     0.51451,     0.51552,     0.51652,     0.51752,     0.51852,     0.51952,     0.52052,     0.52152,     0.52252,     0.52352,     0.52452,     0.52553,     0.52653,     0.52753,\n",
       "           0.52853,     0.52953,     0.53053,     0.53153,     0.53253,     0.53353,     0.53453,     0.53554,     0.53654,     0.53754,     0.53854,     0.53954,     0.54054,     0.54154,     0.54254,     0.54354,     0.54454,     0.54555,     0.54655,     0.54755,     0.54855,     0.54955,     0.55055,     0.55155,\n",
       "           0.55255,     0.55355,     0.55455,     0.55556,     0.55656,     0.55756,     0.55856,     0.55956,     0.56056,     0.56156,     0.56256,     0.56356,     0.56456,     0.56557,     0.56657,     0.56757,     0.56857,     0.56957,     0.57057,     0.57157,     0.57257,     0.57357,     0.57457,     0.57558,\n",
       "           0.57658,     0.57758,     0.57858,     0.57958,     0.58058,     0.58158,     0.58258,     0.58358,     0.58458,     0.58559,     0.58659,     0.58759,     0.58859,     0.58959,     0.59059,     0.59159,     0.59259,     0.59359,     0.59459,      0.5956,      0.5966,      0.5976,      0.5986,      0.5996,\n",
       "            0.6006,      0.6016,      0.6026,      0.6036,      0.6046,     0.60561,     0.60661,     0.60761,     0.60861,     0.60961,     0.61061,     0.61161,     0.61261,     0.61361,     0.61461,     0.61562,     0.61662,     0.61762,     0.61862,     0.61962,     0.62062,     0.62162,     0.62262,     0.62362,\n",
       "           0.62462,     0.62563,     0.62663,     0.62763,     0.62863,     0.62963,     0.63063,     0.63163,     0.63263,     0.63363,     0.63463,     0.63564,     0.63664,     0.63764,     0.63864,     0.63964,     0.64064,     0.64164,     0.64264,     0.64364,     0.64464,     0.64565,     0.64665,     0.64765,\n",
       "           0.64865,     0.64965,     0.65065,     0.65165,     0.65265,     0.65365,     0.65465,     0.65566,     0.65666,     0.65766,     0.65866,     0.65966,     0.66066,     0.66166,     0.66266,     0.66366,     0.66466,     0.66567,     0.66667,     0.66767,     0.66867,     0.66967,     0.67067,     0.67167,\n",
       "           0.67267,     0.67367,     0.67467,     0.67568,     0.67668,     0.67768,     0.67868,     0.67968,     0.68068,     0.68168,     0.68268,     0.68368,     0.68468,     0.68569,     0.68669,     0.68769,     0.68869,     0.68969,     0.69069,     0.69169,     0.69269,     0.69369,     0.69469,      0.6957,\n",
       "            0.6967,      0.6977,      0.6987,      0.6997,      0.7007,      0.7017,      0.7027,      0.7037,      0.7047,     0.70571,     0.70671,     0.70771,     0.70871,     0.70971,     0.71071,     0.71171,     0.71271,     0.71371,     0.71471,     0.71572,     0.71672,     0.71772,     0.71872,     0.71972,\n",
       "           0.72072,     0.72172,     0.72272,     0.72372,     0.72472,     0.72573,     0.72673,     0.72773,     0.72873,     0.72973,     0.73073,     0.73173,     0.73273,     0.73373,     0.73473,     0.73574,     0.73674,     0.73774,     0.73874,     0.73974,     0.74074,     0.74174,     0.74274,     0.74374,\n",
       "           0.74474,     0.74575,     0.74675,     0.74775,     0.74875,     0.74975,     0.75075,     0.75175,     0.75275,     0.75375,     0.75475,     0.75576,     0.75676,     0.75776,     0.75876,     0.75976,     0.76076,     0.76176,     0.76276,     0.76376,     0.76476,     0.76577,     0.76677,     0.76777,\n",
       "           0.76877,     0.76977,     0.77077,     0.77177,     0.77277,     0.77377,     0.77477,     0.77578,     0.77678,     0.77778,     0.77878,     0.77978,     0.78078,     0.78178,     0.78278,     0.78378,     0.78478,     0.78579,     0.78679,     0.78779,     0.78879,     0.78979,     0.79079,     0.79179,\n",
       "           0.79279,     0.79379,     0.79479,      0.7958,      0.7968,      0.7978,      0.7988,      0.7998,      0.8008,      0.8018,      0.8028,      0.8038,      0.8048,     0.80581,     0.80681,     0.80781,     0.80881,     0.80981,     0.81081,     0.81181,     0.81281,     0.81381,     0.81481,     0.81582,\n",
       "           0.81682,     0.81782,     0.81882,     0.81982,     0.82082,     0.82182,     0.82282,     0.82382,     0.82482,     0.82583,     0.82683,     0.82783,     0.82883,     0.82983,     0.83083,     0.83183,     0.83283,     0.83383,     0.83483,     0.83584,     0.83684,     0.83784,     0.83884,     0.83984,\n",
       "           0.84084,     0.84184,     0.84284,     0.84384,     0.84484,     0.84585,     0.84685,     0.84785,     0.84885,     0.84985,     0.85085,     0.85185,     0.85285,     0.85385,     0.85485,     0.85586,     0.85686,     0.85786,     0.85886,     0.85986,     0.86086,     0.86186,     0.86286,     0.86386,\n",
       "           0.86486,     0.86587,     0.86687,     0.86787,     0.86887,     0.86987,     0.87087,     0.87187,     0.87287,     0.87387,     0.87487,     0.87588,     0.87688,     0.87788,     0.87888,     0.87988,     0.88088,     0.88188,     0.88288,     0.88388,     0.88488,     0.88589,     0.88689,     0.88789,\n",
       "           0.88889,     0.88989,     0.89089,     0.89189,     0.89289,     0.89389,     0.89489,      0.8959,      0.8969,      0.8979,      0.8989,      0.8999,      0.9009,      0.9019,      0.9029,      0.9039,      0.9049,     0.90591,     0.90691,     0.90791,     0.90891,     0.90991,     0.91091,     0.91191,\n",
       "           0.91291,     0.91391,     0.91491,     0.91592,     0.91692,     0.91792,     0.91892,     0.91992,     0.92092,     0.92192,     0.92292,     0.92392,     0.92492,     0.92593,     0.92693,     0.92793,     0.92893,     0.92993,     0.93093,     0.93193,     0.93293,     0.93393,     0.93493,     0.93594,\n",
       "           0.93694,     0.93794,     0.93894,     0.93994,     0.94094,     0.94194,     0.94294,     0.94394,     0.94494,     0.94595,     0.94695,     0.94795,     0.94895,     0.94995,     0.95095,     0.95195,     0.95295,     0.95395,     0.95495,     0.95596,     0.95696,     0.95796,     0.95896,     0.95996,\n",
       "           0.96096,     0.96196,     0.96296,     0.96396,     0.96496,     0.96597,     0.96697,     0.96797,     0.96897,     0.96997,     0.97097,     0.97197,     0.97297,     0.97397,     0.97497,     0.97598,     0.97698,     0.97798,     0.97898,     0.97998,     0.98098,     0.98198,     0.98298,     0.98398,\n",
       "           0.98498,     0.98599,     0.98699,     0.98799,     0.98899,     0.98999,     0.99099,     0.99199,     0.99299,     0.99399,     0.99499,       0.996,       0.997,       0.998,       0.999,           1]), array([[    0.79452,     0.79452,     0.85484,     0.88861,     0.90831,     0.91714,     0.92102,      0.9221,     0.92319,     0.92427,     0.92534,     0.92791,     0.93357,     0.94348,     0.94696,     0.95065,     0.95131,     0.95182,     0.95234,     0.95285,     0.95336,     0.95387,     0.95438,\n",
       "            0.95489,     0.95541,     0.95591,     0.95607,     0.95611,     0.95615,     0.95618,     0.95622,     0.95626,      0.9563,     0.95633,     0.95637,     0.95641,     0.95644,     0.95648,     0.95652,     0.95656,     0.95659,     0.95663,     0.95667,     0.95671,     0.95674,     0.95678,\n",
       "            0.95682,     0.95686,     0.95689,     0.95693,     0.95697,       0.957,     0.95704,     0.95708,     0.95712,     0.95715,     0.95719,     0.95723,     0.95726,      0.9573,     0.95734,     0.95738,     0.95741,     0.95745,     0.95749,     0.95753,     0.95756,      0.9576,     0.95764,\n",
       "            0.95767,     0.95771,     0.95775,     0.95779,     0.95782,     0.95786,      0.9579,     0.95793,     0.95797,     0.95801,     0.95805,     0.95808,     0.95812,     0.95816,      0.9582,     0.95823,     0.95827,     0.95831,     0.95834,     0.95838,     0.95842,     0.95846,     0.95849,\n",
       "            0.95853,     0.95857,      0.9586,     0.95864,     0.95868,     0.95872,     0.95875,     0.95879,     0.95883,     0.95886,      0.9589,     0.95894,     0.95898,     0.95901,     0.95905,     0.95909,     0.95912,     0.95916,      0.9592,     0.95924,     0.95927,     0.95931,     0.95935,\n",
       "            0.95938,     0.95942,     0.95946,     0.95949,     0.95953,     0.95957,     0.95961,     0.95964,     0.95968,     0.95972,     0.95975,     0.95979,     0.95983,     0.95987,      0.9599,     0.95994,     0.95998,     0.96001,     0.96005,     0.96009,     0.96012,     0.96016,      0.9602,\n",
       "            0.96024,     0.96027,     0.96031,     0.96035,     0.96038,     0.96042,     0.96046,      0.9605,     0.96053,     0.96057,     0.96061,     0.96064,     0.96068,     0.96072,     0.96075,     0.96079,     0.96083,     0.96087,      0.9609,     0.96094,     0.96098,     0.96101,     0.96105,\n",
       "            0.96109,     0.96112,     0.96116,      0.9612,     0.96123,     0.96127,     0.96131,     0.96163,     0.96219,     0.96276,     0.96332,     0.96388,     0.96445,     0.96501,     0.96557,     0.96613,     0.96667,     0.96684,       0.967,     0.96716,     0.96732,     0.96748,     0.96765,\n",
       "            0.96781,     0.96797,     0.96813,     0.96829,     0.96846,     0.96862,     0.96878,     0.96894,      0.9691,     0.96926,     0.96942,     0.96959,     0.96975,     0.96991,     0.97007,     0.97023,     0.97039,     0.97055,     0.97071,     0.97087,     0.97104,      0.9712,     0.97136,\n",
       "            0.97152,     0.97168,     0.97184,       0.972,     0.97209,     0.97214,     0.97219,     0.97223,     0.97228,     0.97232,     0.97237,     0.97242,     0.97246,     0.97251,     0.97256,      0.9726,     0.97265,     0.97269,     0.97274,     0.97279,     0.97283,     0.97288,     0.97292,\n",
       "            0.97297,     0.97302,     0.97306,     0.97311,     0.97315,      0.9732,     0.97325,     0.97329,     0.97334,     0.97339,     0.97343,     0.97348,     0.97352,     0.97357,     0.97362,     0.97366,     0.97371,     0.97375,      0.9738,     0.97385,     0.97389,     0.97394,     0.97398,\n",
       "            0.97403,     0.97408,     0.97412,     0.97417,     0.97421,     0.97426,     0.97431,     0.97435,      0.9744,     0.97444,     0.97449,     0.97454,     0.97458,     0.97463,     0.97467,     0.97472,     0.97477,     0.97481,     0.97486,      0.9749,     0.97495,       0.975,     0.97504,\n",
       "            0.97509,     0.97513,     0.97518,     0.97523,     0.97527,     0.97532,     0.97536,     0.97541,     0.97545,      0.9755,     0.97555,     0.97559,     0.97564,     0.97568,     0.97573,     0.97578,     0.97582,     0.97587,     0.97591,     0.97596,     0.97601,     0.97605,      0.9761,\n",
       "            0.97614,     0.97619,     0.97623,     0.97628,     0.97633,     0.97637,     0.97642,     0.97646,     0.97651,     0.97655,      0.9766,     0.97665,     0.97669,     0.97674,     0.97678,     0.97683,     0.97688,     0.97692,     0.97697,     0.97701,     0.97706,      0.9771,     0.97715,\n",
       "             0.9772,     0.97724,     0.97729,     0.97733,     0.97738,     0.97742,     0.97747,     0.97752,     0.97738,     0.97719,     0.97699,     0.97679,      0.9766,      0.9764,      0.9762,       0.976,     0.97581,     0.97561,     0.97541,     0.97521,     0.97501,     0.97482,     0.97462,\n",
       "            0.97442,     0.97422,     0.97402,     0.97382,     0.97363,     0.97343,     0.97323,     0.97303,     0.97283,     0.97263,     0.97243,     0.97223,     0.97204,     0.97184,     0.97177,     0.97179,     0.97181,     0.97184,     0.97186,     0.97189,     0.97191,     0.97193,     0.97196,\n",
       "            0.97198,     0.97201,     0.97203,     0.97206,     0.97208,      0.9721,     0.97213,     0.97215,     0.97218,      0.9722,     0.97222,     0.97225,     0.97227,      0.9723,     0.97232,     0.97235,     0.97237,     0.97239,     0.97242,     0.97244,     0.97247,     0.97249,     0.97251,\n",
       "            0.97254,     0.97256,     0.97259,     0.97261,     0.97263,     0.97266,     0.97268,     0.97271,     0.97273,     0.97276,     0.97278,      0.9728,     0.97283,     0.97285,     0.97288,      0.9729,     0.97292,     0.97295,     0.97297,       0.973,     0.97302,     0.97305,     0.97307,\n",
       "            0.97309,     0.97312,     0.97314,     0.97317,     0.97319,     0.97321,     0.97324,     0.97326,     0.97329,     0.97331,     0.97333,     0.97336,     0.97338,     0.97341,     0.97343,     0.97345,     0.97348,      0.9735,     0.97353,     0.97355,     0.97358,      0.9736,     0.97362,\n",
       "            0.97365,     0.97367,      0.9737,     0.97372,     0.97374,     0.97377,     0.97379,     0.97382,     0.97384,     0.97386,     0.97389,     0.97391,     0.97394,     0.97396,     0.97398,     0.97401,     0.97403,     0.97406,     0.97408,     0.97411,     0.97413,     0.97415,     0.97418,\n",
       "             0.9742,     0.97423,     0.97425,     0.97427,      0.9743,     0.97432,     0.97435,     0.97437,     0.97439,     0.97442,     0.97444,     0.97447,     0.97449,     0.97451,     0.97454,     0.97456,     0.97459,     0.97461,     0.97463,     0.97466,     0.97468,     0.97471,     0.97473,\n",
       "            0.97475,     0.97478,      0.9748,     0.97483,     0.97485,     0.97487,      0.9749,     0.97492,     0.97495,     0.97497,     0.97499,     0.97502,     0.97504,     0.97507,     0.97509,     0.97511,     0.97514,     0.97516,     0.97519,     0.97521,     0.97523,     0.97526,     0.97528,\n",
       "            0.97531,     0.97533,     0.97535,     0.97538,      0.9754,     0.97543,     0.97545,     0.97547,      0.9755,     0.97552,     0.97555,     0.97557,     0.97559,     0.97562,     0.97564,     0.97567,     0.97569,     0.97571,     0.97574,     0.97576,     0.97579,     0.97581,     0.97583,\n",
       "            0.97586,     0.97588,     0.97591,     0.97593,     0.97595,     0.97598,       0.976,     0.97603,     0.97605,     0.97607,      0.9761,     0.97612,     0.97615,     0.97617,     0.97619,     0.97622,     0.97624,     0.97627,     0.97629,     0.97631,     0.97634,     0.97636,     0.97639,\n",
       "            0.97641,     0.97643,     0.97646,     0.97648,     0.97651,     0.97653,     0.97655,     0.97658,      0.9766,     0.97663,     0.97665,     0.97667,      0.9767,     0.97672,     0.97675,     0.97677,     0.97679,     0.97682,     0.97684,     0.97686,     0.97689,     0.97691,     0.97694,\n",
       "            0.97696,     0.97698,     0.97701,     0.97703,     0.97706,     0.97708,      0.9771,     0.97713,     0.97715,     0.97718,      0.9772,     0.97722,     0.97725,     0.97727,     0.97717,     0.97707,     0.97696,     0.97686,     0.97675,     0.97665,     0.97654,     0.97643,     0.97633,\n",
       "            0.97622,     0.97612,     0.97601,     0.97591,      0.9758,      0.9757,     0.97559,     0.97548,     0.97538,     0.97527,     0.97517,     0.97506,     0.97496,     0.97485,     0.97474,     0.97464,     0.97453,     0.97443,     0.97432,     0.97421,     0.97411,       0.974,      0.9739,\n",
       "            0.97379,     0.97368,     0.97358,     0.97347,     0.97337,     0.97326,     0.97315,     0.97305,     0.97294,     0.97284,     0.97273,     0.97262,     0.97252,     0.97241,      0.9723,      0.9722,     0.97209,     0.97199,     0.97188,     0.97177,     0.97167,     0.97156,     0.97145,\n",
       "            0.97174,     0.97214,     0.97255,     0.97296,     0.97336,     0.97376,     0.97417,     0.97457,     0.97498,     0.97538,     0.97578,     0.97618,     0.97659,     0.97699,     0.97715,      0.9773,     0.97744,     0.97759,     0.97773,     0.97788,     0.97803,     0.97817,     0.97832,\n",
       "            0.97846,     0.97861,     0.97875,      0.9789,     0.97905,     0.97919,     0.97934,     0.97948,     0.97963,     0.97977,     0.97992,     0.98006,     0.98021,     0.98035,      0.9805,     0.98064,     0.98079,     0.98093,     0.98108,     0.98122,     0.98137,     0.98151,     0.98166,\n",
       "             0.9818,     0.98195,     0.98209,     0.98224,     0.98238,     0.98253,     0.98267,     0.98285,     0.98303,     0.98321,     0.98339,     0.98357,     0.98375,     0.98393,     0.98411,     0.98429,     0.98447,     0.98465,     0.98483,       0.985,     0.98518,     0.98536,     0.98554,\n",
       "            0.98572,      0.9859,     0.98608,     0.98626,     0.98643,     0.98661,     0.98679,     0.98697,     0.98715,     0.98732,      0.9875,     0.98768,     0.98786,     0.98804,     0.98821,     0.98836,     0.98826,     0.98817,     0.98807,     0.98797,     0.98787,     0.98778,     0.98768,\n",
       "            0.98758,     0.98748,     0.98739,     0.98729,     0.98719,     0.98709,       0.987,      0.9869,      0.9868,      0.9867,     0.98661,     0.98651,     0.98641,     0.98631,     0.98621,     0.98612,     0.98602,     0.98592,     0.98582,     0.98573,     0.98563,     0.98553,     0.98543,\n",
       "            0.98533,     0.98524,     0.98514,     0.98504,     0.98494,     0.98484,     0.98475,     0.98465,     0.98455,     0.98445,     0.98435,     0.98425,     0.98416,     0.98406,     0.98396,     0.98386,     0.98376,     0.98366,     0.98357,     0.98347,     0.98337,     0.98327,     0.98317,\n",
       "            0.98307,     0.98298,     0.98288,     0.98278,     0.98268,     0.98258,     0.98248,      0.9823,     0.98208,     0.98186,     0.98164,     0.98142,      0.9812,     0.98098,     0.98076,     0.98054,     0.98032,      0.9801,     0.97988,     0.97966,     0.97944,     0.97922,       0.979,\n",
       "            0.97878,     0.97856,     0.97834,     0.97812,      0.9779,     0.97768,     0.97746,     0.97724,     0.97702,     0.97679,     0.97657,     0.97636,     0.97617,     0.97597,     0.97577,     0.97557,     0.97537,     0.97517,     0.97497,     0.97477,     0.97457,     0.97437,     0.97417,\n",
       "            0.97397,     0.97377,     0.97357,     0.97337,     0.97317,     0.97297,     0.97277,     0.97257,     0.97237,     0.97217,     0.97197,     0.97177,     0.97157,     0.97137,     0.97117,     0.97097,     0.97077,     0.97057,     0.96854,     0.96371,     0.96245,     0.96118,     0.95991,\n",
       "            0.95864,     0.95566,      0.9517,     0.95065,     0.94959,     0.94854,     0.94748,     0.94643,     0.94535,     0.94411,     0.94286,     0.94162,     0.94037,     0.93911,     0.93764,     0.93616,     0.93466,     0.93317,     0.93163,     0.93007,      0.9285,     0.92692,     0.91884,\n",
       "             0.9129,     0.90929,     0.90584,     0.89545,     0.89123,     0.88712,     0.88408,     0.88274,     0.88139,     0.88004,     0.87868,      0.8771,     0.87258,     0.85388,     0.84938,     0.83896,     0.83637,     0.83377,     0.82798,     0.82279,     0.82044,     0.81807,     0.79966,\n",
       "            0.79095,     0.77159,     0.76624,     0.75887,     0.74581,     0.74153,     0.72769,     0.72194,     0.71594,     0.69155,       0.683,     0.67335,      0.6351,     0.60429,      0.5934,     0.56665,     0.54993,     0.54015,     0.52214,     0.50621,     0.48258,     0.47419,     0.46282,\n",
       "             0.4213,     0.38851,      0.3742,     0.35826,     0.34185,       0.335,     0.32809,      0.3176,      0.3009,     0.28804,     0.27968,      0.2721,      0.2648,     0.25476,      0.2349,     0.18359,     0.16821,     0.15562,     0.14704,     0.14303,       0.139,     0.13496,      0.1309,\n",
       "            0.12201,     0.10892,    0.087015,    0.072657,    0.054665,    0.039374,    0.028769,           0,           0,           0,           0,           0,           0,           0,           0,           0,           0,           0,           0,           0,           0,           0,           0,\n",
       "                  0,           0,           0,           0,           0,           0,           0,           0,           0,           0,           0,           0,           0,           0,           0,           0,           0,           0,           0,           0,           0,           0,           0,\n",
       "                  0,           0,           0,           0,           0,           0,           0,           0,           0,           0,           0]]), 'Confidence', 'F1'], [array([          0,    0.001001,    0.002002,    0.003003,    0.004004,    0.005005,    0.006006,    0.007007,    0.008008,    0.009009,     0.01001,    0.011011,    0.012012,    0.013013,    0.014014,    0.015015,    0.016016,    0.017017,    0.018018,    0.019019,     0.02002,    0.021021,    0.022022,    0.023023,\n",
       "          0.024024,    0.025025,    0.026026,    0.027027,    0.028028,    0.029029,     0.03003,    0.031031,    0.032032,    0.033033,    0.034034,    0.035035,    0.036036,    0.037037,    0.038038,    0.039039,     0.04004,    0.041041,    0.042042,    0.043043,    0.044044,    0.045045,    0.046046,    0.047047,\n",
       "          0.048048,    0.049049,     0.05005,    0.051051,    0.052052,    0.053053,    0.054054,    0.055055,    0.056056,    0.057057,    0.058058,    0.059059,     0.06006,    0.061061,    0.062062,    0.063063,    0.064064,    0.065065,    0.066066,    0.067067,    0.068068,    0.069069,     0.07007,    0.071071,\n",
       "          0.072072,    0.073073,    0.074074,    0.075075,    0.076076,    0.077077,    0.078078,    0.079079,     0.08008,    0.081081,    0.082082,    0.083083,    0.084084,    0.085085,    0.086086,    0.087087,    0.088088,    0.089089,     0.09009,    0.091091,    0.092092,    0.093093,    0.094094,    0.095095,\n",
       "          0.096096,    0.097097,    0.098098,    0.099099,      0.1001,      0.1011,      0.1021,      0.1031,      0.1041,     0.10511,     0.10611,     0.10711,     0.10811,     0.10911,     0.11011,     0.11111,     0.11211,     0.11311,     0.11411,     0.11512,     0.11612,     0.11712,     0.11812,     0.11912,\n",
       "           0.12012,     0.12112,     0.12212,     0.12312,     0.12412,     0.12513,     0.12613,     0.12713,     0.12813,     0.12913,     0.13013,     0.13113,     0.13213,     0.13313,     0.13413,     0.13514,     0.13614,     0.13714,     0.13814,     0.13914,     0.14014,     0.14114,     0.14214,     0.14314,\n",
       "           0.14414,     0.14515,     0.14615,     0.14715,     0.14815,     0.14915,     0.15015,     0.15115,     0.15215,     0.15315,     0.15415,     0.15516,     0.15616,     0.15716,     0.15816,     0.15916,     0.16016,     0.16116,     0.16216,     0.16316,     0.16416,     0.16517,     0.16617,     0.16717,\n",
       "           0.16817,     0.16917,     0.17017,     0.17117,     0.17217,     0.17317,     0.17417,     0.17518,     0.17618,     0.17718,     0.17818,     0.17918,     0.18018,     0.18118,     0.18218,     0.18318,     0.18418,     0.18519,     0.18619,     0.18719,     0.18819,     0.18919,     0.19019,     0.19119,\n",
       "           0.19219,     0.19319,     0.19419,      0.1952,      0.1962,      0.1972,      0.1982,      0.1992,      0.2002,      0.2012,      0.2022,      0.2032,      0.2042,     0.20521,     0.20621,     0.20721,     0.20821,     0.20921,     0.21021,     0.21121,     0.21221,     0.21321,     0.21421,     0.21522,\n",
       "           0.21622,     0.21722,     0.21822,     0.21922,     0.22022,     0.22122,     0.22222,     0.22322,     0.22422,     0.22523,     0.22623,     0.22723,     0.22823,     0.22923,     0.23023,     0.23123,     0.23223,     0.23323,     0.23423,     0.23524,     0.23624,     0.23724,     0.23824,     0.23924,\n",
       "           0.24024,     0.24124,     0.24224,     0.24324,     0.24424,     0.24525,     0.24625,     0.24725,     0.24825,     0.24925,     0.25025,     0.25125,     0.25225,     0.25325,     0.25425,     0.25526,     0.25626,     0.25726,     0.25826,     0.25926,     0.26026,     0.26126,     0.26226,     0.26326,\n",
       "           0.26426,     0.26527,     0.26627,     0.26727,     0.26827,     0.26927,     0.27027,     0.27127,     0.27227,     0.27327,     0.27427,     0.27528,     0.27628,     0.27728,     0.27828,     0.27928,     0.28028,     0.28128,     0.28228,     0.28328,     0.28428,     0.28529,     0.28629,     0.28729,\n",
       "           0.28829,     0.28929,     0.29029,     0.29129,     0.29229,     0.29329,     0.29429,      0.2953,      0.2963,      0.2973,      0.2983,      0.2993,      0.3003,      0.3013,      0.3023,      0.3033,      0.3043,     0.30531,     0.30631,     0.30731,     0.30831,     0.30931,     0.31031,     0.31131,\n",
       "           0.31231,     0.31331,     0.31431,     0.31532,     0.31632,     0.31732,     0.31832,     0.31932,     0.32032,     0.32132,     0.32232,     0.32332,     0.32432,     0.32533,     0.32633,     0.32733,     0.32833,     0.32933,     0.33033,     0.33133,     0.33233,     0.33333,     0.33433,     0.33534,\n",
       "           0.33634,     0.33734,     0.33834,     0.33934,     0.34034,     0.34134,     0.34234,     0.34334,     0.34434,     0.34535,     0.34635,     0.34735,     0.34835,     0.34935,     0.35035,     0.35135,     0.35235,     0.35335,     0.35435,     0.35536,     0.35636,     0.35736,     0.35836,     0.35936,\n",
       "           0.36036,     0.36136,     0.36236,     0.36336,     0.36436,     0.36537,     0.36637,     0.36737,     0.36837,     0.36937,     0.37037,     0.37137,     0.37237,     0.37337,     0.37437,     0.37538,     0.37638,     0.37738,     0.37838,     0.37938,     0.38038,     0.38138,     0.38238,     0.38338,\n",
       "           0.38438,     0.38539,     0.38639,     0.38739,     0.38839,     0.38939,     0.39039,     0.39139,     0.39239,     0.39339,     0.39439,      0.3954,      0.3964,      0.3974,      0.3984,      0.3994,      0.4004,      0.4014,      0.4024,      0.4034,      0.4044,     0.40541,     0.40641,     0.40741,\n",
       "           0.40841,     0.40941,     0.41041,     0.41141,     0.41241,     0.41341,     0.41441,     0.41542,     0.41642,     0.41742,     0.41842,     0.41942,     0.42042,     0.42142,     0.42242,     0.42342,     0.42442,     0.42543,     0.42643,     0.42743,     0.42843,     0.42943,     0.43043,     0.43143,\n",
       "           0.43243,     0.43343,     0.43443,     0.43544,     0.43644,     0.43744,     0.43844,     0.43944,     0.44044,     0.44144,     0.44244,     0.44344,     0.44444,     0.44545,     0.44645,     0.44745,     0.44845,     0.44945,     0.45045,     0.45145,     0.45245,     0.45345,     0.45445,     0.45546,\n",
       "           0.45646,     0.45746,     0.45846,     0.45946,     0.46046,     0.46146,     0.46246,     0.46346,     0.46446,     0.46547,     0.46647,     0.46747,     0.46847,     0.46947,     0.47047,     0.47147,     0.47247,     0.47347,     0.47447,     0.47548,     0.47648,     0.47748,     0.47848,     0.47948,\n",
       "           0.48048,     0.48148,     0.48248,     0.48348,     0.48448,     0.48549,     0.48649,     0.48749,     0.48849,     0.48949,     0.49049,     0.49149,     0.49249,     0.49349,     0.49449,      0.4955,      0.4965,      0.4975,      0.4985,      0.4995,      0.5005,      0.5015,      0.5025,      0.5035,\n",
       "            0.5045,     0.50551,     0.50651,     0.50751,     0.50851,     0.50951,     0.51051,     0.51151,     0.51251,     0.51351,     0.51451,     0.51552,     0.51652,     0.51752,     0.51852,     0.51952,     0.52052,     0.52152,     0.52252,     0.52352,     0.52452,     0.52553,     0.52653,     0.52753,\n",
       "           0.52853,     0.52953,     0.53053,     0.53153,     0.53253,     0.53353,     0.53453,     0.53554,     0.53654,     0.53754,     0.53854,     0.53954,     0.54054,     0.54154,     0.54254,     0.54354,     0.54454,     0.54555,     0.54655,     0.54755,     0.54855,     0.54955,     0.55055,     0.55155,\n",
       "           0.55255,     0.55355,     0.55455,     0.55556,     0.55656,     0.55756,     0.55856,     0.55956,     0.56056,     0.56156,     0.56256,     0.56356,     0.56456,     0.56557,     0.56657,     0.56757,     0.56857,     0.56957,     0.57057,     0.57157,     0.57257,     0.57357,     0.57457,     0.57558,\n",
       "           0.57658,     0.57758,     0.57858,     0.57958,     0.58058,     0.58158,     0.58258,     0.58358,     0.58458,     0.58559,     0.58659,     0.58759,     0.58859,     0.58959,     0.59059,     0.59159,     0.59259,     0.59359,     0.59459,      0.5956,      0.5966,      0.5976,      0.5986,      0.5996,\n",
       "            0.6006,      0.6016,      0.6026,      0.6036,      0.6046,     0.60561,     0.60661,     0.60761,     0.60861,     0.60961,     0.61061,     0.61161,     0.61261,     0.61361,     0.61461,     0.61562,     0.61662,     0.61762,     0.61862,     0.61962,     0.62062,     0.62162,     0.62262,     0.62362,\n",
       "           0.62462,     0.62563,     0.62663,     0.62763,     0.62863,     0.62963,     0.63063,     0.63163,     0.63263,     0.63363,     0.63463,     0.63564,     0.63664,     0.63764,     0.63864,     0.63964,     0.64064,     0.64164,     0.64264,     0.64364,     0.64464,     0.64565,     0.64665,     0.64765,\n",
       "           0.64865,     0.64965,     0.65065,     0.65165,     0.65265,     0.65365,     0.65465,     0.65566,     0.65666,     0.65766,     0.65866,     0.65966,     0.66066,     0.66166,     0.66266,     0.66366,     0.66466,     0.66567,     0.66667,     0.66767,     0.66867,     0.66967,     0.67067,     0.67167,\n",
       "           0.67267,     0.67367,     0.67467,     0.67568,     0.67668,     0.67768,     0.67868,     0.67968,     0.68068,     0.68168,     0.68268,     0.68368,     0.68468,     0.68569,     0.68669,     0.68769,     0.68869,     0.68969,     0.69069,     0.69169,     0.69269,     0.69369,     0.69469,      0.6957,\n",
       "            0.6967,      0.6977,      0.6987,      0.6997,      0.7007,      0.7017,      0.7027,      0.7037,      0.7047,     0.70571,     0.70671,     0.70771,     0.70871,     0.70971,     0.71071,     0.71171,     0.71271,     0.71371,     0.71471,     0.71572,     0.71672,     0.71772,     0.71872,     0.71972,\n",
       "           0.72072,     0.72172,     0.72272,     0.72372,     0.72472,     0.72573,     0.72673,     0.72773,     0.72873,     0.72973,     0.73073,     0.73173,     0.73273,     0.73373,     0.73473,     0.73574,     0.73674,     0.73774,     0.73874,     0.73974,     0.74074,     0.74174,     0.74274,     0.74374,\n",
       "           0.74474,     0.74575,     0.74675,     0.74775,     0.74875,     0.74975,     0.75075,     0.75175,     0.75275,     0.75375,     0.75475,     0.75576,     0.75676,     0.75776,     0.75876,     0.75976,     0.76076,     0.76176,     0.76276,     0.76376,     0.76476,     0.76577,     0.76677,     0.76777,\n",
       "           0.76877,     0.76977,     0.77077,     0.77177,     0.77277,     0.77377,     0.77477,     0.77578,     0.77678,     0.77778,     0.77878,     0.77978,     0.78078,     0.78178,     0.78278,     0.78378,     0.78478,     0.78579,     0.78679,     0.78779,     0.78879,     0.78979,     0.79079,     0.79179,\n",
       "           0.79279,     0.79379,     0.79479,      0.7958,      0.7968,      0.7978,      0.7988,      0.7998,      0.8008,      0.8018,      0.8028,      0.8038,      0.8048,     0.80581,     0.80681,     0.80781,     0.80881,     0.80981,     0.81081,     0.81181,     0.81281,     0.81381,     0.81481,     0.81582,\n",
       "           0.81682,     0.81782,     0.81882,     0.81982,     0.82082,     0.82182,     0.82282,     0.82382,     0.82482,     0.82583,     0.82683,     0.82783,     0.82883,     0.82983,     0.83083,     0.83183,     0.83283,     0.83383,     0.83483,     0.83584,     0.83684,     0.83784,     0.83884,     0.83984,\n",
       "           0.84084,     0.84184,     0.84284,     0.84384,     0.84484,     0.84585,     0.84685,     0.84785,     0.84885,     0.84985,     0.85085,     0.85185,     0.85285,     0.85385,     0.85485,     0.85586,     0.85686,     0.85786,     0.85886,     0.85986,     0.86086,     0.86186,     0.86286,     0.86386,\n",
       "           0.86486,     0.86587,     0.86687,     0.86787,     0.86887,     0.86987,     0.87087,     0.87187,     0.87287,     0.87387,     0.87487,     0.87588,     0.87688,     0.87788,     0.87888,     0.87988,     0.88088,     0.88188,     0.88288,     0.88388,     0.88488,     0.88589,     0.88689,     0.88789,\n",
       "           0.88889,     0.88989,     0.89089,     0.89189,     0.89289,     0.89389,     0.89489,      0.8959,      0.8969,      0.8979,      0.8989,      0.8999,      0.9009,      0.9019,      0.9029,      0.9039,      0.9049,     0.90591,     0.90691,     0.90791,     0.90891,     0.90991,     0.91091,     0.91191,\n",
       "           0.91291,     0.91391,     0.91491,     0.91592,     0.91692,     0.91792,     0.91892,     0.91992,     0.92092,     0.92192,     0.92292,     0.92392,     0.92492,     0.92593,     0.92693,     0.92793,     0.92893,     0.92993,     0.93093,     0.93193,     0.93293,     0.93393,     0.93493,     0.93594,\n",
       "           0.93694,     0.93794,     0.93894,     0.93994,     0.94094,     0.94194,     0.94294,     0.94394,     0.94494,     0.94595,     0.94695,     0.94795,     0.94895,     0.94995,     0.95095,     0.95195,     0.95295,     0.95395,     0.95495,     0.95596,     0.95696,     0.95796,     0.95896,     0.95996,\n",
       "           0.96096,     0.96196,     0.96296,     0.96396,     0.96496,     0.96597,     0.96697,     0.96797,     0.96897,     0.96997,     0.97097,     0.97197,     0.97297,     0.97397,     0.97497,     0.97598,     0.97698,     0.97798,     0.97898,     0.97998,     0.98098,     0.98198,     0.98298,     0.98398,\n",
       "           0.98498,     0.98599,     0.98699,     0.98799,     0.98899,     0.98999,     0.99099,     0.99199,     0.99299,     0.99399,     0.99499,       0.996,       0.997,       0.998,       0.999,           1]), array([[    0.65909,     0.65909,     0.74649,     0.79955,     0.83203,     0.84697,      0.8536,     0.85547,     0.85733,      0.8592,     0.86106,     0.86551,     0.87542,     0.89301,     0.89926,     0.90594,     0.90714,     0.90808,     0.90901,     0.90994,     0.91088,     0.91181,     0.91275,\n",
       "            0.91368,     0.91462,     0.91555,     0.91584,     0.91591,     0.91598,     0.91605,     0.91611,     0.91618,     0.91625,     0.91632,     0.91639,     0.91646,     0.91653,     0.91659,     0.91666,     0.91673,      0.9168,     0.91687,     0.91694,     0.91701,     0.91707,     0.91714,\n",
       "            0.91721,     0.91728,     0.91735,     0.91742,     0.91748,     0.91755,     0.91762,     0.91769,     0.91776,     0.91783,      0.9179,     0.91796,     0.91803,      0.9181,     0.91817,     0.91824,     0.91831,     0.91838,     0.91844,     0.91851,     0.91858,     0.91865,     0.91872,\n",
       "            0.91879,     0.91885,     0.91892,     0.91899,     0.91906,     0.91913,      0.9192,     0.91927,     0.91933,      0.9194,     0.91947,     0.91954,     0.91961,     0.91968,     0.91975,     0.91981,     0.91988,     0.91995,     0.92002,     0.92009,     0.92016,     0.92022,     0.92029,\n",
       "            0.92036,     0.92043,      0.9205,     0.92057,     0.92064,      0.9207,     0.92077,     0.92084,     0.92091,     0.92098,     0.92105,     0.92112,     0.92118,     0.92125,     0.92132,     0.92139,     0.92146,     0.92153,      0.9216,     0.92166,     0.92173,      0.9218,     0.92187,\n",
       "            0.92194,     0.92201,     0.92207,     0.92214,     0.92221,     0.92228,     0.92235,     0.92242,     0.92249,     0.92255,     0.92262,     0.92269,     0.92276,     0.92283,      0.9229,     0.92297,     0.92303,      0.9231,     0.92317,     0.92324,     0.92331,     0.92338,     0.92344,\n",
       "            0.92351,     0.92358,     0.92365,     0.92372,     0.92379,     0.92386,     0.92392,     0.92399,     0.92406,     0.92413,      0.9242,     0.92427,     0.92434,      0.9244,     0.92447,     0.92454,     0.92461,     0.92468,     0.92475,     0.92481,     0.92488,     0.92495,     0.92502,\n",
       "            0.92509,     0.92516,     0.92523,     0.92529,     0.92536,     0.92543,      0.9255,     0.92609,     0.92714,     0.92819,     0.92924,     0.93029,     0.93134,     0.93239,     0.93343,     0.93448,      0.9355,      0.9358,     0.93611,     0.93641,     0.93671,     0.93702,     0.93732,\n",
       "            0.93762,     0.93793,     0.93823,     0.93854,     0.93884,     0.93914,     0.93945,     0.93975,     0.94006,     0.94036,     0.94066,     0.94097,     0.94127,     0.94157,     0.94188,     0.94218,     0.94249,     0.94279,     0.94309,      0.9434,      0.9437,       0.944,     0.94431,\n",
       "            0.94461,     0.94492,     0.94522,     0.94552,      0.9457,     0.94579,     0.94588,     0.94596,     0.94605,     0.94614,     0.94623,     0.94631,      0.9464,     0.94649,     0.94658,     0.94666,     0.94675,     0.94684,     0.94693,     0.94701,      0.9471,     0.94719,     0.94728,\n",
       "            0.94736,     0.94745,     0.94754,     0.94763,     0.94771,      0.9478,     0.94789,     0.94798,     0.94806,     0.94815,     0.94824,     0.94833,     0.94841,      0.9485,     0.94859,     0.94868,     0.94876,     0.94885,     0.94894,     0.94903,     0.94911,      0.9492,     0.94929,\n",
       "            0.94937,     0.94946,     0.94955,     0.94964,     0.94972,     0.94981,      0.9499,     0.94999,     0.95007,     0.95016,     0.95025,     0.95034,     0.95042,     0.95051,      0.9506,     0.95069,     0.95077,     0.95086,     0.95095,     0.95104,     0.95112,     0.95121,      0.9513,\n",
       "            0.95139,     0.95147,     0.95156,     0.95165,     0.95174,     0.95182,     0.95191,       0.952,     0.95209,     0.95217,     0.95226,     0.95235,     0.95244,     0.95252,     0.95261,      0.9527,     0.95278,     0.95287,     0.95296,     0.95305,     0.95313,     0.95322,     0.95331,\n",
       "             0.9534,     0.95348,     0.95357,     0.95366,     0.95375,     0.95383,     0.95392,     0.95401,      0.9541,     0.95418,     0.95427,     0.95436,     0.95445,     0.95453,     0.95462,     0.95471,      0.9548,     0.95488,     0.95497,     0.95506,     0.95515,     0.95523,     0.95532,\n",
       "            0.95541,      0.9555,     0.95558,     0.95567,     0.95576,     0.95585,     0.95593,     0.95602,     0.95603,     0.95602,       0.956,     0.95598,     0.95596,     0.95595,     0.95593,     0.95591,      0.9559,     0.95588,     0.95586,     0.95585,     0.95583,     0.95581,      0.9558,\n",
       "            0.95578,     0.95576,     0.95575,     0.95573,     0.95571,      0.9557,     0.95568,     0.95566,     0.95565,     0.95563,     0.95561,      0.9556,     0.95558,     0.95556,     0.95558,     0.95563,     0.95568,     0.95572,     0.95577,     0.95582,     0.95586,     0.95591,     0.95596,\n",
       "              0.956,     0.95605,      0.9561,     0.95614,     0.95619,     0.95624,     0.95628,     0.95633,     0.95638,     0.95642,     0.95647,     0.95652,     0.95656,     0.95661,     0.95666,      0.9567,     0.95675,      0.9568,     0.95684,     0.95689,     0.95694,     0.95699,     0.95703,\n",
       "            0.95708,     0.95713,     0.95717,     0.95722,     0.95727,     0.95731,     0.95736,     0.95741,     0.95745,      0.9575,     0.95755,     0.95759,     0.95764,     0.95769,     0.95773,     0.95778,     0.95783,     0.95787,     0.95792,     0.95797,     0.95801,     0.95806,     0.95811,\n",
       "            0.95815,      0.9582,     0.95825,     0.95829,     0.95834,     0.95839,     0.95843,     0.95848,     0.95853,     0.95857,     0.95862,     0.95867,     0.95872,     0.95876,     0.95881,     0.95886,      0.9589,     0.95895,       0.959,     0.95904,     0.95909,     0.95914,     0.95918,\n",
       "            0.95923,     0.95928,     0.95932,     0.95937,     0.95942,     0.95946,     0.95951,     0.95956,      0.9596,     0.95965,      0.9597,     0.95974,     0.95979,     0.95984,     0.95988,     0.95993,     0.95998,     0.96002,     0.96007,     0.96012,     0.96016,     0.96021,     0.96026,\n",
       "             0.9603,     0.96035,      0.9604,     0.96045,     0.96049,     0.96054,     0.96059,     0.96063,     0.96068,     0.96073,     0.96077,     0.96082,     0.96087,     0.96091,     0.96096,     0.96101,     0.96105,      0.9611,     0.96115,     0.96119,     0.96124,     0.96129,     0.96133,\n",
       "            0.96138,     0.96143,     0.96147,     0.96152,     0.96157,     0.96161,     0.96166,     0.96171,     0.96175,      0.9618,     0.96185,     0.96189,     0.96194,     0.96199,     0.96203,     0.96208,     0.96213,     0.96218,     0.96222,     0.96227,     0.96232,     0.96236,     0.96241,\n",
       "            0.96246,      0.9625,     0.96255,      0.9626,     0.96264,     0.96269,     0.96274,     0.96278,     0.96283,     0.96288,     0.96292,     0.96297,     0.96302,     0.96306,     0.96311,     0.96316,      0.9632,     0.96325,      0.9633,     0.96334,     0.96339,     0.96344,     0.96348,\n",
       "            0.96353,     0.96358,     0.96362,     0.96367,     0.96372,     0.96376,     0.96381,     0.96386,     0.96391,     0.96395,       0.964,     0.96405,     0.96409,     0.96414,     0.96419,     0.96423,     0.96428,     0.96433,     0.96437,     0.96442,     0.96447,     0.96451,     0.96456,\n",
       "            0.96461,     0.96465,      0.9647,     0.96475,     0.96479,     0.96484,     0.96489,     0.96493,     0.96498,     0.96503,     0.96507,     0.96512,     0.96517,     0.96521,     0.96526,     0.96531,     0.96535,      0.9654,     0.96545,     0.96549,     0.96554,     0.96559,     0.96564,\n",
       "            0.96568,     0.96573,     0.96578,     0.96582,     0.96587,     0.96592,     0.96596,     0.96601,     0.96606,      0.9661,     0.96615,      0.9662,     0.96624,     0.96629,     0.96629,     0.96628,     0.96627,     0.96626,     0.96626,     0.96625,     0.96624,     0.96624,     0.96623,\n",
       "            0.96622,     0.96622,     0.96621,      0.9662,      0.9662,     0.96619,     0.96618,     0.96617,     0.96617,     0.96616,     0.96615,     0.96615,     0.96614,     0.96613,     0.96613,     0.96612,     0.96611,     0.96611,      0.9661,     0.96609,     0.96608,     0.96608,     0.96607,\n",
       "            0.96606,     0.96606,     0.96605,     0.96604,     0.96604,     0.96603,     0.96602,     0.96601,     0.96601,       0.966,     0.96599,     0.96599,     0.96598,     0.96597,     0.96597,     0.96596,     0.96595,     0.96595,     0.96594,     0.96593,     0.96592,     0.96592,     0.96591,\n",
       "            0.96652,     0.96733,     0.96813,     0.96893,     0.96974,     0.97054,     0.97134,     0.97215,     0.97295,     0.97375,     0.97456,     0.97536,     0.97616,     0.97697,     0.97729,     0.97758,     0.97787,     0.97816,     0.97846,     0.97875,     0.97904,     0.97933,     0.97963,\n",
       "            0.97992,     0.98021,      0.9805,      0.9808,     0.98109,     0.98138,     0.98167,     0.98196,     0.98226,     0.98255,     0.98284,     0.98313,     0.98343,     0.98372,     0.98401,      0.9843,      0.9846,     0.98489,     0.98518,     0.98547,     0.98577,     0.98606,     0.98635,\n",
       "            0.98664,     0.98693,     0.98723,     0.98752,     0.98781,      0.9881,      0.9884,     0.98877,     0.98913,     0.98949,     0.98986,     0.99022,     0.99058,     0.99095,     0.99131,     0.99168,     0.99204,      0.9924,     0.99277,     0.99313,     0.99349,     0.99386,     0.99422,\n",
       "            0.99458,     0.99495,     0.99531,     0.99568,     0.99604,      0.9964,     0.99677,     0.99713,     0.99749,     0.99786,     0.99822,     0.99858,     0.99895,     0.99931,     0.99968,           1,           1,           1,           1,           1,           1,           1,           1,\n",
       "                  1,           1,           1,           1,           1,           1,           1,           1,           1,           1,           1,           1,           1,           1,           1,           1,           1,           1,           1,           1,           1,           1,           1,\n",
       "                  1,           1,           1,           1,           1,           1,           1,           1,           1,           1,           1,           1,           1,           1,           1,           1,           1,           1,           1,           1,           1,           1,           1,\n",
       "                  1,           1,           1,           1,           1,           1,           1,           1,           1,           1,           1,           1,           1,           1,           1,           1,           1,           1,           1,           1,           1,           1,           1,\n",
       "                  1,           1,           1,           1,           1,           1,           1,           1,           1,           1,           1,           1,           1,           1,           1,           1,           1,           1,           1,           1,           1,           1,           1,\n",
       "                  1,           1,           1,           1,           1,           1,           1,           1,           1,           1,           1,           1,           1,           1,           1,           1,           1,           1,           1,           1,           1,           1,           1,\n",
       "                  1,           1,           1,           1,           1,           1,           1,           1,           1,           1,           1,           1,           1,           1,           1,           1,           1,           1,           1,           1,           1,           1,           1,\n",
       "                  1,           1,           1,           1,           1,           1,           1,           1,           1,           1,           1,           1,           1,           1,           1,           1,           1,           1,           1,           1,           1,           1,           1,\n",
       "                  1,           1,           1,           1,           1,           1,           1,           1,           1,           1,           1,           1,           1,           1,           1,           1,           1,           1,           1,           1,           1,           1,           1,\n",
       "                  1,           1,           1,           1,           1,           1,           1,           1,           1,           1,           1,           1,           1,           1,           1,           1,           1,           1,           1,           1,           1,           1,           1,\n",
       "                  1,           1,           1,           1,           1,           1,           1,           1,           1,           1,           1,           1,           1,           1,           1,           1,           1,           1,           1,           1,           1,           1,           1,\n",
       "                  1,           1,           1,           1,           1,           1,           1,           1,           1,           1,           1,           1,           1,           1,           1,           1,           1,           1,           1,           1,           1,           1,           1,\n",
       "                  1,           1,           1,           1,           1,           1,           1,           1,           1,           1,           1]]), 'Confidence', 'Precision'], [array([          0,    0.001001,    0.002002,    0.003003,    0.004004,    0.005005,    0.006006,    0.007007,    0.008008,    0.009009,     0.01001,    0.011011,    0.012012,    0.013013,    0.014014,    0.015015,    0.016016,    0.017017,    0.018018,    0.019019,     0.02002,    0.021021,    0.022022,    0.023023,\n",
       "          0.024024,    0.025025,    0.026026,    0.027027,    0.028028,    0.029029,     0.03003,    0.031031,    0.032032,    0.033033,    0.034034,    0.035035,    0.036036,    0.037037,    0.038038,    0.039039,     0.04004,    0.041041,    0.042042,    0.043043,    0.044044,    0.045045,    0.046046,    0.047047,\n",
       "          0.048048,    0.049049,     0.05005,    0.051051,    0.052052,    0.053053,    0.054054,    0.055055,    0.056056,    0.057057,    0.058058,    0.059059,     0.06006,    0.061061,    0.062062,    0.063063,    0.064064,    0.065065,    0.066066,    0.067067,    0.068068,    0.069069,     0.07007,    0.071071,\n",
       "          0.072072,    0.073073,    0.074074,    0.075075,    0.076076,    0.077077,    0.078078,    0.079079,     0.08008,    0.081081,    0.082082,    0.083083,    0.084084,    0.085085,    0.086086,    0.087087,    0.088088,    0.089089,     0.09009,    0.091091,    0.092092,    0.093093,    0.094094,    0.095095,\n",
       "          0.096096,    0.097097,    0.098098,    0.099099,      0.1001,      0.1011,      0.1021,      0.1031,      0.1041,     0.10511,     0.10611,     0.10711,     0.10811,     0.10911,     0.11011,     0.11111,     0.11211,     0.11311,     0.11411,     0.11512,     0.11612,     0.11712,     0.11812,     0.11912,\n",
       "           0.12012,     0.12112,     0.12212,     0.12312,     0.12412,     0.12513,     0.12613,     0.12713,     0.12813,     0.12913,     0.13013,     0.13113,     0.13213,     0.13313,     0.13413,     0.13514,     0.13614,     0.13714,     0.13814,     0.13914,     0.14014,     0.14114,     0.14214,     0.14314,\n",
       "           0.14414,     0.14515,     0.14615,     0.14715,     0.14815,     0.14915,     0.15015,     0.15115,     0.15215,     0.15315,     0.15415,     0.15516,     0.15616,     0.15716,     0.15816,     0.15916,     0.16016,     0.16116,     0.16216,     0.16316,     0.16416,     0.16517,     0.16617,     0.16717,\n",
       "           0.16817,     0.16917,     0.17017,     0.17117,     0.17217,     0.17317,     0.17417,     0.17518,     0.17618,     0.17718,     0.17818,     0.17918,     0.18018,     0.18118,     0.18218,     0.18318,     0.18418,     0.18519,     0.18619,     0.18719,     0.18819,     0.18919,     0.19019,     0.19119,\n",
       "           0.19219,     0.19319,     0.19419,      0.1952,      0.1962,      0.1972,      0.1982,      0.1992,      0.2002,      0.2012,      0.2022,      0.2032,      0.2042,     0.20521,     0.20621,     0.20721,     0.20821,     0.20921,     0.21021,     0.21121,     0.21221,     0.21321,     0.21421,     0.21522,\n",
       "           0.21622,     0.21722,     0.21822,     0.21922,     0.22022,     0.22122,     0.22222,     0.22322,     0.22422,     0.22523,     0.22623,     0.22723,     0.22823,     0.22923,     0.23023,     0.23123,     0.23223,     0.23323,     0.23423,     0.23524,     0.23624,     0.23724,     0.23824,     0.23924,\n",
       "           0.24024,     0.24124,     0.24224,     0.24324,     0.24424,     0.24525,     0.24625,     0.24725,     0.24825,     0.24925,     0.25025,     0.25125,     0.25225,     0.25325,     0.25425,     0.25526,     0.25626,     0.25726,     0.25826,     0.25926,     0.26026,     0.26126,     0.26226,     0.26326,\n",
       "           0.26426,     0.26527,     0.26627,     0.26727,     0.26827,     0.26927,     0.27027,     0.27127,     0.27227,     0.27327,     0.27427,     0.27528,     0.27628,     0.27728,     0.27828,     0.27928,     0.28028,     0.28128,     0.28228,     0.28328,     0.28428,     0.28529,     0.28629,     0.28729,\n",
       "           0.28829,     0.28929,     0.29029,     0.29129,     0.29229,     0.29329,     0.29429,      0.2953,      0.2963,      0.2973,      0.2983,      0.2993,      0.3003,      0.3013,      0.3023,      0.3033,      0.3043,     0.30531,     0.30631,     0.30731,     0.30831,     0.30931,     0.31031,     0.31131,\n",
       "           0.31231,     0.31331,     0.31431,     0.31532,     0.31632,     0.31732,     0.31832,     0.31932,     0.32032,     0.32132,     0.32232,     0.32332,     0.32432,     0.32533,     0.32633,     0.32733,     0.32833,     0.32933,     0.33033,     0.33133,     0.33233,     0.33333,     0.33433,     0.33534,\n",
       "           0.33634,     0.33734,     0.33834,     0.33934,     0.34034,     0.34134,     0.34234,     0.34334,     0.34434,     0.34535,     0.34635,     0.34735,     0.34835,     0.34935,     0.35035,     0.35135,     0.35235,     0.35335,     0.35435,     0.35536,     0.35636,     0.35736,     0.35836,     0.35936,\n",
       "           0.36036,     0.36136,     0.36236,     0.36336,     0.36436,     0.36537,     0.36637,     0.36737,     0.36837,     0.36937,     0.37037,     0.37137,     0.37237,     0.37337,     0.37437,     0.37538,     0.37638,     0.37738,     0.37838,     0.37938,     0.38038,     0.38138,     0.38238,     0.38338,\n",
       "           0.38438,     0.38539,     0.38639,     0.38739,     0.38839,     0.38939,     0.39039,     0.39139,     0.39239,     0.39339,     0.39439,      0.3954,      0.3964,      0.3974,      0.3984,      0.3994,      0.4004,      0.4014,      0.4024,      0.4034,      0.4044,     0.40541,     0.40641,     0.40741,\n",
       "           0.40841,     0.40941,     0.41041,     0.41141,     0.41241,     0.41341,     0.41441,     0.41542,     0.41642,     0.41742,     0.41842,     0.41942,     0.42042,     0.42142,     0.42242,     0.42342,     0.42442,     0.42543,     0.42643,     0.42743,     0.42843,     0.42943,     0.43043,     0.43143,\n",
       "           0.43243,     0.43343,     0.43443,     0.43544,     0.43644,     0.43744,     0.43844,     0.43944,     0.44044,     0.44144,     0.44244,     0.44344,     0.44444,     0.44545,     0.44645,     0.44745,     0.44845,     0.44945,     0.45045,     0.45145,     0.45245,     0.45345,     0.45445,     0.45546,\n",
       "           0.45646,     0.45746,     0.45846,     0.45946,     0.46046,     0.46146,     0.46246,     0.46346,     0.46446,     0.46547,     0.46647,     0.46747,     0.46847,     0.46947,     0.47047,     0.47147,     0.47247,     0.47347,     0.47447,     0.47548,     0.47648,     0.47748,     0.47848,     0.47948,\n",
       "           0.48048,     0.48148,     0.48248,     0.48348,     0.48448,     0.48549,     0.48649,     0.48749,     0.48849,     0.48949,     0.49049,     0.49149,     0.49249,     0.49349,     0.49449,      0.4955,      0.4965,      0.4975,      0.4985,      0.4995,      0.5005,      0.5015,      0.5025,      0.5035,\n",
       "            0.5045,     0.50551,     0.50651,     0.50751,     0.50851,     0.50951,     0.51051,     0.51151,     0.51251,     0.51351,     0.51451,     0.51552,     0.51652,     0.51752,     0.51852,     0.51952,     0.52052,     0.52152,     0.52252,     0.52352,     0.52452,     0.52553,     0.52653,     0.52753,\n",
       "           0.52853,     0.52953,     0.53053,     0.53153,     0.53253,     0.53353,     0.53453,     0.53554,     0.53654,     0.53754,     0.53854,     0.53954,     0.54054,     0.54154,     0.54254,     0.54354,     0.54454,     0.54555,     0.54655,     0.54755,     0.54855,     0.54955,     0.55055,     0.55155,\n",
       "           0.55255,     0.55355,     0.55455,     0.55556,     0.55656,     0.55756,     0.55856,     0.55956,     0.56056,     0.56156,     0.56256,     0.56356,     0.56456,     0.56557,     0.56657,     0.56757,     0.56857,     0.56957,     0.57057,     0.57157,     0.57257,     0.57357,     0.57457,     0.57558,\n",
       "           0.57658,     0.57758,     0.57858,     0.57958,     0.58058,     0.58158,     0.58258,     0.58358,     0.58458,     0.58559,     0.58659,     0.58759,     0.58859,     0.58959,     0.59059,     0.59159,     0.59259,     0.59359,     0.59459,      0.5956,      0.5966,      0.5976,      0.5986,      0.5996,\n",
       "            0.6006,      0.6016,      0.6026,      0.6036,      0.6046,     0.60561,     0.60661,     0.60761,     0.60861,     0.60961,     0.61061,     0.61161,     0.61261,     0.61361,     0.61461,     0.61562,     0.61662,     0.61762,     0.61862,     0.61962,     0.62062,     0.62162,     0.62262,     0.62362,\n",
       "           0.62462,     0.62563,     0.62663,     0.62763,     0.62863,     0.62963,     0.63063,     0.63163,     0.63263,     0.63363,     0.63463,     0.63564,     0.63664,     0.63764,     0.63864,     0.63964,     0.64064,     0.64164,     0.64264,     0.64364,     0.64464,     0.64565,     0.64665,     0.64765,\n",
       "           0.64865,     0.64965,     0.65065,     0.65165,     0.65265,     0.65365,     0.65465,     0.65566,     0.65666,     0.65766,     0.65866,     0.65966,     0.66066,     0.66166,     0.66266,     0.66366,     0.66466,     0.66567,     0.66667,     0.66767,     0.66867,     0.66967,     0.67067,     0.67167,\n",
       "           0.67267,     0.67367,     0.67467,     0.67568,     0.67668,     0.67768,     0.67868,     0.67968,     0.68068,     0.68168,     0.68268,     0.68368,     0.68468,     0.68569,     0.68669,     0.68769,     0.68869,     0.68969,     0.69069,     0.69169,     0.69269,     0.69369,     0.69469,      0.6957,\n",
       "            0.6967,      0.6977,      0.6987,      0.6997,      0.7007,      0.7017,      0.7027,      0.7037,      0.7047,     0.70571,     0.70671,     0.70771,     0.70871,     0.70971,     0.71071,     0.71171,     0.71271,     0.71371,     0.71471,     0.71572,     0.71672,     0.71772,     0.71872,     0.71972,\n",
       "           0.72072,     0.72172,     0.72272,     0.72372,     0.72472,     0.72573,     0.72673,     0.72773,     0.72873,     0.72973,     0.73073,     0.73173,     0.73273,     0.73373,     0.73473,     0.73574,     0.73674,     0.73774,     0.73874,     0.73974,     0.74074,     0.74174,     0.74274,     0.74374,\n",
       "           0.74474,     0.74575,     0.74675,     0.74775,     0.74875,     0.74975,     0.75075,     0.75175,     0.75275,     0.75375,     0.75475,     0.75576,     0.75676,     0.75776,     0.75876,     0.75976,     0.76076,     0.76176,     0.76276,     0.76376,     0.76476,     0.76577,     0.76677,     0.76777,\n",
       "           0.76877,     0.76977,     0.77077,     0.77177,     0.77277,     0.77377,     0.77477,     0.77578,     0.77678,     0.77778,     0.77878,     0.77978,     0.78078,     0.78178,     0.78278,     0.78378,     0.78478,     0.78579,     0.78679,     0.78779,     0.78879,     0.78979,     0.79079,     0.79179,\n",
       "           0.79279,     0.79379,     0.79479,      0.7958,      0.7968,      0.7978,      0.7988,      0.7998,      0.8008,      0.8018,      0.8028,      0.8038,      0.8048,     0.80581,     0.80681,     0.80781,     0.80881,     0.80981,     0.81081,     0.81181,     0.81281,     0.81381,     0.81481,     0.81582,\n",
       "           0.81682,     0.81782,     0.81882,     0.81982,     0.82082,     0.82182,     0.82282,     0.82382,     0.82482,     0.82583,     0.82683,     0.82783,     0.82883,     0.82983,     0.83083,     0.83183,     0.83283,     0.83383,     0.83483,     0.83584,     0.83684,     0.83784,     0.83884,     0.83984,\n",
       "           0.84084,     0.84184,     0.84284,     0.84384,     0.84484,     0.84585,     0.84685,     0.84785,     0.84885,     0.84985,     0.85085,     0.85185,     0.85285,     0.85385,     0.85485,     0.85586,     0.85686,     0.85786,     0.85886,     0.85986,     0.86086,     0.86186,     0.86286,     0.86386,\n",
       "           0.86486,     0.86587,     0.86687,     0.86787,     0.86887,     0.86987,     0.87087,     0.87187,     0.87287,     0.87387,     0.87487,     0.87588,     0.87688,     0.87788,     0.87888,     0.87988,     0.88088,     0.88188,     0.88288,     0.88388,     0.88488,     0.88589,     0.88689,     0.88789,\n",
       "           0.88889,     0.88989,     0.89089,     0.89189,     0.89289,     0.89389,     0.89489,      0.8959,      0.8969,      0.8979,      0.8989,      0.8999,      0.9009,      0.9019,      0.9029,      0.9039,      0.9049,     0.90591,     0.90691,     0.90791,     0.90891,     0.90991,     0.91091,     0.91191,\n",
       "           0.91291,     0.91391,     0.91491,     0.91592,     0.91692,     0.91792,     0.91892,     0.91992,     0.92092,     0.92192,     0.92292,     0.92392,     0.92492,     0.92593,     0.92693,     0.92793,     0.92893,     0.92993,     0.93093,     0.93193,     0.93293,     0.93393,     0.93493,     0.93594,\n",
       "           0.93694,     0.93794,     0.93894,     0.93994,     0.94094,     0.94194,     0.94294,     0.94394,     0.94494,     0.94595,     0.94695,     0.94795,     0.94895,     0.94995,     0.95095,     0.95195,     0.95295,     0.95395,     0.95495,     0.95596,     0.95696,     0.95796,     0.95896,     0.95996,\n",
       "           0.96096,     0.96196,     0.96296,     0.96396,     0.96496,     0.96597,     0.96697,     0.96797,     0.96897,     0.96997,     0.97097,     0.97197,     0.97297,     0.97397,     0.97497,     0.97598,     0.97698,     0.97798,     0.97898,     0.97998,     0.98098,     0.98198,     0.98298,     0.98398,\n",
       "           0.98498,     0.98599,     0.98699,     0.98799,     0.98899,     0.98999,     0.99099,     0.99199,     0.99299,     0.99399,     0.99499,       0.996,       0.997,       0.998,       0.999,           1]), array([[          1,           1,           1,           1,           1,           1,           1,           1,           1,           1,           1,           1,           1,           1,           1,           1,           1,           1,           1,           1,           1,           1,           1,\n",
       "                  1,           1,           1,           1,           1,           1,           1,           1,           1,           1,           1,           1,           1,           1,           1,           1,           1,           1,           1,           1,           1,           1,           1,\n",
       "                  1,           1,           1,           1,           1,           1,           1,           1,           1,           1,           1,           1,           1,           1,           1,           1,           1,           1,           1,           1,           1,           1,           1,\n",
       "                  1,           1,           1,           1,           1,           1,           1,           1,           1,           1,           1,           1,           1,           1,           1,           1,           1,           1,           1,           1,           1,           1,           1,\n",
       "                  1,           1,           1,           1,           1,           1,           1,           1,           1,           1,           1,           1,           1,           1,           1,           1,           1,           1,           1,           1,           1,           1,           1,\n",
       "                  1,           1,           1,           1,           1,           1,           1,           1,           1,           1,           1,           1,           1,           1,           1,           1,           1,           1,           1,           1,           1,           1,           1,\n",
       "                  1,           1,           1,           1,           1,           1,           1,           1,           1,           1,           1,           1,           1,           1,           1,           1,           1,           1,           1,           1,           1,           1,           1,\n",
       "                  1,           1,           1,           1,           1,           1,           1,           1,           1,           1,           1,           1,           1,           1,           1,           1,           1,           1,           1,           1,           1,           1,           1,\n",
       "                  1,           1,           1,           1,           1,           1,           1,           1,           1,           1,           1,           1,           1,           1,           1,           1,           1,           1,           1,           1,           1,           1,           1,\n",
       "                  1,           1,           1,           1,           1,           1,           1,           1,           1,           1,           1,           1,           1,           1,           1,           1,           1,           1,           1,           1,           1,           1,           1,\n",
       "                  1,           1,           1,           1,           1,           1,           1,           1,           1,           1,           1,           1,           1,           1,           1,           1,           1,           1,           1,           1,           1,           1,           1,\n",
       "                  1,           1,           1,           1,           1,           1,           1,           1,           1,           1,           1,           1,           1,           1,           1,           1,           1,           1,           1,           1,           1,           1,           1,\n",
       "                  1,           1,           1,           1,           1,           1,           1,           1,           1,           1,           1,           1,           1,           1,           1,           1,           1,           1,           1,           1,           1,           1,           1,\n",
       "                  1,           1,           1,           1,           1,           1,           1,           1,           1,           1,           1,           1,           1,           1,           1,           1,           1,           1,           1,           1,           1,           1,           1,\n",
       "                  1,           1,           1,           1,           1,           1,           1,           1,     0.99971,     0.99932,     0.99893,     0.99853,     0.99814,     0.99774,     0.99735,     0.99695,     0.99656,     0.99616,     0.99577,     0.99538,     0.99498,     0.99459,     0.99419,\n",
       "             0.9938,      0.9934,     0.99301,     0.99262,     0.99222,     0.99183,     0.99143,     0.99104,     0.99064,     0.99025,     0.98986,     0.98946,     0.98907,     0.98867,     0.98851,     0.98851,     0.98851,     0.98851,     0.98851,     0.98851,     0.98851,     0.98851,     0.98851,\n",
       "            0.98851,     0.98851,     0.98851,     0.98851,     0.98851,     0.98851,     0.98851,     0.98851,     0.98851,     0.98851,     0.98851,     0.98851,     0.98851,     0.98851,     0.98851,     0.98851,     0.98851,     0.98851,     0.98851,     0.98851,     0.98851,     0.98851,     0.98851,\n",
       "            0.98851,     0.98851,     0.98851,     0.98851,     0.98851,     0.98851,     0.98851,     0.98851,     0.98851,     0.98851,     0.98851,     0.98851,     0.98851,     0.98851,     0.98851,     0.98851,     0.98851,     0.98851,     0.98851,     0.98851,     0.98851,     0.98851,     0.98851,\n",
       "            0.98851,     0.98851,     0.98851,     0.98851,     0.98851,     0.98851,     0.98851,     0.98851,     0.98851,     0.98851,     0.98851,     0.98851,     0.98851,     0.98851,     0.98851,     0.98851,     0.98851,     0.98851,     0.98851,     0.98851,     0.98851,     0.98851,     0.98851,\n",
       "            0.98851,     0.98851,     0.98851,     0.98851,     0.98851,     0.98851,     0.98851,     0.98851,     0.98851,     0.98851,     0.98851,     0.98851,     0.98851,     0.98851,     0.98851,     0.98851,     0.98851,     0.98851,     0.98851,     0.98851,     0.98851,     0.98851,     0.98851,\n",
       "            0.98851,     0.98851,     0.98851,     0.98851,     0.98851,     0.98851,     0.98851,     0.98851,     0.98851,     0.98851,     0.98851,     0.98851,     0.98851,     0.98851,     0.98851,     0.98851,     0.98851,     0.98851,     0.98851,     0.98851,     0.98851,     0.98851,     0.98851,\n",
       "            0.98851,     0.98851,     0.98851,     0.98851,     0.98851,     0.98851,     0.98851,     0.98851,     0.98851,     0.98851,     0.98851,     0.98851,     0.98851,     0.98851,     0.98851,     0.98851,     0.98851,     0.98851,     0.98851,     0.98851,     0.98851,     0.98851,     0.98851,\n",
       "            0.98851,     0.98851,     0.98851,     0.98851,     0.98851,     0.98851,     0.98851,     0.98851,     0.98851,     0.98851,     0.98851,     0.98851,     0.98851,     0.98851,     0.98851,     0.98851,     0.98851,     0.98851,     0.98851,     0.98851,     0.98851,     0.98851,     0.98851,\n",
       "            0.98851,     0.98851,     0.98851,     0.98851,     0.98851,     0.98851,     0.98851,     0.98851,     0.98851,     0.98851,     0.98851,     0.98851,     0.98851,     0.98851,     0.98851,     0.98851,     0.98851,     0.98851,     0.98851,     0.98851,     0.98851,     0.98851,     0.98851,\n",
       "            0.98851,     0.98851,     0.98851,     0.98851,     0.98851,     0.98851,     0.98851,     0.98851,     0.98851,     0.98851,     0.98851,     0.98851,     0.98851,     0.98851,     0.98851,     0.98851,     0.98851,     0.98851,     0.98851,     0.98851,     0.98851,     0.98851,     0.98851,\n",
       "            0.98851,     0.98851,     0.98851,     0.98851,     0.98851,     0.98851,     0.98851,     0.98851,     0.98851,     0.98851,     0.98851,     0.98851,     0.98851,     0.98851,     0.98831,      0.9881,     0.98789,     0.98768,     0.98747,     0.98727,     0.98706,     0.98685,     0.98664,\n",
       "            0.98643,     0.98623,     0.98602,     0.98581,      0.9856,     0.98539,     0.98518,     0.98498,     0.98477,     0.98456,     0.98435,     0.98414,     0.98393,     0.98373,     0.98352,     0.98331,      0.9831,     0.98289,     0.98268,     0.98248,     0.98227,     0.98206,     0.98185,\n",
       "            0.98164,     0.98143,     0.98123,     0.98102,     0.98081,      0.9806,     0.98039,     0.98018,     0.97998,     0.97977,     0.97956,     0.97935,     0.97914,     0.97894,     0.97873,     0.97852,     0.97831,      0.9781,     0.97789,     0.97769,     0.97748,     0.97727,     0.97706,\n",
       "            0.97701,     0.97701,     0.97701,     0.97701,     0.97701,     0.97701,     0.97701,     0.97701,     0.97701,     0.97701,     0.97701,     0.97701,     0.97701,     0.97701,     0.97701,     0.97701,     0.97701,     0.97701,     0.97701,     0.97701,     0.97701,     0.97701,     0.97701,\n",
       "            0.97701,     0.97701,     0.97701,     0.97701,     0.97701,     0.97701,     0.97701,     0.97701,     0.97701,     0.97701,     0.97701,     0.97701,     0.97701,     0.97701,     0.97701,     0.97701,     0.97701,     0.97701,     0.97701,     0.97701,     0.97701,     0.97701,     0.97701,\n",
       "            0.97701,     0.97701,     0.97701,     0.97701,     0.97701,     0.97701,     0.97701,     0.97701,     0.97701,     0.97701,     0.97701,     0.97701,     0.97701,     0.97701,     0.97701,     0.97701,     0.97701,     0.97701,     0.97701,     0.97701,     0.97701,     0.97701,     0.97701,\n",
       "            0.97701,     0.97701,     0.97701,     0.97701,     0.97701,     0.97701,     0.97701,     0.97701,     0.97701,     0.97701,     0.97701,     0.97701,     0.97701,     0.97701,     0.97701,     0.97699,      0.9768,     0.97661,     0.97642,     0.97623,     0.97604,     0.97585,     0.97566,\n",
       "            0.97547,     0.97528,     0.97509,      0.9749,     0.97471,     0.97452,     0.97433,     0.97414,     0.97395,     0.97376,     0.97357,     0.97337,     0.97318,     0.97299,      0.9728,     0.97261,     0.97242,     0.97223,     0.97204,     0.97185,     0.97166,     0.97147,     0.97128,\n",
       "            0.97109,      0.9709,     0.97071,     0.97052,     0.97033,     0.97014,     0.96995,     0.96976,     0.96957,     0.96938,     0.96919,       0.969,     0.96881,     0.96862,     0.96843,     0.96824,     0.96805,     0.96786,     0.96766,     0.96747,     0.96728,     0.96709,      0.9669,\n",
       "            0.96671,     0.96652,     0.96633,     0.96614,     0.96595,     0.96576,     0.96557,     0.96521,     0.96479,     0.96437,     0.96395,     0.96352,      0.9631,     0.96268,     0.96225,     0.96183,     0.96141,     0.96098,     0.96056,     0.96014,     0.95972,     0.95929,     0.95887,\n",
       "            0.95845,     0.95802,      0.9576,     0.95718,     0.95676,     0.95633,     0.95591,     0.95549,     0.95506,     0.95464,     0.95422,     0.95382,     0.95344,     0.95306,     0.95268,      0.9523,     0.95192,     0.95154,     0.95116,     0.95078,      0.9504,     0.95003,     0.94965,\n",
       "            0.94927,     0.94889,     0.94851,     0.94813,     0.94775,     0.94737,     0.94699,     0.94661,     0.94623,     0.94585,     0.94547,     0.94509,     0.94471,     0.94433,     0.94396,     0.94358,      0.9432,     0.94282,       0.939,     0.92996,     0.92761,     0.92526,     0.92291,\n",
       "            0.92056,     0.91508,     0.90784,     0.90593,     0.90403,     0.90212,     0.90021,      0.8983,     0.89636,     0.89413,      0.8919,     0.88967,     0.88745,     0.88522,     0.88261,     0.87997,     0.87734,      0.8747,     0.87201,     0.86927,     0.86654,      0.8638,     0.84986,\n",
       "            0.83975,     0.83367,     0.82788,     0.81069,     0.80381,     0.79714,     0.79225,     0.79009,     0.78793,     0.78577,     0.78361,      0.7811,     0.77396,     0.74502,     0.73819,     0.72259,     0.71876,     0.71492,     0.70645,     0.69893,     0.69554,     0.69215,      0.6662,\n",
       "            0.65419,     0.62812,     0.62106,     0.61143,     0.59465,     0.58924,     0.57194,     0.56487,     0.55756,     0.52853,     0.51861,     0.50756,     0.46531,     0.43296,     0.42186,     0.39533,     0.37924,        0.37,     0.35331,     0.33887,     0.31802,     0.31078,     0.30108,\n",
       "            0.26686,     0.24109,     0.23016,     0.21822,     0.20617,      0.2012,     0.19624,     0.18878,     0.17709,     0.16825,     0.16257,     0.15747,     0.15261,     0.14598,     0.13308,     0.10107,     0.09183,    0.084377,    0.079354,    0.077024,    0.074693,    0.072363,    0.070032,\n",
       "           0.064969,    0.057599,    0.045487,    0.037698,    0.028101,    0.020082,    0.014594,           0,           0,           0,           0,           0,           0,           0,           0,           0,           0,           0,           0,           0,           0,           0,           0,\n",
       "                  0,           0,           0,           0,           0,           0,           0,           0,           0,           0,           0,           0,           0,           0,           0,           0,           0,           0,           0,           0,           0,           0,           0,\n",
       "                  0,           0,           0,           0,           0,           0,           0,           0,           0,           0,           0]]), 'Confidence', 'Recall']]\n",
       "fitness: 0.8654535930987337\n",
       "keys: ['metrics/precision(B)', 'metrics/recall(B)', 'metrics/mAP50(B)', 'metrics/mAP50-95(B)']\n",
       "maps: array([    0.85115])\n",
       "names: {0: 'car_plate'}\n",
       "plot: True\n",
       "results_dict: {'metrics/precision(B)': 1.0, 'metrics/recall(B)': 0.9745168751845481, 'metrics/mAP50(B)': 0.9942233609087542, 'metrics/mAP50-95(B)': 0.8511458411198426, 'fitness': 0.8654535930987337}\n",
       "save_dir: PosixPath('/Users/simon/Documents/Github/ITE-5310-Machine-Learning-Assignment10/runs/detect/train')\n",
       "speed: {'preprocess': 0.885009765625, 'inference': 133.55934336071923, 'loss': 3.689811343238467e-05, 'postprocess': 0.29772803896949407}\n",
       "task: 'detect'"
      ]
     },
     "execution_count": 9,
     "metadata": {},
     "output_type": "execute_result"
    }
   ],
   "source": [
    "from ultralytics import YOLO\n",
    "\n",
    "YOLO_V8N = \"./model/base/yolov8n.pt\"  # the model to train customized model\n",
    "\n",
    "# Define model object from default v8n model\n",
    "car_plate_model = YOLO(YOLO_V8N)\n",
    "car_plate_model.train(data=YAML_PATH)    # Train Yolo model, using mps"
   ]
  },
  {
   "cell_type": "markdown",
   "id": "ba610b66",
   "metadata": {},
   "source": [
    "## Predict using Custom YOLO Model\n"
   ]
  },
  {
   "cell_type": "code",
   "execution_count": null,
   "id": "3abc0dc0",
   "metadata": {},
   "outputs": [],
   "source": [
    "from ultralytics import YOLO\n",
    "from pathlib import Path\n",
    "\n",
    "CAR_PLATE_MODEL_PATH = \"./runs/detect/train/weights/best.pt\"\n",
    "TEST_IMAGE_PATH = Path(\".\", \"datasets\", \"pred\", \"images\").absolute().as_posix()\n",
    "\n",
    "# Load a model\n",
    "car_plate_model = YOLO(CAR_PLATE_MODEL_PATH)  # pretrained YOLOv8n model\n",
    "\n",
    "car_plate_model.predict(TEST_IMAGE_PATH, save=True, conf=0.5)"
   ]
  },
  {
   "cell_type": "markdown",
   "id": "328abc99",
   "metadata": {},
   "source": []
  }
 ],
 "metadata": {
  "accelerator": "GPU",
  "colab": {
   "gpuType": "T4",
   "provenance": []
  },
  "kernelspec": {
   "display_name": "Python 3 (ipykernel)",
   "language": "python",
   "name": "python3"
  },
  "language_info": {
   "codemirror_mode": {
    "name": "ipython",
    "version": 3
   },
   "file_extension": ".py",
   "mimetype": "text/x-python",
   "name": "python",
   "nbconvert_exporter": "python",
   "pygments_lexer": "ipython3",
   "version": "3.11.5"
  }
 },
 "nbformat": 4,
 "nbformat_minor": 5
}
