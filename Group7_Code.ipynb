{
 "cells": [
  {
   "cell_type": "markdown",
   "id": "1000a721-7aa4-4493-82fa-ee4efc6ef876",
   "metadata": {},
   "source": [
    "# Vehicle License Plate Detection usingYOLOv8\n",
    "\n",
    "- ID: N01555914\n",
    "- Name: Wenhao Fang\n",
    "- Group: 07\n",
    "\n",
    "---\n"
   ]
  },
  {
   "cell_type": "markdown",
   "id": "473b2925",
   "metadata": {},
   "source": [
    "- The goal of this project is to learn:\n",
    "\n",
    "  - 1. The basic steps involved in machine learning,\n",
    "  - 2. Data processing methods,\n",
    "  - 3. algorithms used in the YOLOv8 model,\n",
    "  - 4. parameters that might affect the outcome model,\n",
    "  - 5. evaluation of the machine learning model.\n",
    "  - 6. a pipeline using YOLOv8.\n",
    "\n",
    "- The outcome of this task:\n",
    "\n",
    "  - 1. The ability to outline basic steps in machine learning.\n",
    "  - 2. The ability to identify common data processing methods.\n",
    "  - 3. The ability to identify algorithms in this project and point out, on a high level, why they are needed and how they work.\n",
    "  - 4. The ability to configure and train model using YOLOv8.\n",
    "  - 5. The ability to evaluate the outcome model.\n",
    "\n",
    "- The expected documents by the end of this project:\n",
    "  - 1. Project Report: A report of this project.\n",
    "  - 2. Terminology list: A document to list terms mentioned in this project, such as algorithms, data processing methods, helpful libraries, etc.\n",
    "  - 3.  Code Notebook: A Jupyter notebook to present key steps and codes.\n",
    "  - 4.  Pipeline File: a Python file to define a workflow to train a YOLO model\n",
    "\n",
    "---\n"
   ]
  },
  {
   "cell_type": "markdown",
   "id": "98eb8683-cec4-45b0-8673-8dd83b703d7c",
   "metadata": {},
   "source": [
    "## Search and Download Images\n",
    "\n",
    "### Tool and Labrary\n",
    "\n",
    "- `simple_image_download` :\n",
    "\n",
    "  - a Python library that allows to search URLs of images from “Google images” using tags, and downloads them to local computer.\n",
    "  - In this Assignment, Version 0.4 will be used for better compatiable.\n",
    "\n",
    "- Command to install `simple_image_download`:\n",
    "\n",
    "  ```sh\n",
    "  pip install simple-image-download==0.4\n",
    "  ```\n",
    "\n",
    "---\n",
    "\n",
    "### Implemenation in Python\n"
   ]
  },
  {
   "cell_type": "code",
   "execution_count": 1,
   "id": "abc1be12",
   "metadata": {},
   "outputs": [],
   "source": [
    "# pip install simple-image-download==0.4\n",
    "# Define downloady_images function\n",
    "from simple_image_download import simple_image_download as simp\n",
    "\n",
    "def download_images(keyword, num_pic):\n",
    "    response = simp.simple_image_download()\n",
    "\n",
    "    for kw in keyword:\n",
    "        response.download(keywords=kw, limit=num_pic)"
   ]
  },
  {
   "cell_type": "code",
   "execution_count": 3,
   "id": "96e00b98",
   "metadata": {},
   "outputs": [],
   "source": [
    "# Define a list of keywords to download images\n",
    "keywords = [\n",
    "    \"Corvette with license plate\",\n",
    "    \"Volkswagen Beetle with license plate\",\n",
    "    \"Volkswagen Golf with license plate\",\n",
    "    \"Volkswagen Passat with license plate\",\n",
    "    \"Volkswagen Tiguan with license plate\",\n",
    "    \"Toyota Tacoma with license plate\",\n",
    "    \"Toyota Corolla with license plate\",\n",
    "    \"Toyota Highlander with license plate\",\n",
    "    \"Toyota Camry with license plate\",\n",
    "    \"Toyota RAV4 with license plate\",\n",
    "    \"Honda Accord with license plate\",\n",
    "    \"Honda Pilot with license plate\",\n",
    "    \"Honda CR-V with license plate\",\n",
    "    \"Honda Odyssey with license plate\",\n",
    "    \"Honda Passport with license plate\",\n",
    "    \"Honda Civic with license plate\",\n",
    "    \"Honda HR-V with license plate\",\n",
    "    \"BMW with license plate\",\n",
    "    \"Audi Q8 with license plate\",\n",
    "    \"Audi A3 Convertible with license plate\",\n",
    "    \"Audi A5 with license plate\",\n",
    "    \"Audi A4 with license plate\",\n",
    "    \"Audi Q7 with license plate\",\n",
    "    \"Audi A8 with license plate\",\n",
    "    \"Hyundai Kona with license plate\",\n",
    "    \"Hyundai Sonata with license plate\",\n",
    "    \"Hyundai Elantra with license plate\",\n",
    "    \"Hyundai Santa Cruz with license plate\",\n",
    "    \"Hyundai Accent with license plate\",\n",
    "    \"Jeep Gladiator with license plate\",\n",
    "    \"Jeep Grand Cherokee with license plate\",\n",
    "    \"Jeep Avenger with license plate\",\n",
    "    \"Chevrolet Camaro with license plate\",\n",
    "    \"Chevrolet Corvette with license plate\",\n",
    "    \"Chevrolet Malibu with license plate\",\n",
    "    \"Ford F-Series with license plate\",\n",
    "    \"Ford Escort with license plate\",\n",
    "    \"Ford Fiesta with license plate\",\n",
    "    \"Ford Focus with license plate\",\n",
    "    \"Ford Mustang with license plate\",\n",
    "    \"Ford Transit with license plate\",\n",
    "    \"Ford Taurus with license plate\",\n",
    "    \"Ford Explorer with license plate\",\n",
    "    \"Tesla Model Y with license plate\",\n",
    "    \"tesla model 3 with license plate\",\n",
    "    \"tesla model s with license plate\",\n",
    "    \"car with license plate\",\n",
    "    \"vehicle with license plate\",\n",
    "    \"sports car with plate\",\n",
    "]\n",
    "# Define max number of pic to download\n",
    "num_pic = 200\n",
    "\n",
    "# Call function to dowload\n",
    "# download_images(keywords, num_pic)"
   ]
  },
  {
   "cell_type": "markdown",
   "id": "39c3dae4",
   "metadata": {},
   "source": [
    "- Screenshot\n"
   ]
  },
  {
   "cell_type": "markdown",
   "id": "22a166b4",
   "metadata": {},
   "source": [
    "---\n"
   ]
  },
  {
   "cell_type": "markdown",
   "id": "bd0cddb9",
   "metadata": {},
   "source": [
    "## Data Processing\n",
    "\n",
    "### Tool and Library\n",
    "\n",
    "- `LabelImg`\n",
    "\n",
    "  - a **graphical image annotation tool**.\n",
    "  - It is written in Python and uses Qt for its **graphical interface**.\n",
    "  - Annotations are saved as `XML` files in `PASCAL VOC` format, the format used by `ImageNet`. Besides, it also supports `YOLO` and `CreateML` formats.\n",
    "\n",
    "  - Github: https://github.com/HumanSignal/labelImg\n",
    "\n",
    "- Command to install and call programme\n",
    "\n",
    "  ```sh\n",
    "  # Install labelImg library\n",
    "  pip install labelImg\n",
    "\n",
    "  # call programme\n",
    "  labelImg\n",
    "  ```\n",
    "\n",
    "  - Screenshots\n"
   ]
  },
  {
   "cell_type": "markdown",
   "id": "cc061887",
   "metadata": {},
   "source": [
    "---"
   ]
  },
  {
   "cell_type": "markdown",
   "id": "4080395f",
   "metadata": {},
   "source": [
    "### Split Train and Test Datasets\n",
    "\n",
    "- Create directory for train and test datasets.\n",
    "- Split images into train and test datasets.\n",
    "- Copy images and annotation files to train and test directories.\n"
   ]
  },
  {
   "cell_type": "code",
   "execution_count": 4,
   "id": "3afd9200",
   "metadata": {},
   "outputs": [],
   "source": [
    "# Define functions for data processing\n",
    "import os\n",
    "import shutil\n",
    "from pathlib import Path\n",
    "from sklearn.model_selection import train_test_split\n",
    "\n",
    "# region Supporting Functions\n",
    "\n",
    "def create_datasets_dir(dir):\n",
    "    '''Create train and test directories'''\n",
    "\n",
    "    if os.path.isdir(dir):\n",
    "        shutil.rmtree(dir)\n",
    "\n",
    "    Path(dir).mkdir(parents=True, exist_ok=True)\n",
    "\n",
    "    train_path = Path(dir, \"train\")\n",
    "    train_image_path = Path(train_path, \"images\")\n",
    "    train_labels_path = Path(train_path, \"labels\")\n",
    "\n",
    "    Path(train_path).mkdir(parents=True, exist_ok=True)\n",
    "    Path(train_image_path).mkdir(parents=True, exist_ok=True)\n",
    "    Path(train_labels_path).mkdir(parents=True, exist_ok=True)\n",
    "\n",
    "    test_path = Path(dir, \"test\")\n",
    "    test_image_path = Path(test_path, \"images\")\n",
    "    test_labels_path = Path(test_path, \"labels\")\n",
    "\n",
    "    Path(test_path).mkdir(parents=True, exist_ok=True)\n",
    "    Path(test_image_path).mkdir(parents=True, exist_ok=True)\n",
    "    Path(test_labels_path).mkdir(parents=True, exist_ok=True)\n",
    "\n",
    "    test_path = Path(dir, \"val\")\n",
    "    test_image_path = Path(test_path, \"images\")\n",
    "    test_labels_path = Path(test_path, \"labels\")\n",
    "\n",
    "    Path(test_path).mkdir(parents=True, exist_ok=True)\n",
    "    Path(test_image_path).mkdir(parents=True, exist_ok=True)\n",
    "    Path(test_labels_path).mkdir(parents=True, exist_ok=True)\n",
    "\n",
    "\n",
    "def copy_files(source_fn_list, source_path,  target_path):\n",
    "    '''Copy selected file list to destination'''\n",
    "\n",
    "    image_path = Path(target_path,\"images\")\n",
    "    labels_path = Path(target_path,\"labels\")\n",
    "    for fn in source_fn_list:\n",
    "        # if the csv file exists\n",
    "        if Path(source_path, fn+\".txt\").is_file() and Path(source_path, fn+\".jpeg\").is_file():\n",
    "            shutil.copy(Path(source_path, fn+\".jpeg\"), image_path)\n",
    "            shutil.copy(Path(source_path, fn+\".txt\"), labels_path)\n",
    "\n",
    "\n",
    "def report_info(target_path):\n",
    "    '''report files in path'''\n",
    "    report = {\n",
    "        \"images\": {\"path\":Path(target_path,\"images\"),\"count\": 0},\n",
    "        \"labels\": {\"path\":Path(target_path,\"labels\"),\"count\":0},\n",
    "    }\n",
    "\n",
    "    for file in os.listdir(Path(target_path,\"labels\")):\n",
    "        if file.endswith(\".txt\"):\n",
    "            report['labels'][\"count\"] += 1\n",
    "\n",
    "    for file in os.listdir(Path(target_path,\"images\")):\n",
    "        if file.endswith(\".jpeg\"):\n",
    "            report[\"images\"][\"count\"] += 1\n",
    "\n",
    "    return report\n",
    "\n",
    "def clear_runr_dir(dir):\n",
    "    # Clean left over runs dir\n",
    "    if os.path.isdir(dir):\n",
    "        shutil.rmtree(\"./runs\")\n",
    "\n",
    "# endregion\n"
   ]
  },
  {
   "cell_type": "code",
   "execution_count": 5,
   "id": "8c80b6f4",
   "metadata": {},
   "outputs": [
    {
     "name": "stdout",
     "output_type": "stream",
     "text": [
      "\n",
      "Report: Train Dataset\n",
      "Images Path: /Users/simon/Documents/Github/ITE-5310-Machine-Learning-Assignment10/datasets/train/images\n",
      "Images Count: 378\n",
      "Label Path: /Users/simon/Documents/Github/ITE-5310-Machine-Learning-Assignment10/datasets/train/labels\n",
      "Labels Count: 378\n",
      "\n",
      "Report: Val Dataset\n",
      "Images Path: /Users/simon/Documents/Github/ITE-5310-Machine-Learning-Assignment10/datasets/val/images\n",
      "Images Count: 84\n",
      "Label Path: /Users/simon/Documents/Github/ITE-5310-Machine-Learning-Assignment10/datasets/val/labels\n",
      "Labels Count: 84\n",
      "\n",
      "Report: Test Dataset\n",
      "Images Path: /Users/simon/Documents/Github/ITE-5310-Machine-Learning-Assignment10/datasets/test/images\n",
      "Images Count: 81\n",
      "Label Path: /Users/simon/Documents/Github/ITE-5310-Machine-Learning-Assignment10/datasets/test/labels\n",
      "Labels Count: 81\n"
     ]
    }
   ],
   "source": [
    "# Define paths\n",
    "from pathlib import Path\n",
    "\n",
    "ROOT_DIR = Path().resolve() # Root path\n",
    "\n",
    "LABEL_IMAGE_PATH = Path(ROOT_DIR, \"data_label_image\")\n",
    "DATASET_PATH = Path(ROOT_DIR, \"datasets\")\n",
    "TRAIN_DS_PATH = Path(DATASET_PATH, \"train\")\n",
    "TEST_DS_PATH = Path(DATASET_PATH, \"test\")\n",
    "VAL_DS_PATH = Path(DATASET_PATH, \"val\")\n",
    "\n",
    "TEST_SIZE = 0.15 # % of test size\n",
    "VAL_SIZE = 0.15 # % of test size\n",
    "\n",
    "# establish datasets directory\n",
    "create_datasets_dir(DATASET_PATH)\n",
    "\n",
    "# get unique list of file\n",
    "fn_list = os.listdir(LABEL_IMAGE_PATH)\n",
    "fn_unique_list = list(set([\"\".join(fn.split(\".\")[:-1]) for fn in fn_list]))\n",
    "\n",
    "# split train and test dataset\n",
    "fn_train, fn_test = train_test_split(\n",
    "    fn_unique_list, test_size=TEST_SIZE, random_state=42)\n",
    "\n",
    "\n",
    "train_val, fn_test = train_test_split(fn_unique_list, test_size=TEST_SIZE, random_state=42) # test % = 15%\n",
    "\n",
    "fn_train, fn_val = train_test_split(train_val, test_size=TEST_SIZE/(1-TEST_SIZE), random_state=42) # (1-15%) x size = 15%\n",
    "\n",
    "# # clone files to destination\n",
    "copy_files(fn_train, LABEL_IMAGE_PATH,  TRAIN_DS_PATH)\n",
    "copy_files(fn_test, LABEL_IMAGE_PATH,  TEST_DS_PATH)\n",
    "copy_files(fn_val, LABEL_IMAGE_PATH,  VAL_DS_PATH)\n",
    "\n",
    "# train_report\n",
    "train_report = report_info(TRAIN_DS_PATH)\n",
    "print(\n",
    "    f\"\\nReport: Train Dataset\\nImages Path: {train_report['images']['path']}\\nImages Count: {train_report['images']['count']}\\nLabel Path: {train_report['labels']['path']}\\nLabels Count: {train_report['labels']['count']}\")\n",
    "\n",
    "# val_report\n",
    "val_report = report_info(VAL_DS_PATH)\n",
    "print(\n",
    "    f\"\\nReport: Val Dataset\\nImages Path: {val_report['images']['path']}\\nImages Count: {val_report['images']['count']}\\nLabel Path: {val_report['labels']['path']}\\nLabels Count: {val_report['labels']['count']}\")\n",
    "\n",
    "# test_report\n",
    "test_report = report_info(TEST_DS_PATH)\n",
    "print(\n",
    "    f\"\\nReport: Test Dataset\\nImages Path: {test_report['images']['path']}\\nImages Count: {test_report['images']['count']}\\nLabel Path: {test_report['labels']['path']}\\nLabels Count: {test_report['labels']['count']}\")\n",
    "\n",
    "clear_runr_dir(\"./runs\")\n"
   ]
  },
  {
   "cell_type": "markdown",
   "id": "56c4aa42",
   "metadata": {},
   "source": [
    "---"
   ]
  },
  {
   "cell_type": "markdown",
   "id": "ba4c82de",
   "metadata": {},
   "source": [
    "## Train YOLOv8 Model\n",
    "\n",
    "### Create configuration yaml files\n",
    "\n",
    "- YAML file in `datasets` directory\n",
    "\n",
    "```yaml\n",
    "names:\n",
    "  0: <label_name>\n",
    "train: <absolute path of train dataset's images>\n",
    "val: <absolute path of val dataset's images>\n",
    "```\n"
   ]
  },
  {
   "cell_type": "code",
   "execution_count": 6,
   "id": "2f3a57b6",
   "metadata": {},
   "outputs": [],
   "source": [
    "import yaml\n",
    "\n",
    "YAML_PATH = \"datasets/config.yaml\"  # path to data file\n",
    "\n",
    "data = dict(\n",
    "    train = Path(TRAIN_DS_PATH, \"images\").absolute().as_posix(),\n",
    "    val = Path(TRAIN_DS_PATH, \"images\").absolute().as_posix(),\n",
    "    names = {0: \"car_plate\"}\n",
    ")\n",
    "\n",
    "with open(YAML_PATH, 'w') as outfile:\n",
    "    yaml.dump(data, outfile, default_flow_style=False)"
   ]
  },
  {
   "cell_type": "markdown",
   "id": "d45449e6",
   "metadata": {},
   "source": [
    "### Train Model\n",
    "\n",
    "- Train custom model from scratch.\n"
   ]
  },
  {
   "cell_type": "code",
   "execution_count": 7,
   "id": "92e7553b",
   "metadata": {},
   "outputs": [
    {
     "name": "stdout",
     "output_type": "stream",
     "text": [
      "Ultralytics YOLOv8.0.212 🚀 Python-3.11.5 torch-2.1.1 CPU (Apple M2)\n",
      "\u001b[34m\u001b[1mengine/trainer: \u001b[0mtask=detect, mode=train, model=./model/base/yolov8n.pt, data=datasets/config.yaml, epochs=100, patience=50, batch=16, imgsz=640, save=True, save_period=-1, cache=False, device=None, workers=8, project=None, name=train, exist_ok=False, pretrained=True, optimizer=auto, verbose=True, seed=0, deterministic=True, single_cls=False, rect=False, cos_lr=False, close_mosaic=10, resume=False, amp=True, fraction=1.0, profile=False, freeze=None, overlap_mask=True, mask_ratio=4, dropout=0.0, val=True, split=val, save_json=False, save_hybrid=False, conf=None, iou=0.7, max_det=300, half=False, dnn=False, plots=True, source=None, show=False, save_txt=False, save_conf=False, save_crop=False, show_labels=True, show_conf=True, vid_stride=1, stream_buffer=False, line_width=None, visualize=False, augment=False, agnostic_nms=False, classes=None, retina_masks=False, boxes=True, format=torchscript, keras=False, optimize=False, int8=False, dynamic=False, simplify=False, opset=None, workspace=4, nms=False, lr0=0.01, lrf=0.01, momentum=0.937, weight_decay=0.0005, warmup_epochs=3.0, warmup_momentum=0.8, warmup_bias_lr=0.1, box=7.5, cls=0.5, dfl=1.5, pose=12.0, kobj=1.0, label_smoothing=0.0, nbs=64, hsv_h=0.015, hsv_s=0.7, hsv_v=0.4, degrees=0.0, translate=0.1, scale=0.5, shear=0.0, perspective=0.0, flipud=0.0, fliplr=0.5, mosaic=1.0, mixup=0.0, copy_paste=0.0, cfg=None, tracker=botsort.yaml, save_dir=/Users/simon/Documents/Github/ITE-5310-Machine-Learning-Assignment10/runs/detect/train\n",
      "Overriding model.yaml nc=80 with nc=1\n",
      "\n",
      "                   from  n    params  module                                       arguments                     \n",
      "  0                  -1  1       464  ultralytics.nn.modules.conv.Conv             [3, 16, 3, 2]                 \n",
      "  1                  -1  1      4672  ultralytics.nn.modules.conv.Conv             [16, 32, 3, 2]                \n",
      "  2                  -1  1      7360  ultralytics.nn.modules.block.C2f             [32, 32, 1, True]             \n",
      "  3                  -1  1     18560  ultralytics.nn.modules.conv.Conv             [32, 64, 3, 2]                \n",
      "  4                  -1  2     49664  ultralytics.nn.modules.block.C2f             [64, 64, 2, True]             \n",
      "  5                  -1  1     73984  ultralytics.nn.modules.conv.Conv             [64, 128, 3, 2]               \n",
      "  6                  -1  2    197632  ultralytics.nn.modules.block.C2f             [128, 128, 2, True]           \n",
      "  7                  -1  1    295424  ultralytics.nn.modules.conv.Conv             [128, 256, 3, 2]              \n",
      "  8                  -1  1    460288  ultralytics.nn.modules.block.C2f             [256, 256, 1, True]           \n",
      "  9                  -1  1    164608  ultralytics.nn.modules.block.SPPF            [256, 256, 5]                 \n",
      " 10                  -1  1         0  torch.nn.modules.upsampling.Upsample         [None, 2, 'nearest']          \n",
      " 11             [-1, 6]  1         0  ultralytics.nn.modules.conv.Concat           [1]                           \n",
      " 12                  -1  1    148224  ultralytics.nn.modules.block.C2f             [384, 128, 1]                 \n",
      " 13                  -1  1         0  torch.nn.modules.upsampling.Upsample         [None, 2, 'nearest']          \n",
      " 14             [-1, 4]  1         0  ultralytics.nn.modules.conv.Concat           [1]                           \n",
      " 15                  -1  1     37248  ultralytics.nn.modules.block.C2f             [192, 64, 1]                  \n",
      " 16                  -1  1     36992  ultralytics.nn.modules.conv.Conv             [64, 64, 3, 2]                \n",
      " 17            [-1, 12]  1         0  ultralytics.nn.modules.conv.Concat           [1]                           \n",
      " 18                  -1  1    123648  ultralytics.nn.modules.block.C2f             [192, 128, 1]                 \n",
      " 19                  -1  1    147712  ultralytics.nn.modules.conv.Conv             [128, 128, 3, 2]              \n",
      " 20             [-1, 9]  1         0  ultralytics.nn.modules.conv.Concat           [1]                           \n",
      " 21                  -1  1    493056  ultralytics.nn.modules.block.C2f             [384, 256, 1]                 \n",
      " 22        [15, 18, 21]  1    751507  ultralytics.nn.modules.head.Detect           [1, [64, 128, 256]]           \n",
      "Model summary: 225 layers, 3011043 parameters, 3011027 gradients, 8.2 GFLOPs\n",
      "\n",
      "Transferred 319/355 items from pretrained weights\n",
      "Freezing layer 'model.22.dfl.conv.weight'\n"
     ]
    },
    {
     "name": "stderr",
     "output_type": "stream",
     "text": [
      "\u001b[34m\u001b[1mtrain: \u001b[0mScanning /Users/simon/Documents/Github/ITE-5310-Machine-Learning-Assignment10/datasets/train/labels... 378 images, 0 backgrounds, 0 corrupt: 100%|██████████| 378/378 [00:00<00:00, 1437.63it/s]"
     ]
    },
    {
     "name": "stdout",
     "output_type": "stream",
     "text": [
      "\u001b[34m\u001b[1mtrain: \u001b[0mWARNING ⚠️ /Users/simon/Documents/Github/ITE-5310-Machine-Learning-Assignment10/datasets/train/images/Audi A3 Convertible with license plate_18.jpeg: corrupt JPEG restored and saved\n",
      "\u001b[34m\u001b[1mtrain: \u001b[0mWARNING ⚠️ /Users/simon/Documents/Github/ITE-5310-Machine-Learning-Assignment10/datasets/train/images/Audi A3 Convertible with license plate_30.jpeg: corrupt JPEG restored and saved\n",
      "\u001b[34m\u001b[1mtrain: \u001b[0mWARNING ⚠️ /Users/simon/Documents/Github/ITE-5310-Machine-Learning-Assignment10/datasets/train/images/Ford Focus with license plate_15.jpeg: corrupt JPEG restored and saved\n",
      "\u001b[34m\u001b[1mtrain: \u001b[0mNew cache created: /Users/simon/Documents/Github/ITE-5310-Machine-Learning-Assignment10/datasets/train/labels.cache\n"
     ]
    },
    {
     "name": "stderr",
     "output_type": "stream",
     "text": [
      "\n",
      "\u001b[34m\u001b[1mval: \u001b[0mScanning /Users/simon/Documents/Github/ITE-5310-Machine-Learning-Assignment10/datasets/train/labels.cache... 378 images, 0 backgrounds, 0 corrupt: 100%|██████████| 378/378 [00:00<?, ?it/s]"
     ]
    },
    {
     "name": "stdout",
     "output_type": "stream",
     "text": [
      "\u001b[34m\u001b[1mtrain: \u001b[0mWARNING ⚠️ /Users/simon/Documents/Github/ITE-5310-Machine-Learning-Assignment10/datasets/train/images/Audi A3 Convertible with license plate_18.jpeg: corrupt JPEG restored and saved\n",
      "\u001b[34m\u001b[1mtrain: \u001b[0mWARNING ⚠️ /Users/simon/Documents/Github/ITE-5310-Machine-Learning-Assignment10/datasets/train/images/Audi A3 Convertible with license plate_30.jpeg: corrupt JPEG restored and saved\n",
      "\u001b[34m\u001b[1mtrain: \u001b[0mWARNING ⚠️ /Users/simon/Documents/Github/ITE-5310-Machine-Learning-Assignment10/datasets/train/images/Ford Focus with license plate_15.jpeg: corrupt JPEG restored and saved\n"
     ]
    },
    {
     "name": "stderr",
     "output_type": "stream",
     "text": [
      "\n"
     ]
    },
    {
     "name": "stdout",
     "output_type": "stream",
     "text": [
      "Plotting labels to /Users/simon/Documents/Github/ITE-5310-Machine-Learning-Assignment10/runs/detect/train/labels.jpg... \n",
      "\u001b[34m\u001b[1moptimizer:\u001b[0m 'optimizer=auto' found, ignoring 'lr0=0.01' and 'momentum=0.937' and determining best 'optimizer', 'lr0' and 'momentum' automatically... \n",
      "\u001b[34m\u001b[1moptimizer:\u001b[0m AdamW(lr=0.002, momentum=0.9) with parameter groups 57 weight(decay=0.0), 64 weight(decay=0.0005), 63 bias(decay=0.0)\n",
      "Image sizes 640 train, 640 val\n",
      "Using 0 dataloader workers\n",
      "Logging results to \u001b[1m/Users/simon/Documents/Github/ITE-5310-Machine-Learning-Assignment10/runs/detect/train\u001b[0m\n",
      "Starting training for 100 epochs...\n",
      "\n",
      "      Epoch    GPU_mem   box_loss   cls_loss   dfl_loss  Instances       Size\n"
     ]
    },
    {
     "name": "stderr",
     "output_type": "stream",
     "text": [
      "  0%|          | 0/24 [00:00<?, ?it/s]Corrupt JPEG data: premature end of data segment\n",
      "      1/100         0G      1.082      3.551      1.093         31        640:  54%|█████▍    | 13/24 [01:15<01:01,  5.58s/it]Corrupt JPEG data: 1 extraneous bytes before marker 0xd9\n",
      "      1/100         0G      1.067      3.462      1.082         23        640:  58%|█████▊    | 14/24 [01:20<00:54,  5.47s/it]Corrupt JPEG data: premature end of data segment\n",
      "      1/100         0G     0.9962      2.801      1.021         21        640: 100%|██████████| 24/24 [02:10<00:00,  5.43s/it]\n",
      "                 Class     Images  Instances      Box(P          R      mAP50  mAP50-95):   8%|▊         | 1/12 [00:02<00:31,  2.89s/it]Corrupt JPEG data: 1 extraneous bytes before marker 0xd9\n",
      "                 Class     Images  Instances      Box(P          R      mAP50  mAP50-95):  17%|█▋        | 2/12 [00:06<00:30,  3.07s/it]Corrupt JPEG data: premature end of data segment\n",
      "                 Class     Images  Instances      Box(P          R      mAP50  mAP50-95):  25%|██▌       | 3/12 [00:09<00:28,  3.16s/it]Corrupt JPEG data: premature end of data segment\n",
      "                 Class     Images  Instances      Box(P          R      mAP50  mAP50-95): 100%|██████████| 12/12 [00:45<00:00,  3.75s/it]"
     ]
    },
    {
     "name": "stdout",
     "output_type": "stream",
     "text": [
      "                   all        378        393    0.00342      0.987       0.18      0.125\n"
     ]
    },
    {
     "name": "stderr",
     "output_type": "stream",
     "text": [
      "\n"
     ]
    },
    {
     "name": "stdout",
     "output_type": "stream",
     "text": [
      "\n",
      "      Epoch    GPU_mem   box_loss   cls_loss   dfl_loss  Instances       Size\n"
     ]
    },
    {
     "name": "stderr",
     "output_type": "stream",
     "text": [
      "      2/100         0G     0.9341      1.684     0.9561         34        640:  42%|████▏     | 10/24 [00:56<01:19,  5.67s/it]Corrupt JPEG data: premature end of data segment\n",
      "      2/100         0G     0.9469      1.682     0.9785         25        640:  62%|██████▎   | 15/24 [01:24<00:50,  5.61s/it]Corrupt JPEG data: 1 extraneous bytes before marker 0xd9\n",
      "      2/100         0G     0.9296      1.602     0.9608         28        640:  96%|█████████▌| 23/24 [02:09<00:05,  5.63s/it]Corrupt JPEG data: premature end of data segment\n",
      "      2/100         0G     0.9293      1.598     0.9581         18        640: 100%|██████████| 24/24 [02:11<00:00,  5.48s/it]\n",
      "                 Class     Images  Instances      Box(P          R      mAP50  mAP50-95):   8%|▊         | 1/12 [00:02<00:31,  2.86s/it]Corrupt JPEG data: 1 extraneous bytes before marker 0xd9\n",
      "                 Class     Images  Instances      Box(P          R      mAP50  mAP50-95):  17%|█▋        | 2/12 [00:06<00:30,  3.04s/it]Corrupt JPEG data: premature end of data segment\n",
      "                 Class     Images  Instances      Box(P          R      mAP50  mAP50-95):  25%|██▌       | 3/12 [00:09<00:28,  3.13s/it]Corrupt JPEG data: premature end of data segment\n",
      "                 Class     Images  Instances      Box(P          R      mAP50  mAP50-95): 100%|██████████| 12/12 [00:44<00:00,  3.71s/it]"
     ]
    },
    {
     "name": "stdout",
     "output_type": "stream",
     "text": [
      "                   all        378        393      0.989      0.239      0.674      0.526\n"
     ]
    },
    {
     "name": "stderr",
     "output_type": "stream",
     "text": [
      "\n"
     ]
    },
    {
     "name": "stdout",
     "output_type": "stream",
     "text": [
      "\n",
      "      Epoch    GPU_mem   box_loss   cls_loss   dfl_loss  Instances       Size\n"
     ]
    },
    {
     "name": "stderr",
     "output_type": "stream",
     "text": [
      "      3/100         0G     0.9819      1.372      0.993         28        640:  25%|██▌       | 6/24 [00:37<01:53,  6.33s/it]Corrupt JPEG data: 1 extraneous bytes before marker 0xd9\n",
      "      3/100         0G     0.9638      1.338      0.975         36        640:  88%|████████▊ | 21/24 [02:06<00:18,  6.01s/it]Corrupt JPEG data: premature end of data segment\n",
      "      3/100         0G     0.9718      1.337     0.9753         19        640: 100%|██████████| 24/24 [02:20<00:00,  5.86s/it]\n",
      "                 Class     Images  Instances      Box(P          R      mAP50  mAP50-95):   8%|▊         | 1/12 [00:03<00:35,  3.21s/it]Corrupt JPEG data: 1 extraneous bytes before marker 0xd9\n",
      "                 Class     Images  Instances      Box(P          R      mAP50  mAP50-95):  17%|█▋        | 2/12 [00:06<00:33,  3.34s/it]Corrupt JPEG data: premature end of data segment\n",
      "                 Class     Images  Instances      Box(P          R      mAP50  mAP50-95):  25%|██▌       | 3/12 [00:10<00:30,  3.40s/it]Corrupt JPEG data: premature end of data segment\n",
      "                 Class     Images  Instances      Box(P          R      mAP50  mAP50-95): 100%|██████████| 12/12 [00:48<00:00,  4.02s/it]"
     ]
    },
    {
     "name": "stdout",
     "output_type": "stream",
     "text": [
      "                   all        378        393          1     0.0399      0.339      0.224\n"
     ]
    },
    {
     "name": "stderr",
     "output_type": "stream",
     "text": [
      "\n"
     ]
    },
    {
     "name": "stdout",
     "output_type": "stream",
     "text": [
      "\n",
      "      Epoch    GPU_mem   box_loss   cls_loss   dfl_loss  Instances       Size\n"
     ]
    },
    {
     "name": "stderr",
     "output_type": "stream",
     "text": [
      "      4/100         0G      1.055      1.429     0.9838         33        640:  29%|██▉       | 7/24 [00:45<01:50,  6.48s/it]Corrupt JPEG data: 1 extraneous bytes before marker 0xd9\n",
      "      4/100         0G      1.018       1.37     0.9875         32        640:  62%|██████▎   | 15/24 [01:34<00:54,  6.08s/it]Corrupt JPEG data: premature end of data segment\n",
      "      4/100         0G      1.001      1.363     0.9773         32        640:  79%|███████▉  | 19/24 [01:58<00:30,  6.09s/it]Corrupt JPEG data: premature end of data segment\n",
      "      4/100         0G      1.007      1.338     0.9877         21        640: 100%|██████████| 24/24 [02:24<00:00,  6.02s/it]\n",
      "                 Class     Images  Instances      Box(P          R      mAP50  mAP50-95):   8%|▊         | 1/12 [00:03<00:35,  3.20s/it]Corrupt JPEG data: 1 extraneous bytes before marker 0xd9\n",
      "                 Class     Images  Instances      Box(P          R      mAP50  mAP50-95):  17%|█▋        | 2/12 [00:06<00:33,  3.36s/it]Corrupt JPEG data: premature end of data segment\n",
      "                 Class     Images  Instances      Box(P          R      mAP50  mAP50-95):  25%|██▌       | 3/12 [00:10<00:31,  3.45s/it]Corrupt JPEG data: premature end of data segment\n",
      "                 Class     Images  Instances      Box(P          R      mAP50  mAP50-95): 100%|██████████| 12/12 [00:48<00:00,  4.06s/it]"
     ]
    },
    {
     "name": "stdout",
     "output_type": "stream",
     "text": [
      "                   all        378        393      0.887      0.466      0.637      0.441\n",
      "\n",
      "      Epoch    GPU_mem   box_loss   cls_loss   dfl_loss  Instances       Size\n"
     ]
    },
    {
     "name": "stderr",
     "output_type": "stream",
     "text": [
      "\n",
      "      5/100         0G     0.9232      1.159     0.9344         30        640:  21%|██        | 5/24 [00:37<02:25,  7.67s/it]Corrupt JPEG data: premature end of data segment\n",
      "      5/100         0G     0.9472      1.208     0.9544         36        640:  50%|█████     | 12/24 [01:19<01:11,  5.98s/it]Corrupt JPEG data: 1 extraneous bytes before marker 0xd9\n",
      "      5/100         0G     0.9707      1.232     0.9769         28        640:  96%|█████████▌| 23/24 [02:24<00:05,  5.91s/it]Corrupt JPEG data: premature end of data segment\n",
      "      5/100         0G     0.9679      1.224     0.9759         20        640: 100%|██████████| 24/24 [02:26<00:00,  6.10s/it]\n",
      "                 Class     Images  Instances      Box(P          R      mAP50  mAP50-95):   8%|▊         | 1/12 [00:03<00:35,  3.24s/it]Corrupt JPEG data: 1 extraneous bytes before marker 0xd9\n",
      "                 Class     Images  Instances      Box(P          R      mAP50  mAP50-95):  17%|█▋        | 2/12 [00:06<00:34,  3.42s/it]Corrupt JPEG data: premature end of data segment\n",
      "                 Class     Images  Instances      Box(P          R      mAP50  mAP50-95):  25%|██▌       | 3/12 [00:10<00:31,  3.52s/it]Corrupt JPEG data: premature end of data segment\n",
      "                 Class     Images  Instances      Box(P          R      mAP50  mAP50-95): 100%|██████████| 12/12 [00:50<00:00,  4.20s/it]"
     ]
    },
    {
     "name": "stdout",
     "output_type": "stream",
     "text": [
      "                   all        378        393      0.777      0.743      0.809      0.565\n"
     ]
    },
    {
     "name": "stderr",
     "output_type": "stream",
     "text": [
      "\n"
     ]
    },
    {
     "name": "stdout",
     "output_type": "stream",
     "text": [
      "\n",
      "      Epoch    GPU_mem   box_loss   cls_loss   dfl_loss  Instances       Size\n"
     ]
    },
    {
     "name": "stderr",
     "output_type": "stream",
     "text": [
      "  0%|          | 0/24 [00:00<?, ?it/s]Corrupt JPEG data: premature end of data segment\n",
      "      6/100         0G      1.009      1.178      1.024         32        640:  42%|████▏     | 10/24 [01:07<01:33,  6.65s/it]Corrupt JPEG data: premature end of data segment\n",
      "      6/100         0G     0.9683      1.111     0.9963         40        640:  92%|█████████▏| 22/24 [02:22<00:12,  6.19s/it]Corrupt JPEG data: 1 extraneous bytes before marker 0xd9\n",
      "      6/100         0G      0.971      1.108     0.9918         16        640: 100%|██████████| 24/24 [02:31<00:00,  6.29s/it]\n",
      "                 Class     Images  Instances      Box(P          R      mAP50  mAP50-95):   8%|▊         | 1/12 [00:03<00:36,  3.33s/it]Corrupt JPEG data: 1 extraneous bytes before marker 0xd9\n",
      "                 Class     Images  Instances      Box(P          R      mAP50  mAP50-95):  17%|█▋        | 2/12 [00:06<00:35,  3.52s/it]Corrupt JPEG data: premature end of data segment\n",
      "                 Class     Images  Instances      Box(P          R      mAP50  mAP50-95):  25%|██▌       | 3/12 [00:10<00:32,  3.61s/it]Corrupt JPEG data: premature end of data segment\n",
      "                 Class     Images  Instances      Box(P          R      mAP50  mAP50-95): 100%|██████████| 12/12 [00:51<00:00,  4.29s/it]"
     ]
    },
    {
     "name": "stdout",
     "output_type": "stream",
     "text": [
      "                   all        378        393      0.887      0.895      0.935      0.688\n"
     ]
    },
    {
     "name": "stderr",
     "output_type": "stream",
     "text": [
      "\n"
     ]
    },
    {
     "name": "stdout",
     "output_type": "stream",
     "text": [
      "\n",
      "      Epoch    GPU_mem   box_loss   cls_loss   dfl_loss  Instances       Size\n"
     ]
    },
    {
     "name": "stderr",
     "output_type": "stream",
     "text": [
      "      7/100         0G     0.9665      1.176      1.004         24        640:   4%|▍         | 1/24 [00:06<02:34,  6.74s/it]Corrupt JPEG data: premature end of data segment\n",
      "      7/100         0G     0.9561      1.059     0.9898         24        640:  42%|████▏     | 10/24 [01:16<01:37,  6.98s/it]Corrupt JPEG data: premature end of data segment\n",
      "      7/100         0G     0.9373      1.001     0.9687         19        640: 100%|██████████| 24/24 [02:40<00:00,  6.71s/it]\n",
      "                 Class     Images  Instances      Box(P          R      mAP50  mAP50-95):   8%|▊         | 1/12 [00:03<00:38,  3.50s/it]Corrupt JPEG data: 1 extraneous bytes before marker 0xd9\n",
      "                 Class     Images  Instances      Box(P          R      mAP50  mAP50-95):  17%|█▋        | 2/12 [00:07<00:36,  3.69s/it]Corrupt JPEG data: premature end of data segment\n",
      "                 Class     Images  Instances      Box(P          R      mAP50  mAP50-95):  25%|██▌       | 3/12 [00:11<00:34,  3.79s/it]Corrupt JPEG data: premature end of data segment\n",
      "                 Class     Images  Instances      Box(P          R      mAP50  mAP50-95): 100%|██████████| 12/12 [00:52<00:00,  4.36s/it]"
     ]
    },
    {
     "name": "stdout",
     "output_type": "stream",
     "text": [
      "                   all        378        393      0.945      0.875      0.941      0.705\n"
     ]
    },
    {
     "name": "stderr",
     "output_type": "stream",
     "text": [
      "\n"
     ]
    },
    {
     "name": "stdout",
     "output_type": "stream",
     "text": [
      "\n",
      "      Epoch    GPU_mem   box_loss   cls_loss   dfl_loss  Instances       Size\n"
     ]
    },
    {
     "name": "stderr",
     "output_type": "stream",
     "text": [
      "      8/100         0G     0.8827     0.8954      0.951         25        640:  25%|██▌       | 6/24 [00:40<02:03,  6.84s/it]Corrupt JPEG data: premature end of data segment\n",
      "      8/100         0G     0.9127     0.9164     0.9751         25        640:  33%|███▎      | 8/24 [00:54<01:51,  6.95s/it]Corrupt JPEG data: premature end of data segment\n",
      "      8/100         0G     0.9157     0.9033     0.9581         25        640:  92%|█████████▏| 22/24 [02:30<00:13,  6.74s/it]Corrupt JPEG data: 1 extraneous bytes before marker 0xd9\n",
      "      8/100         0G     0.9161     0.9076     0.9632         11        640: 100%|██████████| 24/24 [02:39<00:00,  6.65s/it]\n",
      "                 Class     Images  Instances      Box(P          R      mAP50  mAP50-95):   8%|▊         | 1/12 [00:03<00:38,  3.49s/it]Corrupt JPEG data: 1 extraneous bytes before marker 0xd9\n",
      "                 Class     Images  Instances      Box(P          R      mAP50  mAP50-95):  17%|█▋        | 2/12 [00:07<00:36,  3.68s/it]Corrupt JPEG data: premature end of data segment\n",
      "                 Class     Images  Instances      Box(P          R      mAP50  mAP50-95):  25%|██▌       | 3/12 [00:11<00:33,  3.78s/it]Corrupt JPEG data: premature end of data segment\n",
      "                 Class     Images  Instances      Box(P          R      mAP50  mAP50-95): 100%|██████████| 12/12 [00:53<00:00,  4.46s/it]"
     ]
    },
    {
     "name": "stdout",
     "output_type": "stream",
     "text": [
      "                   all        378        393      0.862      0.868      0.938      0.701\n"
     ]
    },
    {
     "name": "stderr",
     "output_type": "stream",
     "text": [
      "\n"
     ]
    },
    {
     "name": "stdout",
     "output_type": "stream",
     "text": [
      "\n",
      "      Epoch    GPU_mem   box_loss   cls_loss   dfl_loss  Instances       Size\n"
     ]
    },
    {
     "name": "stderr",
     "output_type": "stream",
     "text": [
      "      9/100         0G     0.8999     0.9231     0.9754         29        640:  38%|███▊      | 9/24 [01:09<01:54,  7.66s/it]Corrupt JPEG data: premature end of data segment\n",
      "      9/100         0G     0.9582     0.9003     0.9729         40        640:  71%|███████   | 17/24 [01:58<00:43,  6.25s/it]Corrupt JPEG data: 1 extraneous bytes before marker 0xd9\n",
      "      9/100         0G     0.9668     0.9053      0.973         31        640:  88%|████████▊ | 21/24 [02:24<00:19,  6.37s/it]Corrupt JPEG data: premature end of data segment\n",
      "      9/100         0G     0.9637     0.9048     0.9737         25        640: 100%|██████████| 24/24 [02:39<00:00,  6.63s/it]\n",
      "                 Class     Images  Instances      Box(P          R      mAP50  mAP50-95):   8%|▊         | 1/12 [00:03<00:36,  3.35s/it]Corrupt JPEG data: 1 extraneous bytes before marker 0xd9\n",
      "                 Class     Images  Instances      Box(P          R      mAP50  mAP50-95):  17%|█▋        | 2/12 [00:07<00:35,  3.55s/it]Corrupt JPEG data: premature end of data segment\n",
      "                 Class     Images  Instances      Box(P          R      mAP50  mAP50-95):  25%|██▌       | 3/12 [00:10<00:33,  3.68s/it]Corrupt JPEG data: premature end of data segment\n",
      "                 Class     Images  Instances      Box(P          R      mAP50  mAP50-95): 100%|██████████| 12/12 [00:52<00:00,  4.34s/it]"
     ]
    },
    {
     "name": "stdout",
     "output_type": "stream",
     "text": [
      "                   all        378        393      0.903      0.948      0.971      0.727\n"
     ]
    },
    {
     "name": "stderr",
     "output_type": "stream",
     "text": [
      "\n"
     ]
    },
    {
     "name": "stdout",
     "output_type": "stream",
     "text": [
      "\n",
      "      Epoch    GPU_mem   box_loss   cls_loss   dfl_loss  Instances       Size\n"
     ]
    },
    {
     "name": "stderr",
     "output_type": "stream",
     "text": [
      "     10/100         0G     0.9272     0.8692      0.979         26        640:  71%|███████   | 17/24 [02:03<00:43,  6.22s/it]Corrupt JPEG data: premature end of data segment\n",
      "     10/100         0G     0.9235     0.8599      0.979         33        640:  96%|█████████▌| 23/24 [02:41<00:06,  6.15s/it]Corrupt JPEG data: premature end of data segment\n",
      "     10/100         0G     0.9183     0.8544     0.9758         21        640: 100%|██████████| 24/24 [02:43<00:00,  6.80s/it]\n",
      "                 Class     Images  Instances      Box(P          R      mAP50  mAP50-95):   8%|▊         | 1/12 [00:03<00:36,  3.32s/it]Corrupt JPEG data: 1 extraneous bytes before marker 0xd9\n",
      "                 Class     Images  Instances      Box(P          R      mAP50  mAP50-95):  17%|█▋        | 2/12 [00:07<00:35,  3.54s/it]Corrupt JPEG data: premature end of data segment\n",
      "                 Class     Images  Instances      Box(P          R      mAP50  mAP50-95):  25%|██▌       | 3/12 [00:10<00:32,  3.64s/it]Corrupt JPEG data: premature end of data segment\n",
      "                 Class     Images  Instances      Box(P          R      mAP50  mAP50-95): 100%|██████████| 12/12 [00:52<00:00,  4.35s/it]"
     ]
    },
    {
     "name": "stdout",
     "output_type": "stream",
     "text": [
      "                   all        378        393      0.921      0.919       0.97      0.751\n"
     ]
    },
    {
     "name": "stderr",
     "output_type": "stream",
     "text": [
      "\n"
     ]
    },
    {
     "name": "stdout",
     "output_type": "stream",
     "text": [
      "\n",
      "      Epoch    GPU_mem   box_loss   cls_loss   dfl_loss  Instances       Size\n"
     ]
    },
    {
     "name": "stderr",
     "output_type": "stream",
     "text": [
      "     11/100         0G     0.8734     0.7815     0.9289         20        640:  33%|███▎      | 8/24 [01:02<02:01,  7.59s/it]Corrupt JPEG data: premature end of data segment\n",
      "     11/100         0G     0.8499     0.7479     0.9333         29        640:  92%|█████████▏| 22/24 [02:35<00:14,  7.05s/it]Corrupt JPEG data: 1 extraneous bytes before marker 0xd9\n",
      "     11/100         0G     0.8595     0.7572     0.9432         19        640: 100%|██████████| 24/24 [02:45<00:00,  6.88s/it]\n",
      "                 Class     Images  Instances      Box(P          R      mAP50  mAP50-95):   8%|▊         | 1/12 [00:03<00:37,  3.44s/it]Corrupt JPEG data: 1 extraneous bytes before marker 0xd9\n",
      "                 Class     Images  Instances      Box(P          R      mAP50  mAP50-95):  17%|█▋        | 2/12 [00:07<00:36,  3.64s/it]Corrupt JPEG data: premature end of data segment\n",
      "                 Class     Images  Instances      Box(P          R      mAP50  mAP50-95):  25%|██▌       | 3/12 [00:11<00:34,  3.78s/it]Corrupt JPEG data: premature end of data segment\n",
      "                 Class     Images  Instances      Box(P          R      mAP50  mAP50-95): 100%|██████████| 12/12 [00:52<00:00,  4.39s/it]"
     ]
    },
    {
     "name": "stdout",
     "output_type": "stream",
     "text": [
      "                   all        378        393      0.952      0.941      0.979       0.78\n"
     ]
    },
    {
     "name": "stderr",
     "output_type": "stream",
     "text": [
      "\n"
     ]
    },
    {
     "name": "stdout",
     "output_type": "stream",
     "text": [
      "\n",
      "      Epoch    GPU_mem   box_loss   cls_loss   dfl_loss  Instances       Size\n"
     ]
    },
    {
     "name": "stderr",
     "output_type": "stream",
     "text": [
      "     12/100         0G     0.8479     0.7144     0.9628         22        640:  29%|██▉       | 7/24 [01:02<02:45,  9.74s/it]Corrupt JPEG data: premature end of data segment\n",
      "     12/100         0G     0.8273     0.7034     0.9344         35        640:  67%|██████▋   | 16/24 [01:59<00:50,  6.33s/it]Corrupt JPEG data: 1 extraneous bytes before marker 0xd9\n",
      "     12/100         0G     0.8259     0.6957     0.9345         28        640:  75%|███████▌  | 18/24 [02:11<00:37,  6.29s/it]Corrupt JPEG data: premature end of data segment\n",
      "     12/100         0G     0.8363     0.7096     0.9405         14        640: 100%|██████████| 24/24 [02:45<00:00,  6.91s/it]\n",
      "                 Class     Images  Instances      Box(P          R      mAP50  mAP50-95):   8%|▊         | 1/12 [00:03<00:36,  3.34s/it]Corrupt JPEG data: 1 extraneous bytes before marker 0xd9\n",
      "                 Class     Images  Instances      Box(P          R      mAP50  mAP50-95):  17%|█▋        | 2/12 [00:06<00:35,  3.52s/it]Corrupt JPEG data: premature end of data segment\n",
      "                 Class     Images  Instances      Box(P          R      mAP50  mAP50-95):  25%|██▌       | 3/12 [00:10<00:32,  3.63s/it]Corrupt JPEG data: premature end of data segment\n",
      "                 Class     Images  Instances      Box(P          R      mAP50  mAP50-95): 100%|██████████| 12/12 [00:51<00:00,  4.28s/it]"
     ]
    },
    {
     "name": "stdout",
     "output_type": "stream",
     "text": [
      "                   all        378        393      0.979      0.956      0.987      0.777\n"
     ]
    },
    {
     "name": "stderr",
     "output_type": "stream",
     "text": [
      "\n"
     ]
    },
    {
     "name": "stdout",
     "output_type": "stream",
     "text": [
      "\n",
      "      Epoch    GPU_mem   box_loss   cls_loss   dfl_loss  Instances       Size\n"
     ]
    },
    {
     "name": "stderr",
     "output_type": "stream",
     "text": [
      "     13/100         0G     0.7882     0.6543     0.9069         35        640:  25%|██▌       | 6/24 [00:43<02:13,  7.40s/it]Corrupt JPEG data: premature end of data segment\n",
      "     13/100         0G     0.8131     0.6581      0.921         31        640:  54%|█████▍    | 13/24 [01:29<01:12,  6.56s/it]Corrupt JPEG data: premature end of data segment\n",
      "     13/100         0G     0.8215     0.6686     0.9204         35        640:  71%|███████   | 17/24 [01:55<00:45,  6.48s/it]Corrupt JPEG data: 1 extraneous bytes before marker 0xd9\n",
      "     13/100         0G     0.8191     0.6664     0.9169         19        640: 100%|██████████| 24/24 [02:36<00:00,  6.54s/it]\n",
      "                 Class     Images  Instances      Box(P          R      mAP50  mAP50-95):   8%|▊         | 1/12 [00:03<00:37,  3.39s/it]Corrupt JPEG data: 1 extraneous bytes before marker 0xd9\n",
      "                 Class     Images  Instances      Box(P          R      mAP50  mAP50-95):  17%|█▋        | 2/12 [00:07<00:35,  3.55s/it]Corrupt JPEG data: premature end of data segment\n",
      "                 Class     Images  Instances      Box(P          R      mAP50  mAP50-95):  25%|██▌       | 3/12 [00:10<00:32,  3.63s/it]Corrupt JPEG data: premature end of data segment\n",
      "                 Class     Images  Instances      Box(P          R      mAP50  mAP50-95): 100%|██████████| 12/12 [00:51<00:00,  4.25s/it]"
     ]
    },
    {
     "name": "stdout",
     "output_type": "stream",
     "text": [
      "                   all        378        393      0.959      0.906      0.965       0.72\n",
      "\n",
      "      Epoch    GPU_mem   box_loss   cls_loss   dfl_loss  Instances       Size\n"
     ]
    },
    {
     "name": "stderr",
     "output_type": "stream",
     "text": [
      "\n",
      "     14/100         0G     0.8673     0.7037     0.9248         28        640:  38%|███▊      | 9/24 [01:05<01:45,  7.02s/it]Corrupt JPEG data: premature end of data segment\n",
      "     14/100         0G     0.8774     0.7042     0.9276         36        640:  42%|████▏     | 10/24 [01:12<01:36,  6.89s/it]Corrupt JPEG data: 1 extraneous bytes before marker 0xd9\n",
      "     14/100         0G     0.8539     0.6915     0.9332         31        640:  83%|████████▎ | 20/24 [02:16<00:25,  6.43s/it]Corrupt JPEG data: premature end of data segment\n",
      "     14/100         0G     0.8571     0.6891     0.9332         17        640: 100%|██████████| 24/24 [02:38<00:00,  6.60s/it]\n",
      "                 Class     Images  Instances      Box(P          R      mAP50  mAP50-95):   8%|▊         | 1/12 [00:03<00:37,  3.37s/it]Corrupt JPEG data: 1 extraneous bytes before marker 0xd9\n",
      "                 Class     Images  Instances      Box(P          R      mAP50  mAP50-95):  17%|█▋        | 2/12 [00:07<00:35,  3.57s/it]Corrupt JPEG data: premature end of data segment\n",
      "                 Class     Images  Instances      Box(P          R      mAP50  mAP50-95):  25%|██▌       | 3/12 [00:10<00:32,  3.66s/it]Corrupt JPEG data: premature end of data segment\n",
      "                 Class     Images  Instances      Box(P          R      mAP50  mAP50-95): 100%|██████████| 12/12 [00:51<00:00,  4.28s/it]"
     ]
    },
    {
     "name": "stdout",
     "output_type": "stream",
     "text": [
      "                   all        378        393      0.967      0.967      0.982      0.791\n"
     ]
    },
    {
     "name": "stderr",
     "output_type": "stream",
     "text": [
      "\n"
     ]
    },
    {
     "name": "stdout",
     "output_type": "stream",
     "text": [
      "\n",
      "      Epoch    GPU_mem   box_loss   cls_loss   dfl_loss  Instances       Size\n"
     ]
    },
    {
     "name": "stderr",
     "output_type": "stream",
     "text": [
      "     15/100         0G      0.855     0.6649     0.9367         32        640:  25%|██▌       | 6/24 [00:47<02:31,  8.43s/it]Corrupt JPEG data: 1 extraneous bytes before marker 0xd9\n",
      "     15/100         0G     0.8354     0.6644     0.9303         30        640:  29%|██▉       | 7/24 [00:54<02:14,  7.89s/it]Corrupt JPEG data: premature end of data segment\n",
      "     15/100         0G     0.8411      0.643     0.9312         33        640:  67%|██████▋   | 16/24 [01:50<00:49,  6.19s/it]Corrupt JPEG data: premature end of data segment\n",
      "     15/100         0G     0.8253      0.637     0.9182         19        640: 100%|██████████| 24/24 [02:34<00:00,  6.45s/it]\n",
      "                 Class     Images  Instances      Box(P          R      mAP50  mAP50-95):   8%|▊         | 1/12 [00:03<00:35,  3.19s/it]Corrupt JPEG data: 1 extraneous bytes before marker 0xd9\n",
      "                 Class     Images  Instances      Box(P          R      mAP50  mAP50-95):  17%|█▋        | 2/12 [00:06<00:33,  3.38s/it]Corrupt JPEG data: premature end of data segment\n",
      "                 Class     Images  Instances      Box(P          R      mAP50  mAP50-95):  25%|██▌       | 3/12 [00:10<00:31,  3.48s/it]Corrupt JPEG data: premature end of data segment\n",
      "                 Class     Images  Instances      Box(P          R      mAP50  mAP50-95): 100%|██████████| 12/12 [00:49<00:00,  4.12s/it]"
     ]
    },
    {
     "name": "stdout",
     "output_type": "stream",
     "text": [
      "                   all        378        393      0.973      0.917      0.973      0.732\n",
      "\n",
      "      Epoch    GPU_mem   box_loss   cls_loss   dfl_loss  Instances       Size\n"
     ]
    },
    {
     "name": "stderr",
     "output_type": "stream",
     "text": [
      "\n",
      "     16/100         0G     0.8255     0.6577     0.9293         37        640:  25%|██▌       | 6/24 [00:40<02:07,  7.08s/it]Corrupt JPEG data: 1 extraneous bytes before marker 0xd9\n",
      "     16/100         0G     0.8088     0.6555     0.9209         29        640:  54%|█████▍    | 13/24 [01:25<01:07,  6.18s/it]Corrupt JPEG data: premature end of data segment\n",
      "     16/100         0G     0.8028     0.6486     0.9174         36        640:  79%|███████▉  | 19/24 [02:01<00:30,  6.06s/it]Corrupt JPEG data: premature end of data segment\n",
      "     16/100         0G     0.7928     0.6428      0.915         20        640: 100%|██████████| 24/24 [02:27<00:00,  6.15s/it]\n",
      "                 Class     Images  Instances      Box(P          R      mAP50  mAP50-95):   8%|▊         | 1/12 [00:03<00:35,  3.18s/it]Corrupt JPEG data: 1 extraneous bytes before marker 0xd9\n",
      "                 Class     Images  Instances      Box(P          R      mAP50  mAP50-95):  17%|█▋        | 2/12 [00:06<00:33,  3.37s/it]Corrupt JPEG data: premature end of data segment\n",
      "                 Class     Images  Instances      Box(P          R      mAP50  mAP50-95):  25%|██▌       | 3/12 [00:10<00:31,  3.47s/it]Corrupt JPEG data: premature end of data segment\n",
      "                 Class     Images  Instances      Box(P          R      mAP50  mAP50-95): 100%|██████████| 12/12 [00:50<00:00,  4.17s/it]"
     ]
    },
    {
     "name": "stdout",
     "output_type": "stream",
     "text": [
      "                   all        378        393      0.967      0.971      0.991      0.784\n",
      "\n",
      "      Epoch    GPU_mem   box_loss   cls_loss   dfl_loss  Instances       Size\n"
     ]
    },
    {
     "name": "stderr",
     "output_type": "stream",
     "text": [
      "\n",
      "     17/100         0G     0.7641     0.6071     0.9049         31        640:  54%|█████▍    | 13/24 [01:26<01:09,  6.35s/it]Corrupt JPEG data: premature end of data segment\n",
      "     17/100         0G     0.7755     0.6018     0.9077         34        640:  79%|███████▉  | 19/24 [02:04<00:30,  6.18s/it]Corrupt JPEG data: 1 extraneous bytes before marker 0xd9\n",
      "     17/100         0G     0.7938      0.605     0.9115         20        640: 100%|██████████| 24/24 [02:31<00:00,  6.32s/it]\n",
      "                 Class     Images  Instances      Box(P          R      mAP50  mAP50-95):   8%|▊         | 1/12 [00:03<00:36,  3.33s/it]Corrupt JPEG data: 1 extraneous bytes before marker 0xd9\n",
      "                 Class     Images  Instances      Box(P          R      mAP50  mAP50-95):  17%|█▋        | 2/12 [00:07<00:35,  3.58s/it]Corrupt JPEG data: premature end of data segment\n",
      "                 Class     Images  Instances      Box(P          R      mAP50  mAP50-95):  25%|██▌       | 3/12 [00:10<00:32,  3.64s/it]Corrupt JPEG data: premature end of data segment\n",
      "                 Class     Images  Instances      Box(P          R      mAP50  mAP50-95): 100%|██████████| 12/12 [00:51<00:00,  4.27s/it]"
     ]
    },
    {
     "name": "stdout",
     "output_type": "stream",
     "text": [
      "                   all        378        393      0.966      0.949      0.985       0.78\n"
     ]
    },
    {
     "name": "stderr",
     "output_type": "stream",
     "text": [
      "\n"
     ]
    },
    {
     "name": "stdout",
     "output_type": "stream",
     "text": [
      "\n",
      "      Epoch    GPU_mem   box_loss   cls_loss   dfl_loss  Instances       Size\n"
     ]
    },
    {
     "name": "stderr",
     "output_type": "stream",
     "text": [
      "     18/100         0G     0.8214     0.5479     0.9338         33        640:   4%|▍         | 1/24 [00:06<02:28,  6.45s/it]Corrupt JPEG data: premature end of data segment\n",
      "     18/100         0G     0.7534      0.579     0.8854         36        640:  25%|██▌       | 6/24 [00:38<01:57,  6.53s/it]Corrupt JPEG data: premature end of data segment\n",
      "     18/100         0G     0.7694     0.5876     0.8992         32        640:  54%|█████▍    | 13/24 [01:26<01:15,  6.89s/it]Corrupt JPEG data: 1 extraneous bytes before marker 0xd9\n",
      "     18/100         0G      0.774     0.5782     0.9009         25        640: 100%|██████████| 24/24 [02:33<00:00,  6.40s/it]\n",
      "                 Class     Images  Instances      Box(P          R      mAP50  mAP50-95):   8%|▊         | 1/12 [00:03<00:36,  3.31s/it]Corrupt JPEG data: 1 extraneous bytes before marker 0xd9\n",
      "                 Class     Images  Instances      Box(P          R      mAP50  mAP50-95):  17%|█▋        | 2/12 [00:06<00:34,  3.49s/it]Corrupt JPEG data: premature end of data segment\n",
      "                 Class     Images  Instances      Box(P          R      mAP50  mAP50-95):  25%|██▌       | 3/12 [00:10<00:32,  3.59s/it]Corrupt JPEG data: premature end of data segment\n",
      "                 Class     Images  Instances      Box(P          R      mAP50  mAP50-95): 100%|██████████| 12/12 [00:50<00:00,  4.24s/it]"
     ]
    },
    {
     "name": "stdout",
     "output_type": "stream",
     "text": [
      "                   all        378        393       0.99      0.979      0.992      0.835\n"
     ]
    },
    {
     "name": "stderr",
     "output_type": "stream",
     "text": [
      "\n"
     ]
    },
    {
     "name": "stdout",
     "output_type": "stream",
     "text": [
      "\n",
      "      Epoch    GPU_mem   box_loss   cls_loss   dfl_loss  Instances       Size\n"
     ]
    },
    {
     "name": "stderr",
     "output_type": "stream",
     "text": [
      "     19/100         0G     0.7469     0.5544     0.9067         26        640:  17%|█▋        | 4/24 [00:27<02:20,  7.05s/it]Corrupt JPEG data: premature end of data segment\n",
      "     19/100         0G     0.7547     0.5542     0.8918         30        640:  29%|██▉       | 7/24 [00:48<01:54,  6.76s/it]Corrupt JPEG data: 1 extraneous bytes before marker 0xd9\n",
      "     19/100         0G     0.7511     0.5429     0.8864         32        640:  67%|██████▋   | 16/24 [01:44<00:49,  6.23s/it]Corrupt JPEG data: premature end of data segment\n",
      "     19/100         0G     0.7562     0.5585     0.8948         11        640: 100%|██████████| 24/24 [02:29<00:00,  6.23s/it]\n",
      "                 Class     Images  Instances      Box(P          R      mAP50  mAP50-95):   8%|▊         | 1/12 [00:03<00:35,  3.21s/it]Corrupt JPEG data: 1 extraneous bytes before marker 0xd9\n",
      "                 Class     Images  Instances      Box(P          R      mAP50  mAP50-95):  17%|█▋        | 2/12 [00:06<00:34,  3.40s/it]Corrupt JPEG data: premature end of data segment\n",
      "                 Class     Images  Instances      Box(P          R      mAP50  mAP50-95):  25%|██▌       | 3/12 [00:10<00:31,  3.51s/it]Corrupt JPEG data: premature end of data segment\n",
      "                 Class     Images  Instances      Box(P          R      mAP50  mAP50-95): 100%|██████████| 12/12 [00:50<00:00,  4.18s/it]"
     ]
    },
    {
     "name": "stdout",
     "output_type": "stream",
     "text": [
      "                   all        378        393      0.982      0.954      0.985      0.806\n",
      "\n",
      "      Epoch    GPU_mem   box_loss   cls_loss   dfl_loss  Instances       Size\n"
     ]
    },
    {
     "name": "stderr",
     "output_type": "stream",
     "text": [
      "\n",
      "     20/100         0G     0.7405     0.5491      0.902         31        640:  54%|█████▍    | 13/24 [01:29<01:12,  6.57s/it]Corrupt JPEG data: 1 extraneous bytes before marker 0xd9\n",
      "     20/100         0G     0.7457     0.5649     0.8973         36        640:  71%|███████   | 17/24 [01:55<00:45,  6.46s/it]Corrupt JPEG data: premature end of data segment\n",
      "     20/100         0G     0.7569     0.5669     0.9043         25        640:  96%|█████████▌| 23/24 [02:33<00:06,  6.32s/it]Corrupt JPEG data: premature end of data segment\n",
      "     20/100         0G     0.7615     0.5709     0.9036         16        640: 100%|██████████| 24/24 [02:35<00:00,  6.48s/it]\n",
      "                 Class     Images  Instances      Box(P          R      mAP50  mAP50-95):   8%|▊         | 1/12 [00:03<00:35,  3.27s/it]Corrupt JPEG data: 1 extraneous bytes before marker 0xd9\n",
      "                 Class     Images  Instances      Box(P          R      mAP50  mAP50-95):  17%|█▋        | 2/12 [00:06<00:34,  3.46s/it]Corrupt JPEG data: premature end of data segment\n",
      "                 Class     Images  Instances      Box(P          R      mAP50  mAP50-95):  25%|██▌       | 3/12 [00:10<00:32,  3.56s/it]Corrupt JPEG data: premature end of data segment\n",
      "                 Class     Images  Instances      Box(P          R      mAP50  mAP50-95): 100%|██████████| 12/12 [00:50<00:00,  4.24s/it]"
     ]
    },
    {
     "name": "stdout",
     "output_type": "stream",
     "text": [
      "                   all        378        393      0.983      0.982      0.993        0.8\n",
      "\n",
      "      Epoch    GPU_mem   box_loss   cls_loss   dfl_loss  Instances       Size\n"
     ]
    },
    {
     "name": "stderr",
     "output_type": "stream",
     "text": [
      "\n",
      "     21/100         0G     0.7555     0.5426     0.9004         30        640:  50%|█████     | 12/24 [01:23<01:21,  6.78s/it]Corrupt JPEG data: 1 extraneous bytes before marker 0xd9\n",
      "     21/100         0G     0.7601      0.559     0.9072         29        640:  62%|██████▎   | 15/24 [01:43<01:00,  6.77s/it]Corrupt JPEG data: premature end of data segment\n",
      "     21/100         0G     0.7754     0.5663     0.9167         22        640: 100%|██████████| 24/24 [02:36<00:00,  6.54s/it]\n",
      "                 Class     Images  Instances      Box(P          R      mAP50  mAP50-95):   8%|▊         | 1/12 [00:03<00:36,  3.31s/it]Corrupt JPEG data: 1 extraneous bytes before marker 0xd9\n",
      "                 Class     Images  Instances      Box(P          R      mAP50  mAP50-95):  17%|█▋        | 2/12 [00:06<00:35,  3.50s/it]Corrupt JPEG data: premature end of data segment\n",
      "                 Class     Images  Instances      Box(P          R      mAP50  mAP50-95):  25%|██▌       | 3/12 [00:10<00:32,  3.60s/it]Corrupt JPEG data: premature end of data segment\n",
      "                 Class     Images  Instances      Box(P          R      mAP50  mAP50-95): 100%|██████████| 12/12 [00:50<00:00,  4.24s/it]"
     ]
    },
    {
     "name": "stdout",
     "output_type": "stream",
     "text": [
      "                   all        378        393       0.97      0.939       0.98      0.783\n",
      "\n",
      "      Epoch    GPU_mem   box_loss   cls_loss   dfl_loss  Instances       Size\n"
     ]
    },
    {
     "name": "stderr",
     "output_type": "stream",
     "text": [
      "\n",
      "     22/100         0G     0.7294     0.5766     0.9083         34        640:  25%|██▌       | 6/24 [00:41<02:09,  7.22s/it]Corrupt JPEG data: premature end of data segment\n",
      "     22/100         0G     0.7414     0.5655     0.9159         35        640:  38%|███▊      | 9/24 [01:01<01:42,  6.85s/it]Corrupt JPEG data: premature end of data segment\n",
      "     22/100         0G     0.7609     0.5658     0.9085         23        640:  92%|█████████▏| 22/24 [02:23<00:12,  6.24s/it]Corrupt JPEG data: 1 extraneous bytes before marker 0xd9\n",
      "     22/100         0G     0.7558     0.5611     0.9078         19        640: 100%|██████████| 24/24 [02:31<00:00,  6.33s/it]\n",
      "                 Class     Images  Instances      Box(P          R      mAP50  mAP50-95):   8%|▊         | 1/12 [00:03<00:36,  3.27s/it]Corrupt JPEG data: 1 extraneous bytes before marker 0xd9\n",
      "                 Class     Images  Instances      Box(P          R      mAP50  mAP50-95):  17%|█▋        | 2/12 [00:06<00:34,  3.48s/it]Corrupt JPEG data: premature end of data segment\n",
      "                 Class     Images  Instances      Box(P          R      mAP50  mAP50-95):  25%|██▌       | 3/12 [00:10<00:32,  3.57s/it]Corrupt JPEG data: premature end of data segment\n",
      "                 Class     Images  Instances      Box(P          R      mAP50  mAP50-95): 100%|██████████| 12/12 [00:50<00:00,  4.24s/it]"
     ]
    },
    {
     "name": "stdout",
     "output_type": "stream",
     "text": [
      "                   all        378        393      0.974      0.959      0.988      0.814\n",
      "\n",
      "      Epoch    GPU_mem   box_loss   cls_loss   dfl_loss  Instances       Size\n"
     ]
    },
    {
     "name": "stderr",
     "output_type": "stream",
     "text": [
      "\n",
      "     23/100         0G     0.7721     0.5669     0.9494         34        640:  38%|███▊      | 9/24 [01:04<01:46,  7.12s/it]Corrupt JPEG data: premature end of data segment\n",
      "Corrupt JPEG data: premature end of data segment\n",
      "     23/100         0G     0.7732     0.5642     0.9381         25        640:  54%|█████▍    | 13/24 [01:30<01:11,  6.53s/it]Corrupt JPEG data: 1 extraneous bytes before marker 0xd9\n",
      "     23/100         0G     0.7637     0.5478     0.9116         18        640: 100%|██████████| 24/24 [02:35<00:00,  6.50s/it]\n",
      "                 Class     Images  Instances      Box(P          R      mAP50  mAP50-95):   8%|▊         | 1/12 [00:03<00:35,  3.27s/it]Corrupt JPEG data: 1 extraneous bytes before marker 0xd9\n",
      "                 Class     Images  Instances      Box(P          R      mAP50  mAP50-95):  17%|█▋        | 2/12 [00:06<00:34,  3.48s/it]Corrupt JPEG data: premature end of data segment\n",
      "                 Class     Images  Instances      Box(P          R      mAP50  mAP50-95):  25%|██▌       | 3/12 [00:10<00:32,  3.58s/it]Corrupt JPEG data: premature end of data segment\n",
      "                 Class     Images  Instances      Box(P          R      mAP50  mAP50-95): 100%|██████████| 12/12 [00:51<00:00,  4.30s/it]"
     ]
    },
    {
     "name": "stdout",
     "output_type": "stream",
     "text": [
      "                   all        378        393      0.986      0.969      0.994      0.832\n"
     ]
    },
    {
     "name": "stderr",
     "output_type": "stream",
     "text": [
      "\n"
     ]
    },
    {
     "name": "stdout",
     "output_type": "stream",
     "text": [
      "\n",
      "      Epoch    GPU_mem   box_loss   cls_loss   dfl_loss  Instances       Size\n"
     ]
    },
    {
     "name": "stderr",
     "output_type": "stream",
     "text": [
      "     24/100         0G     0.7352     0.5263     0.8975         32        640:  54%|█████▍    | 13/24 [01:28<01:10,  6.45s/it]Corrupt JPEG data: 1 extraneous bytes before marker 0xd9\n",
      "     24/100         0G     0.7386     0.5274     0.8979         38        640:  67%|██████▋   | 16/24 [01:47<00:52,  6.59s/it]Corrupt JPEG data: premature end of data segment\n",
      "     24/100         0G     0.7439     0.5266     0.8974         30        640:  79%|███████▉  | 19/24 [02:07<00:32,  6.58s/it]Corrupt JPEG data: premature end of data segment\n",
      "     24/100         0G     0.7401     0.5276      0.899         16        640: 100%|██████████| 24/24 [02:36<00:00,  6.51s/it]\n",
      "                 Class     Images  Instances      Box(P          R      mAP50  mAP50-95):   8%|▊         | 1/12 [00:03<00:37,  3.41s/it]Corrupt JPEG data: 1 extraneous bytes before marker 0xd9\n",
      "                 Class     Images  Instances      Box(P          R      mAP50  mAP50-95):  17%|█▋        | 2/12 [00:07<00:35,  3.58s/it]Corrupt JPEG data: premature end of data segment\n",
      "                 Class     Images  Instances      Box(P          R      mAP50  mAP50-95):  25%|██▌       | 3/12 [00:10<00:33,  3.69s/it]Corrupt JPEG data: premature end of data segment\n",
      "                 Class     Images  Instances      Box(P          R      mAP50  mAP50-95): 100%|██████████| 12/12 [00:51<00:00,  4.31s/it]"
     ]
    },
    {
     "name": "stdout",
     "output_type": "stream",
     "text": [
      "                   all        378        393      0.992      0.985      0.995      0.841\n"
     ]
    },
    {
     "name": "stderr",
     "output_type": "stream",
     "text": [
      "\n"
     ]
    },
    {
     "name": "stdout",
     "output_type": "stream",
     "text": [
      "\n",
      "      Epoch    GPU_mem   box_loss   cls_loss   dfl_loss  Instances       Size\n"
     ]
    },
    {
     "name": "stderr",
     "output_type": "stream",
     "text": [
      "     25/100         0G     0.7865     0.5505     0.9004         32        640:  33%|███▎      | 8/24 [00:55<01:47,  6.70s/it]Corrupt JPEG data: premature end of data segment\n",
      "     25/100         0G     0.7857     0.5473     0.9185         20        640:  67%|██████▋   | 16/24 [01:44<00:49,  6.14s/it]Corrupt JPEG data: premature end of data segment\n",
      "Corrupt JPEG data: 1 extraneous bytes before marker 0xd9\n",
      "     25/100         0G     0.7718      0.543     0.9109         18        640: 100%|██████████| 24/24 [02:30<00:00,  6.28s/it]\n",
      "                 Class     Images  Instances      Box(P          R      mAP50  mAP50-95):   8%|▊         | 1/12 [00:03<00:36,  3.31s/it]Corrupt JPEG data: 1 extraneous bytes before marker 0xd9\n",
      "                 Class     Images  Instances      Box(P          R      mAP50  mAP50-95):  17%|█▋        | 2/12 [00:06<00:34,  3.50s/it]Corrupt JPEG data: premature end of data segment\n",
      "                 Class     Images  Instances      Box(P          R      mAP50  mAP50-95):  25%|██▌       | 3/12 [00:10<00:32,  3.60s/it]Corrupt JPEG data: premature end of data segment\n",
      "                 Class     Images  Instances      Box(P          R      mAP50  mAP50-95): 100%|██████████| 12/12 [00:51<00:00,  4.27s/it]"
     ]
    },
    {
     "name": "stdout",
     "output_type": "stream",
     "text": [
      "                   all        378        393      0.988       0.98      0.994      0.821\n",
      "\n",
      "      Epoch    GPU_mem   box_loss   cls_loss   dfl_loss  Instances       Size\n"
     ]
    },
    {
     "name": "stderr",
     "output_type": "stream",
     "text": [
      "\n",
      "     26/100         0G     0.7469     0.5414     0.9185         26        640:  46%|████▌     | 11/24 [01:17<01:30,  6.92s/it]Corrupt JPEG data: premature end of data segment\n",
      "     26/100         0G     0.7406     0.5528      0.912         24        640:  75%|███████▌  | 18/24 [02:05<00:40,  6.73s/it]Corrupt JPEG data: premature end of data segment\n",
      "     26/100         0G     0.7423     0.5442     0.9061         33        640:  92%|█████████▏| 22/24 [02:32<00:13,  6.80s/it]Corrupt JPEG data: 1 extraneous bytes before marker 0xd9\n",
      "     26/100         0G     0.7466     0.5431     0.9039         18        640: 100%|██████████| 24/24 [02:41<00:00,  6.72s/it]\n",
      "                 Class     Images  Instances      Box(P          R      mAP50  mAP50-95):   8%|▊         | 1/12 [00:03<00:39,  3.59s/it]Corrupt JPEG data: 1 extraneous bytes before marker 0xd9\n",
      "                 Class     Images  Instances      Box(P          R      mAP50  mAP50-95):  17%|█▋        | 2/12 [00:07<00:38,  3.81s/it]Corrupt JPEG data: premature end of data segment\n",
      "                 Class     Images  Instances      Box(P          R      mAP50  mAP50-95):  25%|██▌       | 3/12 [00:11<00:35,  3.92s/it]Corrupt JPEG data: premature end of data segment\n",
      "                 Class     Images  Instances      Box(P          R      mAP50  mAP50-95): 100%|██████████| 12/12 [00:55<00:00,  4.62s/it]"
     ]
    },
    {
     "name": "stdout",
     "output_type": "stream",
     "text": [
      "                   all        378        393      0.971      0.957       0.99      0.802\n",
      "\n",
      "      Epoch    GPU_mem   box_loss   cls_loss   dfl_loss  Instances       Size\n"
     ]
    },
    {
     "name": "stderr",
     "output_type": "stream",
     "text": [
      "\n",
      "     27/100         0G     0.7184     0.5055     0.8832         30        640:  25%|██▌       | 6/24 [00:47<02:22,  7.91s/it]Corrupt JPEG data: premature end of data segment\n",
      "     27/100         0G     0.7365     0.5459     0.8972         23        640:  50%|█████     | 12/24 [01:28<01:21,  6.81s/it]Corrupt JPEG data: 1 extraneous bytes before marker 0xd9\n",
      "     27/100         0G     0.7369     0.5324     0.8933         35        640:  88%|████████▊ | 21/24 [02:28<00:20,  6.70s/it]Corrupt JPEG data: premature end of data segment\n",
      "     27/100         0G     0.7447     0.5495        0.9         15        640: 100%|██████████| 24/24 [02:45<00:00,  6.88s/it]\n",
      "                 Class     Images  Instances      Box(P          R      mAP50  mAP50-95):   8%|▊         | 1/12 [00:03<00:37,  3.41s/it]Corrupt JPEG data: 1 extraneous bytes before marker 0xd9\n",
      "                 Class     Images  Instances      Box(P          R      mAP50  mAP50-95):  17%|█▋        | 2/12 [00:07<00:36,  3.61s/it]Corrupt JPEG data: premature end of data segment\n",
      "                 Class     Images  Instances      Box(P          R      mAP50  mAP50-95):  25%|██▌       | 3/12 [00:10<00:33,  3.70s/it]Corrupt JPEG data: premature end of data segment\n",
      "                 Class     Images  Instances      Box(P          R      mAP50  mAP50-95): 100%|██████████| 12/12 [00:52<00:00,  4.34s/it]"
     ]
    },
    {
     "name": "stdout",
     "output_type": "stream",
     "text": [
      "                   all        378        393      0.992      0.985      0.995      0.818\n",
      "\n",
      "      Epoch    GPU_mem   box_loss   cls_loss   dfl_loss  Instances       Size\n"
     ]
    },
    {
     "name": "stderr",
     "output_type": "stream",
     "text": [
      "\n",
      "     28/100         0G      0.746     0.5285     0.9011         32        640:  17%|█▋        | 4/24 [00:28<02:25,  7.28s/it]Corrupt JPEG data: premature end of data segment\n",
      "     28/100         0G     0.7573     0.5431     0.9056         26        640:  96%|█████████▌| 23/24 [02:33<00:06,  6.41s/it]Corrupt JPEG data: 1 extraneous bytes before marker 0xd9\n",
      "     28/100         0G     0.7571     0.5412     0.9058         19        640: 100%|██████████| 24/24 [02:36<00:00,  6.50s/it]\n",
      "                 Class     Images  Instances      Box(P          R      mAP50  mAP50-95):   8%|▊         | 1/12 [00:03<00:37,  3.41s/it]Corrupt JPEG data: 1 extraneous bytes before marker 0xd9\n",
      "                 Class     Images  Instances      Box(P          R      mAP50  mAP50-95):  17%|█▋        | 2/12 [00:07<00:35,  3.58s/it]Corrupt JPEG data: premature end of data segment\n",
      "                 Class     Images  Instances      Box(P          R      mAP50  mAP50-95):  25%|██▌       | 3/12 [00:10<00:33,  3.67s/it]Corrupt JPEG data: premature end of data segment\n",
      "                 Class     Images  Instances      Box(P          R      mAP50  mAP50-95): 100%|██████████| 12/12 [00:51<00:00,  4.32s/it]"
     ]
    },
    {
     "name": "stdout",
     "output_type": "stream",
     "text": [
      "                   all        378        393      0.976      0.992      0.993      0.842\n"
     ]
    },
    {
     "name": "stderr",
     "output_type": "stream",
     "text": [
      "\n"
     ]
    },
    {
     "name": "stdout",
     "output_type": "stream",
     "text": [
      "\n",
      "      Epoch    GPU_mem   box_loss   cls_loss   dfl_loss  Instances       Size\n"
     ]
    },
    {
     "name": "stderr",
     "output_type": "stream",
     "text": [
      "     29/100         0G     0.7261     0.5131     0.9072         34        640:  38%|███▊      | 9/24 [01:03<01:42,  6.80s/it]Corrupt JPEG data: premature end of data segment\n",
      "     29/100         0G      0.736     0.5263     0.9165         36        640:  67%|██████▋   | 16/24 [01:47<00:50,  6.28s/it]Corrupt JPEG data: premature end of data segment\n",
      "Corrupt JPEG data: 1 extraneous bytes before marker 0xd9\n",
      "     29/100         0G     0.7122     0.5208     0.9009         26        640: 100%|██████████| 24/24 [02:37<00:00,  6.55s/it]\n",
      "                 Class     Images  Instances      Box(P          R      mAP50  mAP50-95):   8%|▊         | 1/12 [00:03<00:37,  3.44s/it]Corrupt JPEG data: 1 extraneous bytes before marker 0xd9\n",
      "                 Class     Images  Instances      Box(P          R      mAP50  mAP50-95):  17%|█▋        | 2/12 [00:07<00:36,  3.64s/it]Corrupt JPEG data: premature end of data segment\n",
      "                 Class     Images  Instances      Box(P          R      mAP50  mAP50-95):  25%|██▌       | 3/12 [00:11<00:33,  3.74s/it]Corrupt JPEG data: premature end of data segment\n",
      "                 Class     Images  Instances      Box(P          R      mAP50  mAP50-95): 100%|██████████| 12/12 [00:52<00:00,  4.39s/it]"
     ]
    },
    {
     "name": "stdout",
     "output_type": "stream",
     "text": [
      "                   all        378        393      0.986      0.982      0.994      0.834\n"
     ]
    },
    {
     "name": "stderr",
     "output_type": "stream",
     "text": [
      "\n"
     ]
    },
    {
     "name": "stdout",
     "output_type": "stream",
     "text": [
      "\n",
      "      Epoch    GPU_mem   box_loss   cls_loss   dfl_loss  Instances       Size\n"
     ]
    },
    {
     "name": "stderr",
     "output_type": "stream",
     "text": [
      "     30/100         0G     0.6717       0.52      0.895         26        640:  12%|█▎        | 3/24 [00:21<02:38,  7.54s/it]Corrupt JPEG data: 1 extraneous bytes before marker 0xd9\n",
      "     30/100         0G     0.6948     0.5083     0.9041         29        640:  46%|████▌     | 11/24 [01:18<01:27,  6.76s/it]Corrupt JPEG data: premature end of data segment\n",
      "     30/100         0G     0.6909     0.5139     0.8995         26        640:  79%|███████▉  | 19/24 [02:10<00:32,  6.56s/it]Corrupt JPEG data: premature end of data segment\n",
      "     30/100         0G     0.6969     0.5136     0.8996         19        640: 100%|██████████| 24/24 [02:38<00:00,  6.59s/it]\n",
      "                 Class     Images  Instances      Box(P          R      mAP50  mAP50-95):   8%|▊         | 1/12 [00:03<00:37,  3.40s/it]Corrupt JPEG data: 1 extraneous bytes before marker 0xd9\n",
      "                 Class     Images  Instances      Box(P          R      mAP50  mAP50-95):  17%|█▋        | 2/12 [00:07<00:36,  3.61s/it]Corrupt JPEG data: premature end of data segment\n",
      "                 Class     Images  Instances      Box(P          R      mAP50  mAP50-95):  25%|██▌       | 3/12 [00:10<00:33,  3.71s/it]Corrupt JPEG data: premature end of data segment\n",
      "                 Class     Images  Instances      Box(P          R      mAP50  mAP50-95): 100%|██████████| 12/12 [00:53<00:00,  4.45s/it]"
     ]
    },
    {
     "name": "stdout",
     "output_type": "stream",
     "text": [
      "                   all        378        393      0.982      0.974      0.993      0.853\n"
     ]
    },
    {
     "name": "stderr",
     "output_type": "stream",
     "text": [
      "\n"
     ]
    },
    {
     "name": "stdout",
     "output_type": "stream",
     "text": [
      "\n",
      "      Epoch    GPU_mem   box_loss   cls_loss   dfl_loss  Instances       Size\n"
     ]
    },
    {
     "name": "stderr",
     "output_type": "stream",
     "text": [
      "     31/100         0G     0.7345     0.5077     0.8966         28        640:  62%|██████▎   | 15/24 [01:43<00:59,  6.64s/it]Corrupt JPEG data: premature end of data segment\n",
      "     31/100         0G     0.7322     0.5078     0.9016         38        640:  75%|███████▌  | 18/24 [02:03<00:39,  6.60s/it]Corrupt JPEG data: 1 extraneous bytes before marker 0xd9\n",
      "     31/100         0G     0.7291     0.5097     0.9008         13        640: 100%|██████████| 24/24 [02:38<00:00,  6.62s/it]\n",
      "                 Class     Images  Instances      Box(P          R      mAP50  mAP50-95):   8%|▊         | 1/12 [00:03<00:37,  3.39s/it]Corrupt JPEG data: 1 extraneous bytes before marker 0xd9\n",
      "                 Class     Images  Instances      Box(P          R      mAP50  mAP50-95):  17%|█▋        | 2/12 [00:07<00:36,  3.61s/it]Corrupt JPEG data: premature end of data segment\n",
      "                 Class     Images  Instances      Box(P          R      mAP50  mAP50-95):  25%|██▌       | 3/12 [00:10<00:33,  3.70s/it]Corrupt JPEG data: premature end of data segment\n",
      "                 Class     Images  Instances      Box(P          R      mAP50  mAP50-95): 100%|██████████| 12/12 [00:52<00:00,  4.37s/it]"
     ]
    },
    {
     "name": "stdout",
     "output_type": "stream",
     "text": [
      "                   all        378        393      0.975      0.985      0.994      0.826\n",
      "\n",
      "      Epoch    GPU_mem   box_loss   cls_loss   dfl_loss  Instances       Size\n"
     ]
    },
    {
     "name": "stderr",
     "output_type": "stream",
     "text": [
      "\n",
      "     32/100         0G     0.6988     0.4979     0.8968         25        640:  25%|██▌       | 6/24 [00:42<02:06,  7.04s/it]Corrupt JPEG data: premature end of data segment\n",
      "     32/100         0G     0.7044     0.5073     0.9021         29        640:  62%|██████▎   | 15/24 [01:44<01:01,  6.81s/it]Corrupt JPEG data: 1 extraneous bytes before marker 0xd9\n",
      "     32/100         0G     0.7095     0.5045     0.8979         34        640:  79%|███████▉  | 19/24 [02:11<00:34,  6.82s/it]Corrupt JPEG data: premature end of data segment\n",
      "     32/100         0G     0.7068     0.5038     0.8929         16        640: 100%|██████████| 24/24 [02:41<00:00,  6.71s/it]\n",
      "                 Class     Images  Instances      Box(P          R      mAP50  mAP50-95):   8%|▊         | 1/12 [00:03<00:38,  3.49s/it]Corrupt JPEG data: 1 extraneous bytes before marker 0xd9\n",
      "                 Class     Images  Instances      Box(P          R      mAP50  mAP50-95):  17%|█▋        | 2/12 [00:07<00:36,  3.70s/it]Corrupt JPEG data: premature end of data segment\n",
      "                 Class     Images  Instances      Box(P          R      mAP50  mAP50-95):  25%|██▌       | 3/12 [00:11<00:34,  3.84s/it]Corrupt JPEG data: premature end of data segment\n",
      "                 Class     Images  Instances      Box(P          R      mAP50  mAP50-95): 100%|██████████| 12/12 [00:54<00:00,  4.51s/it]"
     ]
    },
    {
     "name": "stdout",
     "output_type": "stream",
     "text": [
      "                   all        378        393      0.982      0.994      0.995      0.853\n",
      "\n",
      "      Epoch    GPU_mem   box_loss   cls_loss   dfl_loss  Instances       Size\n"
     ]
    },
    {
     "name": "stderr",
     "output_type": "stream",
     "text": [
      "\n",
      "     33/100         0G     0.7062      0.499     0.8909         26        640:  71%|███████   | 17/24 [01:56<00:45,  6.53s/it]Corrupt JPEG data: premature end of data segment\n",
      "     33/100         0G     0.7062     0.5011     0.8894         22        640:  75%|███████▌  | 18/24 [02:03<00:39,  6.55s/it]Corrupt JPEG data: premature end of data segment\n",
      "     33/100         0G     0.7146     0.4932     0.8949         27        640:  96%|█████████▌| 23/24 [02:36<00:06,  6.67s/it]Corrupt JPEG data: 1 extraneous bytes before marker 0xd9\n",
      "     33/100         0G     0.7094     0.4932     0.8953         13        640: 100%|██████████| 24/24 [02:38<00:00,  6.62s/it]\n",
      "                 Class     Images  Instances      Box(P          R      mAP50  mAP50-95):   8%|▊         | 1/12 [00:03<00:37,  3.40s/it]Corrupt JPEG data: 1 extraneous bytes before marker 0xd9\n",
      "                 Class     Images  Instances      Box(P          R      mAP50  mAP50-95):  17%|█▋        | 2/12 [00:07<00:36,  3.60s/it]Corrupt JPEG data: premature end of data segment\n",
      "                 Class     Images  Instances      Box(P          R      mAP50  mAP50-95):  25%|██▌       | 3/12 [00:10<00:33,  3.69s/it]Corrupt JPEG data: premature end of data segment\n",
      "                 Class     Images  Instances      Box(P          R      mAP50  mAP50-95): 100%|██████████| 12/12 [00:52<00:00,  4.35s/it]"
     ]
    },
    {
     "name": "stdout",
     "output_type": "stream",
     "text": [
      "                   all        378        393      0.982       0.99      0.994      0.835\n",
      "\n",
      "      Epoch    GPU_mem   box_loss   cls_loss   dfl_loss  Instances       Size\n"
     ]
    },
    {
     "name": "stderr",
     "output_type": "stream",
     "text": [
      "\n",
      "     34/100         0G     0.6994     0.4734      0.895         16        640:  17%|█▋        | 4/24 [00:31<02:41,  8.06s/it]Corrupt JPEG data: premature end of data segment\n",
      "     34/100         0G      0.675     0.4841     0.8817         31        640:  92%|█████████▏| 22/24 [02:29<00:12,  6.11s/it]Corrupt JPEG data: premature end of data segment\n",
      "     34/100         0G     0.6903     0.4905     0.8844         26        640: 100%|██████████| 24/24 [02:37<00:00,  6.56s/it]\n",
      "                 Class     Images  Instances      Box(P          R      mAP50  mAP50-95):   8%|▊         | 1/12 [00:03<00:37,  3.40s/it]Corrupt JPEG data: 1 extraneous bytes before marker 0xd9\n",
      "                 Class     Images  Instances      Box(P          R      mAP50  mAP50-95):  17%|█▋        | 2/12 [00:07<00:36,  3.62s/it]Corrupt JPEG data: premature end of data segment\n",
      "                 Class     Images  Instances      Box(P          R      mAP50  mAP50-95):  25%|██▌       | 3/12 [00:10<00:33,  3.70s/it]Corrupt JPEG data: premature end of data segment\n",
      "                 Class     Images  Instances      Box(P          R      mAP50  mAP50-95): 100%|██████████| 12/12 [00:53<00:00,  4.48s/it]"
     ]
    },
    {
     "name": "stdout",
     "output_type": "stream",
     "text": [
      "                   all        378        393      0.995      0.982      0.995      0.843\n",
      "\n",
      "      Epoch    GPU_mem   box_loss   cls_loss   dfl_loss  Instances       Size\n"
     ]
    },
    {
     "name": "stderr",
     "output_type": "stream",
     "text": [
      "\n",
      "     35/100         0G     0.6753     0.4792     0.8829         32        640:  38%|███▊      | 9/24 [01:09<01:43,  6.88s/it]Corrupt JPEG data: premature end of data segment\n",
      "     35/100         0G     0.6742     0.4739     0.8771         26        640:  50%|█████     | 12/24 [01:27<01:15,  6.32s/it]Corrupt JPEG data: 1 extraneous bytes before marker 0xd9\n",
      "     35/100         0G       0.69     0.4731     0.8857         24        640:  75%|███████▌  | 18/24 [02:04<00:36,  6.07s/it]Corrupt JPEG data: premature end of data segment\n",
      "     35/100         0G     0.6877     0.4696      0.883         21        640: 100%|██████████| 24/24 [02:37<00:00,  6.54s/it]\n",
      "                 Class     Images  Instances      Box(P          R      mAP50  mAP50-95):   8%|▊         | 1/12 [00:03<00:37,  3.38s/it]Corrupt JPEG data: 1 extraneous bytes before marker 0xd9\n",
      "                 Class     Images  Instances      Box(P          R      mAP50  mAP50-95):  17%|█▋        | 2/12 [00:07<00:35,  3.56s/it]Corrupt JPEG data: premature end of data segment\n",
      "                 Class     Images  Instances      Box(P          R      mAP50  mAP50-95):  25%|██▌       | 3/12 [00:10<00:32,  3.66s/it]Corrupt JPEG data: premature end of data segment\n",
      "                 Class     Images  Instances      Box(P          R      mAP50  mAP50-95): 100%|██████████| 12/12 [00:51<00:00,  4.31s/it]"
     ]
    },
    {
     "name": "stdout",
     "output_type": "stream",
     "text": [
      "                   all        378        393      0.987      0.982      0.994      0.835\n",
      "\n",
      "      Epoch    GPU_mem   box_loss   cls_loss   dfl_loss  Instances       Size\n"
     ]
    },
    {
     "name": "stderr",
     "output_type": "stream",
     "text": [
      "\n",
      "     36/100         0G      0.644     0.4545     0.8843         27        640:  71%|███████   | 17/24 [01:52<00:44,  6.29s/it]Corrupt JPEG data: premature end of data segment\n",
      "     36/100         0G     0.6644     0.4582     0.8853         31        640:  88%|████████▊ | 21/24 [02:17<00:18,  6.27s/it]Corrupt JPEG data: 1 extraneous bytes before marker 0xd9\n",
      "     36/100         0G     0.6703     0.4621     0.8823         15        640: 100%|██████████| 24/24 [02:33<00:00,  6.38s/it]\n",
      "                 Class     Images  Instances      Box(P          R      mAP50  mAP50-95):   8%|▊         | 1/12 [00:03<00:36,  3.36s/it]Corrupt JPEG data: 1 extraneous bytes before marker 0xd9\n",
      "                 Class     Images  Instances      Box(P          R      mAP50  mAP50-95):  17%|█▋        | 2/12 [00:07<00:35,  3.56s/it]Corrupt JPEG data: premature end of data segment\n",
      "                 Class     Images  Instances      Box(P          R      mAP50  mAP50-95):  25%|██▌       | 3/12 [00:10<00:32,  3.67s/it]Corrupt JPEG data: premature end of data segment\n",
      "                 Class     Images  Instances      Box(P          R      mAP50  mAP50-95): 100%|██████████| 12/12 [00:51<00:00,  4.31s/it]"
     ]
    },
    {
     "name": "stdout",
     "output_type": "stream",
     "text": [
      "                   all        378        393      0.985      0.992      0.995       0.86\n"
     ]
    },
    {
     "name": "stderr",
     "output_type": "stream",
     "text": [
      "\n"
     ]
    },
    {
     "name": "stdout",
     "output_type": "stream",
     "text": [
      "\n",
      "      Epoch    GPU_mem   box_loss   cls_loss   dfl_loss  Instances       Size\n"
     ]
    },
    {
     "name": "stderr",
     "output_type": "stream",
     "text": [
      "     37/100         0G     0.6583      0.468     0.8644         31        640:  17%|█▋        | 4/24 [00:32<02:52,  8.65s/it]Corrupt JPEG data: premature end of data segment\n",
      "     37/100         0G     0.6559     0.4551     0.8661         33        640:  29%|██▉       | 7/24 [00:58<02:21,  8.35s/it]Corrupt JPEG data: premature end of data segment\n",
      "     37/100         0G     0.6492      0.452       0.87         27        640:  92%|█████████▏| 22/24 [02:37<00:13,  6.54s/it]Corrupt JPEG data: 1 extraneous bytes before marker 0xd9\n",
      "     37/100         0G     0.6577     0.4568     0.8738         17        640: 100%|██████████| 24/24 [02:45<00:00,  6.92s/it]\n",
      "                 Class     Images  Instances      Box(P          R      mAP50  mAP50-95):   8%|▊         | 1/12 [00:03<00:37,  3.38s/it]Corrupt JPEG data: 1 extraneous bytes before marker 0xd9\n",
      "                 Class     Images  Instances      Box(P          R      mAP50  mAP50-95):  17%|█▋        | 2/12 [00:07<00:35,  3.59s/it]Corrupt JPEG data: premature end of data segment\n",
      "                 Class     Images  Instances      Box(P          R      mAP50  mAP50-95):  25%|██▌       | 3/12 [00:11<00:34,  3.80s/it]Corrupt JPEG data: premature end of data segment\n",
      "                 Class     Images  Instances      Box(P          R      mAP50  mAP50-95): 100%|██████████| 12/12 [00:52<00:00,  4.41s/it]"
     ]
    },
    {
     "name": "stdout",
     "output_type": "stream",
     "text": [
      "                   all        378        393      0.989       0.98      0.994       0.86\n",
      "\n",
      "      Epoch    GPU_mem   box_loss   cls_loss   dfl_loss  Instances       Size\n"
     ]
    },
    {
     "name": "stderr",
     "output_type": "stream",
     "text": [
      "\n",
      "     38/100         0G     0.6954     0.4773      0.879         24        640:  71%|███████   | 17/24 [01:57<00:45,  6.54s/it]Corrupt JPEG data: premature end of data segment\n",
      "     38/100         0G     0.7011     0.4834     0.8822         21        640:  75%|███████▌  | 18/24 [02:03<00:39,  6.50s/it]Corrupt JPEG data: 1 extraneous bytes before marker 0xd9\n",
      "     38/100         0G      0.701     0.4837     0.8807         34        640:  79%|███████▉  | 19/24 [02:10<00:32,  6.54s/it]Corrupt JPEG data: premature end of data segment\n",
      "     38/100         0G      0.688     0.4783     0.8774         17        640: 100%|██████████| 24/24 [02:38<00:00,  6.62s/it]\n",
      "                 Class     Images  Instances      Box(P          R      mAP50  mAP50-95):   8%|▊         | 1/12 [00:03<00:37,  3.38s/it]Corrupt JPEG data: 1 extraneous bytes before marker 0xd9\n",
      "                 Class     Images  Instances      Box(P          R      mAP50  mAP50-95):  17%|█▋        | 2/12 [00:07<00:35,  3.58s/it]Corrupt JPEG data: premature end of data segment\n",
      "                 Class     Images  Instances      Box(P          R      mAP50  mAP50-95):  25%|██▌       | 3/12 [00:10<00:33,  3.68s/it]Corrupt JPEG data: premature end of data segment\n",
      "                 Class     Images  Instances      Box(P          R      mAP50  mAP50-95): 100%|██████████| 12/12 [00:52<00:00,  4.36s/it]"
     ]
    },
    {
     "name": "stdout",
     "output_type": "stream",
     "text": [
      "                   all        378        393      0.992      0.981      0.994      0.856\n",
      "\n",
      "      Epoch    GPU_mem   box_loss   cls_loss   dfl_loss  Instances       Size\n"
     ]
    },
    {
     "name": "stderr",
     "output_type": "stream",
     "text": [
      "\n",
      "     39/100         0G     0.6609     0.4627     0.8701         37        640:  96%|█████████▌| 23/24 [02:35<00:06,  6.49s/it]Corrupt JPEG data: 1 extraneous bytes before marker 0xd9\n",
      "     39/100         0G     0.6609     0.4639     0.8682         18        640: 100%|██████████| 24/24 [02:38<00:00,  6.59s/it]\n",
      "                 Class     Images  Instances      Box(P          R      mAP50  mAP50-95):   8%|▊         | 1/12 [00:03<00:37,  3.39s/it]Corrupt JPEG data: 1 extraneous bytes before marker 0xd9\n",
      "                 Class     Images  Instances      Box(P          R      mAP50  mAP50-95):  17%|█▋        | 2/12 [00:07<00:36,  3.64s/it]Corrupt JPEG data: premature end of data segment\n",
      "                 Class     Images  Instances      Box(P          R      mAP50  mAP50-95):  25%|██▌       | 3/12 [00:11<00:33,  3.76s/it]Corrupt JPEG data: premature end of data segment\n",
      "                 Class     Images  Instances      Box(P          R      mAP50  mAP50-95): 100%|██████████| 12/12 [00:52<00:00,  4.40s/it]"
     ]
    },
    {
     "name": "stdout",
     "output_type": "stream",
     "text": [
      "                   all        378        393      0.996      0.992      0.995      0.865\n"
     ]
    },
    {
     "name": "stderr",
     "output_type": "stream",
     "text": [
      "\n"
     ]
    },
    {
     "name": "stdout",
     "output_type": "stream",
     "text": [
      "\n",
      "      Epoch    GPU_mem   box_loss   cls_loss   dfl_loss  Instances       Size\n"
     ]
    },
    {
     "name": "stderr",
     "output_type": "stream",
     "text": [
      "     40/100         0G     0.6764     0.4514     0.8635         31        640:  29%|██▉       | 7/24 [00:47<01:57,  6.92s/it]Corrupt JPEG data: premature end of data segment\n",
      "     40/100         0G     0.6742     0.4519     0.8746         23        640:  58%|█████▊    | 14/24 [01:37<01:10,  7.06s/it]Corrupt JPEG data: 1 extraneous bytes before marker 0xd9\n",
      "     40/100         0G     0.6775     0.4554     0.8806         24        640:  62%|██████▎   | 15/24 [01:44<01:03,  7.03s/it]Corrupt JPEG data: premature end of data segment\n",
      "     40/100         0G     0.6578     0.4485     0.8776         19        640: 100%|██████████| 24/24 [02:42<00:00,  6.79s/it]\n",
      "                 Class     Images  Instances      Box(P          R      mAP50  mAP50-95):   8%|▊         | 1/12 [00:03<00:39,  3.55s/it]Corrupt JPEG data: 1 extraneous bytes before marker 0xd9\n",
      "                 Class     Images  Instances      Box(P          R      mAP50  mAP50-95):  17%|█▋        | 2/12 [00:07<00:37,  3.74s/it]Corrupt JPEG data: premature end of data segment\n",
      "                 Class     Images  Instances      Box(P          R      mAP50  mAP50-95):  25%|██▌       | 3/12 [00:11<00:34,  3.85s/it]Corrupt JPEG data: premature end of data segment\n",
      "                 Class     Images  Instances      Box(P          R      mAP50  mAP50-95): 100%|██████████| 12/12 [00:55<00:00,  4.61s/it]"
     ]
    },
    {
     "name": "stdout",
     "output_type": "stream",
     "text": [
      "                   all        378        393      0.992      0.992      0.995      0.874\n"
     ]
    },
    {
     "name": "stderr",
     "output_type": "stream",
     "text": [
      "\n"
     ]
    },
    {
     "name": "stdout",
     "output_type": "stream",
     "text": [
      "\n",
      "      Epoch    GPU_mem   box_loss   cls_loss   dfl_loss  Instances       Size\n"
     ]
    },
    {
     "name": "stderr",
     "output_type": "stream",
     "text": [
      "     41/100         0G     0.6529     0.4451     0.8625         26        640:  17%|█▋        | 4/24 [00:28<02:20,  7.02s/it]Corrupt JPEG data: premature end of data segment\n",
      "     41/100         0G     0.6072     0.4336     0.8607         26        640:  58%|█████▊    | 14/24 [01:37<01:09,  6.95s/it]Corrupt JPEG data: 1 extraneous bytes before marker 0xd9\n",
      "     41/100         0G     0.6245     0.4377     0.8668         28        640:  92%|█████████▏| 22/24 [02:34<00:14,  7.04s/it]Corrupt JPEG data: premature end of data segment\n",
      "     41/100         0G     0.6237     0.4371     0.8682         15        640: 100%|██████████| 24/24 [02:43<00:00,  6.81s/it]\n",
      "                 Class     Images  Instances      Box(P          R      mAP50  mAP50-95):   8%|▊         | 1/12 [00:03<00:39,  3.55s/it]Corrupt JPEG data: 1 extraneous bytes before marker 0xd9\n",
      "                 Class     Images  Instances      Box(P          R      mAP50  mAP50-95):  17%|█▋        | 2/12 [00:07<00:37,  3.78s/it]Corrupt JPEG data: premature end of data segment\n",
      "                 Class     Images  Instances      Box(P          R      mAP50  mAP50-95):  25%|██▌       | 3/12 [00:11<00:34,  3.89s/it]Corrupt JPEG data: premature end of data segment\n",
      "                 Class     Images  Instances      Box(P          R      mAP50  mAP50-95): 100%|██████████| 12/12 [00:54<00:00,  4.51s/it]"
     ]
    },
    {
     "name": "stdout",
     "output_type": "stream",
     "text": [
      "                   all        378        393      0.986      0.992      0.994      0.867\n",
      "\n",
      "      Epoch    GPU_mem   box_loss   cls_loss   dfl_loss  Instances       Size\n"
     ]
    },
    {
     "name": "stderr",
     "output_type": "stream",
     "text": [
      "\n",
      "     42/100         0G     0.6669     0.4619       0.88         28        640:  54%|█████▍    | 13/24 [01:29<01:15,  6.86s/it]Corrupt JPEG data: 1 extraneous bytes before marker 0xd9\n",
      "     42/100         0G     0.6594     0.4644     0.8816         20        640:  83%|████████▎ | 20/24 [02:17<00:27,  6.82s/it]Corrupt JPEG data: premature end of data segment\n",
      "     42/100         0G     0.6632     0.4625     0.8754         21        640: 100%|██████████| 24/24 [02:40<00:00,  6.70s/it]\n",
      "                 Class     Images  Instances      Box(P          R      mAP50  mAP50-95):   8%|▊         | 1/12 [00:03<00:39,  3.60s/it]Corrupt JPEG data: 1 extraneous bytes before marker 0xd9\n",
      "                 Class     Images  Instances      Box(P          R      mAP50  mAP50-95):  17%|█▋        | 2/12 [00:07<00:37,  3.75s/it]Corrupt JPEG data: premature end of data segment\n",
      "                 Class     Images  Instances      Box(P          R      mAP50  mAP50-95):  25%|██▌       | 3/12 [00:11<00:34,  3.83s/it]Corrupt JPEG data: premature end of data segment\n",
      "                 Class     Images  Instances      Box(P          R      mAP50  mAP50-95): 100%|██████████| 12/12 [00:53<00:00,  4.50s/it]"
     ]
    },
    {
     "name": "stdout",
     "output_type": "stream",
     "text": [
      "                   all        378        393      0.995      0.982      0.995      0.873\n",
      "\n",
      "      Epoch    GPU_mem   box_loss   cls_loss   dfl_loss  Instances       Size\n"
     ]
    },
    {
     "name": "stderr",
     "output_type": "stream",
     "text": [
      "\n",
      "     43/100         0G     0.7124     0.4799     0.8659         23        640:   4%|▍         | 1/24 [00:06<02:38,  6.90s/it]Corrupt JPEG data: premature end of data segment\n",
      "     43/100         0G     0.6912     0.4814     0.8926         34        640:  25%|██▌       | 6/24 [00:41<02:06,  7.03s/it]Corrupt JPEG data: premature end of data segment\n",
      "     43/100         0G     0.6889     0.4882     0.8937         28        640:  33%|███▎      | 8/24 [00:57<02:01,  7.58s/it]Corrupt JPEG data: 1 extraneous bytes before marker 0xd9\n",
      "     43/100         0G     0.6701     0.4525      0.873         18        640: 100%|██████████| 24/24 [02:39<00:00,  6.66s/it]\n",
      "                 Class     Images  Instances      Box(P          R      mAP50  mAP50-95):   8%|▊         | 1/12 [00:03<00:38,  3.46s/it]Corrupt JPEG data: 1 extraneous bytes before marker 0xd9\n",
      "                 Class     Images  Instances      Box(P          R      mAP50  mAP50-95):  17%|█▋        | 2/12 [00:07<00:36,  3.69s/it]Corrupt JPEG data: premature end of data segment\n",
      "                 Class     Images  Instances      Box(P          R      mAP50  mAP50-95):  25%|██▌       | 3/12 [00:11<00:34,  3.78s/it]Corrupt JPEG data: premature end of data segment\n",
      "                 Class     Images  Instances      Box(P          R      mAP50  mAP50-95): 100%|██████████| 12/12 [00:53<00:00,  4.45s/it]"
     ]
    },
    {
     "name": "stdout",
     "output_type": "stream",
     "text": [
      "                   all        378        393       0.99       0.99      0.995      0.858\n"
     ]
    },
    {
     "name": "stderr",
     "output_type": "stream",
     "text": [
      "\n"
     ]
    },
    {
     "name": "stdout",
     "output_type": "stream",
     "text": [
      "\n",
      "      Epoch    GPU_mem   box_loss   cls_loss   dfl_loss  Instances       Size\n"
     ]
    },
    {
     "name": "stderr",
     "output_type": "stream",
     "text": [
      "     44/100         0G     0.7003     0.4618     0.8608         31        640:  17%|█▋        | 4/24 [00:28<02:28,  7.41s/it]Corrupt JPEG data: premature end of data segment\n",
      "     44/100         0G     0.6681     0.4674      0.885         26        640:  46%|████▌     | 11/24 [01:18<01:31,  7.07s/it]Corrupt JPEG data: 1 extraneous bytes before marker 0xd9\n",
      "     44/100         0G     0.6754     0.4604     0.8836         30        640:  96%|█████████▌| 23/24 [02:39<00:06,  6.77s/it]Corrupt JPEG data: premature end of data segment\n",
      "     44/100         0G     0.6834     0.4654     0.8865         18        640: 100%|██████████| 24/24 [02:42<00:00,  6.75s/it]\n",
      "                 Class     Images  Instances      Box(P          R      mAP50  mAP50-95):   8%|▊         | 1/12 [00:03<00:38,  3.52s/it]Corrupt JPEG data: 1 extraneous bytes before marker 0xd9\n",
      "                 Class     Images  Instances      Box(P          R      mAP50  mAP50-95):  17%|█▋        | 2/12 [00:07<00:37,  3.73s/it]Corrupt JPEG data: premature end of data segment\n",
      "                 Class     Images  Instances      Box(P          R      mAP50  mAP50-95):  25%|██▌       | 3/12 [00:11<00:34,  3.81s/it]Corrupt JPEG data: premature end of data segment\n",
      "                 Class     Images  Instances      Box(P          R      mAP50  mAP50-95): 100%|██████████| 12/12 [00:53<00:00,  4.48s/it]"
     ]
    },
    {
     "name": "stdout",
     "output_type": "stream",
     "text": [
      "                   all        378        393      0.995      0.992      0.995       0.85\n",
      "\n",
      "      Epoch    GPU_mem   box_loss   cls_loss   dfl_loss  Instances       Size\n"
     ]
    },
    {
     "name": "stderr",
     "output_type": "stream",
     "text": [
      "\n",
      "     45/100         0G     0.6935     0.4554     0.8716         30        640:  21%|██        | 5/24 [00:35<02:16,  7.17s/it]Corrupt JPEG data: 1 extraneous bytes before marker 0xd9\n",
      "     45/100         0G     0.6812     0.4463     0.8745         35        640:  29%|██▉       | 7/24 [00:52<02:15,  7.97s/it]Corrupt JPEG data: premature end of data segment\n",
      "     45/100         0G     0.6653     0.4549     0.8734         21        640:  42%|████▏     | 10/24 [01:13<01:40,  7.17s/it]Corrupt JPEG data: premature end of data segment\n",
      "     45/100         0G     0.6616     0.4487      0.865         20        640: 100%|██████████| 24/24 [02:37<00:00,  6.55s/it]\n",
      "                 Class     Images  Instances      Box(P          R      mAP50  mAP50-95):   8%|▊         | 1/12 [00:03<00:36,  3.30s/it]Corrupt JPEG data: 1 extraneous bytes before marker 0xd9\n",
      "                 Class     Images  Instances      Box(P          R      mAP50  mAP50-95):  17%|█▋        | 2/12 [00:06<00:34,  3.50s/it]Corrupt JPEG data: premature end of data segment\n",
      "                 Class     Images  Instances      Box(P          R      mAP50  mAP50-95):  25%|██▌       | 3/12 [00:10<00:32,  3.60s/it]Corrupt JPEG data: premature end of data segment\n",
      "                 Class     Images  Instances      Box(P          R      mAP50  mAP50-95): 100%|██████████| 12/12 [00:51<00:00,  4.33s/it]"
     ]
    },
    {
     "name": "stdout",
     "output_type": "stream",
     "text": [
      "                   all        378        393      0.998      0.987      0.995      0.876\n"
     ]
    },
    {
     "name": "stderr",
     "output_type": "stream",
     "text": [
      "\n"
     ]
    },
    {
     "name": "stdout",
     "output_type": "stream",
     "text": [
      "\n",
      "      Epoch    GPU_mem   box_loss   cls_loss   dfl_loss  Instances       Size\n"
     ]
    },
    {
     "name": "stderr",
     "output_type": "stream",
     "text": [
      "     46/100         0G     0.5721     0.4255     0.8382         29        640:   8%|▊         | 2/24 [00:13<02:29,  6.79s/it]Corrupt JPEG data: premature end of data segment\n",
      "     46/100         0G     0.6284     0.4336     0.8673         32        640:  58%|█████▊    | 14/24 [01:40<01:03,  6.31s/it]Corrupt JPEG data: 1 extraneous bytes before marker 0xd9\n",
      "     46/100         0G     0.6235     0.4332     0.8714         29        640:  96%|█████████▌| 23/24 [02:38<00:06,  6.57s/it]Corrupt JPEG data: premature end of data segment\n",
      "     46/100         0G     0.6204     0.4313     0.8692         24        640: 100%|██████████| 24/24 [02:40<00:00,  6.70s/it]\n",
      "                 Class     Images  Instances      Box(P          R      mAP50  mAP50-95):   8%|▊         | 1/12 [00:03<00:37,  3.41s/it]Corrupt JPEG data: 1 extraneous bytes before marker 0xd9\n",
      "                 Class     Images  Instances      Box(P          R      mAP50  mAP50-95):  17%|█▋        | 2/12 [00:07<00:36,  3.60s/it]Corrupt JPEG data: premature end of data segment\n",
      "                 Class     Images  Instances      Box(P          R      mAP50  mAP50-95):  25%|██▌       | 3/12 [00:10<00:33,  3.70s/it]Corrupt JPEG data: premature end of data segment\n",
      "                 Class     Images  Instances      Box(P          R      mAP50  mAP50-95): 100%|██████████| 12/12 [00:52<00:00,  4.34s/it]"
     ]
    },
    {
     "name": "stdout",
     "output_type": "stream",
     "text": [
      "                   all        378        393      0.994      0.987      0.995      0.878\n"
     ]
    },
    {
     "name": "stderr",
     "output_type": "stream",
     "text": [
      "\n"
     ]
    },
    {
     "name": "stdout",
     "output_type": "stream",
     "text": [
      "\n",
      "      Epoch    GPU_mem   box_loss   cls_loss   dfl_loss  Instances       Size\n"
     ]
    },
    {
     "name": "stderr",
     "output_type": "stream",
     "text": [
      "     47/100         0G     0.6632     0.4451     0.8587         32        640:  42%|████▏     | 10/24 [01:16<01:36,  6.88s/it]Corrupt JPEG data: 1 extraneous bytes before marker 0xd9\n",
      "     47/100         0G     0.6678     0.4427     0.8607         30        640:  46%|████▌     | 11/24 [01:22<01:26,  6.68s/it]Corrupt JPEG data: premature end of data segment\n",
      "     47/100         0G     0.6595      0.445     0.8646         31        640:  67%|██████▋   | 16/24 [01:53<00:49,  6.23s/it]Corrupt JPEG data: premature end of data segment\n",
      "     47/100         0G     0.6486      0.445      0.865         19        640: 100%|██████████| 24/24 [02:39<00:00,  6.63s/it]\n",
      "                 Class     Images  Instances      Box(P          R      mAP50  mAP50-95):   8%|▊         | 1/12 [00:03<00:37,  3.45s/it]Corrupt JPEG data: 1 extraneous bytes before marker 0xd9\n",
      "                 Class     Images  Instances      Box(P          R      mAP50  mAP50-95):  17%|█▋        | 2/12 [00:07<00:36,  3.63s/it]Corrupt JPEG data: premature end of data segment\n",
      "                 Class     Images  Instances      Box(P          R      mAP50  mAP50-95):  25%|██▌       | 3/12 [00:11<00:33,  3.72s/it]Corrupt JPEG data: premature end of data segment\n",
      "                 Class     Images  Instances      Box(P          R      mAP50  mAP50-95): 100%|██████████| 12/12 [00:51<00:00,  4.29s/it]"
     ]
    },
    {
     "name": "stdout",
     "output_type": "stream",
     "text": [
      "                   all        378        393      0.987       0.99      0.994      0.864\n",
      "\n",
      "      Epoch    GPU_mem   box_loss   cls_loss   dfl_loss  Instances       Size\n"
     ]
    },
    {
     "name": "stderr",
     "output_type": "stream",
     "text": [
      "\n",
      "     48/100         0G     0.6341     0.4162     0.8574         26        640:  12%|█▎        | 3/24 [00:19<02:16,  6.48s/it]Corrupt JPEG data: 1 extraneous bytes before marker 0xd9\n",
      "Corrupt JPEG data: premature end of data segment\n",
      "     48/100         0G     0.6413     0.4248     0.8804         31        640:  92%|█████████▏| 22/24 [02:23<00:13,  6.55s/it]Corrupt JPEG data: premature end of data segment\n",
      "     48/100         0G      0.639     0.4235     0.8806         20        640: 100%|██████████| 24/24 [02:32<00:00,  6.35s/it]\n",
      "                 Class     Images  Instances      Box(P          R      mAP50  mAP50-95):   8%|▊         | 1/12 [00:03<00:36,  3.33s/it]Corrupt JPEG data: 1 extraneous bytes before marker 0xd9\n",
      "                 Class     Images  Instances      Box(P          R      mAP50  mAP50-95):  17%|█▋        | 2/12 [00:06<00:35,  3.53s/it]Corrupt JPEG data: premature end of data segment\n",
      "                 Class     Images  Instances      Box(P          R      mAP50  mAP50-95):  25%|██▌       | 3/12 [00:10<00:32,  3.64s/it]Corrupt JPEG data: premature end of data segment\n",
      "                 Class     Images  Instances      Box(P          R      mAP50  mAP50-95): 100%|██████████| 12/12 [00:51<00:00,  4.26s/it]"
     ]
    },
    {
     "name": "stdout",
     "output_type": "stream",
     "text": [
      "                   all        378        393      0.997      0.991      0.995      0.883\n"
     ]
    },
    {
     "name": "stderr",
     "output_type": "stream",
     "text": [
      "\n"
     ]
    },
    {
     "name": "stdout",
     "output_type": "stream",
     "text": [
      "\n",
      "      Epoch    GPU_mem   box_loss   cls_loss   dfl_loss  Instances       Size\n"
     ]
    },
    {
     "name": "stderr",
     "output_type": "stream",
     "text": [
      "     49/100         0G       0.61     0.4123     0.8965         31        640:   4%|▍         | 1/24 [00:06<02:24,  6.30s/it]Corrupt JPEG data: premature end of data segment\n",
      "     49/100         0G       0.61     0.4143     0.8735         30        640:  50%|█████     | 12/24 [01:16<01:15,  6.30s/it]Corrupt JPEG data: 1 extraneous bytes before marker 0xd9\n",
      "     49/100         0G     0.6089     0.4196     0.8747         30        640:  67%|██████▋   | 16/24 [01:41<00:50,  6.36s/it]Corrupt JPEG data: premature end of data segment\n",
      "     49/100         0G     0.5959     0.4128     0.8675         25        640: 100%|██████████| 24/24 [02:28<00:00,  6.18s/it]\n",
      "                 Class     Images  Instances      Box(P          R      mAP50  mAP50-95):   8%|▊         | 1/12 [00:03<00:37,  3.37s/it]Corrupt JPEG data: 1 extraneous bytes before marker 0xd9\n",
      "                 Class     Images  Instances      Box(P          R      mAP50  mAP50-95):  17%|█▋        | 2/12 [00:06<00:35,  3.52s/it]Corrupt JPEG data: premature end of data segment\n",
      "                 Class     Images  Instances      Box(P          R      mAP50  mAP50-95):  25%|██▌       | 3/12 [00:10<00:32,  3.59s/it]Corrupt JPEG data: premature end of data segment\n",
      "                 Class     Images  Instances      Box(P          R      mAP50  mAP50-95): 100%|██████████| 12/12 [00:50<00:00,  4.20s/it]"
     ]
    },
    {
     "name": "stdout",
     "output_type": "stream",
     "text": [
      "                   all        378        393      0.994      0.997      0.995       0.88\n"
     ]
    },
    {
     "name": "stderr",
     "output_type": "stream",
     "text": [
      "\n"
     ]
    },
    {
     "name": "stdout",
     "output_type": "stream",
     "text": [
      "\n",
      "      Epoch    GPU_mem   box_loss   cls_loss   dfl_loss  Instances       Size\n"
     ]
    },
    {
     "name": "stderr",
     "output_type": "stream",
     "text": [
      "     50/100         0G     0.5639     0.4027      0.867         19        640:  33%|███▎      | 8/24 [00:56<01:53,  7.09s/it]Corrupt JPEG data: premature end of data segment\n",
      "     50/100         0G     0.6177     0.4183     0.8809         32        640:  54%|█████▍    | 13/24 [01:27<01:09,  6.32s/it]Corrupt JPEG data: premature end of data segment\n",
      "     50/100         0G     0.6032     0.4098     0.8753         22        640:  62%|██████▎   | 15/24 [01:39<00:55,  6.16s/it]Corrupt JPEG data: 1 extraneous bytes before marker 0xd9\n",
      "     50/100         0G     0.6094     0.4074     0.8682         12        640: 100%|██████████| 24/24 [02:30<00:00,  6.28s/it]\n",
      "                 Class     Images  Instances      Box(P          R      mAP50  mAP50-95):   8%|▊         | 1/12 [00:03<00:35,  3.19s/it]Corrupt JPEG data: 1 extraneous bytes before marker 0xd9\n",
      "                 Class     Images  Instances      Box(P          R      mAP50  mAP50-95):  17%|█▋        | 2/12 [00:06<00:33,  3.38s/it]Corrupt JPEG data: premature end of data segment\n",
      "                 Class     Images  Instances      Box(P          R      mAP50  mAP50-95):  25%|██▌       | 3/12 [00:10<00:31,  3.50s/it]Corrupt JPEG data: premature end of data segment\n",
      "                 Class     Images  Instances      Box(P          R      mAP50  mAP50-95): 100%|██████████| 12/12 [00:49<00:00,  4.16s/it]"
     ]
    },
    {
     "name": "stdout",
     "output_type": "stream",
     "text": [
      "                   all        378        393      0.995      0.999      0.995      0.887\n"
     ]
    },
    {
     "name": "stderr",
     "output_type": "stream",
     "text": [
      "\n"
     ]
    },
    {
     "name": "stdout",
     "output_type": "stream",
     "text": [
      "\n",
      "      Epoch    GPU_mem   box_loss   cls_loss   dfl_loss  Instances       Size\n"
     ]
    },
    {
     "name": "stderr",
     "output_type": "stream",
     "text": [
      "     51/100         0G     0.5738     0.3976     0.8471         35        640:  29%|██▉       | 7/24 [00:55<02:25,  8.53s/it]Corrupt JPEG data: 1 extraneous bytes before marker 0xd9\n",
      "     51/100         0G     0.5645     0.3934     0.8445         29        640:  42%|████▏     | 10/24 [01:16<01:43,  7.36s/it]Corrupt JPEG data: premature end of data segment\n",
      "Corrupt JPEG data: premature end of data segment\n",
      "     51/100         0G     0.5696      0.394     0.8486         22        640: 100%|██████████| 24/24 [02:38<00:00,  6.60s/it]\n",
      "                 Class     Images  Instances      Box(P          R      mAP50  mAP50-95):   8%|▊         | 1/12 [00:03<00:35,  3.25s/it]Corrupt JPEG data: 1 extraneous bytes before marker 0xd9\n",
      "                 Class     Images  Instances      Box(P          R      mAP50  mAP50-95):  17%|█▋        | 2/12 [00:06<00:34,  3.45s/it]Corrupt JPEG data: premature end of data segment\n",
      "                 Class     Images  Instances      Box(P          R      mAP50  mAP50-95):  25%|██▌       | 3/12 [00:10<00:31,  3.55s/it]Corrupt JPEG data: premature end of data segment\n",
      "                 Class     Images  Instances      Box(P          R      mAP50  mAP50-95): 100%|██████████| 12/12 [00:50<00:00,  4.23s/it]"
     ]
    },
    {
     "name": "stdout",
     "output_type": "stream",
     "text": [
      "                   all        378        393      0.995      0.992      0.995      0.881\n",
      "\n",
      "      Epoch    GPU_mem   box_loss   cls_loss   dfl_loss  Instances       Size\n"
     ]
    },
    {
     "name": "stderr",
     "output_type": "stream",
     "text": [
      "\n",
      "     52/100         0G     0.6191     0.4048     0.8712         24        640:  38%|███▊      | 9/24 [01:02<01:41,  6.74s/it]Corrupt JPEG data: 1 extraneous bytes before marker 0xd9\n",
      "     52/100         0G     0.5957     0.4049     0.8626         35        640:  88%|████████▊ | 21/24 [02:17<00:18,  6.27s/it]Corrupt JPEG data: premature end of data segment\n",
      "     52/100         0G     0.6027     0.4063     0.8649         28        640:  92%|█████████▏| 22/24 [02:23<00:12,  6.31s/it]Corrupt JPEG data: premature end of data segment\n",
      "     52/100         0G     0.5956     0.4016     0.8611         15        640: 100%|██████████| 24/24 [02:32<00:00,  6.35s/it]\n",
      "                 Class     Images  Instances      Box(P          R      mAP50  mAP50-95):   8%|▊         | 1/12 [00:03<00:35,  3.26s/it]Corrupt JPEG data: 1 extraneous bytes before marker 0xd9\n",
      "                 Class     Images  Instances      Box(P          R      mAP50  mAP50-95):  17%|█▋        | 2/12 [00:06<00:34,  3.48s/it]Corrupt JPEG data: premature end of data segment\n",
      "                 Class     Images  Instances      Box(P          R      mAP50  mAP50-95):  25%|██▌       | 3/12 [00:10<00:32,  3.59s/it]Corrupt JPEG data: premature end of data segment\n",
      "                 Class     Images  Instances      Box(P          R      mAP50  mAP50-95): 100%|██████████| 12/12 [00:51<00:00,  4.29s/it]"
     ]
    },
    {
     "name": "stdout",
     "output_type": "stream",
     "text": [
      "                   all        378        393          1      0.992      0.995      0.905\n"
     ]
    },
    {
     "name": "stderr",
     "output_type": "stream",
     "text": [
      "\n"
     ]
    },
    {
     "name": "stdout",
     "output_type": "stream",
     "text": [
      "\n",
      "      Epoch    GPU_mem   box_loss   cls_loss   dfl_loss  Instances       Size\n"
     ]
    },
    {
     "name": "stderr",
     "output_type": "stream",
     "text": [
      "     53/100         0G     0.6012     0.3897     0.8724         34        640:  29%|██▉       | 7/24 [00:50<02:02,  7.23s/it]Corrupt JPEG data: 1 extraneous bytes before marker 0xd9\n",
      "     53/100         0G     0.5792     0.3811     0.8607         29        640:  42%|████▏     | 10/24 [01:10<01:35,  6.85s/it]Corrupt JPEG data: premature end of data segment\n",
      "     53/100         0G      0.586      0.393      0.864         44        640:  88%|████████▊ | 21/24 [02:20<00:19,  6.39s/it]Corrupt JPEG data: premature end of data segment\n",
      "     53/100         0G     0.5908     0.3984     0.8658         15        640: 100%|██████████| 24/24 [02:35<00:00,  6.46s/it]\n",
      "                 Class     Images  Instances      Box(P          R      mAP50  mAP50-95):   8%|▊         | 1/12 [00:03<00:36,  3.34s/it]Corrupt JPEG data: 1 extraneous bytes before marker 0xd9\n",
      "                 Class     Images  Instances      Box(P          R      mAP50  mAP50-95):  17%|█▋        | 2/12 [00:07<00:35,  3.53s/it]Corrupt JPEG data: premature end of data segment\n",
      "                 Class     Images  Instances      Box(P          R      mAP50  mAP50-95):  25%|██▌       | 3/12 [00:10<00:32,  3.64s/it]Corrupt JPEG data: premature end of data segment\n",
      "                 Class     Images  Instances      Box(P          R      mAP50  mAP50-95): 100%|██████████| 12/12 [00:51<00:00,  4.29s/it]"
     ]
    },
    {
     "name": "stdout",
     "output_type": "stream",
     "text": [
      "                   all        378        393      0.997      0.987      0.995      0.885\n",
      "\n",
      "      Epoch    GPU_mem   box_loss   cls_loss   dfl_loss  Instances       Size\n"
     ]
    },
    {
     "name": "stderr",
     "output_type": "stream",
     "text": [
      "\n",
      "     54/100         0G      0.585     0.4155     0.8644         27        640:  62%|██████▎   | 15/24 [01:42<00:57,  6.36s/it]Corrupt JPEG data: premature end of data segment\n",
      "     54/100         0G     0.5836     0.4155     0.8675         27        640:  92%|█████████▏| 22/24 [02:26<00:12,  6.28s/it]Corrupt JPEG data: 1 extraneous bytes before marker 0xd9\n",
      "     54/100         0G     0.5866     0.4168     0.8674         33        640:  96%|█████████▌| 23/24 [02:32<00:06,  6.31s/it]Corrupt JPEG data: premature end of data segment\n",
      "     54/100         0G     0.5947     0.4225     0.8746         20        640: 100%|██████████| 24/24 [02:35<00:00,  6.47s/it]\n",
      "                 Class     Images  Instances      Box(P          R      mAP50  mAP50-95):   8%|▊         | 1/12 [00:03<00:36,  3.33s/it]Corrupt JPEG data: 1 extraneous bytes before marker 0xd9\n",
      "                 Class     Images  Instances      Box(P          R      mAP50  mAP50-95):  17%|█▋        | 2/12 [00:06<00:35,  3.52s/it]Corrupt JPEG data: premature end of data segment\n",
      "                 Class     Images  Instances      Box(P          R      mAP50  mAP50-95):  25%|██▌       | 3/12 [00:10<00:32,  3.62s/it]Corrupt JPEG data: premature end of data segment\n",
      "                 Class     Images  Instances      Box(P          R      mAP50  mAP50-95): 100%|██████████| 12/12 [00:51<00:00,  4.33s/it]"
     ]
    },
    {
     "name": "stdout",
     "output_type": "stream",
     "text": [
      "                   all        378        393      0.999       0.99      0.995       0.89\n",
      "\n",
      "      Epoch    GPU_mem   box_loss   cls_loss   dfl_loss  Instances       Size\n"
     ]
    },
    {
     "name": "stderr",
     "output_type": "stream",
     "text": [
      "\n",
      "     55/100         0G     0.5868     0.4019     0.8531         25        640:  67%|██████▋   | 16/24 [01:50<00:52,  6.54s/it]Corrupt JPEG data: premature end of data segment\n",
      "     55/100         0G     0.5861     0.4008     0.8536         38        640:  79%|███████▉  | 19/24 [02:10<00:33,  6.67s/it]Corrupt JPEG data: 1 extraneous bytes before marker 0xd9\n",
      "Corrupt JPEG data: premature end of data segment\n",
      "     55/100         0G     0.5977     0.4039     0.8612         26        640: 100%|██████████| 24/24 [02:38<00:00,  6.62s/it]\n",
      "                 Class     Images  Instances      Box(P          R      mAP50  mAP50-95):   8%|▊         | 1/12 [00:03<00:37,  3.43s/it]Corrupt JPEG data: 1 extraneous bytes before marker 0xd9\n",
      "                 Class     Images  Instances      Box(P          R      mAP50  mAP50-95):  17%|█▋        | 2/12 [00:07<00:36,  3.60s/it]Corrupt JPEG data: premature end of data segment\n",
      "                 Class     Images  Instances      Box(P          R      mAP50  mAP50-95):  25%|██▌       | 3/12 [00:10<00:33,  3.69s/it]Corrupt JPEG data: premature end of data segment\n",
      "                 Class     Images  Instances      Box(P          R      mAP50  mAP50-95): 100%|██████████| 12/12 [00:52<00:00,  4.34s/it]"
     ]
    },
    {
     "name": "stdout",
     "output_type": "stream",
     "text": [
      "                   all        378        393      0.997      0.999      0.995      0.888\n"
     ]
    },
    {
     "name": "stderr",
     "output_type": "stream",
     "text": [
      "\n"
     ]
    },
    {
     "name": "stdout",
     "output_type": "stream",
     "text": [
      "\n",
      "      Epoch    GPU_mem   box_loss   cls_loss   dfl_loss  Instances       Size\n"
     ]
    },
    {
     "name": "stderr",
     "output_type": "stream",
     "text": [
      "     56/100         0G     0.5874     0.3951     0.8558         22        640:  54%|█████▍    | 13/24 [01:28<01:14,  6.80s/it]Corrupt JPEG data: premature end of data segment\n",
      "     56/100         0G     0.5876     0.3963     0.8537         28        640:  62%|██████▎   | 15/24 [01:42<01:00,  6.77s/it]Corrupt JPEG data: 1 extraneous bytes before marker 0xd9\n",
      "     56/100         0G     0.5759     0.3903      0.848         19        640:  88%|████████▊ | 21/24 [02:22<00:20,  6.70s/it]Corrupt JPEG data: premature end of data segment\n",
      "     56/100         0G     0.5693     0.3899     0.8487         17        640: 100%|██████████| 24/24 [02:37<00:00,  6.57s/it]\n",
      "                 Class     Images  Instances      Box(P          R      mAP50  mAP50-95):   8%|▊         | 1/12 [00:03<00:38,  3.47s/it]Corrupt JPEG data: 1 extraneous bytes before marker 0xd9\n",
      "                 Class     Images  Instances      Box(P          R      mAP50  mAP50-95):  17%|█▋        | 2/12 [00:07<00:36,  3.66s/it]Corrupt JPEG data: premature end of data segment\n",
      "                 Class     Images  Instances      Box(P          R      mAP50  mAP50-95):  25%|██▌       | 3/12 [00:11<00:33,  3.76s/it]Corrupt JPEG data: premature end of data segment\n",
      "                 Class     Images  Instances      Box(P          R      mAP50  mAP50-95): 100%|██████████| 12/12 [00:54<00:00,  4.52s/it]"
     ]
    },
    {
     "name": "stdout",
     "output_type": "stream",
     "text": [
      "                   all        378        393      0.995      0.994      0.995      0.874\n",
      "\n",
      "      Epoch    GPU_mem   box_loss   cls_loss   dfl_loss  Instances       Size\n"
     ]
    },
    {
     "name": "stderr",
     "output_type": "stream",
     "text": [
      "\n",
      "  0%|          | 0/24 [00:00<?, ?it/s]Corrupt JPEG data: premature end of data segment\n",
      "     57/100         0G     0.6238     0.3979     0.8642         31        640:  58%|█████▊    | 14/24 [01:35<01:08,  6.83s/it]Corrupt JPEG data: 1 extraneous bytes before marker 0xd9\n",
      "     57/100         0G     0.6096     0.3922      0.864         28        640:  71%|███████   | 17/24 [01:58<00:50,  7.28s/it]Corrupt JPEG data: premature end of data segment\n",
      "     57/100         0G      0.607     0.3929     0.8585         17        640: 100%|██████████| 24/24 [02:46<00:00,  6.93s/it]\n",
      "                 Class     Images  Instances      Box(P          R      mAP50  mAP50-95):   8%|▊         | 1/12 [00:03<00:43,  3.96s/it]Corrupt JPEG data: 1 extraneous bytes before marker 0xd9\n",
      "                 Class     Images  Instances      Box(P          R      mAP50  mAP50-95):  17%|█▋        | 2/12 [00:08<00:42,  4.28s/it]Corrupt JPEG data: premature end of data segment\n",
      "                 Class     Images  Instances      Box(P          R      mAP50  mAP50-95):  25%|██▌       | 3/12 [00:12<00:39,  4.36s/it]Corrupt JPEG data: premature end of data segment\n",
      "                 Class     Images  Instances      Box(P          R      mAP50  mAP50-95): 100%|██████████| 12/12 [01:02<00:00,  5.20s/it]"
     ]
    },
    {
     "name": "stdout",
     "output_type": "stream",
     "text": [
      "                   all        378        393      0.997      0.994      0.995      0.893\n"
     ]
    },
    {
     "name": "stderr",
     "output_type": "stream",
     "text": [
      "\n"
     ]
    },
    {
     "name": "stdout",
     "output_type": "stream",
     "text": [
      "\n",
      "      Epoch    GPU_mem   box_loss   cls_loss   dfl_loss  Instances       Size\n"
     ]
    },
    {
     "name": "stderr",
     "output_type": "stream",
     "text": [
      "     58/100         0G     0.5602     0.3964     0.8578         33        640:  29%|██▉       | 7/24 [00:55<02:14,  7.93s/it]Corrupt JPEG data: 1 extraneous bytes before marker 0xd9\n",
      "     58/100         0G     0.5633     0.3928     0.8564         24        640:  67%|██████▋   | 16/24 [02:06<01:03,  7.89s/it]Corrupt JPEG data: premature end of data segment\n",
      "     58/100         0G      0.576     0.3983     0.8533         29        640:  88%|████████▊ | 21/24 [02:44<00:23,  7.68s/it]Corrupt JPEG data: premature end of data segment\n",
      "     58/100         0G     0.5689     0.3941      0.851         18        640: 100%|██████████| 24/24 [03:02<00:00,  7.60s/it]\n",
      "                 Class     Images  Instances      Box(P          R      mAP50  mAP50-95):   8%|▊         | 1/12 [00:03<00:43,  4.00s/it]Corrupt JPEG data: 1 extraneous bytes before marker 0xd9\n",
      "                 Class     Images  Instances      Box(P          R      mAP50  mAP50-95):  17%|█▋        | 2/12 [00:08<00:42,  4.26s/it]Corrupt JPEG data: premature end of data segment\n",
      "                 Class     Images  Instances      Box(P          R      mAP50  mAP50-95):  25%|██▌       | 3/12 [00:12<00:39,  4.39s/it]Corrupt JPEG data: premature end of data segment\n",
      "                 Class     Images  Instances      Box(P          R      mAP50  mAP50-95): 100%|██████████| 12/12 [01:04<00:00,  5.38s/it]"
     ]
    },
    {
     "name": "stdout",
     "output_type": "stream",
     "text": [
      "                   all        378        393      0.994      0.997      0.995        0.9\n"
     ]
    },
    {
     "name": "stderr",
     "output_type": "stream",
     "text": [
      "\n"
     ]
    },
    {
     "name": "stdout",
     "output_type": "stream",
     "text": [
      "\n",
      "      Epoch    GPU_mem   box_loss   cls_loss   dfl_loss  Instances       Size\n"
     ]
    },
    {
     "name": "stderr",
     "output_type": "stream",
     "text": [
      "     59/100         0G     0.5959      0.387     0.8812         34        640:  25%|██▌       | 6/24 [00:49<02:31,  8.42s/it]Corrupt JPEG data: 1 extraneous bytes before marker 0xd9\n",
      "     59/100         0G     0.5732     0.3708     0.8627         37        640:  50%|█████     | 12/24 [01:30<01:22,  6.91s/it]Corrupt JPEG data: premature end of data segment\n",
      "     59/100         0G     0.5825     0.3748     0.8528         21        640: 100%|██████████| 24/24 [02:46<00:00,  6.93s/it]\n",
      "                 Class     Images  Instances      Box(P          R      mAP50  mAP50-95):   8%|▊         | 1/12 [00:03<00:37,  3.41s/it]Corrupt JPEG data: 1 extraneous bytes before marker 0xd9\n",
      "                 Class     Images  Instances      Box(P          R      mAP50  mAP50-95):  17%|█▋        | 2/12 [00:07<00:36,  3.61s/it]Corrupt JPEG data: premature end of data segment\n",
      "                 Class     Images  Instances      Box(P          R      mAP50  mAP50-95):  25%|██▌       | 3/12 [00:10<00:33,  3.71s/it]Corrupt JPEG data: premature end of data segment\n",
      "                 Class     Images  Instances      Box(P          R      mAP50  mAP50-95): 100%|██████████| 12/12 [00:52<00:00,  4.36s/it]"
     ]
    },
    {
     "name": "stdout",
     "output_type": "stream",
     "text": [
      "                   all        378        393      0.997      0.998      0.995        0.9\n",
      "\n",
      "      Epoch    GPU_mem   box_loss   cls_loss   dfl_loss  Instances       Size\n"
     ]
    },
    {
     "name": "stderr",
     "output_type": "stream",
     "text": [
      "\n",
      "     60/100         0G     0.5524     0.3577     0.8486         27        640:  29%|██▉       | 7/24 [00:51<02:08,  7.58s/it]Corrupt JPEG data: premature end of data segment\n",
      "     60/100         0G     0.5422     0.3614      0.841         32        640:  58%|█████▊    | 14/24 [01:36<01:04,  6.44s/it]Corrupt JPEG data: 1 extraneous bytes before marker 0xd9\n",
      "     60/100         0G     0.5403     0.3604     0.8408         32        640:  67%|██████▋   | 16/24 [01:49<00:50,  6.35s/it]Corrupt JPEG data: premature end of data segment\n",
      "     60/100         0G     0.5393     0.3656     0.8496         27        640: 100%|██████████| 24/24 [02:35<00:00,  6.47s/it]\n",
      "                 Class     Images  Instances      Box(P          R      mAP50  mAP50-95):   8%|▊         | 1/12 [00:03<00:36,  3.35s/it]Corrupt JPEG data: 1 extraneous bytes before marker 0xd9\n",
      "                 Class     Images  Instances      Box(P          R      mAP50  mAP50-95):  17%|█▋        | 2/12 [00:07<00:35,  3.57s/it]Corrupt JPEG data: premature end of data segment\n",
      "                 Class     Images  Instances      Box(P          R      mAP50  mAP50-95):  25%|██▌       | 3/12 [00:10<00:32,  3.66s/it]Corrupt JPEG data: premature end of data segment\n",
      "                 Class     Images  Instances      Box(P          R      mAP50  mAP50-95): 100%|██████████| 12/12 [00:51<00:00,  4.33s/it]"
     ]
    },
    {
     "name": "stdout",
     "output_type": "stream",
     "text": [
      "                   all        378        393          1          1      0.995      0.899\n",
      "\n",
      "      Epoch    GPU_mem   box_loss   cls_loss   dfl_loss  Instances       Size\n"
     ]
    },
    {
     "name": "stderr",
     "output_type": "stream",
     "text": [
      "\n",
      "  0%|          | 0/24 [00:00<?, ?it/s]Corrupt JPEG data: 1 extraneous bytes before marker 0xd9\n",
      "     61/100         0G     0.5543     0.3847     0.8639         29        640:  42%|████▏     | 10/24 [01:12<01:34,  6.75s/it]Corrupt JPEG data: premature end of data segment\n",
      "     61/100         0G     0.5504     0.3806     0.8567         30        640:  50%|█████     | 12/24 [01:25<01:18,  6.58s/it]Corrupt JPEG data: premature end of data segment\n",
      "     61/100         0G     0.5703     0.3899     0.8554         23        640: 100%|██████████| 24/24 [02:40<00:00,  6.69s/it]\n",
      "                 Class     Images  Instances      Box(P          R      mAP50  mAP50-95):   8%|▊         | 1/12 [00:03<00:37,  3.45s/it]Corrupt JPEG data: 1 extraneous bytes before marker 0xd9\n",
      "                 Class     Images  Instances      Box(P          R      mAP50  mAP50-95):  17%|█▋        | 2/12 [00:07<00:36,  3.66s/it]Corrupt JPEG data: premature end of data segment\n",
      "                 Class     Images  Instances      Box(P          R      mAP50  mAP50-95):  25%|██▌       | 3/12 [00:11<00:33,  3.76s/it]Corrupt JPEG data: premature end of data segment\n",
      "                 Class     Images  Instances      Box(P          R      mAP50  mAP50-95): 100%|██████████| 12/12 [00:52<00:00,  4.41s/it]"
     ]
    },
    {
     "name": "stdout",
     "output_type": "stream",
     "text": [
      "                   all        378        393          1          1      0.995      0.915\n"
     ]
    },
    {
     "name": "stderr",
     "output_type": "stream",
     "text": [
      "\n"
     ]
    },
    {
     "name": "stdout",
     "output_type": "stream",
     "text": [
      "\n",
      "      Epoch    GPU_mem   box_loss   cls_loss   dfl_loss  Instances       Size\n"
     ]
    },
    {
     "name": "stderr",
     "output_type": "stream",
     "text": [
      "     62/100         0G      0.568     0.3804     0.8496         32        640:  42%|████▏     | 10/24 [01:10<01:39,  7.11s/it]Corrupt JPEG data: 1 extraneous bytes before marker 0xd9\n",
      "     62/100         0G     0.5627      0.379     0.8502         32        640:  46%|████▌     | 11/24 [01:17<01:33,  7.15s/it]Corrupt JPEG data: premature end of data segment\n",
      "     62/100         0G     0.5711     0.3859     0.8534         36        640:  67%|██████▋   | 16/24 [01:52<00:55,  6.98s/it]Corrupt JPEG data: premature end of data segment\n",
      "     62/100         0G     0.5525     0.3787     0.8513         23        640: 100%|██████████| 24/24 [02:42<00:00,  6.76s/it]\n",
      "                 Class     Images  Instances      Box(P          R      mAP50  mAP50-95):   8%|▊         | 1/12 [00:03<00:38,  3.52s/it]Corrupt JPEG data: 1 extraneous bytes before marker 0xd9\n",
      "                 Class     Images  Instances      Box(P          R      mAP50  mAP50-95):  17%|█▋        | 2/12 [00:07<00:38,  3.83s/it]Corrupt JPEG data: premature end of data segment\n",
      "                 Class     Images  Instances      Box(P          R      mAP50  mAP50-95):  25%|██▌       | 3/12 [00:11<00:35,  3.97s/it]Corrupt JPEG data: premature end of data segment\n",
      "                 Class     Images  Instances      Box(P          R      mAP50  mAP50-95): 100%|██████████| 12/12 [00:55<00:00,  4.61s/it]"
     ]
    },
    {
     "name": "stdout",
     "output_type": "stream",
     "text": [
      "                   all        378        393      0.992      0.999      0.995      0.908\n"
     ]
    },
    {
     "name": "stderr",
     "output_type": "stream",
     "text": [
      "\n"
     ]
    },
    {
     "name": "stdout",
     "output_type": "stream",
     "text": [
      "\n",
      "      Epoch    GPU_mem   box_loss   cls_loss   dfl_loss  Instances       Size\n"
     ]
    },
    {
     "name": "stderr",
     "output_type": "stream",
     "text": [
      "     63/100         0G     0.5503     0.3777      0.851         36        640:  42%|████▏     | 10/24 [01:08<01:37,  6.97s/it]Corrupt JPEG data: premature end of data segment\n",
      "     63/100         0G      0.543     0.3636     0.8486         27        640:  71%|███████   | 17/24 [01:58<00:49,  7.09s/it]Corrupt JPEG data: 1 extraneous bytes before marker 0xd9\n",
      "     63/100         0G     0.5379     0.3611     0.8528         37        640:  96%|█████████▌| 23/24 [02:40<00:06,  6.85s/it]Corrupt JPEG data: premature end of data segment\n",
      "     63/100         0G      0.536     0.3607     0.8521         17        640: 100%|██████████| 24/24 [02:42<00:00,  6.77s/it]\n",
      "                 Class     Images  Instances      Box(P          R      mAP50  mAP50-95):   8%|▊         | 1/12 [00:03<00:39,  3.55s/it]Corrupt JPEG data: 1 extraneous bytes before marker 0xd9\n",
      "                 Class     Images  Instances      Box(P          R      mAP50  mAP50-95):  17%|█▋        | 2/12 [00:07<00:37,  3.73s/it]Corrupt JPEG data: premature end of data segment\n",
      "                 Class     Images  Instances      Box(P          R      mAP50  mAP50-95):  25%|██▌       | 3/12 [00:11<00:34,  3.82s/it]Corrupt JPEG data: premature end of data segment\n",
      "                 Class     Images  Instances      Box(P          R      mAP50  mAP50-95): 100%|██████████| 12/12 [00:54<00:00,  4.53s/it]"
     ]
    },
    {
     "name": "stdout",
     "output_type": "stream",
     "text": [
      "                   all        378        393          1          1      0.995      0.909\n",
      "\n",
      "      Epoch    GPU_mem   box_loss   cls_loss   dfl_loss  Instances       Size\n"
     ]
    },
    {
     "name": "stderr",
     "output_type": "stream",
     "text": [
      "\n",
      "     64/100         0G      0.525     0.3604     0.8726         26        640:  12%|█▎        | 3/24 [00:23<02:47,  7.97s/it]Corrupt JPEG data: premature end of data segment\n",
      "     64/100         0G     0.5367     0.3727     0.8529         34        640:  54%|█████▍    | 13/24 [01:34<01:14,  6.79s/it]Corrupt JPEG data: 1 extraneous bytes before marker 0xd9\n",
      "     64/100         0G     0.5339     0.3667     0.8467         29        640:  83%|████████▎ | 20/24 [02:22<00:27,  6.92s/it]Corrupt JPEG data: premature end of data segment\n",
      "     64/100         0G     0.5305     0.3705     0.8494         12        640: 100%|██████████| 24/24 [02:45<00:00,  6.90s/it]\n",
      "                 Class     Images  Instances      Box(P          R      mAP50  mAP50-95):   8%|▊         | 1/12 [00:03<00:39,  3.58s/it]Corrupt JPEG data: 1 extraneous bytes before marker 0xd9\n",
      "                 Class     Images  Instances      Box(P          R      mAP50  mAP50-95):  17%|█▋        | 2/12 [00:07<00:37,  3.76s/it]Corrupt JPEG data: premature end of data segment\n",
      "                 Class     Images  Instances      Box(P          R      mAP50  mAP50-95):  25%|██▌       | 3/12 [00:11<00:34,  3.86s/it]Corrupt JPEG data: premature end of data segment\n",
      "                 Class     Images  Instances      Box(P          R      mAP50  mAP50-95): 100%|██████████| 12/12 [00:54<00:00,  4.53s/it]"
     ]
    },
    {
     "name": "stdout",
     "output_type": "stream",
     "text": [
      "                   all        378        393      0.995      0.999      0.995      0.908\n",
      "\n",
      "      Epoch    GPU_mem   box_loss   cls_loss   dfl_loss  Instances       Size\n"
     ]
    },
    {
     "name": "stderr",
     "output_type": "stream",
     "text": [
      "\n",
      "     65/100         0G     0.5087     0.3365     0.8468         30        640:  17%|█▋        | 4/24 [00:29<02:30,  7.54s/it]Corrupt JPEG data: premature end of data segment\n",
      "     65/100         0G     0.5345     0.3493     0.8506         26        640:  46%|████▌     | 11/24 [01:20<01:30,  6.97s/it]Corrupt JPEG data: premature end of data segment\n",
      "     65/100         0G     0.5494     0.3595     0.8593         26        640:  54%|█████▍    | 13/24 [01:34<01:15,  6.83s/it]Corrupt JPEG data: 1 extraneous bytes before marker 0xd9\n",
      "     65/100         0G     0.5577     0.3685     0.8528         22        640: 100%|██████████| 24/24 [02:42<00:00,  6.79s/it]\n",
      "                 Class     Images  Instances      Box(P          R      mAP50  mAP50-95):   8%|▊         | 1/12 [00:03<00:37,  3.42s/it]Corrupt JPEG data: 1 extraneous bytes before marker 0xd9\n",
      "                 Class     Images  Instances      Box(P          R      mAP50  mAP50-95):  17%|█▋        | 2/12 [00:07<00:36,  3.60s/it]Corrupt JPEG data: premature end of data segment\n",
      "                 Class     Images  Instances      Box(P          R      mAP50  mAP50-95):  25%|██▌       | 3/12 [00:10<00:33,  3.70s/it]Corrupt JPEG data: premature end of data segment\n",
      "                 Class     Images  Instances      Box(P          R      mAP50  mAP50-95): 100%|██████████| 12/12 [00:52<00:00,  4.41s/it]"
     ]
    },
    {
     "name": "stdout",
     "output_type": "stream",
     "text": [
      "                   all        378        393      0.996      0.997      0.995       0.89\n",
      "\n",
      "      Epoch    GPU_mem   box_loss   cls_loss   dfl_loss  Instances       Size\n"
     ]
    },
    {
     "name": "stderr",
     "output_type": "stream",
     "text": [
      "\n",
      "     66/100         0G       0.55     0.3896     0.8044         35        640:   8%|▊         | 2/24 [00:13<02:29,  6.81s/it]Corrupt JPEG data: premature end of data segment\n",
      "     66/100         0G     0.5649     0.3726     0.8516         22        640:  92%|█████████▏| 22/24 [02:35<00:13,  6.82s/it]Corrupt JPEG data: premature end of data segment\n",
      "     66/100         0G     0.5635     0.3728     0.8505         29        640:  96%|█████████▌| 23/24 [02:41<00:06,  6.74s/it]Corrupt JPEG data: 1 extraneous bytes before marker 0xd9\n",
      "     66/100         0G     0.5609     0.3734      0.853         15        640: 100%|██████████| 24/24 [02:43<00:00,  6.83s/it]\n",
      "                 Class     Images  Instances      Box(P          R      mAP50  mAP50-95):   8%|▊         | 1/12 [00:03<00:38,  3.47s/it]Corrupt JPEG data: 1 extraneous bytes before marker 0xd9\n",
      "                 Class     Images  Instances      Box(P          R      mAP50  mAP50-95):  17%|█▋        | 2/12 [00:07<00:36,  3.66s/it]Corrupt JPEG data: premature end of data segment\n",
      "                 Class     Images  Instances      Box(P          R      mAP50  mAP50-95):  25%|██▌       | 3/12 [00:11<00:33,  3.77s/it]Corrupt JPEG data: premature end of data segment\n",
      "                 Class     Images  Instances      Box(P          R      mAP50  mAP50-95): 100%|██████████| 12/12 [00:53<00:00,  4.42s/it]"
     ]
    },
    {
     "name": "stdout",
     "output_type": "stream",
     "text": [
      "                   all        378        393      0.997      0.997      0.995      0.902\n",
      "\n",
      "      Epoch    GPU_mem   box_loss   cls_loss   dfl_loss  Instances       Size\n"
     ]
    },
    {
     "name": "stderr",
     "output_type": "stream",
     "text": [
      "\n",
      "     67/100         0G      0.579     0.3781     0.8487         28        640:  33%|███▎      | 8/24 [01:04<02:08,  8.01s/it]Corrupt JPEG data: premature end of data segment\n",
      "Corrupt JPEG data: premature end of data segment\n",
      "     67/100         0G     0.5664      0.373     0.8426         29        640:  46%|████▌     | 11/24 [01:25<01:36,  7.41s/it]Corrupt JPEG data: 1 extraneous bytes before marker 0xd9\n",
      "     67/100         0G     0.5563      0.372     0.8395         21        640: 100%|██████████| 24/24 [02:50<00:00,  7.10s/it]\n",
      "                 Class     Images  Instances      Box(P          R      mAP50  mAP50-95):   8%|▊         | 1/12 [00:03<00:39,  3.59s/it]Corrupt JPEG data: 1 extraneous bytes before marker 0xd9\n",
      "                 Class     Images  Instances      Box(P          R      mAP50  mAP50-95):  17%|█▋        | 2/12 [00:07<00:37,  3.72s/it]Corrupt JPEG data: premature end of data segment\n",
      "                 Class     Images  Instances      Box(P          R      mAP50  mAP50-95):  25%|██▌       | 3/12 [00:11<00:34,  3.79s/it]Corrupt JPEG data: premature end of data segment\n",
      "                 Class     Images  Instances      Box(P          R      mAP50  mAP50-95): 100%|██████████| 12/12 [00:53<00:00,  4.49s/it]"
     ]
    },
    {
     "name": "stdout",
     "output_type": "stream",
     "text": [
      "                   all        378        393      0.997      0.997      0.995      0.911\n",
      "\n",
      "      Epoch    GPU_mem   box_loss   cls_loss   dfl_loss  Instances       Size\n"
     ]
    },
    {
     "name": "stderr",
     "output_type": "stream",
     "text": [
      "\n",
      "     68/100         0G     0.5793       0.38     0.8395         26        640:   4%|▍         | 1/24 [00:06<02:39,  6.95s/it]Corrupt JPEG data: premature end of data segment\n",
      "     68/100         0G     0.5753     0.3581     0.8324         29        640:  25%|██▌       | 6/24 [00:48<02:26,  8.15s/it]Corrupt JPEG data: premature end of data segment\n",
      "     68/100         0G     0.5819     0.3674     0.8515         28        640:  38%|███▊      | 9/24 [01:09<01:49,  7.28s/it]Corrupt JPEG data: 1 extraneous bytes before marker 0xd9\n",
      "     68/100         0G     0.5345     0.3487     0.8435         19        640: 100%|██████████| 24/24 [02:43<00:00,  6.83s/it]\n",
      "                 Class     Images  Instances      Box(P          R      mAP50  mAP50-95):   8%|▊         | 1/12 [00:03<00:37,  3.42s/it]Corrupt JPEG data: 1 extraneous bytes before marker 0xd9\n",
      "                 Class     Images  Instances      Box(P          R      mAP50  mAP50-95):  17%|█▋        | 2/12 [00:07<00:36,  3.62s/it]Corrupt JPEG data: premature end of data segment\n",
      "                 Class     Images  Instances      Box(P          R      mAP50  mAP50-95):  25%|██▌       | 3/12 [00:11<00:33,  3.72s/it]Corrupt JPEG data: premature end of data segment\n",
      "                 Class     Images  Instances      Box(P          R      mAP50  mAP50-95): 100%|██████████| 12/12 [00:53<00:00,  4.50s/it]"
     ]
    },
    {
     "name": "stdout",
     "output_type": "stream",
     "text": [
      "                   all        378        393          1      0.997      0.995      0.924\n"
     ]
    },
    {
     "name": "stderr",
     "output_type": "stream",
     "text": [
      "\n"
     ]
    },
    {
     "name": "stdout",
     "output_type": "stream",
     "text": [
      "\n",
      "      Epoch    GPU_mem   box_loss   cls_loss   dfl_loss  Instances       Size\n"
     ]
    },
    {
     "name": "stderr",
     "output_type": "stream",
     "text": [
      "     69/100         0G     0.5484     0.3456     0.8544         31        640:  25%|██▌       | 6/24 [00:51<02:51,  9.54s/it]Corrupt JPEG data: premature end of data segment\n",
      "Corrupt JPEG data: premature end of data segment\n",
      "     69/100         0G     0.5147     0.3395     0.8484         31        640:  58%|█████▊    | 14/24 [01:45<01:06,  6.70s/it]Corrupt JPEG data: 1 extraneous bytes before marker 0xd9\n",
      "     69/100         0G     0.5151     0.3372     0.8431         23        640: 100%|██████████| 24/24 [02:47<00:00,  6.97s/it]\n",
      "                 Class     Images  Instances      Box(P          R      mAP50  mAP50-95):   8%|▊         | 1/12 [00:03<00:38,  3.47s/it]Corrupt JPEG data: 1 extraneous bytes before marker 0xd9\n",
      "                 Class     Images  Instances      Box(P          R      mAP50  mAP50-95):  17%|█▋        | 2/12 [00:07<00:36,  3.67s/it]Corrupt JPEG data: premature end of data segment\n",
      "                 Class     Images  Instances      Box(P          R      mAP50  mAP50-95):  25%|██▌       | 3/12 [00:11<00:33,  3.76s/it]Corrupt JPEG data: premature end of data segment\n",
      "                 Class     Images  Instances      Box(P          R      mAP50  mAP50-95): 100%|██████████| 12/12 [00:53<00:00,  4.44s/it]"
     ]
    },
    {
     "name": "stdout",
     "output_type": "stream",
     "text": [
      "                   all        378        393          1      0.997      0.995      0.917\n",
      "\n",
      "      Epoch    GPU_mem   box_loss   cls_loss   dfl_loss  Instances       Size\n"
     ]
    },
    {
     "name": "stderr",
     "output_type": "stream",
     "text": [
      "\n",
      "     70/100         0G     0.4727     0.3255     0.7891         36        640:   4%|▍         | 1/24 [00:06<02:35,  6.77s/it]Corrupt JPEG data: 1 extraneous bytes before marker 0xd9\n",
      "     70/100         0G     0.5122     0.3535      0.849         22        640:  21%|██        | 5/24 [00:39<02:35,  8.17s/it]Corrupt JPEG data: premature end of data segment\n",
      "     70/100         0G     0.5113      0.355     0.8497         34        640:  71%|███████   | 17/24 [01:58<00:45,  6.52s/it]Corrupt JPEG data: premature end of data segment\n",
      "     70/100         0G     0.5028     0.3476     0.8482         24        640: 100%|██████████| 24/24 [02:40<00:00,  6.70s/it]\n",
      "                 Class     Images  Instances      Box(P          R      mAP50  mAP50-95):   8%|▊         | 1/12 [00:03<00:40,  3.69s/it]Corrupt JPEG data: 1 extraneous bytes before marker 0xd9\n",
      "                 Class     Images  Instances      Box(P          R      mAP50  mAP50-95):  17%|█▋        | 2/12 [00:07<00:39,  3.91s/it]Corrupt JPEG data: premature end of data segment\n",
      "                 Class     Images  Instances      Box(P          R      mAP50  mAP50-95):  25%|██▌       | 3/12 [00:11<00:35,  3.94s/it]Corrupt JPEG data: premature end of data segment\n",
      "                 Class     Images  Instances      Box(P          R      mAP50  mAP50-95): 100%|██████████| 12/12 [00:54<00:00,  4.51s/it]"
     ]
    },
    {
     "name": "stdout",
     "output_type": "stream",
     "text": [
      "                   all        378        393      0.995      0.997      0.995       0.91\n",
      "\n",
      "      Epoch    GPU_mem   box_loss   cls_loss   dfl_loss  Instances       Size\n"
     ]
    },
    {
     "name": "stderr",
     "output_type": "stream",
     "text": [
      "\n",
      "     71/100         0G     0.4184     0.3104     0.8267         29        640:   4%|▍         | 1/24 [00:06<02:38,  6.91s/it]Corrupt JPEG data: premature end of data segment\n",
      "     71/100         0G     0.4913      0.333     0.8312         29        640:  12%|█▎        | 3/24 [00:22<02:42,  7.76s/it]Corrupt JPEG data: 1 extraneous bytes before marker 0xd9\n",
      "     71/100         0G     0.5019     0.3417     0.8425         20        640:  50%|█████     | 12/24 [01:26<01:21,  6.81s/it]Corrupt JPEG data: premature end of data segment\n",
      "     71/100         0G     0.5128     0.3468     0.8423         24        640: 100%|██████████| 24/24 [02:43<00:00,  6.82s/it]\n",
      "                 Class     Images  Instances      Box(P          R      mAP50  mAP50-95):   8%|▊         | 1/12 [00:03<00:39,  3.62s/it]Corrupt JPEG data: 1 extraneous bytes before marker 0xd9\n",
      "                 Class     Images  Instances      Box(P          R      mAP50  mAP50-95):  17%|█▋        | 2/12 [00:07<00:39,  3.91s/it]Corrupt JPEG data: premature end of data segment\n",
      "                 Class     Images  Instances      Box(P          R      mAP50  mAP50-95):  25%|██▌       | 3/12 [00:11<00:36,  4.02s/it]Corrupt JPEG data: premature end of data segment\n",
      "                 Class     Images  Instances      Box(P          R      mAP50  mAP50-95): 100%|██████████| 12/12 [00:55<00:00,  4.64s/it]"
     ]
    },
    {
     "name": "stdout",
     "output_type": "stream",
     "text": [
      "                   all        378        393      0.995      0.999      0.995      0.921\n",
      "\n",
      "      Epoch    GPU_mem   box_loss   cls_loss   dfl_loss  Instances       Size\n"
     ]
    },
    {
     "name": "stderr",
     "output_type": "stream",
     "text": [
      "\n",
      "     72/100         0G     0.4628     0.3351     0.8343         31        640:   8%|▊         | 2/24 [00:13<02:34,  7.02s/it]Corrupt JPEG data: 1 extraneous bytes before marker 0xd9\n",
      "     72/100         0G     0.4882     0.3376     0.8232         30        640:  17%|█▋        | 4/24 [00:31<02:41,  8.06s/it]Corrupt JPEG data: premature end of data segment\n",
      "     72/100         0G     0.4768     0.3327     0.8162         36        640:  38%|███▊      | 9/24 [01:05<01:44,  6.94s/it]Corrupt JPEG data: premature end of data segment\n",
      "     72/100         0G     0.5059     0.3402     0.8264         24        640: 100%|██████████| 24/24 [02:40<00:00,  6.68s/it]\n",
      "                 Class     Images  Instances      Box(P          R      mAP50  mAP50-95):   8%|▊         | 1/12 [00:03<00:38,  3.51s/it]Corrupt JPEG data: 1 extraneous bytes before marker 0xd9\n",
      "                 Class     Images  Instances      Box(P          R      mAP50  mAP50-95):  17%|█▋        | 2/12 [00:07<00:37,  3.70s/it]Corrupt JPEG data: premature end of data segment\n",
      "                 Class     Images  Instances      Box(P          R      mAP50  mAP50-95):  25%|██▌       | 3/12 [00:11<00:34,  3.80s/it]Corrupt JPEG data: premature end of data segment\n",
      "                 Class     Images  Instances      Box(P          R      mAP50  mAP50-95): 100%|██████████| 12/12 [00:53<00:00,  4.49s/it]"
     ]
    },
    {
     "name": "stdout",
     "output_type": "stream",
     "text": [
      "                   all        378        393      0.992      0.999      0.995      0.924\n"
     ]
    },
    {
     "name": "stderr",
     "output_type": "stream",
     "text": [
      "\n"
     ]
    },
    {
     "name": "stdout",
     "output_type": "stream",
     "text": [
      "\n",
      "      Epoch    GPU_mem   box_loss   cls_loss   dfl_loss  Instances       Size\n"
     ]
    },
    {
     "name": "stderr",
     "output_type": "stream",
     "text": [
      "     73/100         0G     0.4683     0.3483     0.8314         29        640:  29%|██▉       | 7/24 [00:49<02:02,  7.23s/it]Corrupt JPEG data: premature end of data segment\n",
      "     73/100         0G     0.4889     0.3495     0.8428         38        640:  62%|██████▎   | 15/24 [01:46<01:03,  7.09s/it]Corrupt JPEG data: premature end of data segment\n",
      "     73/100         0G     0.4795     0.3419     0.8412         28        640:  88%|████████▊ | 21/24 [02:28<00:20,  6.94s/it]Corrupt JPEG data: 1 extraneous bytes before marker 0xd9\n",
      "     73/100         0G     0.4784     0.3379     0.8375         25        640: 100%|██████████| 24/24 [02:45<00:00,  6.88s/it]\n",
      "                 Class     Images  Instances      Box(P          R      mAP50  mAP50-95):   8%|▊         | 1/12 [00:03<00:39,  3.61s/it]Corrupt JPEG data: 1 extraneous bytes before marker 0xd9\n",
      "                 Class     Images  Instances      Box(P          R      mAP50  mAP50-95):  17%|█▋        | 2/12 [00:07<00:39,  3.94s/it]Corrupt JPEG data: premature end of data segment\n",
      "                 Class     Images  Instances      Box(P          R      mAP50  mAP50-95):  25%|██▌       | 3/12 [00:12<00:36,  4.11s/it]Corrupt JPEG data: premature end of data segment\n",
      "                 Class     Images  Instances      Box(P          R      mAP50  mAP50-95): 100%|██████████| 12/12 [00:56<00:00,  4.74s/it]"
     ]
    },
    {
     "name": "stdout",
     "output_type": "stream",
     "text": [
      "                   all        378        393      0.994          1      0.995      0.931\n"
     ]
    },
    {
     "name": "stderr",
     "output_type": "stream",
     "text": [
      "\n"
     ]
    },
    {
     "name": "stdout",
     "output_type": "stream",
     "text": [
      "\n",
      "      Epoch    GPU_mem   box_loss   cls_loss   dfl_loss  Instances       Size\n"
     ]
    },
    {
     "name": "stderr",
     "output_type": "stream",
     "text": [
      "     74/100         0G     0.4999     0.3339      0.851         29        640:  21%|██        | 5/24 [00:41<02:46,  8.75s/it]Corrupt JPEG data: premature end of data segment\n",
      "     74/100         0G     0.5039     0.3388     0.8437         27        640:  62%|██████▎   | 15/24 [01:50<00:58,  6.51s/it]Corrupt JPEG data: premature end of data segment\n",
      "     74/100         0G      0.498     0.3399     0.8407         22        640:  83%|████████▎ | 20/24 [02:23<00:25,  6.49s/it]Corrupt JPEG data: 1 extraneous bytes before marker 0xd9\n",
      "     74/100         0G     0.5018     0.3436     0.8412         16        640: 100%|██████████| 24/24 [02:46<00:00,  6.93s/it]\n",
      "                 Class     Images  Instances      Box(P          R      mAP50  mAP50-95):   8%|▊         | 1/12 [00:03<00:38,  3.55s/it]Corrupt JPEG data: 1 extraneous bytes before marker 0xd9\n",
      "                 Class     Images  Instances      Box(P          R      mAP50  mAP50-95):  17%|█▋        | 2/12 [00:07<00:38,  3.82s/it]Corrupt JPEG data: premature end of data segment\n",
      "                 Class     Images  Instances      Box(P          R      mAP50  mAP50-95):  25%|██▌       | 3/12 [00:11<00:35,  3.92s/it]Corrupt JPEG data: premature end of data segment\n",
      "                 Class     Images  Instances      Box(P          R      mAP50  mAP50-95): 100%|██████████| 12/12 [00:56<00:00,  4.69s/it]"
     ]
    },
    {
     "name": "stdout",
     "output_type": "stream",
     "text": [
      "                   all        378        393      0.999          1      0.995       0.93\n",
      "\n",
      "      Epoch    GPU_mem   box_loss   cls_loss   dfl_loss  Instances       Size\n"
     ]
    },
    {
     "name": "stderr",
     "output_type": "stream",
     "text": [
      "\n",
      "     75/100         0G     0.4858      0.322     0.8476         31        640:  17%|█▋        | 4/24 [00:31<02:40,  8.03s/it]Corrupt JPEG data: premature end of data segment\n",
      "     75/100         0G     0.4926      0.327     0.8537         21        640:  62%|██████▎   | 15/24 [01:44<00:58,  6.55s/it]Corrupt JPEG data: 1 extraneous bytes before marker 0xd9\n",
      "     75/100         0G     0.4939     0.3262     0.8514         31        640:  67%|██████▋   | 16/24 [01:51<00:52,  6.62s/it]Corrupt JPEG data: premature end of data segment\n",
      "     75/100         0G      0.499     0.3261     0.8467         21        640: 100%|██████████| 24/24 [02:41<00:00,  6.75s/it]\n",
      "                 Class     Images  Instances      Box(P          R      mAP50  mAP50-95):   8%|▊         | 1/12 [00:03<00:38,  3.52s/it]Corrupt JPEG data: 1 extraneous bytes before marker 0xd9\n",
      "                 Class     Images  Instances      Box(P          R      mAP50  mAP50-95):  17%|█▋        | 2/12 [00:07<00:37,  3.72s/it]Corrupt JPEG data: premature end of data segment\n",
      "                 Class     Images  Instances      Box(P          R      mAP50  mAP50-95):  25%|██▌       | 3/12 [00:11<00:34,  3.82s/it]Corrupt JPEG data: premature end of data segment\n",
      "                 Class     Images  Instances      Box(P          R      mAP50  mAP50-95): 100%|██████████| 12/12 [00:53<00:00,  4.48s/it]"
     ]
    },
    {
     "name": "stdout",
     "output_type": "stream",
     "text": [
      "                   all        378        393          1      0.997      0.995      0.928\n"
     ]
    },
    {
     "name": "stderr",
     "output_type": "stream",
     "text": [
      "\n"
     ]
    },
    {
     "name": "stdout",
     "output_type": "stream",
     "text": [
      "\n",
      "      Epoch    GPU_mem   box_loss   cls_loss   dfl_loss  Instances       Size\n"
     ]
    },
    {
     "name": "stderr",
     "output_type": "stream",
     "text": [
      "     76/100         0G      0.527     0.3474     0.8522         29        640:  54%|█████▍    | 13/24 [01:36<01:14,  6.74s/it]Corrupt JPEG data: premature end of data segment\n",
      "     76/100         0G     0.5247     0.3474     0.8523         33        640:  71%|███████   | 17/24 [02:01<00:44,  6.42s/it]Corrupt JPEG data: 1 extraneous bytes before marker 0xd9\n",
      "     76/100         0G      0.521     0.3452     0.8498         28        640:  92%|█████████▏| 22/24 [02:34<00:13,  6.54s/it]Corrupt JPEG data: premature end of data segment\n",
      "     76/100         0G      0.521     0.3442     0.8468         25        640: 100%|██████████| 24/24 [02:43<00:00,  6.82s/it]\n",
      "                 Class     Images  Instances      Box(P          R      mAP50  mAP50-95):   8%|▊         | 1/12 [00:03<00:37,  3.45s/it]Corrupt JPEG data: 1 extraneous bytes before marker 0xd9\n",
      "                 Class     Images  Instances      Box(P          R      mAP50  mAP50-95):  17%|█▋        | 2/12 [00:07<00:36,  3.68s/it]Corrupt JPEG data: premature end of data segment\n",
      "                 Class     Images  Instances      Box(P          R      mAP50  mAP50-95):  25%|██▌       | 3/12 [00:11<00:33,  3.78s/it]Corrupt JPEG data: premature end of data segment\n",
      "                 Class     Images  Instances      Box(P          R      mAP50  mAP50-95): 100%|██████████| 12/12 [00:53<00:00,  4.45s/it]"
     ]
    },
    {
     "name": "stdout",
     "output_type": "stream",
     "text": [
      "                   all        378        393          1      0.997      0.995       0.93\n"
     ]
    },
    {
     "name": "stderr",
     "output_type": "stream",
     "text": [
      "\n"
     ]
    },
    {
     "name": "stdout",
     "output_type": "stream",
     "text": [
      "\n",
      "      Epoch    GPU_mem   box_loss   cls_loss   dfl_loss  Instances       Size\n"
     ]
    },
    {
     "name": "stderr",
     "output_type": "stream",
     "text": [
      "     77/100         0G     0.4685     0.3274     0.8234         28        640:  21%|██        | 5/24 [00:37<02:30,  7.93s/it]Corrupt JPEG data: premature end of data segment\n",
      "     77/100         0G      0.482     0.3269     0.8281         28        640:  42%|████▏     | 10/24 [01:12<01:38,  7.00s/it]Corrupt JPEG data: 1 extraneous bytes before marker 0xd9\n",
      "     77/100         0G     0.4894     0.3319     0.8295         26        640:  54%|█████▍    | 13/24 [01:32<01:13,  6.72s/it]Corrupt JPEG data: premature end of data segment\n",
      "     77/100         0G     0.4919     0.3301     0.8363         21        640: 100%|██████████| 24/24 [02:41<00:00,  6.73s/it]\n",
      "                 Class     Images  Instances      Box(P          R      mAP50  mAP50-95):   8%|▊         | 1/12 [00:03<00:38,  3.48s/it]Corrupt JPEG data: 1 extraneous bytes before marker 0xd9\n",
      "                 Class     Images  Instances      Box(P          R      mAP50  mAP50-95):  17%|█▋        | 2/12 [00:07<00:37,  3.77s/it]Corrupt JPEG data: premature end of data segment\n",
      "                 Class     Images  Instances      Box(P          R      mAP50  mAP50-95):  25%|██▌       | 3/12 [00:11<00:35,  3.94s/it]Corrupt JPEG data: premature end of data segment\n",
      "                 Class     Images  Instances      Box(P          R      mAP50  mAP50-95): 100%|██████████| 12/12 [00:54<00:00,  4.57s/it]"
     ]
    },
    {
     "name": "stdout",
     "output_type": "stream",
     "text": [
      "                   all        378        393      0.995      0.998      0.995      0.929\n",
      "\n",
      "      Epoch    GPU_mem   box_loss   cls_loss   dfl_loss  Instances       Size\n"
     ]
    },
    {
     "name": "stderr",
     "output_type": "stream",
     "text": [
      "\n",
      "     78/100         0G      0.488     0.3293     0.8172         31        640:  17%|█▋        | 4/24 [00:28<02:20,  7.01s/it]Corrupt JPEG data: premature end of data segment\n",
      "     78/100         0G     0.4793     0.3258      0.825         31        640:  33%|███▎      | 8/24 [00:57<01:55,  7.25s/it]Corrupt JPEG data: 1 extraneous bytes before marker 0xd9\n",
      "     78/100         0G     0.4675     0.3214      0.829         29        640:  42%|████▏     | 10/24 [01:11<01:40,  7.15s/it]Corrupt JPEG data: premature end of data segment\n",
      "     78/100         0G     0.4793     0.3235     0.8377         18        640: 100%|██████████| 24/24 [02:44<00:00,  6.87s/it]\n",
      "                 Class     Images  Instances      Box(P          R      mAP50  mAP50-95):   8%|▊         | 1/12 [00:03<00:40,  3.65s/it]Corrupt JPEG data: 1 extraneous bytes before marker 0xd9\n",
      "                 Class     Images  Instances      Box(P          R      mAP50  mAP50-95):  17%|█▋        | 2/12 [00:07<00:38,  3.86s/it]Corrupt JPEG data: premature end of data segment\n",
      "                 Class     Images  Instances      Box(P          R      mAP50  mAP50-95):  25%|██▌       | 3/12 [00:11<00:35,  3.94s/it]Corrupt JPEG data: premature end of data segment\n",
      "                 Class     Images  Instances      Box(P          R      mAP50  mAP50-95): 100%|██████████| 12/12 [00:55<00:00,  4.66s/it]"
     ]
    },
    {
     "name": "stdout",
     "output_type": "stream",
     "text": [
      "                   all        378        393      0.999          1      0.995      0.931\n"
     ]
    },
    {
     "name": "stderr",
     "output_type": "stream",
     "text": [
      "\n"
     ]
    },
    {
     "name": "stdout",
     "output_type": "stream",
     "text": [
      "\n",
      "      Epoch    GPU_mem   box_loss   cls_loss   dfl_loss  Instances       Size\n"
     ]
    },
    {
     "name": "stderr",
     "output_type": "stream",
     "text": [
      "     79/100         0G     0.5127     0.3234     0.8317         27        640:  25%|██▌       | 6/24 [00:42<02:07,  7.06s/it]Corrupt JPEG data: 1 extraneous bytes before marker 0xd9\n",
      "     79/100         0G     0.4842     0.3271     0.8375         25        640:  50%|█████     | 12/24 [01:24<01:22,  6.87s/it]Corrupt JPEG data: premature end of data segment\n",
      "     79/100         0G     0.4885     0.3301     0.8419         37        640:  83%|████████▎ | 20/24 [02:19<00:27,  6.96s/it]Corrupt JPEG data: premature end of data segment\n",
      "     79/100         0G     0.4862     0.3298       0.84         17        640: 100%|██████████| 24/24 [02:42<00:00,  6.75s/it]\n",
      "                 Class     Images  Instances      Box(P          R      mAP50  mAP50-95):   8%|▊         | 1/12 [00:03<00:39,  3.59s/it]Corrupt JPEG data: 1 extraneous bytes before marker 0xd9\n",
      "                 Class     Images  Instances      Box(P          R      mAP50  mAP50-95):  17%|█▋        | 2/12 [00:07<00:38,  3.81s/it]Corrupt JPEG data: premature end of data segment\n",
      "                 Class     Images  Instances      Box(P          R      mAP50  mAP50-95):  25%|██▌       | 3/12 [00:11<00:35,  3.90s/it]Corrupt JPEG data: premature end of data segment\n",
      "                 Class     Images  Instances      Box(P          R      mAP50  mAP50-95): 100%|██████████| 12/12 [00:55<00:00,  4.63s/it]"
     ]
    },
    {
     "name": "stdout",
     "output_type": "stream",
     "text": [
      "                   all        378        393          1          1      0.995      0.934\n"
     ]
    },
    {
     "name": "stderr",
     "output_type": "stream",
     "text": [
      "\n"
     ]
    },
    {
     "name": "stdout",
     "output_type": "stream",
     "text": [
      "\n",
      "      Epoch    GPU_mem   box_loss   cls_loss   dfl_loss  Instances       Size\n"
     ]
    },
    {
     "name": "stderr",
     "output_type": "stream",
     "text": [
      "     80/100         0G     0.4665     0.3121     0.8443         26        640:   4%|▍         | 1/24 [00:06<02:39,  6.95s/it]Corrupt JPEG data: 1 extraneous bytes before marker 0xd9\n",
      "     80/100         0G     0.4811     0.3198     0.8259         28        640:  25%|██▌       | 6/24 [00:51<02:36,  8.71s/it]Corrupt JPEG data: premature end of data segment\n",
      "     80/100         0G     0.4775     0.3236     0.8325         25        640:  38%|███▊      | 9/24 [01:12<01:51,  7.44s/it]Corrupt JPEG data: premature end of data segment\n",
      "     80/100         0G     0.4926     0.3258     0.8386         18        640: 100%|██████████| 24/24 [02:45<00:00,  6.88s/it]\n",
      "                 Class     Images  Instances      Box(P          R      mAP50  mAP50-95):   8%|▊         | 1/12 [00:03<00:37,  3.42s/it]Corrupt JPEG data: 1 extraneous bytes before marker 0xd9\n",
      "                 Class     Images  Instances      Box(P          R      mAP50  mAP50-95):  17%|█▋        | 2/12 [00:07<00:36,  3.65s/it]Corrupt JPEG data: premature end of data segment\n",
      "                 Class     Images  Instances      Box(P          R      mAP50  mAP50-95):  25%|██▌       | 3/12 [00:11<00:33,  3.76s/it]Corrupt JPEG data: premature end of data segment\n",
      "                 Class     Images  Instances      Box(P          R      mAP50  mAP50-95): 100%|██████████| 12/12 [00:53<00:00,  4.42s/it]"
     ]
    },
    {
     "name": "stdout",
     "output_type": "stream",
     "text": [
      "                   all        378        393      0.997          1      0.995      0.925\n",
      "\n",
      "      Epoch    GPU_mem   box_loss   cls_loss   dfl_loss  Instances       Size\n"
     ]
    },
    {
     "name": "stderr",
     "output_type": "stream",
     "text": [
      "\n",
      "     81/100         0G     0.4647     0.3039     0.8414         23        640:  29%|██▉       | 7/24 [00:52<02:06,  7.44s/it]Corrupt JPEG data: premature end of data segment\n",
      "     81/100         0G     0.4585     0.3127     0.8388         24        640:  46%|████▌     | 11/24 [01:20<01:30,  7.00s/it]Corrupt JPEG data: premature end of data segment\n",
      "     81/100         0G     0.4655     0.3151     0.8352         29        640:  62%|██████▎   | 15/24 [01:47<01:00,  6.76s/it]Corrupt JPEG data: 1 extraneous bytes before marker 0xd9\n",
      "     81/100         0G     0.4617     0.3124     0.8296         14        640: 100%|██████████| 24/24 [02:44<00:00,  6.84s/it]\n",
      "                 Class     Images  Instances      Box(P          R      mAP50  mAP50-95):   8%|▊         | 1/12 [00:03<00:38,  3.54s/it]Corrupt JPEG data: 1 extraneous bytes before marker 0xd9\n",
      "                 Class     Images  Instances      Box(P          R      mAP50  mAP50-95):  17%|█▋        | 2/12 [00:07<00:37,  3.70s/it]Corrupt JPEG data: premature end of data segment\n",
      "                 Class     Images  Instances      Box(P          R      mAP50  mAP50-95):  25%|██▌       | 3/12 [00:11<00:34,  3.78s/it]Corrupt JPEG data: premature end of data segment\n",
      "                 Class     Images  Instances      Box(P          R      mAP50  mAP50-95): 100%|██████████| 12/12 [00:53<00:00,  4.42s/it]"
     ]
    },
    {
     "name": "stdout",
     "output_type": "stream",
     "text": [
      "                   all        378        393      0.997          1      0.995      0.936\n"
     ]
    },
    {
     "name": "stderr",
     "output_type": "stream",
     "text": [
      "\n"
     ]
    },
    {
     "name": "stdout",
     "output_type": "stream",
     "text": [
      "\n",
      "      Epoch    GPU_mem   box_loss   cls_loss   dfl_loss  Instances       Size\n"
     ]
    },
    {
     "name": "stderr",
     "output_type": "stream",
     "text": [
      "     82/100         0G     0.4023     0.3133     0.8175         28        640:   8%|▊         | 2/24 [00:14<02:35,  7.08s/it]Corrupt JPEG data: premature end of data segment\n",
      "     82/100         0G     0.4642     0.3352     0.8393         28        640:  25%|██▌       | 6/24 [00:50<02:46,  9.24s/it]Corrupt JPEG data: 1 extraneous bytes before marker 0xd9\n",
      "     82/100         0G     0.4647     0.3172     0.8343         25        640:  75%|███████▌  | 18/24 [02:09<00:38,  6.39s/it]Corrupt JPEG data: premature end of data segment\n",
      "     82/100         0G      0.453     0.3148      0.832         19        640: 100%|██████████| 24/24 [02:45<00:00,  6.88s/it]\n",
      "                 Class     Images  Instances      Box(P          R      mAP50  mAP50-95):   8%|▊         | 1/12 [00:03<00:37,  3.40s/it]Corrupt JPEG data: 1 extraneous bytes before marker 0xd9\n",
      "                 Class     Images  Instances      Box(P          R      mAP50  mAP50-95):  17%|█▋        | 2/12 [00:07<00:36,  3.61s/it]Corrupt JPEG data: premature end of data segment\n",
      "                 Class     Images  Instances      Box(P          R      mAP50  mAP50-95):  25%|██▌       | 3/12 [00:10<00:33,  3.71s/it]Corrupt JPEG data: premature end of data segment\n",
      "                 Class     Images  Instances      Box(P          R      mAP50  mAP50-95): 100%|██████████| 12/12 [00:52<00:00,  4.41s/it]"
     ]
    },
    {
     "name": "stdout",
     "output_type": "stream",
     "text": [
      "                   all        378        393      0.994          1      0.995      0.942\n"
     ]
    },
    {
     "name": "stderr",
     "output_type": "stream",
     "text": [
      "\n"
     ]
    },
    {
     "name": "stdout",
     "output_type": "stream",
     "text": [
      "\n",
      "      Epoch    GPU_mem   box_loss   cls_loss   dfl_loss  Instances       Size\n"
     ]
    },
    {
     "name": "stderr",
     "output_type": "stream",
     "text": [
      "     83/100         0G     0.4943     0.3236     0.8342         36        640:  67%|██████▋   | 16/24 [01:56<00:52,  6.56s/it]Corrupt JPEG data: premature end of data segment\n",
      "     83/100         0G     0.4849     0.3227     0.8362         31        640:  92%|█████████▏| 22/24 [02:36<00:13,  6.62s/it]Corrupt JPEG data: premature end of data segment\n",
      "Corrupt JPEG data: 1 extraneous bytes before marker 0xd9\n",
      "     83/100         0G     0.4912      0.324     0.8382         16        640: 100%|██████████| 24/24 [02:45<00:00,  6.88s/it]\n",
      "                 Class     Images  Instances      Box(P          R      mAP50  mAP50-95):   8%|▊         | 1/12 [00:03<00:37,  3.42s/it]Corrupt JPEG data: 1 extraneous bytes before marker 0xd9\n",
      "                 Class     Images  Instances      Box(P          R      mAP50  mAP50-95):  17%|█▋        | 2/12 [00:07<00:36,  3.64s/it]Corrupt JPEG data: premature end of data segment\n",
      "                 Class     Images  Instances      Box(P          R      mAP50  mAP50-95):  25%|██▌       | 3/12 [00:11<00:33,  3.73s/it]Corrupt JPEG data: premature end of data segment\n",
      "                 Class     Images  Instances      Box(P          R      mAP50  mAP50-95): 100%|██████████| 12/12 [00:53<00:00,  4.46s/it]"
     ]
    },
    {
     "name": "stdout",
     "output_type": "stream",
     "text": [
      "                   all        378        393          1          1      0.995      0.928\n",
      "\n",
      "      Epoch    GPU_mem   box_loss   cls_loss   dfl_loss  Instances       Size\n"
     ]
    },
    {
     "name": "stderr",
     "output_type": "stream",
     "text": [
      "\n",
      "     84/100         0G     0.4837     0.3135      0.835         31        640:  71%|███████   | 17/24 [02:00<00:47,  6.79s/it]Corrupt JPEG data: 1 extraneous bytes before marker 0xd9\n",
      "Corrupt JPEG data: premature end of data segment\n",
      "     84/100         0G     0.4769     0.3097     0.8295         21        640: 100%|██████████| 24/24 [02:42<00:00,  6.76s/it]\n",
      "                 Class     Images  Instances      Box(P          R      mAP50  mAP50-95):   8%|▊         | 1/12 [00:03<00:37,  3.37s/it]Corrupt JPEG data: 1 extraneous bytes before marker 0xd9\n",
      "                 Class     Images  Instances      Box(P          R      mAP50  mAP50-95):  17%|█▋        | 2/12 [00:07<00:35,  3.56s/it]Corrupt JPEG data: premature end of data segment\n",
      "                 Class     Images  Instances      Box(P          R      mAP50  mAP50-95):  25%|██▌       | 3/12 [00:10<00:33,  3.68s/it]Corrupt JPEG data: premature end of data segment\n",
      "                 Class     Images  Instances      Box(P          R      mAP50  mAP50-95): 100%|██████████| 12/12 [00:52<00:00,  4.35s/it]"
     ]
    },
    {
     "name": "stdout",
     "output_type": "stream",
     "text": [
      "                   all        378        393          1          1      0.995      0.946\n"
     ]
    },
    {
     "name": "stderr",
     "output_type": "stream",
     "text": [
      "\n"
     ]
    },
    {
     "name": "stdout",
     "output_type": "stream",
     "text": [
      "\n",
      "      Epoch    GPU_mem   box_loss   cls_loss   dfl_loss  Instances       Size\n"
     ]
    },
    {
     "name": "stderr",
     "output_type": "stream",
     "text": [
      "     85/100         0G     0.4147     0.2893     0.8347         23        640:  25%|██▌       | 6/24 [00:41<02:04,  6.94s/it]Corrupt JPEG data: premature end of data segment\n",
      "     85/100         0G     0.4389     0.2941     0.8407         25        640:  54%|█████▍    | 13/24 [01:30<01:17,  7.03s/it]Corrupt JPEG data: 1 extraneous bytes before marker 0xd9\n",
      "     85/100         0G      0.444     0.2953     0.8353         31        640:  83%|████████▎ | 20/24 [02:18<00:27,  6.86s/it]Corrupt JPEG data: premature end of data segment\n",
      "     85/100         0G     0.4531     0.2958     0.8331         12        640: 100%|██████████| 24/24 [02:41<00:00,  6.72s/it]\n",
      "                 Class     Images  Instances      Box(P          R      mAP50  mAP50-95):   8%|▊         | 1/12 [00:03<00:39,  3.55s/it]Corrupt JPEG data: 1 extraneous bytes before marker 0xd9\n",
      "                 Class     Images  Instances      Box(P          R      mAP50  mAP50-95):  17%|█▋        | 2/12 [00:07<00:37,  3.76s/it]Corrupt JPEG data: premature end of data segment\n",
      "                 Class     Images  Instances      Box(P          R      mAP50  mAP50-95):  25%|██▌       | 3/12 [00:11<00:34,  3.89s/it]Corrupt JPEG data: premature end of data segment\n",
      "                 Class     Images  Instances      Box(P          R      mAP50  mAP50-95): 100%|██████████| 12/12 [00:54<00:00,  4.58s/it]"
     ]
    },
    {
     "name": "stdout",
     "output_type": "stream",
     "text": [
      "                   all        378        393          1          1      0.995      0.935\n",
      "\n",
      "      Epoch    GPU_mem   box_loss   cls_loss   dfl_loss  Instances       Size\n"
     ]
    },
    {
     "name": "stderr",
     "output_type": "stream",
     "text": [
      "\n",
      "     86/100         0G      0.458     0.3053     0.8423         38        640:  38%|███▊      | 9/24 [01:09<01:51,  7.44s/it]Corrupt JPEG data: premature end of data segment\n",
      "     86/100         0G     0.4381     0.2946     0.8349         24        640:  58%|█████▊    | 14/24 [01:41<01:05,  6.51s/it]Corrupt JPEG data: 1 extraneous bytes before marker 0xd9\n",
      "     86/100         0G      0.434     0.2937     0.8321         37        640:  75%|███████▌  | 18/24 [02:06<00:38,  6.40s/it]Corrupt JPEG data: premature end of data segment\n",
      "     86/100         0G      0.441     0.2965     0.8315         24        640: 100%|██████████| 24/24 [02:40<00:00,  6.69s/it]\n",
      "                 Class     Images  Instances      Box(P          R      mAP50  mAP50-95):   8%|▊         | 1/12 [00:03<00:37,  3.45s/it]Corrupt JPEG data: 1 extraneous bytes before marker 0xd9\n",
      "                 Class     Images  Instances      Box(P          R      mAP50  mAP50-95):  17%|█▋        | 2/12 [00:07<00:36,  3.62s/it]Corrupt JPEG data: premature end of data segment\n",
      "                 Class     Images  Instances      Box(P          R      mAP50  mAP50-95):  25%|██▌       | 3/12 [00:11<00:33,  3.72s/it]Corrupt JPEG data: premature end of data segment\n",
      "                 Class     Images  Instances      Box(P          R      mAP50  mAP50-95): 100%|██████████| 12/12 [00:53<00:00,  4.44s/it]"
     ]
    },
    {
     "name": "stdout",
     "output_type": "stream",
     "text": [
      "                   all        378        393          1          1      0.995      0.942\n",
      "\n",
      "      Epoch    GPU_mem   box_loss   cls_loss   dfl_loss  Instances       Size\n"
     ]
    },
    {
     "name": "stderr",
     "output_type": "stream",
     "text": [
      "\n",
      "     87/100         0G     0.4845     0.3126     0.8409         31        640:  21%|██        | 5/24 [00:37<02:26,  7.69s/it]Corrupt JPEG data: premature end of data segment\n",
      "     87/100         0G     0.4838     0.3235     0.8365         27        640:  58%|█████▊    | 14/24 [01:37<01:06,  6.60s/it]Corrupt JPEG data: premature end of data segment\n",
      "     87/100         0G     0.4686     0.3148     0.8384         28        640:  75%|███████▌  | 18/24 [02:04<00:39,  6.63s/it]Corrupt JPEG data: 1 extraneous bytes before marker 0xd9\n",
      "     87/100         0G     0.4611       0.31     0.8318         23        640: 100%|██████████| 24/24 [02:41<00:00,  6.71s/it]\n",
      "                 Class     Images  Instances      Box(P          R      mAP50  mAP50-95):   8%|▊         | 1/12 [00:03<00:38,  3.48s/it]Corrupt JPEG data: 1 extraneous bytes before marker 0xd9\n",
      "                 Class     Images  Instances      Box(P          R      mAP50  mAP50-95):  17%|█▋        | 2/12 [00:07<00:36,  3.68s/it]Corrupt JPEG data: premature end of data segment\n",
      "                 Class     Images  Instances      Box(P          R      mAP50  mAP50-95):  25%|██▌       | 3/12 [00:11<00:33,  3.77s/it]Corrupt JPEG data: premature end of data segment\n",
      "                 Class     Images  Instances      Box(P          R      mAP50  mAP50-95): 100%|██████████| 12/12 [00:53<00:00,  4.47s/it]"
     ]
    },
    {
     "name": "stdout",
     "output_type": "stream",
     "text": [
      "                   all        378        393      0.997          1      0.995      0.952\n"
     ]
    },
    {
     "name": "stderr",
     "output_type": "stream",
     "text": [
      "\n"
     ]
    },
    {
     "name": "stdout",
     "output_type": "stream",
     "text": [
      "\n",
      "      Epoch    GPU_mem   box_loss   cls_loss   dfl_loss  Instances       Size\n"
     ]
    },
    {
     "name": "stderr",
     "output_type": "stream",
     "text": [
      "     88/100         0G     0.4337     0.3033     0.8289         31        640:  58%|█████▊    | 14/24 [01:40<01:06,  6.69s/it]Corrupt JPEG data: premature end of data segment\n",
      "     88/100         0G     0.4401     0.3029     0.8274         25        640:  75%|███████▌  | 18/24 [02:06<00:40,  6.68s/it]Corrupt JPEG data: premature end of data segment\n",
      "Corrupt JPEG data: 1 extraneous bytes before marker 0xd9\n",
      "     88/100         0G     0.4439     0.2997     0.8243         23        640: 100%|██████████| 24/24 [02:43<00:00,  6.82s/it]\n",
      "                 Class     Images  Instances      Box(P          R      mAP50  mAP50-95):   8%|▊         | 1/12 [00:03<00:41,  3.75s/it]Corrupt JPEG data: 1 extraneous bytes before marker 0xd9\n",
      "                 Class     Images  Instances      Box(P          R      mAP50  mAP50-95):  17%|█▋        | 2/12 [00:07<00:39,  3.92s/it]Corrupt JPEG data: premature end of data segment\n",
      "                 Class     Images  Instances      Box(P          R      mAP50  mAP50-95):  25%|██▌       | 3/12 [00:11<00:35,  3.99s/it]Corrupt JPEG data: premature end of data segment\n",
      "                 Class     Images  Instances      Box(P          R      mAP50  mAP50-95): 100%|██████████| 12/12 [00:53<00:00,  4.48s/it]"
     ]
    },
    {
     "name": "stdout",
     "output_type": "stream",
     "text": [
      "                   all        378        393      0.997          1      0.995      0.947\n",
      "\n",
      "      Epoch    GPU_mem   box_loss   cls_loss   dfl_loss  Instances       Size\n"
     ]
    },
    {
     "name": "stderr",
     "output_type": "stream",
     "text": [
      "\n",
      "     89/100         0G      0.473     0.3098     0.8222         28        640:  42%|████▏     | 10/24 [01:13<01:37,  6.99s/it]Corrupt JPEG data: 1 extraneous bytes before marker 0xd9\n",
      "     89/100         0G     0.4747     0.3088      0.821         31        640:  58%|█████▊    | 14/24 [01:39<01:06,  6.66s/it]Corrupt JPEG data: premature end of data segment\n",
      "     89/100         0G     0.4714     0.3076     0.8209         31        640:  62%|██████▎   | 15/24 [01:46<00:59,  6.64s/it]Corrupt JPEG data: premature end of data segment\n",
      "     89/100         0G      0.475     0.3072      0.825         17        640: 100%|██████████| 24/24 [02:40<00:00,  6.69s/it]\n",
      "                 Class     Images  Instances      Box(P          R      mAP50  mAP50-95):   8%|▊         | 1/12 [00:03<00:37,  3.41s/it]Corrupt JPEG data: 1 extraneous bytes before marker 0xd9\n",
      "                 Class     Images  Instances      Box(P          R      mAP50  mAP50-95):  17%|█▋        | 2/12 [00:07<00:36,  3.61s/it]Corrupt JPEG data: premature end of data segment\n",
      "                 Class     Images  Instances      Box(P          R      mAP50  mAP50-95):  25%|██▌       | 3/12 [00:11<00:33,  3.73s/it]Corrupt JPEG data: premature end of data segment\n",
      "                 Class     Images  Instances      Box(P          R      mAP50  mAP50-95): 100%|██████████| 12/12 [00:52<00:00,  4.39s/it]"
     ]
    },
    {
     "name": "stdout",
     "output_type": "stream",
     "text": [
      "                   all        378        393      0.999          1      0.995      0.946\n",
      "\n",
      "      Epoch    GPU_mem   box_loss   cls_loss   dfl_loss  Instances       Size\n"
     ]
    },
    {
     "name": "stderr",
     "output_type": "stream",
     "text": [
      "\n",
      "     90/100         0G     0.4027     0.2764     0.8342         27        640:   8%|▊         | 2/24 [00:14<02:35,  7.06s/it]Corrupt JPEG data: premature end of data segment\n",
      "     90/100         0G     0.4191     0.2905     0.8362         23        640:  50%|█████     | 12/24 [01:26<01:21,  6.78s/it]Corrupt JPEG data: premature end of data segment\n",
      "     90/100         0G     0.4439     0.2963      0.838         27        640:  92%|█████████▏| 22/24 [02:32<00:13,  6.61s/it]Corrupt JPEG data: 1 extraneous bytes before marker 0xd9\n",
      "     90/100         0G     0.4508     0.2988      0.838         24        640: 100%|██████████| 24/24 [02:41<00:00,  6.71s/it]\n",
      "                 Class     Images  Instances      Box(P          R      mAP50  mAP50-95):   8%|▊         | 1/12 [00:03<00:37,  3.39s/it]Corrupt JPEG data: 1 extraneous bytes before marker 0xd9\n",
      "                 Class     Images  Instances      Box(P          R      mAP50  mAP50-95):  17%|█▋        | 2/12 [00:07<00:36,  3.60s/it]Corrupt JPEG data: premature end of data segment\n",
      "                 Class     Images  Instances      Box(P          R      mAP50  mAP50-95):  25%|██▌       | 3/12 [00:10<00:33,  3.70s/it]Corrupt JPEG data: premature end of data segment\n",
      "                 Class     Images  Instances      Box(P          R      mAP50  mAP50-95): 100%|██████████| 12/12 [00:52<00:00,  4.37s/it]"
     ]
    },
    {
     "name": "stdout",
     "output_type": "stream",
     "text": [
      "                   all        378        393      0.999          1      0.995      0.947\n",
      "Closing dataloader mosaic\n",
      "\n",
      "      Epoch    GPU_mem   box_loss   cls_loss   dfl_loss  Instances       Size\n"
     ]
    },
    {
     "name": "stderr",
     "output_type": "stream",
     "text": [
      "\n",
      "     91/100         0G     0.4282     0.2802     0.8064         18        640:  21%|██        | 5/24 [00:42<02:46,  8.75s/it]Corrupt JPEG data: premature end of data segment\n",
      "     91/100         0G       0.43     0.2793     0.8184         17        640:  46%|████▌     | 11/24 [01:25<01:32,  7.14s/it]Corrupt JPEG data: premature end of data segment\n",
      "     91/100         0G       0.44     0.2825     0.8127         16        640:  67%|██████▋   | 16/24 [01:58<00:54,  6.77s/it]Corrupt JPEG data: 1 extraneous bytes before marker 0xd9\n",
      "     91/100         0G     0.4345     0.2801     0.8055         11        640: 100%|██████████| 24/24 [02:46<00:00,  6.94s/it]\n",
      "                 Class     Images  Instances      Box(P          R      mAP50  mAP50-95):   8%|▊         | 1/12 [00:03<00:37,  3.44s/it]Corrupt JPEG data: 1 extraneous bytes before marker 0xd9\n",
      "                 Class     Images  Instances      Box(P          R      mAP50  mAP50-95):  17%|█▋        | 2/12 [00:07<00:36,  3.64s/it]Corrupt JPEG data: premature end of data segment\n",
      "                 Class     Images  Instances      Box(P          R      mAP50  mAP50-95):  25%|██▌       | 3/12 [00:11<00:33,  3.75s/it]Corrupt JPEG data: premature end of data segment\n",
      "                 Class     Images  Instances      Box(P          R      mAP50  mAP50-95): 100%|██████████| 12/12 [00:53<00:00,  4.46s/it]"
     ]
    },
    {
     "name": "stdout",
     "output_type": "stream",
     "text": [
      "                   all        378        393      0.997          1      0.995      0.944\n",
      "\n",
      "      Epoch    GPU_mem   box_loss   cls_loss   dfl_loss  Instances       Size\n"
     ]
    },
    {
     "name": "stderr",
     "output_type": "stream",
     "text": [
      "\n",
      "     92/100         0G     0.4198     0.2784     0.8119         17        640:  38%|███▊      | 9/24 [01:05<01:44,  6.97s/it]Corrupt JPEG data: premature end of data segment\n",
      "     92/100         0G     0.4283     0.2771     0.8134         16        640:  75%|███████▌  | 18/24 [02:03<00:39,  6.52s/it]Corrupt JPEG data: 1 extraneous bytes before marker 0xd9\n",
      "     92/100         0G     0.4205     0.2737     0.8112         17        640:  83%|████████▎ | 20/24 [02:17<00:26,  6.59s/it]Corrupt JPEG data: premature end of data segment\n",
      "     92/100         0G     0.4265     0.2763     0.8142         10        640: 100%|██████████| 24/24 [02:39<00:00,  6.64s/it]\n",
      "                 Class     Images  Instances      Box(P          R      mAP50  mAP50-95):   8%|▊         | 1/12 [00:03<00:39,  3.60s/it]Corrupt JPEG data: 1 extraneous bytes before marker 0xd9\n",
      "                 Class     Images  Instances      Box(P          R      mAP50  mAP50-95):  17%|█▋        | 2/12 [00:07<00:37,  3.72s/it]Corrupt JPEG data: premature end of data segment\n",
      "                 Class     Images  Instances      Box(P          R      mAP50  mAP50-95):  25%|██▌       | 3/12 [00:11<00:34,  3.82s/it]Corrupt JPEG data: premature end of data segment\n",
      "                 Class     Images  Instances      Box(P          R      mAP50  mAP50-95): 100%|██████████| 12/12 [00:54<00:00,  4.51s/it]"
     ]
    },
    {
     "name": "stdout",
     "output_type": "stream",
     "text": [
      "                   all        378        393      0.999          1      0.995      0.952\n"
     ]
    },
    {
     "name": "stderr",
     "output_type": "stream",
     "text": [
      "\n"
     ]
    },
    {
     "name": "stdout",
     "output_type": "stream",
     "text": [
      "\n",
      "      Epoch    GPU_mem   box_loss   cls_loss   dfl_loss  Instances       Size\n"
     ]
    },
    {
     "name": "stderr",
     "output_type": "stream",
     "text": [
      "     93/100         0G     0.4441     0.2749     0.7984         16        640:  25%|██▌       | 6/24 [00:45<02:16,  7.60s/it]Corrupt JPEG data: premature end of data segment\n",
      "     93/100         0G     0.4521     0.2817     0.8015         17        640:  33%|███▎      | 8/24 [00:59<01:55,  7.22s/it]Corrupt JPEG data: 1 extraneous bytes before marker 0xd9\n",
      "     93/100         0G     0.4447     0.2781     0.8147         10        640: 100%|██████████| 24/24 [02:38<00:00,  6.61s/it]\n",
      "                 Class     Images  Instances      Box(P          R      mAP50  mAP50-95):   8%|▊         | 1/12 [00:03<00:38,  3.54s/it]Corrupt JPEG data: 1 extraneous bytes before marker 0xd9\n",
      "                 Class     Images  Instances      Box(P          R      mAP50  mAP50-95):  17%|█▋        | 2/12 [00:07<00:36,  3.68s/it]Corrupt JPEG data: premature end of data segment\n",
      "                 Class     Images  Instances      Box(P          R      mAP50  mAP50-95):  25%|██▌       | 3/12 [00:11<00:33,  3.77s/it]Corrupt JPEG data: premature end of data segment\n",
      "                 Class     Images  Instances      Box(P          R      mAP50  mAP50-95): 100%|██████████| 12/12 [00:53<00:00,  4.43s/it]"
     ]
    },
    {
     "name": "stdout",
     "output_type": "stream",
     "text": [
      "                   all        378        393          1          1      0.995      0.943\n"
     ]
    },
    {
     "name": "stderr",
     "output_type": "stream",
     "text": [
      "\n"
     ]
    },
    {
     "name": "stdout",
     "output_type": "stream",
     "text": [
      "\n",
      "      Epoch    GPU_mem   box_loss   cls_loss   dfl_loss  Instances       Size\n"
     ]
    },
    {
     "name": "stderr",
     "output_type": "stream",
     "text": [
      "     94/100         0G     0.4304     0.2845     0.8259         19        640:  12%|█▎        | 3/24 [00:22<02:40,  7.63s/it]Corrupt JPEG data: premature end of data segment\n",
      "     94/100         0G     0.4258     0.2779      0.815         15        640:  75%|███████▌  | 18/24 [02:03<00:38,  6.42s/it]Corrupt JPEG data: 1 extraneous bytes before marker 0xd9\n",
      "     94/100         0G     0.4291     0.2783     0.8188         16        640:  83%|████████▎ | 20/24 [02:16<00:25,  6.45s/it]Corrupt JPEG data: premature end of data segment\n",
      "     94/100         0G     0.4208     0.2817     0.8129         10        640: 100%|██████████| 24/24 [02:38<00:00,  6.59s/it]\n",
      "                 Class     Images  Instances      Box(P          R      mAP50  mAP50-95):   8%|▊         | 1/12 [00:03<00:37,  3.39s/it]Corrupt JPEG data: 1 extraneous bytes before marker 0xd9\n",
      "                 Class     Images  Instances      Box(P          R      mAP50  mAP50-95):  17%|█▋        | 2/12 [00:07<00:35,  3.59s/it]Corrupt JPEG data: premature end of data segment\n",
      "                 Class     Images  Instances      Box(P          R      mAP50  mAP50-95):  25%|██▌       | 3/12 [00:10<00:33,  3.69s/it]Corrupt JPEG data: premature end of data segment\n",
      "                 Class     Images  Instances      Box(P          R      mAP50  mAP50-95): 100%|██████████| 12/12 [00:52<00:00,  4.40s/it]"
     ]
    },
    {
     "name": "stdout",
     "output_type": "stream",
     "text": [
      "                   all        378        393          1          1      0.995      0.948\n",
      "\n",
      "      Epoch    GPU_mem   box_loss   cls_loss   dfl_loss  Instances       Size\n"
     ]
    },
    {
     "name": "stderr",
     "output_type": "stream",
     "text": [
      "\n",
      "     95/100         0G     0.4155     0.2711     0.8091         16        640:  62%|██████▎   | 15/24 [01:44<00:58,  6.50s/it]Corrupt JPEG data: premature end of data segment\n",
      "     95/100         0G     0.4187     0.2703     0.8073         17        640:  83%|████████▎ | 20/24 [02:16<00:26,  6.56s/it]Corrupt JPEG data: 1 extraneous bytes before marker 0xd9\n",
      "     95/100         0G     0.4191     0.2683     0.8042         10        640: 100%|██████████| 24/24 [02:38<00:00,  6.61s/it]\n",
      "                 Class     Images  Instances      Box(P          R      mAP50  mAP50-95):   8%|▊         | 1/12 [00:03<00:37,  3.44s/it]Corrupt JPEG data: 1 extraneous bytes before marker 0xd9\n",
      "                 Class     Images  Instances      Box(P          R      mAP50  mAP50-95):  17%|█▋        | 2/12 [00:07<00:36,  3.62s/it]Corrupt JPEG data: premature end of data segment\n",
      "                 Class     Images  Instances      Box(P          R      mAP50  mAP50-95):  25%|██▌       | 3/12 [00:11<00:33,  3.72s/it]Corrupt JPEG data: premature end of data segment\n",
      "                 Class     Images  Instances      Box(P          R      mAP50  mAP50-95): 100%|██████████| 12/12 [00:52<00:00,  4.41s/it]"
     ]
    },
    {
     "name": "stdout",
     "output_type": "stream",
     "text": [
      "                   all        378        393          1          1      0.995      0.952\n",
      "\n",
      "      Epoch    GPU_mem   box_loss   cls_loss   dfl_loss  Instances       Size\n"
     ]
    },
    {
     "name": "stderr",
     "output_type": "stream",
     "text": [
      "\n",
      "     96/100         0G     0.3884     0.2587     0.7987         17        640:  58%|█████▊    | 14/24 [01:39<01:09,  6.95s/it]Corrupt JPEG data: premature end of data segment\n",
      "     96/100         0G     0.3891     0.2572     0.8033         17        640:  75%|███████▌  | 18/24 [02:06<00:40,  6.81s/it]Corrupt JPEG data: premature end of data segment\n",
      "     96/100         0G     0.3942     0.2609     0.7984         17        640:  96%|█████████▌| 23/24 [02:39<00:06,  6.59s/it]Corrupt JPEG data: 1 extraneous bytes before marker 0xd9\n",
      "     96/100         0G     0.3993     0.2627      0.798         10        640: 100%|██████████| 24/24 [02:41<00:00,  6.72s/it]\n",
      "                 Class     Images  Instances      Box(P          R      mAP50  mAP50-95):   8%|▊         | 1/12 [00:03<00:37,  3.41s/it]Corrupt JPEG data: 1 extraneous bytes before marker 0xd9\n",
      "                 Class     Images  Instances      Box(P          R      mAP50  mAP50-95):  17%|█▋        | 2/12 [00:07<00:36,  3.64s/it]Corrupt JPEG data: premature end of data segment\n",
      "                 Class     Images  Instances      Box(P          R      mAP50  mAP50-95):  25%|██▌       | 3/12 [00:11<00:33,  3.74s/it]Corrupt JPEG data: premature end of data segment\n",
      "                 Class     Images  Instances      Box(P          R      mAP50  mAP50-95): 100%|██████████| 12/12 [00:52<00:00,  4.40s/it]"
     ]
    },
    {
     "name": "stdout",
     "output_type": "stream",
     "text": [
      "                   all        378        393          1          1      0.995      0.952\n"
     ]
    },
    {
     "name": "stderr",
     "output_type": "stream",
     "text": [
      "\n"
     ]
    },
    {
     "name": "stdout",
     "output_type": "stream",
     "text": [
      "\n",
      "      Epoch    GPU_mem   box_loss   cls_loss   dfl_loss  Instances       Size\n"
     ]
    },
    {
     "name": "stderr",
     "output_type": "stream",
     "text": [
      "     97/100         0G     0.3876     0.2558     0.8004         16        640:  71%|███████   | 17/24 [01:57<00:44,  6.40s/it]Corrupt JPEG data: premature end of data segment\n",
      "Corrupt JPEG data: premature end of data segment\n",
      "     97/100         0G     0.3847     0.2563     0.8052         10        640: 100%|██████████| 24/24 [02:37<00:00,  6.55s/it]\n",
      "                 Class     Images  Instances      Box(P          R      mAP50  mAP50-95):   8%|▊         | 1/12 [00:03<00:37,  3.44s/it]Corrupt JPEG data: 1 extraneous bytes before marker 0xd9\n",
      "                 Class     Images  Instances      Box(P          R      mAP50  mAP50-95):  17%|█▋        | 2/12 [00:07<00:36,  3.66s/it]Corrupt JPEG data: premature end of data segment\n",
      "                 Class     Images  Instances      Box(P          R      mAP50  mAP50-95):  25%|██▌       | 3/12 [00:11<00:33,  3.74s/it]Corrupt JPEG data: premature end of data segment\n",
      "                 Class     Images  Instances      Box(P          R      mAP50  mAP50-95): 100%|██████████| 12/12 [00:52<00:00,  4.42s/it]"
     ]
    },
    {
     "name": "stdout",
     "output_type": "stream",
     "text": [
      "                   all        378        393      0.999          1      0.995      0.955\n"
     ]
    },
    {
     "name": "stderr",
     "output_type": "stream",
     "text": [
      "\n"
     ]
    },
    {
     "name": "stdout",
     "output_type": "stream",
     "text": [
      "\n",
      "      Epoch    GPU_mem   box_loss   cls_loss   dfl_loss  Instances       Size\n"
     ]
    },
    {
     "name": "stderr",
     "output_type": "stream",
     "text": [
      "     98/100         0G     0.3793     0.2538     0.7924         16        640:  38%|███▊      | 9/24 [01:10<01:51,  7.43s/it]Corrupt JPEG data: 1 extraneous bytes before marker 0xd9\n",
      "Corrupt JPEG data: premature end of data segment\n",
      "     98/100         0G     0.3781     0.2556     0.8013         16        640:  92%|█████████▏| 22/24 [02:33<00:12,  6.42s/it]Corrupt JPEG data: premature end of data segment\n",
      "     98/100         0G     0.3841     0.2565     0.7998         13        640: 100%|██████████| 24/24 [02:42<00:00,  6.76s/it]\n",
      "                 Class     Images  Instances      Box(P          R      mAP50  mAP50-95):   8%|▊         | 1/12 [00:03<00:37,  3.44s/it]Corrupt JPEG data: 1 extraneous bytes before marker 0xd9\n",
      "                 Class     Images  Instances      Box(P          R      mAP50  mAP50-95):  17%|█▋        | 2/12 [00:07<00:36,  3.63s/it]Corrupt JPEG data: premature end of data segment\n",
      "                 Class     Images  Instances      Box(P          R      mAP50  mAP50-95):  25%|██▌       | 3/12 [00:11<00:33,  3.73s/it]Corrupt JPEG data: premature end of data segment\n",
      "                 Class     Images  Instances      Box(P          R      mAP50  mAP50-95): 100%|██████████| 12/12 [00:52<00:00,  4.41s/it]"
     ]
    },
    {
     "name": "stdout",
     "output_type": "stream",
     "text": [
      "                   all        378        393      0.999          1      0.995      0.952\n",
      "\n",
      "      Epoch    GPU_mem   box_loss   cls_loss   dfl_loss  Instances       Size\n"
     ]
    },
    {
     "name": "stderr",
     "output_type": "stream",
     "text": [
      "\n",
      "     99/100         0G      0.375      0.246     0.8026         16        640:  12%|█▎        | 3/24 [00:21<02:33,  7.31s/it]Corrupt JPEG data: 1 extraneous bytes before marker 0xd9\n",
      "     99/100         0G     0.3858     0.2503     0.8059         16        640:  71%|███████   | 17/24 [01:57<00:46,  6.57s/it]Corrupt JPEG data: premature end of data segment\n",
      "     99/100         0G     0.3871     0.2491     0.8016         10        640: 100%|██████████| 24/24 [02:38<00:00,  6.59s/it]\n",
      "                 Class     Images  Instances      Box(P          R      mAP50  mAP50-95):   8%|▊         | 1/12 [00:03<00:37,  3.39s/it]Corrupt JPEG data: 1 extraneous bytes before marker 0xd9\n",
      "                 Class     Images  Instances      Box(P          R      mAP50  mAP50-95):  17%|█▋        | 2/12 [00:07<00:36,  3.60s/it]Corrupt JPEG data: premature end of data segment\n",
      "                 Class     Images  Instances      Box(P          R      mAP50  mAP50-95):  25%|██▌       | 3/12 [00:10<00:33,  3.71s/it]Corrupt JPEG data: premature end of data segment\n",
      "                 Class     Images  Instances      Box(P          R      mAP50  mAP50-95): 100%|██████████| 12/12 [00:53<00:00,  4.43s/it]"
     ]
    },
    {
     "name": "stdout",
     "output_type": "stream",
     "text": [
      "                   all        378        393      0.999          1      0.995      0.957\n"
     ]
    },
    {
     "name": "stderr",
     "output_type": "stream",
     "text": [
      "\n"
     ]
    },
    {
     "name": "stdout",
     "output_type": "stream",
     "text": [
      "\n",
      "      Epoch    GPU_mem   box_loss   cls_loss   dfl_loss  Instances       Size\n"
     ]
    },
    {
     "name": "stderr",
     "output_type": "stream",
     "text": [
      "    100/100         0G      0.375     0.2491     0.7996         16        640:  67%|██████▋   | 16/24 [01:55<00:52,  6.52s/it]Corrupt JPEG data: premature end of data segment\n",
      "    100/100         0G     0.3791      0.251     0.7991         18        640:  96%|█████████▌| 23/24 [02:42<00:06,  6.76s/it]Corrupt JPEG data: 1 extraneous bytes before marker 0xd9\n",
      "    100/100         0G     0.3808     0.2515     0.8003         11        640: 100%|██████████| 24/24 [02:44<00:00,  6.86s/it]\n",
      "                 Class     Images  Instances      Box(P          R      mAP50  mAP50-95):   8%|▊         | 1/12 [00:03<00:40,  3.67s/it]Corrupt JPEG data: 1 extraneous bytes before marker 0xd9\n",
      "                 Class     Images  Instances      Box(P          R      mAP50  mAP50-95):  17%|█▋        | 2/12 [00:07<00:38,  3.87s/it]Corrupt JPEG data: premature end of data segment\n",
      "                 Class     Images  Instances      Box(P          R      mAP50  mAP50-95):  25%|██▌       | 3/12 [00:11<00:35,  3.98s/it]Corrupt JPEG data: premature end of data segment\n",
      "                 Class     Images  Instances      Box(P          R      mAP50  mAP50-95): 100%|██████████| 12/12 [00:56<00:00,  4.71s/it]"
     ]
    },
    {
     "name": "stdout",
     "output_type": "stream",
     "text": [
      "                   all        378        393      0.999          1      0.995      0.959\n"
     ]
    },
    {
     "name": "stderr",
     "output_type": "stream",
     "text": [
      "\n"
     ]
    },
    {
     "name": "stdout",
     "output_type": "stream",
     "text": [
      "\n",
      "100 epochs completed in 5.889 hours.\n",
      "Optimizer stripped from /Users/simon/Documents/Github/ITE-5310-Machine-Learning-Assignment10/runs/detect/train/weights/last.pt, 6.3MB\n",
      "Optimizer stripped from /Users/simon/Documents/Github/ITE-5310-Machine-Learning-Assignment10/runs/detect/train/weights/best.pt, 6.3MB\n",
      "\n",
      "Validating /Users/simon/Documents/Github/ITE-5310-Machine-Learning-Assignment10/runs/detect/train/weights/best.pt...\n",
      "Ultralytics YOLOv8.0.212 🚀 Python-3.11.5 torch-2.1.1 CPU (Apple M2)\n",
      "Model summary (fused): 168 layers, 3005843 parameters, 0 gradients, 8.1 GFLOPs\n"
     ]
    },
    {
     "name": "stderr",
     "output_type": "stream",
     "text": [
      "                 Class     Images  Instances      Box(P          R      mAP50  mAP50-95):   8%|▊         | 1/12 [00:03<00:38,  3.54s/it]Corrupt JPEG data: 1 extraneous bytes before marker 0xd9\n",
      "                 Class     Images  Instances      Box(P          R      mAP50  mAP50-95):  17%|█▋        | 2/12 [00:07<00:38,  3.85s/it]Corrupt JPEG data: premature end of data segment\n",
      "                 Class     Images  Instances      Box(P          R      mAP50  mAP50-95):  25%|██▌       | 3/12 [00:12<00:38,  4.25s/it]Corrupt JPEG data: premature end of data segment\n",
      "                 Class     Images  Instances      Box(P          R      mAP50  mAP50-95): 100%|██████████| 12/12 [00:57<00:00,  4.76s/it]\n"
     ]
    },
    {
     "name": "stdout",
     "output_type": "stream",
     "text": [
      "                   all        378        393      0.999          1      0.995      0.959\n",
      "Speed: 0.9ms preprocess, 133.8ms inference, 0.0ms loss, 0.3ms postprocess per image\n",
      "Results saved to \u001b[1m/Users/simon/Documents/Github/ITE-5310-Machine-Learning-Assignment10/runs/detect/train\u001b[0m\n"
     ]
    },
    {
     "data": {
      "text/plain": [
       "ultralytics.utils.metrics.DetMetrics object with attributes:\n",
       "\n",
       "ap_class_index: array([0])\n",
       "box: ultralytics.utils.metrics.Metric object\n",
       "confusion_matrix: <ultralytics.utils.metrics.ConfusionMatrix object at 0x28a8ad010>\n",
       "curves: ['Precision-Recall(B)', 'F1-Confidence(B)', 'Precision-Confidence(B)', 'Recall-Confidence(B)']\n",
       "curves_results: [[array([          0,    0.001001,    0.002002,    0.003003,    0.004004,    0.005005,    0.006006,    0.007007,    0.008008,    0.009009,     0.01001,    0.011011,    0.012012,    0.013013,    0.014014,    0.015015,    0.016016,    0.017017,    0.018018,    0.019019,     0.02002,    0.021021,    0.022022,    0.023023,\n",
       "          0.024024,    0.025025,    0.026026,    0.027027,    0.028028,    0.029029,     0.03003,    0.031031,    0.032032,    0.033033,    0.034034,    0.035035,    0.036036,    0.037037,    0.038038,    0.039039,     0.04004,    0.041041,    0.042042,    0.043043,    0.044044,    0.045045,    0.046046,    0.047047,\n",
       "          0.048048,    0.049049,     0.05005,    0.051051,    0.052052,    0.053053,    0.054054,    0.055055,    0.056056,    0.057057,    0.058058,    0.059059,     0.06006,    0.061061,    0.062062,    0.063063,    0.064064,    0.065065,    0.066066,    0.067067,    0.068068,    0.069069,     0.07007,    0.071071,\n",
       "          0.072072,    0.073073,    0.074074,    0.075075,    0.076076,    0.077077,    0.078078,    0.079079,     0.08008,    0.081081,    0.082082,    0.083083,    0.084084,    0.085085,    0.086086,    0.087087,    0.088088,    0.089089,     0.09009,    0.091091,    0.092092,    0.093093,    0.094094,    0.095095,\n",
       "          0.096096,    0.097097,    0.098098,    0.099099,      0.1001,      0.1011,      0.1021,      0.1031,      0.1041,     0.10511,     0.10611,     0.10711,     0.10811,     0.10911,     0.11011,     0.11111,     0.11211,     0.11311,     0.11411,     0.11512,     0.11612,     0.11712,     0.11812,     0.11912,\n",
       "           0.12012,     0.12112,     0.12212,     0.12312,     0.12412,     0.12513,     0.12613,     0.12713,     0.12813,     0.12913,     0.13013,     0.13113,     0.13213,     0.13313,     0.13413,     0.13514,     0.13614,     0.13714,     0.13814,     0.13914,     0.14014,     0.14114,     0.14214,     0.14314,\n",
       "           0.14414,     0.14515,     0.14615,     0.14715,     0.14815,     0.14915,     0.15015,     0.15115,     0.15215,     0.15315,     0.15415,     0.15516,     0.15616,     0.15716,     0.15816,     0.15916,     0.16016,     0.16116,     0.16216,     0.16316,     0.16416,     0.16517,     0.16617,     0.16717,\n",
       "           0.16817,     0.16917,     0.17017,     0.17117,     0.17217,     0.17317,     0.17417,     0.17518,     0.17618,     0.17718,     0.17818,     0.17918,     0.18018,     0.18118,     0.18218,     0.18318,     0.18418,     0.18519,     0.18619,     0.18719,     0.18819,     0.18919,     0.19019,     0.19119,\n",
       "           0.19219,     0.19319,     0.19419,      0.1952,      0.1962,      0.1972,      0.1982,      0.1992,      0.2002,      0.2012,      0.2022,      0.2032,      0.2042,     0.20521,     0.20621,     0.20721,     0.20821,     0.20921,     0.21021,     0.21121,     0.21221,     0.21321,     0.21421,     0.21522,\n",
       "           0.21622,     0.21722,     0.21822,     0.21922,     0.22022,     0.22122,     0.22222,     0.22322,     0.22422,     0.22523,     0.22623,     0.22723,     0.22823,     0.22923,     0.23023,     0.23123,     0.23223,     0.23323,     0.23423,     0.23524,     0.23624,     0.23724,     0.23824,     0.23924,\n",
       "           0.24024,     0.24124,     0.24224,     0.24324,     0.24424,     0.24525,     0.24625,     0.24725,     0.24825,     0.24925,     0.25025,     0.25125,     0.25225,     0.25325,     0.25425,     0.25526,     0.25626,     0.25726,     0.25826,     0.25926,     0.26026,     0.26126,     0.26226,     0.26326,\n",
       "           0.26426,     0.26527,     0.26627,     0.26727,     0.26827,     0.26927,     0.27027,     0.27127,     0.27227,     0.27327,     0.27427,     0.27528,     0.27628,     0.27728,     0.27828,     0.27928,     0.28028,     0.28128,     0.28228,     0.28328,     0.28428,     0.28529,     0.28629,     0.28729,\n",
       "           0.28829,     0.28929,     0.29029,     0.29129,     0.29229,     0.29329,     0.29429,      0.2953,      0.2963,      0.2973,      0.2983,      0.2993,      0.3003,      0.3013,      0.3023,      0.3033,      0.3043,     0.30531,     0.30631,     0.30731,     0.30831,     0.30931,     0.31031,     0.31131,\n",
       "           0.31231,     0.31331,     0.31431,     0.31532,     0.31632,     0.31732,     0.31832,     0.31932,     0.32032,     0.32132,     0.32232,     0.32332,     0.32432,     0.32533,     0.32633,     0.32733,     0.32833,     0.32933,     0.33033,     0.33133,     0.33233,     0.33333,     0.33433,     0.33534,\n",
       "           0.33634,     0.33734,     0.33834,     0.33934,     0.34034,     0.34134,     0.34234,     0.34334,     0.34434,     0.34535,     0.34635,     0.34735,     0.34835,     0.34935,     0.35035,     0.35135,     0.35235,     0.35335,     0.35435,     0.35536,     0.35636,     0.35736,     0.35836,     0.35936,\n",
       "           0.36036,     0.36136,     0.36236,     0.36336,     0.36436,     0.36537,     0.36637,     0.36737,     0.36837,     0.36937,     0.37037,     0.37137,     0.37237,     0.37337,     0.37437,     0.37538,     0.37638,     0.37738,     0.37838,     0.37938,     0.38038,     0.38138,     0.38238,     0.38338,\n",
       "           0.38438,     0.38539,     0.38639,     0.38739,     0.38839,     0.38939,     0.39039,     0.39139,     0.39239,     0.39339,     0.39439,      0.3954,      0.3964,      0.3974,      0.3984,      0.3994,      0.4004,      0.4014,      0.4024,      0.4034,      0.4044,     0.40541,     0.40641,     0.40741,\n",
       "           0.40841,     0.40941,     0.41041,     0.41141,     0.41241,     0.41341,     0.41441,     0.41542,     0.41642,     0.41742,     0.41842,     0.41942,     0.42042,     0.42142,     0.42242,     0.42342,     0.42442,     0.42543,     0.42643,     0.42743,     0.42843,     0.42943,     0.43043,     0.43143,\n",
       "           0.43243,     0.43343,     0.43443,     0.43544,     0.43644,     0.43744,     0.43844,     0.43944,     0.44044,     0.44144,     0.44244,     0.44344,     0.44444,     0.44545,     0.44645,     0.44745,     0.44845,     0.44945,     0.45045,     0.45145,     0.45245,     0.45345,     0.45445,     0.45546,\n",
       "           0.45646,     0.45746,     0.45846,     0.45946,     0.46046,     0.46146,     0.46246,     0.46346,     0.46446,     0.46547,     0.46647,     0.46747,     0.46847,     0.46947,     0.47047,     0.47147,     0.47247,     0.47347,     0.47447,     0.47548,     0.47648,     0.47748,     0.47848,     0.47948,\n",
       "           0.48048,     0.48148,     0.48248,     0.48348,     0.48448,     0.48549,     0.48649,     0.48749,     0.48849,     0.48949,     0.49049,     0.49149,     0.49249,     0.49349,     0.49449,      0.4955,      0.4965,      0.4975,      0.4985,      0.4995,      0.5005,      0.5015,      0.5025,      0.5035,\n",
       "            0.5045,     0.50551,     0.50651,     0.50751,     0.50851,     0.50951,     0.51051,     0.51151,     0.51251,     0.51351,     0.51451,     0.51552,     0.51652,     0.51752,     0.51852,     0.51952,     0.52052,     0.52152,     0.52252,     0.52352,     0.52452,     0.52553,     0.52653,     0.52753,\n",
       "           0.52853,     0.52953,     0.53053,     0.53153,     0.53253,     0.53353,     0.53453,     0.53554,     0.53654,     0.53754,     0.53854,     0.53954,     0.54054,     0.54154,     0.54254,     0.54354,     0.54454,     0.54555,     0.54655,     0.54755,     0.54855,     0.54955,     0.55055,     0.55155,\n",
       "           0.55255,     0.55355,     0.55455,     0.55556,     0.55656,     0.55756,     0.55856,     0.55956,     0.56056,     0.56156,     0.56256,     0.56356,     0.56456,     0.56557,     0.56657,     0.56757,     0.56857,     0.56957,     0.57057,     0.57157,     0.57257,     0.57357,     0.57457,     0.57558,\n",
       "           0.57658,     0.57758,     0.57858,     0.57958,     0.58058,     0.58158,     0.58258,     0.58358,     0.58458,     0.58559,     0.58659,     0.58759,     0.58859,     0.58959,     0.59059,     0.59159,     0.59259,     0.59359,     0.59459,      0.5956,      0.5966,      0.5976,      0.5986,      0.5996,\n",
       "            0.6006,      0.6016,      0.6026,      0.6036,      0.6046,     0.60561,     0.60661,     0.60761,     0.60861,     0.60961,     0.61061,     0.61161,     0.61261,     0.61361,     0.61461,     0.61562,     0.61662,     0.61762,     0.61862,     0.61962,     0.62062,     0.62162,     0.62262,     0.62362,\n",
       "           0.62462,     0.62563,     0.62663,     0.62763,     0.62863,     0.62963,     0.63063,     0.63163,     0.63263,     0.63363,     0.63463,     0.63564,     0.63664,     0.63764,     0.63864,     0.63964,     0.64064,     0.64164,     0.64264,     0.64364,     0.64464,     0.64565,     0.64665,     0.64765,\n",
       "           0.64865,     0.64965,     0.65065,     0.65165,     0.65265,     0.65365,     0.65465,     0.65566,     0.65666,     0.65766,     0.65866,     0.65966,     0.66066,     0.66166,     0.66266,     0.66366,     0.66466,     0.66567,     0.66667,     0.66767,     0.66867,     0.66967,     0.67067,     0.67167,\n",
       "           0.67267,     0.67367,     0.67467,     0.67568,     0.67668,     0.67768,     0.67868,     0.67968,     0.68068,     0.68168,     0.68268,     0.68368,     0.68468,     0.68569,     0.68669,     0.68769,     0.68869,     0.68969,     0.69069,     0.69169,     0.69269,     0.69369,     0.69469,      0.6957,\n",
       "            0.6967,      0.6977,      0.6987,      0.6997,      0.7007,      0.7017,      0.7027,      0.7037,      0.7047,     0.70571,     0.70671,     0.70771,     0.70871,     0.70971,     0.71071,     0.71171,     0.71271,     0.71371,     0.71471,     0.71572,     0.71672,     0.71772,     0.71872,     0.71972,\n",
       "           0.72072,     0.72172,     0.72272,     0.72372,     0.72472,     0.72573,     0.72673,     0.72773,     0.72873,     0.72973,     0.73073,     0.73173,     0.73273,     0.73373,     0.73473,     0.73574,     0.73674,     0.73774,     0.73874,     0.73974,     0.74074,     0.74174,     0.74274,     0.74374,\n",
       "           0.74474,     0.74575,     0.74675,     0.74775,     0.74875,     0.74975,     0.75075,     0.75175,     0.75275,     0.75375,     0.75475,     0.75576,     0.75676,     0.75776,     0.75876,     0.75976,     0.76076,     0.76176,     0.76276,     0.76376,     0.76476,     0.76577,     0.76677,     0.76777,\n",
       "           0.76877,     0.76977,     0.77077,     0.77177,     0.77277,     0.77377,     0.77477,     0.77578,     0.77678,     0.77778,     0.77878,     0.77978,     0.78078,     0.78178,     0.78278,     0.78378,     0.78478,     0.78579,     0.78679,     0.78779,     0.78879,     0.78979,     0.79079,     0.79179,\n",
       "           0.79279,     0.79379,     0.79479,      0.7958,      0.7968,      0.7978,      0.7988,      0.7998,      0.8008,      0.8018,      0.8028,      0.8038,      0.8048,     0.80581,     0.80681,     0.80781,     0.80881,     0.80981,     0.81081,     0.81181,     0.81281,     0.81381,     0.81481,     0.81582,\n",
       "           0.81682,     0.81782,     0.81882,     0.81982,     0.82082,     0.82182,     0.82282,     0.82382,     0.82482,     0.82583,     0.82683,     0.82783,     0.82883,     0.82983,     0.83083,     0.83183,     0.83283,     0.83383,     0.83483,     0.83584,     0.83684,     0.83784,     0.83884,     0.83984,\n",
       "           0.84084,     0.84184,     0.84284,     0.84384,     0.84484,     0.84585,     0.84685,     0.84785,     0.84885,     0.84985,     0.85085,     0.85185,     0.85285,     0.85385,     0.85485,     0.85586,     0.85686,     0.85786,     0.85886,     0.85986,     0.86086,     0.86186,     0.86286,     0.86386,\n",
       "           0.86486,     0.86587,     0.86687,     0.86787,     0.86887,     0.86987,     0.87087,     0.87187,     0.87287,     0.87387,     0.87487,     0.87588,     0.87688,     0.87788,     0.87888,     0.87988,     0.88088,     0.88188,     0.88288,     0.88388,     0.88488,     0.88589,     0.88689,     0.88789,\n",
       "           0.88889,     0.88989,     0.89089,     0.89189,     0.89289,     0.89389,     0.89489,      0.8959,      0.8969,      0.8979,      0.8989,      0.8999,      0.9009,      0.9019,      0.9029,      0.9039,      0.9049,     0.90591,     0.90691,     0.90791,     0.90891,     0.90991,     0.91091,     0.91191,\n",
       "           0.91291,     0.91391,     0.91491,     0.91592,     0.91692,     0.91792,     0.91892,     0.91992,     0.92092,     0.92192,     0.92292,     0.92392,     0.92492,     0.92593,     0.92693,     0.92793,     0.92893,     0.92993,     0.93093,     0.93193,     0.93293,     0.93393,     0.93493,     0.93594,\n",
       "           0.93694,     0.93794,     0.93894,     0.93994,     0.94094,     0.94194,     0.94294,     0.94394,     0.94494,     0.94595,     0.94695,     0.94795,     0.94895,     0.94995,     0.95095,     0.95195,     0.95295,     0.95395,     0.95495,     0.95596,     0.95696,     0.95796,     0.95896,     0.95996,\n",
       "           0.96096,     0.96196,     0.96296,     0.96396,     0.96496,     0.96597,     0.96697,     0.96797,     0.96897,     0.96997,     0.97097,     0.97197,     0.97297,     0.97397,     0.97497,     0.97598,     0.97698,     0.97798,     0.97898,     0.97998,     0.98098,     0.98198,     0.98298,     0.98398,\n",
       "           0.98498,     0.98599,     0.98699,     0.98799,     0.98899,     0.98999,     0.99099,     0.99199,     0.99299,     0.99399,     0.99499,       0.996,       0.997,       0.998,       0.999,           1]), array([[          1,           1,           1,           1,           1,           1,           1,           1,           1,           1,           1,           1,           1,           1,           1,           1,           1,           1,           1,           1,           1,           1,           1,\n",
       "                  1,           1,           1,           1,           1,           1,           1,           1,           1,           1,           1,           1,           1,           1,           1,           1,           1,           1,           1,           1,           1,           1,           1,\n",
       "                  1,           1,           1,           1,           1,           1,           1,           1,           1,           1,           1,           1,           1,           1,           1,           1,           1,           1,           1,           1,           1,           1,           1,\n",
       "                  1,           1,           1,           1,           1,           1,           1,           1,           1,           1,           1,           1,           1,           1,           1,           1,           1,           1,           1,           1,           1,           1,           1,\n",
       "                  1,           1,           1,           1,           1,           1,           1,           1,           1,           1,           1,           1,           1,           1,           1,           1,           1,           1,           1,           1,           1,           1,           1,\n",
       "                  1,           1,           1,           1,           1,           1,           1,           1,           1,           1,           1,           1,           1,           1,           1,           1,           1,           1,           1,           1,           1,           1,           1,\n",
       "                  1,           1,           1,           1,           1,           1,           1,           1,           1,           1,           1,           1,           1,           1,           1,           1,           1,           1,           1,           1,           1,           1,           1,\n",
       "                  1,           1,           1,           1,           1,           1,           1,           1,           1,           1,           1,           1,           1,           1,           1,           1,           1,           1,           1,           1,           1,           1,           1,\n",
       "                  1,           1,           1,           1,           1,           1,           1,           1,           1,           1,           1,           1,           1,           1,           1,           1,           1,           1,           1,           1,           1,           1,           1,\n",
       "                  1,           1,           1,           1,           1,           1,           1,           1,           1,           1,           1,           1,           1,           1,           1,           1,           1,           1,           1,           1,           1,           1,           1,\n",
       "                  1,           1,           1,           1,           1,           1,           1,           1,           1,           1,           1,           1,           1,           1,           1,           1,           1,           1,           1,           1,           1,           1,           1,\n",
       "                  1,           1,           1,           1,           1,           1,           1,           1,           1,           1,           1,           1,           1,           1,           1,           1,           1,           1,           1,           1,           1,           1,           1,\n",
       "                  1,           1,           1,           1,           1,           1,           1,           1,           1,           1,           1,           1,           1,           1,           1,           1,           1,           1,           1,           1,           1,           1,           1,\n",
       "                  1,           1,           1,           1,           1,           1,           1,           1,           1,           1,           1,           1,           1,           1,           1,           1,           1,           1,           1,           1,           1,           1,           1,\n",
       "                  1,           1,           1,           1,           1,           1,           1,           1,           1,           1,           1,           1,           1,           1,           1,           1,           1,           1,           1,           1,           1,           1,           1,\n",
       "                  1,           1,           1,           1,           1,           1,           1,           1,           1,           1,           1,           1,           1,           1,           1,           1,           1,           1,           1,           1,           1,           1,           1,\n",
       "                  1,           1,           1,           1,           1,           1,           1,           1,           1,           1,           1,           1,           1,           1,           1,           1,           1,           1,           1,           1,           1,           1,           1,\n",
       "                  1,           1,           1,           1,           1,           1,           1,           1,           1,           1,           1,           1,           1,           1,           1,           1,           1,           1,           1,           1,           1,           1,           1,\n",
       "                  1,           1,           1,           1,           1,           1,           1,           1,           1,           1,           1,           1,           1,           1,           1,           1,           1,           1,           1,           1,           1,           1,           1,\n",
       "                  1,           1,           1,           1,           1,           1,           1,           1,           1,           1,           1,           1,           1,           1,           1,           1,           1,           1,           1,           1,           1,           1,           1,\n",
       "                  1,           1,           1,           1,           1,           1,           1,           1,           1,           1,           1,           1,           1,           1,           1,           1,           1,           1,           1,           1,           1,           1,           1,\n",
       "                  1,           1,           1,           1,           1,           1,           1,           1,           1,           1,           1,           1,           1,           1,           1,           1,           1,           1,           1,           1,           1,           1,           1,\n",
       "                  1,           1,           1,           1,           1,           1,           1,           1,           1,           1,           1,           1,           1,           1,           1,           1,           1,           1,           1,           1,           1,           1,           1,\n",
       "                  1,           1,           1,           1,           1,           1,           1,           1,           1,           1,           1,           1,           1,           1,           1,           1,           1,           1,           1,           1,           1,           1,           1,\n",
       "                  1,           1,           1,           1,           1,           1,           1,           1,           1,           1,           1,           1,           1,           1,           1,           1,           1,           1,           1,           1,           1,           1,           1,\n",
       "                  1,           1,           1,           1,           1,           1,           1,           1,           1,           1,           1,           1,           1,           1,           1,           1,           1,           1,           1,           1,           1,           1,           1,\n",
       "                  1,           1,           1,           1,           1,           1,           1,           1,           1,           1,           1,           1,           1,           1,           1,           1,           1,           1,           1,           1,           1,           1,           1,\n",
       "                  1,           1,           1,           1,           1,           1,           1,           1,           1,           1,           1,           1,           1,           1,           1,           1,           1,           1,           1,           1,           1,           1,           1,\n",
       "                  1,           1,           1,           1,           1,           1,           1,           1,           1,           1,           1,           1,           1,           1,           1,           1,           1,           1,           1,           1,           1,           1,           1,\n",
       "                  1,           1,           1,           1,           1,           1,           1,           1,           1,           1,           1,           1,           1,           1,           1,           1,           1,           1,           1,           1,           1,           1,           1,\n",
       "                  1,           1,           1,           1,           1,           1,           1,           1,           1,           1,           1,           1,           1,           1,           1,           1,           1,           1,           1,           1,           1,           1,           1,\n",
       "                  1,           1,           1,           1,           1,           1,           1,           1,           1,           1,           1,           1,           1,           1,           1,           1,           1,           1,           1,           1,           1,           1,           1,\n",
       "                  1,           1,           1,           1,           1,           1,           1,           1,           1,           1,           1,           1,           1,           1,           1,           1,           1,           1,           1,           1,           1,           1,           1,\n",
       "                  1,           1,           1,           1,           1,           1,           1,           1,           1,           1,           1,           1,           1,           1,           1,           1,           1,           1,           1,           1,           1,           1,           1,\n",
       "                  1,           1,           1,           1,           1,           1,           1,           1,           1,           1,           1,           1,           1,           1,           1,           1,           1,           1,           1,           1,           1,           1,           1,\n",
       "                  1,           1,           1,           1,           1,           1,           1,           1,           1,           1,           1,           1,           1,           1,           1,           1,           1,           1,           1,           1,           1,           1,           1,\n",
       "                  1,           1,           1,           1,           1,           1,           1,           1,           1,           1,           1,           1,           1,           1,           1,           1,           1,           1,           1,           1,           1,           1,           1,\n",
       "                  1,           1,           1,           1,           1,           1,           1,           1,           1,           1,           1,           1,           1,           1,           1,           1,           1,           1,           1,           1,           1,           1,           1,\n",
       "                  1,           1,           1,           1,           1,           1,           1,           1,           1,           1,           1,           1,           1,           1,           1,           1,           1,           1,           1,           1,           1,           1,           1,\n",
       "                  1,           1,           1,           1,           1,           1,           1,           1,           1,           1,           1,           1,           1,           1,           1,           1,           1,           1,           1,           1,           1,           1,           1,\n",
       "                  1,           1,           1,           1,           1,           1,           1,           1,           1,           1,           1,           1,           1,           1,           1,           1,           1,           1,           1,           1,           1,           1,           1,\n",
       "                  1,           1,           1,           1,           1,           1,           1,           1,           1,           1,           1,           1,           1,           1,           1,           1,           1,           1,           1,           1,           1,           1,           1,\n",
       "                  1,           1,           1,           1,           1,           1,           1,           1,           1,           1,           1,           1,           1,           1,           1,           1,           1,           1,           1,           1,           1,           1,           1,\n",
       "                  1,           1,           1,           1,           1,           1,           1,           1,           1,           1,           0]]), 'Recall', 'Precision'], [array([          0,    0.001001,    0.002002,    0.003003,    0.004004,    0.005005,    0.006006,    0.007007,    0.008008,    0.009009,     0.01001,    0.011011,    0.012012,    0.013013,    0.014014,    0.015015,    0.016016,    0.017017,    0.018018,    0.019019,     0.02002,    0.021021,    0.022022,    0.023023,\n",
       "          0.024024,    0.025025,    0.026026,    0.027027,    0.028028,    0.029029,     0.03003,    0.031031,    0.032032,    0.033033,    0.034034,    0.035035,    0.036036,    0.037037,    0.038038,    0.039039,     0.04004,    0.041041,    0.042042,    0.043043,    0.044044,    0.045045,    0.046046,    0.047047,\n",
       "          0.048048,    0.049049,     0.05005,    0.051051,    0.052052,    0.053053,    0.054054,    0.055055,    0.056056,    0.057057,    0.058058,    0.059059,     0.06006,    0.061061,    0.062062,    0.063063,    0.064064,    0.065065,    0.066066,    0.067067,    0.068068,    0.069069,     0.07007,    0.071071,\n",
       "          0.072072,    0.073073,    0.074074,    0.075075,    0.076076,    0.077077,    0.078078,    0.079079,     0.08008,    0.081081,    0.082082,    0.083083,    0.084084,    0.085085,    0.086086,    0.087087,    0.088088,    0.089089,     0.09009,    0.091091,    0.092092,    0.093093,    0.094094,    0.095095,\n",
       "          0.096096,    0.097097,    0.098098,    0.099099,      0.1001,      0.1011,      0.1021,      0.1031,      0.1041,     0.10511,     0.10611,     0.10711,     0.10811,     0.10911,     0.11011,     0.11111,     0.11211,     0.11311,     0.11411,     0.11512,     0.11612,     0.11712,     0.11812,     0.11912,\n",
       "           0.12012,     0.12112,     0.12212,     0.12312,     0.12412,     0.12513,     0.12613,     0.12713,     0.12813,     0.12913,     0.13013,     0.13113,     0.13213,     0.13313,     0.13413,     0.13514,     0.13614,     0.13714,     0.13814,     0.13914,     0.14014,     0.14114,     0.14214,     0.14314,\n",
       "           0.14414,     0.14515,     0.14615,     0.14715,     0.14815,     0.14915,     0.15015,     0.15115,     0.15215,     0.15315,     0.15415,     0.15516,     0.15616,     0.15716,     0.15816,     0.15916,     0.16016,     0.16116,     0.16216,     0.16316,     0.16416,     0.16517,     0.16617,     0.16717,\n",
       "           0.16817,     0.16917,     0.17017,     0.17117,     0.17217,     0.17317,     0.17417,     0.17518,     0.17618,     0.17718,     0.17818,     0.17918,     0.18018,     0.18118,     0.18218,     0.18318,     0.18418,     0.18519,     0.18619,     0.18719,     0.18819,     0.18919,     0.19019,     0.19119,\n",
       "           0.19219,     0.19319,     0.19419,      0.1952,      0.1962,      0.1972,      0.1982,      0.1992,      0.2002,      0.2012,      0.2022,      0.2032,      0.2042,     0.20521,     0.20621,     0.20721,     0.20821,     0.20921,     0.21021,     0.21121,     0.21221,     0.21321,     0.21421,     0.21522,\n",
       "           0.21622,     0.21722,     0.21822,     0.21922,     0.22022,     0.22122,     0.22222,     0.22322,     0.22422,     0.22523,     0.22623,     0.22723,     0.22823,     0.22923,     0.23023,     0.23123,     0.23223,     0.23323,     0.23423,     0.23524,     0.23624,     0.23724,     0.23824,     0.23924,\n",
       "           0.24024,     0.24124,     0.24224,     0.24324,     0.24424,     0.24525,     0.24625,     0.24725,     0.24825,     0.24925,     0.25025,     0.25125,     0.25225,     0.25325,     0.25425,     0.25526,     0.25626,     0.25726,     0.25826,     0.25926,     0.26026,     0.26126,     0.26226,     0.26326,\n",
       "           0.26426,     0.26527,     0.26627,     0.26727,     0.26827,     0.26927,     0.27027,     0.27127,     0.27227,     0.27327,     0.27427,     0.27528,     0.27628,     0.27728,     0.27828,     0.27928,     0.28028,     0.28128,     0.28228,     0.28328,     0.28428,     0.28529,     0.28629,     0.28729,\n",
       "           0.28829,     0.28929,     0.29029,     0.29129,     0.29229,     0.29329,     0.29429,      0.2953,      0.2963,      0.2973,      0.2983,      0.2993,      0.3003,      0.3013,      0.3023,      0.3033,      0.3043,     0.30531,     0.30631,     0.30731,     0.30831,     0.30931,     0.31031,     0.31131,\n",
       "           0.31231,     0.31331,     0.31431,     0.31532,     0.31632,     0.31732,     0.31832,     0.31932,     0.32032,     0.32132,     0.32232,     0.32332,     0.32432,     0.32533,     0.32633,     0.32733,     0.32833,     0.32933,     0.33033,     0.33133,     0.33233,     0.33333,     0.33433,     0.33534,\n",
       "           0.33634,     0.33734,     0.33834,     0.33934,     0.34034,     0.34134,     0.34234,     0.34334,     0.34434,     0.34535,     0.34635,     0.34735,     0.34835,     0.34935,     0.35035,     0.35135,     0.35235,     0.35335,     0.35435,     0.35536,     0.35636,     0.35736,     0.35836,     0.35936,\n",
       "           0.36036,     0.36136,     0.36236,     0.36336,     0.36436,     0.36537,     0.36637,     0.36737,     0.36837,     0.36937,     0.37037,     0.37137,     0.37237,     0.37337,     0.37437,     0.37538,     0.37638,     0.37738,     0.37838,     0.37938,     0.38038,     0.38138,     0.38238,     0.38338,\n",
       "           0.38438,     0.38539,     0.38639,     0.38739,     0.38839,     0.38939,     0.39039,     0.39139,     0.39239,     0.39339,     0.39439,      0.3954,      0.3964,      0.3974,      0.3984,      0.3994,      0.4004,      0.4014,      0.4024,      0.4034,      0.4044,     0.40541,     0.40641,     0.40741,\n",
       "           0.40841,     0.40941,     0.41041,     0.41141,     0.41241,     0.41341,     0.41441,     0.41542,     0.41642,     0.41742,     0.41842,     0.41942,     0.42042,     0.42142,     0.42242,     0.42342,     0.42442,     0.42543,     0.42643,     0.42743,     0.42843,     0.42943,     0.43043,     0.43143,\n",
       "           0.43243,     0.43343,     0.43443,     0.43544,     0.43644,     0.43744,     0.43844,     0.43944,     0.44044,     0.44144,     0.44244,     0.44344,     0.44444,     0.44545,     0.44645,     0.44745,     0.44845,     0.44945,     0.45045,     0.45145,     0.45245,     0.45345,     0.45445,     0.45546,\n",
       "           0.45646,     0.45746,     0.45846,     0.45946,     0.46046,     0.46146,     0.46246,     0.46346,     0.46446,     0.46547,     0.46647,     0.46747,     0.46847,     0.46947,     0.47047,     0.47147,     0.47247,     0.47347,     0.47447,     0.47548,     0.47648,     0.47748,     0.47848,     0.47948,\n",
       "           0.48048,     0.48148,     0.48248,     0.48348,     0.48448,     0.48549,     0.48649,     0.48749,     0.48849,     0.48949,     0.49049,     0.49149,     0.49249,     0.49349,     0.49449,      0.4955,      0.4965,      0.4975,      0.4985,      0.4995,      0.5005,      0.5015,      0.5025,      0.5035,\n",
       "            0.5045,     0.50551,     0.50651,     0.50751,     0.50851,     0.50951,     0.51051,     0.51151,     0.51251,     0.51351,     0.51451,     0.51552,     0.51652,     0.51752,     0.51852,     0.51952,     0.52052,     0.52152,     0.52252,     0.52352,     0.52452,     0.52553,     0.52653,     0.52753,\n",
       "           0.52853,     0.52953,     0.53053,     0.53153,     0.53253,     0.53353,     0.53453,     0.53554,     0.53654,     0.53754,     0.53854,     0.53954,     0.54054,     0.54154,     0.54254,     0.54354,     0.54454,     0.54555,     0.54655,     0.54755,     0.54855,     0.54955,     0.55055,     0.55155,\n",
       "           0.55255,     0.55355,     0.55455,     0.55556,     0.55656,     0.55756,     0.55856,     0.55956,     0.56056,     0.56156,     0.56256,     0.56356,     0.56456,     0.56557,     0.56657,     0.56757,     0.56857,     0.56957,     0.57057,     0.57157,     0.57257,     0.57357,     0.57457,     0.57558,\n",
       "           0.57658,     0.57758,     0.57858,     0.57958,     0.58058,     0.58158,     0.58258,     0.58358,     0.58458,     0.58559,     0.58659,     0.58759,     0.58859,     0.58959,     0.59059,     0.59159,     0.59259,     0.59359,     0.59459,      0.5956,      0.5966,      0.5976,      0.5986,      0.5996,\n",
       "            0.6006,      0.6016,      0.6026,      0.6036,      0.6046,     0.60561,     0.60661,     0.60761,     0.60861,     0.60961,     0.61061,     0.61161,     0.61261,     0.61361,     0.61461,     0.61562,     0.61662,     0.61762,     0.61862,     0.61962,     0.62062,     0.62162,     0.62262,     0.62362,\n",
       "           0.62462,     0.62563,     0.62663,     0.62763,     0.62863,     0.62963,     0.63063,     0.63163,     0.63263,     0.63363,     0.63463,     0.63564,     0.63664,     0.63764,     0.63864,     0.63964,     0.64064,     0.64164,     0.64264,     0.64364,     0.64464,     0.64565,     0.64665,     0.64765,\n",
       "           0.64865,     0.64965,     0.65065,     0.65165,     0.65265,     0.65365,     0.65465,     0.65566,     0.65666,     0.65766,     0.65866,     0.65966,     0.66066,     0.66166,     0.66266,     0.66366,     0.66466,     0.66567,     0.66667,     0.66767,     0.66867,     0.66967,     0.67067,     0.67167,\n",
       "           0.67267,     0.67367,     0.67467,     0.67568,     0.67668,     0.67768,     0.67868,     0.67968,     0.68068,     0.68168,     0.68268,     0.68368,     0.68468,     0.68569,     0.68669,     0.68769,     0.68869,     0.68969,     0.69069,     0.69169,     0.69269,     0.69369,     0.69469,      0.6957,\n",
       "            0.6967,      0.6977,      0.6987,      0.6997,      0.7007,      0.7017,      0.7027,      0.7037,      0.7047,     0.70571,     0.70671,     0.70771,     0.70871,     0.70971,     0.71071,     0.71171,     0.71271,     0.71371,     0.71471,     0.71572,     0.71672,     0.71772,     0.71872,     0.71972,\n",
       "           0.72072,     0.72172,     0.72272,     0.72372,     0.72472,     0.72573,     0.72673,     0.72773,     0.72873,     0.72973,     0.73073,     0.73173,     0.73273,     0.73373,     0.73473,     0.73574,     0.73674,     0.73774,     0.73874,     0.73974,     0.74074,     0.74174,     0.74274,     0.74374,\n",
       "           0.74474,     0.74575,     0.74675,     0.74775,     0.74875,     0.74975,     0.75075,     0.75175,     0.75275,     0.75375,     0.75475,     0.75576,     0.75676,     0.75776,     0.75876,     0.75976,     0.76076,     0.76176,     0.76276,     0.76376,     0.76476,     0.76577,     0.76677,     0.76777,\n",
       "           0.76877,     0.76977,     0.77077,     0.77177,     0.77277,     0.77377,     0.77477,     0.77578,     0.77678,     0.77778,     0.77878,     0.77978,     0.78078,     0.78178,     0.78278,     0.78378,     0.78478,     0.78579,     0.78679,     0.78779,     0.78879,     0.78979,     0.79079,     0.79179,\n",
       "           0.79279,     0.79379,     0.79479,      0.7958,      0.7968,      0.7978,      0.7988,      0.7998,      0.8008,      0.8018,      0.8028,      0.8038,      0.8048,     0.80581,     0.80681,     0.80781,     0.80881,     0.80981,     0.81081,     0.81181,     0.81281,     0.81381,     0.81481,     0.81582,\n",
       "           0.81682,     0.81782,     0.81882,     0.81982,     0.82082,     0.82182,     0.82282,     0.82382,     0.82482,     0.82583,     0.82683,     0.82783,     0.82883,     0.82983,     0.83083,     0.83183,     0.83283,     0.83383,     0.83483,     0.83584,     0.83684,     0.83784,     0.83884,     0.83984,\n",
       "           0.84084,     0.84184,     0.84284,     0.84384,     0.84484,     0.84585,     0.84685,     0.84785,     0.84885,     0.84985,     0.85085,     0.85185,     0.85285,     0.85385,     0.85485,     0.85586,     0.85686,     0.85786,     0.85886,     0.85986,     0.86086,     0.86186,     0.86286,     0.86386,\n",
       "           0.86486,     0.86587,     0.86687,     0.86787,     0.86887,     0.86987,     0.87087,     0.87187,     0.87287,     0.87387,     0.87487,     0.87588,     0.87688,     0.87788,     0.87888,     0.87988,     0.88088,     0.88188,     0.88288,     0.88388,     0.88488,     0.88589,     0.88689,     0.88789,\n",
       "           0.88889,     0.88989,     0.89089,     0.89189,     0.89289,     0.89389,     0.89489,      0.8959,      0.8969,      0.8979,      0.8989,      0.8999,      0.9009,      0.9019,      0.9029,      0.9039,      0.9049,     0.90591,     0.90691,     0.90791,     0.90891,     0.90991,     0.91091,     0.91191,\n",
       "           0.91291,     0.91391,     0.91491,     0.91592,     0.91692,     0.91792,     0.91892,     0.91992,     0.92092,     0.92192,     0.92292,     0.92392,     0.92492,     0.92593,     0.92693,     0.92793,     0.92893,     0.92993,     0.93093,     0.93193,     0.93293,     0.93393,     0.93493,     0.93594,\n",
       "           0.93694,     0.93794,     0.93894,     0.93994,     0.94094,     0.94194,     0.94294,     0.94394,     0.94494,     0.94595,     0.94695,     0.94795,     0.94895,     0.94995,     0.95095,     0.95195,     0.95295,     0.95395,     0.95495,     0.95596,     0.95696,     0.95796,     0.95896,     0.95996,\n",
       "           0.96096,     0.96196,     0.96296,     0.96396,     0.96496,     0.96597,     0.96697,     0.96797,     0.96897,     0.96997,     0.97097,     0.97197,     0.97297,     0.97397,     0.97497,     0.97598,     0.97698,     0.97798,     0.97898,     0.97998,     0.98098,     0.98198,     0.98298,     0.98398,\n",
       "           0.98498,     0.98599,     0.98699,     0.98799,     0.98899,     0.98999,     0.99099,     0.99199,     0.99299,     0.99399,     0.99499,       0.996,       0.997,       0.998,       0.999,           1]), array([[    0.74011,     0.74011,      0.8381,       0.877,     0.89644,     0.90743,     0.91532,     0.92129,     0.92597,     0.93079,     0.93678,     0.93734,     0.93787,     0.94029,     0.94201,     0.94471,     0.94533,     0.94606,     0.94763,     0.94972,     0.95063,     0.95131,     0.95319,\n",
       "            0.95629,     0.95756,     0.95857,     0.95928,      0.9604,     0.96213,     0.96237,     0.96261,     0.96285,     0.96309,     0.96461,     0.96515,     0.96714,     0.96807,     0.96821,     0.96834,     0.96848,     0.96862,     0.96876,      0.9689,     0.96904,      0.9692,     0.97061,\n",
       "            0.97102,     0.97143,     0.97234,     0.97319,     0.97386,     0.97419,     0.97444,     0.97469,     0.97494,     0.97555,     0.97669,     0.97699,      0.9773,      0.9776,     0.97776,     0.97792,     0.97807,     0.97822,     0.97838,     0.97853,     0.97868,     0.97889,     0.98006,\n",
       "            0.98021,     0.98036,      0.9805,     0.98065,      0.9808,     0.98094,     0.98109,     0.98124,     0.98249,     0.98257,     0.98264,     0.98271,     0.98279,     0.98286,     0.98293,       0.983,     0.98307,     0.98314,     0.98321,     0.98329,     0.98336,     0.98343,      0.9835,\n",
       "            0.98357,     0.98364,     0.98371,     0.98431,     0.98511,     0.98623,      0.9872,     0.98746,     0.98748,     0.98751,     0.98753,     0.98756,     0.98758,     0.98761,     0.98764,     0.98766,     0.98769,     0.98771,     0.98774,     0.98776,     0.98779,     0.98782,     0.98784,\n",
       "            0.98787,     0.98789,     0.98792,     0.98794,     0.98797,       0.988,     0.98802,     0.98805,     0.98807,      0.9881,     0.98812,     0.98815,     0.98817,      0.9882,     0.98823,     0.98825,     0.98828,      0.9883,     0.98833,     0.98835,     0.98838,      0.9884,     0.98843,\n",
       "            0.98846,     0.98848,     0.98851,     0.98853,     0.98856,     0.98858,     0.98861,     0.98864,     0.98866,     0.98886,     0.98951,     0.98997,     0.99009,     0.99021,     0.99034,     0.99046,     0.99058,     0.99071,     0.99083,     0.99095,     0.99108,     0.99124,     0.99156,\n",
       "            0.99188,     0.99219,     0.99256,     0.99308,      0.9936,     0.99369,     0.99371,     0.99373,     0.99375,     0.99377,     0.99379,     0.99381,     0.99383,     0.99384,     0.99386,     0.99388,      0.9939,     0.99392,     0.99394,     0.99396,     0.99398,     0.99399,     0.99401,\n",
       "            0.99403,     0.99405,     0.99407,     0.99409,     0.99411,     0.99412,     0.99414,     0.99416,     0.99418,      0.9942,     0.99422,     0.99424,     0.99426,     0.99427,     0.99429,     0.99431,     0.99433,     0.99435,     0.99437,     0.99439,     0.99441,     0.99442,     0.99444,\n",
       "            0.99446,     0.99448,      0.9945,     0.99452,     0.99454,     0.99455,     0.99457,     0.99459,     0.99461,     0.99463,     0.99465,     0.99467,     0.99469,      0.9947,     0.99472,     0.99474,     0.99476,     0.99478,      0.9948,     0.99482,     0.99483,     0.99485,     0.99487,\n",
       "            0.99489,     0.99491,     0.99493,     0.99505,     0.99525,     0.99545,     0.99566,     0.99586,     0.99607,      0.9962,     0.99621,     0.99622,     0.99623,     0.99624,     0.99625,     0.99626,     0.99627,     0.99628,     0.99629,      0.9963,     0.99631,     0.99632,     0.99633,\n",
       "            0.99634,     0.99635,     0.99636,     0.99637,     0.99638,     0.99639,      0.9964,     0.99641,     0.99642,     0.99643,     0.99644,     0.99645,     0.99646,     0.99647,     0.99648,     0.99648,     0.99649,      0.9965,     0.99651,     0.99652,     0.99653,     0.99654,     0.99655,\n",
       "            0.99656,     0.99657,     0.99658,     0.99659,      0.9966,     0.99661,     0.99662,     0.99663,     0.99664,     0.99665,     0.99666,     0.99667,     0.99668,     0.99669,      0.9967,     0.99671,     0.99672,     0.99673,     0.99674,     0.99675,     0.99676,     0.99677,     0.99678,\n",
       "            0.99679,      0.9968,     0.99681,     0.99682,     0.99683,     0.99684,     0.99685,     0.99686,     0.99687,     0.99688,     0.99689,      0.9969,      0.9969,     0.99691,     0.99692,     0.99693,     0.99694,     0.99695,     0.99696,     0.99697,     0.99698,     0.99699,       0.997,\n",
       "            0.99701,     0.99702,     0.99703,     0.99704,     0.99705,     0.99706,     0.99707,     0.99708,     0.99709,      0.9971,     0.99711,     0.99712,     0.99713,     0.99714,     0.99715,     0.99716,     0.99717,     0.99718,     0.99719,      0.9972,     0.99721,     0.99722,     0.99723,\n",
       "            0.99724,     0.99725,     0.99726,     0.99727,     0.99728,     0.99729,      0.9973,     0.99731,     0.99732,     0.99732,     0.99733,     0.99734,     0.99735,     0.99736,     0.99737,     0.99738,     0.99739,      0.9974,     0.99741,     0.99742,     0.99743,     0.99744,     0.99745,\n",
       "            0.99746,     0.99748,     0.99749,     0.99751,     0.99752,     0.99754,     0.99755,     0.99757,     0.99759,      0.9976,     0.99762,     0.99763,     0.99765,     0.99766,     0.99768,     0.99769,     0.99771,     0.99773,     0.99774,     0.99776,     0.99777,     0.99779,      0.9978,\n",
       "            0.99782,     0.99784,     0.99785,     0.99787,     0.99788,      0.9979,     0.99791,     0.99793,     0.99794,     0.99796,     0.99798,     0.99799,     0.99801,     0.99802,     0.99804,     0.99805,     0.99807,     0.99808,      0.9981,     0.99812,     0.99813,     0.99815,     0.99816,\n",
       "            0.99818,     0.99819,     0.99821,     0.99822,     0.99824,     0.99826,     0.99827,     0.99829,      0.9983,     0.99832,     0.99833,     0.99835,     0.99836,     0.99838,      0.9984,     0.99841,     0.99843,     0.99844,     0.99846,     0.99847,     0.99849,      0.9985,     0.99852,\n",
       "            0.99854,     0.99855,     0.99857,     0.99858,      0.9986,     0.99861,     0.99863,     0.99864,     0.99866,     0.99868,     0.99869,     0.99871,     0.99872,     0.99873,     0.99874,     0.99874,     0.99875,     0.99876,     0.99876,     0.99877,     0.99877,     0.99878,     0.99879,\n",
       "            0.99879,      0.9988,     0.99881,     0.99881,     0.99882,     0.99882,     0.99883,     0.99884,     0.99884,     0.99885,     0.99885,     0.99886,     0.99887,     0.99887,     0.99888,     0.99888,     0.99889,      0.9989,      0.9989,     0.99891,     0.99891,     0.99892,     0.99893,\n",
       "            0.99893,     0.99894,     0.99894,     0.99895,     0.99896,     0.99896,     0.99897,     0.99897,     0.99898,     0.99899,     0.99899,       0.999,       0.999,     0.99901,     0.99902,     0.99902,     0.99903,     0.99903,     0.99904,     0.99905,     0.99905,     0.99906,     0.99906,\n",
       "            0.99907,     0.99908,     0.99908,     0.99909,      0.9991,      0.9991,     0.99911,     0.99911,     0.99912,     0.99913,     0.99913,     0.99914,     0.99914,     0.99915,     0.99916,     0.99916,     0.99917,     0.99917,     0.99918,     0.99919,     0.99919,      0.9992,      0.9992,\n",
       "            0.99921,     0.99922,     0.99922,     0.99923,     0.99923,     0.99924,     0.99925,     0.99925,     0.99926,     0.99926,     0.99927,     0.99928,     0.99928,     0.99929,     0.99929,      0.9993,     0.99931,     0.99931,     0.99932,     0.99932,     0.99933,     0.99934,     0.99934,\n",
       "            0.99935,     0.99935,     0.99936,     0.99937,     0.99937,     0.99938,     0.99938,     0.99939,      0.9994,      0.9994,     0.99941,     0.99942,     0.99942,     0.99943,     0.99943,     0.99944,     0.99945,     0.99945,     0.99946,     0.99946,     0.99947,     0.99948,     0.99948,\n",
       "            0.99949,     0.99949,      0.9995,     0.99951,     0.99951,     0.99952,     0.99952,     0.99953,     0.99954,     0.99954,     0.99955,     0.99955,     0.99956,     0.99957,     0.99957,     0.99958,     0.99958,     0.99959,      0.9996,      0.9996,     0.99961,     0.99961,     0.99962,\n",
       "            0.99963,     0.99963,     0.99964,     0.99964,     0.99965,     0.99966,     0.99966,     0.99967,     0.99967,     0.99968,     0.99969,     0.99969,      0.9997,      0.9997,     0.99971,     0.99972,     0.99972,     0.99973,     0.99973,     0.99974,     0.99975,     0.99975,     0.99976,\n",
       "            0.99976,     0.99977,     0.99978,     0.99978,     0.99979,      0.9998,      0.9998,     0.99981,     0.99981,     0.99982,     0.99983,     0.99983,     0.99984,     0.99984,     0.99985,     0.99986,     0.99986,     0.99987,     0.99987,     0.99988,     0.99989,     0.99989,      0.9999,\n",
       "             0.9999,     0.99991,     0.99992,     0.99992,     0.99993,     0.99993,     0.99994,     0.99995,     0.99995,     0.99996,     0.99996,     0.99997,     0.99998,     0.99998,     0.99999,     0.99999,           1,     0.99981,     0.99962,     0.99943,     0.99925,     0.99906,     0.99887,\n",
       "            0.99872,      0.9987,     0.99868,     0.99866,     0.99864,     0.99861,     0.99859,     0.99857,     0.99855,     0.99853,     0.99851,     0.99849,     0.99847,     0.99844,     0.99842,      0.9984,     0.99838,     0.99836,     0.99834,     0.99832,     0.99829,     0.99827,     0.99825,\n",
       "            0.99823,     0.99821,     0.99819,     0.99817,     0.99815,     0.99812,      0.9981,     0.99808,     0.99806,     0.99804,     0.99802,       0.998,     0.99797,     0.99795,     0.99793,     0.99791,     0.99789,     0.99787,     0.99785,     0.99782,      0.9978,     0.99778,     0.99776,\n",
       "            0.99774,     0.99772,      0.9977,     0.99768,     0.99765,     0.99763,     0.99761,     0.99759,     0.99757,     0.99755,     0.99753,      0.9975,     0.99748,     0.99746,     0.99744,     0.99741,     0.99738,     0.99735,     0.99732,      0.9973,     0.99727,     0.99724,     0.99721,\n",
       "            0.99718,     0.99715,     0.99713,      0.9971,     0.99707,     0.99704,     0.99701,     0.99699,     0.99696,     0.99693,      0.9969,     0.99687,     0.99684,     0.99682,     0.99679,     0.99676,     0.99673,      0.9967,     0.99667,     0.99665,     0.99662,     0.99659,     0.99656,\n",
       "            0.99653,      0.9965,     0.99648,     0.99645,     0.99642,     0.99639,     0.99636,     0.99633,     0.99631,     0.99628,     0.99625,     0.99622,     0.99619,     0.99616,     0.99614,     0.99612,     0.99609,     0.99607,     0.99605,     0.99602,       0.996,     0.99598,     0.99595,\n",
       "            0.99593,     0.99591,     0.99588,     0.99586,     0.99583,     0.99581,     0.99579,     0.99576,     0.99574,     0.99572,     0.99569,     0.99567,     0.99565,     0.99562,      0.9956,     0.99558,     0.99555,     0.99553,      0.9955,     0.99548,     0.99546,     0.99543,     0.99541,\n",
       "            0.99539,     0.99536,     0.99534,     0.99532,     0.99529,     0.99527,     0.99524,     0.99522,      0.9952,     0.99517,     0.99515,     0.99513,      0.9951,     0.99508,     0.99506,     0.99503,     0.99501,     0.99498,     0.99496,     0.99494,     0.99491,     0.99489,     0.99459,\n",
       "             0.9942,     0.99381,     0.99356,     0.99348,      0.9934,     0.99332,     0.99323,     0.99315,     0.99307,     0.99299,     0.99291,     0.99282,     0.99274,     0.99266,     0.99258,      0.9925,     0.99242,     0.99233,     0.99209,     0.99177,     0.99145,     0.99113,     0.98964,\n",
       "            0.98923,     0.98883,     0.98842,     0.98826,     0.98809,     0.98793,     0.98777,      0.9876,     0.98744,     0.98727,       0.987,     0.98458,     0.98387,     0.98321,     0.98247,     0.98163,     0.98049,     0.98006,     0.97964,     0.97918,     0.97798,     0.97513,     0.97462,\n",
       "             0.9741,      0.9726,     0.97199,     0.97141,     0.96617,     0.96216,     0.95988,     0.95833,     0.95547,     0.95343,     0.95276,     0.95211,     0.94731,     0.94598,     0.94534,     0.94439,     0.94192,     0.94014,     0.93917,     0.93794,     0.93681,      0.9337,     0.92803,\n",
       "            0.92407,     0.92162,     0.91616,     0.91321,     0.90273,     0.89471,     0.89172,     0.88266,     0.87629,     0.87091,     0.86548,     0.86311,     0.85351,     0.84769,     0.84268,     0.83333,     0.82136,     0.81446,     0.81154,     0.80501,     0.79442,      0.7873,     0.78081,\n",
       "            0.77069,     0.74423,      0.7408,     0.73644,     0.72464,     0.71583,     0.70988,     0.70276,     0.68893,     0.67738,     0.67301,     0.65625,     0.64402,     0.62998,     0.61783,     0.58751,     0.56771,      0.5462,     0.53286,     0.51193,     0.46416,     0.43017,     0.40661,\n",
       "            0.38346,      0.3616,     0.32096,     0.29014,     0.26292,     0.22921,      0.2149,     0.17148,     0.13969,     0.12209,       0.106,    0.091195,    0.067327,    0.044059,    0.036533,     0.03206,    0.028583,    0.025631,    0.017797,    0.011197,   0.0056619,           0,           0,\n",
       "                  0,           0,           0,           0,           0,           0,           0,           0,           0,           0,           0,           0,           0,           0,           0,           0,           0,           0,           0,           0,           0,           0,           0,\n",
       "                  0,           0,           0,           0,           0,           0,           0,           0,           0,           0,           0]]), 'Confidence', 'F1'], [array([          0,    0.001001,    0.002002,    0.003003,    0.004004,    0.005005,    0.006006,    0.007007,    0.008008,    0.009009,     0.01001,    0.011011,    0.012012,    0.013013,    0.014014,    0.015015,    0.016016,    0.017017,    0.018018,    0.019019,     0.02002,    0.021021,    0.022022,    0.023023,\n",
       "          0.024024,    0.025025,    0.026026,    0.027027,    0.028028,    0.029029,     0.03003,    0.031031,    0.032032,    0.033033,    0.034034,    0.035035,    0.036036,    0.037037,    0.038038,    0.039039,     0.04004,    0.041041,    0.042042,    0.043043,    0.044044,    0.045045,    0.046046,    0.047047,\n",
       "          0.048048,    0.049049,     0.05005,    0.051051,    0.052052,    0.053053,    0.054054,    0.055055,    0.056056,    0.057057,    0.058058,    0.059059,     0.06006,    0.061061,    0.062062,    0.063063,    0.064064,    0.065065,    0.066066,    0.067067,    0.068068,    0.069069,     0.07007,    0.071071,\n",
       "          0.072072,    0.073073,    0.074074,    0.075075,    0.076076,    0.077077,    0.078078,    0.079079,     0.08008,    0.081081,    0.082082,    0.083083,    0.084084,    0.085085,    0.086086,    0.087087,    0.088088,    0.089089,     0.09009,    0.091091,    0.092092,    0.093093,    0.094094,    0.095095,\n",
       "          0.096096,    0.097097,    0.098098,    0.099099,      0.1001,      0.1011,      0.1021,      0.1031,      0.1041,     0.10511,     0.10611,     0.10711,     0.10811,     0.10911,     0.11011,     0.11111,     0.11211,     0.11311,     0.11411,     0.11512,     0.11612,     0.11712,     0.11812,     0.11912,\n",
       "           0.12012,     0.12112,     0.12212,     0.12312,     0.12412,     0.12513,     0.12613,     0.12713,     0.12813,     0.12913,     0.13013,     0.13113,     0.13213,     0.13313,     0.13413,     0.13514,     0.13614,     0.13714,     0.13814,     0.13914,     0.14014,     0.14114,     0.14214,     0.14314,\n",
       "           0.14414,     0.14515,     0.14615,     0.14715,     0.14815,     0.14915,     0.15015,     0.15115,     0.15215,     0.15315,     0.15415,     0.15516,     0.15616,     0.15716,     0.15816,     0.15916,     0.16016,     0.16116,     0.16216,     0.16316,     0.16416,     0.16517,     0.16617,     0.16717,\n",
       "           0.16817,     0.16917,     0.17017,     0.17117,     0.17217,     0.17317,     0.17417,     0.17518,     0.17618,     0.17718,     0.17818,     0.17918,     0.18018,     0.18118,     0.18218,     0.18318,     0.18418,     0.18519,     0.18619,     0.18719,     0.18819,     0.18919,     0.19019,     0.19119,\n",
       "           0.19219,     0.19319,     0.19419,      0.1952,      0.1962,      0.1972,      0.1982,      0.1992,      0.2002,      0.2012,      0.2022,      0.2032,      0.2042,     0.20521,     0.20621,     0.20721,     0.20821,     0.20921,     0.21021,     0.21121,     0.21221,     0.21321,     0.21421,     0.21522,\n",
       "           0.21622,     0.21722,     0.21822,     0.21922,     0.22022,     0.22122,     0.22222,     0.22322,     0.22422,     0.22523,     0.22623,     0.22723,     0.22823,     0.22923,     0.23023,     0.23123,     0.23223,     0.23323,     0.23423,     0.23524,     0.23624,     0.23724,     0.23824,     0.23924,\n",
       "           0.24024,     0.24124,     0.24224,     0.24324,     0.24424,     0.24525,     0.24625,     0.24725,     0.24825,     0.24925,     0.25025,     0.25125,     0.25225,     0.25325,     0.25425,     0.25526,     0.25626,     0.25726,     0.25826,     0.25926,     0.26026,     0.26126,     0.26226,     0.26326,\n",
       "           0.26426,     0.26527,     0.26627,     0.26727,     0.26827,     0.26927,     0.27027,     0.27127,     0.27227,     0.27327,     0.27427,     0.27528,     0.27628,     0.27728,     0.27828,     0.27928,     0.28028,     0.28128,     0.28228,     0.28328,     0.28428,     0.28529,     0.28629,     0.28729,\n",
       "           0.28829,     0.28929,     0.29029,     0.29129,     0.29229,     0.29329,     0.29429,      0.2953,      0.2963,      0.2973,      0.2983,      0.2993,      0.3003,      0.3013,      0.3023,      0.3033,      0.3043,     0.30531,     0.30631,     0.30731,     0.30831,     0.30931,     0.31031,     0.31131,\n",
       "           0.31231,     0.31331,     0.31431,     0.31532,     0.31632,     0.31732,     0.31832,     0.31932,     0.32032,     0.32132,     0.32232,     0.32332,     0.32432,     0.32533,     0.32633,     0.32733,     0.32833,     0.32933,     0.33033,     0.33133,     0.33233,     0.33333,     0.33433,     0.33534,\n",
       "           0.33634,     0.33734,     0.33834,     0.33934,     0.34034,     0.34134,     0.34234,     0.34334,     0.34434,     0.34535,     0.34635,     0.34735,     0.34835,     0.34935,     0.35035,     0.35135,     0.35235,     0.35335,     0.35435,     0.35536,     0.35636,     0.35736,     0.35836,     0.35936,\n",
       "           0.36036,     0.36136,     0.36236,     0.36336,     0.36436,     0.36537,     0.36637,     0.36737,     0.36837,     0.36937,     0.37037,     0.37137,     0.37237,     0.37337,     0.37437,     0.37538,     0.37638,     0.37738,     0.37838,     0.37938,     0.38038,     0.38138,     0.38238,     0.38338,\n",
       "           0.38438,     0.38539,     0.38639,     0.38739,     0.38839,     0.38939,     0.39039,     0.39139,     0.39239,     0.39339,     0.39439,      0.3954,      0.3964,      0.3974,      0.3984,      0.3994,      0.4004,      0.4014,      0.4024,      0.4034,      0.4044,     0.40541,     0.40641,     0.40741,\n",
       "           0.40841,     0.40941,     0.41041,     0.41141,     0.41241,     0.41341,     0.41441,     0.41542,     0.41642,     0.41742,     0.41842,     0.41942,     0.42042,     0.42142,     0.42242,     0.42342,     0.42442,     0.42543,     0.42643,     0.42743,     0.42843,     0.42943,     0.43043,     0.43143,\n",
       "           0.43243,     0.43343,     0.43443,     0.43544,     0.43644,     0.43744,     0.43844,     0.43944,     0.44044,     0.44144,     0.44244,     0.44344,     0.44444,     0.44545,     0.44645,     0.44745,     0.44845,     0.44945,     0.45045,     0.45145,     0.45245,     0.45345,     0.45445,     0.45546,\n",
       "           0.45646,     0.45746,     0.45846,     0.45946,     0.46046,     0.46146,     0.46246,     0.46346,     0.46446,     0.46547,     0.46647,     0.46747,     0.46847,     0.46947,     0.47047,     0.47147,     0.47247,     0.47347,     0.47447,     0.47548,     0.47648,     0.47748,     0.47848,     0.47948,\n",
       "           0.48048,     0.48148,     0.48248,     0.48348,     0.48448,     0.48549,     0.48649,     0.48749,     0.48849,     0.48949,     0.49049,     0.49149,     0.49249,     0.49349,     0.49449,      0.4955,      0.4965,      0.4975,      0.4985,      0.4995,      0.5005,      0.5015,      0.5025,      0.5035,\n",
       "            0.5045,     0.50551,     0.50651,     0.50751,     0.50851,     0.50951,     0.51051,     0.51151,     0.51251,     0.51351,     0.51451,     0.51552,     0.51652,     0.51752,     0.51852,     0.51952,     0.52052,     0.52152,     0.52252,     0.52352,     0.52452,     0.52553,     0.52653,     0.52753,\n",
       "           0.52853,     0.52953,     0.53053,     0.53153,     0.53253,     0.53353,     0.53453,     0.53554,     0.53654,     0.53754,     0.53854,     0.53954,     0.54054,     0.54154,     0.54254,     0.54354,     0.54454,     0.54555,     0.54655,     0.54755,     0.54855,     0.54955,     0.55055,     0.55155,\n",
       "           0.55255,     0.55355,     0.55455,     0.55556,     0.55656,     0.55756,     0.55856,     0.55956,     0.56056,     0.56156,     0.56256,     0.56356,     0.56456,     0.56557,     0.56657,     0.56757,     0.56857,     0.56957,     0.57057,     0.57157,     0.57257,     0.57357,     0.57457,     0.57558,\n",
       "           0.57658,     0.57758,     0.57858,     0.57958,     0.58058,     0.58158,     0.58258,     0.58358,     0.58458,     0.58559,     0.58659,     0.58759,     0.58859,     0.58959,     0.59059,     0.59159,     0.59259,     0.59359,     0.59459,      0.5956,      0.5966,      0.5976,      0.5986,      0.5996,\n",
       "            0.6006,      0.6016,      0.6026,      0.6036,      0.6046,     0.60561,     0.60661,     0.60761,     0.60861,     0.60961,     0.61061,     0.61161,     0.61261,     0.61361,     0.61461,     0.61562,     0.61662,     0.61762,     0.61862,     0.61962,     0.62062,     0.62162,     0.62262,     0.62362,\n",
       "           0.62462,     0.62563,     0.62663,     0.62763,     0.62863,     0.62963,     0.63063,     0.63163,     0.63263,     0.63363,     0.63463,     0.63564,     0.63664,     0.63764,     0.63864,     0.63964,     0.64064,     0.64164,     0.64264,     0.64364,     0.64464,     0.64565,     0.64665,     0.64765,\n",
       "           0.64865,     0.64965,     0.65065,     0.65165,     0.65265,     0.65365,     0.65465,     0.65566,     0.65666,     0.65766,     0.65866,     0.65966,     0.66066,     0.66166,     0.66266,     0.66366,     0.66466,     0.66567,     0.66667,     0.66767,     0.66867,     0.66967,     0.67067,     0.67167,\n",
       "           0.67267,     0.67367,     0.67467,     0.67568,     0.67668,     0.67768,     0.67868,     0.67968,     0.68068,     0.68168,     0.68268,     0.68368,     0.68468,     0.68569,     0.68669,     0.68769,     0.68869,     0.68969,     0.69069,     0.69169,     0.69269,     0.69369,     0.69469,      0.6957,\n",
       "            0.6967,      0.6977,      0.6987,      0.6997,      0.7007,      0.7017,      0.7027,      0.7037,      0.7047,     0.70571,     0.70671,     0.70771,     0.70871,     0.70971,     0.71071,     0.71171,     0.71271,     0.71371,     0.71471,     0.71572,     0.71672,     0.71772,     0.71872,     0.71972,\n",
       "           0.72072,     0.72172,     0.72272,     0.72372,     0.72472,     0.72573,     0.72673,     0.72773,     0.72873,     0.72973,     0.73073,     0.73173,     0.73273,     0.73373,     0.73473,     0.73574,     0.73674,     0.73774,     0.73874,     0.73974,     0.74074,     0.74174,     0.74274,     0.74374,\n",
       "           0.74474,     0.74575,     0.74675,     0.74775,     0.74875,     0.74975,     0.75075,     0.75175,     0.75275,     0.75375,     0.75475,     0.75576,     0.75676,     0.75776,     0.75876,     0.75976,     0.76076,     0.76176,     0.76276,     0.76376,     0.76476,     0.76577,     0.76677,     0.76777,\n",
       "           0.76877,     0.76977,     0.77077,     0.77177,     0.77277,     0.77377,     0.77477,     0.77578,     0.77678,     0.77778,     0.77878,     0.77978,     0.78078,     0.78178,     0.78278,     0.78378,     0.78478,     0.78579,     0.78679,     0.78779,     0.78879,     0.78979,     0.79079,     0.79179,\n",
       "           0.79279,     0.79379,     0.79479,      0.7958,      0.7968,      0.7978,      0.7988,      0.7998,      0.8008,      0.8018,      0.8028,      0.8038,      0.8048,     0.80581,     0.80681,     0.80781,     0.80881,     0.80981,     0.81081,     0.81181,     0.81281,     0.81381,     0.81481,     0.81582,\n",
       "           0.81682,     0.81782,     0.81882,     0.81982,     0.82082,     0.82182,     0.82282,     0.82382,     0.82482,     0.82583,     0.82683,     0.82783,     0.82883,     0.82983,     0.83083,     0.83183,     0.83283,     0.83383,     0.83483,     0.83584,     0.83684,     0.83784,     0.83884,     0.83984,\n",
       "           0.84084,     0.84184,     0.84284,     0.84384,     0.84484,     0.84585,     0.84685,     0.84785,     0.84885,     0.84985,     0.85085,     0.85185,     0.85285,     0.85385,     0.85485,     0.85586,     0.85686,     0.85786,     0.85886,     0.85986,     0.86086,     0.86186,     0.86286,     0.86386,\n",
       "           0.86486,     0.86587,     0.86687,     0.86787,     0.86887,     0.86987,     0.87087,     0.87187,     0.87287,     0.87387,     0.87487,     0.87588,     0.87688,     0.87788,     0.87888,     0.87988,     0.88088,     0.88188,     0.88288,     0.88388,     0.88488,     0.88589,     0.88689,     0.88789,\n",
       "           0.88889,     0.88989,     0.89089,     0.89189,     0.89289,     0.89389,     0.89489,      0.8959,      0.8969,      0.8979,      0.8989,      0.8999,      0.9009,      0.9019,      0.9029,      0.9039,      0.9049,     0.90591,     0.90691,     0.90791,     0.90891,     0.90991,     0.91091,     0.91191,\n",
       "           0.91291,     0.91391,     0.91491,     0.91592,     0.91692,     0.91792,     0.91892,     0.91992,     0.92092,     0.92192,     0.92292,     0.92392,     0.92492,     0.92593,     0.92693,     0.92793,     0.92893,     0.92993,     0.93093,     0.93193,     0.93293,     0.93393,     0.93493,     0.93594,\n",
       "           0.93694,     0.93794,     0.93894,     0.93994,     0.94094,     0.94194,     0.94294,     0.94394,     0.94494,     0.94595,     0.94695,     0.94795,     0.94895,     0.94995,     0.95095,     0.95195,     0.95295,     0.95395,     0.95495,     0.95596,     0.95696,     0.95796,     0.95896,     0.95996,\n",
       "           0.96096,     0.96196,     0.96296,     0.96396,     0.96496,     0.96597,     0.96697,     0.96797,     0.96897,     0.96997,     0.97097,     0.97197,     0.97297,     0.97397,     0.97497,     0.97598,     0.97698,     0.97798,     0.97898,     0.97998,     0.98098,     0.98198,     0.98298,     0.98398,\n",
       "           0.98498,     0.98599,     0.98699,     0.98799,     0.98899,     0.98999,     0.99099,     0.99199,     0.99299,     0.99399,     0.99499,       0.996,       0.997,       0.998,       0.999,           1]), array([[    0.58744,     0.58744,     0.72133,     0.78095,     0.81231,     0.83054,     0.84386,     0.85407,     0.86214,     0.87055,     0.88108,     0.88207,       0.883,     0.88731,     0.89038,     0.89522,     0.89632,     0.89765,     0.90047,     0.90425,     0.90591,     0.90715,     0.91057,\n",
       "            0.91624,     0.91857,     0.92043,     0.92174,     0.92382,     0.92702,     0.92747,     0.92791,     0.92836,     0.92881,     0.93164,     0.93264,     0.93637,     0.93811,     0.93837,     0.93863,     0.93889,     0.93915,     0.93941,     0.93967,     0.93993,     0.94024,      0.9429,\n",
       "            0.94367,     0.94444,     0.94616,     0.94779,     0.94905,     0.94967,     0.95015,     0.95063,     0.95111,     0.95226,     0.95444,     0.95502,     0.95561,     0.95619,     0.95649,     0.95679,     0.95708,     0.95737,     0.95767,     0.95796,     0.95826,     0.95865,      0.9609,\n",
       "            0.96118,     0.96147,     0.96175,     0.96203,     0.96232,      0.9626,     0.96288,     0.96316,     0.96558,     0.96574,     0.96588,     0.96602,     0.96615,     0.96629,     0.96643,     0.96657,     0.96671,     0.96684,     0.96698,     0.96712,     0.96726,      0.9674,     0.96754,\n",
       "            0.96767,     0.96781,     0.96795,     0.96911,     0.97066,     0.97283,     0.97472,     0.97522,     0.97527,     0.97532,     0.97537,     0.97542,     0.97547,     0.97552,     0.97557,     0.97562,     0.97567,     0.97572,     0.97577,     0.97582,     0.97587,     0.97592,     0.97597,\n",
       "            0.97602,     0.97607,     0.97612,     0.97617,     0.97622,     0.97627,     0.97632,     0.97638,     0.97643,     0.97648,     0.97653,     0.97658,     0.97663,     0.97668,     0.97673,     0.97678,     0.97683,     0.97688,     0.97693,     0.97698,     0.97703,     0.97708,     0.97713,\n",
       "            0.97718,     0.97723,     0.97728,     0.97733,     0.97738,     0.97743,     0.97748,     0.97753,     0.97758,     0.97797,     0.97923,     0.98013,     0.98038,     0.98062,     0.98086,      0.9811,     0.98134,     0.98159,     0.98183,     0.98207,     0.98231,     0.98264,     0.98326,\n",
       "            0.98388,     0.98451,     0.98524,     0.98625,     0.98727,     0.98747,     0.98751,     0.98754,     0.98758,     0.98762,     0.98765,     0.98769,     0.98773,     0.98776,      0.9878,     0.98784,     0.98787,     0.98791,     0.98795,     0.98799,     0.98802,     0.98806,      0.9881,\n",
       "            0.98813,     0.98817,     0.98821,     0.98824,     0.98828,     0.98832,     0.98836,     0.98839,     0.98843,     0.98847,      0.9885,     0.98854,     0.98858,     0.98861,     0.98865,     0.98869,     0.98872,     0.98876,      0.9888,     0.98884,     0.98887,     0.98891,     0.98895,\n",
       "            0.98898,     0.98902,     0.98906,     0.98909,     0.98913,     0.98917,      0.9892,     0.98924,     0.98928,     0.98932,     0.98935,     0.98939,     0.98943,     0.98946,      0.9895,     0.98954,     0.98957,     0.98961,     0.98965,     0.98969,     0.98972,     0.98976,      0.9898,\n",
       "            0.98983,     0.98987,     0.98991,     0.99014,     0.99054,     0.99095,     0.99136,     0.99176,     0.99217,     0.99243,     0.99245,     0.99247,     0.99249,     0.99251,     0.99253,     0.99255,     0.99257,     0.99259,     0.99261,     0.99263,     0.99264,     0.99266,     0.99268,\n",
       "             0.9927,     0.99272,     0.99274,     0.99276,     0.99278,      0.9928,     0.99282,     0.99284,     0.99286,     0.99288,      0.9929,     0.99292,     0.99294,     0.99296,     0.99297,     0.99299,     0.99301,     0.99303,     0.99305,     0.99307,     0.99309,     0.99311,     0.99313,\n",
       "            0.99315,     0.99317,     0.99319,     0.99321,     0.99323,     0.99325,     0.99327,     0.99329,      0.9933,     0.99332,     0.99334,     0.99336,     0.99338,      0.9934,     0.99342,     0.99344,     0.99346,     0.99348,      0.9935,     0.99352,     0.99354,     0.99356,     0.99358,\n",
       "             0.9936,     0.99362,     0.99363,     0.99365,     0.99367,     0.99369,     0.99371,     0.99373,     0.99375,     0.99377,     0.99379,     0.99381,     0.99383,     0.99385,     0.99387,     0.99389,     0.99391,     0.99393,     0.99395,     0.99396,     0.99398,       0.994,     0.99402,\n",
       "            0.99404,     0.99406,     0.99408,      0.9941,     0.99412,     0.99414,     0.99416,     0.99418,      0.9942,     0.99422,     0.99424,     0.99426,     0.99428,     0.99429,     0.99431,     0.99433,     0.99435,     0.99437,     0.99439,     0.99441,     0.99443,     0.99445,     0.99447,\n",
       "            0.99449,     0.99451,     0.99453,     0.99455,     0.99457,     0.99459,     0.99461,     0.99462,     0.99464,     0.99466,     0.99468,      0.9947,     0.99472,     0.99474,     0.99476,     0.99478,      0.9948,     0.99482,     0.99484,     0.99486,     0.99488,      0.9949,     0.99492,\n",
       "            0.99494,     0.99497,       0.995,     0.99503,     0.99506,     0.99509,     0.99512,     0.99515,     0.99518,     0.99521,     0.99525,     0.99528,     0.99531,     0.99534,     0.99537,      0.9954,     0.99543,     0.99546,     0.99549,     0.99552,     0.99556,     0.99559,     0.99562,\n",
       "            0.99565,     0.99568,     0.99571,     0.99574,     0.99577,      0.9958,     0.99583,     0.99587,      0.9959,     0.99593,     0.99596,     0.99599,     0.99602,     0.99605,     0.99608,     0.99611,     0.99614,     0.99618,     0.99621,     0.99624,     0.99627,      0.9963,     0.99633,\n",
       "            0.99636,     0.99639,     0.99642,     0.99646,     0.99649,     0.99652,     0.99655,     0.99658,     0.99661,     0.99664,     0.99667,      0.9967,     0.99673,     0.99677,      0.9968,     0.99683,     0.99686,     0.99689,     0.99692,     0.99695,     0.99698,     0.99701,     0.99704,\n",
       "            0.99708,     0.99711,     0.99714,     0.99717,      0.9972,     0.99723,     0.99726,     0.99729,     0.99732,     0.99735,     0.99739,     0.99742,     0.99745,     0.99747,     0.99748,     0.99749,      0.9975,     0.99752,     0.99753,     0.99754,     0.99755,     0.99756,     0.99758,\n",
       "            0.99759,      0.9976,     0.99761,     0.99763,     0.99764,     0.99765,     0.99766,     0.99767,     0.99769,      0.9977,     0.99771,     0.99772,     0.99773,     0.99775,     0.99776,     0.99777,     0.99778,     0.99779,     0.99781,     0.99782,     0.99783,     0.99784,     0.99785,\n",
       "            0.99787,     0.99788,     0.99789,      0.9979,     0.99791,     0.99793,     0.99794,     0.99795,     0.99796,     0.99797,     0.99799,       0.998,     0.99801,     0.99802,     0.99804,     0.99805,     0.99806,     0.99807,     0.99808,      0.9981,     0.99811,     0.99812,     0.99813,\n",
       "            0.99814,     0.99816,     0.99817,     0.99818,     0.99819,      0.9982,     0.99822,     0.99823,     0.99824,     0.99825,     0.99826,     0.99828,     0.99829,      0.9983,     0.99831,     0.99832,     0.99834,     0.99835,     0.99836,     0.99837,     0.99838,      0.9984,     0.99841,\n",
       "            0.99842,     0.99843,     0.99845,     0.99846,     0.99847,     0.99848,     0.99849,     0.99851,     0.99852,     0.99853,     0.99854,     0.99855,     0.99857,     0.99858,     0.99859,      0.9986,     0.99861,     0.99863,     0.99864,     0.99865,     0.99866,     0.99867,     0.99869,\n",
       "             0.9987,     0.99871,     0.99872,     0.99873,     0.99875,     0.99876,     0.99877,     0.99878,     0.99879,     0.99881,     0.99882,     0.99883,     0.99884,     0.99885,     0.99887,     0.99888,     0.99889,      0.9989,     0.99892,     0.99893,     0.99894,     0.99895,     0.99896,\n",
       "            0.99898,     0.99899,       0.999,     0.99901,     0.99902,     0.99904,     0.99905,     0.99906,     0.99907,     0.99908,      0.9991,     0.99911,     0.99912,     0.99913,     0.99914,     0.99916,     0.99917,     0.99918,     0.99919,      0.9992,     0.99922,     0.99923,     0.99924,\n",
       "            0.99925,     0.99926,     0.99928,     0.99929,      0.9993,     0.99931,     0.99933,     0.99934,     0.99935,     0.99936,     0.99937,     0.99939,      0.9994,     0.99941,     0.99942,     0.99943,     0.99945,     0.99946,     0.99947,     0.99948,     0.99949,     0.99951,     0.99952,\n",
       "            0.99953,     0.99954,     0.99955,     0.99957,     0.99958,     0.99959,      0.9996,     0.99961,     0.99963,     0.99964,     0.99965,     0.99966,     0.99967,     0.99969,      0.9997,     0.99971,     0.99972,     0.99974,     0.99975,     0.99976,     0.99977,     0.99978,      0.9998,\n",
       "            0.99981,     0.99982,     0.99983,     0.99984,     0.99986,     0.99987,     0.99988,     0.99989,      0.9999,     0.99992,     0.99993,     0.99994,     0.99995,     0.99996,     0.99998,     0.99999,           1,           1,           1,           1,           1,           1,           1,\n",
       "                  1,           1,           1,           1,           1,           1,           1,           1,           1,           1,           1,           1,           1,           1,           1,           1,           1,           1,           1,           1,           1,           1,           1,\n",
       "                  1,           1,           1,           1,           1,           1,           1,           1,           1,           1,           1,           1,           1,           1,           1,           1,           1,           1,           1,           1,           1,           1,           1,\n",
       "                  1,           1,           1,           1,           1,           1,           1,           1,           1,           1,           1,           1,           1,           1,           1,           1,           1,           1,           1,           1,           1,           1,           1,\n",
       "                  1,           1,           1,           1,           1,           1,           1,           1,           1,           1,           1,           1,           1,           1,           1,           1,           1,           1,           1,           1,           1,           1,           1,\n",
       "                  1,           1,           1,           1,           1,           1,           1,           1,           1,           1,           1,           1,           1,           1,           1,           1,           1,           1,           1,           1,           1,           1,           1,\n",
       "                  1,           1,           1,           1,           1,           1,           1,           1,           1,           1,           1,           1,           1,           1,           1,           1,           1,           1,           1,           1,           1,           1,           1,\n",
       "                  1,           1,           1,           1,           1,           1,           1,           1,           1,           1,           1,           1,           1,           1,           1,           1,           1,           1,           1,           1,           1,           1,           1,\n",
       "                  1,           1,           1,           1,           1,           1,           1,           1,           1,           1,           1,           1,           1,           1,           1,           1,           1,           1,           1,           1,           1,           1,           1,\n",
       "                  1,           1,           1,           1,           1,           1,           1,           1,           1,           1,           1,           1,           1,           1,           1,           1,           1,           1,           1,           1,           1,           1,           1,\n",
       "                  1,           1,           1,           1,           1,           1,           1,           1,           1,           1,           1,           1,           1,           1,           1,           1,           1,           1,           1,           1,           1,           1,           1,\n",
       "                  1,           1,           1,           1,           1,           1,           1,           1,           1,           1,           1,           1,           1,           1,           1,           1,           1,           1,           1,           1,           1,           1,           1,\n",
       "                  1,           1,           1,           1,           1,           1,           1,           1,           1,           1,           1,           1,           1,           1,           1,           1,           1,           1,           1,           1,           1,           1,           1,\n",
       "                  1,           1,           1,           1,           1,           1,           1,           1,           1,           1,           1,           1,           1,           1,           1,           1,           1,           1,           1,           1,           1,           1,           1,\n",
       "                  1,           1,           1,           1,           1,           1,           1,           1,           1,           1,           1,           1,           1,           1,           1,           1,           1,           1,           1,           1,           1,           1,           1,\n",
       "                  1,           1,           1,           1,           1,           1,           1,           1,           1,           1,           1]]), 'Confidence', 'Precision'], [array([          0,    0.001001,    0.002002,    0.003003,    0.004004,    0.005005,    0.006006,    0.007007,    0.008008,    0.009009,     0.01001,    0.011011,    0.012012,    0.013013,    0.014014,    0.015015,    0.016016,    0.017017,    0.018018,    0.019019,     0.02002,    0.021021,    0.022022,    0.023023,\n",
       "          0.024024,    0.025025,    0.026026,    0.027027,    0.028028,    0.029029,     0.03003,    0.031031,    0.032032,    0.033033,    0.034034,    0.035035,    0.036036,    0.037037,    0.038038,    0.039039,     0.04004,    0.041041,    0.042042,    0.043043,    0.044044,    0.045045,    0.046046,    0.047047,\n",
       "          0.048048,    0.049049,     0.05005,    0.051051,    0.052052,    0.053053,    0.054054,    0.055055,    0.056056,    0.057057,    0.058058,    0.059059,     0.06006,    0.061061,    0.062062,    0.063063,    0.064064,    0.065065,    0.066066,    0.067067,    0.068068,    0.069069,     0.07007,    0.071071,\n",
       "          0.072072,    0.073073,    0.074074,    0.075075,    0.076076,    0.077077,    0.078078,    0.079079,     0.08008,    0.081081,    0.082082,    0.083083,    0.084084,    0.085085,    0.086086,    0.087087,    0.088088,    0.089089,     0.09009,    0.091091,    0.092092,    0.093093,    0.094094,    0.095095,\n",
       "          0.096096,    0.097097,    0.098098,    0.099099,      0.1001,      0.1011,      0.1021,      0.1031,      0.1041,     0.10511,     0.10611,     0.10711,     0.10811,     0.10911,     0.11011,     0.11111,     0.11211,     0.11311,     0.11411,     0.11512,     0.11612,     0.11712,     0.11812,     0.11912,\n",
       "           0.12012,     0.12112,     0.12212,     0.12312,     0.12412,     0.12513,     0.12613,     0.12713,     0.12813,     0.12913,     0.13013,     0.13113,     0.13213,     0.13313,     0.13413,     0.13514,     0.13614,     0.13714,     0.13814,     0.13914,     0.14014,     0.14114,     0.14214,     0.14314,\n",
       "           0.14414,     0.14515,     0.14615,     0.14715,     0.14815,     0.14915,     0.15015,     0.15115,     0.15215,     0.15315,     0.15415,     0.15516,     0.15616,     0.15716,     0.15816,     0.15916,     0.16016,     0.16116,     0.16216,     0.16316,     0.16416,     0.16517,     0.16617,     0.16717,\n",
       "           0.16817,     0.16917,     0.17017,     0.17117,     0.17217,     0.17317,     0.17417,     0.17518,     0.17618,     0.17718,     0.17818,     0.17918,     0.18018,     0.18118,     0.18218,     0.18318,     0.18418,     0.18519,     0.18619,     0.18719,     0.18819,     0.18919,     0.19019,     0.19119,\n",
       "           0.19219,     0.19319,     0.19419,      0.1952,      0.1962,      0.1972,      0.1982,      0.1992,      0.2002,      0.2012,      0.2022,      0.2032,      0.2042,     0.20521,     0.20621,     0.20721,     0.20821,     0.20921,     0.21021,     0.21121,     0.21221,     0.21321,     0.21421,     0.21522,\n",
       "           0.21622,     0.21722,     0.21822,     0.21922,     0.22022,     0.22122,     0.22222,     0.22322,     0.22422,     0.22523,     0.22623,     0.22723,     0.22823,     0.22923,     0.23023,     0.23123,     0.23223,     0.23323,     0.23423,     0.23524,     0.23624,     0.23724,     0.23824,     0.23924,\n",
       "           0.24024,     0.24124,     0.24224,     0.24324,     0.24424,     0.24525,     0.24625,     0.24725,     0.24825,     0.24925,     0.25025,     0.25125,     0.25225,     0.25325,     0.25425,     0.25526,     0.25626,     0.25726,     0.25826,     0.25926,     0.26026,     0.26126,     0.26226,     0.26326,\n",
       "           0.26426,     0.26527,     0.26627,     0.26727,     0.26827,     0.26927,     0.27027,     0.27127,     0.27227,     0.27327,     0.27427,     0.27528,     0.27628,     0.27728,     0.27828,     0.27928,     0.28028,     0.28128,     0.28228,     0.28328,     0.28428,     0.28529,     0.28629,     0.28729,\n",
       "           0.28829,     0.28929,     0.29029,     0.29129,     0.29229,     0.29329,     0.29429,      0.2953,      0.2963,      0.2973,      0.2983,      0.2993,      0.3003,      0.3013,      0.3023,      0.3033,      0.3043,     0.30531,     0.30631,     0.30731,     0.30831,     0.30931,     0.31031,     0.31131,\n",
       "           0.31231,     0.31331,     0.31431,     0.31532,     0.31632,     0.31732,     0.31832,     0.31932,     0.32032,     0.32132,     0.32232,     0.32332,     0.32432,     0.32533,     0.32633,     0.32733,     0.32833,     0.32933,     0.33033,     0.33133,     0.33233,     0.33333,     0.33433,     0.33534,\n",
       "           0.33634,     0.33734,     0.33834,     0.33934,     0.34034,     0.34134,     0.34234,     0.34334,     0.34434,     0.34535,     0.34635,     0.34735,     0.34835,     0.34935,     0.35035,     0.35135,     0.35235,     0.35335,     0.35435,     0.35536,     0.35636,     0.35736,     0.35836,     0.35936,\n",
       "           0.36036,     0.36136,     0.36236,     0.36336,     0.36436,     0.36537,     0.36637,     0.36737,     0.36837,     0.36937,     0.37037,     0.37137,     0.37237,     0.37337,     0.37437,     0.37538,     0.37638,     0.37738,     0.37838,     0.37938,     0.38038,     0.38138,     0.38238,     0.38338,\n",
       "           0.38438,     0.38539,     0.38639,     0.38739,     0.38839,     0.38939,     0.39039,     0.39139,     0.39239,     0.39339,     0.39439,      0.3954,      0.3964,      0.3974,      0.3984,      0.3994,      0.4004,      0.4014,      0.4024,      0.4034,      0.4044,     0.40541,     0.40641,     0.40741,\n",
       "           0.40841,     0.40941,     0.41041,     0.41141,     0.41241,     0.41341,     0.41441,     0.41542,     0.41642,     0.41742,     0.41842,     0.41942,     0.42042,     0.42142,     0.42242,     0.42342,     0.42442,     0.42543,     0.42643,     0.42743,     0.42843,     0.42943,     0.43043,     0.43143,\n",
       "           0.43243,     0.43343,     0.43443,     0.43544,     0.43644,     0.43744,     0.43844,     0.43944,     0.44044,     0.44144,     0.44244,     0.44344,     0.44444,     0.44545,     0.44645,     0.44745,     0.44845,     0.44945,     0.45045,     0.45145,     0.45245,     0.45345,     0.45445,     0.45546,\n",
       "           0.45646,     0.45746,     0.45846,     0.45946,     0.46046,     0.46146,     0.46246,     0.46346,     0.46446,     0.46547,     0.46647,     0.46747,     0.46847,     0.46947,     0.47047,     0.47147,     0.47247,     0.47347,     0.47447,     0.47548,     0.47648,     0.47748,     0.47848,     0.47948,\n",
       "           0.48048,     0.48148,     0.48248,     0.48348,     0.48448,     0.48549,     0.48649,     0.48749,     0.48849,     0.48949,     0.49049,     0.49149,     0.49249,     0.49349,     0.49449,      0.4955,      0.4965,      0.4975,      0.4985,      0.4995,      0.5005,      0.5015,      0.5025,      0.5035,\n",
       "            0.5045,     0.50551,     0.50651,     0.50751,     0.50851,     0.50951,     0.51051,     0.51151,     0.51251,     0.51351,     0.51451,     0.51552,     0.51652,     0.51752,     0.51852,     0.51952,     0.52052,     0.52152,     0.52252,     0.52352,     0.52452,     0.52553,     0.52653,     0.52753,\n",
       "           0.52853,     0.52953,     0.53053,     0.53153,     0.53253,     0.53353,     0.53453,     0.53554,     0.53654,     0.53754,     0.53854,     0.53954,     0.54054,     0.54154,     0.54254,     0.54354,     0.54454,     0.54555,     0.54655,     0.54755,     0.54855,     0.54955,     0.55055,     0.55155,\n",
       "           0.55255,     0.55355,     0.55455,     0.55556,     0.55656,     0.55756,     0.55856,     0.55956,     0.56056,     0.56156,     0.56256,     0.56356,     0.56456,     0.56557,     0.56657,     0.56757,     0.56857,     0.56957,     0.57057,     0.57157,     0.57257,     0.57357,     0.57457,     0.57558,\n",
       "           0.57658,     0.57758,     0.57858,     0.57958,     0.58058,     0.58158,     0.58258,     0.58358,     0.58458,     0.58559,     0.58659,     0.58759,     0.58859,     0.58959,     0.59059,     0.59159,     0.59259,     0.59359,     0.59459,      0.5956,      0.5966,      0.5976,      0.5986,      0.5996,\n",
       "            0.6006,      0.6016,      0.6026,      0.6036,      0.6046,     0.60561,     0.60661,     0.60761,     0.60861,     0.60961,     0.61061,     0.61161,     0.61261,     0.61361,     0.61461,     0.61562,     0.61662,     0.61762,     0.61862,     0.61962,     0.62062,     0.62162,     0.62262,     0.62362,\n",
       "           0.62462,     0.62563,     0.62663,     0.62763,     0.62863,     0.62963,     0.63063,     0.63163,     0.63263,     0.63363,     0.63463,     0.63564,     0.63664,     0.63764,     0.63864,     0.63964,     0.64064,     0.64164,     0.64264,     0.64364,     0.64464,     0.64565,     0.64665,     0.64765,\n",
       "           0.64865,     0.64965,     0.65065,     0.65165,     0.65265,     0.65365,     0.65465,     0.65566,     0.65666,     0.65766,     0.65866,     0.65966,     0.66066,     0.66166,     0.66266,     0.66366,     0.66466,     0.66567,     0.66667,     0.66767,     0.66867,     0.66967,     0.67067,     0.67167,\n",
       "           0.67267,     0.67367,     0.67467,     0.67568,     0.67668,     0.67768,     0.67868,     0.67968,     0.68068,     0.68168,     0.68268,     0.68368,     0.68468,     0.68569,     0.68669,     0.68769,     0.68869,     0.68969,     0.69069,     0.69169,     0.69269,     0.69369,     0.69469,      0.6957,\n",
       "            0.6967,      0.6977,      0.6987,      0.6997,      0.7007,      0.7017,      0.7027,      0.7037,      0.7047,     0.70571,     0.70671,     0.70771,     0.70871,     0.70971,     0.71071,     0.71171,     0.71271,     0.71371,     0.71471,     0.71572,     0.71672,     0.71772,     0.71872,     0.71972,\n",
       "           0.72072,     0.72172,     0.72272,     0.72372,     0.72472,     0.72573,     0.72673,     0.72773,     0.72873,     0.72973,     0.73073,     0.73173,     0.73273,     0.73373,     0.73473,     0.73574,     0.73674,     0.73774,     0.73874,     0.73974,     0.74074,     0.74174,     0.74274,     0.74374,\n",
       "           0.74474,     0.74575,     0.74675,     0.74775,     0.74875,     0.74975,     0.75075,     0.75175,     0.75275,     0.75375,     0.75475,     0.75576,     0.75676,     0.75776,     0.75876,     0.75976,     0.76076,     0.76176,     0.76276,     0.76376,     0.76476,     0.76577,     0.76677,     0.76777,\n",
       "           0.76877,     0.76977,     0.77077,     0.77177,     0.77277,     0.77377,     0.77477,     0.77578,     0.77678,     0.77778,     0.77878,     0.77978,     0.78078,     0.78178,     0.78278,     0.78378,     0.78478,     0.78579,     0.78679,     0.78779,     0.78879,     0.78979,     0.79079,     0.79179,\n",
       "           0.79279,     0.79379,     0.79479,      0.7958,      0.7968,      0.7978,      0.7988,      0.7998,      0.8008,      0.8018,      0.8028,      0.8038,      0.8048,     0.80581,     0.80681,     0.80781,     0.80881,     0.80981,     0.81081,     0.81181,     0.81281,     0.81381,     0.81481,     0.81582,\n",
       "           0.81682,     0.81782,     0.81882,     0.81982,     0.82082,     0.82182,     0.82282,     0.82382,     0.82482,     0.82583,     0.82683,     0.82783,     0.82883,     0.82983,     0.83083,     0.83183,     0.83283,     0.83383,     0.83483,     0.83584,     0.83684,     0.83784,     0.83884,     0.83984,\n",
       "           0.84084,     0.84184,     0.84284,     0.84384,     0.84484,     0.84585,     0.84685,     0.84785,     0.84885,     0.84985,     0.85085,     0.85185,     0.85285,     0.85385,     0.85485,     0.85586,     0.85686,     0.85786,     0.85886,     0.85986,     0.86086,     0.86186,     0.86286,     0.86386,\n",
       "           0.86486,     0.86587,     0.86687,     0.86787,     0.86887,     0.86987,     0.87087,     0.87187,     0.87287,     0.87387,     0.87487,     0.87588,     0.87688,     0.87788,     0.87888,     0.87988,     0.88088,     0.88188,     0.88288,     0.88388,     0.88488,     0.88589,     0.88689,     0.88789,\n",
       "           0.88889,     0.88989,     0.89089,     0.89189,     0.89289,     0.89389,     0.89489,      0.8959,      0.8969,      0.8979,      0.8989,      0.8999,      0.9009,      0.9019,      0.9029,      0.9039,      0.9049,     0.90591,     0.90691,     0.90791,     0.90891,     0.90991,     0.91091,     0.91191,\n",
       "           0.91291,     0.91391,     0.91491,     0.91592,     0.91692,     0.91792,     0.91892,     0.91992,     0.92092,     0.92192,     0.92292,     0.92392,     0.92492,     0.92593,     0.92693,     0.92793,     0.92893,     0.92993,     0.93093,     0.93193,     0.93293,     0.93393,     0.93493,     0.93594,\n",
       "           0.93694,     0.93794,     0.93894,     0.93994,     0.94094,     0.94194,     0.94294,     0.94394,     0.94494,     0.94595,     0.94695,     0.94795,     0.94895,     0.94995,     0.95095,     0.95195,     0.95295,     0.95395,     0.95495,     0.95596,     0.95696,     0.95796,     0.95896,     0.95996,\n",
       "           0.96096,     0.96196,     0.96296,     0.96396,     0.96496,     0.96597,     0.96697,     0.96797,     0.96897,     0.96997,     0.97097,     0.97197,     0.97297,     0.97397,     0.97497,     0.97598,     0.97698,     0.97798,     0.97898,     0.97998,     0.98098,     0.98198,     0.98298,     0.98398,\n",
       "           0.98498,     0.98599,     0.98699,     0.98799,     0.98899,     0.98999,     0.99099,     0.99199,     0.99299,     0.99399,     0.99499,       0.996,       0.997,       0.998,       0.999,           1]), array([[          1,           1,           1,           1,           1,           1,           1,           1,           1,           1,           1,           1,           1,           1,           1,           1,           1,           1,           1,           1,           1,           1,           1,\n",
       "                  1,           1,           1,           1,           1,           1,           1,           1,           1,           1,           1,           1,           1,           1,           1,           1,           1,           1,           1,           1,           1,           1,           1,\n",
       "                  1,           1,           1,           1,           1,           1,           1,           1,           1,           1,           1,           1,           1,           1,           1,           1,           1,           1,           1,           1,           1,           1,           1,\n",
       "                  1,           1,           1,           1,           1,           1,           1,           1,           1,           1,           1,           1,           1,           1,           1,           1,           1,           1,           1,           1,           1,           1,           1,\n",
       "                  1,           1,           1,           1,           1,           1,           1,           1,           1,           1,           1,           1,           1,           1,           1,           1,           1,           1,           1,           1,           1,           1,           1,\n",
       "                  1,           1,           1,           1,           1,           1,           1,           1,           1,           1,           1,           1,           1,           1,           1,           1,           1,           1,           1,           1,           1,           1,           1,\n",
       "                  1,           1,           1,           1,           1,           1,           1,           1,           1,           1,           1,           1,           1,           1,           1,           1,           1,           1,           1,           1,           1,           1,           1,\n",
       "                  1,           1,           1,           1,           1,           1,           1,           1,           1,           1,           1,           1,           1,           1,           1,           1,           1,           1,           1,           1,           1,           1,           1,\n",
       "                  1,           1,           1,           1,           1,           1,           1,           1,           1,           1,           1,           1,           1,           1,           1,           1,           1,           1,           1,           1,           1,           1,           1,\n",
       "                  1,           1,           1,           1,           1,           1,           1,           1,           1,           1,           1,           1,           1,           1,           1,           1,           1,           1,           1,           1,           1,           1,           1,\n",
       "                  1,           1,           1,           1,           1,           1,           1,           1,           1,           1,           1,           1,           1,           1,           1,           1,           1,           1,           1,           1,           1,           1,           1,\n",
       "                  1,           1,           1,           1,           1,           1,           1,           1,           1,           1,           1,           1,           1,           1,           1,           1,           1,           1,           1,           1,           1,           1,           1,\n",
       "                  1,           1,           1,           1,           1,           1,           1,           1,           1,           1,           1,           1,           1,           1,           1,           1,           1,           1,           1,           1,           1,           1,           1,\n",
       "                  1,           1,           1,           1,           1,           1,           1,           1,           1,           1,           1,           1,           1,           1,           1,           1,           1,           1,           1,           1,           1,           1,           1,\n",
       "                  1,           1,           1,           1,           1,           1,           1,           1,           1,           1,           1,           1,           1,           1,           1,           1,           1,           1,           1,           1,           1,           1,           1,\n",
       "                  1,           1,           1,           1,           1,           1,           1,           1,           1,           1,           1,           1,           1,           1,           1,           1,           1,           1,           1,           1,           1,           1,           1,\n",
       "                  1,           1,           1,           1,           1,           1,           1,           1,           1,           1,           1,           1,           1,           1,           1,           1,           1,           1,           1,           1,           1,           1,           1,\n",
       "                  1,           1,           1,           1,           1,           1,           1,           1,           1,           1,           1,           1,           1,           1,           1,           1,           1,           1,           1,           1,           1,           1,           1,\n",
       "                  1,           1,           1,           1,           1,           1,           1,           1,           1,           1,           1,           1,           1,           1,           1,           1,           1,           1,           1,           1,           1,           1,           1,\n",
       "                  1,           1,           1,           1,           1,           1,           1,           1,           1,           1,           1,           1,           1,           1,           1,           1,           1,           1,           1,           1,           1,           1,           1,\n",
       "                  1,           1,           1,           1,           1,           1,           1,           1,           1,           1,           1,           1,           1,           1,           1,           1,           1,           1,           1,           1,           1,           1,           1,\n",
       "                  1,           1,           1,           1,           1,           1,           1,           1,           1,           1,           1,           1,           1,           1,           1,           1,           1,           1,           1,           1,           1,           1,           1,\n",
       "                  1,           1,           1,           1,           1,           1,           1,           1,           1,           1,           1,           1,           1,           1,           1,           1,           1,           1,           1,           1,           1,           1,           1,\n",
       "                  1,           1,           1,           1,           1,           1,           1,           1,           1,           1,           1,           1,           1,           1,           1,           1,           1,           1,           1,           1,           1,           1,           1,\n",
       "                  1,           1,           1,           1,           1,           1,           1,           1,           1,           1,           1,           1,           1,           1,           1,           1,           1,           1,           1,           1,           1,           1,           1,\n",
       "                  1,           1,           1,           1,           1,           1,           1,           1,           1,           1,           1,           1,           1,           1,           1,           1,           1,           1,           1,           1,           1,           1,           1,\n",
       "                  1,           1,           1,           1,           1,           1,           1,           1,           1,           1,           1,           1,           1,           1,           1,           1,           1,           1,           1,           1,           1,           1,           1,\n",
       "                  1,           1,           1,           1,           1,           1,           1,           1,           1,           1,           1,           1,           1,           1,           1,           1,           1,           1,           1,           1,           1,           1,           1,\n",
       "                  1,           1,           1,           1,           1,           1,           1,           1,           1,           1,           1,           1,           1,           1,           1,           1,     0.99999,     0.99962,     0.99924,     0.99887,     0.99849,     0.99812,     0.99774,\n",
       "            0.99745,      0.9974,     0.99736,     0.99732,     0.99728,     0.99723,     0.99719,     0.99715,     0.99711,     0.99706,     0.99702,     0.99698,     0.99694,     0.99689,     0.99685,     0.99681,     0.99677,     0.99672,     0.99668,     0.99664,      0.9966,     0.99655,     0.99651,\n",
       "            0.99647,     0.99642,     0.99638,     0.99634,      0.9963,     0.99625,     0.99621,     0.99617,     0.99613,     0.99608,     0.99604,       0.996,     0.99596,     0.99591,     0.99587,     0.99583,     0.99579,     0.99574,      0.9957,     0.99566,     0.99562,     0.99557,     0.99553,\n",
       "            0.99549,     0.99545,      0.9954,     0.99536,     0.99532,     0.99528,     0.99523,     0.99519,     0.99515,     0.99511,     0.99506,     0.99502,     0.99498,     0.99494,     0.99489,     0.99483,     0.99478,     0.99472,     0.99466,     0.99461,     0.99455,     0.99449,     0.99444,\n",
       "            0.99438,     0.99433,     0.99427,     0.99421,     0.99416,      0.9941,     0.99404,     0.99399,     0.99393,     0.99388,     0.99382,     0.99376,     0.99371,     0.99365,     0.99359,     0.99354,     0.99348,     0.99343,     0.99337,     0.99331,     0.99326,      0.9932,     0.99314,\n",
       "            0.99309,     0.99303,     0.99298,     0.99292,     0.99286,     0.99281,     0.99275,     0.99269,     0.99264,     0.99258,     0.99253,     0.99247,     0.99241,     0.99236,     0.99231,     0.99226,     0.99222,     0.99217,     0.99212,     0.99208,     0.99203,     0.99198,     0.99194,\n",
       "            0.99189,     0.99184,      0.9918,     0.99175,      0.9917,     0.99166,     0.99161,     0.99156,     0.99152,     0.99147,     0.99142,     0.99138,     0.99133,     0.99128,     0.99124,     0.99119,     0.99114,      0.9911,     0.99105,       0.991,     0.99096,     0.99091,     0.99086,\n",
       "            0.99081,     0.99077,     0.99072,     0.99067,     0.99063,     0.99058,     0.99053,     0.99049,     0.99044,     0.99039,     0.99035,      0.9903,     0.99025,     0.99021,     0.99016,     0.99011,     0.99007,     0.99002,     0.98997,     0.98993,     0.98988,     0.98983,     0.98923,\n",
       "            0.98846,      0.9877,      0.9872,     0.98704,     0.98688,     0.98672,     0.98656,      0.9864,     0.98624,     0.98607,     0.98591,     0.98575,     0.98559,     0.98543,     0.98527,     0.98511,     0.98494,     0.98478,      0.9843,     0.98368,     0.98305,     0.98242,     0.97949,\n",
       "            0.97869,      0.9779,     0.97711,     0.97678,     0.97647,     0.97615,     0.97583,     0.97551,     0.97519,     0.97487,     0.97434,     0.96962,     0.96825,     0.96697,     0.96554,     0.96392,     0.96173,     0.96091,     0.96008,     0.95921,     0.95691,     0.95148,     0.95049,\n",
       "             0.9495,     0.94667,      0.9455,     0.94441,     0.93456,     0.92708,     0.92286,        0.92,     0.91473,       0.911,     0.90978,     0.90861,      0.8999,      0.8975,     0.89635,     0.89465,     0.89022,     0.88705,     0.88532,     0.88314,     0.88113,     0.87565,     0.86572,\n",
       "            0.85886,     0.85463,     0.84529,     0.84028,     0.82271,     0.80947,      0.8046,     0.78997,     0.77982,     0.77135,     0.76286,     0.75918,     0.74446,     0.73564,     0.72813,     0.71428,     0.69687,       0.687,     0.68285,     0.67365,     0.65895,     0.64922,     0.64044,\n",
       "            0.62693,     0.59265,     0.58832,     0.58283,     0.56818,     0.55743,     0.55025,     0.54174,     0.52547,     0.51215,     0.50717,     0.48837,     0.47495,     0.45983,       0.447,     0.41594,     0.39636,      0.3757,     0.36319,     0.34403,     0.30222,     0.27402,     0.25519,\n",
       "            0.23721,     0.22071,     0.19116,     0.16969,     0.15136,     0.12944,     0.12038,    0.093779,    0.075091,    0.065016,    0.055969,    0.047776,    0.034836,    0.022526,    0.018606,    0.016291,    0.014498,    0.012982,   0.0089783,     0.00563,    0.002839,           0,           0,\n",
       "                  0,           0,           0,           0,           0,           0,           0,           0,           0,           0,           0,           0,           0,           0,           0,           0,           0,           0,           0,           0,           0,           0,           0,\n",
       "                  0,           0,           0,           0,           0,           0,           0,           0,           0,           0,           0]]), 'Confidence', 'Recall']]\n",
       "fitness: 0.9626816812933306\n",
       "keys: ['metrics/precision(B)', 'metrics/recall(B)', 'metrics/mAP50(B)', 'metrics/mAP50-95(B)']\n",
       "maps: array([    0.95909])\n",
       "names: {0: 'car_plate'}\n",
       "plot: True\n",
       "results_dict: {'metrics/precision(B)': 0.9994336237748038, 'metrics/recall(B)': 1.0, 'metrics/mAP50(B)': 0.995, 'metrics/mAP50-95(B)': 0.9590907569925895, 'fitness': 0.9626816812933306}\n",
       "save_dir: PosixPath('/Users/simon/Documents/Github/ITE-5310-Machine-Learning-Assignment10/runs/detect/train')\n",
       "speed: {'preprocess': 0.9467563931904142, 'inference': 133.7650005148832, 'loss': 2.4598742288256446e-05, 'postprocess': 0.308929927765377}\n",
       "task: 'detect'"
      ]
     },
     "execution_count": 7,
     "metadata": {},
     "output_type": "execute_result"
    }
   ],
   "source": [
    "from ultralytics import YOLO\n",
    "\n",
    "YOLO_V8N = \"./model/base/yolov8n.pt\"  # the model to train customized model\n",
    "\n",
    "car_plate_model = YOLO(YOLO_V8N)     # Define model object from default v8n model\n",
    "car_plate_model.train(data=YAML_PATH)    # Train Yolo model"
   ]
  },
  {
   "cell_type": "markdown",
   "id": "ba610b66",
   "metadata": {},
   "source": [
    "## Predict using Custom Model\n"
   ]
  },
  {
   "cell_type": "code",
   "execution_count": null,
   "id": "3abc0dc0",
   "metadata": {},
   "outputs": [],
   "source": [
    "from ultralytics import YOLO\n",
    "\n",
    "CAR_PLATE_MODEL_PATH = \"./model/car_plate/best.pt\"\n",
    "TEST_IMAGE_PATH = Path(TEST_DS_PATH,\"images\").absolute().as_posix()\n",
    "\n",
    "# Load a model\n",
    "car_plate_model = YOLO(CAR_PLATE_MODEL_PATH)  # pretrained YOLOv8n model\n",
    "\n",
    "# car_plate_model.predict(TEST_IMAGE_PATH, save=True, imgsz=320, conf=0.5)"
   ]
  },
  {
   "cell_type": "markdown",
   "id": "328abc99",
   "metadata": {},
   "source": []
  }
 ],
 "metadata": {
  "accelerator": "GPU",
  "colab": {
   "gpuType": "T4",
   "provenance": []
  },
  "kernelspec": {
   "display_name": "Python 3 (ipykernel)",
   "language": "python",
   "name": "python3"
  },
  "language_info": {
   "codemirror_mode": {
    "name": "ipython",
    "version": 3
   },
   "file_extension": ".py",
   "mimetype": "text/x-python",
   "name": "python",
   "nbconvert_exporter": "python",
   "pygments_lexer": "ipython3",
   "version": "3.11.5"
  }
 },
 "nbformat": 4,
 "nbformat_minor": 5
}
