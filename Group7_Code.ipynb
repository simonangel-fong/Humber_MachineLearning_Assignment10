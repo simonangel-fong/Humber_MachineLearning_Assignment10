{
  "cells": [
    {
      "cell_type": "markdown",
      "id": "1000a721-7aa4-4493-82fa-ee4efc6ef876",
      "metadata": {
        "id": "1000a721-7aa4-4493-82fa-ee4efc6ef876"
      },
      "source": [
        "# Appendix: Project Code\n",
        "\n",
        "- Project: Vehicle License Plate Detection using YOLOv8\n",
        "- Group: 07\n",
        "- ID: N01555914\n",
        "- Name: Wenhao Fang\n",
        "\n",
        "---\n"
      ]
    },
    {
      "cell_type": "markdown",
      "id": "dciobepfTMLz",
      "metadata": {
        "id": "dciobepfTMLz"
      },
      "source": [
        "## Device Setup\n",
        "\n",
        "- Enable Cuda"
      ]
    },
    {
      "cell_type": "code",
      "execution_count": null,
      "id": "sedWlVweTLeK",
      "metadata": {
        "colab": {
          "base_uri": "https://localhost:8080/"
        },
        "id": "sedWlVweTLeK",
        "outputId": "34b6b253-1636-476f-cb4f-a4a759855283"
      },
      "outputs": [
        {
          "name": "stdout",
          "output_type": "stream",
          "text": [
            "cuda:0\n"
          ]
        }
      ],
      "source": [
        "import torch\n",
        "device = torch.device('cuda:0' if torch.cuda.is_available() else 'cpu')\n",
        "print(device)"
      ]
    },
    {
      "cell_type": "markdown",
      "id": "iSa_sCfQT4QA",
      "metadata": {
        "id": "iSa_sCfQT4QA"
      },
      "source": [
        "- Mount the drive and set the path"
      ]
    },
    {
      "cell_type": "code",
      "execution_count": 5,
      "id": "p5G9cNgET7_I",
      "metadata": {
        "colab": {
          "base_uri": "https://localhost:8080/"
        },
        "id": "p5G9cNgET7_I",
        "outputId": "58f29f91-8924-45ea-c664-a77ca10dc5fc"
      },
      "outputs": [
        {
          "name": "stdout",
          "output_type": "stream",
          "text": [
            "Mounted at /content/drive\n"
          ]
        }
      ],
      "source": [
        "from google.colab import drive\n",
        "drive.mount('/content/drive')"
      ]
    },
    {
      "cell_type": "code",
      "execution_count": 6,
      "id": "bHkVIGM_Ua-t",
      "metadata": {
        "colab": {
          "base_uri": "https://localhost:8080/"
        },
        "id": "bHkVIGM_Ua-t",
        "outputId": "32f131de-dc0c-43c1-eb99-98c3c2adf885"
      },
      "outputs": [
        {
          "name": "stdout",
          "output_type": "stream",
          "text": [
            "/content/drive/MyDrive/ML_Ass10\n"
          ]
        }
      ],
      "source": [
        "%cd /content/drive/MyDrive/ML_Ass10"
      ]
    },
    {
      "cell_type": "markdown",
      "id": "rAZ-YFrXTA3q",
      "metadata": {
        "id": "rAZ-YFrXTA3q"
      },
      "source": [
        "## Data Collection\n",
        "\n",
        "- `simple_image_download` :\n",
        "\n",
        "  - a Python library that allows to search URLs of images from “Google images” using tags, and downloads them to local computer.\n",
        "  - In this Assignment, Version 0.4 will be used for better compatiable.\n",
        "\n",
        "- Command to install `simple_image_download`:\n",
        "\n",
        "```sh\n",
        "pip install simple-image-download==0.4\n",
        "```\n"
      ]
    },
    {
      "cell_type": "code",
      "execution_count": null,
      "id": "abc1be12",
      "metadata": {
        "id": "abc1be12"
      },
      "outputs": [],
      "source": [
        "# pip install simple-image-download==0.4\n",
        "# Define downloady_images function\n",
        "from simple_image_download import simple_image_download as simp\n",
        "\n",
        "def download_images(keyword, num_pic):\n",
        "    response = simp.simple_image_download()\n",
        "\n",
        "    for kw in keyword:\n",
        "        response.download(keywords=kw, limit=num_pic)"
      ]
    },
    {
      "cell_type": "code",
      "execution_count": null,
      "id": "Cbdxm8TDTA3s",
      "metadata": {
        "id": "Cbdxm8TDTA3s",
        "outputId": "4eba3a85-a6fd-4d77-c9d5-d20b5da0e624"
      },
      "outputs": [
        {
          "name": "stderr",
          "output_type": "stream",
          "text": [
            "[========================================================================] 100%\n",
            "[========================================================================] 100%\n",
            "[========================================================================] 100%\n",
            "[========================================================================] 100%\n",
            "[========================================================================] 100%\n",
            "[========================================================================] 100%\n",
            "[========================================================================] 100%\n",
            "[========================================================================] 100%\n",
            "[========================================================================] 100%\n",
            "[========================================================================] 100%\n",
            "[========================================================================] 100%\n",
            "[========================================================================] 100%\n",
            "[========================================================================] 100%\n",
            "[========================================================================] 100%\n",
            "[========================================================================] 100%\n",
            "[========================================================================] 100%\n",
            "[========================================================================] 100%\n",
            "[========================================================================] 100%\n",
            "[========================================================================] 100%\n",
            "[========================================================================] 100%\n",
            "[========================================================================] 100%\n",
            "[========================================================================] 100%\n",
            "[========================================================================] 100%\n",
            "[========================================================================] 100%\n",
            "[========================================================================] 100%\n",
            "[========================================================================] 100%\n",
            "[========================================================================] 100%\n",
            "[========================================================================] 100%\n",
            "[========================================================================] 100%\n",
            "[========================================================================] 100%\n",
            "[========================================================================] 100%\n",
            "[========================================================================] 100%\n",
            "[========================================================================] 100%\n",
            "[========================================================================] 100%\n",
            "[========================================================================] 100%\n",
            "[========================================================================] 100%\n",
            "[========================================================================] 100%\n",
            "[========================================================================] 100%\n",
            "[========================================================================] 100%\n",
            "[========================================================================] 100%\n",
            "[========================================================================] 100%\n",
            "[========================================================================] 100%\n",
            "[========================================================================] 100%\n",
            "[========================================================================] 100%\n",
            "[========================================================================] 100%\n",
            "[========================================================================] 100%\n",
            "[========================================================================] 100%\n",
            "[========================================================================] 100%\n",
            "[========================================================================] 100%\n"
          ]
        }
      ],
      "source": [
        "# Define a list of keywords to download images\n",
        "keywords = [\n",
        "    \"Corvette with license plate\",\n",
        "    \"Volkswagen Beetle with license plate\",\n",
        "    \"Volkswagen Golf with license plate\",\n",
        "    \"Volkswagen Passat with license plate\",\n",
        "    \"Volkswagen Tiguan with license plate\",\n",
        "    \"Toyota Tacoma with license plate\",\n",
        "    \"Toyota Corolla with license plate\",\n",
        "    \"Toyota Highlander with license plate\",\n",
        "    \"Toyota Camry with license plate\",\n",
        "    \"Toyota RAV4 with license plate\",\n",
        "    \"Honda Accord with license plate\",\n",
        "    \"Honda Pilot with license plate\",\n",
        "    \"Honda CR-V with license plate\",\n",
        "    \"Honda Odyssey with license plate\",\n",
        "    \"Honda Passport with license plate\",\n",
        "    \"Honda Civic with license plate\",\n",
        "    \"Honda HR-V with license plate\",\n",
        "    \"BMW with license plate\",\n",
        "    \"Audi Q8 with license plate\",\n",
        "    \"Audi A3 Convertible with license plate\",\n",
        "    \"Audi A5 with license plate\",\n",
        "    \"Audi A4 with license plate\",\n",
        "    \"Audi Q7 with license plate\",\n",
        "    \"Audi A8 with license plate\",\n",
        "    \"Hyundai Kona with license plate\",\n",
        "    \"Hyundai Sonata with license plate\",\n",
        "    \"Hyundai Elantra with license plate\",\n",
        "    \"Hyundai Santa Cruz with license plate\",\n",
        "    \"Hyundai Accent with license plate\",\n",
        "    \"Jeep Gladiator with license plate\",\n",
        "    \"Jeep Grand Cherokee with license plate\",\n",
        "    \"Jeep Avenger with license plate\",\n",
        "    \"Chevrolet Camaro with license plate\",\n",
        "    \"Chevrolet Corvette with license plate\",\n",
        "    \"Chevrolet Malibu with license plate\",\n",
        "    \"Ford F-Series with license plate\",\n",
        "    \"Ford Escort with license plate\",\n",
        "    \"Ford Fiesta with license plate\",\n",
        "    \"Ford Focus with license plate\",\n",
        "    \"Ford Mustang with license plate\",\n",
        "    \"Ford Transit with license plate\",\n",
        "    \"Ford Taurus with license plate\",\n",
        "    \"Ford Explorer with license plate\",\n",
        "    \"Tesla Model Y with license plate\",\n",
        "    \"tesla model 3 with license plate\",\n",
        "    \"tesla model s with license plate\",\n",
        "    \"car with license plate\",\n",
        "    \"vehicle with license plate\",\n",
        "    \"sports car with plate\",\n",
        "]\n",
        "# Define max number of pic to download\n",
        "num_pic = 200\n",
        "\n",
        "# Call function to dowload\n",
        "# download_images(keywords, num_pic)  # comment after download"
      ]
    },
    {
      "cell_type": "markdown",
      "id": "22a166b4",
      "metadata": {
        "id": "22a166b4"
      },
      "source": [
        "---\n"
      ]
    },
    {
      "cell_type": "markdown",
      "id": "bd0cddb9",
      "metadata": {
        "id": "bd0cddb9"
      },
      "source": [
        "## Data Processing\n",
        "\n",
        "### Image Annotation\n",
        "\n",
        "- `LabelImg`\n",
        "\n",
        "  - a **graphical image annotation tool**.\n",
        "  - It is written in Python and uses Qt for its **graphical interface**.\n",
        "  - Annotations are saved as `XML` files in `PASCAL VOC` format, the format used by `ImageNet`. Besides, it also supports `YOLO` and `CreateML` formats.\n",
        "\n",
        "  - Github: https://github.com/HumanSignal/labelImg\n",
        "\n",
        "- Command to install and call programme\n",
        "\n",
        "```sh\n",
        "# Install labelImg library\n",
        "pip install labelImg\n",
        "\n",
        "# call programme\n",
        "labelImg\n",
        "```\n"
      ]
    },
    {
      "cell_type": "markdown",
      "id": "cc061887",
      "metadata": {
        "id": "cc061887"
      },
      "source": [
        "---"
      ]
    },
    {
      "cell_type": "markdown",
      "id": "4080395f",
      "metadata": {
        "id": "4080395f"
      },
      "source": [
        "## Configure YOLOv8 Environment and Model\n",
        "\n",
        "### Dataset Architecture\n",
        "\n",
        "- Create directory for train, val, and pred datasets.\n",
        "- Split images into train, val, and pred datasets.\n",
        "- Copy images and annotation files to train, val, and pred directories.\n"
      ]
    },
    {
      "cell_type": "code",
      "execution_count": null,
      "id": "3afd9200",
      "metadata": {
        "id": "3afd9200"
      },
      "outputs": [],
      "source": [
        "# Define functions for data processing\n",
        "import os\n",
        "import shutil\n",
        "from pathlib import Path\n",
        "from sklearn.model_selection import train_test_split\n",
        "\n",
        "# region Supporting Functions\n",
        "\n",
        "\n",
        "def create_datasets_dir(dir):\n",
        "    '''Create train and test directories'''\n",
        "\n",
        "    if os.path.isdir(dir):\n",
        "        shutil.rmtree(dir)\n",
        "\n",
        "    Path(dir).mkdir(parents=True, exist_ok=True)\n",
        "\n",
        "    train_path = Path(dir, \"train\")\n",
        "    train_image_path = Path(train_path, \"images\")\n",
        "    train_labels_path = Path(train_path, \"labels\")\n",
        "\n",
        "    Path(train_path).mkdir(parents=True, exist_ok=True)\n",
        "    Path(train_image_path).mkdir(parents=True, exist_ok=True)\n",
        "    Path(train_labels_path).mkdir(parents=True, exist_ok=True)\n",
        "\n",
        "    pred_path = Path(dir, \"pred\")\n",
        "    pred_image_path = Path(pred_path, \"images\")\n",
        "    pred_labels_path = Path(pred_path, \"labels\")\n",
        "\n",
        "    Path(pred_path).mkdir(parents=True, exist_ok=True)\n",
        "    Path(pred_image_path).mkdir(parents=True, exist_ok=True)\n",
        "    Path(pred_labels_path).mkdir(parents=True, exist_ok=True)\n",
        "\n",
        "    val_path = Path(dir, \"val\")\n",
        "    val_image_path = Path(val_path, \"images\")\n",
        "    val_labels_path = Path(val_path, \"labels\")\n",
        "\n",
        "    Path(val_path).mkdir(parents=True, exist_ok=True)\n",
        "    Path(val_image_path).mkdir(parents=True, exist_ok=True)\n",
        "    Path(val_labels_path).mkdir(parents=True, exist_ok=True)\n",
        "\n",
        "\n",
        "def copy_files(source_fn_list, source_path,  target_path):\n",
        "    '''Copy selected file list to destination'''\n",
        "\n",
        "    image_path = Path(target_path, \"images\")\n",
        "    labels_path = Path(target_path, \"labels\")\n",
        "    for fn in source_fn_list:\n",
        "        # if the csv file exists\n",
        "        if Path(source_path, fn+\".txt\").is_file() and Path(source_path, fn+\".jpeg\").is_file():\n",
        "            shutil.copy(Path(source_path, fn+\".jpeg\"), image_path)\n",
        "            shutil.copy(Path(source_path, fn+\".txt\"), labels_path)\n",
        "\n",
        "\n",
        "def report_info(target_path):\n",
        "    '''report files in path'''\n",
        "    report = {\n",
        "        \"images\": {\"path\": Path(target_path, \"images\"), \"count\": 0},\n",
        "        \"labels\": {\"path\": Path(target_path, \"labels\"), \"count\": 0},\n",
        "    }\n",
        "\n",
        "    for file in os.listdir(Path(target_path, \"labels\")):\n",
        "        if file.endswith(\".txt\"):\n",
        "            report['labels'][\"count\"] += 1\n",
        "\n",
        "    for file in os.listdir(Path(target_path, \"images\")):\n",
        "        if file.endswith(\".jpeg\"):\n",
        "            report[\"images\"][\"count\"] += 1\n",
        "\n",
        "    return report\n",
        "\n",
        "\n",
        "def clear_runr_dir(dir):\n",
        "    # Clean left over runs dir\n",
        "    if os.path.isdir(dir):\n",
        "        shutil.rmtree(\"./runs\")\n",
        "\n",
        "# endregion"
      ]
    },
    {
      "cell_type": "code",
      "execution_count": null,
      "id": "8c80b6f4",
      "metadata": {
        "colab": {
          "base_uri": "https://localhost:8080/"
        },
        "id": "8c80b6f4",
        "outputId": "62820739-fc93-4649-8687-0a9481a9c757"
      },
      "outputs": [
        {
          "name": "stdout",
          "output_type": "stream",
          "text": [
            "\n",
            "Report: Train Dataset\n",
            "Images Path: /content/drive/MyDrive/ML_Ass10/datasets/train/images\n",
            "Images Count: 431\n",
            "Label Path: /content/drive/MyDrive/ML_Ass10/datasets/train/labels\n",
            "Labels Count: 431\n",
            "\n",
            "Report: Val Dataset\n",
            "Images Path: /content/drive/MyDrive/ML_Ass10/datasets/val/images\n",
            "Images Count: 56\n",
            "Label Path: /content/drive/MyDrive/ML_Ass10/datasets/val/labels\n",
            "Labels Count: 56\n",
            "\n",
            "Report: Pred Dataset\n",
            "Images Path: /content/drive/MyDrive/ML_Ass10/datasets/pred/images\n",
            "Images Count: 56\n",
            "Label Path: /content/drive/MyDrive/ML_Ass10/datasets/pred/labels\n",
            "Labels Count: 56\n"
          ]
        }
      ],
      "source": [
        "# Define paths\n",
        "from pathlib import Path\n",
        "\n",
        "ROOT_DIR = Path().resolve() # Root path\n",
        "\n",
        "LABEL_IMAGE_PATH = Path(ROOT_DIR, \"data_label_image\")\n",
        "DATASET_PATH = Path(ROOT_DIR, \"datasets\")\n",
        "TRAIN_DS_PATH = Path(DATASET_PATH, \"train\")\n",
        "PRED_DS_PATH = Path(DATASET_PATH, \"pred\")\n",
        "VAL_DS_PATH = Path(DATASET_PATH, \"val\")\n",
        "\n",
        "# train/val/pred: 80:10:10\n",
        "VAL_SIZE = 0.10 # % of val size\n",
        "PRED_SIZE = 0.10 # % of pred size\n",
        "\n",
        "# establish datasets directory\n",
        "create_datasets_dir(DATASET_PATH)\n",
        "\n",
        "# get unique list of file\n",
        "fn_list = os.listdir(LABEL_IMAGE_PATH)\n",
        "fn_unique_list = list(set([\"\".join(fn.split(\".\")[:-1]) for fn in fn_list]))\n",
        "\n",
        "# split train, val, and pred dataset\n",
        "fn_train, fn_val_pred = train_test_split(\n",
        "    fn_unique_list, test_size=VAL_SIZE+PRED_SIZE, random_state=42)    # get train set, with test_size = val+pred\n",
        "\n",
        "fn_val, fn_pred = train_test_split(\n",
        "    fn_val_pred, test_size=VAL_SIZE/(PRED_SIZE+VAL_SIZE), random_state=42)    # get val and pred set, with test_size = val/val+pred\n",
        "\n",
        "# # clone files to destination\n",
        "copy_files(fn_train, LABEL_IMAGE_PATH,  TRAIN_DS_PATH)\n",
        "copy_files(fn_val, LABEL_IMAGE_PATH,  VAL_DS_PATH)\n",
        "copy_files(fn_pred, LABEL_IMAGE_PATH,  PRED_DS_PATH)\n",
        "\n",
        "# train_report\n",
        "train_report = report_info(TRAIN_DS_PATH)\n",
        "print(\n",
        "    f\"\\nReport: Train Dataset\\nImages Path: {train_report['images']['path']}\\nImages Count: {train_report['images']['count']}\\nLabel Path: {train_report['labels']['path']}\\nLabels Count: {train_report['labels']['count']}\")\n",
        "\n",
        "# val_report\n",
        "val_report = report_info(VAL_DS_PATH)\n",
        "print(\n",
        "    f\"\\nReport: Val Dataset\\nImages Path: {val_report['images']['path']}\\nImages Count: {val_report['images']['count']}\\nLabel Path: {val_report['labels']['path']}\\nLabels Count: {val_report['labels']['count']}\")\n",
        "\n",
        "# pred_report\n",
        "pred_report = report_info(PRED_DS_PATH)\n",
        "print(\n",
        "    f\"\\nReport: Pred Dataset\\nImages Path: {pred_report['images']['path']}\\nImages Count: {pred_report['images']['count']}\\nLabel Path: {pred_report['labels']['path']}\\nLabels Count: {pred_report['labels']['count']}\")\n",
        "\n",
        "clear_runr_dir(\"./runs\")\n"
      ]
    },
    {
      "cell_type": "markdown",
      "id": "56c4aa42",
      "metadata": {
        "id": "56c4aa42"
      },
      "source": [
        "---"
      ]
    },
    {
      "cell_type": "markdown",
      "id": "ba4c82de",
      "metadata": {
        "id": "ba4c82de"
      },
      "source": [
        "### YOLO Model Configuration\n",
        "\n",
        "- YAML file in `datasets` directory\n",
        "\n",
        "```yaml\n",
        "names:\n",
        "  0: <label_name>\n",
        "train: <absolute path of train dataset's images>\n",
        "val: <absolute path of val dataset's images>\n",
        "```\n"
      ]
    },
    {
      "cell_type": "code",
      "execution_count": null,
      "id": "2f3a57b6",
      "metadata": {
        "id": "2f3a57b6"
      },
      "outputs": [],
      "source": [
        "import yaml\n",
        "\n",
        "YAML_PATH = \"./datasets/config.yaml\"  # path to data file\n",
        "\n",
        "data = dict(\n",
        "    train=Path(TRAIN_DS_PATH, \"images\").absolute().as_posix(),\n",
        "    val=Path(VAL_DS_PATH, \"images\").absolute().as_posix(),\n",
        "    names={0: \"car_plate\"}\n",
        ")\n",
        "\n",
        "with open(YAML_PATH, 'w') as outfile:\n",
        "    yaml.dump(data, outfile, default_flow_style=False)"
      ]
    },
    {
      "cell_type": "markdown",
      "id": "d45449e6",
      "metadata": {
        "id": "d45449e6"
      },
      "source": [
        "## Train a custom YOLOv8 Detector\n",
        "\n",
        "- Train custom model from scratch.\n"
      ]
    },
    {
      "cell_type": "code",
      "execution_count": null,
      "id": "92e7553b",
      "metadata": {
        "colab": {
          "base_uri": "https://localhost:8080/"
        },
        "id": "92e7553b",
        "outputId": "19c35cc8-d146-4eb7-cef1-6f712ea1ab41"
      },
      "outputs": [
        {
          "name": "stdout",
          "output_type": "stream",
          "text": [
            "Collecting ultralytics\n",
            "  Downloading ultralytics-8.0.219-py3-none-any.whl (645 kB)\n",
            "\u001b[?25l     \u001b[90m━━━━━━━━━━━━━━━━━━━━━━━━━━━━━━━━━━━━━━━━\u001b[0m \u001b[32m0.0/645.9 kB\u001b[0m \u001b[31m?\u001b[0m eta \u001b[36m-:--:--\u001b[0m\r\u001b[2K     \u001b[91m━━━━━━━━━\u001b[0m\u001b[91m╸\u001b[0m\u001b[90m━━━━━━━━━━━━━━━━━━━━━━━━━━━━━━\u001b[0m \u001b[32m153.6/645.9 kB\u001b[0m \u001b[31m4.8 MB/s\u001b[0m eta \u001b[36m0:00:01\u001b[0m\r\u001b[2K     \u001b[91m━━━━━━━━━━━━━━━━━━━━━━━━━━━━━━━━\u001b[0m\u001b[91m╸\u001b[0m\u001b[90m━━━━━━━\u001b[0m \u001b[32m532.5/645.9 kB\u001b[0m \u001b[31m8.1 MB/s\u001b[0m eta \u001b[36m0:00:01\u001b[0m\r\u001b[2K     \u001b[90m━━━━━━━━━━━━━━━━━━━━━━━━━━━━━━━━━━━━━━━━\u001b[0m \u001b[32m645.9/645.9 kB\u001b[0m \u001b[31m7.9 MB/s\u001b[0m eta \u001b[36m0:00:00\u001b[0m\n",
            "\u001b[?25hRequirement already satisfied: matplotlib>=3.3.0 in /usr/local/lib/python3.10/dist-packages (from ultralytics) (3.7.1)\n",
            "Requirement already satisfied: numpy>=1.22.2 in /usr/local/lib/python3.10/dist-packages (from ultralytics) (1.23.5)\n",
            "Requirement already satisfied: opencv-python>=4.6.0 in /usr/local/lib/python3.10/dist-packages (from ultralytics) (4.8.0.76)\n",
            "Requirement already satisfied: pillow>=7.1.2 in /usr/local/lib/python3.10/dist-packages (from ultralytics) (9.4.0)\n",
            "Requirement already satisfied: pyyaml>=5.3.1 in /usr/local/lib/python3.10/dist-packages (from ultralytics) (6.0.1)\n",
            "Requirement already satisfied: requests>=2.23.0 in /usr/local/lib/python3.10/dist-packages (from ultralytics) (2.31.0)\n",
            "Requirement already satisfied: scipy>=1.4.1 in /usr/local/lib/python3.10/dist-packages (from ultralytics) (1.11.3)\n",
            "Requirement already satisfied: torch>=1.8.0 in /usr/local/lib/python3.10/dist-packages (from ultralytics) (2.1.0+cu118)\n",
            "Requirement already satisfied: torchvision>=0.9.0 in /usr/local/lib/python3.10/dist-packages (from ultralytics) (0.16.0+cu118)\n",
            "Requirement already satisfied: tqdm>=4.64.0 in /usr/local/lib/python3.10/dist-packages (from ultralytics) (4.66.1)\n",
            "Requirement already satisfied: pandas>=1.1.4 in /usr/local/lib/python3.10/dist-packages (from ultralytics) (1.5.3)\n",
            "Requirement already satisfied: seaborn>=0.11.0 in /usr/local/lib/python3.10/dist-packages (from ultralytics) (0.12.2)\n",
            "Requirement already satisfied: psutil in /usr/local/lib/python3.10/dist-packages (from ultralytics) (5.9.5)\n",
            "Requirement already satisfied: py-cpuinfo in /usr/local/lib/python3.10/dist-packages (from ultralytics) (9.0.0)\n",
            "Collecting thop>=0.1.1 (from ultralytics)\n",
            "  Downloading thop-0.1.1.post2209072238-py3-none-any.whl (15 kB)\n",
            "Requirement already satisfied: contourpy>=1.0.1 in /usr/local/lib/python3.10/dist-packages (from matplotlib>=3.3.0->ultralytics) (1.2.0)\n",
            "Requirement already satisfied: cycler>=0.10 in /usr/local/lib/python3.10/dist-packages (from matplotlib>=3.3.0->ultralytics) (0.12.1)\n",
            "Requirement already satisfied: fonttools>=4.22.0 in /usr/local/lib/python3.10/dist-packages (from matplotlib>=3.3.0->ultralytics) (4.44.3)\n",
            "Requirement already satisfied: kiwisolver>=1.0.1 in /usr/local/lib/python3.10/dist-packages (from matplotlib>=3.3.0->ultralytics) (1.4.5)\n",
            "Requirement already satisfied: packaging>=20.0 in /usr/local/lib/python3.10/dist-packages (from matplotlib>=3.3.0->ultralytics) (23.2)\n",
            "Requirement already satisfied: pyparsing>=2.3.1 in /usr/local/lib/python3.10/dist-packages (from matplotlib>=3.3.0->ultralytics) (3.1.1)\n",
            "Requirement already satisfied: python-dateutil>=2.7 in /usr/local/lib/python3.10/dist-packages (from matplotlib>=3.3.0->ultralytics) (2.8.2)\n",
            "Requirement already satisfied: pytz>=2020.1 in /usr/local/lib/python3.10/dist-packages (from pandas>=1.1.4->ultralytics) (2023.3.post1)\n",
            "Requirement already satisfied: charset-normalizer<4,>=2 in /usr/local/lib/python3.10/dist-packages (from requests>=2.23.0->ultralytics) (3.3.2)\n",
            "Requirement already satisfied: idna<4,>=2.5 in /usr/local/lib/python3.10/dist-packages (from requests>=2.23.0->ultralytics) (3.4)\n",
            "Requirement already satisfied: urllib3<3,>=1.21.1 in /usr/local/lib/python3.10/dist-packages (from requests>=2.23.0->ultralytics) (2.0.7)\n",
            "Requirement already satisfied: certifi>=2017.4.17 in /usr/local/lib/python3.10/dist-packages (from requests>=2.23.0->ultralytics) (2023.7.22)\n",
            "Requirement already satisfied: filelock in /usr/local/lib/python3.10/dist-packages (from torch>=1.8.0->ultralytics) (3.13.1)\n",
            "Requirement already satisfied: typing-extensions in /usr/local/lib/python3.10/dist-packages (from torch>=1.8.0->ultralytics) (4.5.0)\n",
            "Requirement already satisfied: sympy in /usr/local/lib/python3.10/dist-packages (from torch>=1.8.0->ultralytics) (1.12)\n",
            "Requirement already satisfied: networkx in /usr/local/lib/python3.10/dist-packages (from torch>=1.8.0->ultralytics) (3.2.1)\n",
            "Requirement already satisfied: jinja2 in /usr/local/lib/python3.10/dist-packages (from torch>=1.8.0->ultralytics) (3.1.2)\n",
            "Requirement already satisfied: fsspec in /usr/local/lib/python3.10/dist-packages (from torch>=1.8.0->ultralytics) (2023.6.0)\n",
            "Requirement already satisfied: triton==2.1.0 in /usr/local/lib/python3.10/dist-packages (from torch>=1.8.0->ultralytics) (2.1.0)\n",
            "Requirement already satisfied: six>=1.5 in /usr/local/lib/python3.10/dist-packages (from python-dateutil>=2.7->matplotlib>=3.3.0->ultralytics) (1.16.0)\n",
            "Requirement already satisfied: MarkupSafe>=2.0 in /usr/local/lib/python3.10/dist-packages (from jinja2->torch>=1.8.0->ultralytics) (2.1.3)\n",
            "Requirement already satisfied: mpmath>=0.19 in /usr/local/lib/python3.10/dist-packages (from sympy->torch>=1.8.0->ultralytics) (1.3.0)\n",
            "Installing collected packages: thop, ultralytics\n",
            "Successfully installed thop-0.1.1.post2209072238 ultralytics-8.0.219\n",
            "Ultralytics YOLOv8.0.219 🚀 Python-3.10.12 torch-2.1.0+cu118 CUDA:0 (Tesla T4, 15102MiB)\n",
            "\u001b[34m\u001b[1mengine/trainer: \u001b[0mtask=detect, mode=train, model=./model/base/yolov8n.pt, data=./datasets/config.yaml, epochs=100, patience=50, batch=16, imgsz=640, save=True, save_period=-1, cache=False, device=None, workers=8, project=None, name=train, exist_ok=False, pretrained=True, optimizer=auto, verbose=True, seed=0, deterministic=True, single_cls=False, rect=False, cos_lr=False, close_mosaic=10, resume=False, amp=True, fraction=1.0, profile=False, freeze=None, overlap_mask=True, mask_ratio=4, dropout=0.0, val=True, split=val, save_json=False, save_hybrid=False, conf=None, iou=0.7, max_det=300, half=False, dnn=False, plots=True, source=None, vid_stride=1, stream_buffer=False, visualize=False, augment=False, agnostic_nms=False, classes=None, retina_masks=False, show=False, save_frames=False, save_txt=False, save_conf=False, save_crop=False, show_labels=True, show_conf=True, show_boxes=True, line_width=None, format=torchscript, keras=False, optimize=False, int8=False, dynamic=False, simplify=False, opset=None, workspace=4, nms=False, lr0=0.01, lrf=0.01, momentum=0.937, weight_decay=0.0005, warmup_epochs=3.0, warmup_momentum=0.8, warmup_bias_lr=0.1, box=7.5, cls=0.5, dfl=1.5, pose=12.0, kobj=1.0, label_smoothing=0.0, nbs=64, hsv_h=0.015, hsv_s=0.7, hsv_v=0.4, degrees=0.0, translate=0.1, scale=0.5, shear=0.0, perspective=0.0, flipud=0.0, fliplr=0.5, mosaic=1.0, mixup=0.0, copy_paste=0.0, cfg=None, tracker=botsort.yaml, save_dir=runs/detect/train\n",
            "Downloading https://ultralytics.com/assets/Arial.ttf to '/root/.config/Ultralytics/Arial.ttf'...\n"
          ]
        },
        {
          "name": "stderr",
          "output_type": "stream",
          "text": [
            "100%|██████████| 755k/755k [00:00<00:00, 24.0MB/s]\n"
          ]
        },
        {
          "name": "stdout",
          "output_type": "stream",
          "text": [
            "Overriding model.yaml nc=80 with nc=1\n",
            "\n",
            "                   from  n    params  module                                       arguments                     \n",
            "  0                  -1  1       464  ultralytics.nn.modules.conv.Conv             [3, 16, 3, 2]                 \n",
            "  1                  -1  1      4672  ultralytics.nn.modules.conv.Conv             [16, 32, 3, 2]                \n",
            "  2                  -1  1      7360  ultralytics.nn.modules.block.C2f             [32, 32, 1, True]             \n",
            "  3                  -1  1     18560  ultralytics.nn.modules.conv.Conv             [32, 64, 3, 2]                \n",
            "  4                  -1  2     49664  ultralytics.nn.modules.block.C2f             [64, 64, 2, True]             \n",
            "  5                  -1  1     73984  ultralytics.nn.modules.conv.Conv             [64, 128, 3, 2]               \n",
            "  6                  -1  2    197632  ultralytics.nn.modules.block.C2f             [128, 128, 2, True]           \n",
            "  7                  -1  1    295424  ultralytics.nn.modules.conv.Conv             [128, 256, 3, 2]              \n",
            "  8                  -1  1    460288  ultralytics.nn.modules.block.C2f             [256, 256, 1, True]           \n",
            "  9                  -1  1    164608  ultralytics.nn.modules.block.SPPF            [256, 256, 5]                 \n",
            " 10                  -1  1         0  torch.nn.modules.upsampling.Upsample         [None, 2, 'nearest']          \n",
            " 11             [-1, 6]  1         0  ultralytics.nn.modules.conv.Concat           [1]                           \n",
            " 12                  -1  1    148224  ultralytics.nn.modules.block.C2f             [384, 128, 1]                 \n",
            " 13                  -1  1         0  torch.nn.modules.upsampling.Upsample         [None, 2, 'nearest']          \n",
            " 14             [-1, 4]  1         0  ultralytics.nn.modules.conv.Concat           [1]                           \n",
            " 15                  -1  1     37248  ultralytics.nn.modules.block.C2f             [192, 64, 1]                  \n",
            " 16                  -1  1     36992  ultralytics.nn.modules.conv.Conv             [64, 64, 3, 2]                \n",
            " 17            [-1, 12]  1         0  ultralytics.nn.modules.conv.Concat           [1]                           \n",
            " 18                  -1  1    123648  ultralytics.nn.modules.block.C2f             [192, 128, 1]                 \n",
            " 19                  -1  1    147712  ultralytics.nn.modules.conv.Conv             [128, 128, 3, 2]              \n",
            " 20             [-1, 9]  1         0  ultralytics.nn.modules.conv.Concat           [1]                           \n",
            " 21                  -1  1    493056  ultralytics.nn.modules.block.C2f             [384, 256, 1]                 \n",
            " 22        [15, 18, 21]  1    751507  ultralytics.nn.modules.head.Detect           [1, [64, 128, 256]]           \n",
            "Model summary: 225 layers, 3011043 parameters, 3011027 gradients, 8.2 GFLOPs\n",
            "\n",
            "Transferred 319/355 items from pretrained weights\n",
            "\u001b[34m\u001b[1mTensorBoard: \u001b[0mStart with 'tensorboard --logdir runs/detect/train', view at http://localhost:6006/\n",
            "Freezing layer 'model.22.dfl.conv.weight'\n",
            "\u001b[34m\u001b[1mAMP: \u001b[0mrunning Automatic Mixed Precision (AMP) checks with YOLOv8n...\n",
            "Downloading https://github.com/ultralytics/assets/releases/download/v0.0.0/yolov8n.pt to 'yolov8n.pt'...\n"
          ]
        },
        {
          "name": "stderr",
          "output_type": "stream",
          "text": [
            "100%|██████████| 6.23M/6.23M [00:00<00:00, 80.6MB/s]\n"
          ]
        },
        {
          "name": "stdout",
          "output_type": "stream",
          "text": [
            "\u001b[34m\u001b[1mAMP: \u001b[0mchecks passed ✅\n"
          ]
        },
        {
          "name": "stderr",
          "output_type": "stream",
          "text": [
            "\u001b[34m\u001b[1mtrain: \u001b[0mScanning /content/drive/MyDrive/ML_Ass10/datasets/train/labels... 431 images, 0 backgrounds, 0 corrupt: 100%|██████████| 431/431 [00:02<00:00, 189.31it/s]"
          ]
        },
        {
          "name": "stdout",
          "output_type": "stream",
          "text": [
            "\u001b[34m\u001b[1mtrain: \u001b[0mWARNING ⚠️ /content/drive/MyDrive/ML_Ass10/datasets/train/images/Audi A3 Convertible with license plate_18.jpeg: corrupt JPEG restored and saved\n",
            "\u001b[34m\u001b[1mtrain: \u001b[0mWARNING ⚠️ /content/drive/MyDrive/ML_Ass10/datasets/train/images/Audi A3 Convertible with license plate_30.jpeg: corrupt JPEG restored and saved\n",
            "\u001b[34m\u001b[1mtrain: \u001b[0mWARNING ⚠️ /content/drive/MyDrive/ML_Ass10/datasets/train/images/Ford Focus with license plate_15.jpeg: corrupt JPEG restored and saved\n"
          ]
        },
        {
          "name": "stderr",
          "output_type": "stream",
          "text": [
            "\n"
          ]
        },
        {
          "name": "stdout",
          "output_type": "stream",
          "text": [
            "\u001b[34m\u001b[1mtrain: \u001b[0mNew cache created: /content/drive/MyDrive/ML_Ass10/datasets/train/labels.cache\n",
            "\u001b[34m\u001b[1malbumentations: \u001b[0mBlur(p=0.01, blur_limit=(3, 7)), MedianBlur(p=0.01, blur_limit=(3, 7)), ToGray(p=0.01), CLAHE(p=0.01, clip_limit=(1, 4.0), tile_grid_size=(8, 8))\n"
          ]
        },
        {
          "name": "stderr",
          "output_type": "stream",
          "text": [
            "\u001b[34m\u001b[1mval: \u001b[0mScanning /content/drive/MyDrive/ML_Ass10/datasets/val/labels... 56 images, 0 backgrounds, 0 corrupt: 100%|██████████| 56/56 [00:00<00:00, 84.52it/s]\n"
          ]
        },
        {
          "name": "stdout",
          "output_type": "stream",
          "text": [
            "\u001b[34m\u001b[1mval: \u001b[0mNew cache created: /content/drive/MyDrive/ML_Ass10/datasets/val/labels.cache\n",
            "Plotting labels to runs/detect/train/labels.jpg... \n",
            "\u001b[34m\u001b[1moptimizer:\u001b[0m 'optimizer=auto' found, ignoring 'lr0=0.01' and 'momentum=0.937' and determining best 'optimizer', 'lr0' and 'momentum' automatically... \n",
            "\u001b[34m\u001b[1moptimizer:\u001b[0m AdamW(lr=0.002, momentum=0.9) with parameter groups 57 weight(decay=0.0), 64 weight(decay=0.0005), 63 bias(decay=0.0)\n",
            "Image sizes 640 train, 640 val\n",
            "Using 2 dataloader workers\n",
            "Logging results to \u001b[1mruns/detect/train\u001b[0m\n",
            "Starting training for 100 epochs...\n",
            "\n",
            "      Epoch    GPU_mem   box_loss   cls_loss   dfl_loss  Instances       Size\n"
          ]
        },
        {
          "name": "stderr",
          "output_type": "stream",
          "text": [
            "      1/100       2.4G     0.9763      2.797      1.016         28        640: 100%|██████████| 27/27 [00:23<00:00,  1.16it/s]\n",
            "                 Class     Images  Instances      Box(P          R      mAP50  mAP50-95): 100%|██████████| 2/2 [00:05<00:00,  2.65s/it]"
          ]
        },
        {
          "name": "stdout",
          "output_type": "stream",
          "text": [
            "                   all         56         58    0.00321      0.931      0.634      0.465\n"
          ]
        },
        {
          "name": "stderr",
          "output_type": "stream",
          "text": [
            "\n"
          ]
        },
        {
          "name": "stdout",
          "output_type": "stream",
          "text": [
            "\n",
            "      Epoch    GPU_mem   box_loss   cls_loss   dfl_loss  Instances       Size\n"
          ]
        },
        {
          "name": "stderr",
          "output_type": "stream",
          "text": [
            "      2/100      2.26G     0.9706      1.629     0.9344         22        640: 100%|██████████| 27/27 [00:19<00:00,  1.38it/s]\n",
            "                 Class     Images  Instances      Box(P          R      mAP50  mAP50-95): 100%|██████████| 2/2 [00:00<00:00,  2.20it/s]"
          ]
        },
        {
          "name": "stdout",
          "output_type": "stream",
          "text": [
            "                   all         56         58          1      0.281      0.587      0.463\n"
          ]
        },
        {
          "name": "stderr",
          "output_type": "stream",
          "text": [
            "\n"
          ]
        },
        {
          "name": "stdout",
          "output_type": "stream",
          "text": [
            "\n",
            "      Epoch    GPU_mem   box_loss   cls_loss   dfl_loss  Instances       Size\n"
          ]
        },
        {
          "name": "stderr",
          "output_type": "stream",
          "text": [
            "      3/100      2.27G     0.9932      1.413      0.972         32        640: 100%|██████████| 27/27 [00:20<00:00,  1.33it/s]\n",
            "                 Class     Images  Instances      Box(P          R      mAP50  mAP50-95): 100%|██████████| 2/2 [00:00<00:00,  2.01it/s]"
          ]
        },
        {
          "name": "stdout",
          "output_type": "stream",
          "text": [
            "                   all         56         58       0.98      0.855      0.888      0.637\n"
          ]
        },
        {
          "name": "stderr",
          "output_type": "stream",
          "text": [
            "\n"
          ]
        },
        {
          "name": "stdout",
          "output_type": "stream",
          "text": [
            "\n",
            "      Epoch    GPU_mem   box_loss   cls_loss   dfl_loss  Instances       Size\n"
          ]
        },
        {
          "name": "stderr",
          "output_type": "stream",
          "text": [
            "      4/100      2.27G     0.9892       1.28     0.9934         30        640: 100%|██████████| 27/27 [00:20<00:00,  1.31it/s]\n",
            "                 Class     Images  Instances      Box(P          R      mAP50  mAP50-95): 100%|██████████| 2/2 [00:00<00:00,  2.02it/s]"
          ]
        },
        {
          "name": "stdout",
          "output_type": "stream",
          "text": [
            "                   all         56         58      0.954      0.776      0.861      0.642\n"
          ]
        },
        {
          "name": "stderr",
          "output_type": "stream",
          "text": [
            "\n"
          ]
        },
        {
          "name": "stdout",
          "output_type": "stream",
          "text": [
            "\n",
            "      Epoch    GPU_mem   box_loss   cls_loss   dfl_loss  Instances       Size\n"
          ]
        },
        {
          "name": "stderr",
          "output_type": "stream",
          "text": [
            "      5/100      2.27G     0.9828      1.193     0.9793         23        640: 100%|██████████| 27/27 [00:20<00:00,  1.35it/s]\n",
            "                 Class     Images  Instances      Box(P          R      mAP50  mAP50-95): 100%|██████████| 2/2 [00:01<00:00,  1.34it/s]"
          ]
        },
        {
          "name": "stdout",
          "output_type": "stream",
          "text": [
            "                   all         56         58      0.959      0.805      0.912      0.655\n"
          ]
        },
        {
          "name": "stderr",
          "output_type": "stream",
          "text": [
            "\n"
          ]
        },
        {
          "name": "stdout",
          "output_type": "stream",
          "text": [
            "\n",
            "      Epoch    GPU_mem   box_loss   cls_loss   dfl_loss  Instances       Size\n"
          ]
        },
        {
          "name": "stderr",
          "output_type": "stream",
          "text": [
            "      6/100      2.27G      1.053      1.118      1.009         30        640: 100%|██████████| 27/27 [00:22<00:00,  1.22it/s]\n",
            "                 Class     Images  Instances      Box(P          R      mAP50  mAP50-95): 100%|██████████| 2/2 [00:00<00:00,  2.23it/s]"
          ]
        },
        {
          "name": "stdout",
          "output_type": "stream",
          "text": [
            "                   all         56         58      0.781      0.802       0.87      0.653\n"
          ]
        },
        {
          "name": "stderr",
          "output_type": "stream",
          "text": [
            "\n"
          ]
        },
        {
          "name": "stdout",
          "output_type": "stream",
          "text": [
            "\n",
            "      Epoch    GPU_mem   box_loss   cls_loss   dfl_loss  Instances       Size\n"
          ]
        },
        {
          "name": "stderr",
          "output_type": "stream",
          "text": [
            "      7/100      2.27G     0.9447      1.025     0.9716         25        640: 100%|██████████| 27/27 [00:22<00:00,  1.20it/s]\n",
            "                 Class     Images  Instances      Box(P          R      mAP50  mAP50-95): 100%|██████████| 2/2 [00:01<00:00,  1.43it/s]"
          ]
        },
        {
          "name": "stdout",
          "output_type": "stream",
          "text": [
            "                   all         56         58          1      0.776      0.884      0.657\n"
          ]
        },
        {
          "name": "stderr",
          "output_type": "stream",
          "text": [
            "\n"
          ]
        },
        {
          "name": "stdout",
          "output_type": "stream",
          "text": [
            "\n",
            "      Epoch    GPU_mem   box_loss   cls_loss   dfl_loss  Instances       Size\n"
          ]
        },
        {
          "name": "stderr",
          "output_type": "stream",
          "text": [
            "      8/100      2.26G     0.9285     0.8972     0.9616         20        640: 100%|██████████| 27/27 [00:22<00:00,  1.21it/s]\n",
            "                 Class     Images  Instances      Box(P          R      mAP50  mAP50-95): 100%|██████████| 2/2 [00:01<00:00,  1.96it/s]"
          ]
        },
        {
          "name": "stdout",
          "output_type": "stream",
          "text": [
            "                   all         56         58      0.958      0.931       0.96      0.701\n"
          ]
        },
        {
          "name": "stderr",
          "output_type": "stream",
          "text": [
            "\n"
          ]
        },
        {
          "name": "stdout",
          "output_type": "stream",
          "text": [
            "\n",
            "      Epoch    GPU_mem   box_loss   cls_loss   dfl_loss  Instances       Size\n"
          ]
        },
        {
          "name": "stderr",
          "output_type": "stream",
          "text": [
            "      9/100      2.27G     0.9122     0.8694     0.9604         25        640: 100%|██████████| 27/27 [00:20<00:00,  1.34it/s]\n",
            "                 Class     Images  Instances      Box(P          R      mAP50  mAP50-95): 100%|██████████| 2/2 [00:00<00:00,  3.06it/s]"
          ]
        },
        {
          "name": "stdout",
          "output_type": "stream",
          "text": [
            "                   all         56         58      0.893      0.931      0.972       0.76\n"
          ]
        },
        {
          "name": "stderr",
          "output_type": "stream",
          "text": [
            "\n"
          ]
        },
        {
          "name": "stdout",
          "output_type": "stream",
          "text": [
            "\n",
            "      Epoch    GPU_mem   box_loss   cls_loss   dfl_loss  Instances       Size\n"
          ]
        },
        {
          "name": "stderr",
          "output_type": "stream",
          "text": [
            "     10/100      2.27G     0.9728     0.8487     0.9656         27        640: 100%|██████████| 27/27 [00:19<00:00,  1.36it/s]\n",
            "                 Class     Images  Instances      Box(P          R      mAP50  mAP50-95): 100%|██████████| 2/2 [00:01<00:00,  1.22it/s]"
          ]
        },
        {
          "name": "stdout",
          "output_type": "stream",
          "text": [
            "                   all         56         58      0.948      0.945      0.964      0.725\n"
          ]
        },
        {
          "name": "stderr",
          "output_type": "stream",
          "text": [
            "\n"
          ]
        },
        {
          "name": "stdout",
          "output_type": "stream",
          "text": [
            "\n",
            "      Epoch    GPU_mem   box_loss   cls_loss   dfl_loss  Instances       Size\n"
          ]
        },
        {
          "name": "stderr",
          "output_type": "stream",
          "text": [
            "     11/100      2.27G     0.9028     0.7913     0.9596         27        640: 100%|██████████| 27/27 [00:25<00:00,  1.08it/s]\n",
            "                 Class     Images  Instances      Box(P          R      mAP50  mAP50-95): 100%|██████████| 2/2 [00:00<00:00,  2.26it/s]"
          ]
        },
        {
          "name": "stdout",
          "output_type": "stream",
          "text": [
            "                   all         56         58      0.846      0.945      0.934      0.736\n"
          ]
        },
        {
          "name": "stderr",
          "output_type": "stream",
          "text": [
            "\n"
          ]
        },
        {
          "name": "stdout",
          "output_type": "stream",
          "text": [
            "\n",
            "      Epoch    GPU_mem   box_loss   cls_loss   dfl_loss  Instances       Size\n"
          ]
        },
        {
          "name": "stderr",
          "output_type": "stream",
          "text": [
            "     12/100      2.26G     0.9163     0.7546     0.9506         30        640: 100%|██████████| 27/27 [00:20<00:00,  1.32it/s]\n",
            "                 Class     Images  Instances      Box(P          R      mAP50  mAP50-95): 100%|██████████| 2/2 [00:00<00:00,  2.10it/s]"
          ]
        },
        {
          "name": "stdout",
          "output_type": "stream",
          "text": [
            "                   all         56         58       0.95      0.931      0.958      0.744\n"
          ]
        },
        {
          "name": "stderr",
          "output_type": "stream",
          "text": [
            "\n"
          ]
        },
        {
          "name": "stdout",
          "output_type": "stream",
          "text": [
            "\n",
            "      Epoch    GPU_mem   box_loss   cls_loss   dfl_loss  Instances       Size\n"
          ]
        },
        {
          "name": "stderr",
          "output_type": "stream",
          "text": [
            "     13/100      2.27G     0.8755     0.7046     0.9414         22        640: 100%|██████████| 27/27 [00:22<00:00,  1.18it/s]\n",
            "                 Class     Images  Instances      Box(P          R      mAP50  mAP50-95): 100%|██████████| 2/2 [00:01<00:00,  1.89it/s]"
          ]
        },
        {
          "name": "stdout",
          "output_type": "stream",
          "text": [
            "                   all         56         58      0.981      0.883      0.958      0.749\n"
          ]
        },
        {
          "name": "stderr",
          "output_type": "stream",
          "text": [
            "\n"
          ]
        },
        {
          "name": "stdout",
          "output_type": "stream",
          "text": [
            "\n",
            "      Epoch    GPU_mem   box_loss   cls_loss   dfl_loss  Instances       Size\n"
          ]
        },
        {
          "name": "stderr",
          "output_type": "stream",
          "text": [
            "     14/100      2.27G     0.8631     0.6815     0.9225         25        640: 100%|██████████| 27/27 [00:21<00:00,  1.28it/s]\n",
            "                 Class     Images  Instances      Box(P          R      mAP50  mAP50-95): 100%|██████████| 2/2 [00:00<00:00,  2.28it/s]"
          ]
        },
        {
          "name": "stdout",
          "output_type": "stream",
          "text": [
            "                   all         56         58      0.948      0.946      0.972      0.789\n"
          ]
        },
        {
          "name": "stderr",
          "output_type": "stream",
          "text": [
            "\n"
          ]
        },
        {
          "name": "stdout",
          "output_type": "stream",
          "text": [
            "\n",
            "      Epoch    GPU_mem   box_loss   cls_loss   dfl_loss  Instances       Size\n"
          ]
        },
        {
          "name": "stderr",
          "output_type": "stream",
          "text": [
            "     15/100      2.27G     0.8337     0.6631     0.9212         32        640: 100%|██████████| 27/27 [00:20<00:00,  1.29it/s]\n",
            "                 Class     Images  Instances      Box(P          R      mAP50  mAP50-95): 100%|██████████| 2/2 [00:00<00:00,  2.74it/s]"
          ]
        },
        {
          "name": "stdout",
          "output_type": "stream",
          "text": [
            "                   all         56         58      0.981      0.872      0.971      0.751\n"
          ]
        },
        {
          "name": "stderr",
          "output_type": "stream",
          "text": [
            "\n"
          ]
        },
        {
          "name": "stdout",
          "output_type": "stream",
          "text": [
            "\n",
            "      Epoch    GPU_mem   box_loss   cls_loss   dfl_loss  Instances       Size\n"
          ]
        },
        {
          "name": "stderr",
          "output_type": "stream",
          "text": [
            "     16/100      2.26G     0.8037     0.6316     0.9184         28        640: 100%|██████████| 27/27 [00:22<00:00,  1.20it/s]\n",
            "                 Class     Images  Instances      Box(P          R      mAP50  mAP50-95): 100%|██████████| 2/2 [00:01<00:00,  1.50it/s]"
          ]
        },
        {
          "name": "stdout",
          "output_type": "stream",
          "text": [
            "                   all         56         58      0.994      0.897      0.955      0.775\n"
          ]
        },
        {
          "name": "stderr",
          "output_type": "stream",
          "text": [
            "\n"
          ]
        },
        {
          "name": "stdout",
          "output_type": "stream",
          "text": [
            "\n",
            "      Epoch    GPU_mem   box_loss   cls_loss   dfl_loss  Instances       Size\n"
          ]
        },
        {
          "name": "stderr",
          "output_type": "stream",
          "text": [
            "     17/100      2.27G     0.8207     0.6269     0.9197         28        640: 100%|██████████| 27/27 [00:20<00:00,  1.29it/s]\n",
            "                 Class     Images  Instances      Box(P          R      mAP50  mAP50-95): 100%|██████████| 2/2 [00:01<00:00,  1.92it/s]"
          ]
        },
        {
          "name": "stdout",
          "output_type": "stream",
          "text": [
            "                   all         56         58      0.943      0.948      0.973      0.758\n"
          ]
        },
        {
          "name": "stderr",
          "output_type": "stream",
          "text": [
            "\n"
          ]
        },
        {
          "name": "stdout",
          "output_type": "stream",
          "text": [
            "\n",
            "      Epoch    GPU_mem   box_loss   cls_loss   dfl_loss  Instances       Size\n"
          ]
        },
        {
          "name": "stderr",
          "output_type": "stream",
          "text": [
            "     18/100      2.27G     0.8318     0.6341     0.9279         30        640: 100%|██████████| 27/27 [00:20<00:00,  1.29it/s]\n",
            "                 Class     Images  Instances      Box(P          R      mAP50  mAP50-95): 100%|██████████| 2/2 [00:00<00:00,  2.97it/s]"
          ]
        },
        {
          "name": "stdout",
          "output_type": "stream",
          "text": [
            "                   all         56         58      0.996      0.948      0.951      0.769\n"
          ]
        },
        {
          "name": "stderr",
          "output_type": "stream",
          "text": [
            "\n"
          ]
        },
        {
          "name": "stdout",
          "output_type": "stream",
          "text": [
            "\n",
            "      Epoch    GPU_mem   box_loss   cls_loss   dfl_loss  Instances       Size\n"
          ]
        },
        {
          "name": "stderr",
          "output_type": "stream",
          "text": [
            "     19/100      2.27G      0.806     0.6057     0.8969         23        640: 100%|██████████| 27/27 [00:20<00:00,  1.32it/s]\n",
            "                 Class     Images  Instances      Box(P          R      mAP50  mAP50-95): 100%|██████████| 2/2 [00:01<00:00,  1.26it/s]"
          ]
        },
        {
          "name": "stdout",
          "output_type": "stream",
          "text": [
            "                   all         56         58      0.977      0.948      0.985      0.791\n"
          ]
        },
        {
          "name": "stderr",
          "output_type": "stream",
          "text": [
            "\n"
          ]
        },
        {
          "name": "stdout",
          "output_type": "stream",
          "text": [
            "\n",
            "      Epoch    GPU_mem   box_loss   cls_loss   dfl_loss  Instances       Size\n"
          ]
        },
        {
          "name": "stderr",
          "output_type": "stream",
          "text": [
            "     20/100      2.26G     0.7808     0.5888     0.8957         25        640: 100%|██████████| 27/27 [00:19<00:00,  1.39it/s]\n",
            "                 Class     Images  Instances      Box(P          R      mAP50  mAP50-95): 100%|██████████| 2/2 [00:01<00:00,  1.87it/s]"
          ]
        },
        {
          "name": "stdout",
          "output_type": "stream",
          "text": [
            "                   all         56         58      0.995      0.914      0.983      0.794\n"
          ]
        },
        {
          "name": "stderr",
          "output_type": "stream",
          "text": [
            "\n"
          ]
        },
        {
          "name": "stdout",
          "output_type": "stream",
          "text": [
            "\n",
            "      Epoch    GPU_mem   box_loss   cls_loss   dfl_loss  Instances       Size\n"
          ]
        },
        {
          "name": "stderr",
          "output_type": "stream",
          "text": [
            "     21/100      2.27G     0.7902     0.5907     0.9297         28        640: 100%|██████████| 27/27 [00:19<00:00,  1.39it/s]\n",
            "                 Class     Images  Instances      Box(P          R      mAP50  mAP50-95): 100%|██████████| 2/2 [00:00<00:00,  2.78it/s]"
          ]
        },
        {
          "name": "stdout",
          "output_type": "stream",
          "text": [
            "                   all         56         58      0.994      0.914      0.971      0.762\n"
          ]
        },
        {
          "name": "stderr",
          "output_type": "stream",
          "text": [
            "\n"
          ]
        },
        {
          "name": "stdout",
          "output_type": "stream",
          "text": [
            "\n",
            "      Epoch    GPU_mem   box_loss   cls_loss   dfl_loss  Instances       Size\n"
          ]
        },
        {
          "name": "stderr",
          "output_type": "stream",
          "text": [
            "     22/100      2.27G     0.8012     0.5884     0.9365         22        640: 100%|██████████| 27/27 [00:19<00:00,  1.36it/s]\n",
            "                 Class     Images  Instances      Box(P          R      mAP50  mAP50-95): 100%|██████████| 2/2 [00:00<00:00,  2.86it/s]"
          ]
        },
        {
          "name": "stdout",
          "output_type": "stream",
          "text": [
            "                   all         56         58      0.963      0.983      0.985      0.806\n"
          ]
        },
        {
          "name": "stderr",
          "output_type": "stream",
          "text": [
            "\n"
          ]
        },
        {
          "name": "stdout",
          "output_type": "stream",
          "text": [
            "\n",
            "      Epoch    GPU_mem   box_loss   cls_loss   dfl_loss  Instances       Size\n"
          ]
        },
        {
          "name": "stderr",
          "output_type": "stream",
          "text": [
            "     23/100      2.27G     0.7826     0.5833     0.9221         28        640: 100%|██████████| 27/27 [00:20<00:00,  1.35it/s]\n",
            "                 Class     Images  Instances      Box(P          R      mAP50  mAP50-95): 100%|██████████| 2/2 [00:01<00:00,  1.84it/s]"
          ]
        },
        {
          "name": "stdout",
          "output_type": "stream",
          "text": [
            "                   all         56         58      0.995      0.948      0.983      0.785\n"
          ]
        },
        {
          "name": "stderr",
          "output_type": "stream",
          "text": [
            "\n"
          ]
        },
        {
          "name": "stdout",
          "output_type": "stream",
          "text": [
            "\n",
            "      Epoch    GPU_mem   box_loss   cls_loss   dfl_loss  Instances       Size\n"
          ]
        },
        {
          "name": "stderr",
          "output_type": "stream",
          "text": [
            "     24/100      2.26G     0.7421     0.5391     0.9009         26        640: 100%|██████████| 27/27 [00:19<00:00,  1.35it/s]\n",
            "                 Class     Images  Instances      Box(P          R      mAP50  mAP50-95): 100%|██████████| 2/2 [00:01<00:00,  1.32it/s]"
          ]
        },
        {
          "name": "stdout",
          "output_type": "stream",
          "text": [
            "                   all         56         58      0.981      0.948      0.988      0.789\n"
          ]
        },
        {
          "name": "stderr",
          "output_type": "stream",
          "text": [
            "\n"
          ]
        },
        {
          "name": "stdout",
          "output_type": "stream",
          "text": [
            "\n",
            "      Epoch    GPU_mem   box_loss   cls_loss   dfl_loss  Instances       Size\n"
          ]
        },
        {
          "name": "stderr",
          "output_type": "stream",
          "text": [
            "     25/100      2.27G     0.7908     0.5606     0.9128         22        640: 100%|██████████| 27/27 [00:20<00:00,  1.34it/s]\n",
            "                 Class     Images  Instances      Box(P          R      mAP50  mAP50-95): 100%|██████████| 2/2 [00:00<00:00,  2.25it/s]"
          ]
        },
        {
          "name": "stdout",
          "output_type": "stream",
          "text": [
            "                   all         56         58      0.965      0.944      0.974      0.791\n"
          ]
        },
        {
          "name": "stderr",
          "output_type": "stream",
          "text": [
            "\n"
          ]
        },
        {
          "name": "stdout",
          "output_type": "stream",
          "text": [
            "\n",
            "      Epoch    GPU_mem   box_loss   cls_loss   dfl_loss  Instances       Size\n"
          ]
        },
        {
          "name": "stderr",
          "output_type": "stream",
          "text": [
            "     26/100      2.27G     0.7668      0.567     0.9281         24        640: 100%|██████████| 27/27 [00:19<00:00,  1.39it/s]\n",
            "                 Class     Images  Instances      Box(P          R      mAP50  mAP50-95): 100%|██████████| 2/2 [00:00<00:00,  2.69it/s]"
          ]
        },
        {
          "name": "stdout",
          "output_type": "stream",
          "text": [
            "                   all         56         58      0.998      0.931       0.98      0.788\n"
          ]
        },
        {
          "name": "stderr",
          "output_type": "stream",
          "text": [
            "\n"
          ]
        },
        {
          "name": "stdout",
          "output_type": "stream",
          "text": [
            "\n",
            "      Epoch    GPU_mem   box_loss   cls_loss   dfl_loss  Instances       Size\n"
          ]
        },
        {
          "name": "stderr",
          "output_type": "stream",
          "text": [
            "     27/100      2.27G     0.7407     0.5286     0.8904         23        640: 100%|██████████| 27/27 [00:19<00:00,  1.36it/s]\n",
            "                 Class     Images  Instances      Box(P          R      mAP50  mAP50-95): 100%|██████████| 2/2 [00:01<00:00,  1.50it/s]"
          ]
        },
        {
          "name": "stdout",
          "output_type": "stream",
          "text": [
            "                   all         56         58          1      0.942      0.977      0.808\n"
          ]
        },
        {
          "name": "stderr",
          "output_type": "stream",
          "text": [
            "\n"
          ]
        },
        {
          "name": "stdout",
          "output_type": "stream",
          "text": [
            "\n",
            "      Epoch    GPU_mem   box_loss   cls_loss   dfl_loss  Instances       Size\n"
          ]
        },
        {
          "name": "stderr",
          "output_type": "stream",
          "text": [
            "     28/100      2.26G     0.7395     0.5269      0.904         25        640: 100%|██████████| 27/27 [00:21<00:00,  1.28it/s]\n",
            "                 Class     Images  Instances      Box(P          R      mAP50  mAP50-95): 100%|██████████| 2/2 [00:00<00:00,  2.31it/s]"
          ]
        },
        {
          "name": "stdout",
          "output_type": "stream",
          "text": [
            "                   all         56         58      0.997      0.966       0.99      0.834\n"
          ]
        },
        {
          "name": "stderr",
          "output_type": "stream",
          "text": [
            "\n"
          ]
        },
        {
          "name": "stdout",
          "output_type": "stream",
          "text": [
            "\n",
            "      Epoch    GPU_mem   box_loss   cls_loss   dfl_loss  Instances       Size\n"
          ]
        },
        {
          "name": "stderr",
          "output_type": "stream",
          "text": [
            "     29/100      2.27G     0.7301     0.5312     0.8895         25        640: 100%|██████████| 27/27 [00:19<00:00,  1.39it/s]\n",
            "                 Class     Images  Instances      Box(P          R      mAP50  mAP50-95): 100%|██████████| 2/2 [00:00<00:00,  2.45it/s]"
          ]
        },
        {
          "name": "stdout",
          "output_type": "stream",
          "text": [
            "                   all         56         58      0.964      0.966      0.979      0.795\n"
          ]
        },
        {
          "name": "stderr",
          "output_type": "stream",
          "text": [
            "\n"
          ]
        },
        {
          "name": "stdout",
          "output_type": "stream",
          "text": [
            "\n",
            "      Epoch    GPU_mem   box_loss   cls_loss   dfl_loss  Instances       Size\n"
          ]
        },
        {
          "name": "stderr",
          "output_type": "stream",
          "text": [
            "     30/100      2.27G     0.7534     0.5291      0.903         36        640: 100%|██████████| 27/27 [00:19<00:00,  1.35it/s]\n",
            "                 Class     Images  Instances      Box(P          R      mAP50  mAP50-95): 100%|██████████| 2/2 [00:00<00:00,  2.71it/s]"
          ]
        },
        {
          "name": "stdout",
          "output_type": "stream",
          "text": [
            "                   all         56         58          1      0.948      0.978      0.804\n"
          ]
        },
        {
          "name": "stderr",
          "output_type": "stream",
          "text": [
            "\n"
          ]
        },
        {
          "name": "stdout",
          "output_type": "stream",
          "text": [
            "\n",
            "      Epoch    GPU_mem   box_loss   cls_loss   dfl_loss  Instances       Size\n"
          ]
        },
        {
          "name": "stderr",
          "output_type": "stream",
          "text": [
            "     31/100      2.27G     0.7109     0.4953     0.8937         24        640: 100%|██████████| 27/27 [00:19<00:00,  1.35it/s]\n",
            "                 Class     Images  Instances      Box(P          R      mAP50  mAP50-95): 100%|██████████| 2/2 [00:01<00:00,  1.40it/s]"
          ]
        },
        {
          "name": "stdout",
          "output_type": "stream",
          "text": [
            "                   all         56         58      0.995      0.931      0.986      0.806\n"
          ]
        },
        {
          "name": "stderr",
          "output_type": "stream",
          "text": [
            "\n"
          ]
        },
        {
          "name": "stdout",
          "output_type": "stream",
          "text": [
            "\n",
            "      Epoch    GPU_mem   box_loss   cls_loss   dfl_loss  Instances       Size\n"
          ]
        },
        {
          "name": "stderr",
          "output_type": "stream",
          "text": [
            "     32/100      2.26G     0.7364     0.4884     0.8888         29        640: 100%|██████████| 27/27 [00:21<00:00,  1.28it/s]\n",
            "                 Class     Images  Instances      Box(P          R      mAP50  mAP50-95): 100%|██████████| 2/2 [00:00<00:00,  2.30it/s]"
          ]
        },
        {
          "name": "stdout",
          "output_type": "stream",
          "text": [
            "                   all         56         58      0.998      0.948      0.987      0.825\n"
          ]
        },
        {
          "name": "stderr",
          "output_type": "stream",
          "text": [
            "\n"
          ]
        },
        {
          "name": "stdout",
          "output_type": "stream",
          "text": [
            "\n",
            "      Epoch    GPU_mem   box_loss   cls_loss   dfl_loss  Instances       Size\n"
          ]
        },
        {
          "name": "stderr",
          "output_type": "stream",
          "text": [
            "     33/100      2.27G     0.6879     0.4541     0.8812         25        640: 100%|██████████| 27/27 [00:19<00:00,  1.40it/s]\n",
            "                 Class     Images  Instances      Box(P          R      mAP50  mAP50-95): 100%|██████████| 2/2 [00:00<00:00,  2.27it/s]"
          ]
        },
        {
          "name": "stdout",
          "output_type": "stream",
          "text": [
            "                   all         56         58      0.981      0.966      0.984      0.832\n"
          ]
        },
        {
          "name": "stderr",
          "output_type": "stream",
          "text": [
            "\n"
          ]
        },
        {
          "name": "stdout",
          "output_type": "stream",
          "text": [
            "\n",
            "      Epoch    GPU_mem   box_loss   cls_loss   dfl_loss  Instances       Size\n"
          ]
        },
        {
          "name": "stderr",
          "output_type": "stream",
          "text": [
            "     34/100      2.27G     0.7202     0.4775     0.8852         26        640: 100%|██████████| 27/27 [00:19<00:00,  1.39it/s]\n",
            "                 Class     Images  Instances      Box(P          R      mAP50  mAP50-95): 100%|██████████| 2/2 [00:00<00:00,  2.20it/s]"
          ]
        },
        {
          "name": "stdout",
          "output_type": "stream",
          "text": [
            "                   all         56         58      0.998      0.948      0.982      0.809\n"
          ]
        },
        {
          "name": "stderr",
          "output_type": "stream",
          "text": [
            "\n"
          ]
        },
        {
          "name": "stdout",
          "output_type": "stream",
          "text": [
            "\n",
            "      Epoch    GPU_mem   box_loss   cls_loss   dfl_loss  Instances       Size\n"
          ]
        },
        {
          "name": "stderr",
          "output_type": "stream",
          "text": [
            "     35/100      2.27G     0.7198     0.4874     0.8811         38        640: 100%|██████████| 27/27 [00:20<00:00,  1.32it/s]\n",
            "                 Class     Images  Instances      Box(P          R      mAP50  mAP50-95): 100%|██████████| 2/2 [00:01<00:00,  1.29it/s]"
          ]
        },
        {
          "name": "stdout",
          "output_type": "stream",
          "text": [
            "                   all         56         58      0.999      0.948      0.979      0.837\n"
          ]
        },
        {
          "name": "stderr",
          "output_type": "stream",
          "text": [
            "\n"
          ]
        },
        {
          "name": "stdout",
          "output_type": "stream",
          "text": [
            "\n",
            "      Epoch    GPU_mem   box_loss   cls_loss   dfl_loss  Instances       Size\n"
          ]
        },
        {
          "name": "stderr",
          "output_type": "stream",
          "text": [
            "     36/100      2.26G      0.727     0.5067     0.9053         23        640: 100%|██████████| 27/27 [00:19<00:00,  1.37it/s]\n",
            "                 Class     Images  Instances      Box(P          R      mAP50  mAP50-95): 100%|██████████| 2/2 [00:01<00:00,  1.70it/s]"
          ]
        },
        {
          "name": "stdout",
          "output_type": "stream",
          "text": [
            "                   all         56         58      0.996      0.948      0.986        0.8\n"
          ]
        },
        {
          "name": "stderr",
          "output_type": "stream",
          "text": [
            "\n"
          ]
        },
        {
          "name": "stdout",
          "output_type": "stream",
          "text": [
            "\n",
            "      Epoch    GPU_mem   box_loss   cls_loss   dfl_loss  Instances       Size\n"
          ]
        },
        {
          "name": "stderr",
          "output_type": "stream",
          "text": [
            "     37/100      2.27G     0.6939     0.4722     0.8969         36        640: 100%|██████████| 27/27 [00:19<00:00,  1.40it/s]\n",
            "                 Class     Images  Instances      Box(P          R      mAP50  mAP50-95): 100%|██████████| 2/2 [00:00<00:00,  2.65it/s]"
          ]
        },
        {
          "name": "stdout",
          "output_type": "stream",
          "text": [
            "                   all         56         58      0.999      0.966      0.986      0.811\n"
          ]
        },
        {
          "name": "stderr",
          "output_type": "stream",
          "text": [
            "\n"
          ]
        },
        {
          "name": "stdout",
          "output_type": "stream",
          "text": [
            "\n",
            "      Epoch    GPU_mem   box_loss   cls_loss   dfl_loss  Instances       Size\n"
          ]
        },
        {
          "name": "stderr",
          "output_type": "stream",
          "text": [
            "     38/100      2.27G     0.6893     0.4713     0.8806         22        640: 100%|██████████| 27/27 [00:19<00:00,  1.37it/s]\n",
            "                 Class     Images  Instances      Box(P          R      mAP50  mAP50-95): 100%|██████████| 2/2 [00:00<00:00,  3.19it/s]"
          ]
        },
        {
          "name": "stdout",
          "output_type": "stream",
          "text": [
            "                   all         56         58      0.996      0.931      0.988      0.814\n"
          ]
        },
        {
          "name": "stderr",
          "output_type": "stream",
          "text": [
            "\n"
          ]
        },
        {
          "name": "stdout",
          "output_type": "stream",
          "text": [
            "\n",
            "      Epoch    GPU_mem   box_loss   cls_loss   dfl_loss  Instances       Size\n"
          ]
        },
        {
          "name": "stderr",
          "output_type": "stream",
          "text": [
            "     39/100      2.27G     0.7029     0.4772     0.8952         30        640: 100%|██████████| 27/27 [00:19<00:00,  1.35it/s]\n",
            "                 Class     Images  Instances      Box(P          R      mAP50  mAP50-95): 100%|██████████| 2/2 [00:01<00:00,  1.61it/s]"
          ]
        },
        {
          "name": "stdout",
          "output_type": "stream",
          "text": [
            "                   all         56         58      0.997      0.966      0.994      0.844\n"
          ]
        },
        {
          "name": "stderr",
          "output_type": "stream",
          "text": [
            "\n"
          ]
        },
        {
          "name": "stdout",
          "output_type": "stream",
          "text": [
            "\n",
            "      Epoch    GPU_mem   box_loss   cls_loss   dfl_loss  Instances       Size\n"
          ]
        },
        {
          "name": "stderr",
          "output_type": "stream",
          "text": [
            "     40/100      2.26G     0.6443     0.4465     0.8724         28        640: 100%|██████████| 27/27 [00:20<00:00,  1.34it/s]\n",
            "                 Class     Images  Instances      Box(P          R      mAP50  mAP50-95): 100%|██████████| 2/2 [00:01<00:00,  1.48it/s]"
          ]
        },
        {
          "name": "stdout",
          "output_type": "stream",
          "text": [
            "                   all         56         58      0.999      0.966      0.994      0.848\n"
          ]
        },
        {
          "name": "stderr",
          "output_type": "stream",
          "text": [
            "\n"
          ]
        },
        {
          "name": "stdout",
          "output_type": "stream",
          "text": [
            "\n",
            "      Epoch    GPU_mem   box_loss   cls_loss   dfl_loss  Instances       Size\n"
          ]
        },
        {
          "name": "stderr",
          "output_type": "stream",
          "text": [
            "     41/100      2.27G     0.6568     0.4593     0.8674         30        640: 100%|██████████| 27/27 [00:19<00:00,  1.41it/s]\n",
            "                 Class     Images  Instances      Box(P          R      mAP50  mAP50-95): 100%|██████████| 2/2 [00:00<00:00,  2.22it/s]"
          ]
        },
        {
          "name": "stdout",
          "output_type": "stream",
          "text": [
            "                   all         56         58          1      0.983      0.986       0.82\n"
          ]
        },
        {
          "name": "stderr",
          "output_type": "stream",
          "text": [
            "\n"
          ]
        },
        {
          "name": "stdout",
          "output_type": "stream",
          "text": [
            "\n",
            "      Epoch    GPU_mem   box_loss   cls_loss   dfl_loss  Instances       Size\n"
          ]
        },
        {
          "name": "stderr",
          "output_type": "stream",
          "text": [
            "     42/100      2.27G      0.668     0.4631     0.8697         30        640: 100%|██████████| 27/27 [00:19<00:00,  1.38it/s]\n",
            "                 Class     Images  Instances      Box(P          R      mAP50  mAP50-95): 100%|██████████| 2/2 [00:00<00:00,  2.66it/s]"
          ]
        },
        {
          "name": "stdout",
          "output_type": "stream",
          "text": [
            "                   all         56         58      0.967      0.998      0.994       0.85\n"
          ]
        },
        {
          "name": "stderr",
          "output_type": "stream",
          "text": [
            "\n"
          ]
        },
        {
          "name": "stdout",
          "output_type": "stream",
          "text": [
            "\n",
            "      Epoch    GPU_mem   box_loss   cls_loss   dfl_loss  Instances       Size\n"
          ]
        },
        {
          "name": "stderr",
          "output_type": "stream",
          "text": [
            "     43/100      2.27G     0.6485     0.4375     0.8736         26        640: 100%|██████████| 27/27 [00:19<00:00,  1.35it/s]\n",
            "                 Class     Images  Instances      Box(P          R      mAP50  mAP50-95): 100%|██████████| 2/2 [00:01<00:00,  1.43it/s]"
          ]
        },
        {
          "name": "stdout",
          "output_type": "stream",
          "text": [
            "                   all         56         58      0.997      0.966      0.992      0.826\n"
          ]
        },
        {
          "name": "stderr",
          "output_type": "stream",
          "text": [
            "\n"
          ]
        },
        {
          "name": "stdout",
          "output_type": "stream",
          "text": [
            "\n",
            "      Epoch    GPU_mem   box_loss   cls_loss   dfl_loss  Instances       Size\n"
          ]
        },
        {
          "name": "stderr",
          "output_type": "stream",
          "text": [
            "     44/100      2.26G     0.6683     0.4465     0.8709         21        640: 100%|██████████| 27/27 [00:20<00:00,  1.30it/s]\n",
            "                 Class     Images  Instances      Box(P          R      mAP50  mAP50-95): 100%|██████████| 2/2 [00:00<00:00,  2.21it/s]"
          ]
        },
        {
          "name": "stdout",
          "output_type": "stream",
          "text": [
            "                   all         56         58       0.98          1      0.994      0.796\n"
          ]
        },
        {
          "name": "stderr",
          "output_type": "stream",
          "text": [
            "\n"
          ]
        },
        {
          "name": "stdout",
          "output_type": "stream",
          "text": [
            "\n",
            "      Epoch    GPU_mem   box_loss   cls_loss   dfl_loss  Instances       Size\n"
          ]
        },
        {
          "name": "stderr",
          "output_type": "stream",
          "text": [
            "     45/100      2.27G     0.6426      0.447     0.8589         20        640: 100%|██████████| 27/27 [00:20<00:00,  1.34it/s]\n",
            "                 Class     Images  Instances      Box(P          R      mAP50  mAP50-95): 100%|██████████| 2/2 [00:00<00:00,  2.10it/s]"
          ]
        },
        {
          "name": "stdout",
          "output_type": "stream",
          "text": [
            "                   all         56         58          1      0.965      0.994      0.834\n"
          ]
        },
        {
          "name": "stderr",
          "output_type": "stream",
          "text": [
            "\n"
          ]
        },
        {
          "name": "stdout",
          "output_type": "stream",
          "text": [
            "\n",
            "      Epoch    GPU_mem   box_loss   cls_loss   dfl_loss  Instances       Size\n"
          ]
        },
        {
          "name": "stderr",
          "output_type": "stream",
          "text": [
            "     46/100      2.27G     0.6672     0.4576     0.8743         36        640: 100%|██████████| 27/27 [00:20<00:00,  1.34it/s]\n",
            "                 Class     Images  Instances      Box(P          R      mAP50  mAP50-95): 100%|██████████| 2/2 [00:00<00:00,  2.61it/s]"
          ]
        },
        {
          "name": "stdout",
          "output_type": "stream",
          "text": [
            "                   all         56         58      0.997      0.983      0.995      0.837\n"
          ]
        },
        {
          "name": "stderr",
          "output_type": "stream",
          "text": [
            "\n"
          ]
        },
        {
          "name": "stdout",
          "output_type": "stream",
          "text": [
            "\n",
            "      Epoch    GPU_mem   box_loss   cls_loss   dfl_loss  Instances       Size\n"
          ]
        },
        {
          "name": "stderr",
          "output_type": "stream",
          "text": [
            "     47/100      2.27G     0.6507     0.4363     0.8678         23        640: 100%|██████████| 27/27 [00:22<00:00,  1.20it/s]\n",
            "                 Class     Images  Instances      Box(P          R      mAP50  mAP50-95): 100%|██████████| 2/2 [00:01<00:00,  1.55it/s]"
          ]
        },
        {
          "name": "stdout",
          "output_type": "stream",
          "text": [
            "                   all         56         58          1      0.982      0.988      0.843\n"
          ]
        },
        {
          "name": "stderr",
          "output_type": "stream",
          "text": [
            "\n"
          ]
        },
        {
          "name": "stdout",
          "output_type": "stream",
          "text": [
            "\n",
            "      Epoch    GPU_mem   box_loss   cls_loss   dfl_loss  Instances       Size\n"
          ]
        },
        {
          "name": "stderr",
          "output_type": "stream",
          "text": [
            "     48/100      2.27G     0.6327     0.4228     0.8664         21        640: 100%|██████████| 27/27 [00:20<00:00,  1.35it/s]\n",
            "                 Class     Images  Instances      Box(P          R      mAP50  mAP50-95): 100%|██████████| 2/2 [00:00<00:00,  2.91it/s]"
          ]
        },
        {
          "name": "stdout",
          "output_type": "stream",
          "text": [
            "                   all         56         58      0.978      0.983      0.993      0.862\n"
          ]
        },
        {
          "name": "stderr",
          "output_type": "stream",
          "text": [
            "\n"
          ]
        },
        {
          "name": "stdout",
          "output_type": "stream",
          "text": [
            "\n",
            "      Epoch    GPU_mem   box_loss   cls_loss   dfl_loss  Instances       Size\n"
          ]
        },
        {
          "name": "stderr",
          "output_type": "stream",
          "text": [
            "     49/100      2.27G     0.6522     0.4367     0.8696         30        640: 100%|██████████| 27/27 [00:19<00:00,  1.39it/s]\n",
            "                 Class     Images  Instances      Box(P          R      mAP50  mAP50-95): 100%|██████████| 2/2 [00:00<00:00,  3.04it/s]"
          ]
        },
        {
          "name": "stdout",
          "output_type": "stream",
          "text": [
            "                   all         56         58      0.976      0.966      0.982      0.843\n"
          ]
        },
        {
          "name": "stderr",
          "output_type": "stream",
          "text": [
            "\n"
          ]
        },
        {
          "name": "stdout",
          "output_type": "stream",
          "text": [
            "\n",
            "      Epoch    GPU_mem   box_loss   cls_loss   dfl_loss  Instances       Size\n"
          ]
        },
        {
          "name": "stderr",
          "output_type": "stream",
          "text": [
            "     50/100      2.27G       0.63     0.4157     0.8679         25        640: 100%|██████████| 27/27 [00:19<00:00,  1.41it/s]\n",
            "                 Class     Images  Instances      Box(P          R      mAP50  mAP50-95): 100%|██████████| 2/2 [00:01<00:00,  1.94it/s]"
          ]
        },
        {
          "name": "stdout",
          "output_type": "stream",
          "text": [
            "                   all         56         58      0.999      0.948      0.982       0.82\n"
          ]
        },
        {
          "name": "stderr",
          "output_type": "stream",
          "text": [
            "\n"
          ]
        },
        {
          "name": "stdout",
          "output_type": "stream",
          "text": [
            "\n",
            "      Epoch    GPU_mem   box_loss   cls_loss   dfl_loss  Instances       Size\n"
          ]
        },
        {
          "name": "stderr",
          "output_type": "stream",
          "text": [
            "     51/100      2.27G     0.6235     0.4215     0.8633         23        640: 100%|██████████| 27/27 [00:22<00:00,  1.18it/s]\n",
            "                 Class     Images  Instances      Box(P          R      mAP50  mAP50-95): 100%|██████████| 2/2 [00:01<00:00,  1.35it/s]"
          ]
        },
        {
          "name": "stdout",
          "output_type": "stream",
          "text": [
            "                   all         56         58      0.978      0.948      0.977      0.816\n"
          ]
        },
        {
          "name": "stderr",
          "output_type": "stream",
          "text": [
            "\n"
          ]
        },
        {
          "name": "stdout",
          "output_type": "stream",
          "text": [
            "\n",
            "      Epoch    GPU_mem   box_loss   cls_loss   dfl_loss  Instances       Size\n"
          ]
        },
        {
          "name": "stderr",
          "output_type": "stream",
          "text": [
            "     52/100      2.26G     0.6032     0.4051     0.8588         21        640: 100%|██████████| 27/27 [00:21<00:00,  1.27it/s]\n",
            "                 Class     Images  Instances      Box(P          R      mAP50  mAP50-95): 100%|██████████| 2/2 [00:01<00:00,  1.70it/s]"
          ]
        },
        {
          "name": "stdout",
          "output_type": "stream",
          "text": [
            "                   all         56         58      0.998      0.948      0.982      0.837\n"
          ]
        },
        {
          "name": "stderr",
          "output_type": "stream",
          "text": [
            "\n"
          ]
        },
        {
          "name": "stdout",
          "output_type": "stream",
          "text": [
            "\n",
            "      Epoch    GPU_mem   box_loss   cls_loss   dfl_loss  Instances       Size\n"
          ]
        },
        {
          "name": "stderr",
          "output_type": "stream",
          "text": [
            "     53/100      2.27G     0.6157     0.4148      0.862         25        640: 100%|██████████| 27/27 [00:21<00:00,  1.27it/s]\n",
            "                 Class     Images  Instances      Box(P          R      mAP50  mAP50-95): 100%|██████████| 2/2 [00:01<00:00,  1.47it/s]"
          ]
        },
        {
          "name": "stdout",
          "output_type": "stream",
          "text": [
            "                   all         56         58      0.982      0.965      0.993      0.826\n"
          ]
        },
        {
          "name": "stderr",
          "output_type": "stream",
          "text": [
            "\n"
          ]
        },
        {
          "name": "stdout",
          "output_type": "stream",
          "text": [
            "\n",
            "      Epoch    GPU_mem   box_loss   cls_loss   dfl_loss  Instances       Size\n"
          ]
        },
        {
          "name": "stderr",
          "output_type": "stream",
          "text": [
            "     54/100      2.27G     0.6361     0.4244     0.8654         27        640: 100%|██████████| 27/27 [00:19<00:00,  1.35it/s]\n",
            "                 Class     Images  Instances      Box(P          R      mAP50  mAP50-95): 100%|██████████| 2/2 [00:01<00:00,  1.57it/s]"
          ]
        },
        {
          "name": "stdout",
          "output_type": "stream",
          "text": [
            "                   all         56         58      0.999      0.983      0.994      0.857\n"
          ]
        },
        {
          "name": "stderr",
          "output_type": "stream",
          "text": [
            "\n"
          ]
        },
        {
          "name": "stdout",
          "output_type": "stream",
          "text": [
            "\n",
            "      Epoch    GPU_mem   box_loss   cls_loss   dfl_loss  Instances       Size\n"
          ]
        },
        {
          "name": "stderr",
          "output_type": "stream",
          "text": [
            "     55/100      2.27G     0.6293     0.4129     0.8679         28        640: 100%|██████████| 27/27 [00:20<00:00,  1.33it/s]\n",
            "                 Class     Images  Instances      Box(P          R      mAP50  mAP50-95): 100%|██████████| 2/2 [00:00<00:00,  3.00it/s]"
          ]
        },
        {
          "name": "stdout",
          "output_type": "stream",
          "text": [
            "                   all         56         58      0.999      0.966      0.987      0.846\n"
          ]
        },
        {
          "name": "stderr",
          "output_type": "stream",
          "text": [
            "\n"
          ]
        },
        {
          "name": "stdout",
          "output_type": "stream",
          "text": [
            "\n",
            "      Epoch    GPU_mem   box_loss   cls_loss   dfl_loss  Instances       Size\n"
          ]
        },
        {
          "name": "stderr",
          "output_type": "stream",
          "text": [
            "     56/100      2.26G      0.612     0.4107     0.8638         25        640: 100%|██████████| 27/27 [00:19<00:00,  1.36it/s]\n",
            "                 Class     Images  Instances      Box(P          R      mAP50  mAP50-95): 100%|██████████| 2/2 [00:00<00:00,  2.79it/s]"
          ]
        },
        {
          "name": "stdout",
          "output_type": "stream",
          "text": [
            "                   all         56         58      0.982      0.983      0.987      0.843\n"
          ]
        },
        {
          "name": "stderr",
          "output_type": "stream",
          "text": [
            "\n"
          ]
        },
        {
          "name": "stdout",
          "output_type": "stream",
          "text": [
            "\n",
            "      Epoch    GPU_mem   box_loss   cls_loss   dfl_loss  Instances       Size\n"
          ]
        },
        {
          "name": "stderr",
          "output_type": "stream",
          "text": [
            "     57/100      2.27G     0.6109     0.3946     0.8547         21        640: 100%|██████████| 27/27 [00:19<00:00,  1.38it/s]\n",
            "                 Class     Images  Instances      Box(P          R      mAP50  mAP50-95): 100%|██████████| 2/2 [00:01<00:00,  1.64it/s]"
          ]
        },
        {
          "name": "stdout",
          "output_type": "stream",
          "text": [
            "                   all         56         58          1      0.981      0.994       0.86\n"
          ]
        },
        {
          "name": "stderr",
          "output_type": "stream",
          "text": [
            "\n"
          ]
        },
        {
          "name": "stdout",
          "output_type": "stream",
          "text": [
            "\n",
            "      Epoch    GPU_mem   box_loss   cls_loss   dfl_loss  Instances       Size\n"
          ]
        },
        {
          "name": "stderr",
          "output_type": "stream",
          "text": [
            "     58/100      2.27G     0.5861     0.3975     0.8596         26        640: 100%|██████████| 27/27 [00:20<00:00,  1.29it/s]\n",
            "                 Class     Images  Instances      Box(P          R      mAP50  mAP50-95): 100%|██████████| 2/2 [00:01<00:00,  1.89it/s]"
          ]
        },
        {
          "name": "stdout",
          "output_type": "stream",
          "text": [
            "                   all         56         58      0.999      0.983      0.993       0.84\n"
          ]
        },
        {
          "name": "stderr",
          "output_type": "stream",
          "text": [
            "\n"
          ]
        },
        {
          "name": "stdout",
          "output_type": "stream",
          "text": [
            "\n",
            "      Epoch    GPU_mem   box_loss   cls_loss   dfl_loss  Instances       Size\n"
          ]
        },
        {
          "name": "stderr",
          "output_type": "stream",
          "text": [
            "     59/100      2.27G     0.6156     0.4083     0.8657         23        640: 100%|██████████| 27/27 [00:20<00:00,  1.32it/s]\n",
            "                 Class     Images  Instances      Box(P          R      mAP50  mAP50-95): 100%|██████████| 2/2 [00:00<00:00,  2.35it/s]"
          ]
        },
        {
          "name": "stdout",
          "output_type": "stream",
          "text": [
            "                   all         56         58      0.997      0.983      0.994      0.854\n"
          ]
        },
        {
          "name": "stderr",
          "output_type": "stream",
          "text": [
            "\n"
          ]
        },
        {
          "name": "stdout",
          "output_type": "stream",
          "text": [
            "\n",
            "      Epoch    GPU_mem   box_loss   cls_loss   dfl_loss  Instances       Size\n"
          ]
        },
        {
          "name": "stderr",
          "output_type": "stream",
          "text": [
            "     60/100      2.26G      0.577     0.3917     0.8564         33        640: 100%|██████████| 27/27 [00:19<00:00,  1.39it/s]\n",
            "                 Class     Images  Instances      Box(P          R      mAP50  mAP50-95): 100%|██████████| 2/2 [00:00<00:00,  2.69it/s]"
          ]
        },
        {
          "name": "stdout",
          "output_type": "stream",
          "text": [
            "                   all         56         58      0.998      0.983      0.994      0.866\n"
          ]
        },
        {
          "name": "stderr",
          "output_type": "stream",
          "text": [
            "\n"
          ]
        },
        {
          "name": "stdout",
          "output_type": "stream",
          "text": [
            "\n",
            "      Epoch    GPU_mem   box_loss   cls_loss   dfl_loss  Instances       Size\n"
          ]
        },
        {
          "name": "stderr",
          "output_type": "stream",
          "text": [
            "     61/100      2.27G      0.581     0.3846     0.8547         28        640: 100%|██████████| 27/27 [00:19<00:00,  1.35it/s]\n",
            "                 Class     Images  Instances      Box(P          R      mAP50  mAP50-95): 100%|██████████| 2/2 [00:01<00:00,  1.47it/s]"
          ]
        },
        {
          "name": "stdout",
          "output_type": "stream",
          "text": [
            "                   all         56         58          1      0.998      0.995      0.866\n"
          ]
        },
        {
          "name": "stderr",
          "output_type": "stream",
          "text": [
            "\n"
          ]
        },
        {
          "name": "stdout",
          "output_type": "stream",
          "text": [
            "\n",
            "      Epoch    GPU_mem   box_loss   cls_loss   dfl_loss  Instances       Size\n"
          ]
        },
        {
          "name": "stderr",
          "output_type": "stream",
          "text": [
            "     62/100      2.27G     0.5818     0.3893     0.8618         33        640: 100%|██████████| 27/27 [00:21<00:00,  1.24it/s]\n",
            "                 Class     Images  Instances      Box(P          R      mAP50  mAP50-95): 100%|██████████| 2/2 [00:00<00:00,  2.45it/s]"
          ]
        },
        {
          "name": "stdout",
          "output_type": "stream",
          "text": [
            "                   all         56         58      0.983      0.997      0.994      0.861\n"
          ]
        },
        {
          "name": "stderr",
          "output_type": "stream",
          "text": [
            "\n"
          ]
        },
        {
          "name": "stdout",
          "output_type": "stream",
          "text": [
            "\n",
            "      Epoch    GPU_mem   box_loss   cls_loss   dfl_loss  Instances       Size\n"
          ]
        },
        {
          "name": "stderr",
          "output_type": "stream",
          "text": [
            "     63/100      2.27G     0.5917     0.3854     0.8552         31        640: 100%|██████████| 27/27 [00:19<00:00,  1.42it/s]\n",
            "                 Class     Images  Instances      Box(P          R      mAP50  mAP50-95): 100%|██████████| 2/2 [00:00<00:00,  2.48it/s]"
          ]
        },
        {
          "name": "stdout",
          "output_type": "stream",
          "text": [
            "                   all         56         58      0.997      0.983      0.994      0.865\n"
          ]
        },
        {
          "name": "stderr",
          "output_type": "stream",
          "text": [
            "\n"
          ]
        },
        {
          "name": "stdout",
          "output_type": "stream",
          "text": [
            "\n",
            "      Epoch    GPU_mem   box_loss   cls_loss   dfl_loss  Instances       Size\n"
          ]
        },
        {
          "name": "stderr",
          "output_type": "stream",
          "text": [
            "     64/100      2.26G     0.5984     0.3806     0.8601         23        640: 100%|██████████| 27/27 [00:19<00:00,  1.41it/s]\n",
            "                 Class     Images  Instances      Box(P          R      mAP50  mAP50-95): 100%|██████████| 2/2 [00:00<00:00,  2.44it/s]"
          ]
        },
        {
          "name": "stdout",
          "output_type": "stream",
          "text": [
            "                   all         56         58          1      0.948      0.993      0.879\n"
          ]
        },
        {
          "name": "stderr",
          "output_type": "stream",
          "text": [
            "\n"
          ]
        },
        {
          "name": "stdout",
          "output_type": "stream",
          "text": [
            "\n",
            "      Epoch    GPU_mem   box_loss   cls_loss   dfl_loss  Instances       Size\n"
          ]
        },
        {
          "name": "stderr",
          "output_type": "stream",
          "text": [
            "     65/100      2.27G     0.6175     0.3883     0.8684         20        640: 100%|██████████| 27/27 [00:21<00:00,  1.26it/s]\n",
            "                 Class     Images  Instances      Box(P          R      mAP50  mAP50-95): 100%|██████████| 2/2 [00:01<00:00,  1.53it/s]"
          ]
        },
        {
          "name": "stdout",
          "output_type": "stream",
          "text": [
            "                   all         56         58      0.999      0.948      0.992      0.879\n"
          ]
        },
        {
          "name": "stderr",
          "output_type": "stream",
          "text": [
            "\n"
          ]
        },
        {
          "name": "stdout",
          "output_type": "stream",
          "text": [
            "\n",
            "      Epoch    GPU_mem   box_loss   cls_loss   dfl_loss  Instances       Size\n"
          ]
        },
        {
          "name": "stderr",
          "output_type": "stream",
          "text": [
            "     66/100      2.27G     0.5572     0.3675     0.8527         24        640: 100%|██████████| 27/27 [00:19<00:00,  1.35it/s]\n",
            "                 Class     Images  Instances      Box(P          R      mAP50  mAP50-95): 100%|██████████| 2/2 [00:00<00:00,  2.55it/s]"
          ]
        },
        {
          "name": "stdout",
          "output_type": "stream",
          "text": [
            "                   all         56         58      0.999      0.966      0.992      0.865\n"
          ]
        },
        {
          "name": "stderr",
          "output_type": "stream",
          "text": [
            "\n"
          ]
        },
        {
          "name": "stdout",
          "output_type": "stream",
          "text": [
            "\n",
            "      Epoch    GPU_mem   box_loss   cls_loss   dfl_loss  Instances       Size\n"
          ]
        },
        {
          "name": "stderr",
          "output_type": "stream",
          "text": [
            "     67/100      2.27G     0.5749     0.3652     0.8555         30        640: 100%|██████████| 27/27 [00:20<00:00,  1.34it/s]\n",
            "                 Class     Images  Instances      Box(P          R      mAP50  mAP50-95): 100%|██████████| 2/2 [00:00<00:00,  2.83it/s]"
          ]
        },
        {
          "name": "stdout",
          "output_type": "stream",
          "text": [
            "                   all         56         58      0.998      0.983      0.995      0.877\n"
          ]
        },
        {
          "name": "stderr",
          "output_type": "stream",
          "text": [
            "\n"
          ]
        },
        {
          "name": "stdout",
          "output_type": "stream",
          "text": [
            "\n",
            "      Epoch    GPU_mem   box_loss   cls_loss   dfl_loss  Instances       Size\n"
          ]
        },
        {
          "name": "stderr",
          "output_type": "stream",
          "text": [
            "     68/100      2.26G     0.5466     0.3602     0.8548         24        640: 100%|██████████| 27/27 [00:20<00:00,  1.34it/s]\n",
            "                 Class     Images  Instances      Box(P          R      mAP50  mAP50-95): 100%|██████████| 2/2 [00:00<00:00,  3.02it/s]"
          ]
        },
        {
          "name": "stdout",
          "output_type": "stream",
          "text": [
            "                   all         56         58      0.997          1      0.995      0.855\n"
          ]
        },
        {
          "name": "stderr",
          "output_type": "stream",
          "text": [
            "\n"
          ]
        },
        {
          "name": "stdout",
          "output_type": "stream",
          "text": [
            "\n",
            "      Epoch    GPU_mem   box_loss   cls_loss   dfl_loss  Instances       Size\n"
          ]
        },
        {
          "name": "stderr",
          "output_type": "stream",
          "text": [
            "     69/100      2.27G     0.5369     0.3579     0.8393         25        640: 100%|██████████| 27/27 [00:19<00:00,  1.35it/s]\n",
            "                 Class     Images  Instances      Box(P          R      mAP50  mAP50-95): 100%|██████████| 2/2 [00:01<00:00,  1.62it/s]"
          ]
        },
        {
          "name": "stdout",
          "output_type": "stream",
          "text": [
            "                   all         56         58          1          1      0.995      0.879\n"
          ]
        },
        {
          "name": "stderr",
          "output_type": "stream",
          "text": [
            "\n"
          ]
        },
        {
          "name": "stdout",
          "output_type": "stream",
          "text": [
            "\n",
            "      Epoch    GPU_mem   box_loss   cls_loss   dfl_loss  Instances       Size\n"
          ]
        },
        {
          "name": "stderr",
          "output_type": "stream",
          "text": [
            "     70/100      2.27G     0.5461     0.3554     0.8458         30        640: 100%|██████████| 27/27 [00:19<00:00,  1.39it/s]\n",
            "                 Class     Images  Instances      Box(P          R      mAP50  mAP50-95): 100%|██████████| 2/2 [00:01<00:00,  1.72it/s]"
          ]
        },
        {
          "name": "stdout",
          "output_type": "stream",
          "text": [
            "                   all         56         58      0.998      0.966      0.994      0.889\n"
          ]
        },
        {
          "name": "stderr",
          "output_type": "stream",
          "text": [
            "\n"
          ]
        },
        {
          "name": "stdout",
          "output_type": "stream",
          "text": [
            "\n",
            "      Epoch    GPU_mem   box_loss   cls_loss   dfl_loss  Instances       Size\n"
          ]
        },
        {
          "name": "stderr",
          "output_type": "stream",
          "text": [
            "     71/100      2.27G     0.5383     0.3604     0.8448         30        640: 100%|██████████| 27/27 [00:19<00:00,  1.35it/s]\n",
            "                 Class     Images  Instances      Box(P          R      mAP50  mAP50-95): 100%|██████████| 2/2 [00:00<00:00,  2.69it/s]"
          ]
        },
        {
          "name": "stdout",
          "output_type": "stream",
          "text": [
            "                   all         56         58      0.983      0.996      0.994      0.851\n"
          ]
        },
        {
          "name": "stderr",
          "output_type": "stream",
          "text": [
            "\n"
          ]
        },
        {
          "name": "stdout",
          "output_type": "stream",
          "text": [
            "\n",
            "      Epoch    GPU_mem   box_loss   cls_loss   dfl_loss  Instances       Size\n"
          ]
        },
        {
          "name": "stderr",
          "output_type": "stream",
          "text": [
            "     72/100      2.26G      0.556     0.3718     0.8415         21        640: 100%|██████████| 27/27 [00:20<00:00,  1.33it/s]\n",
            "                 Class     Images  Instances      Box(P          R      mAP50  mAP50-95): 100%|██████████| 2/2 [00:00<00:00,  2.06it/s]"
          ]
        },
        {
          "name": "stdout",
          "output_type": "stream",
          "text": [
            "                   all         56         58          1      0.982      0.995      0.879\n"
          ]
        },
        {
          "name": "stderr",
          "output_type": "stream",
          "text": [
            "\n"
          ]
        },
        {
          "name": "stdout",
          "output_type": "stream",
          "text": [
            "\n",
            "      Epoch    GPU_mem   box_loss   cls_loss   dfl_loss  Instances       Size\n"
          ]
        },
        {
          "name": "stderr",
          "output_type": "stream",
          "text": [
            "     73/100      2.27G     0.5208     0.3517     0.8446         28        640: 100%|██████████| 27/27 [00:18<00:00,  1.42it/s]\n",
            "                 Class     Images  Instances      Box(P          R      mAP50  mAP50-95): 100%|██████████| 2/2 [00:01<00:00,  1.62it/s]"
          ]
        },
        {
          "name": "stdout",
          "output_type": "stream",
          "text": [
            "                   all         56         58      0.998      0.983      0.995       0.87\n"
          ]
        },
        {
          "name": "stderr",
          "output_type": "stream",
          "text": [
            "\n"
          ]
        },
        {
          "name": "stdout",
          "output_type": "stream",
          "text": [
            "\n",
            "      Epoch    GPU_mem   box_loss   cls_loss   dfl_loss  Instances       Size\n"
          ]
        },
        {
          "name": "stderr",
          "output_type": "stream",
          "text": [
            "     74/100      2.27G     0.5241     0.3538     0.8444         36        640: 100%|██████████| 27/27 [00:22<00:00,  1.21it/s]\n",
            "                 Class     Images  Instances      Box(P          R      mAP50  mAP50-95): 100%|██████████| 2/2 [00:00<00:00,  2.86it/s]"
          ]
        },
        {
          "name": "stdout",
          "output_type": "stream",
          "text": [
            "                   all         56         58      0.983      0.999      0.995      0.858\n"
          ]
        },
        {
          "name": "stderr",
          "output_type": "stream",
          "text": [
            "\n"
          ]
        },
        {
          "name": "stdout",
          "output_type": "stream",
          "text": [
            "\n",
            "      Epoch    GPU_mem   box_loss   cls_loss   dfl_loss  Instances       Size\n"
          ]
        },
        {
          "name": "stderr",
          "output_type": "stream",
          "text": [
            "     75/100      2.27G     0.5653     0.3757     0.8597         32        640: 100%|██████████| 27/27 [00:19<00:00,  1.37it/s]\n",
            "                 Class     Images  Instances      Box(P          R      mAP50  mAP50-95): 100%|██████████| 2/2 [00:00<00:00,  3.62it/s]"
          ]
        },
        {
          "name": "stdout",
          "output_type": "stream",
          "text": [
            "                   all         56         58      0.983      0.998      0.994      0.854\n"
          ]
        },
        {
          "name": "stderr",
          "output_type": "stream",
          "text": [
            "\n"
          ]
        },
        {
          "name": "stdout",
          "output_type": "stream",
          "text": [
            "\n",
            "      Epoch    GPU_mem   box_loss   cls_loss   dfl_loss  Instances       Size\n"
          ]
        },
        {
          "name": "stderr",
          "output_type": "stream",
          "text": [
            "     76/100      2.26G     0.5386     0.3607     0.8546         41        640: 100%|██████████| 27/27 [00:19<00:00,  1.38it/s]\n",
            "                 Class     Images  Instances      Box(P          R      mAP50  mAP50-95): 100%|██████████| 2/2 [00:00<00:00,  2.37it/s]"
          ]
        },
        {
          "name": "stdout",
          "output_type": "stream",
          "text": [
            "                   all         56         58          1       0.98      0.995      0.853\n"
          ]
        },
        {
          "name": "stderr",
          "output_type": "stream",
          "text": [
            "\n"
          ]
        },
        {
          "name": "stdout",
          "output_type": "stream",
          "text": [
            "\n",
            "      Epoch    GPU_mem   box_loss   cls_loss   dfl_loss  Instances       Size\n"
          ]
        },
        {
          "name": "stderr",
          "output_type": "stream",
          "text": [
            "     77/100      2.27G      0.528     0.3546     0.8509         20        640: 100%|██████████| 27/27 [00:20<00:00,  1.31it/s]\n",
            "                 Class     Images  Instances      Box(P          R      mAP50  mAP50-95): 100%|██████████| 2/2 [00:01<00:00,  1.70it/s]"
          ]
        },
        {
          "name": "stdout",
          "output_type": "stream",
          "text": [
            "                   all         56         58      0.998      0.983      0.995      0.868\n"
          ]
        },
        {
          "name": "stderr",
          "output_type": "stream",
          "text": [
            "\n"
          ]
        },
        {
          "name": "stdout",
          "output_type": "stream",
          "text": [
            "\n",
            "      Epoch    GPU_mem   box_loss   cls_loss   dfl_loss  Instances       Size\n"
          ]
        },
        {
          "name": "stderr",
          "output_type": "stream",
          "text": [
            "     78/100      2.27G     0.5339      0.354     0.8528         30        640: 100%|██████████| 27/27 [00:19<00:00,  1.36it/s]\n",
            "                 Class     Images  Instances      Box(P          R      mAP50  mAP50-95): 100%|██████████| 2/2 [00:00<00:00,  2.45it/s]"
          ]
        },
        {
          "name": "stdout",
          "output_type": "stream",
          "text": [
            "                   all         56         58      0.983      0.999      0.995      0.868\n"
          ]
        },
        {
          "name": "stderr",
          "output_type": "stream",
          "text": [
            "\n"
          ]
        },
        {
          "name": "stdout",
          "output_type": "stream",
          "text": [
            "\n",
            "      Epoch    GPU_mem   box_loss   cls_loss   dfl_loss  Instances       Size\n"
          ]
        },
        {
          "name": "stderr",
          "output_type": "stream",
          "text": [
            "     79/100      2.27G     0.4996     0.3434      0.842         28        640: 100%|██████████| 27/27 [00:19<00:00,  1.42it/s]\n",
            "                 Class     Images  Instances      Box(P          R      mAP50  mAP50-95): 100%|██████████| 2/2 [00:00<00:00,  2.53it/s]"
          ]
        },
        {
          "name": "stdout",
          "output_type": "stream",
          "text": [
            "                   all         56         58      0.983      0.999      0.994      0.859\n"
          ]
        },
        {
          "name": "stderr",
          "output_type": "stream",
          "text": [
            "\n"
          ]
        },
        {
          "name": "stdout",
          "output_type": "stream",
          "text": [
            "\n",
            "      Epoch    GPU_mem   box_loss   cls_loss   dfl_loss  Instances       Size\n"
          ]
        },
        {
          "name": "stderr",
          "output_type": "stream",
          "text": [
            "     80/100      2.26G     0.5176     0.3441     0.8475         33        640: 100%|██████████| 27/27 [00:20<00:00,  1.33it/s]\n",
            "                 Class     Images  Instances      Box(P          R      mAP50  mAP50-95): 100%|██████████| 2/2 [00:00<00:00,  2.26it/s]"
          ]
        },
        {
          "name": "stdout",
          "output_type": "stream",
          "text": [
            "                   all         56         58       0.98      0.983      0.993      0.861\n"
          ]
        },
        {
          "name": "stderr",
          "output_type": "stream",
          "text": [
            "\n"
          ]
        },
        {
          "name": "stdout",
          "output_type": "stream",
          "text": [
            "\n",
            "      Epoch    GPU_mem   box_loss   cls_loss   dfl_loss  Instances       Size\n"
          ]
        },
        {
          "name": "stderr",
          "output_type": "stream",
          "text": [
            "     81/100      2.27G     0.4967      0.343     0.8408         31        640: 100%|██████████| 27/27 [00:19<00:00,  1.40it/s]\n",
            "                 Class     Images  Instances      Box(P          R      mAP50  mAP50-95): 100%|██████████| 2/2 [00:01<00:00,  1.48it/s]"
          ]
        },
        {
          "name": "stdout",
          "output_type": "stream",
          "text": [
            "                   all         56         58      0.981      0.983      0.993      0.867\n"
          ]
        },
        {
          "name": "stderr",
          "output_type": "stream",
          "text": [
            "\n"
          ]
        },
        {
          "name": "stdout",
          "output_type": "stream",
          "text": [
            "\n",
            "      Epoch    GPU_mem   box_loss   cls_loss   dfl_loss  Instances       Size\n"
          ]
        },
        {
          "name": "stderr",
          "output_type": "stream",
          "text": [
            "     82/100      2.27G     0.5069     0.3426     0.8407         29        640: 100%|██████████| 27/27 [00:21<00:00,  1.28it/s]\n",
            "                 Class     Images  Instances      Box(P          R      mAP50  mAP50-95): 100%|██████████| 2/2 [00:01<00:00,  1.98it/s]"
          ]
        },
        {
          "name": "stdout",
          "output_type": "stream",
          "text": [
            "                   all         56         58      0.983      0.981      0.994      0.861\n"
          ]
        },
        {
          "name": "stderr",
          "output_type": "stream",
          "text": [
            "\n"
          ]
        },
        {
          "name": "stdout",
          "output_type": "stream",
          "text": [
            "\n",
            "      Epoch    GPU_mem   box_loss   cls_loss   dfl_loss  Instances       Size\n"
          ]
        },
        {
          "name": "stderr",
          "output_type": "stream",
          "text": [
            "     83/100      2.27G     0.5165     0.3306     0.8376         22        640: 100%|██████████| 27/27 [00:20<00:00,  1.33it/s]\n",
            "                 Class     Images  Instances      Box(P          R      mAP50  mAP50-95): 100%|██████████| 2/2 [00:00<00:00,  3.44it/s]"
          ]
        },
        {
          "name": "stdout",
          "output_type": "stream",
          "text": [
            "                   all         56         58      0.983      0.995      0.994       0.86\n"
          ]
        },
        {
          "name": "stderr",
          "output_type": "stream",
          "text": [
            "\n"
          ]
        },
        {
          "name": "stdout",
          "output_type": "stream",
          "text": [
            "\n",
            "      Epoch    GPU_mem   box_loss   cls_loss   dfl_loss  Instances       Size\n"
          ]
        },
        {
          "name": "stderr",
          "output_type": "stream",
          "text": [
            "     84/100      2.26G     0.5054     0.3406     0.8461         26        640: 100%|██████████| 27/27 [00:19<00:00,  1.41it/s]\n",
            "                 Class     Images  Instances      Box(P          R      mAP50  mAP50-95): 100%|██████████| 2/2 [00:00<00:00,  2.43it/s]"
          ]
        },
        {
          "name": "stdout",
          "output_type": "stream",
          "text": [
            "                   all         56         58      0.982          1      0.994      0.878\n"
          ]
        },
        {
          "name": "stderr",
          "output_type": "stream",
          "text": [
            "\n"
          ]
        },
        {
          "name": "stdout",
          "output_type": "stream",
          "text": [
            "\n",
            "      Epoch    GPU_mem   box_loss   cls_loss   dfl_loss  Instances       Size\n"
          ]
        },
        {
          "name": "stderr",
          "output_type": "stream",
          "text": [
            "     85/100      2.27G     0.4748     0.3115     0.8342         24        640: 100%|██████████| 27/27 [00:20<00:00,  1.32it/s]\n",
            "                 Class     Images  Instances      Box(P          R      mAP50  mAP50-95): 100%|██████████| 2/2 [00:01<00:00,  1.48it/s]"
          ]
        },
        {
          "name": "stdout",
          "output_type": "stream",
          "text": [
            "                   all         56         58      0.983      0.998      0.994      0.871\n"
          ]
        },
        {
          "name": "stderr",
          "output_type": "stream",
          "text": [
            "\n"
          ]
        },
        {
          "name": "stdout",
          "output_type": "stream",
          "text": [
            "\n",
            "      Epoch    GPU_mem   box_loss   cls_loss   dfl_loss  Instances       Size\n"
          ]
        },
        {
          "name": "stderr",
          "output_type": "stream",
          "text": [
            "     86/100      2.27G     0.4882     0.3217     0.8391         29        640: 100%|██████████| 27/27 [00:19<00:00,  1.39it/s]\n",
            "                 Class     Images  Instances      Box(P          R      mAP50  mAP50-95): 100%|██████████| 2/2 [00:01<00:00,  1.98it/s]"
          ]
        },
        {
          "name": "stdout",
          "output_type": "stream",
          "text": [
            "                   all         56         58      0.999      0.966      0.994      0.866\n"
          ]
        },
        {
          "name": "stderr",
          "output_type": "stream",
          "text": [
            "\n"
          ]
        },
        {
          "name": "stdout",
          "output_type": "stream",
          "text": [
            "\n",
            "      Epoch    GPU_mem   box_loss   cls_loss   dfl_loss  Instances       Size\n"
          ]
        },
        {
          "name": "stderr",
          "output_type": "stream",
          "text": [
            "     87/100      2.27G     0.4895     0.3241     0.8383         18        640: 100%|██████████| 27/27 [00:19<00:00,  1.38it/s]\n",
            "                 Class     Images  Instances      Box(P          R      mAP50  mAP50-95): 100%|██████████| 2/2 [00:00<00:00,  2.34it/s]"
          ]
        },
        {
          "name": "stdout",
          "output_type": "stream",
          "text": [
            "                   all         56         58          1      0.966      0.994      0.881\n"
          ]
        },
        {
          "name": "stderr",
          "output_type": "stream",
          "text": [
            "\n"
          ]
        },
        {
          "name": "stdout",
          "output_type": "stream",
          "text": [
            "\n",
            "      Epoch    GPU_mem   box_loss   cls_loss   dfl_loss  Instances       Size\n"
          ]
        },
        {
          "name": "stderr",
          "output_type": "stream",
          "text": [
            "     88/100      2.26G     0.5036     0.3276     0.8492         33        640: 100%|██████████| 27/27 [00:19<00:00,  1.38it/s]\n",
            "                 Class     Images  Instances      Box(P          R      mAP50  mAP50-95): 100%|██████████| 2/2 [00:00<00:00,  2.99it/s]"
          ]
        },
        {
          "name": "stdout",
          "output_type": "stream",
          "text": [
            "                   all         56         58          1      0.966      0.994      0.883\n"
          ]
        },
        {
          "name": "stderr",
          "output_type": "stream",
          "text": [
            "\n"
          ]
        },
        {
          "name": "stdout",
          "output_type": "stream",
          "text": [
            "\n",
            "      Epoch    GPU_mem   box_loss   cls_loss   dfl_loss  Instances       Size\n"
          ]
        },
        {
          "name": "stderr",
          "output_type": "stream",
          "text": [
            "     89/100      2.27G     0.4742     0.3096     0.8484         31        640: 100%|██████████| 27/27 [00:20<00:00,  1.34it/s]\n",
            "                 Class     Images  Instances      Box(P          R      mAP50  mAP50-95): 100%|██████████| 2/2 [00:01<00:00,  1.56it/s]"
          ]
        },
        {
          "name": "stdout",
          "output_type": "stream",
          "text": [
            "                   all         56         58          1      0.995      0.995      0.883\n"
          ]
        },
        {
          "name": "stderr",
          "output_type": "stream",
          "text": [
            "\n"
          ]
        },
        {
          "name": "stdout",
          "output_type": "stream",
          "text": [
            "\n",
            "      Epoch    GPU_mem   box_loss   cls_loss   dfl_loss  Instances       Size\n"
          ]
        },
        {
          "name": "stderr",
          "output_type": "stream",
          "text": [
            "     90/100      2.27G     0.4847      0.323     0.8455         29        640: 100%|██████████| 27/27 [00:20<00:00,  1.31it/s]\n",
            "                 Class     Images  Instances      Box(P          R      mAP50  mAP50-95): 100%|██████████| 2/2 [00:01<00:00,  1.67it/s]"
          ]
        },
        {
          "name": "stdout",
          "output_type": "stream",
          "text": [
            "                   all         56         58          1      0.996      0.995      0.872\n"
          ]
        },
        {
          "name": "stderr",
          "output_type": "stream",
          "text": [
            "\n"
          ]
        },
        {
          "name": "stdout",
          "output_type": "stream",
          "text": [
            "Closing dataloader mosaic\n",
            "\u001b[34m\u001b[1malbumentations: \u001b[0mBlur(p=0.01, blur_limit=(3, 7)), MedianBlur(p=0.01, blur_limit=(3, 7)), ToGray(p=0.01), CLAHE(p=0.01, clip_limit=(1, 4.0), tile_grid_size=(8, 8))\n",
            "\n",
            "      Epoch    GPU_mem   box_loss   cls_loss   dfl_loss  Instances       Size\n"
          ]
        },
        {
          "name": "stderr",
          "output_type": "stream",
          "text": [
            "     91/100      2.27G      0.451     0.2896     0.8166         15        640: 100%|██████████| 27/27 [00:22<00:00,  1.21it/s]\n",
            "                 Class     Images  Instances      Box(P          R      mAP50  mAP50-95): 100%|██████████| 2/2 [00:00<00:00,  2.54it/s]"
          ]
        },
        {
          "name": "stdout",
          "output_type": "stream",
          "text": [
            "                   all         56         58      0.978          1      0.994       0.88\n"
          ]
        },
        {
          "name": "stderr",
          "output_type": "stream",
          "text": [
            "\n"
          ]
        },
        {
          "name": "stdout",
          "output_type": "stream",
          "text": [
            "\n",
            "      Epoch    GPU_mem   box_loss   cls_loss   dfl_loss  Instances       Size\n"
          ]
        },
        {
          "name": "stderr",
          "output_type": "stream",
          "text": [
            "     92/100      2.26G     0.4483     0.2923      0.819         15        640: 100%|██████████| 27/27 [00:19<00:00,  1.40it/s]\n",
            "                 Class     Images  Instances      Box(P          R      mAP50  mAP50-95): 100%|██████████| 2/2 [00:01<00:00,  1.80it/s]"
          ]
        },
        {
          "name": "stdout",
          "output_type": "stream",
          "text": [
            "                   all         56         58      0.969      0.983      0.994      0.875\n"
          ]
        },
        {
          "name": "stderr",
          "output_type": "stream",
          "text": [
            "\n"
          ]
        },
        {
          "name": "stdout",
          "output_type": "stream",
          "text": [
            "\n",
            "      Epoch    GPU_mem   box_loss   cls_loss   dfl_loss  Instances       Size\n"
          ]
        },
        {
          "name": "stderr",
          "output_type": "stream",
          "text": [
            "     93/100      2.27G      0.429     0.2758     0.8046         15        640: 100%|██████████| 27/27 [00:20<00:00,  1.32it/s]\n",
            "                 Class     Images  Instances      Box(P          R      mAP50  mAP50-95): 100%|██████████| 2/2 [00:01<00:00,  1.98it/s]"
          ]
        },
        {
          "name": "stdout",
          "output_type": "stream",
          "text": [
            "                   all         56         58      0.983      0.994      0.994      0.861\n"
          ]
        },
        {
          "name": "stderr",
          "output_type": "stream",
          "text": [
            "\n"
          ]
        },
        {
          "name": "stdout",
          "output_type": "stream",
          "text": [
            "\n",
            "      Epoch    GPU_mem   box_loss   cls_loss   dfl_loss  Instances       Size\n"
          ]
        },
        {
          "name": "stderr",
          "output_type": "stream",
          "text": [
            "     94/100      2.27G     0.4313     0.2731     0.8115         15        640: 100%|██████████| 27/27 [00:19<00:00,  1.38it/s]\n",
            "                 Class     Images  Instances      Box(P          R      mAP50  mAP50-95): 100%|██████████| 2/2 [00:00<00:00,  2.37it/s]"
          ]
        },
        {
          "name": "stdout",
          "output_type": "stream",
          "text": [
            "                   all         56         58      0.995      0.983      0.995      0.878\n"
          ]
        },
        {
          "name": "stderr",
          "output_type": "stream",
          "text": [
            "\n"
          ]
        },
        {
          "name": "stdout",
          "output_type": "stream",
          "text": [
            "\n",
            "      Epoch    GPU_mem   box_loss   cls_loss   dfl_loss  Instances       Size\n"
          ]
        },
        {
          "name": "stderr",
          "output_type": "stream",
          "text": [
            "     95/100      2.27G     0.4398      0.282     0.8234         15        640: 100%|██████████| 27/27 [00:19<00:00,  1.39it/s]\n",
            "                 Class     Images  Instances      Box(P          R      mAP50  mAP50-95): 100%|██████████| 2/2 [00:00<00:00,  3.49it/s]"
          ]
        },
        {
          "name": "stdout",
          "output_type": "stream",
          "text": [
            "                   all         56         58          1      0.997      0.995      0.857\n"
          ]
        },
        {
          "name": "stderr",
          "output_type": "stream",
          "text": [
            "\n"
          ]
        },
        {
          "name": "stdout",
          "output_type": "stream",
          "text": [
            "\n",
            "      Epoch    GPU_mem   box_loss   cls_loss   dfl_loss  Instances       Size\n"
          ]
        },
        {
          "name": "stderr",
          "output_type": "stream",
          "text": [
            "     96/100      2.27G      0.446     0.2791      0.824         16        640: 100%|██████████| 27/27 [00:19<00:00,  1.39it/s]\n",
            "                 Class     Images  Instances      Box(P          R      mAP50  mAP50-95): 100%|██████████| 2/2 [00:00<00:00,  2.14it/s]"
          ]
        },
        {
          "name": "stdout",
          "output_type": "stream",
          "text": [
            "                   all         56         58      0.983          1      0.994      0.871\n"
          ]
        },
        {
          "name": "stderr",
          "output_type": "stream",
          "text": [
            "\n"
          ]
        },
        {
          "name": "stdout",
          "output_type": "stream",
          "text": [
            "\n",
            "      Epoch    GPU_mem   box_loss   cls_loss   dfl_loss  Instances       Size\n"
          ]
        },
        {
          "name": "stderr",
          "output_type": "stream",
          "text": [
            "     97/100      2.27G      0.411     0.2661     0.8044         15        640: 100%|██████████| 27/27 [00:19<00:00,  1.38it/s]\n",
            "                 Class     Images  Instances      Box(P          R      mAP50  mAP50-95): 100%|██████████| 2/2 [00:01<00:00,  1.53it/s]"
          ]
        },
        {
          "name": "stdout",
          "output_type": "stream",
          "text": [
            "                   all         56         58      0.981          1      0.994       0.88\n"
          ]
        },
        {
          "name": "stderr",
          "output_type": "stream",
          "text": [
            "\n"
          ]
        },
        {
          "name": "stdout",
          "output_type": "stream",
          "text": [
            "\n",
            "      Epoch    GPU_mem   box_loss   cls_loss   dfl_loss  Instances       Size\n"
          ]
        },
        {
          "name": "stderr",
          "output_type": "stream",
          "text": [
            "     98/100      2.27G     0.4231     0.2673     0.8176         15        640: 100%|██████████| 27/27 [00:19<00:00,  1.35it/s]\n",
            "                 Class     Images  Instances      Box(P          R      mAP50  mAP50-95): 100%|██████████| 2/2 [00:01<00:00,  1.57it/s]"
          ]
        },
        {
          "name": "stdout",
          "output_type": "stream",
          "text": [
            "                   all         56         58      0.982          1      0.994      0.869\n"
          ]
        },
        {
          "name": "stderr",
          "output_type": "stream",
          "text": [
            "\n"
          ]
        },
        {
          "name": "stdout",
          "output_type": "stream",
          "text": [
            "\n",
            "      Epoch    GPU_mem   box_loss   cls_loss   dfl_loss  Instances       Size\n"
          ]
        },
        {
          "name": "stderr",
          "output_type": "stream",
          "text": [
            "     99/100      2.27G      0.405     0.2624     0.8038         15        640: 100%|██████████| 27/27 [00:19<00:00,  1.39it/s]\n",
            "                 Class     Images  Instances      Box(P          R      mAP50  mAP50-95): 100%|██████████| 2/2 [00:00<00:00,  2.78it/s]"
          ]
        },
        {
          "name": "stdout",
          "output_type": "stream",
          "text": [
            "                   all         56         58       0.98          1      0.994      0.873\n"
          ]
        },
        {
          "name": "stderr",
          "output_type": "stream",
          "text": [
            "\n"
          ]
        },
        {
          "name": "stdout",
          "output_type": "stream",
          "text": [
            "\n",
            "      Epoch    GPU_mem   box_loss   cls_loss   dfl_loss  Instances       Size\n"
          ]
        },
        {
          "name": "stderr",
          "output_type": "stream",
          "text": [
            "    100/100      2.26G     0.3952     0.2585     0.8109         15        640: 100%|██████████| 27/27 [00:18<00:00,  1.42it/s]\n",
            "                 Class     Images  Instances      Box(P          R      mAP50  mAP50-95): 100%|██████████| 2/2 [00:00<00:00,  2.83it/s]"
          ]
        },
        {
          "name": "stdout",
          "output_type": "stream",
          "text": [
            "                   all         56         58      0.978          1      0.994      0.878\n"
          ]
        },
        {
          "name": "stderr",
          "output_type": "stream",
          "text": [
            "\n"
          ]
        },
        {
          "name": "stdout",
          "output_type": "stream",
          "text": [
            "\n",
            "100 epochs completed in 0.646 hours.\n",
            "Optimizer stripped from runs/detect/train/weights/last.pt, 6.3MB\n",
            "Optimizer stripped from runs/detect/train/weights/best.pt, 6.3MB\n",
            "\n",
            "Validating runs/detect/train/weights/best.pt...\n",
            "Ultralytics YOLOv8.0.219 🚀 Python-3.10.12 torch-2.1.0+cu118 CUDA:0 (Tesla T4, 15102MiB)\n",
            "Model summary (fused): 168 layers, 3005843 parameters, 0 gradients, 8.1 GFLOPs\n"
          ]
        },
        {
          "name": "stderr",
          "output_type": "stream",
          "text": [
            "                 Class     Images  Instances      Box(P          R      mAP50  mAP50-95): 100%|██████████| 2/2 [00:01<00:00,  1.82it/s]\n"
          ]
        },
        {
          "name": "stdout",
          "output_type": "stream",
          "text": [
            "                   all         56         58      0.998      0.966      0.994      0.889\n",
            "Speed: 0.3ms preprocess, 2.6ms inference, 0.0ms loss, 2.6ms postprocess per image\n",
            "Results saved to \u001b[1mruns/detect/train\u001b[0m\n"
          ]
        },
        {
          "data": {
            "text/plain": [
              "ultralytics.utils.metrics.DetMetrics object with attributes:\n",
              "\n",
              "ap_class_index: array([0])\n",
              "box: ultralytics.utils.metrics.Metric object\n",
              "confusion_matrix: <ultralytics.utils.metrics.ConfusionMatrix object at 0x7895a3fe0880>\n",
              "curves: ['Precision-Recall(B)', 'F1-Confidence(B)', 'Precision-Confidence(B)', 'Recall-Confidence(B)']\n",
              "curves_results: [[array([          0,    0.001001,    0.002002,    0.003003,    0.004004,    0.005005,    0.006006,    0.007007,    0.008008,    0.009009,     0.01001,    0.011011,    0.012012,    0.013013,    0.014014,    0.015015,    0.016016,    0.017017,    0.018018,    0.019019,     0.02002,    0.021021,    0.022022,    0.023023,\n",
              "          0.024024,    0.025025,    0.026026,    0.027027,    0.028028,    0.029029,     0.03003,    0.031031,    0.032032,    0.033033,    0.034034,    0.035035,    0.036036,    0.037037,    0.038038,    0.039039,     0.04004,    0.041041,    0.042042,    0.043043,    0.044044,    0.045045,    0.046046,    0.047047,\n",
              "          0.048048,    0.049049,     0.05005,    0.051051,    0.052052,    0.053053,    0.054054,    0.055055,    0.056056,    0.057057,    0.058058,    0.059059,     0.06006,    0.061061,    0.062062,    0.063063,    0.064064,    0.065065,    0.066066,    0.067067,    0.068068,    0.069069,     0.07007,    0.071071,\n",
              "          0.072072,    0.073073,    0.074074,    0.075075,    0.076076,    0.077077,    0.078078,    0.079079,     0.08008,    0.081081,    0.082082,    0.083083,    0.084084,    0.085085,    0.086086,    0.087087,    0.088088,    0.089089,     0.09009,    0.091091,    0.092092,    0.093093,    0.094094,    0.095095,\n",
              "          0.096096,    0.097097,    0.098098,    0.099099,      0.1001,      0.1011,      0.1021,      0.1031,      0.1041,     0.10511,     0.10611,     0.10711,     0.10811,     0.10911,     0.11011,     0.11111,     0.11211,     0.11311,     0.11411,     0.11512,     0.11612,     0.11712,     0.11812,     0.11912,\n",
              "           0.12012,     0.12112,     0.12212,     0.12312,     0.12412,     0.12513,     0.12613,     0.12713,     0.12813,     0.12913,     0.13013,     0.13113,     0.13213,     0.13313,     0.13413,     0.13514,     0.13614,     0.13714,     0.13814,     0.13914,     0.14014,     0.14114,     0.14214,     0.14314,\n",
              "           0.14414,     0.14515,     0.14615,     0.14715,     0.14815,     0.14915,     0.15015,     0.15115,     0.15215,     0.15315,     0.15415,     0.15516,     0.15616,     0.15716,     0.15816,     0.15916,     0.16016,     0.16116,     0.16216,     0.16316,     0.16416,     0.16517,     0.16617,     0.16717,\n",
              "           0.16817,     0.16917,     0.17017,     0.17117,     0.17217,     0.17317,     0.17417,     0.17518,     0.17618,     0.17718,     0.17818,     0.17918,     0.18018,     0.18118,     0.18218,     0.18318,     0.18418,     0.18519,     0.18619,     0.18719,     0.18819,     0.18919,     0.19019,     0.19119,\n",
              "           0.19219,     0.19319,     0.19419,      0.1952,      0.1962,      0.1972,      0.1982,      0.1992,      0.2002,      0.2012,      0.2022,      0.2032,      0.2042,     0.20521,     0.20621,     0.20721,     0.20821,     0.20921,     0.21021,     0.21121,     0.21221,     0.21321,     0.21421,     0.21522,\n",
              "           0.21622,     0.21722,     0.21822,     0.21922,     0.22022,     0.22122,     0.22222,     0.22322,     0.22422,     0.22523,     0.22623,     0.22723,     0.22823,     0.22923,     0.23023,     0.23123,     0.23223,     0.23323,     0.23423,     0.23524,     0.23624,     0.23724,     0.23824,     0.23924,\n",
              "           0.24024,     0.24124,     0.24224,     0.24324,     0.24424,     0.24525,     0.24625,     0.24725,     0.24825,     0.24925,     0.25025,     0.25125,     0.25225,     0.25325,     0.25425,     0.25526,     0.25626,     0.25726,     0.25826,     0.25926,     0.26026,     0.26126,     0.26226,     0.26326,\n",
              "           0.26426,     0.26527,     0.26627,     0.26727,     0.26827,     0.26927,     0.27027,     0.27127,     0.27227,     0.27327,     0.27427,     0.27528,     0.27628,     0.27728,     0.27828,     0.27928,     0.28028,     0.28128,     0.28228,     0.28328,     0.28428,     0.28529,     0.28629,     0.28729,\n",
              "           0.28829,     0.28929,     0.29029,     0.29129,     0.29229,     0.29329,     0.29429,      0.2953,      0.2963,      0.2973,      0.2983,      0.2993,      0.3003,      0.3013,      0.3023,      0.3033,      0.3043,     0.30531,     0.30631,     0.30731,     0.30831,     0.30931,     0.31031,     0.31131,\n",
              "           0.31231,     0.31331,     0.31431,     0.31532,     0.31632,     0.31732,     0.31832,     0.31932,     0.32032,     0.32132,     0.32232,     0.32332,     0.32432,     0.32533,     0.32633,     0.32733,     0.32833,     0.32933,     0.33033,     0.33133,     0.33233,     0.33333,     0.33433,     0.33534,\n",
              "           0.33634,     0.33734,     0.33834,     0.33934,     0.34034,     0.34134,     0.34234,     0.34334,     0.34434,     0.34535,     0.34635,     0.34735,     0.34835,     0.34935,     0.35035,     0.35135,     0.35235,     0.35335,     0.35435,     0.35536,     0.35636,     0.35736,     0.35836,     0.35936,\n",
              "           0.36036,     0.36136,     0.36236,     0.36336,     0.36436,     0.36537,     0.36637,     0.36737,     0.36837,     0.36937,     0.37037,     0.37137,     0.37237,     0.37337,     0.37437,     0.37538,     0.37638,     0.37738,     0.37838,     0.37938,     0.38038,     0.38138,     0.38238,     0.38338,\n",
              "           0.38438,     0.38539,     0.38639,     0.38739,     0.38839,     0.38939,     0.39039,     0.39139,     0.39239,     0.39339,     0.39439,      0.3954,      0.3964,      0.3974,      0.3984,      0.3994,      0.4004,      0.4014,      0.4024,      0.4034,      0.4044,     0.40541,     0.40641,     0.40741,\n",
              "           0.40841,     0.40941,     0.41041,     0.41141,     0.41241,     0.41341,     0.41441,     0.41542,     0.41642,     0.41742,     0.41842,     0.41942,     0.42042,     0.42142,     0.42242,     0.42342,     0.42442,     0.42543,     0.42643,     0.42743,     0.42843,     0.42943,     0.43043,     0.43143,\n",
              "           0.43243,     0.43343,     0.43443,     0.43544,     0.43644,     0.43744,     0.43844,     0.43944,     0.44044,     0.44144,     0.44244,     0.44344,     0.44444,     0.44545,     0.44645,     0.44745,     0.44845,     0.44945,     0.45045,     0.45145,     0.45245,     0.45345,     0.45445,     0.45546,\n",
              "           0.45646,     0.45746,     0.45846,     0.45946,     0.46046,     0.46146,     0.46246,     0.46346,     0.46446,     0.46547,     0.46647,     0.46747,     0.46847,     0.46947,     0.47047,     0.47147,     0.47247,     0.47347,     0.47447,     0.47548,     0.47648,     0.47748,     0.47848,     0.47948,\n",
              "           0.48048,     0.48148,     0.48248,     0.48348,     0.48448,     0.48549,     0.48649,     0.48749,     0.48849,     0.48949,     0.49049,     0.49149,     0.49249,     0.49349,     0.49449,      0.4955,      0.4965,      0.4975,      0.4985,      0.4995,      0.5005,      0.5015,      0.5025,      0.5035,\n",
              "            0.5045,     0.50551,     0.50651,     0.50751,     0.50851,     0.50951,     0.51051,     0.51151,     0.51251,     0.51351,     0.51451,     0.51552,     0.51652,     0.51752,     0.51852,     0.51952,     0.52052,     0.52152,     0.52252,     0.52352,     0.52452,     0.52553,     0.52653,     0.52753,\n",
              "           0.52853,     0.52953,     0.53053,     0.53153,     0.53253,     0.53353,     0.53453,     0.53554,     0.53654,     0.53754,     0.53854,     0.53954,     0.54054,     0.54154,     0.54254,     0.54354,     0.54454,     0.54555,     0.54655,     0.54755,     0.54855,     0.54955,     0.55055,     0.55155,\n",
              "           0.55255,     0.55355,     0.55455,     0.55556,     0.55656,     0.55756,     0.55856,     0.55956,     0.56056,     0.56156,     0.56256,     0.56356,     0.56456,     0.56557,     0.56657,     0.56757,     0.56857,     0.56957,     0.57057,     0.57157,     0.57257,     0.57357,     0.57457,     0.57558,\n",
              "           0.57658,     0.57758,     0.57858,     0.57958,     0.58058,     0.58158,     0.58258,     0.58358,     0.58458,     0.58559,     0.58659,     0.58759,     0.58859,     0.58959,     0.59059,     0.59159,     0.59259,     0.59359,     0.59459,      0.5956,      0.5966,      0.5976,      0.5986,      0.5996,\n",
              "            0.6006,      0.6016,      0.6026,      0.6036,      0.6046,     0.60561,     0.60661,     0.60761,     0.60861,     0.60961,     0.61061,     0.61161,     0.61261,     0.61361,     0.61461,     0.61562,     0.61662,     0.61762,     0.61862,     0.61962,     0.62062,     0.62162,     0.62262,     0.62362,\n",
              "           0.62462,     0.62563,     0.62663,     0.62763,     0.62863,     0.62963,     0.63063,     0.63163,     0.63263,     0.63363,     0.63463,     0.63564,     0.63664,     0.63764,     0.63864,     0.63964,     0.64064,     0.64164,     0.64264,     0.64364,     0.64464,     0.64565,     0.64665,     0.64765,\n",
              "           0.64865,     0.64965,     0.65065,     0.65165,     0.65265,     0.65365,     0.65465,     0.65566,     0.65666,     0.65766,     0.65866,     0.65966,     0.66066,     0.66166,     0.66266,     0.66366,     0.66466,     0.66567,     0.66667,     0.66767,     0.66867,     0.66967,     0.67067,     0.67167,\n",
              "           0.67267,     0.67367,     0.67467,     0.67568,     0.67668,     0.67768,     0.67868,     0.67968,     0.68068,     0.68168,     0.68268,     0.68368,     0.68468,     0.68569,     0.68669,     0.68769,     0.68869,     0.68969,     0.69069,     0.69169,     0.69269,     0.69369,     0.69469,      0.6957,\n",
              "            0.6967,      0.6977,      0.6987,      0.6997,      0.7007,      0.7017,      0.7027,      0.7037,      0.7047,     0.70571,     0.70671,     0.70771,     0.70871,     0.70971,     0.71071,     0.71171,     0.71271,     0.71371,     0.71471,     0.71572,     0.71672,     0.71772,     0.71872,     0.71972,\n",
              "           0.72072,     0.72172,     0.72272,     0.72372,     0.72472,     0.72573,     0.72673,     0.72773,     0.72873,     0.72973,     0.73073,     0.73173,     0.73273,     0.73373,     0.73473,     0.73574,     0.73674,     0.73774,     0.73874,     0.73974,     0.74074,     0.74174,     0.74274,     0.74374,\n",
              "           0.74474,     0.74575,     0.74675,     0.74775,     0.74875,     0.74975,     0.75075,     0.75175,     0.75275,     0.75375,     0.75475,     0.75576,     0.75676,     0.75776,     0.75876,     0.75976,     0.76076,     0.76176,     0.76276,     0.76376,     0.76476,     0.76577,     0.76677,     0.76777,\n",
              "           0.76877,     0.76977,     0.77077,     0.77177,     0.77277,     0.77377,     0.77477,     0.77578,     0.77678,     0.77778,     0.77878,     0.77978,     0.78078,     0.78178,     0.78278,     0.78378,     0.78478,     0.78579,     0.78679,     0.78779,     0.78879,     0.78979,     0.79079,     0.79179,\n",
              "           0.79279,     0.79379,     0.79479,      0.7958,      0.7968,      0.7978,      0.7988,      0.7998,      0.8008,      0.8018,      0.8028,      0.8038,      0.8048,     0.80581,     0.80681,     0.80781,     0.80881,     0.80981,     0.81081,     0.81181,     0.81281,     0.81381,     0.81481,     0.81582,\n",
              "           0.81682,     0.81782,     0.81882,     0.81982,     0.82082,     0.82182,     0.82282,     0.82382,     0.82482,     0.82583,     0.82683,     0.82783,     0.82883,     0.82983,     0.83083,     0.83183,     0.83283,     0.83383,     0.83483,     0.83584,     0.83684,     0.83784,     0.83884,     0.83984,\n",
              "           0.84084,     0.84184,     0.84284,     0.84384,     0.84484,     0.84585,     0.84685,     0.84785,     0.84885,     0.84985,     0.85085,     0.85185,     0.85285,     0.85385,     0.85485,     0.85586,     0.85686,     0.85786,     0.85886,     0.85986,     0.86086,     0.86186,     0.86286,     0.86386,\n",
              "           0.86486,     0.86587,     0.86687,     0.86787,     0.86887,     0.86987,     0.87087,     0.87187,     0.87287,     0.87387,     0.87487,     0.87588,     0.87688,     0.87788,     0.87888,     0.87988,     0.88088,     0.88188,     0.88288,     0.88388,     0.88488,     0.88589,     0.88689,     0.88789,\n",
              "           0.88889,     0.88989,     0.89089,     0.89189,     0.89289,     0.89389,     0.89489,      0.8959,      0.8969,      0.8979,      0.8989,      0.8999,      0.9009,      0.9019,      0.9029,      0.9039,      0.9049,     0.90591,     0.90691,     0.90791,     0.90891,     0.90991,     0.91091,     0.91191,\n",
              "           0.91291,     0.91391,     0.91491,     0.91592,     0.91692,     0.91792,     0.91892,     0.91992,     0.92092,     0.92192,     0.92292,     0.92392,     0.92492,     0.92593,     0.92693,     0.92793,     0.92893,     0.92993,     0.93093,     0.93193,     0.93293,     0.93393,     0.93493,     0.93594,\n",
              "           0.93694,     0.93794,     0.93894,     0.93994,     0.94094,     0.94194,     0.94294,     0.94394,     0.94494,     0.94595,     0.94695,     0.94795,     0.94895,     0.94995,     0.95095,     0.95195,     0.95295,     0.95395,     0.95495,     0.95596,     0.95696,     0.95796,     0.95896,     0.95996,\n",
              "           0.96096,     0.96196,     0.96296,     0.96396,     0.96496,     0.96597,     0.96697,     0.96797,     0.96897,     0.96997,     0.97097,     0.97197,     0.97297,     0.97397,     0.97497,     0.97598,     0.97698,     0.97798,     0.97898,     0.97998,     0.98098,     0.98198,     0.98298,     0.98398,\n",
              "           0.98498,     0.98599,     0.98699,     0.98799,     0.98899,     0.98999,     0.99099,     0.99199,     0.99299,     0.99399,     0.99499,       0.996,       0.997,       0.998,       0.999,           1]), array([[          1,           1,           1,           1,           1,           1,           1,           1,           1,           1,           1,           1,           1,           1,           1,           1,           1,           1,           1,           1,           1,           1,           1,\n",
              "                  1,           1,           1,           1,           1,           1,           1,           1,           1,           1,           1,           1,           1,           1,           1,           1,           1,           1,           1,           1,           1,           1,           1,\n",
              "                  1,           1,           1,           1,           1,           1,           1,           1,           1,           1,           1,           1,           1,           1,           1,           1,           1,           1,           1,           1,           1,           1,           1,\n",
              "                  1,           1,           1,           1,           1,           1,           1,           1,           1,           1,           1,           1,           1,           1,           1,           1,           1,           1,           1,           1,           1,           1,           1,\n",
              "                  1,           1,           1,           1,           1,           1,           1,           1,           1,           1,           1,           1,           1,           1,           1,           1,           1,           1,           1,           1,           1,           1,           1,\n",
              "                  1,           1,           1,           1,           1,           1,           1,           1,           1,           1,           1,           1,           1,           1,           1,           1,           1,           1,           1,           1,           1,           1,           1,\n",
              "                  1,           1,           1,           1,           1,           1,           1,           1,           1,           1,           1,           1,           1,           1,           1,           1,           1,           1,           1,           1,           1,           1,           1,\n",
              "                  1,           1,           1,           1,           1,           1,           1,           1,           1,           1,           1,           1,           1,           1,           1,           1,           1,           1,           1,           1,           1,           1,           1,\n",
              "                  1,           1,           1,           1,           1,           1,           1,           1,           1,           1,           1,           1,           1,           1,           1,           1,           1,           1,           1,           1,           1,           1,           1,\n",
              "                  1,           1,           1,           1,           1,           1,           1,           1,           1,           1,           1,           1,           1,           1,           1,           1,           1,           1,           1,           1,           1,           1,           1,\n",
              "                  1,           1,           1,           1,           1,           1,           1,           1,           1,           1,           1,           1,           1,           1,           1,           1,           1,           1,           1,           1,           1,           1,           1,\n",
              "                  1,           1,           1,           1,           1,           1,           1,           1,           1,           1,           1,           1,           1,           1,           1,           1,           1,           1,           1,           1,           1,           1,           1,\n",
              "                  1,           1,           1,           1,           1,           1,           1,           1,           1,           1,           1,           1,           1,           1,           1,           1,           1,           1,           1,           1,           1,           1,           1,\n",
              "                  1,           1,           1,           1,           1,           1,           1,           1,           1,           1,           1,           1,           1,           1,           1,           1,           1,           1,           1,           1,           1,           1,           1,\n",
              "                  1,           1,           1,           1,           1,           1,           1,           1,           1,           1,           1,           1,           1,           1,           1,           1,           1,           1,           1,           1,           1,           1,           1,\n",
              "                  1,           1,           1,           1,           1,           1,           1,           1,           1,           1,           1,           1,           1,           1,           1,           1,           1,           1,           1,           1,           1,           1,           1,\n",
              "                  1,           1,           1,           1,           1,           1,           1,           1,           1,           1,           1,           1,           1,           1,           1,           1,           1,           1,           1,           1,           1,           1,           1,\n",
              "                  1,           1,           1,           1,           1,           1,           1,           1,           1,           1,           1,           1,           1,           1,           1,           1,           1,           1,           1,           1,           1,           1,           1,\n",
              "                  1,           1,           1,           1,           1,           1,           1,           1,           1,           1,           1,           1,           1,           1,           1,           1,           1,           1,           1,           1,           1,           1,           1,\n",
              "                  1,           1,           1,           1,           1,           1,           1,           1,           1,           1,           1,           1,           1,           1,           1,           1,           1,           1,           1,           1,           1,           1,           1,\n",
              "                  1,           1,           1,           1,           1,           1,           1,           1,           1,           1,           1,           1,           1,           1,           1,           1,           1,           1,           1,           1,           1,           1,           1,\n",
              "                  1,           1,           1,           1,           1,           1,           1,           1,           1,           1,           1,           1,           1,           1,           1,           1,           1,           1,           1,           1,           1,           1,           1,\n",
              "                  1,           1,           1,           1,           1,           1,           1,           1,           1,           1,           1,           1,           1,           1,           1,           1,           1,           1,           1,           1,           1,           1,           1,\n",
              "                  1,           1,           1,           1,           1,           1,           1,           1,           1,           1,           1,           1,           1,           1,           1,           1,           1,           1,           1,           1,           1,           1,           1,\n",
              "                  1,           1,           1,           1,           1,           1,           1,           1,           1,           1,           1,           1,           1,           1,           1,           1,           1,           1,           1,           1,           1,           1,           1,\n",
              "                  1,           1,           1,           1,           1,           1,           1,           1,           1,           1,           1,           1,           1,           1,           1,           1,           1,           1,           1,           1,           1,           1,           1,\n",
              "                  1,           1,           1,           1,           1,           1,           1,           1,           1,           1,           1,           1,           1,           1,           1,           1,           1,           1,           1,           1,           1,           1,           1,\n",
              "                  1,           1,           1,           1,           1,           1,           1,           1,           1,           1,           1,           1,           1,           1,           1,           1,           1,           1,           1,           1,           1,           1,           1,\n",
              "                  1,           1,           1,           1,           1,           1,           1,           1,           1,           1,           1,           1,           1,           1,           1,           1,           1,           1,           1,           1,           1,           1,           1,\n",
              "                  1,           1,           1,           1,           1,           1,           1,           1,           1,           1,           1,           1,           1,           1,           1,           1,           1,           1,           1,           1,           1,           1,           1,\n",
              "                  1,           1,           1,           1,           1,           1,           1,           1,           1,           1,           1,           1,           1,           1,           1,           1,           1,           1,           1,           1,           1,           1,           1,\n",
              "                  1,           1,           1,           1,           1,           1,           1,           1,           1,           1,           1,           1,           1,           1,           1,           1,           1,           1,           1,           1,           1,           1,           1,\n",
              "                  1,           1,           1,           1,           1,           1,           1,           1,           1,           1,           1,           1,           1,           1,           1,           1,           1,           1,           1,           1,           1,           1,           1,\n",
              "                  1,           1,           1,           1,           1,           1,           1,           1,           1,           1,           1,           1,           1,           1,           1,           1,           1,           1,           1,           1,           1,           1,           1,\n",
              "                  1,           1,           1,           1,           1,           1,           1,           1,           1,           1,           1,           1,           1,           1,           1,           1,           1,           1,           1,           1,           1,           1,           1,\n",
              "                  1,           1,           1,           1,           1,           1,           1,           1,           1,           1,           1,           1,           1,           1,           1,           1,           1,           1,           1,           1,           1,           1,           1,\n",
              "                  1,           1,           1,           1,           1,           1,           1,           1,           1,           1,           1,           1,           1,           1,           1,           1,           1,           1,           1,           1,           1,           1,           1,\n",
              "                  1,           1,           1,           1,           1,           1,           1,           1,           1,           1,           1,           1,           1,           1,           1,           1,           1,           1,           1,           1,           1,           1,           1,\n",
              "                  1,           1,           1,           1,           1,           1,           1,           1,           1,           1,           1,           1,           1,           1,           1,           1,           1,           1,           1,           1,           1,           1,           1,\n",
              "                  1,           1,           1,           1,           1,           1,           1,           1,           1,           1,           1,           1,           1,           1,           1,           1,           1,           1,           1,           1,           1,           1,           1,\n",
              "                  1,           1,           1,           1,           1,           1,           1,           1,           1,           1,           1,           1,           1,           1,           1,           1,           1,           1,           1,           1,           1,           1,           1,\n",
              "                  1,           1,           1,           1,           1,           1,           1,           1,           1,           1,           1,           1,           1,           1,           1,           1,           1,           1,           1,           1,           1,           1,     0.95082,\n",
              "            0.95082,     0.95082,     0.95082,     0.95082,     0.95082,     0.95082,     0.95082,     0.95082,     0.95082,     0.95082,     0.95082,     0.95082,     0.95082,     0.95082,     0.95082,     0.95082,     0.95082,     0.95082,     0.95082,     0.95082,     0.95082,     0.95082,     0.95082,\n",
              "            0.95082,     0.95082,     0.95082,     0.95082,     0.95082,     0.95082,     0.95082,     0.95082,     0.95082,     0.95082,           0]]), 'Recall', 'Precision'], [array([          0,    0.001001,    0.002002,    0.003003,    0.004004,    0.005005,    0.006006,    0.007007,    0.008008,    0.009009,     0.01001,    0.011011,    0.012012,    0.013013,    0.014014,    0.015015,    0.016016,    0.017017,    0.018018,    0.019019,     0.02002,    0.021021,    0.022022,    0.023023,\n",
              "          0.024024,    0.025025,    0.026026,    0.027027,    0.028028,    0.029029,     0.03003,    0.031031,    0.032032,    0.033033,    0.034034,    0.035035,    0.036036,    0.037037,    0.038038,    0.039039,     0.04004,    0.041041,    0.042042,    0.043043,    0.044044,    0.045045,    0.046046,    0.047047,\n",
              "          0.048048,    0.049049,     0.05005,    0.051051,    0.052052,    0.053053,    0.054054,    0.055055,    0.056056,    0.057057,    0.058058,    0.059059,     0.06006,    0.061061,    0.062062,    0.063063,    0.064064,    0.065065,    0.066066,    0.067067,    0.068068,    0.069069,     0.07007,    0.071071,\n",
              "          0.072072,    0.073073,    0.074074,    0.075075,    0.076076,    0.077077,    0.078078,    0.079079,     0.08008,    0.081081,    0.082082,    0.083083,    0.084084,    0.085085,    0.086086,    0.087087,    0.088088,    0.089089,     0.09009,    0.091091,    0.092092,    0.093093,    0.094094,    0.095095,\n",
              "          0.096096,    0.097097,    0.098098,    0.099099,      0.1001,      0.1011,      0.1021,      0.1031,      0.1041,     0.10511,     0.10611,     0.10711,     0.10811,     0.10911,     0.11011,     0.11111,     0.11211,     0.11311,     0.11411,     0.11512,     0.11612,     0.11712,     0.11812,     0.11912,\n",
              "           0.12012,     0.12112,     0.12212,     0.12312,     0.12412,     0.12513,     0.12613,     0.12713,     0.12813,     0.12913,     0.13013,     0.13113,     0.13213,     0.13313,     0.13413,     0.13514,     0.13614,     0.13714,     0.13814,     0.13914,     0.14014,     0.14114,     0.14214,     0.14314,\n",
              "           0.14414,     0.14515,     0.14615,     0.14715,     0.14815,     0.14915,     0.15015,     0.15115,     0.15215,     0.15315,     0.15415,     0.15516,     0.15616,     0.15716,     0.15816,     0.15916,     0.16016,     0.16116,     0.16216,     0.16316,     0.16416,     0.16517,     0.16617,     0.16717,\n",
              "           0.16817,     0.16917,     0.17017,     0.17117,     0.17217,     0.17317,     0.17417,     0.17518,     0.17618,     0.17718,     0.17818,     0.17918,     0.18018,     0.18118,     0.18218,     0.18318,     0.18418,     0.18519,     0.18619,     0.18719,     0.18819,     0.18919,     0.19019,     0.19119,\n",
              "           0.19219,     0.19319,     0.19419,      0.1952,      0.1962,      0.1972,      0.1982,      0.1992,      0.2002,      0.2012,      0.2022,      0.2032,      0.2042,     0.20521,     0.20621,     0.20721,     0.20821,     0.20921,     0.21021,     0.21121,     0.21221,     0.21321,     0.21421,     0.21522,\n",
              "           0.21622,     0.21722,     0.21822,     0.21922,     0.22022,     0.22122,     0.22222,     0.22322,     0.22422,     0.22523,     0.22623,     0.22723,     0.22823,     0.22923,     0.23023,     0.23123,     0.23223,     0.23323,     0.23423,     0.23524,     0.23624,     0.23724,     0.23824,     0.23924,\n",
              "           0.24024,     0.24124,     0.24224,     0.24324,     0.24424,     0.24525,     0.24625,     0.24725,     0.24825,     0.24925,     0.25025,     0.25125,     0.25225,     0.25325,     0.25425,     0.25526,     0.25626,     0.25726,     0.25826,     0.25926,     0.26026,     0.26126,     0.26226,     0.26326,\n",
              "           0.26426,     0.26527,     0.26627,     0.26727,     0.26827,     0.26927,     0.27027,     0.27127,     0.27227,     0.27327,     0.27427,     0.27528,     0.27628,     0.27728,     0.27828,     0.27928,     0.28028,     0.28128,     0.28228,     0.28328,     0.28428,     0.28529,     0.28629,     0.28729,\n",
              "           0.28829,     0.28929,     0.29029,     0.29129,     0.29229,     0.29329,     0.29429,      0.2953,      0.2963,      0.2973,      0.2983,      0.2993,      0.3003,      0.3013,      0.3023,      0.3033,      0.3043,     0.30531,     0.30631,     0.30731,     0.30831,     0.30931,     0.31031,     0.31131,\n",
              "           0.31231,     0.31331,     0.31431,     0.31532,     0.31632,     0.31732,     0.31832,     0.31932,     0.32032,     0.32132,     0.32232,     0.32332,     0.32432,     0.32533,     0.32633,     0.32733,     0.32833,     0.32933,     0.33033,     0.33133,     0.33233,     0.33333,     0.33433,     0.33534,\n",
              "           0.33634,     0.33734,     0.33834,     0.33934,     0.34034,     0.34134,     0.34234,     0.34334,     0.34434,     0.34535,     0.34635,     0.34735,     0.34835,     0.34935,     0.35035,     0.35135,     0.35235,     0.35335,     0.35435,     0.35536,     0.35636,     0.35736,     0.35836,     0.35936,\n",
              "           0.36036,     0.36136,     0.36236,     0.36336,     0.36436,     0.36537,     0.36637,     0.36737,     0.36837,     0.36937,     0.37037,     0.37137,     0.37237,     0.37337,     0.37437,     0.37538,     0.37638,     0.37738,     0.37838,     0.37938,     0.38038,     0.38138,     0.38238,     0.38338,\n",
              "           0.38438,     0.38539,     0.38639,     0.38739,     0.38839,     0.38939,     0.39039,     0.39139,     0.39239,     0.39339,     0.39439,      0.3954,      0.3964,      0.3974,      0.3984,      0.3994,      0.4004,      0.4014,      0.4024,      0.4034,      0.4044,     0.40541,     0.40641,     0.40741,\n",
              "           0.40841,     0.40941,     0.41041,     0.41141,     0.41241,     0.41341,     0.41441,     0.41542,     0.41642,     0.41742,     0.41842,     0.41942,     0.42042,     0.42142,     0.42242,     0.42342,     0.42442,     0.42543,     0.42643,     0.42743,     0.42843,     0.42943,     0.43043,     0.43143,\n",
              "           0.43243,     0.43343,     0.43443,     0.43544,     0.43644,     0.43744,     0.43844,     0.43944,     0.44044,     0.44144,     0.44244,     0.44344,     0.44444,     0.44545,     0.44645,     0.44745,     0.44845,     0.44945,     0.45045,     0.45145,     0.45245,     0.45345,     0.45445,     0.45546,\n",
              "           0.45646,     0.45746,     0.45846,     0.45946,     0.46046,     0.46146,     0.46246,     0.46346,     0.46446,     0.46547,     0.46647,     0.46747,     0.46847,     0.46947,     0.47047,     0.47147,     0.47247,     0.47347,     0.47447,     0.47548,     0.47648,     0.47748,     0.47848,     0.47948,\n",
              "           0.48048,     0.48148,     0.48248,     0.48348,     0.48448,     0.48549,     0.48649,     0.48749,     0.48849,     0.48949,     0.49049,     0.49149,     0.49249,     0.49349,     0.49449,      0.4955,      0.4965,      0.4975,      0.4985,      0.4995,      0.5005,      0.5015,      0.5025,      0.5035,\n",
              "            0.5045,     0.50551,     0.50651,     0.50751,     0.50851,     0.50951,     0.51051,     0.51151,     0.51251,     0.51351,     0.51451,     0.51552,     0.51652,     0.51752,     0.51852,     0.51952,     0.52052,     0.52152,     0.52252,     0.52352,     0.52452,     0.52553,     0.52653,     0.52753,\n",
              "           0.52853,     0.52953,     0.53053,     0.53153,     0.53253,     0.53353,     0.53453,     0.53554,     0.53654,     0.53754,     0.53854,     0.53954,     0.54054,     0.54154,     0.54254,     0.54354,     0.54454,     0.54555,     0.54655,     0.54755,     0.54855,     0.54955,     0.55055,     0.55155,\n",
              "           0.55255,     0.55355,     0.55455,     0.55556,     0.55656,     0.55756,     0.55856,     0.55956,     0.56056,     0.56156,     0.56256,     0.56356,     0.56456,     0.56557,     0.56657,     0.56757,     0.56857,     0.56957,     0.57057,     0.57157,     0.57257,     0.57357,     0.57457,     0.57558,\n",
              "           0.57658,     0.57758,     0.57858,     0.57958,     0.58058,     0.58158,     0.58258,     0.58358,     0.58458,     0.58559,     0.58659,     0.58759,     0.58859,     0.58959,     0.59059,     0.59159,     0.59259,     0.59359,     0.59459,      0.5956,      0.5966,      0.5976,      0.5986,      0.5996,\n",
              "            0.6006,      0.6016,      0.6026,      0.6036,      0.6046,     0.60561,     0.60661,     0.60761,     0.60861,     0.60961,     0.61061,     0.61161,     0.61261,     0.61361,     0.61461,     0.61562,     0.61662,     0.61762,     0.61862,     0.61962,     0.62062,     0.62162,     0.62262,     0.62362,\n",
              "           0.62462,     0.62563,     0.62663,     0.62763,     0.62863,     0.62963,     0.63063,     0.63163,     0.63263,     0.63363,     0.63463,     0.63564,     0.63664,     0.63764,     0.63864,     0.63964,     0.64064,     0.64164,     0.64264,     0.64364,     0.64464,     0.64565,     0.64665,     0.64765,\n",
              "           0.64865,     0.64965,     0.65065,     0.65165,     0.65265,     0.65365,     0.65465,     0.65566,     0.65666,     0.65766,     0.65866,     0.65966,     0.66066,     0.66166,     0.66266,     0.66366,     0.66466,     0.66567,     0.66667,     0.66767,     0.66867,     0.66967,     0.67067,     0.67167,\n",
              "           0.67267,     0.67367,     0.67467,     0.67568,     0.67668,     0.67768,     0.67868,     0.67968,     0.68068,     0.68168,     0.68268,     0.68368,     0.68468,     0.68569,     0.68669,     0.68769,     0.68869,     0.68969,     0.69069,     0.69169,     0.69269,     0.69369,     0.69469,      0.6957,\n",
              "            0.6967,      0.6977,      0.6987,      0.6997,      0.7007,      0.7017,      0.7027,      0.7037,      0.7047,     0.70571,     0.70671,     0.70771,     0.70871,     0.70971,     0.71071,     0.71171,     0.71271,     0.71371,     0.71471,     0.71572,     0.71672,     0.71772,     0.71872,     0.71972,\n",
              "           0.72072,     0.72172,     0.72272,     0.72372,     0.72472,     0.72573,     0.72673,     0.72773,     0.72873,     0.72973,     0.73073,     0.73173,     0.73273,     0.73373,     0.73473,     0.73574,     0.73674,     0.73774,     0.73874,     0.73974,     0.74074,     0.74174,     0.74274,     0.74374,\n",
              "           0.74474,     0.74575,     0.74675,     0.74775,     0.74875,     0.74975,     0.75075,     0.75175,     0.75275,     0.75375,     0.75475,     0.75576,     0.75676,     0.75776,     0.75876,     0.75976,     0.76076,     0.76176,     0.76276,     0.76376,     0.76476,     0.76577,     0.76677,     0.76777,\n",
              "           0.76877,     0.76977,     0.77077,     0.77177,     0.77277,     0.77377,     0.77477,     0.77578,     0.77678,     0.77778,     0.77878,     0.77978,     0.78078,     0.78178,     0.78278,     0.78378,     0.78478,     0.78579,     0.78679,     0.78779,     0.78879,     0.78979,     0.79079,     0.79179,\n",
              "           0.79279,     0.79379,     0.79479,      0.7958,      0.7968,      0.7978,      0.7988,      0.7998,      0.8008,      0.8018,      0.8028,      0.8038,      0.8048,     0.80581,     0.80681,     0.80781,     0.80881,     0.80981,     0.81081,     0.81181,     0.81281,     0.81381,     0.81481,     0.81582,\n",
              "           0.81682,     0.81782,     0.81882,     0.81982,     0.82082,     0.82182,     0.82282,     0.82382,     0.82482,     0.82583,     0.82683,     0.82783,     0.82883,     0.82983,     0.83083,     0.83183,     0.83283,     0.83383,     0.83483,     0.83584,     0.83684,     0.83784,     0.83884,     0.83984,\n",
              "           0.84084,     0.84184,     0.84284,     0.84384,     0.84484,     0.84585,     0.84685,     0.84785,     0.84885,     0.84985,     0.85085,     0.85185,     0.85285,     0.85385,     0.85485,     0.85586,     0.85686,     0.85786,     0.85886,     0.85986,     0.86086,     0.86186,     0.86286,     0.86386,\n",
              "           0.86486,     0.86587,     0.86687,     0.86787,     0.86887,     0.86987,     0.87087,     0.87187,     0.87287,     0.87387,     0.87487,     0.87588,     0.87688,     0.87788,     0.87888,     0.87988,     0.88088,     0.88188,     0.88288,     0.88388,     0.88488,     0.88589,     0.88689,     0.88789,\n",
              "           0.88889,     0.88989,     0.89089,     0.89189,     0.89289,     0.89389,     0.89489,      0.8959,      0.8969,      0.8979,      0.8989,      0.8999,      0.9009,      0.9019,      0.9029,      0.9039,      0.9049,     0.90591,     0.90691,     0.90791,     0.90891,     0.90991,     0.91091,     0.91191,\n",
              "           0.91291,     0.91391,     0.91491,     0.91592,     0.91692,     0.91792,     0.91892,     0.91992,     0.92092,     0.92192,     0.92292,     0.92392,     0.92492,     0.92593,     0.92693,     0.92793,     0.92893,     0.92993,     0.93093,     0.93193,     0.93293,     0.93393,     0.93493,     0.93594,\n",
              "           0.93694,     0.93794,     0.93894,     0.93994,     0.94094,     0.94194,     0.94294,     0.94394,     0.94494,     0.94595,     0.94695,     0.94795,     0.94895,     0.94995,     0.95095,     0.95195,     0.95295,     0.95395,     0.95495,     0.95596,     0.95696,     0.95796,     0.95896,     0.95996,\n",
              "           0.96096,     0.96196,     0.96296,     0.96396,     0.96496,     0.96597,     0.96697,     0.96797,     0.96897,     0.96997,     0.97097,     0.97197,     0.97297,     0.97397,     0.97497,     0.97598,     0.97698,     0.97798,     0.97898,     0.97998,     0.98098,     0.98198,     0.98298,     0.98398,\n",
              "           0.98498,     0.98599,     0.98699,     0.98799,     0.98899,     0.98999,     0.99099,     0.99199,     0.99299,     0.99399,     0.99499,       0.996,       0.997,       0.998,       0.999,           1]), array([[    0.77852,     0.77852,     0.85542,     0.88175,     0.89529,     0.91197,     0.93074,     0.94172,      0.9524,     0.95862,     0.96473,     0.96859,     0.97141,     0.97421,     0.97457,     0.97429,     0.97401,     0.97373,     0.97344,     0.97316,     0.97288,      0.9726,     0.97232,\n",
              "            0.97204,     0.97176,     0.97147,     0.97119,     0.97091,     0.97063,     0.97035,     0.97006,     0.96978,      0.9695,     0.96921,     0.96893,     0.96865,     0.96836,     0.96808,      0.9678,     0.96751,     0.96723,     0.96694,     0.96666,     0.96638,     0.96586,     0.95928,\n",
              "            0.95798,     0.95902,     0.96005,     0.96107,      0.9621,     0.96312,     0.96414,     0.96516,     0.96555,      0.9656,     0.96564,     0.96569,     0.96574,     0.96579,     0.96584,     0.96589,     0.96593,     0.96598,     0.96603,     0.96608,     0.96613,     0.96617,     0.96622,\n",
              "            0.96627,     0.96632,     0.96637,     0.96641,     0.96646,     0.96651,     0.96656,     0.96661,     0.96665,      0.9667,     0.96675,      0.9668,     0.96685,     0.96689,     0.96694,     0.96699,     0.96704,     0.96709,     0.96713,     0.96718,     0.96723,     0.96728,     0.96733,\n",
              "            0.96737,     0.96742,     0.96747,     0.96752,     0.96757,     0.96761,     0.96766,     0.96771,     0.96776,     0.96781,     0.96785,      0.9679,     0.96795,       0.968,     0.96805,     0.96809,     0.96814,     0.96819,     0.96824,     0.96828,     0.96833,     0.96838,     0.96843,\n",
              "            0.96848,     0.96852,     0.96857,     0.96862,     0.96867,     0.96872,     0.96876,     0.96881,     0.96886,     0.96891,     0.96895,       0.969,     0.96905,      0.9691,     0.96915,     0.96919,     0.96924,     0.96929,     0.96934,     0.96938,     0.96943,     0.96948,     0.96953,\n",
              "            0.96958,     0.96962,     0.96967,     0.96972,     0.96977,     0.96981,     0.96986,     0.96991,     0.96996,     0.97001,     0.97005,      0.9701,     0.97015,      0.9702,     0.97024,     0.97029,     0.97034,     0.97039,     0.97043,     0.97048,     0.97053,     0.97058,     0.97062,\n",
              "            0.97067,     0.97072,     0.97077,     0.97082,     0.97086,     0.97091,     0.97096,     0.97101,     0.97105,      0.9711,     0.97115,      0.9712,     0.97124,     0.97129,     0.97134,     0.97139,     0.97143,     0.97148,     0.97153,     0.97158,     0.97162,     0.97167,     0.97172,\n",
              "            0.97177,     0.97181,     0.97186,     0.97191,     0.97196,       0.972,     0.97205,      0.9721,     0.97215,     0.97219,     0.97224,     0.97229,     0.97234,     0.97238,     0.97243,     0.97248,     0.97253,     0.97257,     0.97262,     0.97267,     0.97272,     0.97276,     0.97281,\n",
              "            0.97286,     0.97291,     0.97295,       0.973,     0.97305,      0.9731,     0.97314,     0.97319,     0.97324,     0.97329,     0.97333,     0.97338,     0.97343,     0.97347,     0.97352,     0.97357,     0.97362,     0.97366,     0.97371,     0.97376,     0.97381,     0.97385,      0.9739,\n",
              "            0.97394,     0.97397,       0.974,     0.97404,     0.97407,     0.97411,     0.97414,     0.97417,     0.97421,     0.97424,     0.97427,     0.97431,     0.97434,     0.97437,     0.97441,     0.97444,     0.97447,     0.97451,     0.97454,     0.97457,     0.97461,     0.97464,     0.97467,\n",
              "            0.97471,     0.97474,     0.97477,     0.97481,     0.97484,     0.97487,     0.97491,     0.97494,     0.97497,     0.97501,     0.97504,     0.97507,     0.97511,     0.97514,     0.97517,     0.97521,     0.97524,     0.97527,     0.97531,     0.97534,     0.97537,     0.97541,     0.97544,\n",
              "            0.97547,     0.97551,     0.97554,     0.97557,     0.97561,     0.97564,     0.97567,     0.97571,     0.97574,     0.97577,     0.97581,     0.97584,     0.97587,     0.97591,     0.97594,     0.97597,     0.97601,     0.97604,     0.97607,     0.97611,     0.97614,     0.97617,     0.97621,\n",
              "            0.97624,     0.97627,     0.97631,     0.97634,     0.97637,     0.97641,     0.97644,     0.97647,     0.97651,     0.97654,     0.97657,     0.97661,     0.97664,     0.97667,     0.97671,     0.97674,     0.97677,     0.97681,     0.97684,     0.97687,     0.97691,     0.97694,     0.97697,\n",
              "            0.97701,     0.97704,     0.97707,     0.97711,     0.97714,     0.97717,     0.97721,     0.97724,     0.97727,     0.97731,     0.97734,     0.97737,     0.97741,     0.97744,     0.97747,     0.97751,     0.97754,     0.97757,      0.9776,     0.97764,     0.97767,      0.9777,     0.97774,\n",
              "            0.97777,      0.9778,     0.97784,     0.97787,      0.9779,     0.97794,     0.97797,       0.978,     0.97804,     0.97807,      0.9781,     0.97814,     0.97817,      0.9782,     0.97824,     0.97827,      0.9783,     0.97834,     0.97837,      0.9784,     0.97843,     0.97847,      0.9785,\n",
              "            0.97853,     0.97857,      0.9786,     0.97863,     0.97867,      0.9787,     0.97873,     0.97877,      0.9788,     0.97883,     0.97887,      0.9789,     0.97893,     0.97896,       0.979,     0.97903,     0.97906,      0.9791,     0.97913,     0.97916,      0.9792,     0.97923,     0.97926,\n",
              "             0.9793,     0.97933,     0.97936,      0.9794,     0.97943,     0.97946,     0.97949,     0.97953,     0.97956,     0.97959,     0.97963,     0.97966,     0.97969,     0.97973,     0.97976,     0.97979,     0.97982,     0.97986,     0.97989,     0.97992,     0.97996,     0.97999,     0.98002,\n",
              "            0.98006,     0.98009,     0.98012,     0.98016,     0.98019,     0.98022,     0.98025,     0.98029,     0.98032,     0.98035,     0.98039,     0.98042,     0.98045,     0.98049,     0.98052,     0.98055,     0.98058,     0.98062,     0.98065,     0.98068,     0.98072,     0.98075,     0.98078,\n",
              "            0.98082,     0.98085,     0.98088,     0.98091,     0.98095,     0.98098,     0.98101,     0.98105,     0.98108,     0.98111,     0.98115,     0.98118,     0.98121,     0.98124,     0.98128,     0.98131,     0.98134,     0.98138,     0.98141,     0.98144,     0.98147,     0.98151,     0.98154,\n",
              "            0.98157,     0.98161,     0.98164,     0.98167,     0.98171,     0.98174,     0.98177,      0.9818,     0.98184,     0.98187,      0.9819,     0.98194,     0.98197,       0.982,     0.98203,     0.98207,      0.9821,     0.98213,     0.98217,      0.9822,     0.98223,     0.98226,      0.9823,\n",
              "            0.98233,     0.98236,      0.9824,     0.98243,     0.98242,     0.98224,     0.98206,     0.98188,     0.98171,     0.98153,     0.98135,     0.98117,     0.98099,     0.98081,     0.98063,     0.98045,     0.98027,     0.98009,     0.97991,     0.97973,     0.97954,     0.97936,     0.97918,\n",
              "              0.979,     0.97882,     0.97864,     0.97846,     0.97828,      0.9781,     0.97792,     0.97774,     0.97756,     0.97738,     0.97719,     0.97701,     0.97683,     0.97665,     0.97647,     0.97629,     0.97611,     0.97592,     0.97574,     0.97556,     0.97538,      0.9752,     0.97501,\n",
              "            0.97483,     0.97465,     0.97447,     0.97429,      0.9741,     0.97392,     0.97374,     0.97356,     0.97343,     0.97337,     0.97332,     0.97327,     0.97321,     0.97316,     0.97311,     0.97305,       0.973,     0.97295,     0.97289,     0.97284,     0.97278,     0.97273,     0.97268,\n",
              "            0.97262,     0.97257,     0.97252,     0.97246,     0.97241,     0.97235,      0.9723,     0.97225,     0.97219,     0.97214,     0.97208,     0.97203,     0.97198,     0.97192,     0.97187,     0.97182,     0.97176,     0.97171,     0.97165,      0.9716,     0.97155,     0.97149,     0.97144,\n",
              "            0.97138,     0.97133,     0.97128,     0.97122,     0.97117,     0.97112,     0.97106,     0.97101,     0.97095,      0.9709,     0.97085,     0.97079,     0.97074,     0.97068,     0.97063,     0.97058,     0.97052,     0.97047,     0.97041,     0.97036,     0.97031,     0.97025,      0.9702,\n",
              "            0.97014,     0.97009,     0.97004,     0.96998,     0.96993,     0.96987,     0.96982,     0.96977,     0.96971,     0.96966,      0.9696,     0.96955,      0.9695,     0.96944,     0.96939,     0.96933,     0.96928,     0.96922,     0.96917,     0.96912,     0.96906,     0.96901,     0.96895,\n",
              "             0.9689,     0.96885,     0.96879,     0.96874,     0.96868,     0.96863,     0.96857,     0.96852,     0.96847,     0.96841,     0.96836,      0.9683,     0.96825,      0.9682,     0.96814,     0.96809,     0.96803,     0.96798,     0.96792,     0.96787,     0.96782,     0.96776,     0.96771,\n",
              "            0.96765,      0.9676,     0.96754,     0.96749,     0.96744,     0.96738,     0.96733,     0.96727,     0.96722,     0.96716,     0.96711,     0.96706,       0.967,     0.96695,     0.96689,     0.96684,     0.96678,     0.96673,     0.96668,     0.96662,     0.96657,     0.96651,     0.96646,\n",
              "             0.9664,     0.96635,     0.96629,     0.96624,     0.96619,     0.96613,     0.96608,     0.96602,     0.96597,     0.96591,     0.96586,      0.9658,     0.96575,      0.9657,     0.96564,     0.96559,     0.96553,     0.96548,     0.96542,     0.96537,     0.96531,     0.96526,      0.9652,\n",
              "            0.96515,      0.9651,     0.96504,     0.96499,     0.96493,     0.96488,     0.96482,     0.96477,     0.96471,     0.96466,      0.9646,     0.96455,      0.9645,     0.96444,     0.96439,     0.96433,     0.96425,     0.96403,     0.96381,     0.96359,     0.96337,     0.96315,     0.96293,\n",
              "             0.9627,     0.96248,     0.96226,     0.96204,     0.96182,      0.9616,     0.96138,     0.96115,     0.96093,     0.96071,     0.96049,     0.96027,     0.96004,     0.95982,      0.9596,     0.95938,     0.95915,     0.95893,     0.95871,     0.95849,     0.95826,     0.95804,     0.95782,\n",
              "            0.95759,     0.95737,     0.95715,     0.95692,      0.9567,     0.95648,     0.95625,     0.95603,      0.9558,     0.95558,     0.95536,     0.95513,     0.95492,     0.95475,     0.95459,     0.95442,     0.95426,     0.95409,     0.95393,     0.95376,      0.9536,     0.95343,     0.95327,\n",
              "             0.9531,     0.95294,     0.95277,      0.9526,     0.95244,     0.95227,     0.95211,     0.95194,     0.95178,     0.95161,     0.95144,     0.95128,     0.95111,     0.95095,     0.95078,     0.95061,     0.95045,     0.95028,     0.95011,     0.94995,     0.94978,     0.94961,     0.94945,\n",
              "            0.94928,     0.94911,     0.94895,     0.94878,     0.94861,     0.94845,     0.94828,     0.94811,     0.94794,     0.94778,     0.94761,     0.94744,     0.94728,     0.94711,     0.94694,     0.94677,     0.94661,     0.94644,     0.94627,      0.9461,     0.94593,     0.94577,      0.9456,\n",
              "            0.94542,      0.9452,     0.94498,     0.94475,     0.94453,     0.94431,     0.94408,     0.94386,     0.94363,     0.94341,     0.94318,     0.94296,     0.94274,     0.94251,     0.94229,     0.94206,     0.94184,     0.94161,     0.94139,     0.94116,     0.94094,     0.94071,     0.94049,\n",
              "            0.94026,     0.94004,     0.93981,     0.93958,     0.93936,     0.93913,     0.93891,     0.93868,     0.93845,     0.93823,       0.938,     0.93777,     0.93755,     0.93732,     0.93709,     0.93687,     0.93664,     0.93641,     0.93619,     0.93596,     0.93557,     0.93462,     0.93366,\n",
              "            0.93271,     0.93175,     0.93079,     0.92982,     0.92886,     0.92789,     0.92692,     0.92595,     0.91928,     0.91501,     0.91327,     0.91153,     0.90978,     0.90803,     0.90627,     0.89868,     0.88321,     0.87581,     0.86832,     0.86123,     0.85547,     0.85044,     0.84709,\n",
              "            0.84373,     0.84034,     0.83732,     0.83433,     0.83132,     0.82829,      0.8222,     0.81519,     0.78986,     0.78662,     0.78336,     0.78008,     0.77702,     0.77408,     0.77112,     0.76815,     0.76494,     0.76107,     0.75718,     0.75327,     0.74799,     0.74243,     0.73623,\n",
              "            0.72913,      0.7119,     0.68186,     0.63377,     0.63076,     0.62774,     0.62471,     0.62167,     0.59742,     0.57367,     0.55546,     0.50856,     0.49212,     0.48636,     0.48055,      0.4747,     0.44454,     0.43378,      0.3238,     0.28246,     0.26933,     0.21687,      0.2062,\n",
              "            0.19668,     0.18614,     0.15731,     0.13708,     0.12613,     0.12135,     0.11654,      0.1117,     0.10684,     0.10196,    0.095517,    0.084773,    0.073907,    0.065544,    0.062231,    0.058907,    0.055572,    0.052226,    0.048868,    0.045498,    0.042116,    0.038723,    0.035318,\n",
              "                  0,           0,           0,           0,           0,           0,           0,           0,           0,           0,           0,           0,           0,           0,           0,           0,           0,           0,           0,           0,           0,           0,           0,\n",
              "                  0,           0,           0,           0,           0,           0,           0,           0,           0,           0,           0,           0,           0,           0,           0,           0,           0,           0,           0,           0,           0,           0,           0,\n",
              "                  0,           0,           0,           0,           0,           0,           0,           0,           0,           0,           0]]), 'Confidence', 'F1'], [array([          0,    0.001001,    0.002002,    0.003003,    0.004004,    0.005005,    0.006006,    0.007007,    0.008008,    0.009009,     0.01001,    0.011011,    0.012012,    0.013013,    0.014014,    0.015015,    0.016016,    0.017017,    0.018018,    0.019019,     0.02002,    0.021021,    0.022022,    0.023023,\n",
              "          0.024024,    0.025025,    0.026026,    0.027027,    0.028028,    0.029029,     0.03003,    0.031031,    0.032032,    0.033033,    0.034034,    0.035035,    0.036036,    0.037037,    0.038038,    0.039039,     0.04004,    0.041041,    0.042042,    0.043043,    0.044044,    0.045045,    0.046046,    0.047047,\n",
              "          0.048048,    0.049049,     0.05005,    0.051051,    0.052052,    0.053053,    0.054054,    0.055055,    0.056056,    0.057057,    0.058058,    0.059059,     0.06006,    0.061061,    0.062062,    0.063063,    0.064064,    0.065065,    0.066066,    0.067067,    0.068068,    0.069069,     0.07007,    0.071071,\n",
              "          0.072072,    0.073073,    0.074074,    0.075075,    0.076076,    0.077077,    0.078078,    0.079079,     0.08008,    0.081081,    0.082082,    0.083083,    0.084084,    0.085085,    0.086086,    0.087087,    0.088088,    0.089089,     0.09009,    0.091091,    0.092092,    0.093093,    0.094094,    0.095095,\n",
              "          0.096096,    0.097097,    0.098098,    0.099099,      0.1001,      0.1011,      0.1021,      0.1031,      0.1041,     0.10511,     0.10611,     0.10711,     0.10811,     0.10911,     0.11011,     0.11111,     0.11211,     0.11311,     0.11411,     0.11512,     0.11612,     0.11712,     0.11812,     0.11912,\n",
              "           0.12012,     0.12112,     0.12212,     0.12312,     0.12412,     0.12513,     0.12613,     0.12713,     0.12813,     0.12913,     0.13013,     0.13113,     0.13213,     0.13313,     0.13413,     0.13514,     0.13614,     0.13714,     0.13814,     0.13914,     0.14014,     0.14114,     0.14214,     0.14314,\n",
              "           0.14414,     0.14515,     0.14615,     0.14715,     0.14815,     0.14915,     0.15015,     0.15115,     0.15215,     0.15315,     0.15415,     0.15516,     0.15616,     0.15716,     0.15816,     0.15916,     0.16016,     0.16116,     0.16216,     0.16316,     0.16416,     0.16517,     0.16617,     0.16717,\n",
              "           0.16817,     0.16917,     0.17017,     0.17117,     0.17217,     0.17317,     0.17417,     0.17518,     0.17618,     0.17718,     0.17818,     0.17918,     0.18018,     0.18118,     0.18218,     0.18318,     0.18418,     0.18519,     0.18619,     0.18719,     0.18819,     0.18919,     0.19019,     0.19119,\n",
              "           0.19219,     0.19319,     0.19419,      0.1952,      0.1962,      0.1972,      0.1982,      0.1992,      0.2002,      0.2012,      0.2022,      0.2032,      0.2042,     0.20521,     0.20621,     0.20721,     0.20821,     0.20921,     0.21021,     0.21121,     0.21221,     0.21321,     0.21421,     0.21522,\n",
              "           0.21622,     0.21722,     0.21822,     0.21922,     0.22022,     0.22122,     0.22222,     0.22322,     0.22422,     0.22523,     0.22623,     0.22723,     0.22823,     0.22923,     0.23023,     0.23123,     0.23223,     0.23323,     0.23423,     0.23524,     0.23624,     0.23724,     0.23824,     0.23924,\n",
              "           0.24024,     0.24124,     0.24224,     0.24324,     0.24424,     0.24525,     0.24625,     0.24725,     0.24825,     0.24925,     0.25025,     0.25125,     0.25225,     0.25325,     0.25425,     0.25526,     0.25626,     0.25726,     0.25826,     0.25926,     0.26026,     0.26126,     0.26226,     0.26326,\n",
              "           0.26426,     0.26527,     0.26627,     0.26727,     0.26827,     0.26927,     0.27027,     0.27127,     0.27227,     0.27327,     0.27427,     0.27528,     0.27628,     0.27728,     0.27828,     0.27928,     0.28028,     0.28128,     0.28228,     0.28328,     0.28428,     0.28529,     0.28629,     0.28729,\n",
              "           0.28829,     0.28929,     0.29029,     0.29129,     0.29229,     0.29329,     0.29429,      0.2953,      0.2963,      0.2973,      0.2983,      0.2993,      0.3003,      0.3013,      0.3023,      0.3033,      0.3043,     0.30531,     0.30631,     0.30731,     0.30831,     0.30931,     0.31031,     0.31131,\n",
              "           0.31231,     0.31331,     0.31431,     0.31532,     0.31632,     0.31732,     0.31832,     0.31932,     0.32032,     0.32132,     0.32232,     0.32332,     0.32432,     0.32533,     0.32633,     0.32733,     0.32833,     0.32933,     0.33033,     0.33133,     0.33233,     0.33333,     0.33433,     0.33534,\n",
              "           0.33634,     0.33734,     0.33834,     0.33934,     0.34034,     0.34134,     0.34234,     0.34334,     0.34434,     0.34535,     0.34635,     0.34735,     0.34835,     0.34935,     0.35035,     0.35135,     0.35235,     0.35335,     0.35435,     0.35536,     0.35636,     0.35736,     0.35836,     0.35936,\n",
              "           0.36036,     0.36136,     0.36236,     0.36336,     0.36436,     0.36537,     0.36637,     0.36737,     0.36837,     0.36937,     0.37037,     0.37137,     0.37237,     0.37337,     0.37437,     0.37538,     0.37638,     0.37738,     0.37838,     0.37938,     0.38038,     0.38138,     0.38238,     0.38338,\n",
              "           0.38438,     0.38539,     0.38639,     0.38739,     0.38839,     0.38939,     0.39039,     0.39139,     0.39239,     0.39339,     0.39439,      0.3954,      0.3964,      0.3974,      0.3984,      0.3994,      0.4004,      0.4014,      0.4024,      0.4034,      0.4044,     0.40541,     0.40641,     0.40741,\n",
              "           0.40841,     0.40941,     0.41041,     0.41141,     0.41241,     0.41341,     0.41441,     0.41542,     0.41642,     0.41742,     0.41842,     0.41942,     0.42042,     0.42142,     0.42242,     0.42342,     0.42442,     0.42543,     0.42643,     0.42743,     0.42843,     0.42943,     0.43043,     0.43143,\n",
              "           0.43243,     0.43343,     0.43443,     0.43544,     0.43644,     0.43744,     0.43844,     0.43944,     0.44044,     0.44144,     0.44244,     0.44344,     0.44444,     0.44545,     0.44645,     0.44745,     0.44845,     0.44945,     0.45045,     0.45145,     0.45245,     0.45345,     0.45445,     0.45546,\n",
              "           0.45646,     0.45746,     0.45846,     0.45946,     0.46046,     0.46146,     0.46246,     0.46346,     0.46446,     0.46547,     0.46647,     0.46747,     0.46847,     0.46947,     0.47047,     0.47147,     0.47247,     0.47347,     0.47447,     0.47548,     0.47648,     0.47748,     0.47848,     0.47948,\n",
              "           0.48048,     0.48148,     0.48248,     0.48348,     0.48448,     0.48549,     0.48649,     0.48749,     0.48849,     0.48949,     0.49049,     0.49149,     0.49249,     0.49349,     0.49449,      0.4955,      0.4965,      0.4975,      0.4985,      0.4995,      0.5005,      0.5015,      0.5025,      0.5035,\n",
              "            0.5045,     0.50551,     0.50651,     0.50751,     0.50851,     0.50951,     0.51051,     0.51151,     0.51251,     0.51351,     0.51451,     0.51552,     0.51652,     0.51752,     0.51852,     0.51952,     0.52052,     0.52152,     0.52252,     0.52352,     0.52452,     0.52553,     0.52653,     0.52753,\n",
              "           0.52853,     0.52953,     0.53053,     0.53153,     0.53253,     0.53353,     0.53453,     0.53554,     0.53654,     0.53754,     0.53854,     0.53954,     0.54054,     0.54154,     0.54254,     0.54354,     0.54454,     0.54555,     0.54655,     0.54755,     0.54855,     0.54955,     0.55055,     0.55155,\n",
              "           0.55255,     0.55355,     0.55455,     0.55556,     0.55656,     0.55756,     0.55856,     0.55956,     0.56056,     0.56156,     0.56256,     0.56356,     0.56456,     0.56557,     0.56657,     0.56757,     0.56857,     0.56957,     0.57057,     0.57157,     0.57257,     0.57357,     0.57457,     0.57558,\n",
              "           0.57658,     0.57758,     0.57858,     0.57958,     0.58058,     0.58158,     0.58258,     0.58358,     0.58458,     0.58559,     0.58659,     0.58759,     0.58859,     0.58959,     0.59059,     0.59159,     0.59259,     0.59359,     0.59459,      0.5956,      0.5966,      0.5976,      0.5986,      0.5996,\n",
              "            0.6006,      0.6016,      0.6026,      0.6036,      0.6046,     0.60561,     0.60661,     0.60761,     0.60861,     0.60961,     0.61061,     0.61161,     0.61261,     0.61361,     0.61461,     0.61562,     0.61662,     0.61762,     0.61862,     0.61962,     0.62062,     0.62162,     0.62262,     0.62362,\n",
              "           0.62462,     0.62563,     0.62663,     0.62763,     0.62863,     0.62963,     0.63063,     0.63163,     0.63263,     0.63363,     0.63463,     0.63564,     0.63664,     0.63764,     0.63864,     0.63964,     0.64064,     0.64164,     0.64264,     0.64364,     0.64464,     0.64565,     0.64665,     0.64765,\n",
              "           0.64865,     0.64965,     0.65065,     0.65165,     0.65265,     0.65365,     0.65465,     0.65566,     0.65666,     0.65766,     0.65866,     0.65966,     0.66066,     0.66166,     0.66266,     0.66366,     0.66466,     0.66567,     0.66667,     0.66767,     0.66867,     0.66967,     0.67067,     0.67167,\n",
              "           0.67267,     0.67367,     0.67467,     0.67568,     0.67668,     0.67768,     0.67868,     0.67968,     0.68068,     0.68168,     0.68268,     0.68368,     0.68468,     0.68569,     0.68669,     0.68769,     0.68869,     0.68969,     0.69069,     0.69169,     0.69269,     0.69369,     0.69469,      0.6957,\n",
              "            0.6967,      0.6977,      0.6987,      0.6997,      0.7007,      0.7017,      0.7027,      0.7037,      0.7047,     0.70571,     0.70671,     0.70771,     0.70871,     0.70971,     0.71071,     0.71171,     0.71271,     0.71371,     0.71471,     0.71572,     0.71672,     0.71772,     0.71872,     0.71972,\n",
              "           0.72072,     0.72172,     0.72272,     0.72372,     0.72472,     0.72573,     0.72673,     0.72773,     0.72873,     0.72973,     0.73073,     0.73173,     0.73273,     0.73373,     0.73473,     0.73574,     0.73674,     0.73774,     0.73874,     0.73974,     0.74074,     0.74174,     0.74274,     0.74374,\n",
              "           0.74474,     0.74575,     0.74675,     0.74775,     0.74875,     0.74975,     0.75075,     0.75175,     0.75275,     0.75375,     0.75475,     0.75576,     0.75676,     0.75776,     0.75876,     0.75976,     0.76076,     0.76176,     0.76276,     0.76376,     0.76476,     0.76577,     0.76677,     0.76777,\n",
              "           0.76877,     0.76977,     0.77077,     0.77177,     0.77277,     0.77377,     0.77477,     0.77578,     0.77678,     0.77778,     0.77878,     0.77978,     0.78078,     0.78178,     0.78278,     0.78378,     0.78478,     0.78579,     0.78679,     0.78779,     0.78879,     0.78979,     0.79079,     0.79179,\n",
              "           0.79279,     0.79379,     0.79479,      0.7958,      0.7968,      0.7978,      0.7988,      0.7998,      0.8008,      0.8018,      0.8028,      0.8038,      0.8048,     0.80581,     0.80681,     0.80781,     0.80881,     0.80981,     0.81081,     0.81181,     0.81281,     0.81381,     0.81481,     0.81582,\n",
              "           0.81682,     0.81782,     0.81882,     0.81982,     0.82082,     0.82182,     0.82282,     0.82382,     0.82482,     0.82583,     0.82683,     0.82783,     0.82883,     0.82983,     0.83083,     0.83183,     0.83283,     0.83383,     0.83483,     0.83584,     0.83684,     0.83784,     0.83884,     0.83984,\n",
              "           0.84084,     0.84184,     0.84284,     0.84384,     0.84484,     0.84585,     0.84685,     0.84785,     0.84885,     0.84985,     0.85085,     0.85185,     0.85285,     0.85385,     0.85485,     0.85586,     0.85686,     0.85786,     0.85886,     0.85986,     0.86086,     0.86186,     0.86286,     0.86386,\n",
              "           0.86486,     0.86587,     0.86687,     0.86787,     0.86887,     0.86987,     0.87087,     0.87187,     0.87287,     0.87387,     0.87487,     0.87588,     0.87688,     0.87788,     0.87888,     0.87988,     0.88088,     0.88188,     0.88288,     0.88388,     0.88488,     0.88589,     0.88689,     0.88789,\n",
              "           0.88889,     0.88989,     0.89089,     0.89189,     0.89289,     0.89389,     0.89489,      0.8959,      0.8969,      0.8979,      0.8989,      0.8999,      0.9009,      0.9019,      0.9029,      0.9039,      0.9049,     0.90591,     0.90691,     0.90791,     0.90891,     0.90991,     0.91091,     0.91191,\n",
              "           0.91291,     0.91391,     0.91491,     0.91592,     0.91692,     0.91792,     0.91892,     0.91992,     0.92092,     0.92192,     0.92292,     0.92392,     0.92492,     0.92593,     0.92693,     0.92793,     0.92893,     0.92993,     0.93093,     0.93193,     0.93293,     0.93393,     0.93493,     0.93594,\n",
              "           0.93694,     0.93794,     0.93894,     0.93994,     0.94094,     0.94194,     0.94294,     0.94394,     0.94494,     0.94595,     0.94695,     0.94795,     0.94895,     0.94995,     0.95095,     0.95195,     0.95295,     0.95395,     0.95495,     0.95596,     0.95696,     0.95796,     0.95896,     0.95996,\n",
              "           0.96096,     0.96196,     0.96296,     0.96396,     0.96496,     0.96597,     0.96697,     0.96797,     0.96897,     0.96997,     0.97097,     0.97197,     0.97297,     0.97397,     0.97497,     0.97598,     0.97698,     0.97798,     0.97898,     0.97998,     0.98098,     0.98198,     0.98298,     0.98398,\n",
              "           0.98498,     0.98599,     0.98699,     0.98799,     0.98899,     0.98999,     0.99099,     0.99199,     0.99299,     0.99399,     0.99499,       0.996,       0.997,       0.998,       0.999,           1]), array([[    0.63736,     0.63736,     0.74737,     0.78851,     0.81043,     0.83818,     0.87045,     0.88985,     0.90913,     0.92053,     0.93186,     0.93909,      0.9444,     0.94971,      0.9508,     0.95077,     0.95075,     0.95072,     0.95069,     0.95067,     0.95064,     0.95061,     0.95059,\n",
              "            0.95056,     0.95053,     0.95051,     0.95048,     0.95045,     0.95043,      0.9504,     0.95037,     0.95035,     0.95032,     0.95029,     0.95027,     0.95024,     0.95021,     0.95019,     0.95016,     0.95013,     0.95011,     0.95008,     0.95005,     0.95003,     0.94998,     0.94934,\n",
              "            0.95057,      0.9526,     0.95463,     0.95667,      0.9587,     0.96073,     0.96277,      0.9648,     0.96558,     0.96568,     0.96577,     0.96587,     0.96596,     0.96606,     0.96616,     0.96625,     0.96635,     0.96645,     0.96654,     0.96664,     0.96674,     0.96683,     0.96693,\n",
              "            0.96702,     0.96712,     0.96722,     0.96731,     0.96741,     0.96751,      0.9676,      0.9677,     0.96779,     0.96789,     0.96799,     0.96808,     0.96818,     0.96828,     0.96837,     0.96847,     0.96856,     0.96866,     0.96876,     0.96885,     0.96895,     0.96905,     0.96914,\n",
              "            0.96924,     0.96934,     0.96943,     0.96953,     0.96962,     0.96972,     0.96982,     0.96991,     0.97001,     0.97011,      0.9702,      0.9703,     0.97039,     0.97049,     0.97059,     0.97068,     0.97078,     0.97088,     0.97097,     0.97107,     0.97116,     0.97126,     0.97136,\n",
              "            0.97145,     0.97155,     0.97165,     0.97174,     0.97184,     0.97193,     0.97203,     0.97213,     0.97222,     0.97232,     0.97242,     0.97251,     0.97261,     0.97271,      0.9728,      0.9729,     0.97299,     0.97309,     0.97319,     0.97328,     0.97338,     0.97348,     0.97357,\n",
              "            0.97367,     0.97376,     0.97386,     0.97396,     0.97405,     0.97415,     0.97425,     0.97434,     0.97444,     0.97453,     0.97463,     0.97473,     0.97482,     0.97492,     0.97502,     0.97511,     0.97521,     0.97531,      0.9754,      0.9755,     0.97559,     0.97569,     0.97579,\n",
              "            0.97588,     0.97598,     0.97608,     0.97617,     0.97627,     0.97636,     0.97646,     0.97656,     0.97665,     0.97675,     0.97685,     0.97694,     0.97704,     0.97713,     0.97723,     0.97733,     0.97742,     0.97752,     0.97762,     0.97771,     0.97781,     0.97791,       0.978,\n",
              "             0.9781,     0.97819,     0.97829,     0.97839,     0.97848,     0.97858,     0.97868,     0.97877,     0.97887,     0.97896,     0.97906,     0.97916,     0.97925,     0.97935,     0.97945,     0.97954,     0.97964,     0.97973,     0.97983,     0.97993,     0.98002,     0.98012,     0.98022,\n",
              "            0.98031,     0.98041,      0.9805,      0.9806,      0.9807,     0.98079,     0.98089,     0.98099,     0.98108,     0.98118,     0.98128,     0.98137,     0.98147,     0.98156,     0.98166,     0.98176,     0.98185,     0.98195,     0.98205,     0.98214,     0.98224,     0.98233,     0.98243,\n",
              "            0.98251,     0.98257,     0.98264,     0.98271,     0.98278,     0.98285,     0.98292,     0.98298,     0.98305,     0.98312,     0.98319,     0.98326,     0.98332,     0.98339,     0.98346,     0.98353,      0.9836,     0.98366,     0.98373,      0.9838,     0.98387,     0.98394,       0.984,\n",
              "            0.98407,     0.98414,     0.98421,     0.98428,     0.98435,     0.98441,     0.98448,     0.98455,     0.98462,     0.98469,     0.98475,     0.98482,     0.98489,     0.98496,     0.98503,     0.98509,     0.98516,     0.98523,      0.9853,     0.98537,     0.98544,      0.9855,     0.98557,\n",
              "            0.98564,     0.98571,     0.98578,     0.98584,     0.98591,     0.98598,     0.98605,     0.98612,     0.98618,     0.98625,     0.98632,     0.98639,     0.98646,     0.98653,     0.98659,     0.98666,     0.98673,      0.9868,     0.98687,     0.98693,       0.987,     0.98707,     0.98714,\n",
              "            0.98721,     0.98727,     0.98734,     0.98741,     0.98748,     0.98755,     0.98762,     0.98768,     0.98775,     0.98782,     0.98789,     0.98796,     0.98802,     0.98809,     0.98816,     0.98823,      0.9883,     0.98836,     0.98843,      0.9885,     0.98857,     0.98864,     0.98871,\n",
              "            0.98877,     0.98884,     0.98891,     0.98898,     0.98905,     0.98911,     0.98918,     0.98925,     0.98932,     0.98939,     0.98945,     0.98952,     0.98959,     0.98966,     0.98973,     0.98979,     0.98986,     0.98993,        0.99,     0.99007,     0.99014,      0.9902,     0.99027,\n",
              "            0.99034,     0.99041,     0.99048,     0.99054,     0.99061,     0.99068,     0.99075,     0.99082,     0.99088,     0.99095,     0.99102,     0.99109,     0.99116,     0.99123,     0.99129,     0.99136,     0.99143,      0.9915,     0.99157,     0.99163,      0.9917,     0.99177,     0.99184,\n",
              "            0.99191,     0.99197,     0.99204,     0.99211,     0.99218,     0.99225,     0.99232,     0.99238,     0.99245,     0.99252,     0.99259,     0.99266,     0.99272,     0.99279,     0.99286,     0.99293,       0.993,     0.99306,     0.99313,      0.9932,     0.99327,     0.99334,     0.99341,\n",
              "            0.99347,     0.99354,     0.99361,     0.99368,     0.99375,     0.99381,     0.99388,     0.99395,     0.99402,     0.99409,     0.99415,     0.99422,     0.99429,     0.99436,     0.99443,     0.99449,     0.99456,     0.99463,      0.9947,     0.99477,     0.99484,      0.9949,     0.99497,\n",
              "            0.99504,     0.99511,     0.99518,     0.99524,     0.99531,     0.99538,     0.99545,     0.99552,     0.99558,     0.99565,     0.99572,     0.99579,     0.99586,     0.99593,     0.99599,     0.99606,     0.99613,      0.9962,     0.99627,     0.99633,      0.9964,     0.99647,     0.99654,\n",
              "            0.99661,     0.99667,     0.99674,     0.99681,     0.99688,     0.99695,     0.99702,     0.99708,     0.99715,     0.99722,     0.99729,     0.99736,     0.99742,     0.99749,     0.99756,     0.99763,      0.9977,     0.99776,     0.99783,      0.9979,     0.99797,     0.99804,     0.99811,\n",
              "            0.99817,     0.99824,     0.99831,     0.99838,     0.99845,     0.99851,     0.99858,     0.99865,     0.99872,     0.99879,     0.99885,     0.99892,     0.99899,     0.99906,     0.99913,      0.9992,     0.99926,     0.99933,      0.9994,     0.99947,     0.99954,      0.9996,     0.99967,\n",
              "            0.99974,     0.99981,     0.99988,     0.99994,           1,           1,           1,           1,           1,           1,           1,           1,           1,           1,           1,           1,           1,           1,           1,           1,           1,           1,           1,\n",
              "                  1,           1,           1,           1,           1,           1,           1,           1,           1,           1,           1,           1,           1,           1,           1,           1,           1,           1,           1,           1,           1,           1,           1,\n",
              "                  1,           1,           1,           1,           1,           1,           1,           1,           1,           1,           1,           1,           1,           1,           1,           1,           1,           1,           1,           1,           1,           1,           1,\n",
              "                  1,           1,           1,           1,           1,           1,           1,           1,           1,           1,           1,           1,           1,           1,           1,           1,           1,           1,           1,           1,           1,           1,           1,\n",
              "                  1,           1,           1,           1,           1,           1,           1,           1,           1,           1,           1,           1,           1,           1,           1,           1,           1,           1,           1,           1,           1,           1,           1,\n",
              "                  1,           1,           1,           1,           1,           1,           1,           1,           1,           1,           1,           1,           1,           1,           1,           1,           1,           1,           1,           1,           1,           1,           1,\n",
              "                  1,           1,           1,           1,           1,           1,           1,           1,           1,           1,           1,           1,           1,           1,           1,           1,           1,           1,           1,           1,           1,           1,           1,\n",
              "                  1,           1,           1,           1,           1,           1,           1,           1,           1,           1,           1,           1,           1,           1,           1,           1,           1,           1,           1,           1,           1,           1,           1,\n",
              "                  1,           1,           1,           1,           1,           1,           1,           1,           1,           1,           1,           1,           1,           1,           1,           1,           1,           1,           1,           1,           1,           1,           1,\n",
              "                  1,           1,           1,           1,           1,           1,           1,           1,           1,           1,           1,           1,           1,           1,           1,           1,           1,           1,           1,           1,           1,           1,           1,\n",
              "                  1,           1,           1,           1,           1,           1,           1,           1,           1,           1,           1,           1,           1,           1,           1,           1,           1,           1,           1,           1,           1,           1,           1,\n",
              "                  1,           1,           1,           1,           1,           1,           1,           1,           1,           1,           1,           1,           1,           1,           1,           1,           1,           1,           1,           1,           1,           1,           1,\n",
              "                  1,           1,           1,           1,           1,           1,           1,           1,           1,           1,           1,           1,           1,           1,           1,           1,           1,           1,           1,           1,           1,           1,           1,\n",
              "                  1,           1,           1,           1,           1,           1,           1,           1,           1,           1,           1,           1,           1,           1,           1,           1,           1,           1,           1,           1,           1,           1,           1,\n",
              "                  1,           1,           1,           1,           1,           1,           1,           1,           1,           1,           1,           1,           1,           1,           1,           1,           1,           1,           1,           1,           1,           1,           1,\n",
              "                  1,           1,           1,           1,           1,           1,           1,           1,           1,           1,           1,           1,           1,           1,           1,           1,           1,           1,           1,           1,           1,           1,           1,\n",
              "                  1,           1,           1,           1,           1,           1,           1,           1,           1,           1,           1,           1,           1,           1,           1,           1,           1,           1,           1,           1,           1,           1,           1,\n",
              "                  1,           1,           1,           1,           1,           1,           1,           1,           1,           1,           1,           1,           1,           1,           1,           1,           1,           1,           1,           1,           1,           1,           1,\n",
              "                  1,           1,           1,           1,           1,           1,           1,           1,           1,           1,           1,           1,           1,           1,           1,           1,           1,           1,           1,           1,           1,           1,           1,\n",
              "                  1,           1,           1,           1,           1,           1,           1,           1,           1,           1,           1,           1,           1,           1,           1,           1,           1,           1,           1,           1,           1,           1,           1,\n",
              "                  1,           1,           1,           1,           1,           1,           1,           1,           1,           1,           1,           1,           1,           1,           1,           1,           1,           1,           1,           1,           1,           1,           1,\n",
              "                  1,           1,           1,           1,           1,           1,           1,           1,           1,           1,           1,           1,           1,           1,           1,           1,           1,           1,           1,           1,           1,           1,           1,\n",
              "                  1,           1,           1,           1,           1,           1,           1,           1,           1,           1,           1]]), 'Confidence', 'Precision'], [array([          0,    0.001001,    0.002002,    0.003003,    0.004004,    0.005005,    0.006006,    0.007007,    0.008008,    0.009009,     0.01001,    0.011011,    0.012012,    0.013013,    0.014014,    0.015015,    0.016016,    0.017017,    0.018018,    0.019019,     0.02002,    0.021021,    0.022022,    0.023023,\n",
              "          0.024024,    0.025025,    0.026026,    0.027027,    0.028028,    0.029029,     0.03003,    0.031031,    0.032032,    0.033033,    0.034034,    0.035035,    0.036036,    0.037037,    0.038038,    0.039039,     0.04004,    0.041041,    0.042042,    0.043043,    0.044044,    0.045045,    0.046046,    0.047047,\n",
              "          0.048048,    0.049049,     0.05005,    0.051051,    0.052052,    0.053053,    0.054054,    0.055055,    0.056056,    0.057057,    0.058058,    0.059059,     0.06006,    0.061061,    0.062062,    0.063063,    0.064064,    0.065065,    0.066066,    0.067067,    0.068068,    0.069069,     0.07007,    0.071071,\n",
              "          0.072072,    0.073073,    0.074074,    0.075075,    0.076076,    0.077077,    0.078078,    0.079079,     0.08008,    0.081081,    0.082082,    0.083083,    0.084084,    0.085085,    0.086086,    0.087087,    0.088088,    0.089089,     0.09009,    0.091091,    0.092092,    0.093093,    0.094094,    0.095095,\n",
              "          0.096096,    0.097097,    0.098098,    0.099099,      0.1001,      0.1011,      0.1021,      0.1031,      0.1041,     0.10511,     0.10611,     0.10711,     0.10811,     0.10911,     0.11011,     0.11111,     0.11211,     0.11311,     0.11411,     0.11512,     0.11612,     0.11712,     0.11812,     0.11912,\n",
              "           0.12012,     0.12112,     0.12212,     0.12312,     0.12412,     0.12513,     0.12613,     0.12713,     0.12813,     0.12913,     0.13013,     0.13113,     0.13213,     0.13313,     0.13413,     0.13514,     0.13614,     0.13714,     0.13814,     0.13914,     0.14014,     0.14114,     0.14214,     0.14314,\n",
              "           0.14414,     0.14515,     0.14615,     0.14715,     0.14815,     0.14915,     0.15015,     0.15115,     0.15215,     0.15315,     0.15415,     0.15516,     0.15616,     0.15716,     0.15816,     0.15916,     0.16016,     0.16116,     0.16216,     0.16316,     0.16416,     0.16517,     0.16617,     0.16717,\n",
              "           0.16817,     0.16917,     0.17017,     0.17117,     0.17217,     0.17317,     0.17417,     0.17518,     0.17618,     0.17718,     0.17818,     0.17918,     0.18018,     0.18118,     0.18218,     0.18318,     0.18418,     0.18519,     0.18619,     0.18719,     0.18819,     0.18919,     0.19019,     0.19119,\n",
              "           0.19219,     0.19319,     0.19419,      0.1952,      0.1962,      0.1972,      0.1982,      0.1992,      0.2002,      0.2012,      0.2022,      0.2032,      0.2042,     0.20521,     0.20621,     0.20721,     0.20821,     0.20921,     0.21021,     0.21121,     0.21221,     0.21321,     0.21421,     0.21522,\n",
              "           0.21622,     0.21722,     0.21822,     0.21922,     0.22022,     0.22122,     0.22222,     0.22322,     0.22422,     0.22523,     0.22623,     0.22723,     0.22823,     0.22923,     0.23023,     0.23123,     0.23223,     0.23323,     0.23423,     0.23524,     0.23624,     0.23724,     0.23824,     0.23924,\n",
              "           0.24024,     0.24124,     0.24224,     0.24324,     0.24424,     0.24525,     0.24625,     0.24725,     0.24825,     0.24925,     0.25025,     0.25125,     0.25225,     0.25325,     0.25425,     0.25526,     0.25626,     0.25726,     0.25826,     0.25926,     0.26026,     0.26126,     0.26226,     0.26326,\n",
              "           0.26426,     0.26527,     0.26627,     0.26727,     0.26827,     0.26927,     0.27027,     0.27127,     0.27227,     0.27327,     0.27427,     0.27528,     0.27628,     0.27728,     0.27828,     0.27928,     0.28028,     0.28128,     0.28228,     0.28328,     0.28428,     0.28529,     0.28629,     0.28729,\n",
              "           0.28829,     0.28929,     0.29029,     0.29129,     0.29229,     0.29329,     0.29429,      0.2953,      0.2963,      0.2973,      0.2983,      0.2993,      0.3003,      0.3013,      0.3023,      0.3033,      0.3043,     0.30531,     0.30631,     0.30731,     0.30831,     0.30931,     0.31031,     0.31131,\n",
              "           0.31231,     0.31331,     0.31431,     0.31532,     0.31632,     0.31732,     0.31832,     0.31932,     0.32032,     0.32132,     0.32232,     0.32332,     0.32432,     0.32533,     0.32633,     0.32733,     0.32833,     0.32933,     0.33033,     0.33133,     0.33233,     0.33333,     0.33433,     0.33534,\n",
              "           0.33634,     0.33734,     0.33834,     0.33934,     0.34034,     0.34134,     0.34234,     0.34334,     0.34434,     0.34535,     0.34635,     0.34735,     0.34835,     0.34935,     0.35035,     0.35135,     0.35235,     0.35335,     0.35435,     0.35536,     0.35636,     0.35736,     0.35836,     0.35936,\n",
              "           0.36036,     0.36136,     0.36236,     0.36336,     0.36436,     0.36537,     0.36637,     0.36737,     0.36837,     0.36937,     0.37037,     0.37137,     0.37237,     0.37337,     0.37437,     0.37538,     0.37638,     0.37738,     0.37838,     0.37938,     0.38038,     0.38138,     0.38238,     0.38338,\n",
              "           0.38438,     0.38539,     0.38639,     0.38739,     0.38839,     0.38939,     0.39039,     0.39139,     0.39239,     0.39339,     0.39439,      0.3954,      0.3964,      0.3974,      0.3984,      0.3994,      0.4004,      0.4014,      0.4024,      0.4034,      0.4044,     0.40541,     0.40641,     0.40741,\n",
              "           0.40841,     0.40941,     0.41041,     0.41141,     0.41241,     0.41341,     0.41441,     0.41542,     0.41642,     0.41742,     0.41842,     0.41942,     0.42042,     0.42142,     0.42242,     0.42342,     0.42442,     0.42543,     0.42643,     0.42743,     0.42843,     0.42943,     0.43043,     0.43143,\n",
              "           0.43243,     0.43343,     0.43443,     0.43544,     0.43644,     0.43744,     0.43844,     0.43944,     0.44044,     0.44144,     0.44244,     0.44344,     0.44444,     0.44545,     0.44645,     0.44745,     0.44845,     0.44945,     0.45045,     0.45145,     0.45245,     0.45345,     0.45445,     0.45546,\n",
              "           0.45646,     0.45746,     0.45846,     0.45946,     0.46046,     0.46146,     0.46246,     0.46346,     0.46446,     0.46547,     0.46647,     0.46747,     0.46847,     0.46947,     0.47047,     0.47147,     0.47247,     0.47347,     0.47447,     0.47548,     0.47648,     0.47748,     0.47848,     0.47948,\n",
              "           0.48048,     0.48148,     0.48248,     0.48348,     0.48448,     0.48549,     0.48649,     0.48749,     0.48849,     0.48949,     0.49049,     0.49149,     0.49249,     0.49349,     0.49449,      0.4955,      0.4965,      0.4975,      0.4985,      0.4995,      0.5005,      0.5015,      0.5025,      0.5035,\n",
              "            0.5045,     0.50551,     0.50651,     0.50751,     0.50851,     0.50951,     0.51051,     0.51151,     0.51251,     0.51351,     0.51451,     0.51552,     0.51652,     0.51752,     0.51852,     0.51952,     0.52052,     0.52152,     0.52252,     0.52352,     0.52452,     0.52553,     0.52653,     0.52753,\n",
              "           0.52853,     0.52953,     0.53053,     0.53153,     0.53253,     0.53353,     0.53453,     0.53554,     0.53654,     0.53754,     0.53854,     0.53954,     0.54054,     0.54154,     0.54254,     0.54354,     0.54454,     0.54555,     0.54655,     0.54755,     0.54855,     0.54955,     0.55055,     0.55155,\n",
              "           0.55255,     0.55355,     0.55455,     0.55556,     0.55656,     0.55756,     0.55856,     0.55956,     0.56056,     0.56156,     0.56256,     0.56356,     0.56456,     0.56557,     0.56657,     0.56757,     0.56857,     0.56957,     0.57057,     0.57157,     0.57257,     0.57357,     0.57457,     0.57558,\n",
              "           0.57658,     0.57758,     0.57858,     0.57958,     0.58058,     0.58158,     0.58258,     0.58358,     0.58458,     0.58559,     0.58659,     0.58759,     0.58859,     0.58959,     0.59059,     0.59159,     0.59259,     0.59359,     0.59459,      0.5956,      0.5966,      0.5976,      0.5986,      0.5996,\n",
              "            0.6006,      0.6016,      0.6026,      0.6036,      0.6046,     0.60561,     0.60661,     0.60761,     0.60861,     0.60961,     0.61061,     0.61161,     0.61261,     0.61361,     0.61461,     0.61562,     0.61662,     0.61762,     0.61862,     0.61962,     0.62062,     0.62162,     0.62262,     0.62362,\n",
              "           0.62462,     0.62563,     0.62663,     0.62763,     0.62863,     0.62963,     0.63063,     0.63163,     0.63263,     0.63363,     0.63463,     0.63564,     0.63664,     0.63764,     0.63864,     0.63964,     0.64064,     0.64164,     0.64264,     0.64364,     0.64464,     0.64565,     0.64665,     0.64765,\n",
              "           0.64865,     0.64965,     0.65065,     0.65165,     0.65265,     0.65365,     0.65465,     0.65566,     0.65666,     0.65766,     0.65866,     0.65966,     0.66066,     0.66166,     0.66266,     0.66366,     0.66466,     0.66567,     0.66667,     0.66767,     0.66867,     0.66967,     0.67067,     0.67167,\n",
              "           0.67267,     0.67367,     0.67467,     0.67568,     0.67668,     0.67768,     0.67868,     0.67968,     0.68068,     0.68168,     0.68268,     0.68368,     0.68468,     0.68569,     0.68669,     0.68769,     0.68869,     0.68969,     0.69069,     0.69169,     0.69269,     0.69369,     0.69469,      0.6957,\n",
              "            0.6967,      0.6977,      0.6987,      0.6997,      0.7007,      0.7017,      0.7027,      0.7037,      0.7047,     0.70571,     0.70671,     0.70771,     0.70871,     0.70971,     0.71071,     0.71171,     0.71271,     0.71371,     0.71471,     0.71572,     0.71672,     0.71772,     0.71872,     0.71972,\n",
              "           0.72072,     0.72172,     0.72272,     0.72372,     0.72472,     0.72573,     0.72673,     0.72773,     0.72873,     0.72973,     0.73073,     0.73173,     0.73273,     0.73373,     0.73473,     0.73574,     0.73674,     0.73774,     0.73874,     0.73974,     0.74074,     0.74174,     0.74274,     0.74374,\n",
              "           0.74474,     0.74575,     0.74675,     0.74775,     0.74875,     0.74975,     0.75075,     0.75175,     0.75275,     0.75375,     0.75475,     0.75576,     0.75676,     0.75776,     0.75876,     0.75976,     0.76076,     0.76176,     0.76276,     0.76376,     0.76476,     0.76577,     0.76677,     0.76777,\n",
              "           0.76877,     0.76977,     0.77077,     0.77177,     0.77277,     0.77377,     0.77477,     0.77578,     0.77678,     0.77778,     0.77878,     0.77978,     0.78078,     0.78178,     0.78278,     0.78378,     0.78478,     0.78579,     0.78679,     0.78779,     0.78879,     0.78979,     0.79079,     0.79179,\n",
              "           0.79279,     0.79379,     0.79479,      0.7958,      0.7968,      0.7978,      0.7988,      0.7998,      0.8008,      0.8018,      0.8028,      0.8038,      0.8048,     0.80581,     0.80681,     0.80781,     0.80881,     0.80981,     0.81081,     0.81181,     0.81281,     0.81381,     0.81481,     0.81582,\n",
              "           0.81682,     0.81782,     0.81882,     0.81982,     0.82082,     0.82182,     0.82282,     0.82382,     0.82482,     0.82583,     0.82683,     0.82783,     0.82883,     0.82983,     0.83083,     0.83183,     0.83283,     0.83383,     0.83483,     0.83584,     0.83684,     0.83784,     0.83884,     0.83984,\n",
              "           0.84084,     0.84184,     0.84284,     0.84384,     0.84484,     0.84585,     0.84685,     0.84785,     0.84885,     0.84985,     0.85085,     0.85185,     0.85285,     0.85385,     0.85485,     0.85586,     0.85686,     0.85786,     0.85886,     0.85986,     0.86086,     0.86186,     0.86286,     0.86386,\n",
              "           0.86486,     0.86587,     0.86687,     0.86787,     0.86887,     0.86987,     0.87087,     0.87187,     0.87287,     0.87387,     0.87487,     0.87588,     0.87688,     0.87788,     0.87888,     0.87988,     0.88088,     0.88188,     0.88288,     0.88388,     0.88488,     0.88589,     0.88689,     0.88789,\n",
              "           0.88889,     0.88989,     0.89089,     0.89189,     0.89289,     0.89389,     0.89489,      0.8959,      0.8969,      0.8979,      0.8989,      0.8999,      0.9009,      0.9019,      0.9029,      0.9039,      0.9049,     0.90591,     0.90691,     0.90791,     0.90891,     0.90991,     0.91091,     0.91191,\n",
              "           0.91291,     0.91391,     0.91491,     0.91592,     0.91692,     0.91792,     0.91892,     0.91992,     0.92092,     0.92192,     0.92292,     0.92392,     0.92492,     0.92593,     0.92693,     0.92793,     0.92893,     0.92993,     0.93093,     0.93193,     0.93293,     0.93393,     0.93493,     0.93594,\n",
              "           0.93694,     0.93794,     0.93894,     0.93994,     0.94094,     0.94194,     0.94294,     0.94394,     0.94494,     0.94595,     0.94695,     0.94795,     0.94895,     0.94995,     0.95095,     0.95195,     0.95295,     0.95395,     0.95495,     0.95596,     0.95696,     0.95796,     0.95896,     0.95996,\n",
              "           0.96096,     0.96196,     0.96296,     0.96396,     0.96496,     0.96597,     0.96697,     0.96797,     0.96897,     0.96997,     0.97097,     0.97197,     0.97297,     0.97397,     0.97497,     0.97598,     0.97698,     0.97798,     0.97898,     0.97998,     0.98098,     0.98198,     0.98298,     0.98398,\n",
              "           0.98498,     0.98599,     0.98699,     0.98799,     0.98899,     0.98999,     0.99099,     0.99199,     0.99299,     0.99399,     0.99499,       0.996,       0.997,       0.998,       0.999,           1]), array([[          1,           1,           1,           1,           1,           1,           1,           1,           1,           1,           1,           1,           1,           1,     0.99956,       0.999,     0.99844,     0.99787,     0.99731,     0.99675,     0.99619,     0.99563,     0.99507,\n",
              "            0.99451,     0.99395,     0.99339,     0.99283,     0.99227,     0.99171,     0.99115,     0.99059,     0.99003,     0.98947,      0.9889,     0.98834,     0.98778,     0.98722,     0.98666,      0.9861,     0.98554,     0.98498,     0.98442,     0.98386,      0.9833,     0.98227,     0.96942,\n",
              "            0.96552,     0.96552,     0.96552,     0.96552,     0.96552,     0.96552,     0.96552,     0.96552,     0.96552,     0.96552,     0.96552,     0.96552,     0.96552,     0.96552,     0.96552,     0.96552,     0.96552,     0.96552,     0.96552,     0.96552,     0.96552,     0.96552,     0.96552,\n",
              "            0.96552,     0.96552,     0.96552,     0.96552,     0.96552,     0.96552,     0.96552,     0.96552,     0.96552,     0.96552,     0.96552,     0.96552,     0.96552,     0.96552,     0.96552,     0.96552,     0.96552,     0.96552,     0.96552,     0.96552,     0.96552,     0.96552,     0.96552,\n",
              "            0.96552,     0.96552,     0.96552,     0.96552,     0.96552,     0.96552,     0.96552,     0.96552,     0.96552,     0.96552,     0.96552,     0.96552,     0.96552,     0.96552,     0.96552,     0.96552,     0.96552,     0.96552,     0.96552,     0.96552,     0.96552,     0.96552,     0.96552,\n",
              "            0.96552,     0.96552,     0.96552,     0.96552,     0.96552,     0.96552,     0.96552,     0.96552,     0.96552,     0.96552,     0.96552,     0.96552,     0.96552,     0.96552,     0.96552,     0.96552,     0.96552,     0.96552,     0.96552,     0.96552,     0.96552,     0.96552,     0.96552,\n",
              "            0.96552,     0.96552,     0.96552,     0.96552,     0.96552,     0.96552,     0.96552,     0.96552,     0.96552,     0.96552,     0.96552,     0.96552,     0.96552,     0.96552,     0.96552,     0.96552,     0.96552,     0.96552,     0.96552,     0.96552,     0.96552,     0.96552,     0.96552,\n",
              "            0.96552,     0.96552,     0.96552,     0.96552,     0.96552,     0.96552,     0.96552,     0.96552,     0.96552,     0.96552,     0.96552,     0.96552,     0.96552,     0.96552,     0.96552,     0.96552,     0.96552,     0.96552,     0.96552,     0.96552,     0.96552,     0.96552,     0.96552,\n",
              "            0.96552,     0.96552,     0.96552,     0.96552,     0.96552,     0.96552,     0.96552,     0.96552,     0.96552,     0.96552,     0.96552,     0.96552,     0.96552,     0.96552,     0.96552,     0.96552,     0.96552,     0.96552,     0.96552,     0.96552,     0.96552,     0.96552,     0.96552,\n",
              "            0.96552,     0.96552,     0.96552,     0.96552,     0.96552,     0.96552,     0.96552,     0.96552,     0.96552,     0.96552,     0.96552,     0.96552,     0.96552,     0.96552,     0.96552,     0.96552,     0.96552,     0.96552,     0.96552,     0.96552,     0.96552,     0.96552,     0.96552,\n",
              "            0.96552,     0.96552,     0.96552,     0.96552,     0.96552,     0.96552,     0.96552,     0.96552,     0.96552,     0.96552,     0.96552,     0.96552,     0.96552,     0.96552,     0.96552,     0.96552,     0.96552,     0.96552,     0.96552,     0.96552,     0.96552,     0.96552,     0.96552,\n",
              "            0.96552,     0.96552,     0.96552,     0.96552,     0.96552,     0.96552,     0.96552,     0.96552,     0.96552,     0.96552,     0.96552,     0.96552,     0.96552,     0.96552,     0.96552,     0.96552,     0.96552,     0.96552,     0.96552,     0.96552,     0.96552,     0.96552,     0.96552,\n",
              "            0.96552,     0.96552,     0.96552,     0.96552,     0.96552,     0.96552,     0.96552,     0.96552,     0.96552,     0.96552,     0.96552,     0.96552,     0.96552,     0.96552,     0.96552,     0.96552,     0.96552,     0.96552,     0.96552,     0.96552,     0.96552,     0.96552,     0.96552,\n",
              "            0.96552,     0.96552,     0.96552,     0.96552,     0.96552,     0.96552,     0.96552,     0.96552,     0.96552,     0.96552,     0.96552,     0.96552,     0.96552,     0.96552,     0.96552,     0.96552,     0.96552,     0.96552,     0.96552,     0.96552,     0.96552,     0.96552,     0.96552,\n",
              "            0.96552,     0.96552,     0.96552,     0.96552,     0.96552,     0.96552,     0.96552,     0.96552,     0.96552,     0.96552,     0.96552,     0.96552,     0.96552,     0.96552,     0.96552,     0.96552,     0.96552,     0.96552,     0.96552,     0.96552,     0.96552,     0.96552,     0.96552,\n",
              "            0.96552,     0.96552,     0.96552,     0.96552,     0.96552,     0.96552,     0.96552,     0.96552,     0.96552,     0.96552,     0.96552,     0.96552,     0.96552,     0.96552,     0.96552,     0.96552,     0.96552,     0.96552,     0.96552,     0.96552,     0.96552,     0.96552,     0.96552,\n",
              "            0.96552,     0.96552,     0.96552,     0.96552,     0.96552,     0.96552,     0.96552,     0.96552,     0.96552,     0.96552,     0.96552,     0.96552,     0.96552,     0.96552,     0.96552,     0.96552,     0.96552,     0.96552,     0.96552,     0.96552,     0.96552,     0.96552,     0.96552,\n",
              "            0.96552,     0.96552,     0.96552,     0.96552,     0.96552,     0.96552,     0.96552,     0.96552,     0.96552,     0.96552,     0.96552,     0.96552,     0.96552,     0.96552,     0.96552,     0.96552,     0.96552,     0.96552,     0.96552,     0.96552,     0.96552,     0.96552,     0.96552,\n",
              "            0.96552,     0.96552,     0.96552,     0.96552,     0.96552,     0.96552,     0.96552,     0.96552,     0.96552,     0.96552,     0.96552,     0.96552,     0.96552,     0.96552,     0.96552,     0.96552,     0.96552,     0.96552,     0.96552,     0.96552,     0.96552,     0.96552,     0.96552,\n",
              "            0.96552,     0.96552,     0.96552,     0.96552,     0.96552,     0.96552,     0.96552,     0.96552,     0.96552,     0.96552,     0.96552,     0.96552,     0.96552,     0.96552,     0.96552,     0.96552,     0.96552,     0.96552,     0.96552,     0.96552,     0.96552,     0.96552,     0.96552,\n",
              "            0.96552,     0.96552,     0.96552,     0.96552,     0.96552,     0.96552,     0.96552,     0.96552,     0.96552,     0.96552,     0.96552,     0.96552,     0.96552,     0.96552,     0.96552,     0.96552,     0.96552,     0.96552,     0.96552,     0.96552,     0.96552,     0.96552,     0.96552,\n",
              "            0.96552,     0.96552,     0.96552,     0.96552,     0.96545,     0.96511,     0.96476,     0.96441,     0.96407,     0.96372,     0.96337,     0.96303,     0.96268,     0.96234,     0.96199,     0.96164,      0.9613,     0.96095,      0.9606,     0.96026,     0.95991,     0.95956,     0.95922,\n",
              "            0.95887,     0.95852,     0.95818,     0.95783,     0.95748,     0.95714,     0.95679,     0.95644,      0.9561,     0.95575,      0.9554,     0.95506,     0.95471,     0.95437,     0.95402,     0.95367,     0.95333,     0.95298,     0.95263,     0.95229,     0.95194,     0.95159,     0.95125,\n",
              "             0.9509,     0.95055,     0.95021,     0.94986,     0.94951,     0.94917,     0.94882,     0.94847,     0.94823,     0.94813,     0.94803,     0.94793,     0.94782,     0.94772,     0.94762,     0.94752,     0.94742,     0.94732,     0.94721,     0.94711,     0.94701,     0.94691,     0.94681,\n",
              "             0.9467,      0.9466,      0.9465,      0.9464,      0.9463,      0.9462,     0.94609,     0.94599,     0.94589,     0.94579,     0.94569,     0.94558,     0.94548,     0.94538,     0.94528,     0.94518,     0.94507,     0.94497,     0.94487,     0.94477,     0.94467,     0.94457,     0.94446,\n",
              "            0.94436,     0.94426,     0.94416,     0.94406,     0.94395,     0.94385,     0.94375,     0.94365,     0.94355,     0.94344,     0.94334,     0.94324,     0.94314,     0.94304,     0.94294,     0.94283,     0.94273,     0.94263,     0.94253,     0.94243,     0.94232,     0.94222,     0.94212,\n",
              "            0.94202,     0.94192,     0.94182,     0.94171,     0.94161,     0.94151,     0.94141,     0.94131,      0.9412,      0.9411,       0.941,      0.9409,      0.9408,     0.94069,     0.94059,     0.94049,     0.94039,     0.94029,     0.94019,     0.94008,     0.93998,     0.93988,     0.93978,\n",
              "            0.93968,     0.93957,     0.93947,     0.93937,     0.93927,     0.93917,     0.93906,     0.93896,     0.93886,     0.93876,     0.93866,     0.93856,     0.93845,     0.93835,     0.93825,     0.93815,     0.93805,     0.93794,     0.93784,     0.93774,     0.93764,     0.93754,     0.93744,\n",
              "            0.93733,     0.93723,     0.93713,     0.93703,     0.93693,     0.93682,     0.93672,     0.93662,     0.93652,     0.93642,     0.93631,     0.93621,     0.93611,     0.93601,     0.93591,     0.93581,      0.9357,      0.9356,      0.9355,      0.9354,      0.9353,     0.93519,     0.93509,\n",
              "            0.93499,     0.93489,     0.93479,     0.93468,     0.93458,     0.93448,     0.93438,     0.93428,     0.93418,     0.93407,     0.93397,     0.93387,     0.93377,     0.93367,     0.93356,     0.93346,     0.93336,     0.93326,     0.93316,     0.93306,     0.93295,     0.93285,     0.93275,\n",
              "            0.93265,     0.93255,     0.93244,     0.93234,     0.93224,     0.93214,     0.93204,     0.93193,     0.93183,     0.93173,     0.93163,     0.93153,     0.93143,     0.93132,     0.93122,     0.93112,     0.93097,     0.93056,     0.93015,     0.92973,     0.92932,     0.92891,      0.9285,\n",
              "            0.92809,     0.92768,     0.92727,     0.92686,     0.92645,     0.92604,     0.92562,     0.92521,      0.9248,     0.92439,     0.92398,     0.92357,     0.92316,     0.92275,     0.92234,     0.92193,     0.92151,      0.9211,     0.92069,     0.92028,     0.91987,     0.91946,     0.91905,\n",
              "            0.91864,     0.91823,     0.91782,      0.9174,     0.91699,     0.91658,     0.91617,     0.91576,     0.91535,     0.91494,     0.91453,     0.91412,     0.91373,     0.91343,     0.91312,     0.91282,     0.91252,     0.91222,     0.91192,     0.91161,     0.91131,     0.91101,     0.91071,\n",
              "            0.91041,      0.9101,      0.9098,      0.9095,      0.9092,      0.9089,     0.90859,     0.90829,     0.90799,     0.90769,     0.90738,     0.90708,     0.90678,     0.90648,     0.90618,     0.90587,     0.90557,     0.90527,     0.90497,     0.90467,     0.90436,     0.90406,     0.90376,\n",
              "            0.90346,     0.90316,     0.90285,     0.90255,     0.90225,     0.90195,     0.90164,     0.90134,     0.90104,     0.90074,     0.90044,     0.90013,     0.89983,     0.89953,     0.89923,     0.89893,     0.89862,     0.89832,     0.89802,     0.89772,     0.89742,     0.89711,     0.89681,\n",
              "            0.89649,     0.89609,     0.89569,     0.89529,     0.89489,     0.89449,     0.89408,     0.89368,     0.89328,     0.89288,     0.89248,     0.89208,     0.89167,     0.89127,     0.89087,     0.89047,     0.89007,     0.88967,     0.88927,     0.88886,     0.88846,     0.88806,     0.88766,\n",
              "            0.88726,     0.88686,     0.88645,     0.88605,     0.88565,     0.88525,     0.88485,     0.88445,     0.88404,     0.88364,     0.88324,     0.88284,     0.88244,     0.88204,     0.88163,     0.88123,     0.88083,     0.88043,     0.88003,     0.87963,     0.87895,     0.87726,     0.87558,\n",
              "             0.8739,     0.87221,     0.87053,     0.86885,     0.86717,     0.86548,      0.8638,     0.86212,     0.85061,     0.84333,     0.84038,     0.83744,     0.83449,     0.83155,      0.8286,     0.81601,     0.79084,     0.77906,     0.76728,     0.75628,     0.74744,     0.73979,     0.73474,\n",
              "             0.7297,     0.72465,     0.72016,     0.71575,     0.71133,     0.70691,     0.69809,     0.68803,     0.65271,     0.64829,     0.64387,     0.63945,     0.63536,     0.63143,      0.6275,     0.62357,     0.61935,      0.6143,     0.60925,      0.6042,     0.59743,     0.59036,     0.58257,\n",
              "            0.57373,     0.55267,     0.51728,     0.46388,     0.46067,     0.45745,     0.45424,     0.45103,     0.42594,      0.4022,     0.38452,     0.34099,     0.32637,     0.32132,     0.31627,     0.31122,     0.28579,     0.27696,     0.19318,     0.16446,     0.15562,     0.12162,     0.11495,\n",
              "            0.10906,     0.10262,    0.085367,    0.073585,    0.067313,    0.064594,    0.061875,    0.059156,    0.056437,    0.053718,    0.050154,    0.044263,    0.038372,    0.033882,    0.032115,    0.030348,     0.02858,    0.026813,    0.025046,    0.023278,    0.021511,    0.019744,    0.017977,\n",
              "                  0,           0,           0,           0,           0,           0,           0,           0,           0,           0,           0,           0,           0,           0,           0,           0,           0,           0,           0,           0,           0,           0,           0,\n",
              "                  0,           0,           0,           0,           0,           0,           0,           0,           0,           0,           0,           0,           0,           0,           0,           0,           0,           0,           0,           0,           0,           0,           0,\n",
              "                  0,           0,           0,           0,           0,           0,           0,           0,           0,           0,           0]]), 'Confidence', 'Recall']]\n",
              "fitness: 0.8998474121323268\n",
              "keys: ['metrics/precision(B)', 'metrics/recall(B)', 'metrics/mAP50(B)', 'metrics/mAP50-95(B)']\n",
              "maps: array([    0.88944])\n",
              "names: {0: 'car_plate'}\n",
              "plot: True\n",
              "results_dict: {'metrics/precision(B)': 0.9976283433885773, 'metrics/recall(B)': 0.9655172413793104, 'metrics/mAP50(B)': 0.9935245901639346, 'metrics/mAP50-95(B)': 0.8894388367954814, 'fitness': 0.8998474121323268}\n",
              "save_dir: PosixPath('runs/detect/train')\n",
              "speed: {'preprocess': 0.25428192956107004, 'inference': 2.5861178125653947, 'loss': 0.0006173338208879743, 'postprocess': 2.562765564237322}\n",
              "task: 'detect'"
            ]
          },
          "execution_count": 17,
          "metadata": {},
          "output_type": "execute_result"
        }
      ],
      "source": [
        "# !pip install ultralytics\n",
        "from ultralytics import YOLO\n",
        "\n",
        "YOLO_V8N = \"./model/base/yolov8n.pt\"  # the model to train customized model\n",
        "\n",
        "# Define model object from default v8n model\n",
        "car_plate_model = YOLO(YOLO_V8N)\n",
        "car_plate_model.train(data=YAML_PATH)    # Train Yolo model, using mps"
      ]
    },
    {
      "cell_type": "markdown",
      "metadata": {},
      "source": [
        "---"
      ]
    },
    {
      "cell_type": "markdown",
      "id": "ba610b66",
      "metadata": {
        "id": "ba610b66"
      },
      "source": [
        "## Predict using Custom YOLO Model\n"
      ]
    },
    {
      "cell_type": "code",
      "execution_count": 8,
      "id": "3abc0dc0",
      "metadata": {
        "colab": {
          "base_uri": "https://localhost:8080/"
        },
        "id": "3abc0dc0",
        "outputId": "12b734ce-e319-4fc8-826c-ce86caea8bd8"
      },
      "outputs": [
        {
          "name": "stdout",
          "output_type": "stream",
          "text": [
            "\n",
            "image 1/56 /content/drive/MyDrive/ML_Ass10/datasets/pred/images/Audi A3 Convertible with license plate_57.jpeg: 448x640 1 car_plate, 423.6ms\n",
            "image 2/56 /content/drive/MyDrive/ML_Ass10/datasets/pred/images/Audi A3 Convertible with license plate_6.jpeg: 480x640 1 car_plate, 293.2ms\n",
            "image 3/56 /content/drive/MyDrive/ML_Ass10/datasets/pred/images/Audi A4 with license plate_68.jpeg: 448x640 1 car_plate, 201.0ms\n",
            "image 4/56 /content/drive/MyDrive/ML_Ass10/datasets/pred/images/Audi A5 with license plate_38.jpeg: 384x640 1 car_plate, 151.4ms\n",
            "image 5/56 /content/drive/MyDrive/ML_Ass10/datasets/pred/images/Audi Q7 with license plate_16.jpeg: 480x640 1 car_plate, 181.7ms\n",
            "image 6/56 /content/drive/MyDrive/ML_Ass10/datasets/pred/images/Audi Q7 with license plate_50.jpeg: 480x640 1 car_plate, 178.0ms\n",
            "image 7/56 /content/drive/MyDrive/ML_Ass10/datasets/pred/images/BMW with license plate_35.jpeg: 480x640 1 car_plate, 189.2ms\n",
            "image 8/56 /content/drive/MyDrive/ML_Ass10/datasets/pred/images/Chevrolet Corvette with license plate_6.jpeg: 384x640 1 car_plate, 168.1ms\n",
            "image 9/56 /content/drive/MyDrive/ML_Ass10/datasets/pred/images/Chevrolet Malibu with license plate_7.jpeg: 384x640 1 car_plate, 154.7ms\n",
            "image 10/56 /content/drive/MyDrive/ML_Ass10/datasets/pred/images/Corvette with license plate_10.jpeg: 416x640 1 car_plate, 208.6ms\n",
            "image 11/56 /content/drive/MyDrive/ML_Ass10/datasets/pred/images/Corvette with license plate_11.jpeg: 384x640 1 car_plate, 150.3ms\n",
            "image 12/56 /content/drive/MyDrive/ML_Ass10/datasets/pred/images/Corvette with license plate_34.jpeg: 448x640 1 car_plate, 175.8ms\n",
            "image 13/56 /content/drive/MyDrive/ML_Ass10/datasets/pred/images/Corvette with license plate_9.jpeg: 448x640 1 car_plate, 182.8ms\n",
            "image 14/56 /content/drive/MyDrive/ML_Ass10/datasets/pred/images/Ford Escort with license plate_14.jpeg: 416x640 1 car_plate, 159.5ms\n",
            "image 15/56 /content/drive/MyDrive/ML_Ass10/datasets/pred/images/Ford Escort with license plate_17.jpeg: 480x640 1 car_plate, 186.0ms\n",
            "image 16/56 /content/drive/MyDrive/ML_Ass10/datasets/pred/images/Ford Escort with license plate_24.jpeg: 416x640 1 car_plate, 154.0ms\n",
            "image 17/56 /content/drive/MyDrive/ML_Ass10/datasets/pred/images/Ford Escort with license plate_36.jpeg: 512x640 1 car_plate, 192.3ms\n",
            "image 18/56 /content/drive/MyDrive/ML_Ass10/datasets/pred/images/Ford Escort with license plate_4.jpeg: 384x640 1 car_plate, 152.4ms\n",
            "image 19/56 /content/drive/MyDrive/ML_Ass10/datasets/pred/images/Ford Escort with license plate_40.jpeg: 448x640 1 car_plate, 174.8ms\n",
            "image 20/56 /content/drive/MyDrive/ML_Ass10/datasets/pred/images/Ford F-Series with license plate_20.jpeg: 480x640 1 car_plate, 265.9ms\n",
            "image 21/56 /content/drive/MyDrive/ML_Ass10/datasets/pred/images/Ford F-Series with license plate_56.jpeg: 480x640 1 car_plate, 271.0ms\n",
            "image 22/56 /content/drive/MyDrive/ML_Ass10/datasets/pred/images/Ford Fiesta with license plate_22.jpeg: 480x640 1 car_plate, 319.6ms\n",
            "image 23/56 /content/drive/MyDrive/ML_Ass10/datasets/pred/images/Ford Fiesta with license plate_58.jpeg: 384x640 1 car_plate, 248.4ms\n",
            "image 24/56 /content/drive/MyDrive/ML_Ass10/datasets/pred/images/Ford Mustang with license plate_17.jpeg: 384x640 1 car_plate, 201.4ms\n",
            "image 25/56 /content/drive/MyDrive/ML_Ass10/datasets/pred/images/Honda Accord with license plate_15.jpeg: 384x640 2 car_plates, 254.7ms\n",
            "image 26/56 /content/drive/MyDrive/ML_Ass10/datasets/pred/images/Honda Civic with license plate_22.jpeg: 416x640 1 car_plate, 241.5ms\n",
            "image 27/56 /content/drive/MyDrive/ML_Ass10/datasets/pred/images/Honda Civic with license plate_24.jpeg: 640x480 1 car_plate, 270.2ms\n",
            "image 28/56 /content/drive/MyDrive/ML_Ass10/datasets/pred/images/Honda Pilot with license plate_62.jpeg: 448x640 1 car_plate, 168.5ms\n",
            "image 29/56 /content/drive/MyDrive/ML_Ass10/datasets/pred/images/Hyundai Accent with license plate_59.jpeg: 480x640 1 car_plate, 160.2ms\n",
            "image 30/56 /content/drive/MyDrive/ML_Ass10/datasets/pred/images/Hyundai Kona with license plate_54.jpeg: 480x640 1 car_plate, 180.6ms\n",
            "image 31/56 /content/drive/MyDrive/ML_Ass10/datasets/pred/images/Hyundai Santa Cruz with license plate_64.jpeg: 352x640 1 car_plate, 138.3ms\n",
            "image 32/56 /content/drive/MyDrive/ML_Ass10/datasets/pred/images/Jeep Avenger with license plate_25.jpeg: 224x640 2 car_plates, 106.2ms\n",
            "image 33/56 /content/drive/MyDrive/ML_Ass10/datasets/pred/images/Jeep Gladiator with license plate_20.jpeg: 480x640 (no detections), 174.0ms\n",
            "image 34/56 /content/drive/MyDrive/ML_Ass10/datasets/pred/images/Jeep Grand Cherokee with license plate_10.jpeg: 384x640 1 car_plate, 143.1ms\n",
            "image 35/56 /content/drive/MyDrive/ML_Ass10/datasets/pred/images/Jeep Grand Cherokee with license plate_6.jpeg: 480x640 1 car_plate, 172.1ms\n",
            "image 36/56 /content/drive/MyDrive/ML_Ass10/datasets/pred/images/Tesla Model Y with license plate_15.jpeg: 640x640 1 car_plate, 234.3ms\n",
            "image 37/56 /content/drive/MyDrive/ML_Ass10/datasets/pred/images/Toyota Camry with license plate_47.jpeg: 416x640 1 car_plate, 148.6ms\n",
            "image 38/56 /content/drive/MyDrive/ML_Ass10/datasets/pred/images/Toyota Corolla with license plate_40.jpeg: 352x640 1 car_plate, 129.4ms\n",
            "image 39/56 /content/drive/MyDrive/ML_Ass10/datasets/pred/images/Toyota Highlander with license plate_59.jpeg: 640x480 1 car_plate, 173.0ms\n",
            "image 40/56 /content/drive/MyDrive/ML_Ass10/datasets/pred/images/Toyota RAV4 with license plate_4.jpeg: 384x640 1 car_plate, 148.6ms\n",
            "image 41/56 /content/drive/MyDrive/ML_Ass10/datasets/pred/images/Toyota Tacoma with license plate_25.jpeg: 448x640 1 car_plate, 155.0ms\n",
            "image 42/56 /content/drive/MyDrive/ML_Ass10/datasets/pred/images/Toyota Tacoma with license plate_26.jpeg: 480x640 1 car_plate, 175.3ms\n",
            "image 43/56 /content/drive/MyDrive/ML_Ass10/datasets/pred/images/Volkswagen Beetle with license plate_11.jpeg: 448x640 1 car_plate, 171.1ms\n",
            "image 44/56 /content/drive/MyDrive/ML_Ass10/datasets/pred/images/Volkswagen Beetle with license plate_39.jpeg: 480x640 1 car_plate, 162.6ms\n",
            "image 45/56 /content/drive/MyDrive/ML_Ass10/datasets/pred/images/Volkswagen Beetle with license plate_7.jpeg: 512x640 1 car_plate, 190.2ms\n",
            "image 46/56 /content/drive/MyDrive/ML_Ass10/datasets/pred/images/Volkswagen Golf with license plate_56.jpeg: 416x640 1 car_plate, 235.2ms\n",
            "image 47/56 /content/drive/MyDrive/ML_Ass10/datasets/pred/images/Volkswagen Passat with license plate_31.jpeg: 480x640 1 car_plate, 305.5ms\n",
            "image 48/56 /content/drive/MyDrive/ML_Ass10/datasets/pred/images/Volkswagen Passat with license plate_61.jpeg: 480x640 1 car_plate, 250.9ms\n",
            "image 49/56 /content/drive/MyDrive/ML_Ass10/datasets/pred/images/Volkswagen Passat with license plate_7.jpeg: 480x640 1 car_plate, 281.1ms\n",
            "image 50/56 /content/drive/MyDrive/ML_Ass10/datasets/pred/images/Volkswagen Tiguan with license plate_43.jpeg: 480x640 1 car_plate, 271.9ms\n",
            "image 51/56 /content/drive/MyDrive/ML_Ass10/datasets/pred/images/car with license plate_64.jpeg: 384x640 1 car_plate, 208.8ms\n",
            "image 52/56 /content/drive/MyDrive/ML_Ass10/datasets/pred/images/tesla model 3 with license plate_5.jpeg: 448x640 1 car_plate, 260.6ms\n",
            "image 53/56 /content/drive/MyDrive/ML_Ass10/datasets/pred/images/tesla model 3 with license plate_9.jpeg: 640x640 1 car_plate, 336.9ms\n",
            "image 54/56 /content/drive/MyDrive/ML_Ass10/datasets/pred/images/vehicle with license plate_10.jpeg: 512x640 1 car_plate, 300.6ms\n",
            "image 55/56 /content/drive/MyDrive/ML_Ass10/datasets/pred/images/vehicle with license plate_29.jpeg: 384x640 1 car_plate, 191.9ms\n",
            "image 56/56 /content/drive/MyDrive/ML_Ass10/datasets/pred/images/vehicle with license plate_30.jpeg: 480x640 1 car_plate, 196.0ms\n",
            "Speed: 4.4ms preprocess, 205.7ms inference, 1.9ms postprocess per image at shape (1, 3, 480, 640)\n",
            "Results saved to \u001b[1mruns/detect/predict\u001b[0m\n"
          ]
        },
        {
          "data": {
            "text/plain": [
              "[ultralytics.engine.results.Results object with attributes:\n",
              " \n",
              " boxes: ultralytics.engine.results.Boxes object\n",
              " keypoints: None\n",
              " masks: None\n",
              " names: {0: 'car_plate'}\n",
              " orig_img: array([[[254, 236, 219],\n",
              "         [254, 236, 219],\n",
              "         [254, 236, 219],\n",
              "         ...,\n",
              "         [ 55,  85, 102],\n",
              "         [ 53,  82,  97],\n",
              "         [ 51,  78,  92]],\n",
              " \n",
              "        [[254, 236, 219],\n",
              "         [254, 236, 219],\n",
              "         [254, 236, 219],\n",
              "         ...,\n",
              "         [ 46,  74,  85],\n",
              "         [ 41,  67,  79],\n",
              "         [ 39,  63,  75]],\n",
              " \n",
              "        [[254, 236, 219],\n",
              "         [254, 236, 219],\n",
              "         [254, 236, 219],\n",
              "         ...,\n",
              "         [ 38,  63,  73],\n",
              "         [ 37,  62,  72],\n",
              "         [ 42,  66,  78]],\n",
              " \n",
              "        ...,\n",
              " \n",
              "        [[ 80, 104, 124],\n",
              "         [ 81, 106, 126],\n",
              "         [ 81, 108, 128],\n",
              "         ...,\n",
              "         [126, 132, 131],\n",
              "         [126, 132, 131],\n",
              "         [126, 132, 131]],\n",
              " \n",
              "        [[ 86, 108, 126],\n",
              "         [ 84, 106, 124],\n",
              "         [ 82, 106, 124],\n",
              "         ...,\n",
              "         [125, 131, 130],\n",
              "         [125, 131, 130],\n",
              "         [126, 132, 131]],\n",
              " \n",
              "        [[ 80, 106, 122],\n",
              "         [ 80, 106, 122],\n",
              "         [ 79, 105, 122],\n",
              "         ...,\n",
              "         [112, 118, 117],\n",
              "         [110, 116, 115],\n",
              "         [110, 116, 115]]], dtype=uint8)\n",
              " orig_shape: (480, 720)\n",
              " path: '/content/drive/MyDrive/ML_Ass10/datasets/pred/images/Audi A3 Convertible with license plate_57.jpeg'\n",
              " probs: None\n",
              " save_dir: 'runs/detect/predict'\n",
              " speed: {'preprocess': 26.21912956237793, 'inference': 423.6443042755127, 'postprocess': 36.099910736083984},\n",
              " ultralytics.engine.results.Results object with attributes:\n",
              " \n",
              " boxes: ultralytics.engine.results.Boxes object\n",
              " keypoints: None\n",
              " masks: None\n",
              " names: {0: 'car_plate'}\n",
              " orig_img: array([[[65, 59, 52],\n",
              "         [65, 59, 52],\n",
              "         [65, 59, 52],\n",
              "         ...,\n",
              "         [47, 46, 48],\n",
              "         [46, 45, 47],\n",
              "         [44, 43, 45]],\n",
              " \n",
              "        [[60, 54, 47],\n",
              "         [60, 54, 47],\n",
              "         [60, 54, 47],\n",
              "         ...,\n",
              "         [47, 46, 48],\n",
              "         [46, 45, 47],\n",
              "         [44, 43, 45]],\n",
              " \n",
              "        [[58, 52, 45],\n",
              "         [58, 52, 45],\n",
              "         [58, 52, 45],\n",
              "         ...,\n",
              "         [47, 46, 48],\n",
              "         [46, 45, 47],\n",
              "         [44, 43, 45]],\n",
              " \n",
              "        ...,\n",
              " \n",
              "        [[51, 51, 51],\n",
              "         [51, 51, 51],\n",
              "         [51, 51, 51],\n",
              "         ...,\n",
              "         [34, 34, 34],\n",
              "         [34, 34, 34],\n",
              "         [34, 34, 34]],\n",
              " \n",
              "        [[52, 52, 52],\n",
              "         [52, 52, 52],\n",
              "         [52, 52, 52],\n",
              "         ...,\n",
              "         [34, 34, 34],\n",
              "         [34, 34, 34],\n",
              "         [34, 34, 34]],\n",
              " \n",
              "        [[53, 53, 53],\n",
              "         [53, 53, 53],\n",
              "         [53, 53, 53],\n",
              "         ...,\n",
              "         [34, 34, 34],\n",
              "         [34, 34, 34],\n",
              "         [34, 34, 34]]], dtype=uint8)\n",
              " orig_shape: (1200, 1600)\n",
              " path: '/content/drive/MyDrive/ML_Ass10/datasets/pred/images/Audi A3 Convertible with license plate_6.jpeg'\n",
              " probs: None\n",
              " save_dir: 'runs/detect/predict'\n",
              " speed: {'preprocess': 7.499456405639648, 'inference': 293.2441234588623, 'postprocess': 1.4390945434570312},\n",
              " ultralytics.engine.results.Results object with attributes:\n",
              " \n",
              " boxes: ultralytics.engine.results.Boxes object\n",
              " keypoints: None\n",
              " masks: None\n",
              " names: {0: 'car_plate'}\n",
              " orig_img: array([[[255, 255, 255],\n",
              "         [255, 255, 255],\n",
              "         [255, 255, 255],\n",
              "         ...,\n",
              "         [255, 255, 255],\n",
              "         [255, 255, 255],\n",
              "         [255, 255, 255]],\n",
              " \n",
              "        [[255, 255, 255],\n",
              "         [255, 255, 255],\n",
              "         [255, 255, 255],\n",
              "         ...,\n",
              "         [255, 255, 255],\n",
              "         [255, 255, 255],\n",
              "         [255, 255, 255]],\n",
              " \n",
              "        [[255, 255, 255],\n",
              "         [255, 255, 255],\n",
              "         [255, 255, 255],\n",
              "         ...,\n",
              "         [255, 255, 255],\n",
              "         [255, 255, 255],\n",
              "         [255, 255, 255]],\n",
              " \n",
              "        ...,\n",
              " \n",
              "        [[255, 255, 255],\n",
              "         [255, 255, 255],\n",
              "         [255, 255, 255],\n",
              "         ...,\n",
              "         [255, 255, 255],\n",
              "         [255, 255, 255],\n",
              "         [255, 255, 255]],\n",
              " \n",
              "        [[255, 255, 255],\n",
              "         [255, 255, 255],\n",
              "         [255, 255, 255],\n",
              "         ...,\n",
              "         [255, 255, 255],\n",
              "         [255, 255, 255],\n",
              "         [255, 255, 255]],\n",
              " \n",
              "        [[255, 255, 255],\n",
              "         [255, 255, 255],\n",
              "         [255, 255, 255],\n",
              "         ...,\n",
              "         [255, 255, 255],\n",
              "         [255, 255, 255],\n",
              "         [255, 255, 255]]], dtype=uint8)\n",
              " orig_shape: (333, 500)\n",
              " path: '/content/drive/MyDrive/ML_Ass10/datasets/pred/images/Audi A4 with license plate_68.jpeg'\n",
              " probs: None\n",
              " save_dir: 'runs/detect/predict'\n",
              " speed: {'preprocess': 3.340482711791992, 'inference': 201.00975036621094, 'postprocess': 0.9851455688476562},\n",
              " ultralytics.engine.results.Results object with attributes:\n",
              " \n",
              " boxes: ultralytics.engine.results.Boxes object\n",
              " keypoints: None\n",
              " masks: None\n",
              " names: {0: 'car_plate'}\n",
              " orig_img: array([[[ 74,  48,  36],\n",
              "         [ 74,  48,  36],\n",
              "         [ 74,  48,  36],\n",
              "         ...,\n",
              "         [120, 104,  97],\n",
              "         [120, 104,  97],\n",
              "         [121, 105,  98]],\n",
              " \n",
              "        [[ 74,  48,  36],\n",
              "         [ 74,  48,  36],\n",
              "         [ 74,  48,  36],\n",
              "         ...,\n",
              "         [121, 105,  98],\n",
              "         [121, 105,  98],\n",
              "         [121, 105,  98]],\n",
              " \n",
              "        [[ 74,  48,  36],\n",
              "         [ 74,  48,  36],\n",
              "         [ 74,  48,  36],\n",
              "         ...,\n",
              "         [122, 106,  99],\n",
              "         [122, 106,  99],\n",
              "         [121, 105,  98]],\n",
              " \n",
              "        ...,\n",
              " \n",
              "        [[ 12,  15,  19],\n",
              "         [ 10,  13,  17],\n",
              "         [ 13,  16,  20],\n",
              "         ...,\n",
              "         [ 65,  73,  80],\n",
              "         [ 42,  50,  57],\n",
              "         [ 44,  52,  59]],\n",
              " \n",
              "        [[ 17,  20,  24],\n",
              "         [ 12,  15,  19],\n",
              "         [ 12,  15,  19],\n",
              "         ...,\n",
              "         [ 71,  79,  86],\n",
              "         [ 51,  59,  66],\n",
              "         [ 46,  54,  61]],\n",
              " \n",
              "        [[ 17,  20,  24],\n",
              "         [ 12,  15,  19],\n",
              "         [ 11,  14,  18],\n",
              "         ...,\n",
              "         [ 73,  81,  88],\n",
              "         [ 59,  67,  74],\n",
              "         [ 52,  60,  67]]], dtype=uint8)\n",
              " orig_shape: (959, 1600)\n",
              " path: '/content/drive/MyDrive/ML_Ass10/datasets/pred/images/Audi A5 with license plate_38.jpeg'\n",
              " probs: None\n",
              " save_dir: 'runs/detect/predict'\n",
              " speed: {'preprocess': 4.945993423461914, 'inference': 151.3841152191162, 'postprocess': 0.9815692901611328},\n",
              " ultralytics.engine.results.Results object with attributes:\n",
              " \n",
              " boxes: ultralytics.engine.results.Boxes object\n",
              " keypoints: None\n",
              " masks: None\n",
              " names: {0: 'car_plate'}\n",
              " orig_img: array([[[229, 241, 243],\n",
              "         [229, 241, 243],\n",
              "         [229, 241, 243],\n",
              "         ...,\n",
              "         [ 81,  88,  85],\n",
              "         [ 79,  89,  83],\n",
              "         [ 78,  88,  82]],\n",
              " \n",
              "        [[229, 241, 243],\n",
              "         [229, 241, 243],\n",
              "         [229, 241, 243],\n",
              "         ...,\n",
              "         [ 81,  88,  85],\n",
              "         [ 80,  90,  84],\n",
              "         [ 80,  90,  84]],\n",
              " \n",
              "        [[230, 242, 244],\n",
              "         [229, 241, 243],\n",
              "         [229, 241, 243],\n",
              "         ...,\n",
              "         [ 82,  89,  86],\n",
              "         [ 80,  90,  84],\n",
              "         [ 79,  89,  83]],\n",
              " \n",
              "        ...,\n",
              " \n",
              "        [[ 82,  94,  94],\n",
              "         [ 81,  93,  93],\n",
              "         [ 80,  92,  92],\n",
              "         ...,\n",
              "         [ 32,  33,  54],\n",
              "         [ 33,  34,  55],\n",
              "         [ 33,  34,  55]],\n",
              " \n",
              "        [[ 74,  86,  86],\n",
              "         [ 71,  83,  83],\n",
              "         [ 66,  78,  78],\n",
              "         ...,\n",
              "         [ 32,  33,  54],\n",
              "         [ 32,  33,  54],\n",
              "         [ 31,  32,  53]],\n",
              " \n",
              "        [[ 65,  79,  77],\n",
              "         [ 63,  77,  75],\n",
              "         [ 60,  74,  72],\n",
              "         ...,\n",
              "         [ 32,  33,  54],\n",
              "         [ 32,  33,  54],\n",
              "         [ 32,  33,  54]]], dtype=uint8)\n",
              " orig_shape: (1920, 2560)\n",
              " path: '/content/drive/MyDrive/ML_Ass10/datasets/pred/images/Audi Q7 with license plate_16.jpeg'\n",
              " probs: None\n",
              " save_dir: 'runs/detect/predict'\n",
              " speed: {'preprocess': 7.143735885620117, 'inference': 181.74004554748535, 'postprocess': 1.0929107666015625},\n",
              " ultralytics.engine.results.Results object with attributes:\n",
              " \n",
              " boxes: ultralytics.engine.results.Boxes object\n",
              " keypoints: None\n",
              " masks: None\n",
              " names: {0: 'car_plate'}\n",
              " orig_img: array([[[ 2,  2,  2],\n",
              "         [ 2,  2,  2],\n",
              "         [ 2,  2,  2],\n",
              "         ...,\n",
              "         [15, 24, 28],\n",
              "         [15, 22, 25],\n",
              "         [11, 18, 21]],\n",
              " \n",
              "        [[ 2,  2,  2],\n",
              "         [ 2,  2,  2],\n",
              "         [ 2,  2,  2],\n",
              "         ...,\n",
              "         [14, 23, 27],\n",
              "         [15, 22, 25],\n",
              "         [12, 19, 22]],\n",
              " \n",
              "        [[ 2,  2,  2],\n",
              "         [ 2,  2,  2],\n",
              "         [ 2,  2,  2],\n",
              "         ...,\n",
              "         [13, 22, 26],\n",
              "         [15, 22, 25],\n",
              "         [14, 21, 24]],\n",
              " \n",
              "        ...,\n",
              " \n",
              "        [[38, 35, 31],\n",
              "         [38, 35, 31],\n",
              "         [38, 35, 31],\n",
              "         ...,\n",
              "         [39, 40, 38],\n",
              "         [38, 39, 37],\n",
              "         [38, 39, 37]],\n",
              " \n",
              "        [[40, 37, 33],\n",
              "         [40, 37, 33],\n",
              "         [40, 37, 33],\n",
              "         ...,\n",
              "         [38, 39, 37],\n",
              "         [35, 36, 34],\n",
              "         [33, 34, 32]],\n",
              " \n",
              "        [[40, 37, 33],\n",
              "         [40, 37, 33],\n",
              "         [40, 37, 33],\n",
              "         ...,\n",
              "         [36, 37, 35],\n",
              "         [33, 34, 32],\n",
              "         [31, 32, 30]]], dtype=uint8)\n",
              " orig_shape: (2978, 3971)\n",
              " path: '/content/drive/MyDrive/ML_Ass10/datasets/pred/images/Audi Q7 with license plate_50.jpeg'\n",
              " probs: None\n",
              " save_dir: 'runs/detect/predict'\n",
              " speed: {'preprocess': 4.009008407592773, 'inference': 177.95062065124512, 'postprocess': 0.9307861328125},\n",
              " ultralytics.engine.results.Results object with attributes:\n",
              " \n",
              " boxes: ultralytics.engine.results.Boxes object\n",
              " keypoints: None\n",
              " masks: None\n",
              " names: {0: 'car_plate'}\n",
              " orig_img: array([[[255, 255, 255],\n",
              "         [255, 255, 255],\n",
              "         [255, 255, 255],\n",
              "         ...,\n",
              "         [254, 255, 253],\n",
              "         [254, 255, 253],\n",
              "         [254, 255, 253]],\n",
              " \n",
              "        [[255, 255, 255],\n",
              "         [255, 255, 255],\n",
              "         [255, 255, 255],\n",
              "         ...,\n",
              "         [254, 255, 253],\n",
              "         [254, 255, 253],\n",
              "         [254, 255, 253]],\n",
              " \n",
              "        [[255, 255, 255],\n",
              "         [255, 255, 255],\n",
              "         [255, 255, 255],\n",
              "         ...,\n",
              "         [254, 255, 253],\n",
              "         [254, 255, 253],\n",
              "         [254, 255, 253]],\n",
              " \n",
              "        ...,\n",
              " \n",
              "        [[191, 177, 188],\n",
              "         [179, 165, 176],\n",
              "         [167, 154, 162],\n",
              "         ...,\n",
              "         [172, 178, 183],\n",
              "         [182, 188, 193],\n",
              "         [198, 204, 209]],\n",
              " \n",
              "        [[207, 194, 202],\n",
              "         [205, 192, 200],\n",
              "         [204, 191, 199],\n",
              "         ...,\n",
              "         [176, 182, 187],\n",
              "         [174, 180, 185],\n",
              "         [198, 204, 209]],\n",
              " \n",
              "        [[213, 200, 208],\n",
              "         [218, 205, 213],\n",
              "         [224, 211, 219],\n",
              "         ...,\n",
              "         [173, 179, 184],\n",
              "         [164, 170, 175],\n",
              "         [190, 196, 201]]], dtype=uint8)\n",
              " orig_shape: (3024, 4032)\n",
              " path: '/content/drive/MyDrive/ML_Ass10/datasets/pred/images/BMW with license plate_35.jpeg'\n",
              " probs: None\n",
              " save_dir: 'runs/detect/predict'\n",
              " speed: {'preprocess': 7.214069366455078, 'inference': 189.16606903076172, 'postprocess': 2.093076705932617},\n",
              " ultralytics.engine.results.Results object with attributes:\n",
              " \n",
              " boxes: ultralytics.engine.results.Boxes object\n",
              " keypoints: None\n",
              " masks: None\n",
              " names: {0: 'car_plate'}\n",
              " orig_img: array([[[ 59, 106,  80],\n",
              "         [ 58, 106,  78],\n",
              "         [ 83, 127,  98],\n",
              "         ...,\n",
              "         [ 28,  66,  54],\n",
              "         [ 24,  64,  52],\n",
              "         [ 15,  58,  45]],\n",
              " \n",
              "        [[ 68, 116,  92],\n",
              "         [ 61, 109,  83],\n",
              "         [ 69, 117,  89],\n",
              "         ...,\n",
              "         [ 30,  65,  51],\n",
              "         [ 22,  61,  46],\n",
              "         [  9,  50,  35]],\n",
              " \n",
              "        [[ 55, 107,  84],\n",
              "         [ 48, 100,  77],\n",
              "         [ 45,  97,  73],\n",
              "         ...,\n",
              "         [ 34,  66,  49],\n",
              "         [ 34,  68,  51],\n",
              "         [ 27,  63,  46]],\n",
              " \n",
              "        ...,\n",
              " \n",
              "        [[126, 102,  84],\n",
              "         [127, 103,  85],\n",
              "         [125, 101,  83],\n",
              "         ...,\n",
              "         [222, 225, 230],\n",
              "         [219, 222, 227],\n",
              "         [236, 239, 244]],\n",
              " \n",
              "        [[136, 112,  94],\n",
              "         [134, 110,  92],\n",
              "         [129, 105,  87],\n",
              "         ...,\n",
              "         [219, 222, 227],\n",
              "         [207, 210, 215],\n",
              "         [241, 244, 249]],\n",
              " \n",
              "        [[131, 107,  89],\n",
              "         [127, 103,  85],\n",
              "         [120,  96,  78],\n",
              "         ...,\n",
              "         [209, 212, 217],\n",
              "         [192, 195, 200],\n",
              "         [229, 232, 237]]], dtype=uint8)\n",
              " orig_shape: (576, 1024)\n",
              " path: '/content/drive/MyDrive/ML_Ass10/datasets/pred/images/Chevrolet Corvette with license plate_6.jpeg'\n",
              " probs: None\n",
              " save_dir: 'runs/detect/predict'\n",
              " speed: {'preprocess': 2.8285980224609375, 'inference': 168.05529594421387, 'postprocess': 1.1723041534423828},\n",
              " ultralytics.engine.results.Results object with attributes:\n",
              " \n",
              " boxes: ultralytics.engine.results.Boxes object\n",
              " keypoints: None\n",
              " masks: None\n",
              " names: {0: 'car_plate'}\n",
              " orig_img: array([[[206, 203, 205],\n",
              "         [207, 204, 206],\n",
              "         [208, 205, 207],\n",
              "         ...,\n",
              "         [254, 236, 219],\n",
              "         [254, 236, 219],\n",
              "         [254, 236, 219]],\n",
              " \n",
              "        [[208, 205, 207],\n",
              "         [208, 205, 207],\n",
              "         [208, 205, 207],\n",
              "         ...,\n",
              "         [254, 236, 219],\n",
              "         [254, 236, 219],\n",
              "         [254, 236, 219]],\n",
              " \n",
              "        [[205, 200, 201],\n",
              "         [205, 200, 201],\n",
              "         [205, 200, 201],\n",
              "         ...,\n",
              "         [254, 236, 219],\n",
              "         [254, 236, 219],\n",
              "         [254, 236, 219]],\n",
              " \n",
              "        ...,\n",
              " \n",
              "        [[255, 255, 255],\n",
              "         [255, 255, 255],\n",
              "         [255, 255, 255],\n",
              "         ...,\n",
              "         [167, 179, 179],\n",
              "         [157, 169, 169],\n",
              "         [149, 163, 162]],\n",
              " \n",
              "        [[255, 255, 255],\n",
              "         [255, 255, 255],\n",
              "         [255, 255, 255],\n",
              "         ...,\n",
              "         [189, 203, 202],\n",
              "         [187, 201, 200],\n",
              "         [184, 200, 199]],\n",
              " \n",
              "        [[255, 255, 255],\n",
              "         [255, 255, 255],\n",
              "         [255, 255, 255],\n",
              "         ...,\n",
              "         [189, 203, 202],\n",
              "         [193, 209, 208],\n",
              "         [198, 214, 213]]], dtype=uint8)\n",
              " orig_shape: (720, 1280)\n",
              " path: '/content/drive/MyDrive/ML_Ass10/datasets/pred/images/Chevrolet Malibu with license plate_7.jpeg'\n",
              " probs: None\n",
              " save_dir: 'runs/detect/predict'\n",
              " speed: {'preprocess': 2.6845932006835938, 'inference': 154.68502044677734, 'postprocess': 0.9436607360839844},\n",
              " ultralytics.engine.results.Results object with attributes:\n",
              " \n",
              " boxes: ultralytics.engine.results.Boxes object\n",
              " keypoints: None\n",
              " masks: None\n",
              " names: {0: 'car_plate'}\n",
              " orig_img: array([[[217, 201, 195],\n",
              "         [216, 200, 194],\n",
              "         [218, 199, 194],\n",
              "         ...,\n",
              "         [149, 134, 125],\n",
              "         [146, 134, 124],\n",
              "         [144, 132, 122]],\n",
              " \n",
              "        [[222, 206, 199],\n",
              "         [222, 206, 199],\n",
              "         [223, 205, 198],\n",
              "         ...,\n",
              "         [147, 135, 125],\n",
              "         [147, 135, 125],\n",
              "         [146, 134, 124]],\n",
              " \n",
              "        [[225, 210, 201],\n",
              "         [225, 210, 201],\n",
              "         [224, 209, 200],\n",
              "         ...,\n",
              "         [147, 135, 125],\n",
              "         [147, 135, 125],\n",
              "         [145, 135, 125]],\n",
              " \n",
              "        ...,\n",
              " \n",
              "        [[127, 187, 169],\n",
              "         [104, 164, 146],\n",
              "         [ 87, 144, 129],\n",
              "         ...,\n",
              "         [ 22,  60,  54],\n",
              "         [ 35,  73,  67],\n",
              "         [ 51,  89,  83]],\n",
              " \n",
              "        [[123, 176, 162],\n",
              "         [ 67, 120, 106],\n",
              "         [ 54, 107,  94],\n",
              "         ...,\n",
              "         [ 42,  81,  79],\n",
              "         [ 67, 106, 104],\n",
              "         [ 70, 109, 107]],\n",
              " \n",
              "        [[114, 163, 149],\n",
              "         [ 81, 130, 116],\n",
              "         [ 97, 147, 135],\n",
              "         ...,\n",
              "         [ 68, 106, 106],\n",
              "         [ 95, 133, 133],\n",
              "         [ 77, 115, 115]]], dtype=uint8)\n",
              " orig_shape: (430, 700)\n",
              " path: '/content/drive/MyDrive/ML_Ass10/datasets/pred/images/Corvette with license plate_10.jpeg'\n",
              " probs: None\n",
              " save_dir: 'runs/detect/predict'\n",
              " speed: {'preprocess': 2.7153491973876953, 'inference': 208.6012363433838, 'postprocess': 1.1019706726074219},\n",
              " ultralytics.engine.results.Results object with attributes:\n",
              " \n",
              " boxes: ultralytics.engine.results.Boxes object\n",
              " keypoints: None\n",
              " masks: None\n",
              " names: {0: 'car_plate'}\n",
              " orig_img: array([[[196, 156, 151],\n",
              "         [205, 163, 158],\n",
              "         [205, 161, 154],\n",
              "         ...,\n",
              "         [119,  96, 104],\n",
              "         [112,  92,  97],\n",
              "         [ 98,  78,  83]],\n",
              " \n",
              "        [[187, 147, 142],\n",
              "         [201, 159, 154],\n",
              "         [193, 149, 142],\n",
              "         ...,\n",
              "         [ 76,  55,  63],\n",
              "         [ 51,  33,  40],\n",
              "         [ 43,  26,  30]],\n",
              " \n",
              "        [[184, 144, 139],\n",
              "         [206, 164, 159],\n",
              "         [196, 152, 145],\n",
              "         ...,\n",
              "         [ 37,  21,  28],\n",
              "         [ 37,  23,  29],\n",
              "         [ 40,  26,  32]],\n",
              " \n",
              "        ...,\n",
              " \n",
              "        [[ 95,  83,  89],\n",
              "         [ 86,  74,  80],\n",
              "         [ 85,  73,  79],\n",
              "         ...,\n",
              "         [ 91,  70,  69],\n",
              "         [ 95,  74,  73],\n",
              "         [ 91,  70,  69]],\n",
              " \n",
              "        [[100,  88,  94],\n",
              "         [102,  90,  96],\n",
              "         [ 91,  79,  85],\n",
              "         ...,\n",
              "         [102,  81,  80],\n",
              "         [102,  81,  80],\n",
              "         [ 97,  76,  75]],\n",
              " \n",
              "        [[ 97,  85,  91],\n",
              "         [100,  88,  94],\n",
              "         [ 92,  80,  86],\n",
              "         ...,\n",
              "         [115,  94,  93],\n",
              "         [112,  91,  90],\n",
              "         [101,  80,  79]]], dtype=uint8)\n",
              " orig_shape: (557, 1000)\n",
              " path: '/content/drive/MyDrive/ML_Ass10/datasets/pred/images/Corvette with license plate_11.jpeg'\n",
              " probs: None\n",
              " save_dir: 'runs/detect/predict'\n",
              " speed: {'preprocess': 2.7441978454589844, 'inference': 150.3455638885498, 'postprocess': 0.8854866027832031},\n",
              " ultralytics.engine.results.Results object with attributes:\n",
              " \n",
              " boxes: ultralytics.engine.results.Boxes object\n",
              " keypoints: None\n",
              " masks: None\n",
              " names: {0: 'car_plate'}\n",
              " orig_img: array([[[248, 243, 240],\n",
              "         [250, 245, 242],\n",
              "         [252, 247, 246],\n",
              "         ...,\n",
              "         [255, 249, 246],\n",
              "         [255, 249, 246],\n",
              "         [255, 249, 246]],\n",
              " \n",
              "        [[251, 246, 243],\n",
              "         [250, 245, 242],\n",
              "         [246, 241, 240],\n",
              "         ...,\n",
              "         [254, 249, 246],\n",
              "         [255, 248, 245],\n",
              "         [253, 248, 245]],\n",
              " \n",
              "        [[240, 235, 234],\n",
              "         [239, 234, 233],\n",
              "         [239, 234, 233],\n",
              "         ...,\n",
              "         [252, 249, 245],\n",
              "         [252, 247, 244],\n",
              "         [251, 248, 244]],\n",
              " \n",
              "        ...,\n",
              " \n",
              "        [[ 49, 103, 103],\n",
              "         [ 86, 140, 140],\n",
              "         [ 71, 125, 125],\n",
              "         ...,\n",
              "         [116, 177, 163],\n",
              "         [103, 163, 152],\n",
              "         [102, 162, 151]],\n",
              " \n",
              "        [[ 70, 126, 127],\n",
              "         [114, 170, 171],\n",
              "         [ 91, 148, 147],\n",
              "         ...,\n",
              "         [136, 194, 183],\n",
              "         [ 98, 156, 145],\n",
              "         [ 82, 140, 129]],\n",
              " \n",
              "        [[ 96, 153, 154],\n",
              "         [ 86, 143, 144],\n",
              "         [ 87, 144, 143],\n",
              "         ...,\n",
              "         [122, 180, 169],\n",
              "         [ 93, 151, 140],\n",
              "         [ 61, 119, 108]]], dtype=uint8)\n",
              " orig_shape: (316, 474)\n",
              " path: '/content/drive/MyDrive/ML_Ass10/datasets/pred/images/Corvette with license plate_34.jpeg'\n",
              " probs: None\n",
              " save_dir: 'runs/detect/predict'\n",
              " speed: {'preprocess': 2.519369125366211, 'inference': 175.7972240447998, 'postprocess': 0.9827613830566406},\n",
              " ultralytics.engine.results.Results object with attributes:\n",
              " \n",
              " boxes: ultralytics.engine.results.Boxes object\n",
              " keypoints: None\n",
              " masks: None\n",
              " names: {0: 'car_plate'}\n",
              " orig_img: array([[[255, 255, 245],\n",
              "         [255, 255, 244],\n",
              "         [255, 255, 243],\n",
              "         ...,\n",
              "         [176, 162, 173],\n",
              "         [175, 161, 172],\n",
              "         [175, 161, 172]],\n",
              " \n",
              "        [[255, 255, 245],\n",
              "         [244, 243, 229],\n",
              "         [250, 249, 235],\n",
              "         ...,\n",
              "         [179, 166, 174],\n",
              "         [180, 167, 175],\n",
              "         [180, 167, 175]],\n",
              " \n",
              "        [[254, 249, 234],\n",
              "         [236, 233, 218],\n",
              "         [252, 249, 234],\n",
              "         ...,\n",
              "         [181, 167, 173],\n",
              "         [182, 168, 174],\n",
              "         [184, 170, 176]],\n",
              " \n",
              "        ...,\n",
              " \n",
              "        [[ 31,  85,  96],\n",
              "         [ 83, 136, 146],\n",
              "         [ 85, 134, 142],\n",
              "         ...,\n",
              "         [ 54, 101, 105],\n",
              "         [ 66, 111, 115],\n",
              "         [ 92, 139, 143]],\n",
              " \n",
              "        [[ 70, 126, 137],\n",
              "         [ 92, 147, 156],\n",
              "         [112, 164, 170],\n",
              "         ...,\n",
              "         [ 39,  84,  87],\n",
              "         [ 42,  85,  88],\n",
              "         [ 60, 105, 108]],\n",
              " \n",
              "        [[ 56, 115, 125],\n",
              "         [ 30,  87,  96],\n",
              "         [ 70, 125, 130],\n",
              "         ...,\n",
              "         [141, 185, 186],\n",
              "         [100, 143, 146],\n",
              "         [ 30,  73,  76]]], dtype=uint8)\n",
              " orig_shape: (600, 900)\n",
              " path: '/content/drive/MyDrive/ML_Ass10/datasets/pred/images/Corvette with license plate_9.jpeg'\n",
              " probs: None\n",
              " save_dir: 'runs/detect/predict'\n",
              " speed: {'preprocess': 3.1239986419677734, 'inference': 182.81030654907227, 'postprocess': 0.972747802734375},\n",
              " ultralytics.engine.results.Results object with attributes:\n",
              " \n",
              " boxes: ultralytics.engine.results.Boxes object\n",
              " keypoints: None\n",
              " masks: None\n",
              " names: {0: 'car_plate'}\n",
              " orig_img: array([[[255, 255, 255],\n",
              "         [255, 255, 255],\n",
              "         [255, 255, 255],\n",
              "         ...,\n",
              "         [255, 255, 255],\n",
              "         [255, 255, 255],\n",
              "         [255, 255, 255]],\n",
              " \n",
              "        [[255, 255, 255],\n",
              "         [255, 255, 255],\n",
              "         [255, 255, 255],\n",
              "         ...,\n",
              "         [255, 255, 255],\n",
              "         [255, 255, 255],\n",
              "         [255, 255, 255]],\n",
              " \n",
              "        [[255, 255, 255],\n",
              "         [255, 255, 255],\n",
              "         [255, 255, 255],\n",
              "         ...,\n",
              "         [255, 255, 255],\n",
              "         [255, 255, 255],\n",
              "         [255, 255, 255]],\n",
              " \n",
              "        ...,\n",
              " \n",
              "        [[255, 255, 255],\n",
              "         [255, 255, 255],\n",
              "         [255, 255, 255],\n",
              "         ...,\n",
              "         [255, 255, 255],\n",
              "         [255, 255, 255],\n",
              "         [255, 255, 255]],\n",
              " \n",
              "        [[255, 255, 255],\n",
              "         [255, 255, 255],\n",
              "         [255, 255, 255],\n",
              "         ...,\n",
              "         [255, 255, 255],\n",
              "         [255, 255, 255],\n",
              "         [255, 255, 255]],\n",
              " \n",
              "        [[255, 255, 255],\n",
              "         [255, 255, 255],\n",
              "         [255, 255, 255],\n",
              "         ...,\n",
              "         [255, 255, 255],\n",
              "         [255, 255, 255],\n",
              "         [255, 255, 255]]], dtype=uint8)\n",
              " orig_shape: (570, 894)\n",
              " path: '/content/drive/MyDrive/ML_Ass10/datasets/pred/images/Ford Escort with license plate_14.jpeg'\n",
              " probs: None\n",
              " save_dir: 'runs/detect/predict'\n",
              " speed: {'preprocess': 2.8705596923828125, 'inference': 159.46173667907715, 'postprocess': 1.3849735260009766},\n",
              " ultralytics.engine.results.Results object with attributes:\n",
              " \n",
              " boxes: ultralytics.engine.results.Boxes object\n",
              " keypoints: None\n",
              " masks: None\n",
              " names: {0: 'car_plate'}\n",
              " orig_img: array([[[226, 228, 228],\n",
              "         [226, 228, 228],\n",
              "         [227, 229, 229],\n",
              "         ...,\n",
              "         [192, 213, 221],\n",
              "         [192, 213, 221],\n",
              "         [192, 213, 221]],\n",
              " \n",
              "        [[228, 230, 230],\n",
              "         [228, 230, 230],\n",
              "         [227, 229, 229],\n",
              "         ...,\n",
              "         [191, 212, 220],\n",
              "         [191, 212, 220],\n",
              "         [190, 211, 219]],\n",
              " \n",
              "        [[230, 232, 232],\n",
              "         [229, 231, 231],\n",
              "         [228, 230, 230],\n",
              "         ...,\n",
              "         [182, 205, 213],\n",
              "         [189, 210, 218],\n",
              "         [193, 214, 222]],\n",
              " \n",
              "        ...,\n",
              " \n",
              "        [[178, 171, 162],\n",
              "         [161, 154, 145],\n",
              "         [165, 158, 149],\n",
              "         ...,\n",
              "         [174, 159, 150],\n",
              "         [182, 167, 158],\n",
              "         [187, 172, 163]],\n",
              " \n",
              "        [[186, 179, 170],\n",
              "         [174, 167, 158],\n",
              "         [173, 166, 157],\n",
              "         ...,\n",
              "         [191, 176, 167],\n",
              "         [183, 168, 159],\n",
              "         [160, 145, 136]],\n",
              " \n",
              "        [[171, 164, 155],\n",
              "         [174, 167, 158],\n",
              "         [173, 166, 157],\n",
              "         ...,\n",
              "         [199, 184, 175],\n",
              "         [210, 195, 186],\n",
              "         [186, 171, 162]]], dtype=uint8)\n",
              " orig_shape: (768, 1024)\n",
              " path: '/content/drive/MyDrive/ML_Ass10/datasets/pred/images/Ford Escort with license plate_17.jpeg'\n",
              " probs: None\n",
              " save_dir: 'runs/detect/predict'\n",
              " speed: {'preprocess': 3.262758255004883, 'inference': 185.95457077026367, 'postprocess': 1.3704299926757812},\n",
              " ultralytics.engine.results.Results object with attributes:\n",
              " \n",
              " boxes: ultralytics.engine.results.Boxes object\n",
              " keypoints: None\n",
              " masks: None\n",
              " names: {0: 'car_plate'}\n",
              " orig_img: array([[[255, 255, 255],\n",
              "         [255, 255, 255],\n",
              "         [255, 255, 255],\n",
              "         ...,\n",
              "         [255, 255, 255],\n",
              "         [255, 255, 255],\n",
              "         [255, 255, 255]],\n",
              " \n",
              "        [[255, 255, 255],\n",
              "         [255, 255, 255],\n",
              "         [255, 255, 255],\n",
              "         ...,\n",
              "         [255, 255, 255],\n",
              "         [255, 255, 255],\n",
              "         [255, 255, 255]],\n",
              " \n",
              "        [[255, 255, 255],\n",
              "         [255, 255, 255],\n",
              "         [255, 255, 255],\n",
              "         ...,\n",
              "         [255, 255, 255],\n",
              "         [255, 255, 255],\n",
              "         [255, 255, 255]],\n",
              " \n",
              "        ...,\n",
              " \n",
              "        [[255, 255, 255],\n",
              "         [255, 255, 255],\n",
              "         [255, 255, 255],\n",
              "         ...,\n",
              "         [255, 255, 255],\n",
              "         [255, 255, 255],\n",
              "         [255, 255, 255]],\n",
              " \n",
              "        [[255, 255, 255],\n",
              "         [255, 255, 255],\n",
              "         [255, 255, 255],\n",
              "         ...,\n",
              "         [255, 255, 255],\n",
              "         [255, 255, 255],\n",
              "         [255, 255, 255]],\n",
              " \n",
              "        [[255, 255, 255],\n",
              "         [255, 255, 255],\n",
              "         [255, 255, 255],\n",
              "         ...,\n",
              "         [255, 255, 255],\n",
              "         [255, 255, 255],\n",
              "         [255, 255, 255]]], dtype=uint8)\n",
              " orig_shape: (573, 894)\n",
              " path: '/content/drive/MyDrive/ML_Ass10/datasets/pred/images/Ford Escort with license plate_24.jpeg'\n",
              " probs: None\n",
              " save_dir: 'runs/detect/predict'\n",
              " speed: {'preprocess': 2.8471946716308594, 'inference': 154.04629707336426, 'postprocess': 1.1627674102783203},\n",
              " ultralytics.engine.results.Results object with attributes:\n",
              " \n",
              " boxes: ultralytics.engine.results.Boxes object\n",
              " keypoints: None\n",
              " masks: None\n",
              " names: {0: 'car_plate'}\n",
              " orig_img: array([[[243, 251, 251],\n",
              "         [243, 251, 251],\n",
              "         [244, 252, 252],\n",
              "         ...,\n",
              "         [211, 220, 223],\n",
              "         [159, 168, 171],\n",
              "         [112, 121, 124]],\n",
              " \n",
              "        [[243, 251, 251],\n",
              "         [243, 251, 251],\n",
              "         [244, 252, 252],\n",
              "         ...,\n",
              "         [218, 227, 230],\n",
              "         [239, 248, 251],\n",
              "         [246, 255, 255]],\n",
              " \n",
              "        [[243, 251, 251],\n",
              "         [243, 251, 251],\n",
              "         [244, 252, 252],\n",
              "         ...,\n",
              "         [210, 219, 222],\n",
              "         [237, 246, 249],\n",
              "         [243, 252, 255]],\n",
              " \n",
              "        ...,\n",
              " \n",
              "        [[222, 234, 234],\n",
              "         [243, 255, 255],\n",
              "         [241, 253, 253],\n",
              "         ...,\n",
              "         [238, 247, 250],\n",
              "         [238, 247, 250],\n",
              "         [242, 251, 254]],\n",
              " \n",
              "        [[220, 232, 232],\n",
              "         [242, 254, 254],\n",
              "         [240, 252, 252],\n",
              "         ...,\n",
              "         [239, 248, 251],\n",
              "         [239, 248, 251],\n",
              "         [242, 251, 254]],\n",
              " \n",
              "        [[218, 230, 230],\n",
              "         [240, 252, 252],\n",
              "         [239, 251, 251],\n",
              "         ...,\n",
              "         [239, 248, 251],\n",
              "         [239, 248, 251],\n",
              "         [242, 251, 254]]], dtype=uint8)\n",
              " orig_shape: (575, 736)\n",
              " path: '/content/drive/MyDrive/ML_Ass10/datasets/pred/images/Ford Escort with license plate_36.jpeg'\n",
              " probs: None\n",
              " save_dir: 'runs/detect/predict'\n",
              " speed: {'preprocess': 3.3707618713378906, 'inference': 192.29507446289062, 'postprocess': 1.0552406311035156},\n",
              " ultralytics.engine.results.Results object with attributes:\n",
              " \n",
              " boxes: ultralytics.engine.results.Boxes object\n",
              " keypoints: None\n",
              " masks: None\n",
              " names: {0: 'car_plate'}\n",
              " orig_img: array([[[ 60,  46,  24],\n",
              "         [ 60,  46,  24],\n",
              "         [ 60,  46,  24],\n",
              "         ...,\n",
              "         [ 91,  74,  23],\n",
              "         [ 91,  74,  23],\n",
              "         [ 91,  74,  23]],\n",
              " \n",
              "        [[ 60,  46,  24],\n",
              "         [ 60,  46,  24],\n",
              "         [ 60,  46,  24],\n",
              "         ...,\n",
              "         [ 90,  73,  22],\n",
              "         [ 91,  74,  23],\n",
              "         [ 91,  74,  23]],\n",
              " \n",
              "        [[ 60,  46,  24],\n",
              "         [ 60,  46,  24],\n",
              "         [ 60,  46,  24],\n",
              "         ...,\n",
              "         [ 91,  74,  23],\n",
              "         [ 91,  74,  23],\n",
              "         [ 91,  74,  23]],\n",
              " \n",
              "        ...,\n",
              " \n",
              "        [[ 98,  81,  60],\n",
              "         [ 98,  81,  60],\n",
              "         [ 98,  81,  60],\n",
              "         ...,\n",
              "         [ 93,  99,  88],\n",
              "         [ 92,  98,  87],\n",
              "         [ 92,  98,  87]],\n",
              " \n",
              "        [[ 99,  82,  61],\n",
              "         [ 99,  82,  61],\n",
              "         [ 99,  82,  61],\n",
              "         ...,\n",
              "         [ 98, 102,  91],\n",
              "         [ 98, 102,  91],\n",
              "         [ 98, 102,  91]],\n",
              " \n",
              "        [[ 99,  82,  61],\n",
              "         [ 99,  82,  61],\n",
              "         [ 99,  82,  61],\n",
              "         ...,\n",
              "         [102, 104,  92],\n",
              "         [105, 107,  95],\n",
              "         [105, 107,  95]]], dtype=uint8)\n",
              " orig_shape: (351, 626)\n",
              " path: '/content/drive/MyDrive/ML_Ass10/datasets/pred/images/Ford Escort with license plate_4.jpeg'\n",
              " probs: None\n",
              " save_dir: 'runs/detect/predict'\n",
              " speed: {'preprocess': 2.8972625732421875, 'inference': 152.40120887756348, 'postprocess': 1.1584758758544922},\n",
              " ultralytics.engine.results.Results object with attributes:\n",
              " \n",
              " boxes: ultralytics.engine.results.Boxes object\n",
              " keypoints: None\n",
              " masks: None\n",
              " names: {0: 'car_plate'}\n",
              " orig_img: array([[[245, 255, 255],\n",
              "         [215, 224, 227],\n",
              "         [213, 224, 228],\n",
              "         ...,\n",
              "         [220, 215, 214],\n",
              "         [220, 214, 215],\n",
              "         [255, 253, 254]],\n",
              " \n",
              "        [[245, 255, 255],\n",
              "         [215, 224, 227],\n",
              "         [213, 224, 228],\n",
              "         ...,\n",
              "         [220, 215, 214],\n",
              "         [220, 214, 215],\n",
              "         [255, 253, 254]],\n",
              " \n",
              "        [[245, 255, 255],\n",
              "         [215, 224, 227],\n",
              "         [215, 224, 228],\n",
              "         ...,\n",
              "         [220, 215, 214],\n",
              "         [220, 214, 215],\n",
              "         [255, 253, 254]],\n",
              " \n",
              "        ...,\n",
              " \n",
              "        [[247, 255, 254],\n",
              "         [215, 223, 223],\n",
              "         [215, 222, 225],\n",
              "         ...,\n",
              "         [204, 211, 214],\n",
              "         [208, 211, 215],\n",
              "         [250, 253, 255]],\n",
              " \n",
              "        [[247, 255, 254],\n",
              "         [215, 223, 223],\n",
              "         [215, 222, 225],\n",
              "         ...,\n",
              "         [204, 211, 214],\n",
              "         [208, 211, 215],\n",
              "         [250, 253, 255]],\n",
              " \n",
              "        [[247, 255, 254],\n",
              "         [214, 222, 222],\n",
              "         [215, 222, 225],\n",
              "         ...,\n",
              "         [205, 212, 215],\n",
              "         [208, 211, 215],\n",
              "         [250, 253, 255]]], dtype=uint8)\n",
              " orig_shape: (853, 1280)\n",
              " path: '/content/drive/MyDrive/ML_Ass10/datasets/pred/images/Ford Escort with license plate_40.jpeg'\n",
              " probs: None\n",
              " save_dir: 'runs/detect/predict'\n",
              " speed: {'preprocess': 4.319906234741211, 'inference': 174.78442192077637, 'postprocess': 1.0762214660644531},\n",
              " ultralytics.engine.results.Results object with attributes:\n",
              " \n",
              " boxes: ultralytics.engine.results.Boxes object\n",
              " keypoints: None\n",
              " masks: None\n",
              " names: {0: 'car_plate'}\n",
              " orig_img: array([[[ 77,  96,  99],\n",
              "         [ 79,  96,  99],\n",
              "         [ 80,  95,  98],\n",
              "         ...,\n",
              "         [ 71,  82,  90],\n",
              "         [ 85,  97, 103],\n",
              "         [ 97, 109, 115]],\n",
              " \n",
              "        [[ 77,  97,  98],\n",
              "         [ 78,  96,  97],\n",
              "         [ 78,  96,  97],\n",
              "         ...,\n",
              "         [ 58,  74,  80],\n",
              "         [ 69,  85,  91],\n",
              "         [ 79,  95, 101]],\n",
              " \n",
              "        [[ 78,  97,  94],\n",
              "         [ 78,  97,  94],\n",
              "         [ 79,  95,  94],\n",
              "         ...,\n",
              "         [ 47,  68,  70],\n",
              "         [ 52,  75,  77],\n",
              "         [ 58,  81,  83]],\n",
              " \n",
              "        ...,\n",
              " \n",
              "        [[212, 204, 214],\n",
              "         [212, 204, 214],\n",
              "         [210, 205, 214],\n",
              "         ...,\n",
              "         [ 70,  61,  51],\n",
              "         [ 69,  62,  47],\n",
              "         [ 69,  62,  45]],\n",
              " \n",
              "        [[212, 204, 214],\n",
              "         [212, 204, 214],\n",
              "         [210, 204, 215],\n",
              "         ...,\n",
              "         [ 70,  61,  52],\n",
              "         [ 69,  61,  48],\n",
              "         [ 69,  62,  47]],\n",
              " \n",
              "        [[212, 204, 214],\n",
              "         [212, 204, 214],\n",
              "         [210, 204, 215],\n",
              "         ...,\n",
              "         [ 70,  61,  52],\n",
              "         [ 67,  61,  48],\n",
              "         [ 67,  62,  47]]], dtype=uint8)\n",
              " orig_shape: (3456, 4608)\n",
              " path: '/content/drive/MyDrive/ML_Ass10/datasets/pred/images/Ford F-Series with license plate_20.jpeg'\n",
              " probs: None\n",
              " save_dir: 'runs/detect/predict'\n",
              " speed: {'preprocess': 5.278348922729492, 'inference': 265.8684253692627, 'postprocess': 1.2137889862060547},\n",
              " ultralytics.engine.results.Results object with attributes:\n",
              " \n",
              " boxes: ultralytics.engine.results.Boxes object\n",
              " keypoints: None\n",
              " masks: None\n",
              " names: {0: 'car_plate'}\n",
              " orig_img: array([[[231, 216, 213],\n",
              "         [233, 218, 215],\n",
              "         [232, 217, 214],\n",
              "         ...,\n",
              "         [131, 114, 111],\n",
              "         [130, 113, 110],\n",
              "         [130, 113, 110]],\n",
              " \n",
              "        [[221, 206, 203],\n",
              "         [223, 208, 205],\n",
              "         [224, 209, 206],\n",
              "         ...,\n",
              "         [130, 113, 110],\n",
              "         [131, 114, 111],\n",
              "         [131, 114, 111]],\n",
              " \n",
              "        [[225, 209, 203],\n",
              "         [225, 209, 203],\n",
              "         [228, 212, 206],\n",
              "         ...,\n",
              "         [130, 113, 110],\n",
              "         [131, 114, 111],\n",
              "         [131, 114, 111]],\n",
              " \n",
              "        ...,\n",
              " \n",
              "        [[168, 144, 132],\n",
              "         [178, 154, 142],\n",
              "         [190, 165, 155],\n",
              "         ...,\n",
              "         [121, 122, 118],\n",
              "         [105, 106, 102],\n",
              "         [106, 107, 103]],\n",
              " \n",
              "        [[169, 143, 131],\n",
              "         [158, 134, 122],\n",
              "         [176, 152, 140],\n",
              "         ...,\n",
              "         [104, 108, 103],\n",
              "         [111, 115, 110],\n",
              "         [112, 116, 111]],\n",
              " \n",
              "        [[159, 133, 121],\n",
              "         [156, 130, 118],\n",
              "         [172, 148, 136],\n",
              "         ...,\n",
              "         [112, 116, 111],\n",
              "         [ 92,  96,  91],\n",
              "         [ 85,  89,  84]]], dtype=uint8)\n",
              " orig_shape: (768, 1024)\n",
              " path: '/content/drive/MyDrive/ML_Ass10/datasets/pred/images/Ford F-Series with license plate_56.jpeg'\n",
              " probs: None\n",
              " save_dir: 'runs/detect/predict'\n",
              " speed: {'preprocess': 6.820917129516602, 'inference': 271.04926109313965, 'postprocess': 1.2195110321044922},\n",
              " ultralytics.engine.results.Results object with attributes:\n",
              " \n",
              " boxes: ultralytics.engine.results.Boxes object\n",
              " keypoints: None\n",
              " masks: None\n",
              " names: {0: 'car_plate'}\n",
              " orig_img: array([[[ 97,  90,  93],\n",
              "         [ 95,  88,  91],\n",
              "         [ 95,  90,  91],\n",
              "         ...,\n",
              "         [195, 194, 173],\n",
              "         [192, 188, 169],\n",
              "         [190, 186, 167]],\n",
              " \n",
              "        [[100,  93,  96],\n",
              "         [101,  94,  97],\n",
              "         [ 99,  93,  94],\n",
              "         ...,\n",
              "         [186, 185, 165],\n",
              "         [187, 183, 164],\n",
              "         [187, 183, 164]],\n",
              " \n",
              "        [[ 98,  89,  92],\n",
              "         [104,  95,  98],\n",
              "         [100,  92,  93],\n",
              "         ...,\n",
              "         [177, 175, 157],\n",
              "         [180, 176, 158],\n",
              "         [178, 174, 156]],\n",
              " \n",
              "        ...,\n",
              " \n",
              "        [[ 46,  56,  63],\n",
              "         [ 76,  88,  92],\n",
              "         [ 63,  81,  82],\n",
              "         ...,\n",
              "         [ 22,  38,  55],\n",
              "         [ 58,  79, 100],\n",
              "         [ 18,  42,  66]],\n",
              " \n",
              "        [[ 77,  95, 102],\n",
              "         [ 92, 116, 116],\n",
              "         [ 73, 107,  96],\n",
              "         ...,\n",
              "         [ 51,  67,  84],\n",
              "         [ 56,  77,  98],\n",
              "         [ 22,  45,  67]],\n",
              " \n",
              "        [[116, 138, 144],\n",
              "         [105, 133, 133],\n",
              "         [ 68, 110,  93],\n",
              "         ...,\n",
              "         [ 50,  68,  85],\n",
              "         [ 29,  48,  69],\n",
              "         [ 38,  59,  81]]], dtype=uint8)\n",
              " orig_shape: (756, 1008)\n",
              " path: '/content/drive/MyDrive/ML_Ass10/datasets/pred/images/Ford Fiesta with license plate_22.jpeg'\n",
              " probs: None\n",
              " save_dir: 'runs/detect/predict'\n",
              " speed: {'preprocess': 4.527807235717773, 'inference': 319.63658332824707, 'postprocess': 1.4278888702392578},\n",
              " ultralytics.engine.results.Results object with attributes:\n",
              " \n",
              " boxes: ultralytics.engine.results.Boxes object\n",
              " keypoints: None\n",
              " masks: None\n",
              " names: {0: 'car_plate'}\n",
              " orig_img: array([[[ 7, 11, 52],\n",
              "         [23, 28, 67],\n",
              "         [28, 33, 66],\n",
              "         ...,\n",
              "         [14, 26, 28],\n",
              "         [13, 26, 28],\n",
              "         [12, 25, 27]],\n",
              " \n",
              "        [[ 9, 13, 54],\n",
              "         [19, 24, 63],\n",
              "         [26, 31, 64],\n",
              "         ...,\n",
              "         [19, 31, 33],\n",
              "         [18, 31, 33],\n",
              "         [16, 29, 31]],\n",
              " \n",
              "        [[14, 18, 59],\n",
              "         [17, 22, 61],\n",
              "         [25, 30, 63],\n",
              "         ...,\n",
              "         [28, 40, 42],\n",
              "         [27, 39, 41],\n",
              "         [25, 37, 39]],\n",
              " \n",
              "        ...,\n",
              " \n",
              "        [[57, 58, 62],\n",
              "         [60, 61, 65],\n",
              "         [58, 59, 63],\n",
              "         ...,\n",
              "         [80, 83, 87],\n",
              "         [78, 81, 85],\n",
              "         [77, 80, 84]],\n",
              " \n",
              "        [[59, 62, 67],\n",
              "         [60, 63, 67],\n",
              "         [66, 69, 73],\n",
              "         ...,\n",
              "         [78, 81, 85],\n",
              "         [76, 79, 83],\n",
              "         [75, 78, 82]],\n",
              " \n",
              "        [[64, 67, 72],\n",
              "         [63, 66, 71],\n",
              "         [77, 80, 84],\n",
              "         ...,\n",
              "         [75, 78, 82],\n",
              "         [75, 78, 82],\n",
              "         [75, 78, 82]]], dtype=uint8)\n",
              " orig_shape: (720, 1280)\n",
              " path: '/content/drive/MyDrive/ML_Ass10/datasets/pred/images/Ford Fiesta with license plate_58.jpeg'\n",
              " probs: None\n",
              " save_dir: 'runs/detect/predict'\n",
              " speed: {'preprocess': 2.793550491333008, 'inference': 248.42095375061035, 'postprocess': 1.672983169555664},\n",
              " ultralytics.engine.results.Results object with attributes:\n",
              " \n",
              " boxes: ultralytics.engine.results.Boxes object\n",
              " keypoints: None\n",
              " masks: None\n",
              " names: {0: 'car_plate'}\n",
              " orig_img: array([[[255, 254, 223],\n",
              "         [ 83,  79,  54],\n",
              "         [ 51,  42,  33],\n",
              "         ...,\n",
              "         [214, 203, 199],\n",
              "         [143, 134, 130],\n",
              "         [101,  92,  88]],\n",
              " \n",
              "        [[250, 248, 217],\n",
              "         [101,  97,  73],\n",
              "         [126, 117, 108],\n",
              "         ...,\n",
              "         [213, 204, 200],\n",
              "         [165, 156, 152],\n",
              "         [ 93,  87,  82]],\n",
              " \n",
              "        [[255, 255, 234],\n",
              "         [109, 105,  81],\n",
              "         [127, 117, 110],\n",
              "         ...,\n",
              "         [199, 192, 189],\n",
              "         [159, 152, 149],\n",
              "         [ 77,  72,  69]],\n",
              " \n",
              "        ...,\n",
              " \n",
              "        [[202, 206, 211],\n",
              "         [199, 203, 208],\n",
              "         [198, 202, 207],\n",
              "         ...,\n",
              "         [214, 222, 229],\n",
              "         [216, 223, 232],\n",
              "         [196, 205, 214]],\n",
              " \n",
              "        [[203, 207, 212],\n",
              "         [202, 206, 211],\n",
              "         [207, 211, 216],\n",
              "         ...,\n",
              "         [213, 219, 224],\n",
              "         [204, 212, 219],\n",
              "         [207, 215, 222]],\n",
              " \n",
              "        [[190, 194, 199],\n",
              "         [203, 207, 212],\n",
              "         [225, 229, 234],\n",
              "         ...,\n",
              "         [197, 203, 208],\n",
              "         [209, 215, 222],\n",
              "         [213, 221, 228]]], dtype=uint8)\n",
              " orig_shape: (236, 400)\n",
              " path: '/content/drive/MyDrive/ML_Ass10/datasets/pred/images/Ford Mustang with license plate_17.jpeg'\n",
              " probs: None\n",
              " save_dir: 'runs/detect/predict'\n",
              " speed: {'preprocess': 3.05938720703125, 'inference': 201.42412185668945, 'postprocess': 1.1303424835205078},\n",
              " ultralytics.engine.results.Results object with attributes:\n",
              " \n",
              " boxes: ultralytics.engine.results.Boxes object\n",
              " keypoints: None\n",
              " masks: None\n",
              " names: {0: 'car_plate'}\n",
              " orig_img: array([[[184, 176, 176],\n",
              "         [184, 176, 176],\n",
              "         [184, 176, 176],\n",
              "         ...,\n",
              "         [251, 253, 253],\n",
              "         [251, 253, 253],\n",
              "         [251, 253, 253]],\n",
              " \n",
              "        [[184, 176, 176],\n",
              "         [184, 176, 176],\n",
              "         [185, 177, 177],\n",
              "         ...,\n",
              "         [251, 253, 253],\n",
              "         [251, 253, 253],\n",
              "         [251, 253, 253]],\n",
              " \n",
              "        [[184, 176, 176],\n",
              "         [184, 176, 176],\n",
              "         [185, 177, 177],\n",
              "         ...,\n",
              "         [251, 253, 253],\n",
              "         [251, 253, 253],\n",
              "         [251, 253, 253]],\n",
              " \n",
              "        ...,\n",
              " \n",
              "        [[104, 103, 105],\n",
              "         [100,  99, 101],\n",
              "         [ 95,  97,  98],\n",
              "         ...,\n",
              "         [ 87,  90,  88],\n",
              "         [ 91,  94,  92],\n",
              "         [ 92,  95,  93]],\n",
              " \n",
              "        [[ 99,  98, 100],\n",
              "         [ 96,  95,  97],\n",
              "         [ 90,  92,  93],\n",
              "         ...,\n",
              "         [ 88,  91,  89],\n",
              "         [ 92,  95,  93],\n",
              "         [ 92,  95,  93]],\n",
              " \n",
              "        [[ 86,  85,  87],\n",
              "         [ 84,  83,  85],\n",
              "         [ 78,  80,  81],\n",
              "         ...,\n",
              "         [ 90,  93,  91],\n",
              "         [ 92,  95,  93],\n",
              "         [ 91,  94,  92]]], dtype=uint8)\n",
              " orig_shape: (900, 1600)\n",
              " path: '/content/drive/MyDrive/ML_Ass10/datasets/pred/images/Honda Accord with license plate_15.jpeg'\n",
              " probs: None\n",
              " save_dir: 'runs/detect/predict'\n",
              " speed: {'preprocess': 4.667043685913086, 'inference': 254.7433376312256, 'postprocess': 4.867315292358398},\n",
              " ultralytics.engine.results.Results object with attributes:\n",
              " \n",
              " boxes: ultralytics.engine.results.Boxes object\n",
              " keypoints: None\n",
              " masks: None\n",
              " names: {0: 'car_plate'}\n",
              " orig_img: array([[[187, 187, 187],\n",
              "         [188, 188, 188],\n",
              "         [188, 188, 188],\n",
              "         ...,\n",
              "         [179, 179, 179],\n",
              "         [179, 179, 179],\n",
              "         [179, 179, 179]],\n",
              " \n",
              "        [[187, 187, 187],\n",
              "         [188, 188, 188],\n",
              "         [188, 188, 188],\n",
              "         ...,\n",
              "         [179, 179, 179],\n",
              "         [179, 179, 179],\n",
              "         [179, 179, 179]],\n",
              " \n",
              "        [[187, 187, 187],\n",
              "         [188, 188, 188],\n",
              "         [188, 188, 188],\n",
              "         ...,\n",
              "         [179, 179, 179],\n",
              "         [179, 179, 179],\n",
              "         [179, 179, 179]],\n",
              " \n",
              "        ...,\n",
              " \n",
              "        [[193, 195, 206],\n",
              "         [198, 200, 211],\n",
              "         [201, 203, 214],\n",
              "         ...,\n",
              "         [191, 193, 204],\n",
              "         [191, 193, 204],\n",
              "         [192, 193, 207]],\n",
              " \n",
              "        [[193, 194, 208],\n",
              "         [199, 201, 212],\n",
              "         [203, 205, 216],\n",
              "         ...,\n",
              "         [195, 196, 210],\n",
              "         [194, 195, 209],\n",
              "         [194, 195, 209]],\n",
              " \n",
              "        [[192, 193, 207],\n",
              "         [200, 201, 215],\n",
              "         [205, 207, 218],\n",
              "         ...,\n",
              "         [197, 198, 212],\n",
              "         [195, 196, 210],\n",
              "         [195, 196, 210]]], dtype=uint8)\n",
              " orig_shape: (652, 1007)\n",
              " path: '/content/drive/MyDrive/ML_Ass10/datasets/pred/images/Honda Civic with license plate_22.jpeg'\n",
              " probs: None\n",
              " save_dir: 'runs/detect/predict'\n",
              " speed: {'preprocess': 5.688905715942383, 'inference': 241.46604537963867, 'postprocess': 1.3184547424316406},\n",
              " ultralytics.engine.results.Results object with attributes:\n",
              " \n",
              " boxes: ultralytics.engine.results.Boxes object\n",
              " keypoints: None\n",
              " masks: None\n",
              " names: {0: 'car_plate'}\n",
              " orig_img: array([[[238, 239, 230],\n",
              "         [238, 239, 230],\n",
              "         [238, 239, 230],\n",
              "         ...,\n",
              "         [254, 255, 232],\n",
              "         [254, 255, 232],\n",
              "         [254, 255, 232]],\n",
              " \n",
              "        [[237, 238, 229],\n",
              "         [237, 238, 229],\n",
              "         [237, 238, 229],\n",
              "         ...,\n",
              "         [254, 255, 232],\n",
              "         [254, 255, 232],\n",
              "         [254, 255, 232]],\n",
              " \n",
              "        [[238, 239, 230],\n",
              "         [238, 239, 230],\n",
              "         [238, 239, 230],\n",
              "         ...,\n",
              "         [254, 255, 232],\n",
              "         [254, 255, 232],\n",
              "         [254, 255, 232]],\n",
              " \n",
              "        ...,\n",
              " \n",
              "        [[159, 153, 130],\n",
              "         [159, 153, 130],\n",
              "         [159, 153, 130],\n",
              "         ...,\n",
              "         [149, 143, 120],\n",
              "         [149, 143, 120],\n",
              "         [149, 143, 120]],\n",
              " \n",
              "        [[159, 153, 130],\n",
              "         [159, 153, 130],\n",
              "         [159, 153, 130],\n",
              "         ...,\n",
              "         [150, 144, 121],\n",
              "         [150, 144, 121],\n",
              "         [150, 144, 121]],\n",
              " \n",
              "        [[159, 153, 130],\n",
              "         [159, 153, 130],\n",
              "         [159, 153, 130],\n",
              "         ...,\n",
              "         [151, 145, 122],\n",
              "         [151, 145, 122],\n",
              "         [151, 145, 122]]], dtype=uint8)\n",
              " orig_shape: (2268, 1699)\n",
              " path: '/content/drive/MyDrive/ML_Ass10/datasets/pred/images/Honda Civic with license plate_24.jpeg'\n",
              " probs: None\n",
              " save_dir: 'runs/detect/predict'\n",
              " speed: {'preprocess': 5.635738372802734, 'inference': 270.2012062072754, 'postprocess': 1.294851303100586},\n",
              " ultralytics.engine.results.Results object with attributes:\n",
              " \n",
              " boxes: ultralytics.engine.results.Boxes object\n",
              " keypoints: None\n",
              " masks: None\n",
              " names: {0: 'car_plate'}\n",
              " orig_img: array([[[ 19,  18,  27],\n",
              "         [ 18,  17,  26],\n",
              "         [ 20,  18,  24],\n",
              "         ...,\n",
              "         [  6,  13,  10],\n",
              "         [  6,  13,  10],\n",
              "         [  5,  12,   9]],\n",
              " \n",
              "        [[ 18,  17,  26],\n",
              "         [ 17,  16,  25],\n",
              "         [ 19,  17,  23],\n",
              "         ...,\n",
              "         [  7,  14,  11],\n",
              "         [  7,  14,  11],\n",
              "         [  6,  13,  10]],\n",
              " \n",
              "        [[ 16,  15,  24],\n",
              "         [ 16,  15,  24],\n",
              "         [ 18,  16,  22],\n",
              "         ...,\n",
              "         [  8,  14,  13],\n",
              "         [  8,  14,  13],\n",
              "         [  8,  14,  13]],\n",
              " \n",
              "        ...,\n",
              " \n",
              "        [[229, 166, 122],\n",
              "         [230, 167, 123],\n",
              "         [231, 168, 124],\n",
              "         ...,\n",
              "         [115, 170, 197],\n",
              "         [115, 170, 197],\n",
              "         [114, 169, 196]],\n",
              " \n",
              "        [[224, 161, 117],\n",
              "         [225, 162, 118],\n",
              "         [226, 163, 119],\n",
              "         ...,\n",
              "         [104, 163, 189],\n",
              "         [104, 161, 187],\n",
              "         [100, 159, 185]],\n",
              " \n",
              "        [[224, 161, 117],\n",
              "         [225, 162, 118],\n",
              "         [226, 163, 119],\n",
              "         ...,\n",
              "         [ 99, 160, 186],\n",
              "         [ 98, 157, 183],\n",
              "         [ 92, 153, 179]]], dtype=uint8)\n",
              " orig_shape: (1431, 2160)\n",
              " path: '/content/drive/MyDrive/ML_Ass10/datasets/pred/images/Honda Pilot with license plate_62.jpeg'\n",
              " probs: None\n",
              " save_dir: 'runs/detect/predict'\n",
              " speed: {'preprocess': 5.1174163818359375, 'inference': 168.4880256652832, 'postprocess': 0.9636878967285156},\n",
              " ultralytics.engine.results.Results object with attributes:\n",
              " \n",
              " boxes: ultralytics.engine.results.Boxes object\n",
              " keypoints: None\n",
              " masks: None\n",
              " names: {0: 'car_plate'}\n",
              " orig_img: array([[[202, 188, 170],\n",
              "         [202, 188, 170],\n",
              "         [203, 189, 171],\n",
              "         ...,\n",
              "         [169, 174, 159],\n",
              "         [171, 176, 161],\n",
              "         [172, 177, 162]],\n",
              " \n",
              "        [[203, 189, 171],\n",
              "         [203, 189, 171],\n",
              "         [204, 190, 172],\n",
              "         ...,\n",
              "         [171, 176, 161],\n",
              "         [174, 177, 162],\n",
              "         [172, 177, 162]],\n",
              " \n",
              "        [[204, 190, 172],\n",
              "         [205, 191, 173],\n",
              "         [205, 191, 173],\n",
              "         ...,\n",
              "         [174, 177, 162],\n",
              "         [174, 174, 160],\n",
              "         [171, 174, 159]],\n",
              " \n",
              "        ...,\n",
              " \n",
              "        [[108, 112, 113],\n",
              "         [107, 111, 112],\n",
              "         [105, 109, 110],\n",
              "         ...,\n",
              "         [ 83,  88,  89],\n",
              "         [ 84,  89,  90],\n",
              "         [ 86,  91,  92]],\n",
              " \n",
              "        [[ 99, 103, 104],\n",
              "         [105, 109, 110],\n",
              "         [110, 114, 115],\n",
              "         ...,\n",
              "         [ 84,  89,  90],\n",
              "         [ 83,  88,  89],\n",
              "         [ 82,  87,  88]],\n",
              " \n",
              "        [[111, 115, 116],\n",
              "         [107, 111, 112],\n",
              "         [104, 108, 109],\n",
              "         ...,\n",
              "         [ 88,  93,  94],\n",
              "         [ 82,  87,  88],\n",
              "         [ 77,  82,  83]]], dtype=uint8)\n",
              " orig_shape: (600, 800)\n",
              " path: '/content/drive/MyDrive/ML_Ass10/datasets/pred/images/Hyundai Accent with license plate_59.jpeg'\n",
              " probs: None\n",
              " save_dir: 'runs/detect/predict'\n",
              " speed: {'preprocess': 3.033876419067383, 'inference': 160.15267372131348, 'postprocess': 0.9083747863769531},\n",
              " ultralytics.engine.results.Results object with attributes:\n",
              " \n",
              " boxes: ultralytics.engine.results.Boxes object\n",
              " keypoints: None\n",
              " masks: None\n",
              " names: {0: 'car_plate'}\n",
              " orig_img: array([[[ 96,  81,  79],\n",
              "         [ 90,  77,  75],\n",
              "         [108,  94,  96],\n",
              "         ...,\n",
              "         [254, 255, 253],\n",
              "         [252, 255, 246],\n",
              "         [252, 255, 245]],\n",
              " \n",
              "        [[ 98,  83,  81],\n",
              "         [ 91,  78,  76],\n",
              "         [108,  94,  96],\n",
              "         ...,\n",
              "         [250, 253, 251],\n",
              "         [253, 255, 247],\n",
              "         [253, 255, 248]],\n",
              " \n",
              "        [[103,  88,  86],\n",
              "         [ 94,  81,  79],\n",
              "         [109,  95,  97],\n",
              "         ...,\n",
              "         [246, 251, 249],\n",
              "         [252, 255, 250],\n",
              "         [251, 255, 249]],\n",
              " \n",
              "        ...,\n",
              " \n",
              "        [[123,  85,  53],\n",
              "         [124,  86,  54],\n",
              "         [124,  86,  54],\n",
              "         ...,\n",
              "         [161, 114,  87],\n",
              "         [159, 112,  85],\n",
              "         [148, 101,  74]],\n",
              " \n",
              "        [[123,  85,  53],\n",
              "         [124,  86,  54],\n",
              "         [124,  86,  54],\n",
              "         ...,\n",
              "         [152, 105,  78],\n",
              "         [152, 105,  78],\n",
              "         [144,  97,  70]],\n",
              " \n",
              "        [[123,  85,  53],\n",
              "         [124,  86,  54],\n",
              "         [124,  86,  54],\n",
              "         ...,\n",
              "         [143,  96,  69],\n",
              "         [144,  97,  70],\n",
              "         [140,  93,  66]]], dtype=uint8)\n",
              " orig_shape: (360, 480)\n",
              " path: '/content/drive/MyDrive/ML_Ass10/datasets/pred/images/Hyundai Kona with license plate_54.jpeg'\n",
              " probs: None\n",
              " save_dir: 'runs/detect/predict'\n",
              " speed: {'preprocess': 2.6438236236572266, 'inference': 180.61137199401855, 'postprocess': 0.8974075317382812},\n",
              " ultralytics.engine.results.Results object with attributes:\n",
              " \n",
              " boxes: ultralytics.engine.results.Boxes object\n",
              " keypoints: None\n",
              " masks: None\n",
              " names: {0: 'car_plate'}\n",
              " orig_img: array([[[ 18,  29,  21],\n",
              "         [ 18,  29,  21],\n",
              "         [ 19,  30,  22],\n",
              "         ...,\n",
              "         [175, 138, 104],\n",
              "         [175, 138, 104],\n",
              "         [175, 138, 104]],\n",
              " \n",
              "        [[ 15,  28,  20],\n",
              "         [ 17,  30,  22],\n",
              "         [ 18,  31,  23],\n",
              "         ...,\n",
              "         [175, 138, 104],\n",
              "         [175, 138, 104],\n",
              "         [175, 138, 104]],\n",
              " \n",
              "        [[ 16,  29,  21],\n",
              "         [ 17,  30,  22],\n",
              "         [ 19,  32,  24],\n",
              "         ...,\n",
              "         [175, 138, 104],\n",
              "         [175, 138, 104],\n",
              "         [175, 138, 104]],\n",
              " \n",
              "        ...,\n",
              " \n",
              "        [[166, 181, 197],\n",
              "         [161, 176, 192],\n",
              "         [157, 172, 188],\n",
              "         ...,\n",
              "         [145, 158, 174],\n",
              "         [156, 169, 185],\n",
              "         [157, 170, 186]],\n",
              " \n",
              "        [[155, 170, 186],\n",
              "         [168, 183, 199],\n",
              "         [179, 194, 210],\n",
              "         ...,\n",
              "         [151, 164, 180],\n",
              "         [157, 170, 186],\n",
              "         [156, 169, 185]],\n",
              " \n",
              "        [[151, 166, 182],\n",
              "         [171, 186, 202],\n",
              "         [184, 199, 215],\n",
              "         ...,\n",
              "         [166, 179, 195],\n",
              "         [163, 176, 192],\n",
              "         [142, 155, 171]]], dtype=uint8)\n",
              " orig_shape: (1040, 1920)\n",
              " path: '/content/drive/MyDrive/ML_Ass10/datasets/pred/images/Hyundai Santa Cruz with license plate_64.jpeg'\n",
              " probs: None\n",
              " save_dir: 'runs/detect/predict'\n",
              " speed: {'preprocess': 3.174304962158203, 'inference': 138.275146484375, 'postprocess': 1.1332035064697266},\n",
              " ultralytics.engine.results.Results object with attributes:\n",
              " \n",
              " boxes: ultralytics.engine.results.Boxes object\n",
              " keypoints: None\n",
              " masks: None\n",
              " names: {0: 'car_plate'}\n",
              " orig_img: array([[[202, 181, 166],\n",
              "         [203, 182, 167],\n",
              "         [203, 181, 169],\n",
              "         ...,\n",
              "         [101,  74,  70],\n",
              "         [ 97,  72,  70],\n",
              "         [ 90,  65,  63]],\n",
              " \n",
              "        [[204, 181, 166],\n",
              "         [204, 181, 166],\n",
              "         [203, 181, 169],\n",
              "         ...,\n",
              "         [ 98,  69,  65],\n",
              "         [ 98,  71,  67],\n",
              "         [ 92,  67,  63]],\n",
              " \n",
              "        [[204, 181, 166],\n",
              "         [204, 181, 166],\n",
              "         [205, 182, 167],\n",
              "         ...,\n",
              "         [ 93,  64,  59],\n",
              "         [ 95,  66,  61],\n",
              "         [ 90,  64,  58]],\n",
              " \n",
              "        ...,\n",
              " \n",
              "        [[138, 184, 218],\n",
              "         [143, 189, 223],\n",
              "         [145, 191, 225],\n",
              "         ...,\n",
              "         [128, 179, 222],\n",
              "         [130, 181, 221],\n",
              "         [124, 176, 212]],\n",
              " \n",
              "        [[139, 184, 221],\n",
              "         [136, 181, 218],\n",
              "         [142, 187, 224],\n",
              "         ...,\n",
              "         [118, 171, 214],\n",
              "         [129, 184, 227],\n",
              "         [116, 173, 218]],\n",
              " \n",
              "        [[142, 187, 224],\n",
              "         [142, 187, 224],\n",
              "         [142, 187, 224],\n",
              "         ...,\n",
              "         [102, 155, 198],\n",
              "         [119, 174, 217],\n",
              "         [115, 172, 217]]], dtype=uint8)\n",
              " orig_shape: (490, 1600)\n",
              " path: '/content/drive/MyDrive/ML_Ass10/datasets/pred/images/Jeep Avenger with license plate_25.jpeg'\n",
              " probs: None\n",
              " save_dir: 'runs/detect/predict'\n",
              " speed: {'preprocess': 1.837015151977539, 'inference': 106.16588592529297, 'postprocess': 0.8568763732910156},\n",
              " ultralytics.engine.results.Results object with attributes:\n",
              " \n",
              " boxes: ultralytics.engine.results.Boxes object\n",
              " keypoints: None\n",
              " masks: None\n",
              " names: {0: 'car_plate'}\n",
              " orig_img: array([[[255, 253, 245],\n",
              "         [255, 253, 245],\n",
              "         [255, 253, 245],\n",
              "         ...,\n",
              "         [255, 255, 255],\n",
              "         [255, 255, 255],\n",
              "         [255, 255, 255]],\n",
              " \n",
              "        [[255, 253, 245],\n",
              "         [255, 253, 245],\n",
              "         [255, 253, 245],\n",
              "         ...,\n",
              "         [255, 255, 255],\n",
              "         [255, 255, 255],\n",
              "         [255, 255, 255]],\n",
              " \n",
              "        [[255, 253, 245],\n",
              "         [255, 253, 245],\n",
              "         [255, 253, 245],\n",
              "         ...,\n",
              "         [255, 255, 255],\n",
              "         [255, 255, 255],\n",
              "         [255, 255, 255]],\n",
              " \n",
              "        ...,\n",
              " \n",
              "        [[ 63,  60,  52],\n",
              "         [ 61,  58,  50],\n",
              "         [ 58,  55,  47],\n",
              "         ...,\n",
              "         [156, 148, 141],\n",
              "         [157, 149, 142],\n",
              "         [158, 150, 143]],\n",
              " \n",
              "        [[ 63,  60,  52],\n",
              "         [ 60,  57,  49],\n",
              "         [ 56,  53,  45],\n",
              "         ...,\n",
              "         [154, 146, 139],\n",
              "         [154, 146, 139],\n",
              "         [155, 147, 140]],\n",
              " \n",
              "        [[ 62,  59,  51],\n",
              "         [ 58,  55,  47],\n",
              "         [ 54,  51,  43],\n",
              "         ...,\n",
              "         [151, 143, 136],\n",
              "         [152, 144, 137],\n",
              "         [152, 144, 137]]], dtype=uint8)\n",
              " orig_shape: (3024, 4032)\n",
              " path: '/content/drive/MyDrive/ML_Ass10/datasets/pred/images/Jeep Gladiator with license plate_20.jpeg'\n",
              " probs: None\n",
              " save_dir: 'runs/detect/predict'\n",
              " speed: {'preprocess': 3.780841827392578, 'inference': 174.01552200317383, 'postprocess': 0.7863044738769531},\n",
              " ultralytics.engine.results.Results object with attributes:\n",
              " \n",
              " boxes: ultralytics.engine.results.Boxes object\n",
              " keypoints: None\n",
              " masks: None\n",
              " names: {0: 'car_plate'}\n",
              " orig_img: array([[[106, 126, 137],\n",
              "         [117, 137, 148],\n",
              "         [106, 128, 139],\n",
              "         ...,\n",
              "         [  0,   5,   4],\n",
              "         [  0,   3,   2],\n",
              "         [  0,   3,   2]],\n",
              " \n",
              "        [[107, 127, 138],\n",
              "         [130, 150, 161],\n",
              "         [ 92, 114, 125],\n",
              "         ...,\n",
              "         [  1,   7,   6],\n",
              "         [  0,   3,   2],\n",
              "         [  0,   3,   2]],\n",
              " \n",
              "        [[ 99, 121, 132],\n",
              "         [ 93, 115, 126],\n",
              "         [111, 133, 144],\n",
              "         ...,\n",
              "         [  1,   6,   5],\n",
              "         [  0,   2,   2],\n",
              "         [  4,   6,   6]],\n",
              " \n",
              "        ...,\n",
              " \n",
              "        [[143, 153, 163],\n",
              "         [138, 148, 158],\n",
              "         [133, 143, 153],\n",
              "         ...,\n",
              "         [  6,   3,   5],\n",
              "         [  9,   1,   1],\n",
              "         [ 10,   1,   0]],\n",
              " \n",
              "        [[138, 148, 158],\n",
              "         [132, 142, 152],\n",
              "         [125, 135, 145],\n",
              "         ...,\n",
              "         [  6,   4,   3],\n",
              "         [  9,   3,   0],\n",
              "         [ 13,   4,   0]],\n",
              " \n",
              "        [[141, 151, 161],\n",
              "         [136, 146, 156],\n",
              "         [131, 141, 151],\n",
              "         ...,\n",
              "         [  4,   3,   0],\n",
              "         [  8,   2,   0],\n",
              "         [ 15,   6,   0]]], dtype=uint8)\n",
              " orig_shape: (720, 1280)\n",
              " path: '/content/drive/MyDrive/ML_Ass10/datasets/pred/images/Jeep Grand Cherokee with license plate_10.jpeg'\n",
              " probs: None\n",
              " save_dir: 'runs/detect/predict'\n",
              " speed: {'preprocess': 2.3658275604248047, 'inference': 143.1128978729248, 'postprocess': 0.8864402770996094},\n",
              " ultralytics.engine.results.Results object with attributes:\n",
              " \n",
              " boxes: ultralytics.engine.results.Boxes object\n",
              " keypoints: None\n",
              " masks: None\n",
              " names: {0: 'car_plate'}\n",
              " orig_img: array([[[ 63,  51,  47],\n",
              "         [ 64,  52,  48],\n",
              "         [ 70,  55,  52],\n",
              "         ...,\n",
              "         [236, 232, 237],\n",
              "         [204, 189, 203],\n",
              "         [237, 212, 240]],\n",
              " \n",
              "        [[ 77,  63,  64],\n",
              "         [ 77,  63,  65],\n",
              "         [ 79,  65,  67],\n",
              "         ...,\n",
              "         [214, 224, 218],\n",
              "         [202, 204, 205],\n",
              "         [227, 220, 233]],\n",
              " \n",
              "        [[ 90,  76,  82],\n",
              "         [ 90,  76,  82],\n",
              "         [ 91,  77,  83],\n",
              "         ...,\n",
              "         [180, 201, 192],\n",
              "         [177, 198, 190],\n",
              "         [203, 217, 215]],\n",
              " \n",
              "        ...,\n",
              " \n",
              "        [[ 77,  75,  87],\n",
              "         [ 80,  77,  93],\n",
              "         [ 63,  60,  76],\n",
              "         ...,\n",
              "         [197, 201, 206],\n",
              "         [175, 181, 186],\n",
              "         [141, 148, 151]],\n",
              " \n",
              "        [[137, 142, 133],\n",
              "         [104, 106, 106],\n",
              "         [ 62,  61,  70],\n",
              "         ...,\n",
              "         [162, 168, 173],\n",
              "         [193, 202, 206],\n",
              "         [171, 183, 185]],\n",
              " \n",
              "        [[139, 153, 125],\n",
              "         [113, 123, 107],\n",
              "         [ 57,  59,  59],\n",
              "         ...,\n",
              "         [131, 137, 142],\n",
              "         [141, 152, 156],\n",
              "         [149, 162, 164]]], dtype=uint8)\n",
              " orig_shape: (960, 1280)\n",
              " path: '/content/drive/MyDrive/ML_Ass10/datasets/pred/images/Jeep Grand Cherokee with license plate_6.jpeg'\n",
              " probs: None\n",
              " save_dir: 'runs/detect/predict'\n",
              " speed: {'preprocess': 2.8810501098632812, 'inference': 172.074556350708, 'postprocess': 1.1124610900878906},\n",
              " ultralytics.engine.results.Results object with attributes:\n",
              " \n",
              " boxes: ultralytics.engine.results.Boxes object\n",
              " keypoints: None\n",
              " masks: None\n",
              " names: {0: 'car_plate'}\n",
              " orig_img: array([[[221, 164, 112],\n",
              "         [217, 160, 108],\n",
              "         [214, 157, 105],\n",
              "         ...,\n",
              "         [203, 140,  79],\n",
              "         [207, 144,  83],\n",
              "         [210, 147,  86]],\n",
              " \n",
              "        [[212, 155, 103],\n",
              "         [209, 152, 100],\n",
              "         [205, 148,  96],\n",
              "         ...,\n",
              "         [195, 132,  71],\n",
              "         [199, 136,  75],\n",
              "         [202, 139,  78]],\n",
              " \n",
              "        [[208, 151,  99],\n",
              "         [205, 148,  96],\n",
              "         [202, 144,  92],\n",
              "         ...,\n",
              "         [192, 129,  68],\n",
              "         [195, 132,  71],\n",
              "         [198, 135,  74]],\n",
              " \n",
              "        ...,\n",
              " \n",
              "        [[ 93, 100, 103],\n",
              "         [ 59,  66,  69],\n",
              "         [ 74,  81,  84],\n",
              "         ...,\n",
              "         [ 91,  86,  85],\n",
              "         [ 92,  87,  86],\n",
              "         [103,  98,  97]],\n",
              " \n",
              "        [[ 89,  98, 102],\n",
              "         [ 68,  77,  81],\n",
              "         [ 65,  74,  78],\n",
              "         ...,\n",
              "         [ 87,  82,  81],\n",
              "         [ 87,  82,  81],\n",
              "         [ 98,  93,  92]],\n",
              " \n",
              "        [[ 85,  96, 100],\n",
              "         [ 97, 108, 112],\n",
              "         [ 85,  94,  98],\n",
              "         ...,\n",
              "         [ 97,  92,  91],\n",
              "         [ 96,  91,  90],\n",
              "         [107, 102, 101]]], dtype=uint8)\n",
              " orig_shape: (2560, 2560)\n",
              " path: '/content/drive/MyDrive/ML_Ass10/datasets/pred/images/Tesla Model Y with license plate_15.jpeg'\n",
              " probs: None\n",
              " save_dir: 'runs/detect/predict'\n",
              " speed: {'preprocess': 5.662441253662109, 'inference': 234.27319526672363, 'postprocess': 1.0504722595214844},\n",
              " ultralytics.engine.results.Results object with attributes:\n",
              " \n",
              " boxes: ultralytics.engine.results.Boxes object\n",
              " keypoints: None\n",
              " masks: None\n",
              " names: {0: 'car_plate'}\n",
              " orig_img: array([[[ 76,  65, 215],\n",
              "         [ 76,  65, 215],\n",
              "         [ 77,  66, 216],\n",
              "         ...,\n",
              "         [246, 245, 241],\n",
              "         [246, 245, 241],\n",
              "         [246, 245, 241]],\n",
              " \n",
              "        [[ 76,  65, 215],\n",
              "         [ 76,  65, 215],\n",
              "         [ 77,  66, 216],\n",
              "         ...,\n",
              "         [246, 245, 241],\n",
              "         [246, 245, 241],\n",
              "         [246, 245, 241]],\n",
              " \n",
              "        [[ 77,  65, 215],\n",
              "         [ 77,  65, 215],\n",
              "         [ 77,  65, 215],\n",
              "         ...,\n",
              "         [246, 245, 241],\n",
              "         [246, 245, 241],\n",
              "         [246, 245, 241]],\n",
              " \n",
              "        ...,\n",
              " \n",
              "        [[  2,   2,  14],\n",
              "         [  2,   2,  14],\n",
              "         [  2,   2,  14],\n",
              "         ...,\n",
              "         [253, 255, 255],\n",
              "         [253, 255, 255],\n",
              "         [253, 255, 255]],\n",
              " \n",
              "        [[  2,   2,  16],\n",
              "         [  2,   2,  16],\n",
              "         [  2,   2,  16],\n",
              "         ...,\n",
              "         [253, 255, 255],\n",
              "         [253, 255, 255],\n",
              "         [253, 255, 255]],\n",
              " \n",
              "        [[  2,   2,  16],\n",
              "         [  2,   2,  16],\n",
              "         [  2,   2,  16],\n",
              "         ...,\n",
              "         [253, 255, 255],\n",
              "         [253, 255, 255],\n",
              "         [253, 255, 255]]], dtype=uint8)\n",
              " orig_shape: (3162, 5112)\n",
              " path: '/content/drive/MyDrive/ML_Ass10/datasets/pred/images/Toyota Camry with license plate_47.jpeg'\n",
              " probs: None\n",
              " save_dir: 'runs/detect/predict'\n",
              " speed: {'preprocess': 3.4837722778320312, 'inference': 148.56815338134766, 'postprocess': 0.9629726409912109},\n",
              " ultralytics.engine.results.Results object with attributes:\n",
              " \n",
              " boxes: ultralytics.engine.results.Boxes object\n",
              " keypoints: None\n",
              " masks: None\n",
              " names: {0: 'car_plate'}\n",
              " orig_img: array([[[ 87,  86,  88],\n",
              "         [ 82,  81,  83],\n",
              "         [ 64,  62,  62],\n",
              "         ...,\n",
              "         [ 93,  97, 116],\n",
              "         [114, 118, 137],\n",
              "         [144, 148, 167]],\n",
              " \n",
              "        [[ 79,  78,  80],\n",
              "         [ 78,  77,  79],\n",
              "         [ 64,  62,  62],\n",
              "         ...,\n",
              "         [ 97, 105, 122],\n",
              "         [128, 136, 153],\n",
              "         [160, 168, 185]],\n",
              " \n",
              "        [[ 86,  85,  87],\n",
              "         [ 85,  84,  86],\n",
              "         [ 73,  71,  71],\n",
              "         ...,\n",
              "         [144, 160, 173],\n",
              "         [124, 140, 153],\n",
              "         [107, 123, 136]],\n",
              " \n",
              "        ...,\n",
              " \n",
              "        [[ 44,  25,  17],\n",
              "         [ 43,  26,  17],\n",
              "         [ 44,  25,  17],\n",
              "         ...,\n",
              "         [ 34,  18,  12],\n",
              "         [ 34,  18,  12],\n",
              "         [ 34,  18,  12]],\n",
              " \n",
              "        [[ 46,  27,  20],\n",
              "         [ 44,  26,  19],\n",
              "         [ 44,  25,  18],\n",
              "         ...,\n",
              "         [ 34,  18,  12],\n",
              "         [ 33,  17,  11],\n",
              "         [ 33,  17,  11]],\n",
              " \n",
              "        [[ 39,  20,  15],\n",
              "         [ 38,  22,  16],\n",
              "         [ 39,  20,  15],\n",
              "         ...,\n",
              "         [ 36,  20,  14],\n",
              "         [ 35,  19,  13],\n",
              "         [ 32,  16,  10]]], dtype=uint8)\n",
              " orig_shape: (217, 400)\n",
              " path: '/content/drive/MyDrive/ML_Ass10/datasets/pred/images/Toyota Corolla with license plate_40.jpeg'\n",
              " probs: None\n",
              " save_dir: 'runs/detect/predict'\n",
              " speed: {'preprocess': 3.865480422973633, 'inference': 129.41861152648926, 'postprocess': 2.4018287658691406},\n",
              " ultralytics.engine.results.Results object with attributes:\n",
              " \n",
              " boxes: ultralytics.engine.results.Boxes object\n",
              " keypoints: None\n",
              " masks: None\n",
              " names: {0: 'car_plate'}\n",
              " orig_img: array([[[245, 237, 237],\n",
              "         [245, 237, 237],\n",
              "         [245, 237, 237],\n",
              "         ...,\n",
              "         [242, 237, 236],\n",
              "         [241, 236, 235],\n",
              "         [241, 236, 235]],\n",
              " \n",
              "        [[245, 237, 237],\n",
              "         [245, 237, 237],\n",
              "         [245, 237, 237],\n",
              "         ...,\n",
              "         [242, 237, 236],\n",
              "         [241, 236, 235],\n",
              "         [241, 236, 235]],\n",
              " \n",
              "        [[245, 237, 237],\n",
              "         [245, 237, 237],\n",
              "         [245, 237, 237],\n",
              "         ...,\n",
              "         [242, 237, 236],\n",
              "         [241, 236, 235],\n",
              "         [241, 236, 235]],\n",
              " \n",
              "        ...,\n",
              " \n",
              "        [[ 95,  93,  92],\n",
              "         [108, 106, 105],\n",
              "         [103, 101, 100],\n",
              "         ...,\n",
              "         [156, 151, 150],\n",
              "         [133, 128, 127],\n",
              "         [ 80,  75,  74]],\n",
              " \n",
              "        [[118, 116, 115],\n",
              "         [ 99,  97,  96],\n",
              "         [123, 121, 120],\n",
              "         ...,\n",
              "         [103,  98,  97],\n",
              "         [120, 115, 114],\n",
              "         [100,  95,  94]],\n",
              " \n",
              "        [[119, 117, 116],\n",
              "         [127, 125, 124],\n",
              "         [152, 150, 149],\n",
              "         ...,\n",
              "         [129, 124, 123],\n",
              "         [143, 138, 137],\n",
              "         [163, 158, 157]]], dtype=uint8)\n",
              " orig_shape: (1600, 1200)\n",
              " path: '/content/drive/MyDrive/ML_Ass10/datasets/pred/images/Toyota Highlander with license plate_59.jpeg'\n",
              " probs: None\n",
              " save_dir: 'runs/detect/predict'\n",
              " speed: {'preprocess': 4.960536956787109, 'inference': 173.02370071411133, 'postprocess': 1.352071762084961},\n",
              " ultralytics.engine.results.Results object with attributes:\n",
              " \n",
              " boxes: ultralytics.engine.results.Boxes object\n",
              " keypoints: None\n",
              " masks: None\n",
              " names: {0: 'car_plate'}\n",
              " orig_img: array([[[ 88,  81, 186],\n",
              "         [ 88,  81, 186],\n",
              "         [ 88,  81, 186],\n",
              "         ...,\n",
              "         [155, 106,  56],\n",
              "         [148,  99,  51],\n",
              "         [143,  93,  47]],\n",
              " \n",
              "        [[ 88,  81, 186],\n",
              "         [ 88,  81, 186],\n",
              "         [ 88,  81, 186],\n",
              "         ...,\n",
              "         [ 92,  49,  10],\n",
              "         [ 83,  39,   2],\n",
              "         [ 77,  32,   0]],\n",
              " \n",
              "        [[ 88,  81, 186],\n",
              "         [ 88,  81, 186],\n",
              "         [ 88,  81, 186],\n",
              "         ...,\n",
              "         [ 36,   8,   0],\n",
              "         [ 30,   1,   0],\n",
              "         [ 30,   1,   0]],\n",
              " \n",
              "        ...,\n",
              " \n",
              "        [[162, 166, 171],\n",
              "         [114, 118, 123],\n",
              "         [ 93,  97, 102],\n",
              "         ...,\n",
              "         [ 92,  79,  71],\n",
              "         [ 93,  80,  72],\n",
              "         [ 93,  80,  72]],\n",
              " \n",
              "        [[132, 136, 141],\n",
              "         [103, 107, 112],\n",
              "         [ 97, 101, 106],\n",
              "         ...,\n",
              "         [ 93,  82,  74],\n",
              "         [ 94,  83,  75],\n",
              "         [ 94,  83,  75]],\n",
              " \n",
              "        [[146, 150, 155],\n",
              "         [133, 137, 142],\n",
              "         [142, 146, 151],\n",
              "         ...,\n",
              "         [ 95,  84,  76],\n",
              "         [ 95,  84,  76],\n",
              "         [ 95,  84,  76]]], dtype=uint8)\n",
              " orig_shape: (720, 1280)\n",
              " path: '/content/drive/MyDrive/ML_Ass10/datasets/pred/images/Toyota RAV4 with license plate_4.jpeg'\n",
              " probs: None\n",
              " save_dir: 'runs/detect/predict'\n",
              " speed: {'preprocess': 3.9682388305664062, 'inference': 148.63204956054688, 'postprocess': 1.0945796966552734},\n",
              " ultralytics.engine.results.Results object with attributes:\n",
              " \n",
              " boxes: ultralytics.engine.results.Boxes object\n",
              " keypoints: None\n",
              " masks: None\n",
              " names: {0: 'car_plate'}\n",
              " orig_img: array([[[187, 193, 192],\n",
              "         [186, 192, 191],\n",
              "         [185, 191, 190],\n",
              "         ...,\n",
              "         [168, 168, 162],\n",
              "         [170, 167, 162],\n",
              "         [171, 167, 162]],\n",
              " \n",
              "        [[185, 191, 190],\n",
              "         [184, 190, 189],\n",
              "         [184, 190, 189],\n",
              "         ...,\n",
              "         [168, 168, 162],\n",
              "         [170, 167, 162],\n",
              "         [171, 167, 162]],\n",
              " \n",
              "        [[184, 190, 189],\n",
              "         [183, 189, 188],\n",
              "         [183, 189, 188],\n",
              "         ...,\n",
              "         [168, 168, 162],\n",
              "         [170, 167, 162],\n",
              "         [171, 167, 162]],\n",
              " \n",
              "        ...,\n",
              " \n",
              "        [[ 27,  46,  83],\n",
              "         [ 24,  42,  79],\n",
              "         [ 21,  37,  74],\n",
              "         ...,\n",
              "         [ 17,  43,  79],\n",
              "         [ 22,  48,  84],\n",
              "         [ 25,  51,  87]],\n",
              " \n",
              "        [[ 30,  49,  86],\n",
              "         [ 36,  54,  91],\n",
              "         [ 38,  54,  91],\n",
              "         ...,\n",
              "         [ 21,  47,  83],\n",
              "         [ 27,  53,  89],\n",
              "         [ 31,  57,  93]],\n",
              " \n",
              "        [[ 20,  42,  78],\n",
              "         [ 37,  56,  93],\n",
              "         [ 44,  60,  97],\n",
              "         ...,\n",
              "         [ 25,  51,  87],\n",
              "         [ 31,  57,  93],\n",
              "         [ 36,  62,  98]]], dtype=uint8)\n",
              " orig_shape: (739, 1109)\n",
              " path: '/content/drive/MyDrive/ML_Ass10/datasets/pred/images/Toyota Tacoma with license plate_25.jpeg'\n",
              " probs: None\n",
              " save_dir: 'runs/detect/predict'\n",
              " speed: {'preprocess': 3.087282180786133, 'inference': 154.99186515808105, 'postprocess': 1.0609626770019531},\n",
              " ultralytics.engine.results.Results object with attributes:\n",
              " \n",
              " boxes: ultralytics.engine.results.Boxes object\n",
              " keypoints: None\n",
              " masks: None\n",
              " names: {0: 'car_plate'}\n",
              " orig_img: array([[[139, 185, 216],\n",
              "         [108, 154, 185],\n",
              "         [ 93, 139, 173],\n",
              "         ...,\n",
              "         [100, 118, 117],\n",
              "         [100, 119, 116],\n",
              "         [115, 134, 131]],\n",
              " \n",
              "        [[105, 150, 183],\n",
              "         [ 98, 143, 176],\n",
              "         [103, 148, 182],\n",
              "         ...,\n",
              "         [ 94, 112, 111],\n",
              "         [ 97, 116, 113],\n",
              "         [101, 120, 117]],\n",
              " \n",
              "        [[ 78, 120, 155],\n",
              "         [ 75, 120, 154],\n",
              "         [ 91, 136, 170],\n",
              "         ...,\n",
              "         [102, 120, 119],\n",
              "         [104, 123, 120],\n",
              "         [ 88, 108, 103]],\n",
              " \n",
              "        ...,\n",
              " \n",
              "        [[ 29,  72, 123],\n",
              "         [  4,  45,  94],\n",
              "         [ 36,  73, 117],\n",
              "         ...,\n",
              "         [ 97,  99, 100],\n",
              "         [ 90,  92,  93],\n",
              "         [ 87,  89,  90]],\n",
              " \n",
              "        [[ 32,  72, 124],\n",
              "         [ 34,  74, 123],\n",
              "         [ 15,  48,  93],\n",
              "         ...,\n",
              "         [111, 113, 114],\n",
              "         [108, 110, 111],\n",
              "         [108, 110, 111]],\n",
              " \n",
              "        [[ 10,  50, 102],\n",
              "         [  0,  37,  85],\n",
              "         [ 12,  45,  90],\n",
              "         ...,\n",
              "         [103, 105, 106],\n",
              "         [103, 105, 106],\n",
              "         [105, 107, 108]]], dtype=uint8)\n",
              " orig_shape: (768, 1024)\n",
              " path: '/content/drive/MyDrive/ML_Ass10/datasets/pred/images/Toyota Tacoma with license plate_26.jpeg'\n",
              " probs: None\n",
              " save_dir: 'runs/detect/predict'\n",
              " speed: {'preprocess': 3.25775146484375, 'inference': 175.25482177734375, 'postprocess': 0.9794235229492188},\n",
              " ultralytics.engine.results.Results object with attributes:\n",
              " \n",
              " boxes: ultralytics.engine.results.Boxes object\n",
              " keypoints: None\n",
              " masks: None\n",
              " names: {0: 'car_plate'}\n",
              " orig_img: array([[[231, 234, 242],\n",
              "         [231, 234, 242],\n",
              "         [232, 235, 243],\n",
              "         ...,\n",
              "         [ 22,  39,  35],\n",
              "         [ 23,  37,  33],\n",
              "         [ 24,  38,  34]],\n",
              " \n",
              "        [[232, 235, 243],\n",
              "         [233, 236, 244],\n",
              "         [233, 236, 244],\n",
              "         ...,\n",
              "         [ 24,  39,  35],\n",
              "         [ 23,  37,  33],\n",
              "         [ 22,  36,  32]],\n",
              " \n",
              "        [[234, 237, 245],\n",
              "         [234, 237, 245],\n",
              "         [235, 238, 246],\n",
              "         ...,\n",
              "         [ 24,  38,  34],\n",
              "         [ 22,  33,  30],\n",
              "         [ 21,  32,  29]],\n",
              " \n",
              "        ...,\n",
              " \n",
              "        [[189, 186, 188],\n",
              "         [189, 186, 188],\n",
              "         [189, 186, 188],\n",
              "         ...,\n",
              "         [168, 166, 166],\n",
              "         [165, 163, 163],\n",
              "         [171, 169, 169]],\n",
              " \n",
              "        [[190, 187, 189],\n",
              "         [190, 187, 189],\n",
              "         [190, 187, 189],\n",
              "         ...,\n",
              "         [168, 166, 166],\n",
              "         [165, 163, 163],\n",
              "         [171, 169, 169]],\n",
              " \n",
              "        [[192, 189, 191],\n",
              "         [192, 189, 191],\n",
              "         [192, 189, 191],\n",
              "         ...,\n",
              "         [168, 166, 166],\n",
              "         [165, 163, 163],\n",
              "         [171, 169, 169]]], dtype=uint8)\n",
              " orig_shape: (683, 1024)\n",
              " path: '/content/drive/MyDrive/ML_Ass10/datasets/pred/images/Volkswagen Beetle with license plate_11.jpeg'\n",
              " probs: None\n",
              " save_dir: 'runs/detect/predict'\n",
              " speed: {'preprocess': 9.269952774047852, 'inference': 171.10538482666016, 'postprocess': 0.9808540344238281},\n",
              " ultralytics.engine.results.Results object with attributes:\n",
              " \n",
              " boxes: ultralytics.engine.results.Boxes object\n",
              " keypoints: None\n",
              " masks: None\n",
              " names: {0: 'car_plate'}\n",
              " orig_img: array([[[ 68,  89, 104],\n",
              "         [ 53,  74,  89],\n",
              "         [ 48,  71,  87],\n",
              "         ...,\n",
              "         [ 68,  97, 136],\n",
              "         [ 65,  96, 135],\n",
              "         [ 64,  95, 134]],\n",
              " \n",
              "        [[ 43,  66,  82],\n",
              "         [ 38,  61,  77],\n",
              "         [ 39,  64,  80],\n",
              "         ...,\n",
              "         [ 64,  96, 132],\n",
              "         [ 63,  94, 133],\n",
              "         [ 62,  93, 132]],\n",
              " \n",
              "        [[ 53,  79,  96],\n",
              "         [ 47,  73,  90],\n",
              "         [ 40,  68,  85],\n",
              "         ...,\n",
              "         [ 60,  92, 128],\n",
              "         [ 60,  92, 128],\n",
              "         [ 59,  91, 127]],\n",
              " \n",
              "        ...,\n",
              " \n",
              "        [[133, 161, 178],\n",
              "         [116, 144, 161],\n",
              "         [ 95, 123, 140],\n",
              "         ...,\n",
              "         [140, 173, 189],\n",
              "         [142, 175, 191],\n",
              "         [143, 176, 192]],\n",
              " \n",
              "        [[112, 140, 157],\n",
              "         [ 97, 125, 142],\n",
              "         [ 95, 123, 140],\n",
              "         ...,\n",
              "         [139, 172, 188],\n",
              "         [141, 174, 190],\n",
              "         [144, 177, 193]],\n",
              " \n",
              "        [[132, 160, 177],\n",
              "         [120, 148, 165],\n",
              "         [118, 146, 163],\n",
              "         ...,\n",
              "         [135, 168, 184],\n",
              "         [138, 171, 187],\n",
              "         [142, 175, 191]]], dtype=uint8)\n",
              " orig_shape: (590, 819)\n",
              " path: '/content/drive/MyDrive/ML_Ass10/datasets/pred/images/Volkswagen Beetle with license plate_39.jpeg'\n",
              " probs: None\n",
              " save_dir: 'runs/detect/predict'\n",
              " speed: {'preprocess': 2.939939498901367, 'inference': 162.63437271118164, 'postprocess': 0.87738037109375},\n",
              " ultralytics.engine.results.Results object with attributes:\n",
              " \n",
              " boxes: ultralytics.engine.results.Boxes object\n",
              " keypoints: None\n",
              " masks: None\n",
              " names: {0: 'car_plate'}\n",
              " orig_img: array([[[251, 251, 251],\n",
              "         [251, 251, 251],\n",
              "         [251, 251, 251],\n",
              "         ...,\n",
              "         [245, 245, 245],\n",
              "         [245, 245, 245],\n",
              "         [245, 245, 245]],\n",
              " \n",
              "        [[251, 251, 251],\n",
              "         [251, 251, 251],\n",
              "         [251, 251, 251],\n",
              "         ...,\n",
              "         [245, 245, 245],\n",
              "         [245, 245, 245],\n",
              "         [245, 245, 245]],\n",
              " \n",
              "        [[251, 251, 251],\n",
              "         [251, 251, 251],\n",
              "         [251, 251, 251],\n",
              "         ...,\n",
              "         [245, 245, 245],\n",
              "         [245, 245, 245],\n",
              "         [245, 245, 245]],\n",
              " \n",
              "        ...,\n",
              " \n",
              "        [[ 95,  75,  57],\n",
              "         [ 95,  75,  57],\n",
              "         [ 83,  63,  45],\n",
              "         ...,\n",
              "         [197, 193, 204],\n",
              "         [126, 122, 133],\n",
              "         [175, 171, 182]],\n",
              " \n",
              "        [[ 83,  63,  45],\n",
              "         [ 95,  75,  57],\n",
              "         [114,  94,  76],\n",
              "         ...,\n",
              "         [116, 110, 121],\n",
              "         [144, 138, 149],\n",
              "         [225, 222, 231]],\n",
              " \n",
              "        [[ 74,  54,  36],\n",
              "         [ 76,  56,  38],\n",
              "         [104,  84,  66],\n",
              "         ...,\n",
              "         [ 96,  90, 101],\n",
              "         [127, 121, 132],\n",
              "         [151, 148, 157]]], dtype=uint8)\n",
              " orig_shape: (600, 799)\n",
              " path: '/content/drive/MyDrive/ML_Ass10/datasets/pred/images/Volkswagen Beetle with license plate_7.jpeg'\n",
              " probs: None\n",
              " save_dir: 'runs/detect/predict'\n",
              " speed: {'preprocess': 3.9162635803222656, 'inference': 190.19317626953125, 'postprocess': 1.4798641204833984},\n",
              " ultralytics.engine.results.Results object with attributes:\n",
              " \n",
              " boxes: ultralytics.engine.results.Boxes object\n",
              " keypoints: None\n",
              " masks: None\n",
              " names: {0: 'car_plate'}\n",
              " orig_img: array([[[ 26,  31,  32],\n",
              "         [ 25,  30,  31],\n",
              "         [ 25,  30,  31],\n",
              "         ...,\n",
              "         [ 14,  13,   9],\n",
              "         [ 15,  14,  10],\n",
              "         [ 15,  14,  10]],\n",
              " \n",
              "        [[ 26,  31,  32],\n",
              "         [ 25,  30,  31],\n",
              "         [ 25,  30,  31],\n",
              "         ...,\n",
              "         [ 14,  13,   9],\n",
              "         [ 15,  14,  10],\n",
              "         [ 15,  14,  10]],\n",
              " \n",
              "        [[ 26,  31,  32],\n",
              "         [ 25,  30,  31],\n",
              "         [ 25,  30,  31],\n",
              "         ...,\n",
              "         [ 14,  13,   9],\n",
              "         [ 14,  13,   9],\n",
              "         [ 15,  14,  10]],\n",
              " \n",
              "        ...,\n",
              " \n",
              "        [[104, 109, 112],\n",
              "         [104, 109, 112],\n",
              "         [104, 109, 112],\n",
              "         ...,\n",
              "         [174, 180, 185],\n",
              "         [171, 177, 182],\n",
              "         [170, 176, 181]],\n",
              " \n",
              "        [[104, 109, 112],\n",
              "         [104, 109, 112],\n",
              "         [103, 108, 111],\n",
              "         ...,\n",
              "         [173, 179, 184],\n",
              "         [171, 177, 182],\n",
              "         [170, 176, 181]],\n",
              " \n",
              "        [[104, 109, 112],\n",
              "         [104, 109, 112],\n",
              "         [104, 109, 112],\n",
              "         ...,\n",
              "         [173, 179, 184],\n",
              "         [171, 177, 182],\n",
              "         [170, 176, 181]]], dtype=uint8)\n",
              " orig_shape: (782, 1280)\n",
              " path: '/content/drive/MyDrive/ML_Ass10/datasets/pred/images/Volkswagen Golf with license plate_56.jpeg'\n",
              " probs: None\n",
              " save_dir: 'runs/detect/predict'\n",
              " speed: {'preprocess': 5.191564559936523, 'inference': 235.20374298095703, 'postprocess': 1.3077259063720703},\n",
              " ultralytics.engine.results.Results object with attributes:\n",
              " \n",
              " boxes: ultralytics.engine.results.Boxes object\n",
              " keypoints: None\n",
              " masks: None\n",
              " names: {0: 'car_plate'}\n",
              " orig_img: array([[[235, 253, 252],\n",
              "         [235, 253, 252],\n",
              "         [237, 253, 252],\n",
              "         ...,\n",
              "         [252, 254, 254],\n",
              "         [252, 254, 254],\n",
              "         [252, 254, 254]],\n",
              " \n",
              "        [[235, 253, 252],\n",
              "         [235, 253, 252],\n",
              "         [237, 253, 252],\n",
              "         ...,\n",
              "         [252, 254, 254],\n",
              "         [252, 254, 254],\n",
              "         [252, 254, 254]],\n",
              " \n",
              "        [[235, 253, 252],\n",
              "         [235, 253, 252],\n",
              "         [237, 253, 252],\n",
              "         ...,\n",
              "         [252, 254, 254],\n",
              "         [252, 254, 254],\n",
              "         [252, 254, 254]],\n",
              " \n",
              "        ...,\n",
              " \n",
              "        [[167, 173, 184],\n",
              "         [165, 171, 182],\n",
              "         [164, 171, 180],\n",
              "         ...,\n",
              "         [121, 129, 136],\n",
              "         [122, 132, 139],\n",
              "         [124, 134, 141]],\n",
              " \n",
              "        [[168, 174, 185],\n",
              "         [166, 172, 183],\n",
              "         [165, 172, 181],\n",
              "         ...,\n",
              "         [121, 129, 136],\n",
              "         [121, 131, 138],\n",
              "         [122, 132, 139]],\n",
              " \n",
              "        [[172, 178, 189],\n",
              "         [170, 176, 187],\n",
              "         [168, 175, 184],\n",
              "         ...,\n",
              "         [121, 129, 136],\n",
              "         [120, 130, 137],\n",
              "         [121, 131, 138]]], dtype=uint8)\n",
              " orig_shape: (340, 476)\n",
              " path: '/content/drive/MyDrive/ML_Ass10/datasets/pred/images/Volkswagen Passat with license plate_31.jpeg'\n",
              " probs: None\n",
              " save_dir: 'runs/detect/predict'\n",
              " speed: {'preprocess': 4.117488861083984, 'inference': 305.51838874816895, 'postprocess': 1.9779205322265625},\n",
              " ultralytics.engine.results.Results object with attributes:\n",
              " \n",
              " boxes: ultralytics.engine.results.Boxes object\n",
              " keypoints: None\n",
              " masks: None\n",
              " names: {0: 'car_plate'}\n",
              " orig_img: array([[[ 56,  69,  71],\n",
              "         [ 39,  52,  54],\n",
              "         [ 47,  59,  63],\n",
              "         ...,\n",
              "         [105, 141, 129],\n",
              "         [105, 140, 130],\n",
              "         [110, 145, 135]],\n",
              " \n",
              "        [[ 48,  61,  63],\n",
              "         [ 42,  55,  57],\n",
              "         [ 37,  49,  53],\n",
              "         ...,\n",
              "         [138, 174, 162],\n",
              "         [138, 172, 162],\n",
              "         [139, 174, 164]],\n",
              " \n",
              "        [[ 37,  49,  49],\n",
              "         [ 45,  57,  57],\n",
              "         [ 42,  54,  56],\n",
              "         ...,\n",
              "         [141, 175, 165],\n",
              "         [143, 174, 165],\n",
              "         [139, 173, 163]],\n",
              " \n",
              "        ...,\n",
              " \n",
              "        [[ 20,  91, 101],\n",
              "         [ 15,  88,  96],\n",
              "         [ 15,  89,  93],\n",
              "         ...,\n",
              "         [ 35, 115, 162],\n",
              "         [ 42, 121, 170],\n",
              "         [ 45, 124, 173]],\n",
              " \n",
              "        [[ 26,  94, 107],\n",
              "         [ 19,  91,  99],\n",
              "         [ 23,  96, 100],\n",
              "         ...,\n",
              "         [ 10,  84, 126],\n",
              "         [ 21,  93, 135],\n",
              "         [ 26,  97, 141]],\n",
              " \n",
              "        [[ 24,  92, 105],\n",
              "         [  3,  72,  81],\n",
              "         [ 16,  89,  93],\n",
              "         ...,\n",
              "         [ 25,  96, 134],\n",
              "         [ 37, 106, 146],\n",
              "         [ 37, 106, 146]]], dtype=uint8)\n",
              " orig_shape: (768, 1024)\n",
              " path: '/content/drive/MyDrive/ML_Ass10/datasets/pred/images/Volkswagen Passat with license plate_61.jpeg'\n",
              " probs: None\n",
              " save_dir: 'runs/detect/predict'\n",
              " speed: {'preprocess': 4.628419876098633, 'inference': 250.8988380432129, 'postprocess': 1.2538433074951172},\n",
              " ultralytics.engine.results.Results object with attributes:\n",
              " \n",
              " boxes: ultralytics.engine.results.Boxes object\n",
              " keypoints: None\n",
              " masks: None\n",
              " names: {0: 'car_plate'}\n",
              " orig_img: array([[[0, 0, 0],\n",
              "         [0, 0, 0],\n",
              "         [0, 0, 0],\n",
              "         ...,\n",
              "         [0, 0, 0],\n",
              "         [0, 0, 0],\n",
              "         [0, 0, 0]],\n",
              " \n",
              "        [[0, 0, 0],\n",
              "         [0, 0, 0],\n",
              "         [0, 0, 0],\n",
              "         ...,\n",
              "         [0, 0, 0],\n",
              "         [0, 0, 0],\n",
              "         [0, 0, 0]],\n",
              " \n",
              "        [[0, 0, 0],\n",
              "         [0, 0, 0],\n",
              "         [0, 0, 0],\n",
              "         ...,\n",
              "         [0, 0, 0],\n",
              "         [0, 0, 0],\n",
              "         [0, 0, 0]],\n",
              " \n",
              "        ...,\n",
              " \n",
              "        [[0, 0, 0],\n",
              "         [0, 0, 0],\n",
              "         [0, 0, 0],\n",
              "         ...,\n",
              "         [0, 0, 0],\n",
              "         [0, 0, 0],\n",
              "         [0, 0, 0]],\n",
              " \n",
              "        [[0, 0, 0],\n",
              "         [0, 0, 0],\n",
              "         [0, 0, 0],\n",
              "         ...,\n",
              "         [0, 0, 0],\n",
              "         [0, 0, 0],\n",
              "         [0, 0, 0]],\n",
              " \n",
              "        [[0, 0, 0],\n",
              "         [0, 0, 0],\n",
              "         [0, 0, 0],\n",
              "         ...,\n",
              "         [0, 0, 0],\n",
              "         [0, 0, 0],\n",
              "         [0, 0, 0]]], dtype=uint8)\n",
              " orig_shape: (480, 640)\n",
              " path: '/content/drive/MyDrive/ML_Ass10/datasets/pred/images/Volkswagen Passat with license plate_7.jpeg'\n",
              " probs: None\n",
              " save_dir: 'runs/detect/predict'\n",
              " speed: {'preprocess': 2.2652149200439453, 'inference': 281.1424732208252, 'postprocess': 1.2199878692626953},\n",
              " ultralytics.engine.results.Results object with attributes:\n",
              " \n",
              " boxes: ultralytics.engine.results.Boxes object\n",
              " keypoints: None\n",
              " masks: None\n",
              " names: {0: 'car_plate'}\n",
              " orig_img: array([[[255, 255, 255],\n",
              "         [255, 255, 255],\n",
              "         [255, 255, 255],\n",
              "         ...,\n",
              "         [255, 255, 255],\n",
              "         [255, 255, 255],\n",
              "         [255, 255, 255]],\n",
              " \n",
              "        [[255, 255, 255],\n",
              "         [255, 255, 255],\n",
              "         [255, 255, 255],\n",
              "         ...,\n",
              "         [255, 255, 255],\n",
              "         [255, 255, 255],\n",
              "         [255, 255, 255]],\n",
              " \n",
              "        [[255, 255, 255],\n",
              "         [255, 255, 255],\n",
              "         [255, 255, 255],\n",
              "         ...,\n",
              "         [255, 255, 255],\n",
              "         [255, 255, 255],\n",
              "         [255, 255, 255]],\n",
              " \n",
              "        ...,\n",
              " \n",
              "        [[255, 255, 255],\n",
              "         [255, 255, 255],\n",
              "         [255, 255, 255],\n",
              "         ...,\n",
              "         [255, 255, 255],\n",
              "         [255, 255, 255],\n",
              "         [255, 255, 255]],\n",
              " \n",
              "        [[255, 255, 255],\n",
              "         [255, 255, 255],\n",
              "         [255, 255, 255],\n",
              "         ...,\n",
              "         [255, 255, 255],\n",
              "         [255, 255, 255],\n",
              "         [255, 255, 255]],\n",
              " \n",
              "        [[255, 255, 255],\n",
              "         [255, 255, 255],\n",
              "         [255, 255, 255],\n",
              "         ...,\n",
              "         [255, 255, 255],\n",
              "         [255, 255, 255],\n",
              "         [255, 255, 255]]], dtype=uint8)\n",
              " orig_shape: (744, 992)\n",
              " path: '/content/drive/MyDrive/ML_Ass10/datasets/pred/images/Volkswagen Tiguan with license plate_43.jpeg'\n",
              " probs: None\n",
              " save_dir: 'runs/detect/predict'\n",
              " speed: {'preprocess': 4.459142684936523, 'inference': 271.8513011932373, 'postprocess': 1.224517822265625},\n",
              " ultralytics.engine.results.Results object with attributes:\n",
              " \n",
              " boxes: ultralytics.engine.results.Boxes object\n",
              " keypoints: None\n",
              " masks: None\n",
              " names: {0: 'car_plate'}\n",
              " orig_img: array([[[159, 119,  94],\n",
              "         [159, 119,  94],\n",
              "         [159, 119,  94],\n",
              "         ...,\n",
              "         [ 81,  84,  88],\n",
              "         [ 80,  81,  85],\n",
              "         [ 78,  79,  83]],\n",
              " \n",
              "        [[160, 120,  95],\n",
              "         [160, 120,  95],\n",
              "         [160, 120,  95],\n",
              "         ...,\n",
              "         [ 83,  86,  90],\n",
              "         [ 83,  84,  88],\n",
              "         [ 80,  81,  85]],\n",
              " \n",
              "        [[160, 120,  95],\n",
              "         [160, 120,  95],\n",
              "         [160, 120,  95],\n",
              "         ...,\n",
              "         [ 88,  89,  93],\n",
              "         [ 86,  87,  91],\n",
              "         [ 84,  85,  89]],\n",
              " \n",
              "        ...,\n",
              " \n",
              "        [[177, 175, 175],\n",
              "         [177, 175, 175],\n",
              "         [177, 175, 175],\n",
              "         ...,\n",
              "         [159, 115,  86],\n",
              "         [159, 115,  86],\n",
              "         [160, 116,  87]],\n",
              " \n",
              "        [[178, 176, 176],\n",
              "         [178, 176, 176],\n",
              "         [177, 175, 175],\n",
              "         ...,\n",
              "         [159, 115,  86],\n",
              "         [160, 116,  87],\n",
              "         [160, 116,  87]],\n",
              " \n",
              "        [[178, 176, 176],\n",
              "         [178, 176, 176],\n",
              "         [177, 175, 175],\n",
              "         ...,\n",
              "         [160, 116,  87],\n",
              "         [160, 116,  87],\n",
              "         [160, 116,  87]]], dtype=uint8)\n",
              " orig_shape: (360, 640)\n",
              " path: '/content/drive/MyDrive/ML_Ass10/datasets/pred/images/car with license plate_64.jpeg'\n",
              " probs: None\n",
              " save_dir: 'runs/detect/predict'\n",
              " speed: {'preprocess': 1.8072128295898438, 'inference': 208.78148078918457, 'postprocess': 1.1563301086425781},\n",
              " ultralytics.engine.results.Results object with attributes:\n",
              " \n",
              " boxes: ultralytics.engine.results.Boxes object\n",
              " keypoints: None\n",
              " masks: None\n",
              " names: {0: 'car_plate'}\n",
              " orig_img: array([[[35, 26, 22],\n",
              "         [35, 26, 22],\n",
              "         [35, 26, 22],\n",
              "         ...,\n",
              "         [27, 18,  9],\n",
              "         [27, 18,  9],\n",
              "         [27, 18,  9]],\n",
              " \n",
              "        [[35, 26, 22],\n",
              "         [35, 26, 22],\n",
              "         [35, 26, 22],\n",
              "         ...,\n",
              "         [27, 18,  9],\n",
              "         [27, 18,  9],\n",
              "         [27, 18,  9]],\n",
              " \n",
              "        [[35, 26, 22],\n",
              "         [35, 26, 22],\n",
              "         [35, 26, 22],\n",
              "         ...,\n",
              "         [27, 18,  9],\n",
              "         [27, 18,  9],\n",
              "         [27, 18,  9]],\n",
              " \n",
              "        ...,\n",
              " \n",
              "        [[47, 42, 41],\n",
              "         [46, 41, 40],\n",
              "         [46, 41, 40],\n",
              "         ...,\n",
              "         [44, 55, 63],\n",
              "         [45, 56, 64],\n",
              "         [46, 57, 65]],\n",
              " \n",
              "        [[45, 40, 39],\n",
              "         [45, 40, 39],\n",
              "         [45, 40, 39],\n",
              "         ...,\n",
              "         [44, 55, 63],\n",
              "         [45, 56, 64],\n",
              "         [46, 57, 65]],\n",
              " \n",
              "        [[45, 40, 39],\n",
              "         [45, 40, 39],\n",
              "         [45, 40, 39],\n",
              "         ...,\n",
              "         [44, 55, 63],\n",
              "         [45, 56, 64],\n",
              "         [46, 57, 65]]], dtype=uint8)\n",
              " orig_shape: (533, 800)\n",
              " path: '/content/drive/MyDrive/ML_Ass10/datasets/pred/images/tesla model 3 with license plate_5.jpeg'\n",
              " probs: None\n",
              " save_dir: 'runs/detect/predict'\n",
              " speed: {'preprocess': 3.880739212036133, 'inference': 260.60962677001953, 'postprocess': 1.504659652709961},\n",
              " ultralytics.engine.results.Results object with attributes:\n",
              " \n",
              " boxes: ultralytics.engine.results.Boxes object\n",
              " keypoints: None\n",
              " masks: None\n",
              " names: {0: 'car_plate'}\n",
              " orig_img: array([[[ 86,  49,  27],\n",
              "         [ 85,  48,  26],\n",
              "         [ 85,  48,  26],\n",
              "         ...,\n",
              "         [ 35,  35,  35],\n",
              "         [ 32,  32,  32],\n",
              "         [ 32,  32,  32]],\n",
              " \n",
              "        [[ 84,  50,  27],\n",
              "         [ 83,  49,  26],\n",
              "         [ 83,  49,  26],\n",
              "         ...,\n",
              "         [ 37,  37,  37],\n",
              "         [ 35,  35,  35],\n",
              "         [ 34,  34,  34]],\n",
              " \n",
              "        [[ 85,  51,  28],\n",
              "         [ 84,  50,  27],\n",
              "         [ 83,  49,  26],\n",
              "         ...,\n",
              "         [ 38,  36,  36],\n",
              "         [ 37,  35,  35],\n",
              "         [ 36,  34,  34]],\n",
              " \n",
              "        ...,\n",
              " \n",
              "        [[127, 130, 135],\n",
              "         [131, 134, 139],\n",
              "         [115, 118, 123],\n",
              "         ...,\n",
              "         [190, 189, 191],\n",
              "         [174, 173, 175],\n",
              "         [110, 109, 111]],\n",
              " \n",
              "        [[139, 142, 147],\n",
              "         [139, 142, 147],\n",
              "         [139, 142, 147],\n",
              "         ...,\n",
              "         [135, 134, 136],\n",
              "         [182, 181, 183],\n",
              "         [148, 147, 149]],\n",
              " \n",
              "        [[135, 138, 143],\n",
              "         [125, 128, 133],\n",
              "         [161, 164, 169],\n",
              "         ...,\n",
              "         [ 73,  72,  74],\n",
              "         [128, 127, 129],\n",
              "         [151, 150, 152]]], dtype=uint8)\n",
              " orig_shape: (900, 900)\n",
              " path: '/content/drive/MyDrive/ML_Ass10/datasets/pred/images/tesla model 3 with license plate_9.jpeg'\n",
              " probs: None\n",
              " save_dir: 'runs/detect/predict'\n",
              " speed: {'preprocess': 5.52058219909668, 'inference': 336.8833065032959, 'postprocess': 1.8465518951416016},\n",
              " ultralytics.engine.results.Results object with attributes:\n",
              " \n",
              " boxes: ultralytics.engine.results.Boxes object\n",
              " keypoints: None\n",
              " masks: None\n",
              " names: {0: 'car_plate'}\n",
              " orig_img: array([[[250, 255, 255],\n",
              "         [250, 255, 255],\n",
              "         [246, 248, 249],\n",
              "         ...,\n",
              "         [255, 253, 255],\n",
              "         [255, 253, 255],\n",
              "         [255, 252, 255]],\n",
              " \n",
              "        [[251, 253, 253],\n",
              "         [249, 251, 251],\n",
              "         [252, 254, 254],\n",
              "         ...,\n",
              "         [255, 253, 255],\n",
              "         [255, 249, 254],\n",
              "         [255, 253, 255]],\n",
              " \n",
              "        [[255, 252, 253],\n",
              "         [255, 255, 255],\n",
              "         [160, 158, 157],\n",
              "         ...,\n",
              "         [154, 147, 150],\n",
              "         [255, 253, 255],\n",
              "         [255, 251, 253]],\n",
              " \n",
              "        ...,\n",
              " \n",
              "        [[255, 255, 254],\n",
              "         [255, 255, 254],\n",
              "         [132, 130, 129],\n",
              "         ...,\n",
              "         [131, 130, 126],\n",
              "         [254, 253, 249],\n",
              "         [255, 255, 252]],\n",
              " \n",
              "        [[251, 251, 251],\n",
              "         [254, 254, 254],\n",
              "         [251, 251, 251],\n",
              "         ...,\n",
              "         [255, 255, 252],\n",
              "         [254, 253, 249],\n",
              "         [250, 251, 249]],\n",
              " \n",
              "        [[251, 251, 251],\n",
              "         [255, 255, 255],\n",
              "         [255, 255, 255],\n",
              "         ...,\n",
              "         [255, 254, 250],\n",
              "         [255, 255, 252],\n",
              "         [255, 255, 254]]], dtype=uint8)\n",
              " orig_shape: (388, 507)\n",
              " path: '/content/drive/MyDrive/ML_Ass10/datasets/pred/images/vehicle with license plate_10.jpeg'\n",
              " probs: None\n",
              " save_dir: 'runs/detect/predict'\n",
              " speed: {'preprocess': 3.8161277770996094, 'inference': 300.5673885345459, 'postprocess': 1.5261173248291016},\n",
              " ultralytics.engine.results.Results object with attributes:\n",
              " \n",
              " boxes: ultralytics.engine.results.Boxes object\n",
              " keypoints: None\n",
              " masks: None\n",
              " names: {0: 'car_plate'}\n",
              " orig_img: array([[[184, 165, 160],\n",
              "         [191, 177, 171],\n",
              "         [221, 212, 208],\n",
              "         ...,\n",
              "         [231, 234, 239],\n",
              "         [190, 193, 198],\n",
              "         [152, 155, 160]],\n",
              " \n",
              "        [[196, 177, 172],\n",
              "         [204, 190, 184],\n",
              "         [232, 223, 219],\n",
              "         ...,\n",
              "         [240, 243, 248],\n",
              "         [203, 206, 211],\n",
              "         [171, 174, 179]],\n",
              " \n",
              "        [[186, 167, 164],\n",
              "         [191, 176, 173],\n",
              "         [223, 214, 210],\n",
              "         ...,\n",
              "         [248, 251, 255],\n",
              "         [215, 218, 223],\n",
              "         [186, 189, 194]],\n",
              " \n",
              "        ...,\n",
              " \n",
              "        [[121, 117, 116],\n",
              "         [121, 117, 116],\n",
              "         [121, 117, 116],\n",
              "         ...,\n",
              "         [108, 104, 115],\n",
              "         [108, 104, 115],\n",
              "         [108, 104, 115]],\n",
              " \n",
              "        [[121, 117, 116],\n",
              "         [120, 116, 115],\n",
              "         [121, 117, 116],\n",
              "         ...,\n",
              "         [107, 103, 114],\n",
              "         [108, 104, 115],\n",
              "         [108, 104, 115]],\n",
              " \n",
              "        [[120, 116, 115],\n",
              "         [120, 116, 115],\n",
              "         [121, 117, 116],\n",
              "         ...,\n",
              "         [107, 103, 114],\n",
              "         [108, 104, 115],\n",
              "         [107, 103, 114]]], dtype=uint8)\n",
              " orig_shape: (556, 990)\n",
              " path: '/content/drive/MyDrive/ML_Ass10/datasets/pred/images/vehicle with license plate_29.jpeg'\n",
              " probs: None\n",
              " save_dir: 'runs/detect/predict'\n",
              " speed: {'preprocess': 4.197359085083008, 'inference': 191.92910194396973, 'postprocess': 0.9067058563232422},\n",
              " ultralytics.engine.results.Results object with attributes:\n",
              " \n",
              " boxes: ultralytics.engine.results.Boxes object\n",
              " keypoints: None\n",
              " masks: None\n",
              " names: {0: 'car_plate'}\n",
              " orig_img: array([[[234, 167, 106],\n",
              "         [238, 171, 110],\n",
              "         [237, 172, 111],\n",
              "         ...,\n",
              "         [255, 236, 198],\n",
              "         [255, 237, 199],\n",
              "         [255, 237, 199]],\n",
              " \n",
              "        [[234, 167, 106],\n",
              "         [238, 171, 110],\n",
              "         [237, 172, 111],\n",
              "         ...,\n",
              "         [255, 236, 198],\n",
              "         [255, 237, 199],\n",
              "         [255, 237, 199]],\n",
              " \n",
              "        [[235, 168, 107],\n",
              "         [238, 171, 110],\n",
              "         [237, 172, 111],\n",
              "         ...,\n",
              "         [255, 237, 199],\n",
              "         [255, 237, 199],\n",
              "         [255, 237, 199]],\n",
              " \n",
              "        ...,\n",
              " \n",
              "        [[245, 243, 243],\n",
              "         [245, 243, 243],\n",
              "         [245, 243, 243],\n",
              "         ...,\n",
              "         [229, 225, 224],\n",
              "         [231, 227, 226],\n",
              "         [231, 227, 226]],\n",
              " \n",
              "        [[244, 242, 242],\n",
              "         [244, 242, 242],\n",
              "         [244, 242, 242],\n",
              "         ...,\n",
              "         [235, 231, 230],\n",
              "         [234, 230, 229],\n",
              "         [234, 230, 229]],\n",
              " \n",
              "        [[245, 243, 243],\n",
              "         [245, 243, 243],\n",
              "         [245, 243, 243],\n",
              "         ...,\n",
              "         [234, 230, 229],\n",
              "         [234, 230, 229],\n",
              "         [234, 230, 229]]], dtype=uint8)\n",
              " orig_shape: (800, 1066)\n",
              " path: '/content/drive/MyDrive/ML_Ass10/datasets/pred/images/vehicle with license plate_30.jpeg'\n",
              " probs: None\n",
              " save_dir: 'runs/detect/predict'\n",
              " speed: {'preprocess': 4.6520233154296875, 'inference': 196.00391387939453, 'postprocess': 0.9393692016601562}]"
            ]
          },
          "execution_count": 8,
          "metadata": {},
          "output_type": "execute_result"
        }
      ],
      "source": [
        "# ! pip install ultralytics\n",
        "\n",
        "from ultralytics import YOLO\n",
        "from pathlib import Path\n",
        "\n",
        "CAR_PLATE_MODEL_PATH = \"./runs/detect/train/weights/best.pt\"\n",
        "PRED_IMAGE_PATH = Path(\".\", \"datasets\", \"pred\", \"images\").absolute().as_posix()\n",
        "\n",
        "# Load a model\n",
        "car_plate_model = YOLO(CAR_PLATE_MODEL_PATH)  # pretrained YOLOv8n model\n",
        "\n",
        "car_plate_model.predict(PRED_IMAGE_PATH, save=True, conf=0.5)"
      ]
    },
    {
      "cell_type": "markdown",
      "id": "1IQ5Sb_xiiiW",
      "metadata": {
        "id": "1IQ5Sb_xiiiW"
      },
      "source": [
        "---"
      ]
    },
    {
      "cell_type": "markdown",
      "id": "328abc99",
      "metadata": {
        "id": "328abc99"
      },
      "source": [
        "# Appendix: Pipeline\n",
        "\n",
        "```py\n",
        "# Define functions for data processing\n",
        "!pip install ultralytics\n",
        "\n",
        "import os\n",
        "import shutil\n",
        "from pathlib import Path\n",
        "from sklearn.model_selection import train_test_split\n",
        "import yaml\n",
        "from ultralytics import YOLO\n",
        "\n",
        "# region Arguements\n",
        "\n",
        "ROOT_DIR = Path().resolve()  # Root path\n",
        "\n",
        "LABEL_IMAGE_PATH = Path(ROOT_DIR, \"data_label_image\")\n",
        "DATASET_PATH = Path(ROOT_DIR, \"datasets\")\n",
        "TRAIN_DS_PATH = Path(DATASET_PATH, \"train\")\n",
        "VAL_DS_PATH = Path(DATASET_PATH, \"val\")\n",
        "PRED_DS_PATH = Path(DATASET_PATH, \"pred\")\n",
        "\n",
        "TEST_SIZE = 0.15  # % of test size\n",
        "VAL_SIZE = 0.15  # % of test size\n",
        "\n",
        "YAML_PATH = \"datasets/config.yaml\"\n",
        "BASE_MODEL = \"./model/base/yolov8n.pt\"\n",
        "\n",
        "LABEL_NAME = \"car_plate\"\n",
        "\n",
        "# endregion\n",
        "\n",
        "# region Supporting Functions\n",
        "\n",
        "\n",
        "def create_datasets_dir(dir):\n",
        "    '''Create train and test directories'''\n",
        "\n",
        "    if os.path.isdir(dir):\n",
        "        shutil.rmtree(dir)\n",
        "\n",
        "    Path(dir).mkdir(parents=True, exist_ok=True)\n",
        "\n",
        "    train_path = Path(dir, \"train\")\n",
        "    train_image_path = Path(train_path, \"images\")\n",
        "    train_labels_path = Path(train_path, \"labels\")\n",
        "\n",
        "    Path(train_path).mkdir(parents=True, exist_ok=True)\n",
        "    Path(train_image_path).mkdir(parents=True, exist_ok=True)\n",
        "    Path(train_labels_path).mkdir(parents=True, exist_ok=True)\n",
        "\n",
        "    test_path = Path(dir, \"test\")\n",
        "    test_image_path = Path(test_path, \"images\")\n",
        "    test_labels_path = Path(test_path, \"labels\")\n",
        "\n",
        "    Path(test_path).mkdir(parents=True, exist_ok=True)\n",
        "    Path(test_image_path).mkdir(parents=True, exist_ok=True)\n",
        "    Path(test_labels_path).mkdir(parents=True, exist_ok=True)\n",
        "\n",
        "    test_path = Path(dir, \"val\")\n",
        "    test_image_path = Path(test_path, \"images\")\n",
        "    test_labels_path = Path(test_path, \"labels\")\n",
        "\n",
        "    Path(test_path).mkdir(parents=True, exist_ok=True)\n",
        "    Path(test_image_path).mkdir(parents=True, exist_ok=True)\n",
        "    Path(test_labels_path).mkdir(parents=True, exist_ok=True)\n",
        "\n",
        "\n",
        "def copy_files(source_fn_list, source_path,  target_path):\n",
        "    '''Copy selected file list to destination'''\n",
        "\n",
        "    image_path = Path(target_path, \"images\")\n",
        "    labels_path = Path(target_path, \"labels\")\n",
        "    for fn in source_fn_list:\n",
        "        # if the csv file exists\n",
        "        if Path(source_path, fn+\".txt\").is_file() and Path(source_path, fn+\".jpeg\").is_file():\n",
        "            shutil.copy(Path(source_path, fn+\".jpeg\"), image_path)\n",
        "            shutil.copy(Path(source_path, fn+\".txt\"), labels_path)\n",
        "\n",
        "\n",
        "def report_info(target_path):\n",
        "    '''report files in path'''\n",
        "    report = {\n",
        "        \"images\": {\"path\": Path(target_path, \"images\"), \"count\": 0},\n",
        "        \"labels\": {\"path\": Path(target_path, \"labels\"), \"count\": 0},\n",
        "    }\n",
        "\n",
        "    for file in os.listdir(Path(target_path, \"labels\")):\n",
        "        if file.endswith(\".txt\"):\n",
        "            report['labels'][\"count\"] += 1\n",
        "\n",
        "    for file in os.listdir(Path(target_path, \"images\")):\n",
        "        if file.endswith(\".jpeg\"):\n",
        "            report[\"images\"][\"count\"] += 1\n",
        "\n",
        "    return report\n",
        "\n",
        "\n",
        "def clear_runr_dir(dir):\n",
        "    # Clean left over runs dir\n",
        "    if os.path.isdir(dir):\n",
        "        shutil.rmtree(\"./runs\")\n",
        "\n",
        "# endregion\n",
        "\n",
        "# region Main()\n",
        "\n",
        "\n",
        "def main():\n",
        "\n",
        "    # establish datasets directory\n",
        "    create_datasets_dir(DATASET_PATH)\n",
        "\n",
        "    # get unique list of file\n",
        "    fn_list = os.listdir(LABEL_IMAGE_PATH)\n",
        "    fn_unique_list = list(set([\"\".join(fn.split(\".\")[:-1]) for fn in fn_list]))\n",
        "\n",
        "    # split train, val, and pred dataset\n",
        "    fn_train, fn_val_pred = train_test_split(\n",
        "        fn_unique_list, test_size=VAL_SIZE+PRED_SIZE, random_state=42)    # get train set, with test_size = val+pred\n",
        "\n",
        "    fn_val, fn_pred = train_test_split(\n",
        "        fn_val_pred, test_size=PRED_SIZE/(PRED_SIZE+VAL_SIZE), random_state=42)    # get val and pred set, with test_size = pred/val+pred\n",
        "\n",
        "    # # clone files to destination\n",
        "    copy_files(fn_train, LABEL_IMAGE_PATH,  TRAIN_DS_PATH)\n",
        "    copy_files(fn_val, LABEL_IMAGE_PATH,  VAL_DS_PATH)\n",
        "    copy_files(fn_pred, LABEL_IMAGE_PATH,  PRED_DS_PATH)\n",
        "\n",
        "    # train_report\n",
        "    train_report = report_info(TRAIN_DS_PATH)\n",
        "    print(\n",
        "        f\"\\nReport: Train Dataset\\nImages Path: {train_report['images']['path']}\\nImages Count: {train_report['images']['count']}\\nLabel Path: {train_report['labels']['path']}\\nLabels Count: {train_report['labels']['count']}\")\n",
        "\n",
        "    # val_report\n",
        "    val_report = report_info(VAL_DS_PATH)\n",
        "    print(\n",
        "        f\"\\nReport: Val Dataset\\nImages Path: {val_report['images']['path']}\\nImages Count: {val_report['images']['count']}\\nLabel Path: {val_report['labels']['path']}\\nLabels Count: {val_report['labels']['count']}\")\n",
        "\n",
        "    # pred_report\n",
        "    pred_report = report_info(PRED_DS_PATH)\n",
        "    print(\n",
        "        f\"\\nReport: Pred Dataset\\nImages Path: {pred_report['images']['path']}\\nImages Count: {pred_report['images']['count']}\\nLabel Path: {pred_report['labels']['path']}\\nLabels Count: {pred_report['labels']['count']}\")\n",
        "\n",
        "    clear_runr_dir(\"./runs\")\n",
        "\n",
        "    # create yaml file\n",
        "    data = dict(\n",
        "        train=Path(TRAIN_DS_PATH, \"images\").absolute().as_posix(),\n",
        "        val=Path(TRAIN_DS_PATH, \"images\").absolute().as_posix(),\n",
        "        names={0: LABEL_NAME}\n",
        "    )\n",
        "\n",
        "    with open(YAML_PATH, 'w') as outfile:\n",
        "        yaml.dump(data, outfile, default_flow_style=False)\n",
        "\n",
        "    # Define model object from default v8n model\n",
        "    car_plate_model = YOLO(BASE_MODEL)\n",
        "    car_plate_model.train(data=YAML_PATH)    # Train Yolo model\n",
        "\n",
        "# endregion\n",
        "\n",
        "if __name__ == \"__main__\":\n",
        "    main()\n",
        "```"
      ]
    }
  ],
  "metadata": {
    "accelerator": "GPU",
    "colab": {
      "gpuType": "T4",
      "provenance": []
    },
    "kernelspec": {
      "display_name": "Python 3",
      "name": "python3"
    },
    "language_info": {
      "codemirror_mode": {
        "name": "ipython",
        "version": 3
      },
      "file_extension": ".py",
      "mimetype": "text/x-python",
      "name": "python",
      "nbconvert_exporter": "python",
      "pygments_lexer": "ipython3",
      "version": "3.11.5"
    }
  },
  "nbformat": 4,
  "nbformat_minor": 5
}
