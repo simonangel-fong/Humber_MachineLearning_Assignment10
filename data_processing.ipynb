{
 "cells": [
  {
   "cell_type": "markdown",
   "metadata": {},
   "source": [
    "## Label Image\n",
    "\n",
    "- Windows OS CLI\n",
    "\n",
    "```sh\n",
    "labelImg\n",
    "```\n"
   ]
  },
  {
   "cell_type": "markdown",
   "metadata": {},
   "source": [
    "## Data Processing"
   ]
  },
  {
   "cell_type": "code",
   "execution_count": 35,
   "metadata": {},
   "outputs": [
    {
     "name": "stdout",
     "output_type": "stream",
     "text": [
      "c:\\Users\\simon\\iCloudDrive\\Documents\\Github\\ITE-5310-Machine-Learning-Assignment10\n",
      "c:\\Users\\simon\\iCloudDrive\\Documents\\Github\\ITE-5310-Machine-Learning-Assignment10\\data_label_image\n",
      "c:\\Users\\simon\\iCloudDrive\\Documents\\Github\\ITE-5310-Machine-Learning-Assignment10\\dataset\n",
      "c:\\Users\\simon\\iCloudDrive\\Documents\\Github\\ITE-5310-Machine-Learning-Assignment10\\dataset\\train\n",
      "c:\\Users\\simon\\iCloudDrive\\Documents\\Github\\ITE-5310-Machine-Learning-Assignment10\\dataset\\test\n"
     ]
    }
   ],
   "source": [
    "# Define constants\n",
    "import os\n",
    "from pathlib import Path\n",
    "ROOT_DIR = os. getcwd()\n",
    "\n",
    "LABEL_IMAGE_PATH = Path(ROOT_DIR, \"data_label_image\")\n",
    "DATASET_PATH = Path(ROOT_DIR, \"dataset\")\n",
    "TRAIN_DS_PATH = Path(DATASET_PATH, \"train\")\n",
    "TEST_DS_PATH = Path(DATASET_PATH, \"test\")\n",
    "\n",
    "print(ROOT_DIR)\n",
    "print(LABEL_IMAGE_PATH)\n",
    "print(DATASET_PATH)\n",
    "print(TRAIN_DS_PATH)\n",
    "print(TEST_DS_PATH)\n",
    "\n",
    "\n",
    "TEST_SIZE = 0.2"
   ]
  },
  {
   "cell_type": "code",
   "execution_count": 36,
   "metadata": {},
   "outputs": [],
   "source": [
    "import random\n",
    "import string\n",
    "import os\n",
    "from pathlib import Path\n",
    "import shutil\n",
    "from sklearn.model_selection import train_test_split\n",
    "\n",
    "\n",
    "# region Supporting Functions\n",
    "\n",
    "\n",
    "def rand_str(str_len=5):\n",
    "    ''' create random alphanumeric string of a specific length '''\n",
    "    return ''.join(random.choices(\n",
    "        string.ascii_letters + string.digits, k=str_len))\n",
    "\n",
    "\n",
    "def rand_file_name(dir, size=5):\n",
    "    ''' Randomize all file names within a specifc directory '''\n",
    "    for old_file_name in os.listdir(dir):\n",
    "\n",
    "        new_filen_name = \"\".join(\n",
    "            [rand_str(size), \".\", \"\".join(old_file_name.split(\".\")[-1])])\n",
    "        old_file_path = Path(dir, old_file_name)\n",
    "        new_filen_path = Path(dir, new_filen_name)\n",
    "        os.rename(old_file_path, new_filen_path)\n",
    "\n",
    "\n",
    "def create_train_test_dir(dir):\n",
    "    '''Create train and test directories'''\n",
    "\n",
    "    # if ds dir exits\n",
    "    if not os.path.isdir(dir):\n",
    "        os.mkdir(dir)\n",
    "\n",
    "    # if train dir exists\n",
    "    train_path = Path(dir, \"train\")\n",
    "    if os.path.isdir(train_path):\n",
    "        shutil.rmtree(train_path)\n",
    "\n",
    "    # if test dir exists\n",
    "    test_path = Path(dir, \"test\")\n",
    "    if os.path.isdir(test_path):\n",
    "        shutil.rmtree(test_path)\n",
    "\n",
    "    os.mkdir(train_path)\n",
    "    os.mkdir(test_path)\n",
    "\n",
    "\n",
    "def copy_files_list(source_path, source_fn_list, target_path):\n",
    "    '''Copy selected file list to destination'''\n",
    "    for fn in source_fn_list:\n",
    "        # if the csv file exists\n",
    "        if Path(source_path, fn+\".txt\").is_file() and Path(source_path, fn+\".jpeg\").is_file():\n",
    "            shutil.copy(Path(source_path, fn+\".jpeg\"), target_path)\n",
    "            shutil.copy(Path(source_path, fn+\".txt\"), target_path)\n",
    "\n",
    "\n",
    "def data_info(name, target_path):\n",
    "    '''report files in path'''\n",
    "    report = {\n",
    "        \"path\": target_path.absolute().as_posix(),\n",
    "        \"name\": name\n",
    "    }\n",
    "\n",
    "    for file in os.listdir(target_path):\n",
    "        if file.endswith(\".txt\"):\n",
    "            if \"txt\" in report:\n",
    "                report[\"txt\"] += 1\n",
    "            else:\n",
    "                report[\"txt\"] = 1\n",
    "        if file.endswith(\".jpeg\"):\n",
    "            if \"jpeg\" in report:\n",
    "                report[\"jpeg\"] += 1\n",
    "            else:\n",
    "                report[\"jpeg\"] = 1\n",
    "\n",
    "    return report\n",
    "\n",
    "# endregion\n",
    "\n",
    "\n",
    "def split_processing(source_path, target_path, test_size):\n",
    "    '''ELT images from source path to target path'''\n",
    "    create_train_test_dir(target_path)\n",
    "\n",
    "    # get list of file\n",
    "    fn_list = os.listdir(source_path)\n",
    "    fn_unique_list = list(set([\"\".join(fn.split(\".\")[:-1]) for fn in fn_list]))\n",
    "\n",
    "    # split\n",
    "    fn_train, fn_test = train_test_split(\n",
    "        fn_unique_list, test_size=test_size, random_state=42)\n",
    "\n",
    "    # clone files to destination\n",
    "    copy_files_list(source_path, fn_train, Path(target_path, \"train\"))\n",
    "    copy_files_list(source_path, fn_test, Path(target_path, \"test\"))\n",
    "\n",
    "    # train_report\n",
    "    train_report = data_info(\"Train\", Path(DATASET_PATH, \"train\"))\n",
    "    print(\n",
    "        f\"{train_report['name']}\\nJPEG Count: {train_report['jpeg']}\\nTXT Count: {train_report['txt']}\")\n",
    "\n",
    "    # test_report\n",
    "    test_report = data_info(\"Test\", Path(DATASET_PATH, \"test\"))\n",
    "    print(\n",
    "        f\"{test_report['name']}\\nJPEG Count: {test_report['jpeg']}\\nTXT Count: {test_report['txt']}\")"
   ]
  },
  {
   "cell_type": "code",
   "execution_count": 37,
   "metadata": {},
   "outputs": [
    {
     "name": "stdout",
     "output_type": "stream",
     "text": [
      "Train\n",
      "JPEG Count: 434\n",
      "TXT Count: 434\n",
      "Test\n",
      "JPEG Count: 109\n",
      "TXT Count: 109\n"
     ]
    }
   ],
   "source": [
    "# create_train_test_dir(DATASET_PATH)\n",
    "\n",
    "split_processing(LABEL_IMAGE_PATH, DATASET_PATH, TEST_SIZE)"
   ]
  },
  {
   "cell_type": "markdown",
   "metadata": {},
   "source": [
    "## "
   ]
  }
 ],
 "metadata": {
  "kernelspec": {
   "display_name": "winenv",
   "language": "python",
   "name": "python3"
  },
  "language_info": {
   "codemirror_mode": {
    "name": "ipython",
    "version": 3
   },
   "file_extension": ".py",
   "mimetype": "text/x-python",
   "name": "python",
   "nbconvert_exporter": "python",
   "pygments_lexer": "ipython3",
   "version": "3.9.13"
  }
 },
 "nbformat": 4,
 "nbformat_minor": 2
}
